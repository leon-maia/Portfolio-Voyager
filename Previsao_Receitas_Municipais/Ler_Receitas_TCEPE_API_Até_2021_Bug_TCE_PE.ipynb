{
  "nbformat": 4,
  "nbformat_minor": 0,
  "metadata": {
    "colab": {
      "name": "Ler Receitas TCEPE API Até 2021 Bug TCE PE.ipynb",
      "provenance": [],
      "collapsed_sections": [
        "iKIL18etC5ft",
        "bFrteKsRDYe7",
        "lY8_LrO0EVI0",
        "-Gt_LmN0upxw"
      ]
    },
    "kernelspec": {
      "name": "python3",
      "display_name": "Python 3"
    },
    "language_info": {
      "name": "python"
    }
  },
  "cells": [
    {
      "cell_type": "markdown",
      "source": [
        "# Etapa 00 - Leitura das Bibliotecas utilizadas no projeto"
      ],
      "metadata": {
        "id": "N63Flp6ADDYp"
      }
    },
    {
      "cell_type": "code",
      "execution_count": 36,
      "metadata": {
        "id": "N_soyttwUcR5"
      },
      "outputs": [],
      "source": [
        "# Análise e tratamento de dados\n",
        "import pandas as pd\n",
        "import numpy as np\n",
        "import json\n",
        "\n",
        "# Requisição via API\n",
        "import requests\n",
        "from requests.adapters import HTTPAdapter\n",
        "from requests.packages.urllib3.util.retry import Retry\n",
        "\n",
        "# Banco de dados\n",
        "import sqlite3\n",
        "\n",
        "# Visualização dos dados\n",
        "import matplotlib.pyplot as plt\n",
        "import seaborn as sns\n",
        "\n",
        "# Séries Temporais\n",
        "from statsmodels.tsa.seasonal import seasonal_decompose\n",
        "from statsmodels.tsa.holtwinters import SimpleExpSmoothing\n",
        "from statsmodels.tsa.holtwinters import Holt\n",
        "from statsmodels.tsa.holtwinters import ExponentialSmoothing\n",
        "\n",
        "\n",
        "# Regressão Linear\n",
        "from sklearn.model_selection import train_test_split\n",
        "from sklearn.linear_model import LinearRegression"
      ]
    },
    {
      "cell_type": "markdown",
      "source": [
        "# Etapa 01 - Acessar dados sobre a Receita Municipal"
      ],
      "metadata": {
        "id": "iKIL18etC5ft"
      }
    },
    {
      "cell_type": "markdown",
      "source": [
        "## Requisitar dados do site do Tribunal de Contas do Estado de Pernambuco"
      ],
      "metadata": {
        "id": "bFrteKsRDYe7"
      }
    },
    {
      "cell_type": "code",
      "source": [
        "# Obs: etapa inicial, preparatória e necessária para não ter dificuldades com requisições ao site do TCE-PE\n",
        "\n",
        "session = requests.Session()\n",
        "retry = Retry(connect=5, backoff_factor=0.5)\n",
        "adapter = HTTPAdapter(max_retries=retry)\n",
        "session.mount('http://', adapter)\n",
        "session.mount('https://', adapter)"
      ],
      "metadata": {
        "id": "76QKgGQlV-zM"
      },
      "execution_count": null,
      "outputs": []
    },
    {
      "cell_type": "code",
      "source": [
        "# Solicita dados do site do TCE-PE via API\n",
        "exercicios = ['2012', '2013', '2014', '2015', '2016', '2017', '2018', '2019', '2020', '2021']\n",
        "dicionario = {}\n",
        "base_dados = []\n",
        "base_dados_temp = []\n",
        "for i, ano in enumerate(exercicios):\n",
        "  url = 'https://sistemas.tce.pe.gov.br/DadosAbertos/ReceitasMunicipais!json?ANOREFERENCIA=%s&ID_UNIDADE_GESTORA=319' % (ano)\n",
        "  resposta = session.get(url, stream=True)\n",
        "  if i == 0:\n",
        "    dicionario = json.loads(resposta.text)\n",
        "    base_dados = pd.DataFrame.from_dict(data=dicionario['resposta']['conteudo'])\n",
        "    print('Ano {} concluído.'.format(ano))\n",
        "    print(f'Ano {ano}: {base_dados.shape[0]} linhas carregadas.')\n",
        "  else:\n",
        "    dicionario = json.loads(resposta.text)\n",
        "    base_dados_temp = pd.DataFrame.from_dict(data=dicionario['resposta']['conteudo'])\n",
        "    print('Ano {} concluído.'.format(ano))\n",
        "    print('\\n')\n",
        "    print(f'Ano {ano}: {base_dados_temp.shape[0]} linhas carregadas.')\n",
        "    base_dados = pd.concat([base_dados, base_dados_temp])\n",
        "    print(f'Total: {base_dados.shape[0]} linhas carregadas.')\n",
        "    "
      ],
      "metadata": {
        "id": "CZxbMqeOGa-y",
        "colab": {
          "base_uri": "https://localhost:8080/"
        },
        "outputId": "85212caa-c6b0-4f0d-ca2a-5dea6f9f7662"
      },
      "execution_count": null,
      "outputs": [
        {
          "output_type": "stream",
          "name": "stdout",
          "text": [
            "Ano 2012 concluído.\n",
            "Ano 2012: 924 linhas carregadas.\n",
            "Ano 2013 concluído.\n",
            "\n",
            "\n",
            "Ano 2013: 972 linhas carregadas.\n",
            "Total: 1896 linhas carregadas.\n",
            "Ano 2014 concluído.\n",
            "\n",
            "\n",
            "Ano 2014: 1011 linhas carregadas.\n",
            "Total: 2907 linhas carregadas.\n",
            "Ano 2015 concluído.\n",
            "\n",
            "\n",
            "Ano 2015: 1248 linhas carregadas.\n",
            "Total: 4155 linhas carregadas.\n",
            "Ano 2016 concluído.\n",
            "\n",
            "\n",
            "Ano 2016: 1376 linhas carregadas.\n",
            "Total: 5531 linhas carregadas.\n",
            "Ano 2017 concluído.\n",
            "\n",
            "\n",
            "Ano 2017: 1305 linhas carregadas.\n",
            "Total: 6836 linhas carregadas.\n",
            "Ano 2018 concluído.\n",
            "\n",
            "\n",
            "Ano 2018: 1347 linhas carregadas.\n",
            "Total: 8183 linhas carregadas.\n",
            "Ano 2019 concluído.\n",
            "\n",
            "\n",
            "Ano 2019: 1428 linhas carregadas.\n",
            "Total: 9611 linhas carregadas.\n",
            "Ano 2020 concluído.\n",
            "\n",
            "\n",
            "Ano 2020: 1892 linhas carregadas.\n",
            "Total: 11503 linhas carregadas.\n",
            "Ano 2021 concluído.\n",
            "\n",
            "\n",
            "Ano 2021: 1902 linhas carregadas.\n",
            "Total: 13405 linhas carregadas.\n",
            "Ano 2022 concluído.\n",
            "\n",
            "\n",
            "Ano 2022: 1001 linhas carregadas.\n",
            "Total: 14406 linhas carregadas.\n"
          ]
        }
      ]
    },
    {
      "cell_type": "markdown",
      "source": [
        "## Análise e Tratamento dos dados requisitados"
      ],
      "metadata": {
        "id": "lY8_LrO0EVI0"
      }
    },
    {
      "cell_type": "code",
      "source": [
        "base_dados.shape"
      ],
      "metadata": {
        "colab": {
          "base_uri": "https://localhost:8080/"
        },
        "id": "DEFGVYGtcOak",
        "outputId": "9232dc6b-3721-4b69-faf5-9c92bdd7a554"
      },
      "execution_count": null,
      "outputs": [
        {
          "output_type": "execute_result",
          "data": {
            "text/plain": [
              "(14406, 12)"
            ]
          },
          "metadata": {},
          "execution_count": 4
        }
      ]
    },
    {
      "cell_type": "code",
      "source": [
        "base_dados.columns"
      ],
      "metadata": {
        "colab": {
          "base_uri": "https://localhost:8080/"
        },
        "id": "E_v9DjADHhCm",
        "outputId": "469ae672-6c79-4869-c48f-ce2d23770f8b"
      },
      "execution_count": null,
      "outputs": [
        {
          "output_type": "execute_result",
          "data": {
            "text/plain": [
              "Index(['ID_UNIDADE_GESTORA', 'NUMERORECEITAORCAMENTARIAUG', 'DESCRICAO',\n",
              "       'CATEGORIARECEITA', 'ANOREFERENCIA', 'MESREFERENCIA', 'VALORLANCAMENTO',\n",
              "       'ESFERA', 'ORIGEMRECEITA', 'DEDUCAORECEITA', 'ESPECIERECEITA',\n",
              "       'DESCRICAOFONTE'],\n",
              "      dtype='object')"
            ]
          },
          "metadata": {},
          "execution_count": 5
        }
      ]
    },
    {
      "cell_type": "code",
      "source": [
        "base_dados = base_dados.reset_index()"
      ],
      "metadata": {
        "id": "yH80iiuuHIHB"
      },
      "execution_count": null,
      "outputs": []
    },
    {
      "cell_type": "code",
      "source": [
        "base_dados = base_dados.drop(labels='index', axis=1)"
      ],
      "metadata": {
        "id": "bRh4A9cCHTw6"
      },
      "execution_count": null,
      "outputs": []
    },
    {
      "cell_type": "code",
      "source": [
        "base_dados['COMPETENCIA'] = pd.to_datetime({'year': base_dados['ANOREFERENCIA'], 'month': base_dados['MESREFERENCIA'], 'day': 1}, format=\"%m/%Y\")"
      ],
      "metadata": {
        "id": "ia9YSr6AHYk2"
      },
      "execution_count": null,
      "outputs": []
    },
    {
      "cell_type": "code",
      "source": [
        "base_dados.info()"
      ],
      "metadata": {
        "colab": {
          "base_uri": "https://localhost:8080/"
        },
        "id": "bXeYAdUoHYoQ",
        "outputId": "09b14bbc-a21f-4ff2-a433-994c4208e1d6"
      },
      "execution_count": null,
      "outputs": [
        {
          "output_type": "stream",
          "name": "stdout",
          "text": [
            "<class 'pandas.core.frame.DataFrame'>\n",
            "RangeIndex: 14406 entries, 0 to 14405\n",
            "Data columns (total 13 columns):\n",
            " #   Column                       Non-Null Count  Dtype         \n",
            "---  ------                       --------------  -----         \n",
            " 0   ID_UNIDADE_GESTORA           14406 non-null  object        \n",
            " 1   NUMERORECEITAORCAMENTARIAUG  14404 non-null  object        \n",
            " 2   DESCRICAO                    14404 non-null  object        \n",
            " 3   CATEGORIARECEITA             14406 non-null  object        \n",
            " 4   ANOREFERENCIA                14406 non-null  object        \n",
            " 5   MESREFERENCIA                14406 non-null  object        \n",
            " 6   VALORLANCAMENTO              14406 non-null  object        \n",
            " 7   ESFERA                       14406 non-null  object        \n",
            " 8   ORIGEMRECEITA                14404 non-null  object        \n",
            " 9   DEDUCAORECEITA               14406 non-null  object        \n",
            " 10  ESPECIERECEITA               13005 non-null  object        \n",
            " 11  DESCRICAOFONTE               12510 non-null  object        \n",
            " 12  COMPETENCIA                  14406 non-null  datetime64[ns]\n",
            "dtypes: datetime64[ns](1), object(12)\n",
            "memory usage: 1.4+ MB\n"
          ]
        }
      ]
    },
    {
      "cell_type": "code",
      "source": [
        "base_dados.head()"
      ],
      "metadata": {
        "colab": {
          "base_uri": "https://localhost:8080/",
          "height": 617
        },
        "id": "NQR8b4UELCRB",
        "outputId": "7da4f55c-9349-4bb8-cbb7-6809c522236b"
      },
      "execution_count": null,
      "outputs": [
        {
          "output_type": "execute_result",
          "data": {
            "text/plain": [
              "  ID_UNIDADE_GESTORA NUMERORECEITAORCAMENTARIAUG  \\\n",
              "0                319                   917220101   \n",
              "1                319                   917220102   \n",
              "2                319                   917220102   \n",
              "3                319                   917220102   \n",
              "4                319                   917220101   \n",
              "\n",
              "                                DESCRICAO     CATEGORIARECEITA ANOREFERENCIA  \\\n",
              "0  Dedução de Cota-Parte do ICMS - FUNDEB  Dedução de Receitas          2012   \n",
              "1  Dedução de Cota-Parte do IPVA - FUNDEB  Dedução de Receitas          2012   \n",
              "2  Dedução de Cota-Parte do IPVA - FUNDEB  Dedução de Receitas          2012   \n",
              "3  Dedução de Cota-Parte do IPVA - FUNDEB  Dedução de Receitas          2012   \n",
              "4  Dedução de Cota-Parte do ICMS - FUNDEB  Dedução de Receitas          2012   \n",
              "\n",
              "  MESREFERENCIA VALORLANCAMENTO ESFERA      ORIGEMRECEITA DEDUCAORECEITA  \\\n",
              "0             3     -3377520.83      M  Alienação de Bens              9   \n",
              "1             3     -1873826.21      M  Alienação de Bens              9   \n",
              "2             5       -12653.68      M  Alienação de Bens              9   \n",
              "3             6      -177813.32      M  Alienação de Bens              9   \n",
              "4             7     -4094020.44      M  Alienação de Bens              9   \n",
              "\n",
              "  ESPECIERECEITA DESCRICAOFONTE COMPETENCIA  \n",
              "0            NaN            NaN  2012-03-01  \n",
              "1            NaN            NaN  2012-03-01  \n",
              "2            NaN            NaN  2012-05-01  \n",
              "3            NaN            NaN  2012-06-01  \n",
              "4            NaN            NaN  2012-07-01  "
            ],
            "text/html": [
              "\n",
              "  <div id=\"df-9dfe8ba1-a0bf-4013-b79b-d04d2f94af0d\">\n",
              "    <div class=\"colab-df-container\">\n",
              "      <div>\n",
              "<style scoped>\n",
              "    .dataframe tbody tr th:only-of-type {\n",
              "        vertical-align: middle;\n",
              "    }\n",
              "\n",
              "    .dataframe tbody tr th {\n",
              "        vertical-align: top;\n",
              "    }\n",
              "\n",
              "    .dataframe thead th {\n",
              "        text-align: right;\n",
              "    }\n",
              "</style>\n",
              "<table border=\"1\" class=\"dataframe\">\n",
              "  <thead>\n",
              "    <tr style=\"text-align: right;\">\n",
              "      <th></th>\n",
              "      <th>ID_UNIDADE_GESTORA</th>\n",
              "      <th>NUMERORECEITAORCAMENTARIAUG</th>\n",
              "      <th>DESCRICAO</th>\n",
              "      <th>CATEGORIARECEITA</th>\n",
              "      <th>ANOREFERENCIA</th>\n",
              "      <th>MESREFERENCIA</th>\n",
              "      <th>VALORLANCAMENTO</th>\n",
              "      <th>ESFERA</th>\n",
              "      <th>ORIGEMRECEITA</th>\n",
              "      <th>DEDUCAORECEITA</th>\n",
              "      <th>ESPECIERECEITA</th>\n",
              "      <th>DESCRICAOFONTE</th>\n",
              "      <th>COMPETENCIA</th>\n",
              "    </tr>\n",
              "  </thead>\n",
              "  <tbody>\n",
              "    <tr>\n",
              "      <th>0</th>\n",
              "      <td>319</td>\n",
              "      <td>917220101</td>\n",
              "      <td>Dedução de Cota-Parte do ICMS - FUNDEB</td>\n",
              "      <td>Dedução de Receitas</td>\n",
              "      <td>2012</td>\n",
              "      <td>3</td>\n",
              "      <td>-3377520.83</td>\n",
              "      <td>M</td>\n",
              "      <td>Alienação de Bens</td>\n",
              "      <td>9</td>\n",
              "      <td>NaN</td>\n",
              "      <td>NaN</td>\n",
              "      <td>2012-03-01</td>\n",
              "    </tr>\n",
              "    <tr>\n",
              "      <th>1</th>\n",
              "      <td>319</td>\n",
              "      <td>917220102</td>\n",
              "      <td>Dedução de Cota-Parte do IPVA - FUNDEB</td>\n",
              "      <td>Dedução de Receitas</td>\n",
              "      <td>2012</td>\n",
              "      <td>3</td>\n",
              "      <td>-1873826.21</td>\n",
              "      <td>M</td>\n",
              "      <td>Alienação de Bens</td>\n",
              "      <td>9</td>\n",
              "      <td>NaN</td>\n",
              "      <td>NaN</td>\n",
              "      <td>2012-03-01</td>\n",
              "    </tr>\n",
              "    <tr>\n",
              "      <th>2</th>\n",
              "      <td>319</td>\n",
              "      <td>917220102</td>\n",
              "      <td>Dedução de Cota-Parte do IPVA - FUNDEB</td>\n",
              "      <td>Dedução de Receitas</td>\n",
              "      <td>2012</td>\n",
              "      <td>5</td>\n",
              "      <td>-12653.68</td>\n",
              "      <td>M</td>\n",
              "      <td>Alienação de Bens</td>\n",
              "      <td>9</td>\n",
              "      <td>NaN</td>\n",
              "      <td>NaN</td>\n",
              "      <td>2012-05-01</td>\n",
              "    </tr>\n",
              "    <tr>\n",
              "      <th>3</th>\n",
              "      <td>319</td>\n",
              "      <td>917220102</td>\n",
              "      <td>Dedução de Cota-Parte do IPVA - FUNDEB</td>\n",
              "      <td>Dedução de Receitas</td>\n",
              "      <td>2012</td>\n",
              "      <td>6</td>\n",
              "      <td>-177813.32</td>\n",
              "      <td>M</td>\n",
              "      <td>Alienação de Bens</td>\n",
              "      <td>9</td>\n",
              "      <td>NaN</td>\n",
              "      <td>NaN</td>\n",
              "      <td>2012-06-01</td>\n",
              "    </tr>\n",
              "    <tr>\n",
              "      <th>4</th>\n",
              "      <td>319</td>\n",
              "      <td>917220101</td>\n",
              "      <td>Dedução de Cota-Parte do ICMS - FUNDEB</td>\n",
              "      <td>Dedução de Receitas</td>\n",
              "      <td>2012</td>\n",
              "      <td>7</td>\n",
              "      <td>-4094020.44</td>\n",
              "      <td>M</td>\n",
              "      <td>Alienação de Bens</td>\n",
              "      <td>9</td>\n",
              "      <td>NaN</td>\n",
              "      <td>NaN</td>\n",
              "      <td>2012-07-01</td>\n",
              "    </tr>\n",
              "  </tbody>\n",
              "</table>\n",
              "</div>\n",
              "      <button class=\"colab-df-convert\" onclick=\"convertToInteractive('df-9dfe8ba1-a0bf-4013-b79b-d04d2f94af0d')\"\n",
              "              title=\"Convert this dataframe to an interactive table.\"\n",
              "              style=\"display:none;\">\n",
              "        \n",
              "  <svg xmlns=\"http://www.w3.org/2000/svg\" height=\"24px\"viewBox=\"0 0 24 24\"\n",
              "       width=\"24px\">\n",
              "    <path d=\"M0 0h24v24H0V0z\" fill=\"none\"/>\n",
              "    <path d=\"M18.56 5.44l.94 2.06.94-2.06 2.06-.94-2.06-.94-.94-2.06-.94 2.06-2.06.94zm-11 1L8.5 8.5l.94-2.06 2.06-.94-2.06-.94L8.5 2.5l-.94 2.06-2.06.94zm10 10l.94 2.06.94-2.06 2.06-.94-2.06-.94-.94-2.06-.94 2.06-2.06.94z\"/><path d=\"M17.41 7.96l-1.37-1.37c-.4-.4-.92-.59-1.43-.59-.52 0-1.04.2-1.43.59L10.3 9.45l-7.72 7.72c-.78.78-.78 2.05 0 2.83L4 21.41c.39.39.9.59 1.41.59.51 0 1.02-.2 1.41-.59l7.78-7.78 2.81-2.81c.8-.78.8-2.07 0-2.86zM5.41 20L4 18.59l7.72-7.72 1.47 1.35L5.41 20z\"/>\n",
              "  </svg>\n",
              "      </button>\n",
              "      \n",
              "  <style>\n",
              "    .colab-df-container {\n",
              "      display:flex;\n",
              "      flex-wrap:wrap;\n",
              "      gap: 12px;\n",
              "    }\n",
              "\n",
              "    .colab-df-convert {\n",
              "      background-color: #E8F0FE;\n",
              "      border: none;\n",
              "      border-radius: 50%;\n",
              "      cursor: pointer;\n",
              "      display: none;\n",
              "      fill: #1967D2;\n",
              "      height: 32px;\n",
              "      padding: 0 0 0 0;\n",
              "      width: 32px;\n",
              "    }\n",
              "\n",
              "    .colab-df-convert:hover {\n",
              "      background-color: #E2EBFA;\n",
              "      box-shadow: 0px 1px 2px rgba(60, 64, 67, 0.3), 0px 1px 3px 1px rgba(60, 64, 67, 0.15);\n",
              "      fill: #174EA6;\n",
              "    }\n",
              "\n",
              "    [theme=dark] .colab-df-convert {\n",
              "      background-color: #3B4455;\n",
              "      fill: #D2E3FC;\n",
              "    }\n",
              "\n",
              "    [theme=dark] .colab-df-convert:hover {\n",
              "      background-color: #434B5C;\n",
              "      box-shadow: 0px 1px 3px 1px rgba(0, 0, 0, 0.15);\n",
              "      filter: drop-shadow(0px 1px 2px rgba(0, 0, 0, 0.3));\n",
              "      fill: #FFFFFF;\n",
              "    }\n",
              "  </style>\n",
              "\n",
              "      <script>\n",
              "        const buttonEl =\n",
              "          document.querySelector('#df-9dfe8ba1-a0bf-4013-b79b-d04d2f94af0d button.colab-df-convert');\n",
              "        buttonEl.style.display =\n",
              "          google.colab.kernel.accessAllowed ? 'block' : 'none';\n",
              "\n",
              "        async function convertToInteractive(key) {\n",
              "          const element = document.querySelector('#df-9dfe8ba1-a0bf-4013-b79b-d04d2f94af0d');\n",
              "          const dataTable =\n",
              "            await google.colab.kernel.invokeFunction('convertToInteractive',\n",
              "                                                     [key], {});\n",
              "          if (!dataTable) return;\n",
              "\n",
              "          const docLinkHtml = 'Like what you see? Visit the ' +\n",
              "            '<a target=\"_blank\" href=https://colab.research.google.com/notebooks/data_table.ipynb>data table notebook</a>'\n",
              "            + ' to learn more about interactive tables.';\n",
              "          element.innerHTML = '';\n",
              "          dataTable['output_type'] = 'display_data';\n",
              "          await google.colab.output.renderOutput(dataTable, element);\n",
              "          const docLink = document.createElement('div');\n",
              "          docLink.innerHTML = docLinkHtml;\n",
              "          element.appendChild(docLink);\n",
              "        }\n",
              "      </script>\n",
              "    </div>\n",
              "  </div>\n",
              "  "
            ]
          },
          "metadata": {},
          "execution_count": 10
        }
      ]
    },
    {
      "cell_type": "code",
      "source": [
        "# Lista de Receitas e Códigos\n",
        "receitas_cod = base_dados[['NUMERORECEITAORCAMENTARIAUG', 'DESCRICAO']].drop_duplicates()\n",
        "receitas_cod.to_csv('receitas_cod.csv', sep=';', index=False)"
      ],
      "metadata": {
        "id": "d9BA1DNFQcfI"
      },
      "execution_count": null,
      "outputs": []
    },
    {
      "cell_type": "code",
      "source": [
        "base_dados.loc[base_dados['NUMERORECEITAORCAMENTARIAUG'].isnull()]"
      ],
      "metadata": {
        "colab": {
          "base_uri": "https://localhost:8080/",
          "height": 176
        },
        "id": "7UD6vHnmpu5U",
        "outputId": "d767f499-64ab-4eff-cf90-a0459febfadc"
      },
      "execution_count": null,
      "outputs": [
        {
          "output_type": "execute_result",
          "data": {
            "text/plain": [
              "     ID_UNIDADE_GESTORA NUMERORECEITAORCAMENTARIAUG DESCRICAO  \\\n",
              "2925                319                         NaN       NaN   \n",
              "3047                319                         NaN       NaN   \n",
              "\n",
              "        CATEGORIARECEITA ANOREFERENCIA MESREFERENCIA VALORLANCAMENTO ESFERA  \\\n",
              "2925  Receitas Correntes          2015            11       653831.00      M   \n",
              "3047  Receitas Correntes          2015            11       100000.00      M   \n",
              "\n",
              "     ORIGEMRECEITA DEDUCAORECEITA ESPECIERECEITA DESCRICAOFONTE COMPETENCIA  \n",
              "2925           NaN              0            NaN  Outras Fontes  2015-11-01  \n",
              "3047           NaN              0            NaN  Outras Fontes  2015-11-01  "
            ],
            "text/html": [
              "\n",
              "  <div id=\"df-bc21142f-a43b-4e0c-abe9-abac2a9de834\">\n",
              "    <div class=\"colab-df-container\">\n",
              "      <div>\n",
              "<style scoped>\n",
              "    .dataframe tbody tr th:only-of-type {\n",
              "        vertical-align: middle;\n",
              "    }\n",
              "\n",
              "    .dataframe tbody tr th {\n",
              "        vertical-align: top;\n",
              "    }\n",
              "\n",
              "    .dataframe thead th {\n",
              "        text-align: right;\n",
              "    }\n",
              "</style>\n",
              "<table border=\"1\" class=\"dataframe\">\n",
              "  <thead>\n",
              "    <tr style=\"text-align: right;\">\n",
              "      <th></th>\n",
              "      <th>ID_UNIDADE_GESTORA</th>\n",
              "      <th>NUMERORECEITAORCAMENTARIAUG</th>\n",
              "      <th>DESCRICAO</th>\n",
              "      <th>CATEGORIARECEITA</th>\n",
              "      <th>ANOREFERENCIA</th>\n",
              "      <th>MESREFERENCIA</th>\n",
              "      <th>VALORLANCAMENTO</th>\n",
              "      <th>ESFERA</th>\n",
              "      <th>ORIGEMRECEITA</th>\n",
              "      <th>DEDUCAORECEITA</th>\n",
              "      <th>ESPECIERECEITA</th>\n",
              "      <th>DESCRICAOFONTE</th>\n",
              "      <th>COMPETENCIA</th>\n",
              "    </tr>\n",
              "  </thead>\n",
              "  <tbody>\n",
              "    <tr>\n",
              "      <th>2925</th>\n",
              "      <td>319</td>\n",
              "      <td>NaN</td>\n",
              "      <td>NaN</td>\n",
              "      <td>Receitas Correntes</td>\n",
              "      <td>2015</td>\n",
              "      <td>11</td>\n",
              "      <td>653831.00</td>\n",
              "      <td>M</td>\n",
              "      <td>NaN</td>\n",
              "      <td>0</td>\n",
              "      <td>NaN</td>\n",
              "      <td>Outras Fontes</td>\n",
              "      <td>2015-11-01</td>\n",
              "    </tr>\n",
              "    <tr>\n",
              "      <th>3047</th>\n",
              "      <td>319</td>\n",
              "      <td>NaN</td>\n",
              "      <td>NaN</td>\n",
              "      <td>Receitas Correntes</td>\n",
              "      <td>2015</td>\n",
              "      <td>11</td>\n",
              "      <td>100000.00</td>\n",
              "      <td>M</td>\n",
              "      <td>NaN</td>\n",
              "      <td>0</td>\n",
              "      <td>NaN</td>\n",
              "      <td>Outras Fontes</td>\n",
              "      <td>2015-11-01</td>\n",
              "    </tr>\n",
              "  </tbody>\n",
              "</table>\n",
              "</div>\n",
              "      <button class=\"colab-df-convert\" onclick=\"convertToInteractive('df-bc21142f-a43b-4e0c-abe9-abac2a9de834')\"\n",
              "              title=\"Convert this dataframe to an interactive table.\"\n",
              "              style=\"display:none;\">\n",
              "        \n",
              "  <svg xmlns=\"http://www.w3.org/2000/svg\" height=\"24px\"viewBox=\"0 0 24 24\"\n",
              "       width=\"24px\">\n",
              "    <path d=\"M0 0h24v24H0V0z\" fill=\"none\"/>\n",
              "    <path d=\"M18.56 5.44l.94 2.06.94-2.06 2.06-.94-2.06-.94-.94-2.06-.94 2.06-2.06.94zm-11 1L8.5 8.5l.94-2.06 2.06-.94-2.06-.94L8.5 2.5l-.94 2.06-2.06.94zm10 10l.94 2.06.94-2.06 2.06-.94-2.06-.94-.94-2.06-.94 2.06-2.06.94z\"/><path d=\"M17.41 7.96l-1.37-1.37c-.4-.4-.92-.59-1.43-.59-.52 0-1.04.2-1.43.59L10.3 9.45l-7.72 7.72c-.78.78-.78 2.05 0 2.83L4 21.41c.39.39.9.59 1.41.59.51 0 1.02-.2 1.41-.59l7.78-7.78 2.81-2.81c.8-.78.8-2.07 0-2.86zM5.41 20L4 18.59l7.72-7.72 1.47 1.35L5.41 20z\"/>\n",
              "  </svg>\n",
              "      </button>\n",
              "      \n",
              "  <style>\n",
              "    .colab-df-container {\n",
              "      display:flex;\n",
              "      flex-wrap:wrap;\n",
              "      gap: 12px;\n",
              "    }\n",
              "\n",
              "    .colab-df-convert {\n",
              "      background-color: #E8F0FE;\n",
              "      border: none;\n",
              "      border-radius: 50%;\n",
              "      cursor: pointer;\n",
              "      display: none;\n",
              "      fill: #1967D2;\n",
              "      height: 32px;\n",
              "      padding: 0 0 0 0;\n",
              "      width: 32px;\n",
              "    }\n",
              "\n",
              "    .colab-df-convert:hover {\n",
              "      background-color: #E2EBFA;\n",
              "      box-shadow: 0px 1px 2px rgba(60, 64, 67, 0.3), 0px 1px 3px 1px rgba(60, 64, 67, 0.15);\n",
              "      fill: #174EA6;\n",
              "    }\n",
              "\n",
              "    [theme=dark] .colab-df-convert {\n",
              "      background-color: #3B4455;\n",
              "      fill: #D2E3FC;\n",
              "    }\n",
              "\n",
              "    [theme=dark] .colab-df-convert:hover {\n",
              "      background-color: #434B5C;\n",
              "      box-shadow: 0px 1px 3px 1px rgba(0, 0, 0, 0.15);\n",
              "      filter: drop-shadow(0px 1px 2px rgba(0, 0, 0, 0.3));\n",
              "      fill: #FFFFFF;\n",
              "    }\n",
              "  </style>\n",
              "\n",
              "      <script>\n",
              "        const buttonEl =\n",
              "          document.querySelector('#df-bc21142f-a43b-4e0c-abe9-abac2a9de834 button.colab-df-convert');\n",
              "        buttonEl.style.display =\n",
              "          google.colab.kernel.accessAllowed ? 'block' : 'none';\n",
              "\n",
              "        async function convertToInteractive(key) {\n",
              "          const element = document.querySelector('#df-bc21142f-a43b-4e0c-abe9-abac2a9de834');\n",
              "          const dataTable =\n",
              "            await google.colab.kernel.invokeFunction('convertToInteractive',\n",
              "                                                     [key], {});\n",
              "          if (!dataTable) return;\n",
              "\n",
              "          const docLinkHtml = 'Like what you see? Visit the ' +\n",
              "            '<a target=\"_blank\" href=https://colab.research.google.com/notebooks/data_table.ipynb>data table notebook</a>'\n",
              "            + ' to learn more about interactive tables.';\n",
              "          element.innerHTML = '';\n",
              "          dataTable['output_type'] = 'display_data';\n",
              "          await google.colab.output.renderOutput(dataTable, element);\n",
              "          const docLink = document.createElement('div');\n",
              "          docLink.innerHTML = docLinkHtml;\n",
              "          element.appendChild(docLink);\n",
              "        }\n",
              "      </script>\n",
              "    </div>\n",
              "  </div>\n",
              "  "
            ]
          },
          "metadata": {},
          "execution_count": 12
        }
      ]
    },
    {
      "cell_type": "code",
      "source": [
        "base_dados.drop(base_dados[base_dados['NUMERORECEITAORCAMENTARIAUG'].isnull()].index, inplace=True)"
      ],
      "metadata": {
        "id": "eTiwIGZ5D2Yg"
      },
      "execution_count": null,
      "outputs": []
    },
    {
      "cell_type": "code",
      "source": [
        "base_dados.info()"
      ],
      "metadata": {
        "colab": {
          "base_uri": "https://localhost:8080/"
        },
        "id": "LEYg4uz-rFb7",
        "outputId": "3e6c89a1-b55c-4d46-b1f6-a95d94d96513"
      },
      "execution_count": null,
      "outputs": [
        {
          "output_type": "stream",
          "name": "stdout",
          "text": [
            "<class 'pandas.core.frame.DataFrame'>\n",
            "Int64Index: 14404 entries, 0 to 14405\n",
            "Data columns (total 13 columns):\n",
            " #   Column                       Non-Null Count  Dtype         \n",
            "---  ------                       --------------  -----         \n",
            " 0   ID_UNIDADE_GESTORA           14404 non-null  object        \n",
            " 1   NUMERORECEITAORCAMENTARIAUG  14404 non-null  object        \n",
            " 2   DESCRICAO                    14404 non-null  object        \n",
            " 3   CATEGORIARECEITA             14404 non-null  object        \n",
            " 4   ANOREFERENCIA                14404 non-null  object        \n",
            " 5   MESREFERENCIA                14404 non-null  object        \n",
            " 6   VALORLANCAMENTO              14404 non-null  object        \n",
            " 7   ESFERA                       14404 non-null  object        \n",
            " 8   ORIGEMRECEITA                14404 non-null  object        \n",
            " 9   DEDUCAORECEITA               14404 non-null  object        \n",
            " 10  ESPECIERECEITA               13005 non-null  object        \n",
            " 11  DESCRICAOFONTE               12508 non-null  object        \n",
            " 12  COMPETENCIA                  14404 non-null  datetime64[ns]\n",
            "dtypes: datetime64[ns](1), object(12)\n",
            "memory usage: 1.5+ MB\n"
          ]
        }
      ]
    },
    {
      "cell_type": "code",
      "source": [
        "# Transformar numeros em valores flutuantes\n",
        "base_dados['VALORLANCAMENTO'] = base_dados['VALORLANCAMENTO'].astype(float)\n",
        "base_dados['NUMERORECEITAORCAMENTARIAUG'] = base_dados['NUMERORECEITAORCAMENTARIAUG'].astype(int)"
      ],
      "metadata": {
        "id": "xk0doCgqtIui"
      },
      "execution_count": null,
      "outputs": []
    },
    {
      "cell_type": "code",
      "source": [
        "# Remover Duplicatas\n",
        "base_dados.drop_duplicates(subset=['ANOREFERENCIA', 'MESREFERENCIA', 'VALORLANCAMENTO'], inplace=True)"
      ],
      "metadata": {
        "id": "j7thKghy1SCg"
      },
      "execution_count": null,
      "outputs": []
    },
    {
      "cell_type": "code",
      "source": [
        "base_dados.to_csv('/content/base_dados_check.csv')"
      ],
      "metadata": {
        "id": "P1Byc_lU0sbB"
      },
      "execution_count": null,
      "outputs": []
    },
    {
      "cell_type": "code",
      "source": [
        "base_dados.head(20)"
      ],
      "metadata": {
        "colab": {
          "base_uri": "https://localhost:8080/",
          "height": 1000
        },
        "id": "wJ2ljVuF6FHm",
        "outputId": "b4b4d4c4-5307-4c0a-8ab6-faa1a343bf08"
      },
      "execution_count": null,
      "outputs": [
        {
          "output_type": "execute_result",
          "data": {
            "text/plain": [
              "   ID_UNIDADE_GESTORA  NUMERORECEITAORCAMENTARIAUG  \\\n",
              "0                 319                    917220101   \n",
              "1                 319                    917220102   \n",
              "2                 319                    917220102   \n",
              "3                 319                    917220102   \n",
              "4                 319                    917220101   \n",
              "5                 319                    917220104   \n",
              "6                 319                    917220101   \n",
              "7                 319                    917220101   \n",
              "8                 319                    917220102   \n",
              "9                 319                    917230000   \n",
              "10                319                    917213600   \n",
              "11                319                    917210000   \n",
              "12                319                    917210000   \n",
              "13                319                    917210000   \n",
              "14                319                    917213600   \n",
              "15                319                    917210000   \n",
              "16                319                    917213600   \n",
              "17                319                    917210000   \n",
              "18                319                    917210105   \n",
              "19                319                    917210105   \n",
              "\n",
              "                                            DESCRICAO     CATEGORIARECEITA  \\\n",
              "0              Dedução de Cota-Parte do ICMS - FUNDEB  Dedução de Receitas   \n",
              "1              Dedução de Cota-Parte do IPVA - FUNDEB  Dedução de Receitas   \n",
              "2              Dedução de Cota-Parte do IPVA - FUNDEB  Dedução de Receitas   \n",
              "3              Dedução de Cota-Parte do IPVA - FUNDEB  Dedução de Receitas   \n",
              "4              Dedução de Cota-Parte do ICMS - FUNDEB  Dedução de Receitas   \n",
              "5   Dedução de Cota-Parte do IPI sobre Exportação ...  Dedução de Receitas   \n",
              "6              Dedução de Cota-Parte do ICMS - FUNDEB  Dedução de Receitas   \n",
              "7              Dedução de Cota-Parte do ICMS - FUNDEB  Dedução de Receitas   \n",
              "8              Dedução de Cota-Parte do IPVA - FUNDEB  Dedução de Receitas   \n",
              "9            Dedução de Transferências dos Municípios  Dedução de Receitas   \n",
              "10  Dedução de Transferência Financeira do ICMS De...  Dedução de Receitas   \n",
              "11                 Dedução de Transferências da União  Dedução de Receitas   \n",
              "12                 Dedução de Transferências da União  Dedução de Receitas   \n",
              "13                 Dedução de Transferências da União  Dedução de Receitas   \n",
              "14  Dedução de Transferência Financeira do ICMS De...  Dedução de Receitas   \n",
              "15                 Dedução de Transferências da União  Dedução de Receitas   \n",
              "16  Dedução de Transferência Financeira do ICMS De...  Dedução de Receitas   \n",
              "17                 Dedução de Transferências da União  Dedução de Receitas   \n",
              "18  Dedução de Cota-Parte do Imposto Sobre a Propr...  Dedução de Receitas   \n",
              "19  Dedução de Cota-Parte do Imposto Sobre a Propr...  Dedução de Receitas   \n",
              "\n",
              "   ANOREFERENCIA MESREFERENCIA  VALORLANCAMENTO ESFERA  \\\n",
              "0           2012             3      -3377520.83      M   \n",
              "1           2012             3      -1873826.21      M   \n",
              "2           2012             5        -12653.68      M   \n",
              "3           2012             6       -177813.32      M   \n",
              "4           2012             7      -4094020.44      M   \n",
              "5           2012             7         -7296.30      M   \n",
              "6           2012             8      -1139960.91      M   \n",
              "7           2012            10      -4318786.69      M   \n",
              "8           2012            12        -34749.29      M   \n",
              "9           2012             2      -1405453.08      M   \n",
              "10          2012             1        -11364.45      M   \n",
              "11          2012             1          -297.97      M   \n",
              "12          2012             2          -138.64      M   \n",
              "13          2012             3          -169.87      M   \n",
              "14          2012             4        -11364.45      M   \n",
              "15          2012             5          -220.13      M   \n",
              "16          2012             6        -10922.03      M   \n",
              "17          2012             6         -4282.87      M   \n",
              "18          2012             7         -1016.80      M   \n",
              "19          2012             8           -86.21      M   \n",
              "\n",
              "                 ORIGEMRECEITA DEDUCAORECEITA ESPECIERECEITA DESCRICAOFONTE  \\\n",
              "0            Alienação de Bens              9            NaN            NaN   \n",
              "1            Alienação de Bens              9            NaN            NaN   \n",
              "2            Alienação de Bens              9            NaN            NaN   \n",
              "3            Alienação de Bens              9            NaN            NaN   \n",
              "4            Alienação de Bens              9            NaN            NaN   \n",
              "5            Alienação de Bens              9            NaN            NaN   \n",
              "6            Alienação de Bens              9            NaN            NaN   \n",
              "7            Alienação de Bens              9            NaN            NaN   \n",
              "8            Alienação de Bens              9            NaN            NaN   \n",
              "9   Amortização de Empréstimos              9            NaN            NaN   \n",
              "10        Operações de Crédito              9            NaN            NaN   \n",
              "11        Operações de Crédito              9            NaN            NaN   \n",
              "12        Operações de Crédito              9            NaN            NaN   \n",
              "13        Operações de Crédito              9            NaN            NaN   \n",
              "14        Operações de Crédito              9            NaN            NaN   \n",
              "15        Operações de Crédito              9            NaN            NaN   \n",
              "16        Operações de Crédito              9            NaN            NaN   \n",
              "17        Operações de Crédito              9            NaN            NaN   \n",
              "18        Operações de Crédito              9            NaN            NaN   \n",
              "19        Operações de Crédito              9            NaN            NaN   \n",
              "\n",
              "   COMPETENCIA  \n",
              "0   2012-03-01  \n",
              "1   2012-03-01  \n",
              "2   2012-05-01  \n",
              "3   2012-06-01  \n",
              "4   2012-07-01  \n",
              "5   2012-07-01  \n",
              "6   2012-08-01  \n",
              "7   2012-10-01  \n",
              "8   2012-12-01  \n",
              "9   2012-02-01  \n",
              "10  2012-01-01  \n",
              "11  2012-01-01  \n",
              "12  2012-02-01  \n",
              "13  2012-03-01  \n",
              "14  2012-04-01  \n",
              "15  2012-05-01  \n",
              "16  2012-06-01  \n",
              "17  2012-06-01  \n",
              "18  2012-07-01  \n",
              "19  2012-08-01  "
            ],
            "text/html": [
              "\n",
              "  <div id=\"df-a7f6eeff-2580-49ad-9c9a-40759cdfb5b5\">\n",
              "    <div class=\"colab-df-container\">\n",
              "      <div>\n",
              "<style scoped>\n",
              "    .dataframe tbody tr th:only-of-type {\n",
              "        vertical-align: middle;\n",
              "    }\n",
              "\n",
              "    .dataframe tbody tr th {\n",
              "        vertical-align: top;\n",
              "    }\n",
              "\n",
              "    .dataframe thead th {\n",
              "        text-align: right;\n",
              "    }\n",
              "</style>\n",
              "<table border=\"1\" class=\"dataframe\">\n",
              "  <thead>\n",
              "    <tr style=\"text-align: right;\">\n",
              "      <th></th>\n",
              "      <th>ID_UNIDADE_GESTORA</th>\n",
              "      <th>NUMERORECEITAORCAMENTARIAUG</th>\n",
              "      <th>DESCRICAO</th>\n",
              "      <th>CATEGORIARECEITA</th>\n",
              "      <th>ANOREFERENCIA</th>\n",
              "      <th>MESREFERENCIA</th>\n",
              "      <th>VALORLANCAMENTO</th>\n",
              "      <th>ESFERA</th>\n",
              "      <th>ORIGEMRECEITA</th>\n",
              "      <th>DEDUCAORECEITA</th>\n",
              "      <th>ESPECIERECEITA</th>\n",
              "      <th>DESCRICAOFONTE</th>\n",
              "      <th>COMPETENCIA</th>\n",
              "    </tr>\n",
              "  </thead>\n",
              "  <tbody>\n",
              "    <tr>\n",
              "      <th>0</th>\n",
              "      <td>319</td>\n",
              "      <td>917220101</td>\n",
              "      <td>Dedução de Cota-Parte do ICMS - FUNDEB</td>\n",
              "      <td>Dedução de Receitas</td>\n",
              "      <td>2012</td>\n",
              "      <td>3</td>\n",
              "      <td>-3377520.83</td>\n",
              "      <td>M</td>\n",
              "      <td>Alienação de Bens</td>\n",
              "      <td>9</td>\n",
              "      <td>NaN</td>\n",
              "      <td>NaN</td>\n",
              "      <td>2012-03-01</td>\n",
              "    </tr>\n",
              "    <tr>\n",
              "      <th>1</th>\n",
              "      <td>319</td>\n",
              "      <td>917220102</td>\n",
              "      <td>Dedução de Cota-Parte do IPVA - FUNDEB</td>\n",
              "      <td>Dedução de Receitas</td>\n",
              "      <td>2012</td>\n",
              "      <td>3</td>\n",
              "      <td>-1873826.21</td>\n",
              "      <td>M</td>\n",
              "      <td>Alienação de Bens</td>\n",
              "      <td>9</td>\n",
              "      <td>NaN</td>\n",
              "      <td>NaN</td>\n",
              "      <td>2012-03-01</td>\n",
              "    </tr>\n",
              "    <tr>\n",
              "      <th>2</th>\n",
              "      <td>319</td>\n",
              "      <td>917220102</td>\n",
              "      <td>Dedução de Cota-Parte do IPVA - FUNDEB</td>\n",
              "      <td>Dedução de Receitas</td>\n",
              "      <td>2012</td>\n",
              "      <td>5</td>\n",
              "      <td>-12653.68</td>\n",
              "      <td>M</td>\n",
              "      <td>Alienação de Bens</td>\n",
              "      <td>9</td>\n",
              "      <td>NaN</td>\n",
              "      <td>NaN</td>\n",
              "      <td>2012-05-01</td>\n",
              "    </tr>\n",
              "    <tr>\n",
              "      <th>3</th>\n",
              "      <td>319</td>\n",
              "      <td>917220102</td>\n",
              "      <td>Dedução de Cota-Parte do IPVA - FUNDEB</td>\n",
              "      <td>Dedução de Receitas</td>\n",
              "      <td>2012</td>\n",
              "      <td>6</td>\n",
              "      <td>-177813.32</td>\n",
              "      <td>M</td>\n",
              "      <td>Alienação de Bens</td>\n",
              "      <td>9</td>\n",
              "      <td>NaN</td>\n",
              "      <td>NaN</td>\n",
              "      <td>2012-06-01</td>\n",
              "    </tr>\n",
              "    <tr>\n",
              "      <th>4</th>\n",
              "      <td>319</td>\n",
              "      <td>917220101</td>\n",
              "      <td>Dedução de Cota-Parte do ICMS - FUNDEB</td>\n",
              "      <td>Dedução de Receitas</td>\n",
              "      <td>2012</td>\n",
              "      <td>7</td>\n",
              "      <td>-4094020.44</td>\n",
              "      <td>M</td>\n",
              "      <td>Alienação de Bens</td>\n",
              "      <td>9</td>\n",
              "      <td>NaN</td>\n",
              "      <td>NaN</td>\n",
              "      <td>2012-07-01</td>\n",
              "    </tr>\n",
              "    <tr>\n",
              "      <th>5</th>\n",
              "      <td>319</td>\n",
              "      <td>917220104</td>\n",
              "      <td>Dedução de Cota-Parte do IPI sobre Exportação ...</td>\n",
              "      <td>Dedução de Receitas</td>\n",
              "      <td>2012</td>\n",
              "      <td>7</td>\n",
              "      <td>-7296.30</td>\n",
              "      <td>M</td>\n",
              "      <td>Alienação de Bens</td>\n",
              "      <td>9</td>\n",
              "      <td>NaN</td>\n",
              "      <td>NaN</td>\n",
              "      <td>2012-07-01</td>\n",
              "    </tr>\n",
              "    <tr>\n",
              "      <th>6</th>\n",
              "      <td>319</td>\n",
              "      <td>917220101</td>\n",
              "      <td>Dedução de Cota-Parte do ICMS - FUNDEB</td>\n",
              "      <td>Dedução de Receitas</td>\n",
              "      <td>2012</td>\n",
              "      <td>8</td>\n",
              "      <td>-1139960.91</td>\n",
              "      <td>M</td>\n",
              "      <td>Alienação de Bens</td>\n",
              "      <td>9</td>\n",
              "      <td>NaN</td>\n",
              "      <td>NaN</td>\n",
              "      <td>2012-08-01</td>\n",
              "    </tr>\n",
              "    <tr>\n",
              "      <th>7</th>\n",
              "      <td>319</td>\n",
              "      <td>917220101</td>\n",
              "      <td>Dedução de Cota-Parte do ICMS - FUNDEB</td>\n",
              "      <td>Dedução de Receitas</td>\n",
              "      <td>2012</td>\n",
              "      <td>10</td>\n",
              "      <td>-4318786.69</td>\n",
              "      <td>M</td>\n",
              "      <td>Alienação de Bens</td>\n",
              "      <td>9</td>\n",
              "      <td>NaN</td>\n",
              "      <td>NaN</td>\n",
              "      <td>2012-10-01</td>\n",
              "    </tr>\n",
              "    <tr>\n",
              "      <th>8</th>\n",
              "      <td>319</td>\n",
              "      <td>917220102</td>\n",
              "      <td>Dedução de Cota-Parte do IPVA - FUNDEB</td>\n",
              "      <td>Dedução de Receitas</td>\n",
              "      <td>2012</td>\n",
              "      <td>12</td>\n",
              "      <td>-34749.29</td>\n",
              "      <td>M</td>\n",
              "      <td>Alienação de Bens</td>\n",
              "      <td>9</td>\n",
              "      <td>NaN</td>\n",
              "      <td>NaN</td>\n",
              "      <td>2012-12-01</td>\n",
              "    </tr>\n",
              "    <tr>\n",
              "      <th>9</th>\n",
              "      <td>319</td>\n",
              "      <td>917230000</td>\n",
              "      <td>Dedução de Transferências dos Municípios</td>\n",
              "      <td>Dedução de Receitas</td>\n",
              "      <td>2012</td>\n",
              "      <td>2</td>\n",
              "      <td>-1405453.08</td>\n",
              "      <td>M</td>\n",
              "      <td>Amortização de Empréstimos</td>\n",
              "      <td>9</td>\n",
              "      <td>NaN</td>\n",
              "      <td>NaN</td>\n",
              "      <td>2012-02-01</td>\n",
              "    </tr>\n",
              "    <tr>\n",
              "      <th>10</th>\n",
              "      <td>319</td>\n",
              "      <td>917213600</td>\n",
              "      <td>Dedução de Transferência Financeira do ICMS De...</td>\n",
              "      <td>Dedução de Receitas</td>\n",
              "      <td>2012</td>\n",
              "      <td>1</td>\n",
              "      <td>-11364.45</td>\n",
              "      <td>M</td>\n",
              "      <td>Operações de Crédito</td>\n",
              "      <td>9</td>\n",
              "      <td>NaN</td>\n",
              "      <td>NaN</td>\n",
              "      <td>2012-01-01</td>\n",
              "    </tr>\n",
              "    <tr>\n",
              "      <th>11</th>\n",
              "      <td>319</td>\n",
              "      <td>917210000</td>\n",
              "      <td>Dedução de Transferências da União</td>\n",
              "      <td>Dedução de Receitas</td>\n",
              "      <td>2012</td>\n",
              "      <td>1</td>\n",
              "      <td>-297.97</td>\n",
              "      <td>M</td>\n",
              "      <td>Operações de Crédito</td>\n",
              "      <td>9</td>\n",
              "      <td>NaN</td>\n",
              "      <td>NaN</td>\n",
              "      <td>2012-01-01</td>\n",
              "    </tr>\n",
              "    <tr>\n",
              "      <th>12</th>\n",
              "      <td>319</td>\n",
              "      <td>917210000</td>\n",
              "      <td>Dedução de Transferências da União</td>\n",
              "      <td>Dedução de Receitas</td>\n",
              "      <td>2012</td>\n",
              "      <td>2</td>\n",
              "      <td>-138.64</td>\n",
              "      <td>M</td>\n",
              "      <td>Operações de Crédito</td>\n",
              "      <td>9</td>\n",
              "      <td>NaN</td>\n",
              "      <td>NaN</td>\n",
              "      <td>2012-02-01</td>\n",
              "    </tr>\n",
              "    <tr>\n",
              "      <th>13</th>\n",
              "      <td>319</td>\n",
              "      <td>917210000</td>\n",
              "      <td>Dedução de Transferências da União</td>\n",
              "      <td>Dedução de Receitas</td>\n",
              "      <td>2012</td>\n",
              "      <td>3</td>\n",
              "      <td>-169.87</td>\n",
              "      <td>M</td>\n",
              "      <td>Operações de Crédito</td>\n",
              "      <td>9</td>\n",
              "      <td>NaN</td>\n",
              "      <td>NaN</td>\n",
              "      <td>2012-03-01</td>\n",
              "    </tr>\n",
              "    <tr>\n",
              "      <th>14</th>\n",
              "      <td>319</td>\n",
              "      <td>917213600</td>\n",
              "      <td>Dedução de Transferência Financeira do ICMS De...</td>\n",
              "      <td>Dedução de Receitas</td>\n",
              "      <td>2012</td>\n",
              "      <td>4</td>\n",
              "      <td>-11364.45</td>\n",
              "      <td>M</td>\n",
              "      <td>Operações de Crédito</td>\n",
              "      <td>9</td>\n",
              "      <td>NaN</td>\n",
              "      <td>NaN</td>\n",
              "      <td>2012-04-01</td>\n",
              "    </tr>\n",
              "    <tr>\n",
              "      <th>15</th>\n",
              "      <td>319</td>\n",
              "      <td>917210000</td>\n",
              "      <td>Dedução de Transferências da União</td>\n",
              "      <td>Dedução de Receitas</td>\n",
              "      <td>2012</td>\n",
              "      <td>5</td>\n",
              "      <td>-220.13</td>\n",
              "      <td>M</td>\n",
              "      <td>Operações de Crédito</td>\n",
              "      <td>9</td>\n",
              "      <td>NaN</td>\n",
              "      <td>NaN</td>\n",
              "      <td>2012-05-01</td>\n",
              "    </tr>\n",
              "    <tr>\n",
              "      <th>16</th>\n",
              "      <td>319</td>\n",
              "      <td>917213600</td>\n",
              "      <td>Dedução de Transferência Financeira do ICMS De...</td>\n",
              "      <td>Dedução de Receitas</td>\n",
              "      <td>2012</td>\n",
              "      <td>6</td>\n",
              "      <td>-10922.03</td>\n",
              "      <td>M</td>\n",
              "      <td>Operações de Crédito</td>\n",
              "      <td>9</td>\n",
              "      <td>NaN</td>\n",
              "      <td>NaN</td>\n",
              "      <td>2012-06-01</td>\n",
              "    </tr>\n",
              "    <tr>\n",
              "      <th>17</th>\n",
              "      <td>319</td>\n",
              "      <td>917210000</td>\n",
              "      <td>Dedução de Transferências da União</td>\n",
              "      <td>Dedução de Receitas</td>\n",
              "      <td>2012</td>\n",
              "      <td>6</td>\n",
              "      <td>-4282.87</td>\n",
              "      <td>M</td>\n",
              "      <td>Operações de Crédito</td>\n",
              "      <td>9</td>\n",
              "      <td>NaN</td>\n",
              "      <td>NaN</td>\n",
              "      <td>2012-06-01</td>\n",
              "    </tr>\n",
              "    <tr>\n",
              "      <th>18</th>\n",
              "      <td>319</td>\n",
              "      <td>917210105</td>\n",
              "      <td>Dedução de Cota-Parte do Imposto Sobre a Propr...</td>\n",
              "      <td>Dedução de Receitas</td>\n",
              "      <td>2012</td>\n",
              "      <td>7</td>\n",
              "      <td>-1016.80</td>\n",
              "      <td>M</td>\n",
              "      <td>Operações de Crédito</td>\n",
              "      <td>9</td>\n",
              "      <td>NaN</td>\n",
              "      <td>NaN</td>\n",
              "      <td>2012-07-01</td>\n",
              "    </tr>\n",
              "    <tr>\n",
              "      <th>19</th>\n",
              "      <td>319</td>\n",
              "      <td>917210105</td>\n",
              "      <td>Dedução de Cota-Parte do Imposto Sobre a Propr...</td>\n",
              "      <td>Dedução de Receitas</td>\n",
              "      <td>2012</td>\n",
              "      <td>8</td>\n",
              "      <td>-86.21</td>\n",
              "      <td>M</td>\n",
              "      <td>Operações de Crédito</td>\n",
              "      <td>9</td>\n",
              "      <td>NaN</td>\n",
              "      <td>NaN</td>\n",
              "      <td>2012-08-01</td>\n",
              "    </tr>\n",
              "  </tbody>\n",
              "</table>\n",
              "</div>\n",
              "      <button class=\"colab-df-convert\" onclick=\"convertToInteractive('df-a7f6eeff-2580-49ad-9c9a-40759cdfb5b5')\"\n",
              "              title=\"Convert this dataframe to an interactive table.\"\n",
              "              style=\"display:none;\">\n",
              "        \n",
              "  <svg xmlns=\"http://www.w3.org/2000/svg\" height=\"24px\"viewBox=\"0 0 24 24\"\n",
              "       width=\"24px\">\n",
              "    <path d=\"M0 0h24v24H0V0z\" fill=\"none\"/>\n",
              "    <path d=\"M18.56 5.44l.94 2.06.94-2.06 2.06-.94-2.06-.94-.94-2.06-.94 2.06-2.06.94zm-11 1L8.5 8.5l.94-2.06 2.06-.94-2.06-.94L8.5 2.5l-.94 2.06-2.06.94zm10 10l.94 2.06.94-2.06 2.06-.94-2.06-.94-.94-2.06-.94 2.06-2.06.94z\"/><path d=\"M17.41 7.96l-1.37-1.37c-.4-.4-.92-.59-1.43-.59-.52 0-1.04.2-1.43.59L10.3 9.45l-7.72 7.72c-.78.78-.78 2.05 0 2.83L4 21.41c.39.39.9.59 1.41.59.51 0 1.02-.2 1.41-.59l7.78-7.78 2.81-2.81c.8-.78.8-2.07 0-2.86zM5.41 20L4 18.59l7.72-7.72 1.47 1.35L5.41 20z\"/>\n",
              "  </svg>\n",
              "      </button>\n",
              "      \n",
              "  <style>\n",
              "    .colab-df-container {\n",
              "      display:flex;\n",
              "      flex-wrap:wrap;\n",
              "      gap: 12px;\n",
              "    }\n",
              "\n",
              "    .colab-df-convert {\n",
              "      background-color: #E8F0FE;\n",
              "      border: none;\n",
              "      border-radius: 50%;\n",
              "      cursor: pointer;\n",
              "      display: none;\n",
              "      fill: #1967D2;\n",
              "      height: 32px;\n",
              "      padding: 0 0 0 0;\n",
              "      width: 32px;\n",
              "    }\n",
              "\n",
              "    .colab-df-convert:hover {\n",
              "      background-color: #E2EBFA;\n",
              "      box-shadow: 0px 1px 2px rgba(60, 64, 67, 0.3), 0px 1px 3px 1px rgba(60, 64, 67, 0.15);\n",
              "      fill: #174EA6;\n",
              "    }\n",
              "\n",
              "    [theme=dark] .colab-df-convert {\n",
              "      background-color: #3B4455;\n",
              "      fill: #D2E3FC;\n",
              "    }\n",
              "\n",
              "    [theme=dark] .colab-df-convert:hover {\n",
              "      background-color: #434B5C;\n",
              "      box-shadow: 0px 1px 3px 1px rgba(0, 0, 0, 0.15);\n",
              "      filter: drop-shadow(0px 1px 2px rgba(0, 0, 0, 0.3));\n",
              "      fill: #FFFFFF;\n",
              "    }\n",
              "  </style>\n",
              "\n",
              "      <script>\n",
              "        const buttonEl =\n",
              "          document.querySelector('#df-a7f6eeff-2580-49ad-9c9a-40759cdfb5b5 button.colab-df-convert');\n",
              "        buttonEl.style.display =\n",
              "          google.colab.kernel.accessAllowed ? 'block' : 'none';\n",
              "\n",
              "        async function convertToInteractive(key) {\n",
              "          const element = document.querySelector('#df-a7f6eeff-2580-49ad-9c9a-40759cdfb5b5');\n",
              "          const dataTable =\n",
              "            await google.colab.kernel.invokeFunction('convertToInteractive',\n",
              "                                                     [key], {});\n",
              "          if (!dataTable) return;\n",
              "\n",
              "          const docLinkHtml = 'Like what you see? Visit the ' +\n",
              "            '<a target=\"_blank\" href=https://colab.research.google.com/notebooks/data_table.ipynb>data table notebook</a>'\n",
              "            + ' to learn more about interactive tables.';\n",
              "          element.innerHTML = '';\n",
              "          dataTable['output_type'] = 'display_data';\n",
              "          await google.colab.output.renderOutput(dataTable, element);\n",
              "          const docLink = document.createElement('div');\n",
              "          docLink.innerHTML = docLinkHtml;\n",
              "          element.appendChild(docLink);\n",
              "        }\n",
              "      </script>\n",
              "    </div>\n",
              "  </div>\n",
              "  "
            ]
          },
          "metadata": {},
          "execution_count": 18
        }
      ]
    },
    {
      "cell_type": "code",
      "source": [
        "base_dados.info()"
      ],
      "metadata": {
        "colab": {
          "base_uri": "https://localhost:8080/"
        },
        "id": "xthOMRB3mnKj",
        "outputId": "d56bba82-555c-493b-c978-61fb899a374b"
      },
      "execution_count": null,
      "outputs": [
        {
          "output_type": "stream",
          "name": "stdout",
          "text": [
            "<class 'pandas.core.frame.DataFrame'>\n",
            "Int64Index: 14389 entries, 0 to 14405\n",
            "Data columns (total 13 columns):\n",
            " #   Column                       Non-Null Count  Dtype         \n",
            "---  ------                       --------------  -----         \n",
            " 0   ID_UNIDADE_GESTORA           14389 non-null  object        \n",
            " 1   NUMERORECEITAORCAMENTARIAUG  14389 non-null  int64         \n",
            " 2   DESCRICAO                    14389 non-null  object        \n",
            " 3   CATEGORIARECEITA             14389 non-null  object        \n",
            " 4   ANOREFERENCIA                14389 non-null  object        \n",
            " 5   MESREFERENCIA                14389 non-null  object        \n",
            " 6   VALORLANCAMENTO              14389 non-null  float64       \n",
            " 7   ESFERA                       14389 non-null  object        \n",
            " 8   ORIGEMRECEITA                14389 non-null  object        \n",
            " 9   DEDUCAORECEITA               14389 non-null  object        \n",
            " 10  ESPECIERECEITA               12992 non-null  object        \n",
            " 11  DESCRICAOFONTE               12493 non-null  object        \n",
            " 12  COMPETENCIA                  14389 non-null  datetime64[ns]\n",
            "dtypes: datetime64[ns](1), float64(1), int64(1), object(10)\n",
            "memory usage: 1.5+ MB\n"
          ]
        }
      ]
    },
    {
      "cell_type": "markdown",
      "source": [
        "## Gravar dados requisitados em um Banco de Dados"
      ],
      "metadata": {
        "id": "-Gt_LmN0upxw"
      }
    },
    {
      "cell_type": "code",
      "source": [
        "base_dados_gravar = base_dados[['COMPETENCIA', 'ANOREFERENCIA', 'ORIGEMRECEITA', 'DEDUCAORECEITA', 'NUMERORECEITAORCAMENTARIAUG', 'DESCRICAO', 'VALORLANCAMENTO']]"
      ],
      "metadata": {
        "id": "Iq_XtfhQmqyo"
      },
      "execution_count": null,
      "outputs": []
    },
    {
      "cell_type": "code",
      "source": [
        "base_dados_gravar.head()"
      ],
      "metadata": {
        "colab": {
          "base_uri": "https://localhost:8080/",
          "height": 458
        },
        "id": "9RY8x7XcpKHI",
        "outputId": "dfa17c96-56f1-4a17-ca08-cca7995c7b9a"
      },
      "execution_count": null,
      "outputs": [
        {
          "output_type": "execute_result",
          "data": {
            "text/plain": [
              "  COMPETENCIA ANOREFERENCIA      ORIGEMRECEITA DEDUCAORECEITA  \\\n",
              "0  2012-03-01          2012  Alienação de Bens              9   \n",
              "1  2012-03-01          2012  Alienação de Bens              9   \n",
              "2  2012-05-01          2012  Alienação de Bens              9   \n",
              "3  2012-06-01          2012  Alienação de Bens              9   \n",
              "4  2012-07-01          2012  Alienação de Bens              9   \n",
              "\n",
              "   NUMERORECEITAORCAMENTARIAUG                               DESCRICAO  \\\n",
              "0                    917220101  Dedução de Cota-Parte do ICMS - FUNDEB   \n",
              "1                    917220102  Dedução de Cota-Parte do IPVA - FUNDEB   \n",
              "2                    917220102  Dedução de Cota-Parte do IPVA - FUNDEB   \n",
              "3                    917220102  Dedução de Cota-Parte do IPVA - FUNDEB   \n",
              "4                    917220101  Dedução de Cota-Parte do ICMS - FUNDEB   \n",
              "\n",
              "   VALORLANCAMENTO  \n",
              "0      -3377520.83  \n",
              "1      -1873826.21  \n",
              "2        -12653.68  \n",
              "3       -177813.32  \n",
              "4      -4094020.44  "
            ],
            "text/html": [
              "\n",
              "  <div id=\"df-08f4206f-4b71-4610-95eb-daf629eee2af\">\n",
              "    <div class=\"colab-df-container\">\n",
              "      <div>\n",
              "<style scoped>\n",
              "    .dataframe tbody tr th:only-of-type {\n",
              "        vertical-align: middle;\n",
              "    }\n",
              "\n",
              "    .dataframe tbody tr th {\n",
              "        vertical-align: top;\n",
              "    }\n",
              "\n",
              "    .dataframe thead th {\n",
              "        text-align: right;\n",
              "    }\n",
              "</style>\n",
              "<table border=\"1\" class=\"dataframe\">\n",
              "  <thead>\n",
              "    <tr style=\"text-align: right;\">\n",
              "      <th></th>\n",
              "      <th>COMPETENCIA</th>\n",
              "      <th>ANOREFERENCIA</th>\n",
              "      <th>ORIGEMRECEITA</th>\n",
              "      <th>DEDUCAORECEITA</th>\n",
              "      <th>NUMERORECEITAORCAMENTARIAUG</th>\n",
              "      <th>DESCRICAO</th>\n",
              "      <th>VALORLANCAMENTO</th>\n",
              "    </tr>\n",
              "  </thead>\n",
              "  <tbody>\n",
              "    <tr>\n",
              "      <th>0</th>\n",
              "      <td>2012-03-01</td>\n",
              "      <td>2012</td>\n",
              "      <td>Alienação de Bens</td>\n",
              "      <td>9</td>\n",
              "      <td>917220101</td>\n",
              "      <td>Dedução de Cota-Parte do ICMS - FUNDEB</td>\n",
              "      <td>-3377520.83</td>\n",
              "    </tr>\n",
              "    <tr>\n",
              "      <th>1</th>\n",
              "      <td>2012-03-01</td>\n",
              "      <td>2012</td>\n",
              "      <td>Alienação de Bens</td>\n",
              "      <td>9</td>\n",
              "      <td>917220102</td>\n",
              "      <td>Dedução de Cota-Parte do IPVA - FUNDEB</td>\n",
              "      <td>-1873826.21</td>\n",
              "    </tr>\n",
              "    <tr>\n",
              "      <th>2</th>\n",
              "      <td>2012-05-01</td>\n",
              "      <td>2012</td>\n",
              "      <td>Alienação de Bens</td>\n",
              "      <td>9</td>\n",
              "      <td>917220102</td>\n",
              "      <td>Dedução de Cota-Parte do IPVA - FUNDEB</td>\n",
              "      <td>-12653.68</td>\n",
              "    </tr>\n",
              "    <tr>\n",
              "      <th>3</th>\n",
              "      <td>2012-06-01</td>\n",
              "      <td>2012</td>\n",
              "      <td>Alienação de Bens</td>\n",
              "      <td>9</td>\n",
              "      <td>917220102</td>\n",
              "      <td>Dedução de Cota-Parte do IPVA - FUNDEB</td>\n",
              "      <td>-177813.32</td>\n",
              "    </tr>\n",
              "    <tr>\n",
              "      <th>4</th>\n",
              "      <td>2012-07-01</td>\n",
              "      <td>2012</td>\n",
              "      <td>Alienação de Bens</td>\n",
              "      <td>9</td>\n",
              "      <td>917220101</td>\n",
              "      <td>Dedução de Cota-Parte do ICMS - FUNDEB</td>\n",
              "      <td>-4094020.44</td>\n",
              "    </tr>\n",
              "  </tbody>\n",
              "</table>\n",
              "</div>\n",
              "      <button class=\"colab-df-convert\" onclick=\"convertToInteractive('df-08f4206f-4b71-4610-95eb-daf629eee2af')\"\n",
              "              title=\"Convert this dataframe to an interactive table.\"\n",
              "              style=\"display:none;\">\n",
              "        \n",
              "  <svg xmlns=\"http://www.w3.org/2000/svg\" height=\"24px\"viewBox=\"0 0 24 24\"\n",
              "       width=\"24px\">\n",
              "    <path d=\"M0 0h24v24H0V0z\" fill=\"none\"/>\n",
              "    <path d=\"M18.56 5.44l.94 2.06.94-2.06 2.06-.94-2.06-.94-.94-2.06-.94 2.06-2.06.94zm-11 1L8.5 8.5l.94-2.06 2.06-.94-2.06-.94L8.5 2.5l-.94 2.06-2.06.94zm10 10l.94 2.06.94-2.06 2.06-.94-2.06-.94-.94-2.06-.94 2.06-2.06.94z\"/><path d=\"M17.41 7.96l-1.37-1.37c-.4-.4-.92-.59-1.43-.59-.52 0-1.04.2-1.43.59L10.3 9.45l-7.72 7.72c-.78.78-.78 2.05 0 2.83L4 21.41c.39.39.9.59 1.41.59.51 0 1.02-.2 1.41-.59l7.78-7.78 2.81-2.81c.8-.78.8-2.07 0-2.86zM5.41 20L4 18.59l7.72-7.72 1.47 1.35L5.41 20z\"/>\n",
              "  </svg>\n",
              "      </button>\n",
              "      \n",
              "  <style>\n",
              "    .colab-df-container {\n",
              "      display:flex;\n",
              "      flex-wrap:wrap;\n",
              "      gap: 12px;\n",
              "    }\n",
              "\n",
              "    .colab-df-convert {\n",
              "      background-color: #E8F0FE;\n",
              "      border: none;\n",
              "      border-radius: 50%;\n",
              "      cursor: pointer;\n",
              "      display: none;\n",
              "      fill: #1967D2;\n",
              "      height: 32px;\n",
              "      padding: 0 0 0 0;\n",
              "      width: 32px;\n",
              "    }\n",
              "\n",
              "    .colab-df-convert:hover {\n",
              "      background-color: #E2EBFA;\n",
              "      box-shadow: 0px 1px 2px rgba(60, 64, 67, 0.3), 0px 1px 3px 1px rgba(60, 64, 67, 0.15);\n",
              "      fill: #174EA6;\n",
              "    }\n",
              "\n",
              "    [theme=dark] .colab-df-convert {\n",
              "      background-color: #3B4455;\n",
              "      fill: #D2E3FC;\n",
              "    }\n",
              "\n",
              "    [theme=dark] .colab-df-convert:hover {\n",
              "      background-color: #434B5C;\n",
              "      box-shadow: 0px 1px 3px 1px rgba(0, 0, 0, 0.15);\n",
              "      filter: drop-shadow(0px 1px 2px rgba(0, 0, 0, 0.3));\n",
              "      fill: #FFFFFF;\n",
              "    }\n",
              "  </style>\n",
              "\n",
              "      <script>\n",
              "        const buttonEl =\n",
              "          document.querySelector('#df-08f4206f-4b71-4610-95eb-daf629eee2af button.colab-df-convert');\n",
              "        buttonEl.style.display =\n",
              "          google.colab.kernel.accessAllowed ? 'block' : 'none';\n",
              "\n",
              "        async function convertToInteractive(key) {\n",
              "          const element = document.querySelector('#df-08f4206f-4b71-4610-95eb-daf629eee2af');\n",
              "          const dataTable =\n",
              "            await google.colab.kernel.invokeFunction('convertToInteractive',\n",
              "                                                     [key], {});\n",
              "          if (!dataTable) return;\n",
              "\n",
              "          const docLinkHtml = 'Like what you see? Visit the ' +\n",
              "            '<a target=\"_blank\" href=https://colab.research.google.com/notebooks/data_table.ipynb>data table notebook</a>'\n",
              "            + ' to learn more about interactive tables.';\n",
              "          element.innerHTML = '';\n",
              "          dataTable['output_type'] = 'display_data';\n",
              "          await google.colab.output.renderOutput(dataTable, element);\n",
              "          const docLink = document.createElement('div');\n",
              "          docLink.innerHTML = docLinkHtml;\n",
              "          element.appendChild(docLink);\n",
              "        }\n",
              "      </script>\n",
              "    </div>\n",
              "  </div>\n",
              "  "
            ]
          },
          "metadata": {},
          "execution_count": 21
        }
      ]
    },
    {
      "cell_type": "code",
      "source": [
        "base_dados_gravar.info()"
      ],
      "metadata": {
        "colab": {
          "base_uri": "https://localhost:8080/"
        },
        "id": "D1x7UhIIpOwA",
        "outputId": "3deb10a9-67b6-4662-a64f-4ad663c2fa40"
      },
      "execution_count": null,
      "outputs": [
        {
          "output_type": "stream",
          "name": "stdout",
          "text": [
            "<class 'pandas.core.frame.DataFrame'>\n",
            "Int64Index: 14389 entries, 0 to 14405\n",
            "Data columns (total 7 columns):\n",
            " #   Column                       Non-Null Count  Dtype         \n",
            "---  ------                       --------------  -----         \n",
            " 0   COMPETENCIA                  14389 non-null  datetime64[ns]\n",
            " 1   ANOREFERENCIA                14389 non-null  object        \n",
            " 2   ORIGEMRECEITA                14389 non-null  object        \n",
            " 3   DEDUCAORECEITA               14389 non-null  object        \n",
            " 4   NUMERORECEITAORCAMENTARIAUG  14389 non-null  int64         \n",
            " 5   DESCRICAO                    14389 non-null  object        \n",
            " 6   VALORLANCAMENTO              14389 non-null  float64       \n",
            "dtypes: datetime64[ns](1), float64(1), int64(1), object(4)\n",
            "memory usage: 899.3+ KB\n"
          ]
        }
      ]
    },
    {
      "cell_type": "code",
      "source": [
        "base_dados_gravar.loc[base_dados_gravar['ANOREFERENCIA'] == \"2022\"].to_csv('/content/base_dados_FPM_inicio_check.csv')"
      ],
      "metadata": {
        "id": "ekx7hXk_wvk1"
      },
      "execution_count": null,
      "outputs": []
    },
    {
      "cell_type": "code",
      "source": [
        "# Transformar data em texto para armazenamento no banco de dados - hipótese de explicação do erro.\n",
        "base_dados_gravar['COMPETENCIA'] = base_dados_gravar['COMPETENCIA'].astype(str)"
      ],
      "metadata": {
        "colab": {
          "base_uri": "https://localhost:8080/"
        },
        "id": "nRWOFutG1yov",
        "outputId": "ec03e967-9f2c-420e-b4e6-0d76f30ecac1"
      },
      "execution_count": null,
      "outputs": [
        {
          "output_type": "stream",
          "name": "stderr",
          "text": [
            "/usr/local/lib/python3.7/dist-packages/ipykernel_launcher.py:2: SettingWithCopyWarning: \n",
            "A value is trying to be set on a copy of a slice from a DataFrame.\n",
            "Try using .loc[row_indexer,col_indexer] = value instead\n",
            "\n",
            "See the caveats in the documentation: https://pandas.pydata.org/pandas-docs/stable/user_guide/indexing.html#returning-a-view-versus-a-copy\n",
            "  \n"
          ]
        }
      ]
    },
    {
      "cell_type": "code",
      "source": [
        "# Criar conexão\n",
        "con = sqlite3.connect('baseTransferencias.db')\n",
        "\n",
        "# Criar cursor\n",
        "cur = con.cursor()"
      ],
      "metadata": {
        "id": "nZOt6jBGP3zs"
      },
      "execution_count": null,
      "outputs": []
    },
    {
      "cell_type": "code",
      "source": [
        "#Inserir DE-PARA receitas no banco de dados - Fazer upload do arquivo.\n",
        "receitas_tratadas = pd.read_csv('/content/receitas_tratadas.csv', sep=';', encoding='ISO-8859–1')"
      ],
      "metadata": {
        "id": "-SwL7l9w4CM8"
      },
      "execution_count": null,
      "outputs": []
    },
    {
      "cell_type": "code",
      "source": [
        "receitas_tratadas.head()"
      ],
      "metadata": {
        "colab": {
          "base_uri": "https://localhost:8080/",
          "height": 302
        },
        "id": "P1cN24zW4CQy",
        "outputId": "6a4d3e0f-9d94-4e8c-aa6a-2dc1cae0a5c2"
      },
      "execution_count": null,
      "outputs": [
        {
          "output_type": "execute_result",
          "data": {
            "text/plain": [
              "   NUMERORECEITAORCAMENTARIAUG  \\\n",
              "0                    917220101   \n",
              "1                    917220102   \n",
              "2                    917220104   \n",
              "3                    917230000   \n",
              "4                    917213600   \n",
              "\n",
              "                                           DESCRICAO  \\\n",
              "0             Deducao de Cota-Parte do ICMS - FUNDEB   \n",
              "1             Deducao de Cota-Parte do IPVA - FUNDEB   \n",
              "2  Deducao de Cota-Parte do IPI sobre Exportacao ...   \n",
              "3           Deducao de Transferencias dos Municipios   \n",
              "4  Deducao de Transferencia Financeira do ICMS De...   \n",
              "\n",
              "              CLASSIFICACAO_SEREC     DETALHAMENTO  \n",
              "0                            ICMS   DEDUCAO FUNDEB  \n",
              "1                            IPVA   DEDUCAO FUNDEB  \n",
              "2                  IPI ExportaCAo   DEDUCAO FUNDEB  \n",
              "3           OUTRAS TRANSFERENCIAS  OUTRAS DEDUCOES  \n",
              "4  ICMS DesoneraCAo L.C. Nº 87.96   DEDUCAO FUNDEB  "
            ],
            "text/html": [
              "\n",
              "  <div id=\"df-50a366d5-b8c2-4b94-b3e1-d7c75dbdbf71\">\n",
              "    <div class=\"colab-df-container\">\n",
              "      <div>\n",
              "<style scoped>\n",
              "    .dataframe tbody tr th:only-of-type {\n",
              "        vertical-align: middle;\n",
              "    }\n",
              "\n",
              "    .dataframe tbody tr th {\n",
              "        vertical-align: top;\n",
              "    }\n",
              "\n",
              "    .dataframe thead th {\n",
              "        text-align: right;\n",
              "    }\n",
              "</style>\n",
              "<table border=\"1\" class=\"dataframe\">\n",
              "  <thead>\n",
              "    <tr style=\"text-align: right;\">\n",
              "      <th></th>\n",
              "      <th>NUMERORECEITAORCAMENTARIAUG</th>\n",
              "      <th>DESCRICAO</th>\n",
              "      <th>CLASSIFICACAO_SEREC</th>\n",
              "      <th>DETALHAMENTO</th>\n",
              "    </tr>\n",
              "  </thead>\n",
              "  <tbody>\n",
              "    <tr>\n",
              "      <th>0</th>\n",
              "      <td>917220101</td>\n",
              "      <td>Deducao de Cota-Parte do ICMS - FUNDEB</td>\n",
              "      <td>ICMS</td>\n",
              "      <td>DEDUCAO FUNDEB</td>\n",
              "    </tr>\n",
              "    <tr>\n",
              "      <th>1</th>\n",
              "      <td>917220102</td>\n",
              "      <td>Deducao de Cota-Parte do IPVA - FUNDEB</td>\n",
              "      <td>IPVA</td>\n",
              "      <td>DEDUCAO FUNDEB</td>\n",
              "    </tr>\n",
              "    <tr>\n",
              "      <th>2</th>\n",
              "      <td>917220104</td>\n",
              "      <td>Deducao de Cota-Parte do IPI sobre Exportacao ...</td>\n",
              "      <td>IPI ExportaCAo</td>\n",
              "      <td>DEDUCAO FUNDEB</td>\n",
              "    </tr>\n",
              "    <tr>\n",
              "      <th>3</th>\n",
              "      <td>917230000</td>\n",
              "      <td>Deducao de Transferencias dos Municipios</td>\n",
              "      <td>OUTRAS TRANSFERENCIAS</td>\n",
              "      <td>OUTRAS DEDUCOES</td>\n",
              "    </tr>\n",
              "    <tr>\n",
              "      <th>4</th>\n",
              "      <td>917213600</td>\n",
              "      <td>Deducao de Transferencia Financeira do ICMS De...</td>\n",
              "      <td>ICMS DesoneraCAo L.C. Nº 87.96</td>\n",
              "      <td>DEDUCAO FUNDEB</td>\n",
              "    </tr>\n",
              "  </tbody>\n",
              "</table>\n",
              "</div>\n",
              "      <button class=\"colab-df-convert\" onclick=\"convertToInteractive('df-50a366d5-b8c2-4b94-b3e1-d7c75dbdbf71')\"\n",
              "              title=\"Convert this dataframe to an interactive table.\"\n",
              "              style=\"display:none;\">\n",
              "        \n",
              "  <svg xmlns=\"http://www.w3.org/2000/svg\" height=\"24px\"viewBox=\"0 0 24 24\"\n",
              "       width=\"24px\">\n",
              "    <path d=\"M0 0h24v24H0V0z\" fill=\"none\"/>\n",
              "    <path d=\"M18.56 5.44l.94 2.06.94-2.06 2.06-.94-2.06-.94-.94-2.06-.94 2.06-2.06.94zm-11 1L8.5 8.5l.94-2.06 2.06-.94-2.06-.94L8.5 2.5l-.94 2.06-2.06.94zm10 10l.94 2.06.94-2.06 2.06-.94-2.06-.94-.94-2.06-.94 2.06-2.06.94z\"/><path d=\"M17.41 7.96l-1.37-1.37c-.4-.4-.92-.59-1.43-.59-.52 0-1.04.2-1.43.59L10.3 9.45l-7.72 7.72c-.78.78-.78 2.05 0 2.83L4 21.41c.39.39.9.59 1.41.59.51 0 1.02-.2 1.41-.59l7.78-7.78 2.81-2.81c.8-.78.8-2.07 0-2.86zM5.41 20L4 18.59l7.72-7.72 1.47 1.35L5.41 20z\"/>\n",
              "  </svg>\n",
              "      </button>\n",
              "      \n",
              "  <style>\n",
              "    .colab-df-container {\n",
              "      display:flex;\n",
              "      flex-wrap:wrap;\n",
              "      gap: 12px;\n",
              "    }\n",
              "\n",
              "    .colab-df-convert {\n",
              "      background-color: #E8F0FE;\n",
              "      border: none;\n",
              "      border-radius: 50%;\n",
              "      cursor: pointer;\n",
              "      display: none;\n",
              "      fill: #1967D2;\n",
              "      height: 32px;\n",
              "      padding: 0 0 0 0;\n",
              "      width: 32px;\n",
              "    }\n",
              "\n",
              "    .colab-df-convert:hover {\n",
              "      background-color: #E2EBFA;\n",
              "      box-shadow: 0px 1px 2px rgba(60, 64, 67, 0.3), 0px 1px 3px 1px rgba(60, 64, 67, 0.15);\n",
              "      fill: #174EA6;\n",
              "    }\n",
              "\n",
              "    [theme=dark] .colab-df-convert {\n",
              "      background-color: #3B4455;\n",
              "      fill: #D2E3FC;\n",
              "    }\n",
              "\n",
              "    [theme=dark] .colab-df-convert:hover {\n",
              "      background-color: #434B5C;\n",
              "      box-shadow: 0px 1px 3px 1px rgba(0, 0, 0, 0.15);\n",
              "      filter: drop-shadow(0px 1px 2px rgba(0, 0, 0, 0.3));\n",
              "      fill: #FFFFFF;\n",
              "    }\n",
              "  </style>\n",
              "\n",
              "      <script>\n",
              "        const buttonEl =\n",
              "          document.querySelector('#df-50a366d5-b8c2-4b94-b3e1-d7c75dbdbf71 button.colab-df-convert');\n",
              "        buttonEl.style.display =\n",
              "          google.colab.kernel.accessAllowed ? 'block' : 'none';\n",
              "\n",
              "        async function convertToInteractive(key) {\n",
              "          const element = document.querySelector('#df-50a366d5-b8c2-4b94-b3e1-d7c75dbdbf71');\n",
              "          const dataTable =\n",
              "            await google.colab.kernel.invokeFunction('convertToInteractive',\n",
              "                                                     [key], {});\n",
              "          if (!dataTable) return;\n",
              "\n",
              "          const docLinkHtml = 'Like what you see? Visit the ' +\n",
              "            '<a target=\"_blank\" href=https://colab.research.google.com/notebooks/data_table.ipynb>data table notebook</a>'\n",
              "            + ' to learn more about interactive tables.';\n",
              "          element.innerHTML = '';\n",
              "          dataTable['output_type'] = 'display_data';\n",
              "          await google.colab.output.renderOutput(dataTable, element);\n",
              "          const docLink = document.createElement('div');\n",
              "          docLink.innerHTML = docLinkHtml;\n",
              "          element.appendChild(docLink);\n",
              "        }\n",
              "      </script>\n",
              "    </div>\n",
              "  </div>\n",
              "  "
            ]
          },
          "metadata": {},
          "execution_count": 33
        }
      ]
    },
    {
      "cell_type": "code",
      "source": [
        "#Criar tabela auxiliar\n",
        "cur.execute('''CREATE TABLE receitasDePara\n",
        "               (numeroReceitaOrcamentariaUG_2 text,\n",
        "               classificacaoSerec text,\n",
        "               detalhamento text\n",
        "               )\n",
        "               ''')"
      ],
      "metadata": {
        "colab": {
          "base_uri": "https://localhost:8080/"
        },
        "id": "4o9f9x8I_ohC",
        "outputId": "e3d9b9b3-3528-433a-de61-85a30764f320"
      },
      "execution_count": null,
      "outputs": [
        {
          "output_type": "execute_result",
          "data": {
            "text/plain": [
              "<sqlite3.Cursor at 0x7fd6705db110>"
            ]
          },
          "metadata": {},
          "execution_count": 34
        }
      ]
    },
    {
      "cell_type": "code",
      "source": [
        "#Inserir dados na tabela\n",
        "receitas_tratadas_normalizadas = receitas_tratadas[['NUMERORECEITAORCAMENTARIAUG',\t\n",
        "                                                    'CLASSIFICACAO_SEREC', \n",
        "                                                    'DETALHAMENTO']]\n",
        "receitas_tratadas_lista = receitas_tratadas_normalizadas.values.tolist()\n",
        "\n",
        "try:\n",
        "  cur.executemany(\"INSERT INTO receitasDePara (numeroReceitaOrcamentariaUG_2, classificacaoSerec, detalhamento) VALUES (?, ?, ?)\", receitas_tratadas_lista)\n",
        "  con.commit()\n",
        "  print(\"Dados inseridos com sucesso.\")\n",
        "except Exception as e:\n",
        "  print(str(e))\n",
        "  print(\"Falha na inserção de dados.\")\n",
        "finally:\n",
        "  pass"
      ],
      "metadata": {
        "colab": {
          "base_uri": "https://localhost:8080/"
        },
        "id": "l4zDrY76BQ-S",
        "outputId": "9d9b49cc-e6f3-48ba-8756-ec436537c34e"
      },
      "execution_count": null,
      "outputs": [
        {
          "output_type": "stream",
          "name": "stdout",
          "text": [
            "Dados inseridos com sucesso.\n"
          ]
        }
      ]
    },
    {
      "cell_type": "code",
      "source": [
        "#Criar tabela principal\n",
        "cur.execute('''CREATE TABLE transferencias\n",
        "               (data text,\n",
        "               ano text,\n",
        "               origemReceita text, \n",
        "               deducaoReceita text,\n",
        "               numeroReceitaOrcamentariaUG text,\n",
        "               descricao text,\n",
        "               valor real,\n",
        "               FOREIGN KEY (numeroReceitaOrcamentariaUG) REFERENCES receitaDePara(numeroReceitaOrcamentariaUG_2))\n",
        "               ''')"
      ],
      "metadata": {
        "colab": {
          "base_uri": "https://localhost:8080/"
        },
        "id": "D_Fm4J8ys8-c",
        "outputId": "5737c84b-d9ac-48c7-e4ca-837dce905692"
      },
      "execution_count": null,
      "outputs": [
        {
          "output_type": "execute_result",
          "data": {
            "text/plain": [
              "<sqlite3.Cursor at 0x7fd6705db110>"
            ]
          },
          "metadata": {},
          "execution_count": 36
        }
      ]
    },
    {
      "cell_type": "code",
      "source": [
        "#Inserir dados na tabela\n",
        "base_dados_lista = base_dados_gravar.values.tolist()\n",
        "\n",
        "try:\n",
        "  cur.executemany(\"INSERT INTO transferencias (data, ano, origemReceita, deducaoReceita, numeroReceitaOrcamentariaUG, descricao, valor) VALUES (?, ?, ?, ?, ?, ?, ?)\", base_dados_lista)\n",
        "  con.commit()\n",
        "  print(\"Dados inseridos com sucesso.\")\n",
        "except Exception as e:\n",
        "  print(str(e))\n",
        "  print(\"Falha na inserção de dados.\")\n",
        "finally:\n",
        "  con.close()"
      ],
      "metadata": {
        "colab": {
          "base_uri": "https://localhost:8080/"
        },
        "id": "wNX7gw4g0GzH",
        "outputId": "de9b1d93-8dc7-477c-fbcc-9181e315309c"
      },
      "execution_count": null,
      "outputs": [
        {
          "output_type": "stream",
          "name": "stdout",
          "text": [
            "Dados inseridos com sucesso.\n"
          ]
        }
      ]
    },
    {
      "cell_type": "markdown",
      "source": [
        "# ETAPA 02 - Organização dos dados para Previsão"
      ],
      "metadata": {
        "id": "g6VbiBGAEkEm"
      }
    },
    {
      "cell_type": "markdown",
      "source": [
        "## Salvar tabelas em variáveis"
      ],
      "metadata": {
        "id": "QCzom8xmEwWp"
      }
    },
    {
      "cell_type": "code",
      "source": [
        "# Criar nova conexão e consultar tabelas gravadas no Banco de dados \n",
        "con = sqlite3.connect('baseTransferencias correto até maio-22.db')\n",
        "cur = con.cursor()"
      ],
      "metadata": {
        "id": "s9vjmi-o0Day"
      },
      "execution_count": 2,
      "outputs": []
    },
    {
      "cell_type": "code",
      "source": [
        "# Tabela Principal\n",
        "cur.execute(\"SELECT * FROM transferencias where data >= '2013-01-01' and ano <= '2021-12-31'\")\n",
        "tabela_principal = cur.fetchall()\n",
        "tabela_principal = pd.DataFrame(tabela_principal)\n",
        "tabela_principal.columns = ['COMPETENCIA', 'ANOREFERENCIA', 'ORIGEMRECEITA', 'DEDUCAORECEITA', 'NUMERORECEITAORCAMENTARIAUG', 'DESCRICAO', 'VALORLANCAMENTO']"
      ],
      "metadata": {
        "id": "dUIMBjntHQx-"
      },
      "execution_count": 3,
      "outputs": []
    },
    {
      "cell_type": "code",
      "source": [
        "tabela_principal.columns"
      ],
      "metadata": {
        "colab": {
          "base_uri": "https://localhost:8080/"
        },
        "id": "xW2TKY7HrBFA",
        "outputId": "555c3254-5157-4925-b2d0-962827a5e345"
      },
      "execution_count": 4,
      "outputs": [
        {
          "output_type": "execute_result",
          "data": {
            "text/plain": [
              "Index(['COMPETENCIA', 'ANOREFERENCIA', 'ORIGEMRECEITA', 'DEDUCAORECEITA',\n",
              "       'NUMERORECEITAORCAMENTARIAUG', 'DESCRICAO', 'VALORLANCAMENTO'],\n",
              "      dtype='object')"
            ]
          },
          "metadata": {},
          "execution_count": 4
        }
      ]
    },
    {
      "cell_type": "code",
      "source": [
        "# Tabela Auxiliar\n",
        "cur.execute(\"SELECT * FROM receitasDePara\")\n",
        "tabela_auxiliar = cur.fetchall()\n",
        "tabela_auxiliar = pd.DataFrame(tabela_auxiliar)\n",
        "tabela_auxiliar.columns = ['NUMERORECEITAORCAMENTARIAUG', 'CLASSIFICACAO_SEREC', 'DETALHAMENTO']"
      ],
      "metadata": {
        "id": "S0kyiC2bHl31"
      },
      "execution_count": 5,
      "outputs": []
    },
    {
      "cell_type": "code",
      "source": [
        "tabela_principal.info() #Quantidade de dados confere"
      ],
      "metadata": {
        "colab": {
          "base_uri": "https://localhost:8080/"
        },
        "id": "PpCz-y03IE_n",
        "outputId": "5ab2828c-04c1-46fe-ca83-56d04a0f0844"
      },
      "execution_count": 6,
      "outputs": [
        {
          "output_type": "stream",
          "name": "stdout",
          "text": [
            "<class 'pandas.core.frame.DataFrame'>\n",
            "RangeIndex: 12404 entries, 0 to 12403\n",
            "Data columns (total 7 columns):\n",
            " #   Column                       Non-Null Count  Dtype  \n",
            "---  ------                       --------------  -----  \n",
            " 0   COMPETENCIA                  12404 non-null  object \n",
            " 1   ANOREFERENCIA                12404 non-null  object \n",
            " 2   ORIGEMRECEITA                12404 non-null  object \n",
            " 3   DEDUCAORECEITA               12404 non-null  object \n",
            " 4   NUMERORECEITAORCAMENTARIAUG  12404 non-null  object \n",
            " 5   DESCRICAO                    12404 non-null  object \n",
            " 6   VALORLANCAMENTO              12404 non-null  float64\n",
            "dtypes: float64(1), object(6)\n",
            "memory usage: 678.5+ KB\n"
          ]
        }
      ]
    },
    {
      "cell_type": "code",
      "source": [
        "tabela_auxiliar"
      ],
      "metadata": {
        "colab": {
          "base_uri": "https://localhost:8080/",
          "height": 424
        },
        "id": "AxJ4lVHAIE2f",
        "outputId": "4548c3aa-d637-42f3-cb0c-82e72e6b6b00"
      },
      "execution_count": 7,
      "outputs": [
        {
          "output_type": "execute_result",
          "data": {
            "text/plain": [
              "    NUMERORECEITAORCAMENTARIAUG             CLASSIFICACAO_SEREC  \\\n",
              "0                     917220101                            ICMS   \n",
              "1                     917220102                            IPVA   \n",
              "2                     917220104                  IPI ExportaCAo   \n",
              "3                     917230000           OUTRAS TRANSFERENCIAS   \n",
              "4                     917213600  ICMS DesoneraCAo L.C. Nº 87.96   \n",
              "..                          ...                             ...   \n",
              "287                    17149901                            None   \n",
              "288                    17165011                            None   \n",
              "289                    13110203                            None   \n",
              "290                    17179901                            None   \n",
              "291                    21199901                            None   \n",
              "\n",
              "        DETALHAMENTO  \n",
              "0     DEDUCAO FUNDEB  \n",
              "1     DEDUCAO FUNDEB  \n",
              "2     DEDUCAO FUNDEB  \n",
              "3    OUTRAS DEDUCOES  \n",
              "4     DEDUCAO FUNDEB  \n",
              "..               ...  \n",
              "287             None  \n",
              "288             None  \n",
              "289             None  \n",
              "290             None  \n",
              "291             None  \n",
              "\n",
              "[292 rows x 3 columns]"
            ],
            "text/html": [
              "\n",
              "  <div id=\"df-20eff2a4-62b9-4028-ab0b-733b2c1e5a4f\">\n",
              "    <div class=\"colab-df-container\">\n",
              "      <div>\n",
              "<style scoped>\n",
              "    .dataframe tbody tr th:only-of-type {\n",
              "        vertical-align: middle;\n",
              "    }\n",
              "\n",
              "    .dataframe tbody tr th {\n",
              "        vertical-align: top;\n",
              "    }\n",
              "\n",
              "    .dataframe thead th {\n",
              "        text-align: right;\n",
              "    }\n",
              "</style>\n",
              "<table border=\"1\" class=\"dataframe\">\n",
              "  <thead>\n",
              "    <tr style=\"text-align: right;\">\n",
              "      <th></th>\n",
              "      <th>NUMERORECEITAORCAMENTARIAUG</th>\n",
              "      <th>CLASSIFICACAO_SEREC</th>\n",
              "      <th>DETALHAMENTO</th>\n",
              "    </tr>\n",
              "  </thead>\n",
              "  <tbody>\n",
              "    <tr>\n",
              "      <th>0</th>\n",
              "      <td>917220101</td>\n",
              "      <td>ICMS</td>\n",
              "      <td>DEDUCAO FUNDEB</td>\n",
              "    </tr>\n",
              "    <tr>\n",
              "      <th>1</th>\n",
              "      <td>917220102</td>\n",
              "      <td>IPVA</td>\n",
              "      <td>DEDUCAO FUNDEB</td>\n",
              "    </tr>\n",
              "    <tr>\n",
              "      <th>2</th>\n",
              "      <td>917220104</td>\n",
              "      <td>IPI ExportaCAo</td>\n",
              "      <td>DEDUCAO FUNDEB</td>\n",
              "    </tr>\n",
              "    <tr>\n",
              "      <th>3</th>\n",
              "      <td>917230000</td>\n",
              "      <td>OUTRAS TRANSFERENCIAS</td>\n",
              "      <td>OUTRAS DEDUCOES</td>\n",
              "    </tr>\n",
              "    <tr>\n",
              "      <th>4</th>\n",
              "      <td>917213600</td>\n",
              "      <td>ICMS DesoneraCAo L.C. Nº 87.96</td>\n",
              "      <td>DEDUCAO FUNDEB</td>\n",
              "    </tr>\n",
              "    <tr>\n",
              "      <th>...</th>\n",
              "      <td>...</td>\n",
              "      <td>...</td>\n",
              "      <td>...</td>\n",
              "    </tr>\n",
              "    <tr>\n",
              "      <th>287</th>\n",
              "      <td>17149901</td>\n",
              "      <td>None</td>\n",
              "      <td>None</td>\n",
              "    </tr>\n",
              "    <tr>\n",
              "      <th>288</th>\n",
              "      <td>17165011</td>\n",
              "      <td>None</td>\n",
              "      <td>None</td>\n",
              "    </tr>\n",
              "    <tr>\n",
              "      <th>289</th>\n",
              "      <td>13110203</td>\n",
              "      <td>None</td>\n",
              "      <td>None</td>\n",
              "    </tr>\n",
              "    <tr>\n",
              "      <th>290</th>\n",
              "      <td>17179901</td>\n",
              "      <td>None</td>\n",
              "      <td>None</td>\n",
              "    </tr>\n",
              "    <tr>\n",
              "      <th>291</th>\n",
              "      <td>21199901</td>\n",
              "      <td>None</td>\n",
              "      <td>None</td>\n",
              "    </tr>\n",
              "  </tbody>\n",
              "</table>\n",
              "<p>292 rows × 3 columns</p>\n",
              "</div>\n",
              "      <button class=\"colab-df-convert\" onclick=\"convertToInteractive('df-20eff2a4-62b9-4028-ab0b-733b2c1e5a4f')\"\n",
              "              title=\"Convert this dataframe to an interactive table.\"\n",
              "              style=\"display:none;\">\n",
              "        \n",
              "  <svg xmlns=\"http://www.w3.org/2000/svg\" height=\"24px\"viewBox=\"0 0 24 24\"\n",
              "       width=\"24px\">\n",
              "    <path d=\"M0 0h24v24H0V0z\" fill=\"none\"/>\n",
              "    <path d=\"M18.56 5.44l.94 2.06.94-2.06 2.06-.94-2.06-.94-.94-2.06-.94 2.06-2.06.94zm-11 1L8.5 8.5l.94-2.06 2.06-.94-2.06-.94L8.5 2.5l-.94 2.06-2.06.94zm10 10l.94 2.06.94-2.06 2.06-.94-2.06-.94-.94-2.06-.94 2.06-2.06.94z\"/><path d=\"M17.41 7.96l-1.37-1.37c-.4-.4-.92-.59-1.43-.59-.52 0-1.04.2-1.43.59L10.3 9.45l-7.72 7.72c-.78.78-.78 2.05 0 2.83L4 21.41c.39.39.9.59 1.41.59.51 0 1.02-.2 1.41-.59l7.78-7.78 2.81-2.81c.8-.78.8-2.07 0-2.86zM5.41 20L4 18.59l7.72-7.72 1.47 1.35L5.41 20z\"/>\n",
              "  </svg>\n",
              "      </button>\n",
              "      \n",
              "  <style>\n",
              "    .colab-df-container {\n",
              "      display:flex;\n",
              "      flex-wrap:wrap;\n",
              "      gap: 12px;\n",
              "    }\n",
              "\n",
              "    .colab-df-convert {\n",
              "      background-color: #E8F0FE;\n",
              "      border: none;\n",
              "      border-radius: 50%;\n",
              "      cursor: pointer;\n",
              "      display: none;\n",
              "      fill: #1967D2;\n",
              "      height: 32px;\n",
              "      padding: 0 0 0 0;\n",
              "      width: 32px;\n",
              "    }\n",
              "\n",
              "    .colab-df-convert:hover {\n",
              "      background-color: #E2EBFA;\n",
              "      box-shadow: 0px 1px 2px rgba(60, 64, 67, 0.3), 0px 1px 3px 1px rgba(60, 64, 67, 0.15);\n",
              "      fill: #174EA6;\n",
              "    }\n",
              "\n",
              "    [theme=dark] .colab-df-convert {\n",
              "      background-color: #3B4455;\n",
              "      fill: #D2E3FC;\n",
              "    }\n",
              "\n",
              "    [theme=dark] .colab-df-convert:hover {\n",
              "      background-color: #434B5C;\n",
              "      box-shadow: 0px 1px 3px 1px rgba(0, 0, 0, 0.15);\n",
              "      filter: drop-shadow(0px 1px 2px rgba(0, 0, 0, 0.3));\n",
              "      fill: #FFFFFF;\n",
              "    }\n",
              "  </style>\n",
              "\n",
              "      <script>\n",
              "        const buttonEl =\n",
              "          document.querySelector('#df-20eff2a4-62b9-4028-ab0b-733b2c1e5a4f button.colab-df-convert');\n",
              "        buttonEl.style.display =\n",
              "          google.colab.kernel.accessAllowed ? 'block' : 'none';\n",
              "\n",
              "        async function convertToInteractive(key) {\n",
              "          const element = document.querySelector('#df-20eff2a4-62b9-4028-ab0b-733b2c1e5a4f');\n",
              "          const dataTable =\n",
              "            await google.colab.kernel.invokeFunction('convertToInteractive',\n",
              "                                                     [key], {});\n",
              "          if (!dataTable) return;\n",
              "\n",
              "          const docLinkHtml = 'Like what you see? Visit the ' +\n",
              "            '<a target=\"_blank\" href=https://colab.research.google.com/notebooks/data_table.ipynb>data table notebook</a>'\n",
              "            + ' to learn more about interactive tables.';\n",
              "          element.innerHTML = '';\n",
              "          dataTable['output_type'] = 'display_data';\n",
              "          await google.colab.output.renderOutput(dataTable, element);\n",
              "          const docLink = document.createElement('div');\n",
              "          docLink.innerHTML = docLinkHtml;\n",
              "          element.appendChild(docLink);\n",
              "        }\n",
              "      </script>\n",
              "    </div>\n",
              "  </div>\n",
              "  "
            ]
          },
          "metadata": {},
          "execution_count": 7
        }
      ]
    },
    {
      "cell_type": "code",
      "source": [
        "con.close()"
      ],
      "metadata": {
        "id": "rDkOhd48MoaR"
      },
      "execution_count": 8,
      "outputs": []
    },
    {
      "cell_type": "markdown",
      "source": [
        "## Juntar tabelas e filtrar apenas Receita com Fundo de Participação dos Municípios"
      ],
      "metadata": {
        "id": "PBTZdtYTE8Sd"
      }
    },
    {
      "cell_type": "code",
      "source": [
        "tabela_completa = None\n",
        "tabela_completa = tabela_principal.merge(tabela_auxiliar, how='inner', on='NUMERORECEITAORCAMENTARIAUG')"
      ],
      "metadata": {
        "id": "ocLzYKUVJsCZ"
      },
      "execution_count": 9,
      "outputs": []
    },
    {
      "cell_type": "code",
      "source": [
        "tabela_completa.shape"
      ],
      "metadata": {
        "colab": {
          "base_uri": "https://localhost:8080/"
        },
        "id": "AmykBtZJLhLW",
        "outputId": "2485d384-f65d-4808-c158-a3fc31b0b579"
      },
      "execution_count": 10,
      "outputs": [
        {
          "output_type": "execute_result",
          "data": {
            "text/plain": [
              "(13555, 9)"
            ]
          },
          "metadata": {},
          "execution_count": 10
        }
      ]
    },
    {
      "cell_type": "code",
      "source": [
        "tabela_completa.drop_duplicates(inplace=True)"
      ],
      "metadata": {
        "id": "z5lzKhRvLWd9"
      },
      "execution_count": 11,
      "outputs": []
    },
    {
      "cell_type": "code",
      "source": [
        "tabela_completa.shape"
      ],
      "metadata": {
        "colab": {
          "base_uri": "https://localhost:8080/"
        },
        "id": "y_WI_3Z3LhSS",
        "outputId": "a512c3f2-729c-41b0-c010-4bce4657b814"
      },
      "execution_count": 12,
      "outputs": [
        {
          "output_type": "execute_result",
          "data": {
            "text/plain": [
              "(12460, 9)"
            ]
          },
          "metadata": {},
          "execution_count": 12
        }
      ]
    },
    {
      "cell_type": "code",
      "source": [
        "# Filtrar receita FPM\n",
        "tabela_receita_FPM = tabela_completa.loc[tabela_completa['CLASSIFICACAO_SEREC'] == \"FPM\"]"
      ],
      "metadata": {
        "id": "-RScfTU8PsMK"
      },
      "execution_count": 13,
      "outputs": []
    },
    {
      "cell_type": "code",
      "source": [
        "tabela_receita_FPM.info()"
      ],
      "metadata": {
        "colab": {
          "base_uri": "https://localhost:8080/"
        },
        "id": "c9W8CnFOT4gr",
        "outputId": "90af80bb-cbba-4ff7-f797-f32b0d839901"
      },
      "execution_count": 14,
      "outputs": [
        {
          "output_type": "stream",
          "name": "stdout",
          "text": [
            "<class 'pandas.core.frame.DataFrame'>\n",
            "Int64Index: 224 entries, 3613 to 13489\n",
            "Data columns (total 9 columns):\n",
            " #   Column                       Non-Null Count  Dtype  \n",
            "---  ------                       --------------  -----  \n",
            " 0   COMPETENCIA                  224 non-null    object \n",
            " 1   ANOREFERENCIA                224 non-null    object \n",
            " 2   ORIGEMRECEITA                224 non-null    object \n",
            " 3   DEDUCAORECEITA               224 non-null    object \n",
            " 4   NUMERORECEITAORCAMENTARIAUG  224 non-null    object \n",
            " 5   DESCRICAO                    224 non-null    object \n",
            " 6   VALORLANCAMENTO              224 non-null    float64\n",
            " 7   CLASSIFICACAO_SEREC          224 non-null    object \n",
            " 8   DETALHAMENTO                 224 non-null    object \n",
            "dtypes: float64(1), object(8)\n",
            "memory usage: 17.5+ KB\n"
          ]
        }
      ]
    },
    {
      "cell_type": "code",
      "source": [
        "# Transformar COMPETENCIA para Datetime\n",
        "tabela_receita_FPM['COMPETENCIA'] = pd.to_datetime(tabela_receita_FPM['COMPETENCIA'])"
      ],
      "metadata": {
        "colab": {
          "base_uri": "https://localhost:8080/"
        },
        "id": "RrtUwJACT9Cz",
        "outputId": "a8f0437b-2518-48eb-ac33-07ec4f978f38"
      },
      "execution_count": 15,
      "outputs": [
        {
          "output_type": "stream",
          "name": "stderr",
          "text": [
            "/usr/local/lib/python3.7/dist-packages/ipykernel_launcher.py:2: SettingWithCopyWarning: \n",
            "A value is trying to be set on a copy of a slice from a DataFrame.\n",
            "Try using .loc[row_indexer,col_indexer] = value instead\n",
            "\n",
            "See the caveats in the documentation: https://pandas.pydata.org/pandas-docs/stable/user_guide/indexing.html#returning-a-view-versus-a-copy\n",
            "  \n"
          ]
        }
      ]
    },
    {
      "cell_type": "code",
      "source": [
        "tabela_receita_FPM.set_index('COMPETENCIA', inplace=True)"
      ],
      "metadata": {
        "id": "wZvklcD5PsRB"
      },
      "execution_count": 16,
      "outputs": []
    },
    {
      "cell_type": "code",
      "source": [
        "tabela_receita_FPM.info()"
      ],
      "metadata": {
        "colab": {
          "base_uri": "https://localhost:8080/"
        },
        "id": "1Edm4Jp7UK6T",
        "outputId": "84d5c167-f8ad-46b9-c27b-748f983c90f5"
      },
      "execution_count": 17,
      "outputs": [
        {
          "output_type": "stream",
          "name": "stdout",
          "text": [
            "<class 'pandas.core.frame.DataFrame'>\n",
            "DatetimeIndex: 224 entries, 2013-01-01 to 2021-07-01\n",
            "Data columns (total 8 columns):\n",
            " #   Column                       Non-Null Count  Dtype  \n",
            "---  ------                       --------------  -----  \n",
            " 0   ANOREFERENCIA                224 non-null    object \n",
            " 1   ORIGEMRECEITA                224 non-null    object \n",
            " 2   DEDUCAORECEITA               224 non-null    object \n",
            " 3   NUMERORECEITAORCAMENTARIAUG  224 non-null    object \n",
            " 4   DESCRICAO                    224 non-null    object \n",
            " 5   VALORLANCAMENTO              224 non-null    float64\n",
            " 6   CLASSIFICACAO_SEREC          224 non-null    object \n",
            " 7   DETALHAMENTO                 224 non-null    object \n",
            "dtypes: float64(1), object(7)\n",
            "memory usage: 15.8+ KB\n"
          ]
        }
      ]
    },
    {
      "cell_type": "code",
      "source": [
        "# Resumir dados por Competência (soma Rubricas Orçamentárias FPM Bruto - Dedução FUNDEB FPM)\n",
        "tabela_receita_FPM = tabela_receita_FPM.resample(\"M\").sum()"
      ],
      "metadata": {
        "id": "lyOtZ296kkYS"
      },
      "execution_count": 18,
      "outputs": []
    },
    {
      "cell_type": "code",
      "source": [
        "tabela_receita_FPM.index"
      ],
      "metadata": {
        "colab": {
          "base_uri": "https://localhost:8080/"
        },
        "id": "4lWsNcHfZ1XS",
        "outputId": "d56216c7-ac92-4d2d-b266-a9e287b8339d"
      },
      "execution_count": 19,
      "outputs": [
        {
          "output_type": "execute_result",
          "data": {
            "text/plain": [
              "DatetimeIndex(['2013-01-31', '2013-02-28', '2013-03-31', '2013-04-30',\n",
              "               '2013-05-31', '2013-06-30', '2013-07-31', '2013-08-31',\n",
              "               '2013-09-30', '2013-10-31',\n",
              "               ...\n",
              "               '2021-03-31', '2021-04-30', '2021-05-31', '2021-06-30',\n",
              "               '2021-07-31', '2021-08-31', '2021-09-30', '2021-10-31',\n",
              "               '2021-11-30', '2021-12-31'],\n",
              "              dtype='datetime64[ns]', name='COMPETENCIA', length=108, freq='M')"
            ]
          },
          "metadata": {},
          "execution_count": 19
        }
      ]
    },
    {
      "cell_type": "code",
      "source": [
        "tabela_receita_FPM.info()"
      ],
      "metadata": {
        "colab": {
          "base_uri": "https://localhost:8080/"
        },
        "id": "JjmH2ZQSkokB",
        "outputId": "73533f33-a031-48b7-978f-74da2c71ed5a"
      },
      "execution_count": 20,
      "outputs": [
        {
          "output_type": "stream",
          "name": "stdout",
          "text": [
            "<class 'pandas.core.frame.DataFrame'>\n",
            "DatetimeIndex: 108 entries, 2013-01-31 to 2021-12-31\n",
            "Freq: M\n",
            "Data columns (total 1 columns):\n",
            " #   Column           Non-Null Count  Dtype  \n",
            "---  ------           --------------  -----  \n",
            " 0   VALORLANCAMENTO  108 non-null    float64\n",
            "dtypes: float64(1)\n",
            "memory usage: 1.7 KB\n"
          ]
        }
      ]
    },
    {
      "cell_type": "code",
      "source": [
        "# Gerar tabela para validação dos dados em excel\n",
        "# Checagem já realizada. tabela_receita_FPM.to_csv('/content/tabela_receita_FPM.csv')"
      ],
      "metadata": {
        "id": "8Vnb4TkajusD"
      },
      "execution_count": null,
      "outputs": []
    },
    {
      "cell_type": "markdown",
      "source": [
        "# ETAPA 03 - Decomposição da Série Temporal"
      ],
      "metadata": {
        "id": "1YFKT7Fco3HP"
      }
    },
    {
      "cell_type": "code",
      "source": [
        "# Visualização da Série Temporal completa\n",
        "tabela_receita_FPM.plot()"
      ],
      "metadata": {
        "colab": {
          "base_uri": "https://localhost:8080/",
          "height": 307
        },
        "id": "jCaFScSMo3rm",
        "outputId": "a290d9d4-76f9-4b1c-820c-e7b64619137e"
      },
      "execution_count": 21,
      "outputs": [
        {
          "output_type": "execute_result",
          "data": {
            "text/plain": [
              "<matplotlib.axes._subplots.AxesSubplot at 0x7f695a5f0810>"
            ]
          },
          "metadata": {},
          "execution_count": 21
        },
        {
          "output_type": "display_data",
          "data": {
            "text/plain": [
              "<Figure size 432x288 with 1 Axes>"
            ],
            "image/png": "[encoded data removed]"
          },
          "metadata": {
            "needs_background": "light"
          }
        }
      ]
    },
    {
      "cell_type": "code",
      "source": [
        "tabela_receita_FPM.describe().round(2)"
      ],
      "metadata": {
        "colab": {
          "base_uri": "https://localhost:8080/",
          "height": 300
        },
        "id": "fLO1gLHtMATV",
        "outputId": "48c5bfb9-2d69-47d5-f472-10c59ad0f41b"
      },
      "execution_count": 22,
      "outputs": [
        {
          "output_type": "execute_result",
          "data": {
            "text/plain": [
              "       VALORLANCAMENTO\n",
              "count           108.00\n",
              "mean        6277612.55\n",
              "std         2277624.40\n",
              "min         2084897.22\n",
              "25%         4746750.05\n",
              "50%         5786661.93\n",
              "75%         7339479.46\n",
              "max        15177161.97"
            ],
            "text/html": [
              "\n",
              "  <div id=\"df-d6961a0d-029d-4585-9a1e-91844f84d68d\">\n",
              "    <div class=\"colab-df-container\">\n",
              "      <div>\n",
              "<style scoped>\n",
              "    .dataframe tbody tr th:only-of-type {\n",
              "        vertical-align: middle;\n",
              "    }\n",
              "\n",
              "    .dataframe tbody tr th {\n",
              "        vertical-align: top;\n",
              "    }\n",
              "\n",
              "    .dataframe thead th {\n",
              "        text-align: right;\n",
              "    }\n",
              "</style>\n",
              "<table border=\"1\" class=\"dataframe\">\n",
              "  <thead>\n",
              "    <tr style=\"text-align: right;\">\n",
              "      <th></th>\n",
              "      <th>VALORLANCAMENTO</th>\n",
              "    </tr>\n",
              "  </thead>\n",
              "  <tbody>\n",
              "    <tr>\n",
              "      <th>count</th>\n",
              "      <td>108.00</td>\n",
              "    </tr>\n",
              "    <tr>\n",
              "      <th>mean</th>\n",
              "      <td>6277612.55</td>\n",
              "    </tr>\n",
              "    <tr>\n",
              "      <th>std</th>\n",
              "      <td>2277624.40</td>\n",
              "    </tr>\n",
              "    <tr>\n",
              "      <th>min</th>\n",
              "      <td>2084897.22</td>\n",
              "    </tr>\n",
              "    <tr>\n",
              "      <th>25%</th>\n",
              "      <td>4746750.05</td>\n",
              "    </tr>\n",
              "    <tr>\n",
              "      <th>50%</th>\n",
              "      <td>5786661.93</td>\n",
              "    </tr>\n",
              "    <tr>\n",
              "      <th>75%</th>\n",
              "      <td>7339479.46</td>\n",
              "    </tr>\n",
              "    <tr>\n",
              "      <th>max</th>\n",
              "      <td>15177161.97</td>\n",
              "    </tr>\n",
              "  </tbody>\n",
              "</table>\n",
              "</div>\n",
              "      <button class=\"colab-df-convert\" onclick=\"convertToInteractive('df-d6961a0d-029d-4585-9a1e-91844f84d68d')\"\n",
              "              title=\"Convert this dataframe to an interactive table.\"\n",
              "              style=\"display:none;\">\n",
              "        \n",
              "  <svg xmlns=\"http://www.w3.org/2000/svg\" height=\"24px\"viewBox=\"0 0 24 24\"\n",
              "       width=\"24px\">\n",
              "    <path d=\"M0 0h24v24H0V0z\" fill=\"none\"/>\n",
              "    <path d=\"M18.56 5.44l.94 2.06.94-2.06 2.06-.94-2.06-.94-.94-2.06-.94 2.06-2.06.94zm-11 1L8.5 8.5l.94-2.06 2.06-.94-2.06-.94L8.5 2.5l-.94 2.06-2.06.94zm10 10l.94 2.06.94-2.06 2.06-.94-2.06-.94-.94-2.06-.94 2.06-2.06.94z\"/><path d=\"M17.41 7.96l-1.37-1.37c-.4-.4-.92-.59-1.43-.59-.52 0-1.04.2-1.43.59L10.3 9.45l-7.72 7.72c-.78.78-.78 2.05 0 2.83L4 21.41c.39.39.9.59 1.41.59.51 0 1.02-.2 1.41-.59l7.78-7.78 2.81-2.81c.8-.78.8-2.07 0-2.86zM5.41 20L4 18.59l7.72-7.72 1.47 1.35L5.41 20z\"/>\n",
              "  </svg>\n",
              "      </button>\n",
              "      \n",
              "  <style>\n",
              "    .colab-df-container {\n",
              "      display:flex;\n",
              "      flex-wrap:wrap;\n",
              "      gap: 12px;\n",
              "    }\n",
              "\n",
              "    .colab-df-convert {\n",
              "      background-color: #E8F0FE;\n",
              "      border: none;\n",
              "      border-radius: 50%;\n",
              "      cursor: pointer;\n",
              "      display: none;\n",
              "      fill: #1967D2;\n",
              "      height: 32px;\n",
              "      padding: 0 0 0 0;\n",
              "      width: 32px;\n",
              "    }\n",
              "\n",
              "    .colab-df-convert:hover {\n",
              "      background-color: #E2EBFA;\n",
              "      box-shadow: 0px 1px 2px rgba(60, 64, 67, 0.3), 0px 1px 3px 1px rgba(60, 64, 67, 0.15);\n",
              "      fill: #174EA6;\n",
              "    }\n",
              "\n",
              "    [theme=dark] .colab-df-convert {\n",
              "      background-color: #3B4455;\n",
              "      fill: #D2E3FC;\n",
              "    }\n",
              "\n",
              "    [theme=dark] .colab-df-convert:hover {\n",
              "      background-color: #434B5C;\n",
              "      box-shadow: 0px 1px 3px 1px rgba(0, 0, 0, 0.15);\n",
              "      filter: drop-shadow(0px 1px 2px rgba(0, 0, 0, 0.3));\n",
              "      fill: #FFFFFF;\n",
              "    }\n",
              "  </style>\n",
              "\n",
              "      <script>\n",
              "        const buttonEl =\n",
              "          document.querySelector('#df-d6961a0d-029d-4585-9a1e-91844f84d68d button.colab-df-convert');\n",
              "        buttonEl.style.display =\n",
              "          google.colab.kernel.accessAllowed ? 'block' : 'none';\n",
              "\n",
              "        async function convertToInteractive(key) {\n",
              "          const element = document.querySelector('#df-d6961a0d-029d-4585-9a1e-91844f84d68d');\n",
              "          const dataTable =\n",
              "            await google.colab.kernel.invokeFunction('convertToInteractive',\n",
              "                                                     [key], {});\n",
              "          if (!dataTable) return;\n",
              "\n",
              "          const docLinkHtml = 'Like what you see? Visit the ' +\n",
              "            '<a target=\"_blank\" href=https://colab.research.google.com/notebooks/data_table.ipynb>data table notebook</a>'\n",
              "            + ' to learn more about interactive tables.';\n",
              "          element.innerHTML = '';\n",
              "          dataTable['output_type'] = 'display_data';\n",
              "          await google.colab.output.renderOutput(dataTable, element);\n",
              "          const docLink = document.createElement('div');\n",
              "          docLink.innerHTML = docLinkHtml;\n",
              "          element.appendChild(docLink);\n",
              "        }\n",
              "      </script>\n",
              "    </div>\n",
              "  </div>\n",
              "  "
            ]
          },
          "metadata": {},
          "execution_count": 22
        }
      ]
    },
    {
      "cell_type": "code",
      "source": [
        "# Outliers\n",
        "sns.boxplot(data=tabela_receita_FPM)"
      ],
      "metadata": {
        "colab": {
          "base_uri": "https://localhost:8080/",
          "height": 293
        },
        "id": "h6FRGJgLMhLQ",
        "outputId": "f3916ac5-f154-401e-bea5-acf72f9b9a5c"
      },
      "execution_count": 23,
      "outputs": [
        {
          "output_type": "execute_result",
          "data": {
            "text/plain": [
              "<matplotlib.axes._subplots.AxesSubplot at 0x7f695a4cae90>"
            ]
          },
          "metadata": {},
          "execution_count": 23
        },
        {
          "output_type": "display_data",
          "data": {
            "text/plain": [
              "<Figure size 432x288 with 1 Axes>"
            ],
            "image/png": "[encoded data removed]"
          },
          "metadata": {
            "needs_background": "light"
          }
        }
      ]
    },
    {
      "cell_type": "code",
      "source": [
        "tabela_receita_FPM.info()"
      ],
      "metadata": {
        "colab": {
          "base_uri": "https://localhost:8080/"
        },
        "id": "9FCGmgEULK_X",
        "outputId": "12424985-f5c2-4d89-fe08-455af49b115a"
      },
      "execution_count": 24,
      "outputs": [
        {
          "output_type": "stream",
          "name": "stdout",
          "text": [
            "<class 'pandas.core.frame.DataFrame'>\n",
            "DatetimeIndex: 108 entries, 2013-01-31 to 2021-12-31\n",
            "Freq: M\n",
            "Data columns (total 1 columns):\n",
            " #   Column           Non-Null Count  Dtype  \n",
            "---  ------           --------------  -----  \n",
            " 0   VALORLANCAMENTO  108 non-null    float64\n",
            "dtypes: float64(1)\n",
            "memory usage: 1.7 KB\n"
          ]
        }
      ]
    },
    {
      "cell_type": "code",
      "source": [
        "tabela_receita_FPM.sort_index(inplace=True)"
      ],
      "metadata": {
        "id": "7XqgrWFTQKVn"
      },
      "execution_count": 25,
      "outputs": []
    },
    {
      "cell_type": "code",
      "source": [
        "# Decomposição da Série Temporal\n",
        "# Importante: Precisa-se de toda a série preenchida, sem datas null\n",
        "# Selecionado o modelo Multiplicativo devido à ocorrência de alteração de amplitude no decorrer da Serie Temporal\n",
        "resultado_sazonalidade_add = seasonal_decompose(pd.Series(tabela_receita_FPM[\"VALORLANCAMENTO\"]), model=\"additive\")\n",
        "resultado_sazonalidade_mul = seasonal_decompose(pd.Series(tabela_receita_FPM[\"VALORLANCAMENTO\"]), model=\"multiplicative\")"
      ],
      "metadata": {
        "id": "ItqeqlC2HGY6"
      },
      "execution_count": 33,
      "outputs": []
    },
    {
      "cell_type": "code",
      "source": [
        "resultado_sazonalidade_add\n",
        "resultado_sazonalidade_mul"
      ],
      "metadata": {
        "colab": {
          "base_uri": "https://localhost:8080/"
        },
        "id": "_JsJHIDj2ykj",
        "outputId": "294f5e58-e21a-48c7-e3df-77c5fb0ec6a9"
      },
      "execution_count": 34,
      "outputs": [
        {
          "output_type": "execute_result",
          "data": {
            "text/plain": [
              "<statsmodels.tsa.seasonal.DecomposeResult at 0x7f6956acf490>"
            ]
          },
          "metadata": {},
          "execution_count": 34
        }
      ]
    },
    {
      "cell_type": "code",
      "source": [
        "resultado_sazonalidade_add.plot()"
      ],
      "metadata": {
        "colab": {
          "base_uri": "https://localhost:8080/",
          "height": 577
        },
        "id": "sXIknt9T5Kuj",
        "outputId": "dcce73a9-581b-4fad-bc09-abc8cc815aa0"
      },
      "execution_count": 35,
      "outputs": [
        {
          "output_type": "execute_result",
          "data": {
            "text/plain": [
              "<Figure size 432x288 with 4 Axes>"
            ],
            "image/png": "[encoded data removed]"
          },
          "metadata": {},
          "execution_count": 35
        },
        {
          "output_type": "display_data",
          "data": {
            "text/plain": [
              "<Figure size 432x288 with 4 Axes>"
            ],
            "image/png": "[encoded data removed]"
          },
          "metadata": {
            "needs_background": "light"
          }
        }
      ]
    },
    {
      "cell_type": "code",
      "source": [
        "resultado_sazonalidade_mul.plot()"
      ],
      "metadata": {
        "colab": {
          "base_uri": "https://localhost:8080/",
          "height": 577
        },
        "id": "I1iBh7w33FHb",
        "outputId": "3a24f3b7-ddf3-4e9a-8707-656ffbe4fdcd"
      },
      "execution_count": 32,
      "outputs": [
        {
          "output_type": "execute_result",
          "data": {
            "text/plain": [
              "<Figure size 432x288 with 4 Axes>"
            ],
            "image/png": "[encoded data removed]"
          },
          "metadata": {},
          "execution_count": 32
        },
        {
          "output_type": "display_data",
          "data": {
            "text/plain": [
              "<Figure size 432x288 with 4 Axes>"
            ],
            "image/png": "[encoded data removed]"
          },
          "metadata": {
            "needs_background": "light"
          }
        }
      ]
    },
    {
      "cell_type": "code",
      "source": [
        "# Escolhido o modelo Aditivo para decomposição da Série Temporal, haja vista a (aparente) menor variação dos resíduos"
      ],
      "metadata": {
        "id": "2Z1XLCzK5PI7"
      },
      "execution_count": null,
      "outputs": []
    },
    {
      "cell_type": "markdown",
      "source": [
        "# ETAPA 04 - Divisão dos dados (Treino/teste)"
      ],
      "metadata": {
        "id": "aVbb02VkaOci"
      }
    },
    {
      "cell_type": "code",
      "source": [
        "N = 12\n",
        "train = tabela_receita_FPM.iloc[:-N]\n",
        "test = tabela_receita_FPM.iloc[-N:]"
      ],
      "metadata": {
        "id": "tMtSv9unWZbh"
      },
      "execution_count": 68,
      "outputs": []
    },
    {
      "cell_type": "code",
      "source": [
        "train.head()"
      ],
      "metadata": {
        "id": "oP9C2QlKbXcf",
        "colab": {
          "base_uri": "https://localhost:8080/",
          "height": 238
        },
        "outputId": "93b22923-e7f5-467c-a942-8842ac602002"
      },
      "execution_count": 69,
      "outputs": [
        {
          "output_type": "execute_result",
          "data": {
            "text/plain": [
              "             VALORLANCAMENTO  MMS-12        EWM-12         EWM-6          Holt\n",
              "COMPETENCIA                                                                   \n",
              "2013-01-31        4749333.07     NaN  4.749333e+06  4.749333e+06  6.389720e+06\n",
              "2013-02-28        6389719.66     NaN  5.001700e+06  5.218015e+06  7.191128e+06\n",
              "2013-03-31        3678284.30     NaN  4.798098e+06  4.778092e+06  8.325516e+06\n",
              "2013-04-30        2470960.73     NaN  4.440077e+06  4.118912e+06  7.445995e+06\n",
              "2013-05-31        5670894.58     NaN  4.629433e+06  4.562335e+06  6.126518e+06"
            ],
            "text/html": [
              "\n",
              "  <div id=\"df-c901a2fa-deed-4f89-9c5c-39bfc424b5ca\">\n",
              "    <div class=\"colab-df-container\">\n",
              "      <div>\n",
              "<style scoped>\n",
              "    .dataframe tbody tr th:only-of-type {\n",
              "        vertical-align: middle;\n",
              "    }\n",
              "\n",
              "    .dataframe tbody tr th {\n",
              "        vertical-align: top;\n",
              "    }\n",
              "\n",
              "    .dataframe thead th {\n",
              "        text-align: right;\n",
              "    }\n",
              "</style>\n",
              "<table border=\"1\" class=\"dataframe\">\n",
              "  <thead>\n",
              "    <tr style=\"text-align: right;\">\n",
              "      <th></th>\n",
              "      <th>VALORLANCAMENTO</th>\n",
              "      <th>MMS-12</th>\n",
              "      <th>EWM-12</th>\n",
              "      <th>EWM-6</th>\n",
              "      <th>Holt</th>\n",
              "    </tr>\n",
              "    <tr>\n",
              "      <th>COMPETENCIA</th>\n",
              "      <th></th>\n",
              "      <th></th>\n",
              "      <th></th>\n",
              "      <th></th>\n",
              "      <th></th>\n",
              "    </tr>\n",
              "  </thead>\n",
              "  <tbody>\n",
              "    <tr>\n",
              "      <th>2013-01-31</th>\n",
              "      <td>4749333.07</td>\n",
              "      <td>NaN</td>\n",
              "      <td>4.749333e+06</td>\n",
              "      <td>4.749333e+06</td>\n",
              "      <td>6.389720e+06</td>\n",
              "    </tr>\n",
              "    <tr>\n",
              "      <th>2013-02-28</th>\n",
              "      <td>6389719.66</td>\n",
              "      <td>NaN</td>\n",
              "      <td>5.001700e+06</td>\n",
              "      <td>5.218015e+06</td>\n",
              "      <td>7.191128e+06</td>\n",
              "    </tr>\n",
              "    <tr>\n",
              "      <th>2013-03-31</th>\n",
              "      <td>3678284.30</td>\n",
              "      <td>NaN</td>\n",
              "      <td>4.798098e+06</td>\n",
              "      <td>4.778092e+06</td>\n",
              "      <td>8.325516e+06</td>\n",
              "    </tr>\n",
              "    <tr>\n",
              "      <th>2013-04-30</th>\n",
              "      <td>2470960.73</td>\n",
              "      <td>NaN</td>\n",
              "      <td>4.440077e+06</td>\n",
              "      <td>4.118912e+06</td>\n",
              "      <td>7.445995e+06</td>\n",
              "    </tr>\n",
              "    <tr>\n",
              "      <th>2013-05-31</th>\n",
              "      <td>5670894.58</td>\n",
              "      <td>NaN</td>\n",
              "      <td>4.629433e+06</td>\n",
              "      <td>4.562335e+06</td>\n",
              "      <td>6.126518e+06</td>\n",
              "    </tr>\n",
              "  </tbody>\n",
              "</table>\n",
              "</div>\n",
              "      <button class=\"colab-df-convert\" onclick=\"convertToInteractive('df-c901a2fa-deed-4f89-9c5c-39bfc424b5ca')\"\n",
              "              title=\"Convert this dataframe to an interactive table.\"\n",
              "              style=\"display:none;\">\n",
              "        \n",
              "  <svg xmlns=\"http://www.w3.org/2000/svg\" height=\"24px\"viewBox=\"0 0 24 24\"\n",
              "       width=\"24px\">\n",
              "    <path d=\"M0 0h24v24H0V0z\" fill=\"none\"/>\n",
              "    <path d=\"M18.56 5.44l.94 2.06.94-2.06 2.06-.94-2.06-.94-.94-2.06-.94 2.06-2.06.94zm-11 1L8.5 8.5l.94-2.06 2.06-.94-2.06-.94L8.5 2.5l-.94 2.06-2.06.94zm10 10l.94 2.06.94-2.06 2.06-.94-2.06-.94-.94-2.06-.94 2.06-2.06.94z\"/><path d=\"M17.41 7.96l-1.37-1.37c-.4-.4-.92-.59-1.43-.59-.52 0-1.04.2-1.43.59L10.3 9.45l-7.72 7.72c-.78.78-.78 2.05 0 2.83L4 21.41c.39.39.9.59 1.41.59.51 0 1.02-.2 1.41-.59l7.78-7.78 2.81-2.81c.8-.78.8-2.07 0-2.86zM5.41 20L4 18.59l7.72-7.72 1.47 1.35L5.41 20z\"/>\n",
              "  </svg>\n",
              "      </button>\n",
              "      \n",
              "  <style>\n",
              "    .colab-df-container {\n",
              "      display:flex;\n",
              "      flex-wrap:wrap;\n",
              "      gap: 12px;\n",
              "    }\n",
              "\n",
              "    .colab-df-convert {\n",
              "      background-color: #E8F0FE;\n",
              "      border: none;\n",
              "      border-radius: 50%;\n",
              "      cursor: pointer;\n",
              "      display: none;\n",
              "      fill: #1967D2;\n",
              "      height: 32px;\n",
              "      padding: 0 0 0 0;\n",
              "      width: 32px;\n",
              "    }\n",
              "\n",
              "    .colab-df-convert:hover {\n",
              "      background-color: #E2EBFA;\n",
              "      box-shadow: 0px 1px 2px rgba(60, 64, 67, 0.3), 0px 1px 3px 1px rgba(60, 64, 67, 0.15);\n",
              "      fill: #174EA6;\n",
              "    }\n",
              "\n",
              "    [theme=dark] .colab-df-convert {\n",
              "      background-color: #3B4455;\n",
              "      fill: #D2E3FC;\n",
              "    }\n",
              "\n",
              "    [theme=dark] .colab-df-convert:hover {\n",
              "      background-color: #434B5C;\n",
              "      box-shadow: 0px 1px 3px 1px rgba(0, 0, 0, 0.15);\n",
              "      filter: drop-shadow(0px 1px 2px rgba(0, 0, 0, 0.3));\n",
              "      fill: #FFFFFF;\n",
              "    }\n",
              "  </style>\n",
              "\n",
              "      <script>\n",
              "        const buttonEl =\n",
              "          document.querySelector('#df-c901a2fa-deed-4f89-9c5c-39bfc424b5ca button.colab-df-convert');\n",
              "        buttonEl.style.display =\n",
              "          google.colab.kernel.accessAllowed ? 'block' : 'none';\n",
              "\n",
              "        async function convertToInteractive(key) {\n",
              "          const element = document.querySelector('#df-c901a2fa-deed-4f89-9c5c-39bfc424b5ca');\n",
              "          const dataTable =\n",
              "            await google.colab.kernel.invokeFunction('convertToInteractive',\n",
              "                                                     [key], {});\n",
              "          if (!dataTable) return;\n",
              "\n",
              "          const docLinkHtml = 'Like what you see? Visit the ' +\n",
              "            '<a target=\"_blank\" href=https://colab.research.google.com/notebooks/data_table.ipynb>data table notebook</a>'\n",
              "            + ' to learn more about interactive tables.';\n",
              "          element.innerHTML = '';\n",
              "          dataTable['output_type'] = 'display_data';\n",
              "          await google.colab.output.renderOutput(dataTable, element);\n",
              "          const docLink = document.createElement('div');\n",
              "          docLink.innerHTML = docLinkHtml;\n",
              "          element.appendChild(docLink);\n",
              "        }\n",
              "      </script>\n",
              "    </div>\n",
              "  </div>\n",
              "  "
            ]
          },
          "metadata": {},
          "execution_count": 69
        }
      ]
    },
    {
      "cell_type": "markdown",
      "source": [
        "# ETAPA 05 - Aplicar Modelos de previsão"
      ],
      "metadata": {
        "id": "f--Cgd3obWuo"
      }
    },
    {
      "cell_type": "markdown",
      "source": [
        "## Média Móvel Simples"
      ],
      "metadata": {
        "id": "fBRMfq6AANU_"
      }
    },
    {
      "cell_type": "code",
      "source": [
        "train[\"MMS-12\"] = train[\"VALORLANCAMENTO\"].rolling(12).mean()"
      ],
      "metadata": {
        "colab": {
          "base_uri": "https://localhost:8080/"
        },
        "id": "y8cYC7-L_gkm",
        "outputId": "76211ef2-11dd-4af7-8849-ae51cceb8ee8"
      },
      "execution_count": 70,
      "outputs": [
        {
          "output_type": "stream",
          "name": "stderr",
          "text": [
            "/usr/local/lib/python3.7/dist-packages/ipykernel_launcher.py:1: SettingWithCopyWarning: \n",
            "A value is trying to be set on a copy of a slice from a DataFrame.\n",
            "Try using .loc[row_indexer,col_indexer] = value instead\n",
            "\n",
            "See the caveats in the documentation: https://pandas.pydata.org/pandas-docs/stable/user_guide/indexing.html#returning-a-view-versus-a-copy\n",
            "  \"\"\"Entry point for launching an IPython kernel.\n"
          ]
        }
      ]
    },
    {
      "cell_type": "code",
      "source": [
        "train[[\"VALORLANCAMENTO\", \"MMS-12\"]].plot(figsize=(15,10))"
      ],
      "metadata": {
        "colab": {
          "base_uri": "https://localhost:8080/",
          "height": 633
        },
        "id": "iCHNHnnIA1P3",
        "outputId": "a74b83b3-e093-45d5-ba73-e0c5e7b9b13f"
      },
      "execution_count": 72,
      "outputs": [
        {
          "output_type": "execute_result",
          "data": {
            "text/plain": [
              "<matplotlib.axes._subplots.AxesSubplot at 0x7f6951df33d0>"
            ]
          },
          "metadata": {},
          "execution_count": 72
        },
        {
          "output_type": "display_data",
          "data": {
            "text/plain": [
              "<Figure size 1080x720 with 1 Axes>"
            ],
            "image/png": "[encoded data removed]"
          },
          "metadata": {
            "needs_background": "light"
          }
        }
      ]
    },
    {
      "cell_type": "markdown",
      "source": [
        "# Média Móvel Exponencialmente Ponderada"
      ],
      "metadata": {
        "id": "GQD7SG7FATTm"
      }
    },
    {
      "cell_type": "code",
      "source": [
        "train[\"EWM-12\"] = train[\"VALORLANCAMENTO\"].ewm(span=12, adjust=False).mean()"
      ],
      "metadata": {
        "colab": {
          "base_uri": "https://localhost:8080/"
        },
        "id": "equBNBaH_gtm",
        "outputId": "b8c2b5a1-f0c2-4d01-d2f4-3f9f0947d75e"
      },
      "execution_count": 73,
      "outputs": [
        {
          "output_type": "stream",
          "name": "stderr",
          "text": [
            "/usr/local/lib/python3.7/dist-packages/ipykernel_launcher.py:1: SettingWithCopyWarning: \n",
            "A value is trying to be set on a copy of a slice from a DataFrame.\n",
            "Try using .loc[row_indexer,col_indexer] = value instead\n",
            "\n",
            "See the caveats in the documentation: https://pandas.pydata.org/pandas-docs/stable/user_guide/indexing.html#returning-a-view-versus-a-copy\n",
            "  \"\"\"Entry point for launching an IPython kernel.\n"
          ]
        }
      ]
    },
    {
      "cell_type": "code",
      "source": [
        "train[[\"VALORLANCAMENTO\", \"EWM-12\"]].plot(figsize=(15,10))"
      ],
      "metadata": {
        "colab": {
          "base_uri": "https://localhost:8080/",
          "height": 633
        },
        "id": "J3aDXFomCOgi",
        "outputId": "e4bf2b90-f090-4055-c05a-035adf43674a"
      },
      "execution_count": 74,
      "outputs": [
        {
          "output_type": "execute_result",
          "data": {
            "text/plain": [
              "<matplotlib.axes._subplots.AxesSubplot at 0x7f6951d43a10>"
            ]
          },
          "metadata": {},
          "execution_count": 74
        },
        {
          "output_type": "display_data",
          "data": {
            "text/plain": [
              "<Figure size 1080x720 with 1 Axes>"
            ],
            "image/png": "[encoded data removed]"
          },
          "metadata": {
            "needs_background": "light"
          }
        }
      ]
    },
    {
      "cell_type": "markdown",
      "source": [
        "## Holt"
      ],
      "metadata": {
        "id": "a50EoA32AZ7l"
      }
    },
    {
      "cell_type": "code",
      "source": [
        "holt = Holt(train[\"VALORLANCAMENTO\"])"
      ],
      "metadata": {
        "colab": {
          "base_uri": "https://localhost:8080/"
        },
        "id": "iU-SuT5S_gwU",
        "outputId": "10cc2111-7cd6-47d3-9874-950e064e1439"
      },
      "execution_count": 75,
      "outputs": [
        {
          "output_type": "stream",
          "name": "stderr",
          "text": [
            "/usr/local/lib/python3.7/dist-packages/statsmodels/tsa/holtwinters/model.py:429: FutureWarning: After 0.13 initialization must be handled at model creation\n",
            "  FutureWarning,\n"
          ]
        }
      ]
    },
    {
      "cell_type": "code",
      "source": [
        "resultado_holt = holt.fit()"
      ],
      "metadata": {
        "colab": {
          "base_uri": "https://localhost:8080/"
        },
        "id": "lgATsDoAD8AZ",
        "outputId": "8844beb0-ec87-4713-e436-b57ec9ffd3a8"
      },
      "execution_count": 76,
      "outputs": [
        {
          "output_type": "stream",
          "name": "stderr",
          "text": [
            "/usr/local/lib/python3.7/dist-packages/statsmodels/tsa/holtwinters/model.py:922: ConvergenceWarning: Optimization failed to converge. Check mle_retvals.\n",
            "  ConvergenceWarning,\n"
          ]
        }
      ]
    },
    {
      "cell_type": "code",
      "source": [
        "train[\"Holt\"] = resultado_holt.fittedvalues"
      ],
      "metadata": {
        "colab": {
          "base_uri": "https://localhost:8080/"
        },
        "id": "NJYz2K1wD8Df",
        "outputId": "51529fa7-5039-4586-fef0-0552ac795807"
      },
      "execution_count": 77,
      "outputs": [
        {
          "output_type": "stream",
          "name": "stderr",
          "text": [
            "/usr/local/lib/python3.7/dist-packages/ipykernel_launcher.py:1: SettingWithCopyWarning: \n",
            "A value is trying to be set on a copy of a slice from a DataFrame.\n",
            "Try using .loc[row_indexer,col_indexer] = value instead\n",
            "\n",
            "See the caveats in the documentation: https://pandas.pydata.org/pandas-docs/stable/user_guide/indexing.html#returning-a-view-versus-a-copy\n",
            "  \"\"\"Entry point for launching an IPython kernel.\n"
          ]
        }
      ]
    },
    {
      "cell_type": "code",
      "source": [
        "test[\"Holt\"] = resultado_holt.forecast(12)"
      ],
      "metadata": {
        "colab": {
          "base_uri": "https://localhost:8080/"
        },
        "id": "aU9cL6lTKUm9",
        "outputId": "5f54fe4e-5638-417a-eeaf-4d2dffe96abc"
      },
      "execution_count": 78,
      "outputs": [
        {
          "output_type": "stream",
          "name": "stderr",
          "text": [
            "/usr/local/lib/python3.7/dist-packages/statsmodels/tsa/base/tsa_model.py:132: FutureWarning: The 'freq' argument in Timestamp is deprecated and will be removed in a future version.\n",
            "  date_key = Timestamp(key, freq=base_index.freq)\n",
            "/usr/local/lib/python3.7/dist-packages/ipykernel_launcher.py:1: SettingWithCopyWarning: \n",
            "A value is trying to be set on a copy of a slice from a DataFrame.\n",
            "Try using .loc[row_indexer,col_indexer] = value instead\n",
            "\n",
            "See the caveats in the documentation: https://pandas.pydata.org/pandas-docs/stable/user_guide/indexing.html#returning-a-view-versus-a-copy\n",
            "  \"\"\"Entry point for launching an IPython kernel.\n"
          ]
        }
      ]
    },
    {
      "cell_type": "code",
      "source": [
        "test[[\"VALORLANCAMENTO\", \"Holt\"]].plot(figsize=(15,10))"
      ],
      "metadata": {
        "colab": {
          "base_uri": "https://localhost:8080/",
          "height": 640
        },
        "id": "UNzE0GriEh_o",
        "outputId": "557beccb-0ecc-4b4d-88ef-2a26d568cab3"
      },
      "execution_count": 79,
      "outputs": [
        {
          "output_type": "execute_result",
          "data": {
            "text/plain": [
              "<matplotlib.axes._subplots.AxesSubplot at 0x7f6951bd8850>"
            ]
          },
          "metadata": {},
          "execution_count": 79
        },
        {
          "output_type": "display_data",
          "data": {
            "text/plain": [
              "<Figure size 1080x720 with 1 Axes>"
            ],
            "image/png": "[encoded data removed]"
          },
          "metadata": {
            "needs_background": "light"
          }
        }
      ]
    },
    {
      "cell_type": "markdown",
      "source": [
        "## Holt-Winters"
      ],
      "metadata": {
        "id": "_As59oYeAcfb"
      }
    },
    {
      "cell_type": "code",
      "source": [
        "holt_winters = ExponentialSmoothing(train['VALORLANCAMENTO'], trend=\"mul\", seasonal=\"mul\", seasonal_periods=12, initialization_method='heuristic')"
      ],
      "metadata": {
        "id": "_JF07YeeKnmu"
      },
      "execution_count": 84,
      "outputs": []
    },
    {
      "cell_type": "code",
      "source": [
        "resultado_hw = holt_winters.fit()"
      ],
      "metadata": {
        "colab": {
          "base_uri": "https://localhost:8080/"
        },
        "id": "QfuOGjTpKnuC",
        "outputId": "802243ff-8e91-478f-cc4b-d932bdcea172"
      },
      "execution_count": 85,
      "outputs": [
        {
          "output_type": "stream",
          "name": "stderr",
          "text": [
            "/usr/local/lib/python3.7/dist-packages/statsmodels/tsa/holtwinters/model.py:922: ConvergenceWarning: Optimization failed to converge. Check mle_retvals.\n",
            "  ConvergenceWarning,\n"
          ]
        }
      ]
    },
    {
      "cell_type": "code",
      "source": [
        "train['HW'] = resultado_hw.fittedvalues"
      ],
      "metadata": {
        "colab": {
          "base_uri": "https://localhost:8080/"
        },
        "id": "7IiZpLvTLS7t",
        "outputId": "ab74ada3-a741-4c52-ceaf-8056595920e0"
      },
      "execution_count": 86,
      "outputs": [
        {
          "output_type": "stream",
          "name": "stderr",
          "text": [
            "/usr/local/lib/python3.7/dist-packages/ipykernel_launcher.py:1: SettingWithCopyWarning: \n",
            "A value is trying to be set on a copy of a slice from a DataFrame.\n",
            "Try using .loc[row_indexer,col_indexer] = value instead\n",
            "\n",
            "See the caveats in the documentation: https://pandas.pydata.org/pandas-docs/stable/user_guide/indexing.html#returning-a-view-versus-a-copy\n",
            "  \"\"\"Entry point for launching an IPython kernel.\n"
          ]
        }
      ]
    },
    {
      "cell_type": "code",
      "source": [
        "test['HW'] = resultado_hw.forecast(12)"
      ],
      "metadata": {
        "colab": {
          "base_uri": "https://localhost:8080/"
        },
        "id": "S5eJLLMFMDcD",
        "outputId": "49980d6e-54c5-4781-fbbd-edf97ec87fbd"
      },
      "execution_count": 87,
      "outputs": [
        {
          "output_type": "stream",
          "name": "stderr",
          "text": [
            "/usr/local/lib/python3.7/dist-packages/statsmodels/tsa/base/tsa_model.py:132: FutureWarning: The 'freq' argument in Timestamp is deprecated and will be removed in a future version.\n",
            "  date_key = Timestamp(key, freq=base_index.freq)\n",
            "/usr/local/lib/python3.7/dist-packages/ipykernel_launcher.py:1: SettingWithCopyWarning: \n",
            "A value is trying to be set on a copy of a slice from a DataFrame.\n",
            "Try using .loc[row_indexer,col_indexer] = value instead\n",
            "\n",
            "See the caveats in the documentation: https://pandas.pydata.org/pandas-docs/stable/user_guide/indexing.html#returning-a-view-versus-a-copy\n",
            "  \"\"\"Entry point for launching an IPython kernel.\n"
          ]
        }
      ]
    },
    {
      "cell_type": "code",
      "source": [
        "test[[\"VALORLANCAMENTO\", \"HW\"]].plot(figsize=(15,10))"
      ],
      "metadata": {
        "colab": {
          "base_uri": "https://localhost:8080/",
          "height": 640
        },
        "id": "1p0zakMtMKRF",
        "outputId": "a6dd8fed-6b40-47d3-d249-769c717826e9"
      },
      "execution_count": 89,
      "outputs": [
        {
          "output_type": "execute_result",
          "data": {
            "text/plain": [
              "<matplotlib.axes._subplots.AxesSubplot at 0x7f6951b067d0>"
            ]
          },
          "metadata": {},
          "execution_count": 89
        },
        {
          "output_type": "display_data",
          "data": {
            "text/plain": [
              "<Figure size 1080x720 with 1 Axes>"
            ],
            "image/png": "[encoded data removed]"
          },
          "metadata": {
            "needs_background": "light"
          }
        }
      ]
    },
    {
      "cell_type": "code",
      "source": [
        "test.plot(figsize=(15,10))"
      ],
      "metadata": {
        "colab": {
          "base_uri": "https://localhost:8080/",
          "height": 640
        },
        "id": "rXedcmN4MhTE",
        "outputId": "4ad7c0a6-001f-4c55-daba-0d75020bca9c"
      },
      "execution_count": 91,
      "outputs": [
        {
          "output_type": "execute_result",
          "data": {
            "text/plain": [
              "<matplotlib.axes._subplots.AxesSubplot at 0x7f6951de9650>"
            ]
          },
          "metadata": {},
          "execution_count": 91
        },
        {
          "output_type": "display_data",
          "data": {
            "text/plain": [
              "<Figure size 1080x720 with 1 Axes>"
            ],
            "image/png": "[encoded data removed]"
          },
          "metadata": {
            "needs_background": "light"
          }
        }
      ]
    }
  ]
}