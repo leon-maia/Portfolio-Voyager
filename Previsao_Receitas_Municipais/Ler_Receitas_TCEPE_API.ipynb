{
  "nbformat": 4,
  "nbformat_minor": 0,
  "metadata": {
    "colab": {
      "name": "Ler Receitas TCEPE API.ipynb",
      "provenance": [],
      "collapsed_sections": [
        "iKIL18etC5ft",
        "bFrteKsRDYe7",
        "lY8_LrO0EVI0",
        "-Gt_LmN0upxw",
        "QCzom8xmEwWp"
      ]
    },
    "kernelspec": {
      "name": "python3",
      "display_name": "Python 3"
    },
    "language_info": {
      "name": "python"
    }
  },
  "cells": [
    {
      "cell_type": "markdown",
      "source": [
        "# Leitura das Bibliotecas utilizadas no projeto"
      ],
      "metadata": {
        "id": "N63Flp6ADDYp"
      }
    },
    {
      "cell_type": "code",
      "execution_count": null,
      "metadata": {
        "id": "N_soyttwUcR5"
      },
      "outputs": [],
      "source": [
        "# Análise e tratamento de dados\n",
        "import pandas as pd\n",
        "import numpy as np\n",
        "import json\n",
        "\n",
        "# Requisição via API\n",
        "import requests\n",
        "from requests.adapters import HTTPAdapter\n",
        "from requests.packages.urllib3.util.retry import Retry\n",
        "\n",
        "# Banco de dados\n",
        "import sqlite3\n",
        "\n",
        "# Visualização dos dados\n",
        "import matplotlib.pyplot as plt\n",
        "\n",
        "# Regressão Linear\n",
        "from sklearn.model_selection import train_test_split\n",
        "from sklearn.linear_model import LinearRegression"
      ]
    },
    {
      "cell_type": "markdown",
      "source": [
        "# Etapa 01 - Acessar dados sobre a Receita Municipal"
      ],
      "metadata": {
        "id": "iKIL18etC5ft"
      }
    },
    {
      "cell_type": "markdown",
      "source": [
        "## Requisitar dados do site do Tribunal de Contas do Estado de Pernambuco"
      ],
      "metadata": {
        "id": "bFrteKsRDYe7"
      }
    },
    {
      "cell_type": "code",
      "source": [
        "# Obs: etapa inicial, preparatória e necessária para não ter dificuldades com requisições ao site do TCE-PE\n",
        "\n",
        "session = requests.Session()\n",
        "retry = Retry(connect=5, backoff_factor=0.5)\n",
        "adapter = HTTPAdapter(max_retries=retry)\n",
        "session.mount('http://', adapter)\n",
        "session.mount('https://', adapter)"
      ],
      "metadata": {
        "id": "76QKgGQlV-zM"
      },
      "execution_count": null,
      "outputs": []
    },
    {
      "cell_type": "code",
      "source": [
        "# Solicita dados do site do TCE-PE via API\n",
        "exercicios = ['2012', '2013', '2014', '2015', '2016', '2017', '2018', '2019', '2020', '2021', '2022']\n",
        "dicionario = {}\n",
        "base_dados = []\n",
        "base_dados_temp = []\n",
        "for i, ano in enumerate(exercicios):\n",
        "  url = 'https://sistemas.tce.pe.gov.br/DadosAbertos/ReceitasMunicipais!json?ANOREFERENCIA=%s&ID_UNIDADE_GESTORA=319' % (ano)\n",
        "  resposta = session.get(url, stream=True)\n",
        "  if i == 0:\n",
        "    dicionario = json.loads(resposta.text)\n",
        "    base_dados = pd.DataFrame.from_dict(data=dicionario['resposta']['conteudo'])\n",
        "    print('Ano {} concluído.'.format(ano))\n",
        "    print(f'Ano {ano}: {base_dados.shape[0]} linhas carregadas.')\n",
        "  else:\n",
        "    dicionario = json.loads(resposta.text)\n",
        "    base_dados_temp = pd.DataFrame.from_dict(data=dicionario['resposta']['conteudo'])\n",
        "    print('Ano {} concluído.'.format(ano))\n",
        "    print('\\n')\n",
        "    print(f'Ano {ano}: {base_dados_temp.shape[0]} linhas carregadas.')\n",
        "    base_dados = pd.concat([base_dados, base_dados_temp])\n",
        "    print(f'Total: {base_dados.shape[0]} linhas carregadas.')\n",
        "    "
      ],
      "metadata": {
        "id": "CZxbMqeOGa-y",
        "colab": {
          "base_uri": "https://localhost:8080/"
        },
        "outputId": "c672435d-17f3-4b68-80c8-470cab03d3f3"
      },
      "execution_count": null,
      "outputs": [
        {
          "output_type": "stream",
          "name": "stdout",
          "text": [
            "Ano 2012 concluído.\n",
            "Ano 2012: 890 linhas carregadas.\n",
            "Ano 2013 concluído.\n",
            "\n",
            "\n",
            "Ano 2013: 934 linhas carregadas.\n",
            "Total: 1824 linhas carregadas.\n",
            "Ano 2014 concluído.\n",
            "\n",
            "\n",
            "Ano 2014: 972 linhas carregadas.\n",
            "Total: 2796 linhas carregadas.\n",
            "Ano 2015 concluído.\n",
            "\n",
            "\n",
            "Ano 2015: 1248 linhas carregadas.\n",
            "Total: 4044 linhas carregadas.\n",
            "Ano 2016 concluído.\n",
            "\n",
            "\n",
            "Ano 2016: 1376 linhas carregadas.\n",
            "Total: 5420 linhas carregadas.\n",
            "Ano 2017 concluído.\n",
            "\n",
            "\n",
            "Ano 2017: 1305 linhas carregadas.\n",
            "Total: 6725 linhas carregadas.\n",
            "Ano 2018 concluído.\n",
            "\n",
            "\n",
            "Ano 2018: 1347 linhas carregadas.\n",
            "Total: 8072 linhas carregadas.\n",
            "Ano 2019 concluído.\n",
            "\n",
            "\n",
            "Ano 2019: 1428 linhas carregadas.\n",
            "Total: 9500 linhas carregadas.\n",
            "Ano 2020 concluído.\n",
            "\n",
            "\n",
            "Ano 2020: 1892 linhas carregadas.\n",
            "Total: 11392 linhas carregadas.\n",
            "Ano 2021 concluído.\n",
            "\n",
            "\n",
            "Ano 2021: 1902 linhas carregadas.\n",
            "Total: 13294 linhas carregadas.\n",
            "Ano 2022 concluído.\n",
            "\n",
            "\n",
            "Ano 2022: 649 linhas carregadas.\n",
            "Total: 13943 linhas carregadas.\n"
          ]
        }
      ]
    },
    {
      "cell_type": "markdown",
      "source": [
        "## Análise e Tratamento dos dados requisitados"
      ],
      "metadata": {
        "id": "lY8_LrO0EVI0"
      }
    },
    {
      "cell_type": "code",
      "source": [
        "base_dados.shape"
      ],
      "metadata": {
        "colab": {
          "base_uri": "https://localhost:8080/"
        },
        "id": "DEFGVYGtcOak",
        "outputId": "994ea280-195a-494a-8b52-31e68fdab200"
      },
      "execution_count": null,
      "outputs": [
        {
          "output_type": "execute_result",
          "data": {
            "text/plain": [
              "(13943, 12)"
            ]
          },
          "metadata": {},
          "execution_count": 4
        }
      ]
    },
    {
      "cell_type": "code",
      "source": [
        "base_dados.columns"
      ],
      "metadata": {
        "colab": {
          "base_uri": "https://localhost:8080/"
        },
        "id": "E_v9DjADHhCm",
        "outputId": "ffc2b81a-dc49-4cd1-9ccd-47eb56b270a9"
      },
      "execution_count": null,
      "outputs": [
        {
          "output_type": "execute_result",
          "data": {
            "text/plain": [
              "Index(['ID_UNIDADE_GESTORA', 'NUMERORECEITAORCAMENTARIAUG', 'DESCRICAO',\n",
              "       'CATEGORIARECEITA', 'ANOREFERENCIA', 'MESREFERENCIA', 'VALORLANCAMENTO',\n",
              "       'ESFERA', 'ORIGEMRECEITA', 'DEDUCAORECEITA', 'ESPECIERECEITA',\n",
              "       'DESCRICAOFONTE'],\n",
              "      dtype='object')"
            ]
          },
          "metadata": {},
          "execution_count": 5
        }
      ]
    },
    {
      "cell_type": "code",
      "source": [
        "base_dados = base_dados.reset_index()"
      ],
      "metadata": {
        "id": "yH80iiuuHIHB"
      },
      "execution_count": null,
      "outputs": []
    },
    {
      "cell_type": "code",
      "source": [
        "base_dados = base_dados.drop(labels='index', axis=1)"
      ],
      "metadata": {
        "id": "bRh4A9cCHTw6"
      },
      "execution_count": null,
      "outputs": []
    },
    {
      "cell_type": "code",
      "source": [
        "base_dados['COMPETENCIA'] = pd.to_datetime({'year': base_dados['ANOREFERENCIA'], 'month': base_dados['MESREFERENCIA'], 'day': 1}, format=\"%m/%Y\")"
      ],
      "metadata": {
        "id": "ia9YSr6AHYk2"
      },
      "execution_count": null,
      "outputs": []
    },
    {
      "cell_type": "code",
      "source": [
        "base_dados.info()"
      ],
      "metadata": {
        "colab": {
          "base_uri": "https://localhost:8080/"
        },
        "id": "bXeYAdUoHYoQ",
        "outputId": "f0640dd5-c11e-448c-90d3-dd42d531aaed"
      },
      "execution_count": null,
      "outputs": [
        {
          "output_type": "stream",
          "name": "stdout",
          "text": [
            "<class 'pandas.core.frame.DataFrame'>\n",
            "RangeIndex: 13943 entries, 0 to 13942\n",
            "Data columns (total 13 columns):\n",
            " #   Column                       Non-Null Count  Dtype         \n",
            "---  ------                       --------------  -----         \n",
            " 0   ID_UNIDADE_GESTORA           13943 non-null  object        \n",
            " 1   NUMERORECEITAORCAMENTARIAUG  13941 non-null  object        \n",
            " 2   DESCRICAO                    13941 non-null  object        \n",
            " 3   CATEGORIARECEITA             13943 non-null  object        \n",
            " 4   ANOREFERENCIA                13943 non-null  object        \n",
            " 5   MESREFERENCIA                13943 non-null  object        \n",
            " 6   VALORLANCAMENTO              13943 non-null  object        \n",
            " 7   ESFERA                       13943 non-null  object        \n",
            " 8   ORIGEMRECEITA                13941 non-null  object        \n",
            " 9   DEDUCAORECEITA               13943 non-null  object        \n",
            " 10  ESPECIERECEITA               12484 non-null  object        \n",
            " 11  DESCRICAOFONTE               12119 non-null  object        \n",
            " 12  COMPETENCIA                  13943 non-null  datetime64[ns]\n",
            "dtypes: datetime64[ns](1), object(12)\n",
            "memory usage: 1.4+ MB\n"
          ]
        }
      ]
    },
    {
      "cell_type": "code",
      "source": [
        "base_dados.head()"
      ],
      "metadata": {
        "colab": {
          "base_uri": "https://localhost:8080/",
          "height": 635
        },
        "id": "NQR8b4UELCRB",
        "outputId": "bd18c36b-ef3f-4c5b-f563-c3d9dae3c002"
      },
      "execution_count": null,
      "outputs": [
        {
          "output_type": "execute_result",
          "data": {
            "text/plain": [
              "  ID_UNIDADE_GESTORA NUMERORECEITAORCAMENTARIAUG  \\\n",
              "0                319                   917220101   \n",
              "1                319                   917220101   \n",
              "2                319                   917220101   \n",
              "3                319                   917220102   \n",
              "4                319                   917220104   \n",
              "\n",
              "                                           DESCRICAO     CATEGORIARECEITA  \\\n",
              "0             Dedução de Cota-Parte do ICMS - FUNDEB  Dedução de Receitas   \n",
              "1             Dedução de Cota-Parte do ICMS - FUNDEB  Dedução de Receitas   \n",
              "2             Dedução de Cota-Parte do ICMS - FUNDEB  Dedução de Receitas   \n",
              "3             Dedução de Cota-Parte do IPVA - FUNDEB  Dedução de Receitas   \n",
              "4  Dedução de Cota-Parte do IPI sobre Exportação ...  Dedução de Receitas   \n",
              "\n",
              "  ANOREFERENCIA MESREFERENCIA VALORLANCAMENTO ESFERA      ORIGEMRECEITA  \\\n",
              "0          2012             2     -3655348.80      M  Alienação de Bens   \n",
              "1          2012             4     -2974700.38      M  Alienação de Bens   \n",
              "2          2012             5     -4365097.58      M  Alienação de Bens   \n",
              "3          2012             8        -3891.64      M  Alienação de Bens   \n",
              "4          2012             9        -7644.57      M  Alienação de Bens   \n",
              "\n",
              "  DEDUCAORECEITA ESPECIERECEITA DESCRICAOFONTE COMPETENCIA  \n",
              "0              9            NaN            NaN  2012-02-01  \n",
              "1              9            NaN            NaN  2012-04-01  \n",
              "2              9            NaN            NaN  2012-05-01  \n",
              "3              9            NaN            NaN  2012-08-01  \n",
              "4              9            NaN            NaN  2012-09-01  "
            ],
            "text/html": [
              "\n",
              "  <div id=\"df-a6e18be0-8f6e-4dc5-95cf-7cfdef7d77cb\">\n",
              "    <div class=\"colab-df-container\">\n",
              "      <div>\n",
              "<style scoped>\n",
              "    .dataframe tbody tr th:only-of-type {\n",
              "        vertical-align: middle;\n",
              "    }\n",
              "\n",
              "    .dataframe tbody tr th {\n",
              "        vertical-align: top;\n",
              "    }\n",
              "\n",
              "    .dataframe thead th {\n",
              "        text-align: right;\n",
              "    }\n",
              "</style>\n",
              "<table border=\"1\" class=\"dataframe\">\n",
              "  <thead>\n",
              "    <tr style=\"text-align: right;\">\n",
              "      <th></th>\n",
              "      <th>ID_UNIDADE_GESTORA</th>\n",
              "      <th>NUMERORECEITAORCAMENTARIAUG</th>\n",
              "      <th>DESCRICAO</th>\n",
              "      <th>CATEGORIARECEITA</th>\n",
              "      <th>ANOREFERENCIA</th>\n",
              "      <th>MESREFERENCIA</th>\n",
              "      <th>VALORLANCAMENTO</th>\n",
              "      <th>ESFERA</th>\n",
              "      <th>ORIGEMRECEITA</th>\n",
              "      <th>DEDUCAORECEITA</th>\n",
              "      <th>ESPECIERECEITA</th>\n",
              "      <th>DESCRICAOFONTE</th>\n",
              "      <th>COMPETENCIA</th>\n",
              "    </tr>\n",
              "  </thead>\n",
              "  <tbody>\n",
              "    <tr>\n",
              "      <th>0</th>\n",
              "      <td>319</td>\n",
              "      <td>917220101</td>\n",
              "      <td>Dedução de Cota-Parte do ICMS - FUNDEB</td>\n",
              "      <td>Dedução de Receitas</td>\n",
              "      <td>2012</td>\n",
              "      <td>2</td>\n",
              "      <td>-3655348.80</td>\n",
              "      <td>M</td>\n",
              "      <td>Alienação de Bens</td>\n",
              "      <td>9</td>\n",
              "      <td>NaN</td>\n",
              "      <td>NaN</td>\n",
              "      <td>2012-02-01</td>\n",
              "    </tr>\n",
              "    <tr>\n",
              "      <th>1</th>\n",
              "      <td>319</td>\n",
              "      <td>917220101</td>\n",
              "      <td>Dedução de Cota-Parte do ICMS - FUNDEB</td>\n",
              "      <td>Dedução de Receitas</td>\n",
              "      <td>2012</td>\n",
              "      <td>4</td>\n",
              "      <td>-2974700.38</td>\n",
              "      <td>M</td>\n",
              "      <td>Alienação de Bens</td>\n",
              "      <td>9</td>\n",
              "      <td>NaN</td>\n",
              "      <td>NaN</td>\n",
              "      <td>2012-04-01</td>\n",
              "    </tr>\n",
              "    <tr>\n",
              "      <th>2</th>\n",
              "      <td>319</td>\n",
              "      <td>917220101</td>\n",
              "      <td>Dedução de Cota-Parte do ICMS - FUNDEB</td>\n",
              "      <td>Dedução de Receitas</td>\n",
              "      <td>2012</td>\n",
              "      <td>5</td>\n",
              "      <td>-4365097.58</td>\n",
              "      <td>M</td>\n",
              "      <td>Alienação de Bens</td>\n",
              "      <td>9</td>\n",
              "      <td>NaN</td>\n",
              "      <td>NaN</td>\n",
              "      <td>2012-05-01</td>\n",
              "    </tr>\n",
              "    <tr>\n",
              "      <th>3</th>\n",
              "      <td>319</td>\n",
              "      <td>917220102</td>\n",
              "      <td>Dedução de Cota-Parte do IPVA - FUNDEB</td>\n",
              "      <td>Dedução de Receitas</td>\n",
              "      <td>2012</td>\n",
              "      <td>8</td>\n",
              "      <td>-3891.64</td>\n",
              "      <td>M</td>\n",
              "      <td>Alienação de Bens</td>\n",
              "      <td>9</td>\n",
              "      <td>NaN</td>\n",
              "      <td>NaN</td>\n",
              "      <td>2012-08-01</td>\n",
              "    </tr>\n",
              "    <tr>\n",
              "      <th>4</th>\n",
              "      <td>319</td>\n",
              "      <td>917220104</td>\n",
              "      <td>Dedução de Cota-Parte do IPI sobre Exportação ...</td>\n",
              "      <td>Dedução de Receitas</td>\n",
              "      <td>2012</td>\n",
              "      <td>9</td>\n",
              "      <td>-7644.57</td>\n",
              "      <td>M</td>\n",
              "      <td>Alienação de Bens</td>\n",
              "      <td>9</td>\n",
              "      <td>NaN</td>\n",
              "      <td>NaN</td>\n",
              "      <td>2012-09-01</td>\n",
              "    </tr>\n",
              "  </tbody>\n",
              "</table>\n",
              "</div>\n",
              "      <button class=\"colab-df-convert\" onclick=\"convertToInteractive('df-a6e18be0-8f6e-4dc5-95cf-7cfdef7d77cb')\"\n",
              "              title=\"Convert this dataframe to an interactive table.\"\n",
              "              style=\"display:none;\">\n",
              "        \n",
              "  <svg xmlns=\"http://www.w3.org/2000/svg\" height=\"24px\"viewBox=\"0 0 24 24\"\n",
              "       width=\"24px\">\n",
              "    <path d=\"M0 0h24v24H0V0z\" fill=\"none\"/>\n",
              "    <path d=\"M18.56 5.44l.94 2.06.94-2.06 2.06-.94-2.06-.94-.94-2.06-.94 2.06-2.06.94zm-11 1L8.5 8.5l.94-2.06 2.06-.94-2.06-.94L8.5 2.5l-.94 2.06-2.06.94zm10 10l.94 2.06.94-2.06 2.06-.94-2.06-.94-.94-2.06-.94 2.06-2.06.94z\"/><path d=\"M17.41 7.96l-1.37-1.37c-.4-.4-.92-.59-1.43-.59-.52 0-1.04.2-1.43.59L10.3 9.45l-7.72 7.72c-.78.78-.78 2.05 0 2.83L4 21.41c.39.39.9.59 1.41.59.51 0 1.02-.2 1.41-.59l7.78-7.78 2.81-2.81c.8-.78.8-2.07 0-2.86zM5.41 20L4 18.59l7.72-7.72 1.47 1.35L5.41 20z\"/>\n",
              "  </svg>\n",
              "      </button>\n",
              "      \n",
              "  <style>\n",
              "    .colab-df-container {\n",
              "      display:flex;\n",
              "      flex-wrap:wrap;\n",
              "      gap: 12px;\n",
              "    }\n",
              "\n",
              "    .colab-df-convert {\n",
              "      background-color: #E8F0FE;\n",
              "      border: none;\n",
              "      border-radius: 50%;\n",
              "      cursor: pointer;\n",
              "      display: none;\n",
              "      fill: #1967D2;\n",
              "      height: 32px;\n",
              "      padding: 0 0 0 0;\n",
              "      width: 32px;\n",
              "    }\n",
              "\n",
              "    .colab-df-convert:hover {\n",
              "      background-color: #E2EBFA;\n",
              "      box-shadow: 0px 1px 2px rgba(60, 64, 67, 0.3), 0px 1px 3px 1px rgba(60, 64, 67, 0.15);\n",
              "      fill: #174EA6;\n",
              "    }\n",
              "\n",
              "    [theme=dark] .colab-df-convert {\n",
              "      background-color: #3B4455;\n",
              "      fill: #D2E3FC;\n",
              "    }\n",
              "\n",
              "    [theme=dark] .colab-df-convert:hover {\n",
              "      background-color: #434B5C;\n",
              "      box-shadow: 0px 1px 3px 1px rgba(0, 0, 0, 0.15);\n",
              "      filter: drop-shadow(0px 1px 2px rgba(0, 0, 0, 0.3));\n",
              "      fill: #FFFFFF;\n",
              "    }\n",
              "  </style>\n",
              "\n",
              "      <script>\n",
              "        const buttonEl =\n",
              "          document.querySelector('#df-a6e18be0-8f6e-4dc5-95cf-7cfdef7d77cb button.colab-df-convert');\n",
              "        buttonEl.style.display =\n",
              "          google.colab.kernel.accessAllowed ? 'block' : 'none';\n",
              "\n",
              "        async function convertToInteractive(key) {\n",
              "          const element = document.querySelector('#df-a6e18be0-8f6e-4dc5-95cf-7cfdef7d77cb');\n",
              "          const dataTable =\n",
              "            await google.colab.kernel.invokeFunction('convertToInteractive',\n",
              "                                                     [key], {});\n",
              "          if (!dataTable) return;\n",
              "\n",
              "          const docLinkHtml = 'Like what you see? Visit the ' +\n",
              "            '<a target=\"_blank\" href=https://colab.research.google.com/notebooks/data_table.ipynb>data table notebook</a>'\n",
              "            + ' to learn more about interactive tables.';\n",
              "          element.innerHTML = '';\n",
              "          dataTable['output_type'] = 'display_data';\n",
              "          await google.colab.output.renderOutput(dataTable, element);\n",
              "          const docLink = document.createElement('div');\n",
              "          docLink.innerHTML = docLinkHtml;\n",
              "          element.appendChild(docLink);\n",
              "        }\n",
              "      </script>\n",
              "    </div>\n",
              "  </div>\n",
              "  "
            ]
          },
          "metadata": {},
          "execution_count": 10
        }
      ]
    },
    {
      "cell_type": "code",
      "source": [
        "# Lista de Receitas e Códigos\n",
        "receitas_cod = base_dados[['NUMERORECEITAORCAMENTARIAUG', 'DESCRICAO']].drop_duplicates()\n",
        "receitas_cod.to_csv('receitas_cod.csv', sep=';', index=False)"
      ],
      "metadata": {
        "id": "d9BA1DNFQcfI"
      },
      "execution_count": null,
      "outputs": []
    },
    {
      "cell_type": "code",
      "source": [
        "base_dados.loc[base_dados['NUMERORECEITAORCAMENTARIAUG'].isnull()]"
      ],
      "metadata": {
        "colab": {
          "base_uri": "https://localhost:8080/",
          "height": 113
        },
        "id": "7UD6vHnmpu5U",
        "outputId": "f6545fbd-9c01-4056-b4c0-e59fa7db0c26"
      },
      "execution_count": null,
      "outputs": [
        {
          "output_type": "execute_result",
          "data": {
            "text/plain": [
              "Empty DataFrame\n",
              "Columns: [ID_UNIDADE_GESTORA, NUMERORECEITAORCAMENTARIAUG, DESCRICAO, CATEGORIARECEITA, ANOREFERENCIA, MESREFERENCIA, VALORLANCAMENTO, ESFERA, ORIGEMRECEITA, DEDUCAORECEITA, ESPECIERECEITA, DESCRICAOFONTE, COMPETENCIA]\n",
              "Index: []"
            ],
            "text/html": [
              "\n",
              "  <div id=\"df-7d089fd4-25d5-4571-b78f-9ad33a0c7eb7\">\n",
              "    <div class=\"colab-df-container\">\n",
              "      <div>\n",
              "<style scoped>\n",
              "    .dataframe tbody tr th:only-of-type {\n",
              "        vertical-align: middle;\n",
              "    }\n",
              "\n",
              "    .dataframe tbody tr th {\n",
              "        vertical-align: top;\n",
              "    }\n",
              "\n",
              "    .dataframe thead th {\n",
              "        text-align: right;\n",
              "    }\n",
              "</style>\n",
              "<table border=\"1\" class=\"dataframe\">\n",
              "  <thead>\n",
              "    <tr style=\"text-align: right;\">\n",
              "      <th></th>\n",
              "      <th>ID_UNIDADE_GESTORA</th>\n",
              "      <th>NUMERORECEITAORCAMENTARIAUG</th>\n",
              "      <th>DESCRICAO</th>\n",
              "      <th>CATEGORIARECEITA</th>\n",
              "      <th>ANOREFERENCIA</th>\n",
              "      <th>MESREFERENCIA</th>\n",
              "      <th>VALORLANCAMENTO</th>\n",
              "      <th>ESFERA</th>\n",
              "      <th>ORIGEMRECEITA</th>\n",
              "      <th>DEDUCAORECEITA</th>\n",
              "      <th>ESPECIERECEITA</th>\n",
              "      <th>DESCRICAOFONTE</th>\n",
              "      <th>COMPETENCIA</th>\n",
              "    </tr>\n",
              "  </thead>\n",
              "  <tbody>\n",
              "  </tbody>\n",
              "</table>\n",
              "</div>\n",
              "      <button class=\"colab-df-convert\" onclick=\"convertToInteractive('df-7d089fd4-25d5-4571-b78f-9ad33a0c7eb7')\"\n",
              "              title=\"Convert this dataframe to an interactive table.\"\n",
              "              style=\"display:none;\">\n",
              "        \n",
              "  <svg xmlns=\"http://www.w3.org/2000/svg\" height=\"24px\"viewBox=\"0 0 24 24\"\n",
              "       width=\"24px\">\n",
              "    <path d=\"M0 0h24v24H0V0z\" fill=\"none\"/>\n",
              "    <path d=\"M18.56 5.44l.94 2.06.94-2.06 2.06-.94-2.06-.94-.94-2.06-.94 2.06-2.06.94zm-11 1L8.5 8.5l.94-2.06 2.06-.94-2.06-.94L8.5 2.5l-.94 2.06-2.06.94zm10 10l.94 2.06.94-2.06 2.06-.94-2.06-.94-.94-2.06-.94 2.06-2.06.94z\"/><path d=\"M17.41 7.96l-1.37-1.37c-.4-.4-.92-.59-1.43-.59-.52 0-1.04.2-1.43.59L10.3 9.45l-7.72 7.72c-.78.78-.78 2.05 0 2.83L4 21.41c.39.39.9.59 1.41.59.51 0 1.02-.2 1.41-.59l7.78-7.78 2.81-2.81c.8-.78.8-2.07 0-2.86zM5.41 20L4 18.59l7.72-7.72 1.47 1.35L5.41 20z\"/>\n",
              "  </svg>\n",
              "      </button>\n",
              "      \n",
              "  <style>\n",
              "    .colab-df-container {\n",
              "      display:flex;\n",
              "      flex-wrap:wrap;\n",
              "      gap: 12px;\n",
              "    }\n",
              "\n",
              "    .colab-df-convert {\n",
              "      background-color: #E8F0FE;\n",
              "      border: none;\n",
              "      border-radius: 50%;\n",
              "      cursor: pointer;\n",
              "      display: none;\n",
              "      fill: #1967D2;\n",
              "      height: 32px;\n",
              "      padding: 0 0 0 0;\n",
              "      width: 32px;\n",
              "    }\n",
              "\n",
              "    .colab-df-convert:hover {\n",
              "      background-color: #E2EBFA;\n",
              "      box-shadow: 0px 1px 2px rgba(60, 64, 67, 0.3), 0px 1px 3px 1px rgba(60, 64, 67, 0.15);\n",
              "      fill: #174EA6;\n",
              "    }\n",
              "\n",
              "    [theme=dark] .colab-df-convert {\n",
              "      background-color: #3B4455;\n",
              "      fill: #D2E3FC;\n",
              "    }\n",
              "\n",
              "    [theme=dark] .colab-df-convert:hover {\n",
              "      background-color: #434B5C;\n",
              "      box-shadow: 0px 1px 3px 1px rgba(0, 0, 0, 0.15);\n",
              "      filter: drop-shadow(0px 1px 2px rgba(0, 0, 0, 0.3));\n",
              "      fill: #FFFFFF;\n",
              "    }\n",
              "  </style>\n",
              "\n",
              "      <script>\n",
              "        const buttonEl =\n",
              "          document.querySelector('#df-7d089fd4-25d5-4571-b78f-9ad33a0c7eb7 button.colab-df-convert');\n",
              "        buttonEl.style.display =\n",
              "          google.colab.kernel.accessAllowed ? 'block' : 'none';\n",
              "\n",
              "        async function convertToInteractive(key) {\n",
              "          const element = document.querySelector('#df-7d089fd4-25d5-4571-b78f-9ad33a0c7eb7');\n",
              "          const dataTable =\n",
              "            await google.colab.kernel.invokeFunction('convertToInteractive',\n",
              "                                                     [key], {});\n",
              "          if (!dataTable) return;\n",
              "\n",
              "          const docLinkHtml = 'Like what you see? Visit the ' +\n",
              "            '<a target=\"_blank\" href=https://colab.research.google.com/notebooks/data_table.ipynb>data table notebook</a>'\n",
              "            + ' to learn more about interactive tables.';\n",
              "          element.innerHTML = '';\n",
              "          dataTable['output_type'] = 'display_data';\n",
              "          await google.colab.output.renderOutput(dataTable, element);\n",
              "          const docLink = document.createElement('div');\n",
              "          docLink.innerHTML = docLinkHtml;\n",
              "          element.appendChild(docLink);\n",
              "        }\n",
              "      </script>\n",
              "    </div>\n",
              "  </div>\n",
              "  "
            ]
          },
          "metadata": {},
          "execution_count": 18
        }
      ]
    },
    {
      "cell_type": "code",
      "source": [
        "base_dados.drop(base_dados[base_dados['NUMERORECEITAORCAMENTARIAUG'].isnull()].index, inplace=True)"
      ],
      "metadata": {
        "id": "eTiwIGZ5D2Yg"
      },
      "execution_count": null,
      "outputs": []
    },
    {
      "cell_type": "code",
      "source": [
        "base_dados.to_csv('/content/base_dados')"
      ],
      "metadata": {
        "id": "P1Byc_lU0sbB"
      },
      "execution_count": null,
      "outputs": []
    },
    {
      "cell_type": "code",
      "source": [
        "base_dados.info()"
      ],
      "metadata": {
        "colab": {
          "base_uri": "https://localhost:8080/"
        },
        "id": "LEYg4uz-rFb7",
        "outputId": "c9f5d529-76ab-41d4-da8c-d641e44044d0"
      },
      "execution_count": null,
      "outputs": [
        {
          "output_type": "stream",
          "name": "stdout",
          "text": [
            "<class 'pandas.core.frame.DataFrame'>\n",
            "Int64Index: 13941 entries, 0 to 13942\n",
            "Data columns (total 13 columns):\n",
            " #   Column                       Non-Null Count  Dtype         \n",
            "---  ------                       --------------  -----         \n",
            " 0   ID_UNIDADE_GESTORA           13941 non-null  object        \n",
            " 1   NUMERORECEITAORCAMENTARIAUG  13941 non-null  object        \n",
            " 2   DESCRICAO                    13941 non-null  object        \n",
            " 3   CATEGORIARECEITA             13941 non-null  object        \n",
            " 4   ANOREFERENCIA                13941 non-null  object        \n",
            " 5   MESREFERENCIA                13941 non-null  object        \n",
            " 6   VALORLANCAMENTO              13941 non-null  object        \n",
            " 7   ESFERA                       13941 non-null  object        \n",
            " 8   ORIGEMRECEITA                13941 non-null  object        \n",
            " 9   DEDUCAORECEITA               13941 non-null  object        \n",
            " 10  ESPECIERECEITA               12484 non-null  object        \n",
            " 11  DESCRICAOFONTE               12117 non-null  object        \n",
            " 12  COMPETENCIA                  13941 non-null  datetime64[ns]\n",
            "dtypes: datetime64[ns](1), object(12)\n",
            "memory usage: 1.5+ MB\n"
          ]
        }
      ]
    },
    {
      "cell_type": "code",
      "source": [
        "# Transformar numeros em valores flutuantes\n",
        "base_dados['VALORLANCAMENTO'] = base_dados['VALORLANCAMENTO'].astype(float)\n",
        "base_dados['NUMERORECEITAORCAMENTARIAUG'] = base_dados['NUMERORECEITAORCAMENTARIAUG'].astype(int)"
      ],
      "metadata": {
        "id": "xk0doCgqtIui"
      },
      "execution_count": null,
      "outputs": []
    },
    {
      "cell_type": "code",
      "source": [
        "base_dados.info()"
      ],
      "metadata": {
        "colab": {
          "base_uri": "https://localhost:8080/"
        },
        "id": "xthOMRB3mnKj",
        "outputId": "9dd31835-5d22-486c-935c-7ade6ff2064b"
      },
      "execution_count": null,
      "outputs": [
        {
          "output_type": "stream",
          "name": "stdout",
          "text": [
            "<class 'pandas.core.frame.DataFrame'>\n",
            "Int64Index: 13941 entries, 0 to 13942\n",
            "Data columns (total 13 columns):\n",
            " #   Column                       Non-Null Count  Dtype         \n",
            "---  ------                       --------------  -----         \n",
            " 0   ID_UNIDADE_GESTORA           13941 non-null  object        \n",
            " 1   NUMERORECEITAORCAMENTARIAUG  13941 non-null  int64         \n",
            " 2   DESCRICAO                    13941 non-null  object        \n",
            " 3   CATEGORIARECEITA             13941 non-null  object        \n",
            " 4   ANOREFERENCIA                13941 non-null  object        \n",
            " 5   MESREFERENCIA                13941 non-null  object        \n",
            " 6   VALORLANCAMENTO              13941 non-null  float64       \n",
            " 7   ESFERA                       13941 non-null  object        \n",
            " 8   ORIGEMRECEITA                13941 non-null  object        \n",
            " 9   DEDUCAORECEITA               13941 non-null  object        \n",
            " 10  ESPECIERECEITA               12484 non-null  object        \n",
            " 11  DESCRICAOFONTE               12117 non-null  object        \n",
            " 12  COMPETENCIA                  13941 non-null  datetime64[ns]\n",
            "dtypes: datetime64[ns](1), float64(1), int64(1), object(10)\n",
            "memory usage: 1.5+ MB\n"
          ]
        }
      ]
    },
    {
      "cell_type": "markdown",
      "source": [
        "## Gravar dados requisitados em um Banco de Dados"
      ],
      "metadata": {
        "id": "-Gt_LmN0upxw"
      }
    },
    {
      "cell_type": "code",
      "source": [
        "base_dados_gravar = base_dados[['COMPETENCIA', 'ANOREFERENCIA', 'ORIGEMRECEITA', 'DEDUCAORECEITA', 'NUMERORECEITAORCAMENTARIAUG', 'DESCRICAO', 'VALORLANCAMENTO']]"
      ],
      "metadata": {
        "id": "Iq_XtfhQmqyo"
      },
      "execution_count": null,
      "outputs": []
    },
    {
      "cell_type": "code",
      "source": [
        "base_dados_gravar.head()"
      ],
      "metadata": {
        "colab": {
          "base_uri": "https://localhost:8080/",
          "height": 441
        },
        "id": "9RY8x7XcpKHI",
        "outputId": "e205d1a2-721d-4ec8-d765-9fa53ed9321e"
      },
      "execution_count": null,
      "outputs": [
        {
          "output_type": "execute_result",
          "data": {
            "text/plain": [
              "  COMPETENCIA ANOREFERENCIA      ORIGEMRECEITA DEDUCAORECEITA  \\\n",
              "0  2012-02-01          2012  Alienação de Bens              9   \n",
              "1  2012-04-01          2012  Alienação de Bens              9   \n",
              "2  2012-05-01          2012  Alienação de Bens              9   \n",
              "3  2012-08-01          2012  Alienação de Bens              9   \n",
              "4  2012-09-01          2012  Alienação de Bens              9   \n",
              "\n",
              "   NUMERORECEITAORCAMENTARIAUG  \\\n",
              "0                    917220101   \n",
              "1                    917220101   \n",
              "2                    917220101   \n",
              "3                    917220102   \n",
              "4                    917220104   \n",
              "\n",
              "                                           DESCRICAO  VALORLANCAMENTO  \n",
              "0             Dedução de Cota-Parte do ICMS - FUNDEB      -3655348.80  \n",
              "1             Dedução de Cota-Parte do ICMS - FUNDEB      -2974700.38  \n",
              "2             Dedução de Cota-Parte do ICMS - FUNDEB      -4365097.58  \n",
              "3             Dedução de Cota-Parte do IPVA - FUNDEB         -3891.64  \n",
              "4  Dedução de Cota-Parte do IPI sobre Exportação ...         -7644.57  "
            ],
            "text/html": [
              "\n",
              "  <div id=\"df-a23fb1dc-1aba-4ab0-ab58-33efa243d6c3\">\n",
              "    <div class=\"colab-df-container\">\n",
              "      <div>\n",
              "<style scoped>\n",
              "    .dataframe tbody tr th:only-of-type {\n",
              "        vertical-align: middle;\n",
              "    }\n",
              "\n",
              "    .dataframe tbody tr th {\n",
              "        vertical-align: top;\n",
              "    }\n",
              "\n",
              "    .dataframe thead th {\n",
              "        text-align: right;\n",
              "    }\n",
              "</style>\n",
              "<table border=\"1\" class=\"dataframe\">\n",
              "  <thead>\n",
              "    <tr style=\"text-align: right;\">\n",
              "      <th></th>\n",
              "      <th>COMPETENCIA</th>\n",
              "      <th>ANOREFERENCIA</th>\n",
              "      <th>ORIGEMRECEITA</th>\n",
              "      <th>DEDUCAORECEITA</th>\n",
              "      <th>NUMERORECEITAORCAMENTARIAUG</th>\n",
              "      <th>DESCRICAO</th>\n",
              "      <th>VALORLANCAMENTO</th>\n",
              "    </tr>\n",
              "  </thead>\n",
              "  <tbody>\n",
              "    <tr>\n",
              "      <th>0</th>\n",
              "      <td>2012-02-01</td>\n",
              "      <td>2012</td>\n",
              "      <td>Alienação de Bens</td>\n",
              "      <td>9</td>\n",
              "      <td>917220101</td>\n",
              "      <td>Dedução de Cota-Parte do ICMS - FUNDEB</td>\n",
              "      <td>-3655348.80</td>\n",
              "    </tr>\n",
              "    <tr>\n",
              "      <th>1</th>\n",
              "      <td>2012-04-01</td>\n",
              "      <td>2012</td>\n",
              "      <td>Alienação de Bens</td>\n",
              "      <td>9</td>\n",
              "      <td>917220101</td>\n",
              "      <td>Dedução de Cota-Parte do ICMS - FUNDEB</td>\n",
              "      <td>-2974700.38</td>\n",
              "    </tr>\n",
              "    <tr>\n",
              "      <th>2</th>\n",
              "      <td>2012-05-01</td>\n",
              "      <td>2012</td>\n",
              "      <td>Alienação de Bens</td>\n",
              "      <td>9</td>\n",
              "      <td>917220101</td>\n",
              "      <td>Dedução de Cota-Parte do ICMS - FUNDEB</td>\n",
              "      <td>-4365097.58</td>\n",
              "    </tr>\n",
              "    <tr>\n",
              "      <th>3</th>\n",
              "      <td>2012-08-01</td>\n",
              "      <td>2012</td>\n",
              "      <td>Alienação de Bens</td>\n",
              "      <td>9</td>\n",
              "      <td>917220102</td>\n",
              "      <td>Dedução de Cota-Parte do IPVA - FUNDEB</td>\n",
              "      <td>-3891.64</td>\n",
              "    </tr>\n",
              "    <tr>\n",
              "      <th>4</th>\n",
              "      <td>2012-09-01</td>\n",
              "      <td>2012</td>\n",
              "      <td>Alienação de Bens</td>\n",
              "      <td>9</td>\n",
              "      <td>917220104</td>\n",
              "      <td>Dedução de Cota-Parte do IPI sobre Exportação ...</td>\n",
              "      <td>-7644.57</td>\n",
              "    </tr>\n",
              "  </tbody>\n",
              "</table>\n",
              "</div>\n",
              "      <button class=\"colab-df-convert\" onclick=\"convertToInteractive('df-a23fb1dc-1aba-4ab0-ab58-33efa243d6c3')\"\n",
              "              title=\"Convert this dataframe to an interactive table.\"\n",
              "              style=\"display:none;\">\n",
              "        \n",
              "  <svg xmlns=\"http://www.w3.org/2000/svg\" height=\"24px\"viewBox=\"0 0 24 24\"\n",
              "       width=\"24px\">\n",
              "    <path d=\"M0 0h24v24H0V0z\" fill=\"none\"/>\n",
              "    <path d=\"M18.56 5.44l.94 2.06.94-2.06 2.06-.94-2.06-.94-.94-2.06-.94 2.06-2.06.94zm-11 1L8.5 8.5l.94-2.06 2.06-.94-2.06-.94L8.5 2.5l-.94 2.06-2.06.94zm10 10l.94 2.06.94-2.06 2.06-.94-2.06-.94-.94-2.06-.94 2.06-2.06.94z\"/><path d=\"M17.41 7.96l-1.37-1.37c-.4-.4-.92-.59-1.43-.59-.52 0-1.04.2-1.43.59L10.3 9.45l-7.72 7.72c-.78.78-.78 2.05 0 2.83L4 21.41c.39.39.9.59 1.41.59.51 0 1.02-.2 1.41-.59l7.78-7.78 2.81-2.81c.8-.78.8-2.07 0-2.86zM5.41 20L4 18.59l7.72-7.72 1.47 1.35L5.41 20z\"/>\n",
              "  </svg>\n",
              "      </button>\n",
              "      \n",
              "  <style>\n",
              "    .colab-df-container {\n",
              "      display:flex;\n",
              "      flex-wrap:wrap;\n",
              "      gap: 12px;\n",
              "    }\n",
              "\n",
              "    .colab-df-convert {\n",
              "      background-color: #E8F0FE;\n",
              "      border: none;\n",
              "      border-radius: 50%;\n",
              "      cursor: pointer;\n",
              "      display: none;\n",
              "      fill: #1967D2;\n",
              "      height: 32px;\n",
              "      padding: 0 0 0 0;\n",
              "      width: 32px;\n",
              "    }\n",
              "\n",
              "    .colab-df-convert:hover {\n",
              "      background-color: #E2EBFA;\n",
              "      box-shadow: 0px 1px 2px rgba(60, 64, 67, 0.3), 0px 1px 3px 1px rgba(60, 64, 67, 0.15);\n",
              "      fill: #174EA6;\n",
              "    }\n",
              "\n",
              "    [theme=dark] .colab-df-convert {\n",
              "      background-color: #3B4455;\n",
              "      fill: #D2E3FC;\n",
              "    }\n",
              "\n",
              "    [theme=dark] .colab-df-convert:hover {\n",
              "      background-color: #434B5C;\n",
              "      box-shadow: 0px 1px 3px 1px rgba(0, 0, 0, 0.15);\n",
              "      filter: drop-shadow(0px 1px 2px rgba(0, 0, 0, 0.3));\n",
              "      fill: #FFFFFF;\n",
              "    }\n",
              "  </style>\n",
              "\n",
              "      <script>\n",
              "        const buttonEl =\n",
              "          document.querySelector('#df-a23fb1dc-1aba-4ab0-ab58-33efa243d6c3 button.colab-df-convert');\n",
              "        buttonEl.style.display =\n",
              "          google.colab.kernel.accessAllowed ? 'block' : 'none';\n",
              "\n",
              "        async function convertToInteractive(key) {\n",
              "          const element = document.querySelector('#df-a23fb1dc-1aba-4ab0-ab58-33efa243d6c3');\n",
              "          const dataTable =\n",
              "            await google.colab.kernel.invokeFunction('convertToInteractive',\n",
              "                                                     [key], {});\n",
              "          if (!dataTable) return;\n",
              "\n",
              "          const docLinkHtml = 'Like what you see? Visit the ' +\n",
              "            '<a target=\"_blank\" href=https://colab.research.google.com/notebooks/data_table.ipynb>data table notebook</a>'\n",
              "            + ' to learn more about interactive tables.';\n",
              "          element.innerHTML = '';\n",
              "          dataTable['output_type'] = 'display_data';\n",
              "          await google.colab.output.renderOutput(dataTable, element);\n",
              "          const docLink = document.createElement('div');\n",
              "          docLink.innerHTML = docLinkHtml;\n",
              "          element.appendChild(docLink);\n",
              "        }\n",
              "      </script>\n",
              "    </div>\n",
              "  </div>\n",
              "  "
            ]
          },
          "metadata": {},
          "execution_count": 24
        }
      ]
    },
    {
      "cell_type": "code",
      "source": [
        "base_dados_gravar.info()"
      ],
      "metadata": {
        "colab": {
          "base_uri": "https://localhost:8080/"
        },
        "id": "D1x7UhIIpOwA",
        "outputId": "a92fb4da-0625-48fa-8572-8c57c66ae9a3"
      },
      "execution_count": null,
      "outputs": [
        {
          "output_type": "stream",
          "name": "stdout",
          "text": [
            "<class 'pandas.core.frame.DataFrame'>\n",
            "Int64Index: 13941 entries, 0 to 13942\n",
            "Data columns (total 7 columns):\n",
            " #   Column                       Non-Null Count  Dtype         \n",
            "---  ------                       --------------  -----         \n",
            " 0   COMPETENCIA                  13941 non-null  datetime64[ns]\n",
            " 1   ANOREFERENCIA                13941 non-null  object        \n",
            " 2   ORIGEMRECEITA                13941 non-null  object        \n",
            " 3   DEDUCAORECEITA               13941 non-null  object        \n",
            " 4   NUMERORECEITAORCAMENTARIAUG  13941 non-null  int64         \n",
            " 5   DESCRICAO                    13941 non-null  object        \n",
            " 6   VALORLANCAMENTO              13941 non-null  float64       \n",
            "dtypes: datetime64[ns](1), float64(1), int64(1), object(4)\n",
            "memory usage: 871.3+ KB\n"
          ]
        }
      ]
    },
    {
      "cell_type": "code",
      "source": [
        "# Transformar data em texto para armazenamento no banco de dados - hipótese de explicação do erro.\n",
        "base_dados_gravar['COMPETENCIA'] = base_dados_gravar['COMPETENCIA'].astype(str)"
      ],
      "metadata": {
        "colab": {
          "base_uri": "https://localhost:8080/"
        },
        "id": "nRWOFutG1yov",
        "outputId": "7c5bae6f-280d-48ac-ce27-16133db2213b"
      },
      "execution_count": null,
      "outputs": [
        {
          "output_type": "stream",
          "name": "stderr",
          "text": [
            "/usr/local/lib/python3.7/dist-packages/ipykernel_launcher.py:2: SettingWithCopyWarning: \n",
            "A value is trying to be set on a copy of a slice from a DataFrame.\n",
            "Try using .loc[row_indexer,col_indexer] = value instead\n",
            "\n",
            "See the caveats in the documentation: https://pandas.pydata.org/pandas-docs/stable/user_guide/indexing.html#returning-a-view-versus-a-copy\n",
            "  \n"
          ]
        }
      ]
    },
    {
      "cell_type": "code",
      "source": [
        "# Criar conexão\n",
        "con = sqlite3.connect('baseTransferencias.db')\n",
        "\n",
        "# Criar cursor\n",
        "cur = con.cursor()"
      ],
      "metadata": {
        "id": "nZOt6jBGP3zs"
      },
      "execution_count": null,
      "outputs": []
    },
    {
      "cell_type": "code",
      "source": [
        "#Inserir DE-PARA receitas no banco de dados - Fazer upload do arquivo.\n",
        "receitas_tratadas = pd.read_csv('/content/receitas_tratadas.csv', sep=';', encoding='ISO-8859–1')"
      ],
      "metadata": {
        "id": "-SwL7l9w4CM8"
      },
      "execution_count": null,
      "outputs": []
    },
    {
      "cell_type": "code",
      "source": [
        "receitas_tratadas.head()"
      ],
      "metadata": {
        "colab": {
          "base_uri": "https://localhost:8080/",
          "height": 302
        },
        "id": "P1cN24zW4CQy",
        "outputId": "a8f37614-7622-4122-bcf0-77669b9a86ec"
      },
      "execution_count": null,
      "outputs": [
        {
          "output_type": "execute_result",
          "data": {
            "text/plain": [
              "   NUMERORECEITAORCAMENTARIAUG  \\\n",
              "0                    917220101   \n",
              "1                    917220102   \n",
              "2                    917220104   \n",
              "3                    917230000   \n",
              "4                    917213600   \n",
              "\n",
              "                                           DESCRICAO  \\\n",
              "0             Deducao de Cota-Parte do ICMS - FUNDEB   \n",
              "1             Deducao de Cota-Parte do IPVA - FUNDEB   \n",
              "2  Deducao de Cota-Parte do IPI sobre Exportacao ...   \n",
              "3           Deducao de Transferencias dos Municipios   \n",
              "4  Deducao de Transferencia Financeira do ICMS De...   \n",
              "\n",
              "              CLASSIFICACAO_SEREC     DETALHAMENTO  \n",
              "0                            ICMS   DEDUCAO FUNDEB  \n",
              "1                            IPVA   DEDUCAO FUNDEB  \n",
              "2                  IPI ExportaCAo   DEDUCAO FUNDEB  \n",
              "3           OUTRAS TRANSFERENCIAS  OUTRAS DEDUCOES  \n",
              "4  ICMS DesoneraCAo L.C. Nº 87.96   DEDUCAO FUNDEB  "
            ],
            "text/html": [
              "\n",
              "  <div id=\"df-15a79731-fe5f-415e-a4d2-ac5859f354b2\">\n",
              "    <div class=\"colab-df-container\">\n",
              "      <div>\n",
              "<style scoped>\n",
              "    .dataframe tbody tr th:only-of-type {\n",
              "        vertical-align: middle;\n",
              "    }\n",
              "\n",
              "    .dataframe tbody tr th {\n",
              "        vertical-align: top;\n",
              "    }\n",
              "\n",
              "    .dataframe thead th {\n",
              "        text-align: right;\n",
              "    }\n",
              "</style>\n",
              "<table border=\"1\" class=\"dataframe\">\n",
              "  <thead>\n",
              "    <tr style=\"text-align: right;\">\n",
              "      <th></th>\n",
              "      <th>NUMERORECEITAORCAMENTARIAUG</th>\n",
              "      <th>DESCRICAO</th>\n",
              "      <th>CLASSIFICACAO_SEREC</th>\n",
              "      <th>DETALHAMENTO</th>\n",
              "    </tr>\n",
              "  </thead>\n",
              "  <tbody>\n",
              "    <tr>\n",
              "      <th>0</th>\n",
              "      <td>917220101</td>\n",
              "      <td>Deducao de Cota-Parte do ICMS - FUNDEB</td>\n",
              "      <td>ICMS</td>\n",
              "      <td>DEDUCAO FUNDEB</td>\n",
              "    </tr>\n",
              "    <tr>\n",
              "      <th>1</th>\n",
              "      <td>917220102</td>\n",
              "      <td>Deducao de Cota-Parte do IPVA - FUNDEB</td>\n",
              "      <td>IPVA</td>\n",
              "      <td>DEDUCAO FUNDEB</td>\n",
              "    </tr>\n",
              "    <tr>\n",
              "      <th>2</th>\n",
              "      <td>917220104</td>\n",
              "      <td>Deducao de Cota-Parte do IPI sobre Exportacao ...</td>\n",
              "      <td>IPI ExportaCAo</td>\n",
              "      <td>DEDUCAO FUNDEB</td>\n",
              "    </tr>\n",
              "    <tr>\n",
              "      <th>3</th>\n",
              "      <td>917230000</td>\n",
              "      <td>Deducao de Transferencias dos Municipios</td>\n",
              "      <td>OUTRAS TRANSFERENCIAS</td>\n",
              "      <td>OUTRAS DEDUCOES</td>\n",
              "    </tr>\n",
              "    <tr>\n",
              "      <th>4</th>\n",
              "      <td>917213600</td>\n",
              "      <td>Deducao de Transferencia Financeira do ICMS De...</td>\n",
              "      <td>ICMS DesoneraCAo L.C. Nº 87.96</td>\n",
              "      <td>DEDUCAO FUNDEB</td>\n",
              "    </tr>\n",
              "  </tbody>\n",
              "</table>\n",
              "</div>\n",
              "      <button class=\"colab-df-convert\" onclick=\"convertToInteractive('df-15a79731-fe5f-415e-a4d2-ac5859f354b2')\"\n",
              "              title=\"Convert this dataframe to an interactive table.\"\n",
              "              style=\"display:none;\">\n",
              "        \n",
              "  <svg xmlns=\"http://www.w3.org/2000/svg\" height=\"24px\"viewBox=\"0 0 24 24\"\n",
              "       width=\"24px\">\n",
              "    <path d=\"M0 0h24v24H0V0z\" fill=\"none\"/>\n",
              "    <path d=\"M18.56 5.44l.94 2.06.94-2.06 2.06-.94-2.06-.94-.94-2.06-.94 2.06-2.06.94zm-11 1L8.5 8.5l.94-2.06 2.06-.94-2.06-.94L8.5 2.5l-.94 2.06-2.06.94zm10 10l.94 2.06.94-2.06 2.06-.94-2.06-.94-.94-2.06-.94 2.06-2.06.94z\"/><path d=\"M17.41 7.96l-1.37-1.37c-.4-.4-.92-.59-1.43-.59-.52 0-1.04.2-1.43.59L10.3 9.45l-7.72 7.72c-.78.78-.78 2.05 0 2.83L4 21.41c.39.39.9.59 1.41.59.51 0 1.02-.2 1.41-.59l7.78-7.78 2.81-2.81c.8-.78.8-2.07 0-2.86zM5.41 20L4 18.59l7.72-7.72 1.47 1.35L5.41 20z\"/>\n",
              "  </svg>\n",
              "      </button>\n",
              "      \n",
              "  <style>\n",
              "    .colab-df-container {\n",
              "      display:flex;\n",
              "      flex-wrap:wrap;\n",
              "      gap: 12px;\n",
              "    }\n",
              "\n",
              "    .colab-df-convert {\n",
              "      background-color: #E8F0FE;\n",
              "      border: none;\n",
              "      border-radius: 50%;\n",
              "      cursor: pointer;\n",
              "      display: none;\n",
              "      fill: #1967D2;\n",
              "      height: 32px;\n",
              "      padding: 0 0 0 0;\n",
              "      width: 32px;\n",
              "    }\n",
              "\n",
              "    .colab-df-convert:hover {\n",
              "      background-color: #E2EBFA;\n",
              "      box-shadow: 0px 1px 2px rgba(60, 64, 67, 0.3), 0px 1px 3px 1px rgba(60, 64, 67, 0.15);\n",
              "      fill: #174EA6;\n",
              "    }\n",
              "\n",
              "    [theme=dark] .colab-df-convert {\n",
              "      background-color: #3B4455;\n",
              "      fill: #D2E3FC;\n",
              "    }\n",
              "\n",
              "    [theme=dark] .colab-df-convert:hover {\n",
              "      background-color: #434B5C;\n",
              "      box-shadow: 0px 1px 3px 1px rgba(0, 0, 0, 0.15);\n",
              "      filter: drop-shadow(0px 1px 2px rgba(0, 0, 0, 0.3));\n",
              "      fill: #FFFFFF;\n",
              "    }\n",
              "  </style>\n",
              "\n",
              "      <script>\n",
              "        const buttonEl =\n",
              "          document.querySelector('#df-15a79731-fe5f-415e-a4d2-ac5859f354b2 button.colab-df-convert');\n",
              "        buttonEl.style.display =\n",
              "          google.colab.kernel.accessAllowed ? 'block' : 'none';\n",
              "\n",
              "        async function convertToInteractive(key) {\n",
              "          const element = document.querySelector('#df-15a79731-fe5f-415e-a4d2-ac5859f354b2');\n",
              "          const dataTable =\n",
              "            await google.colab.kernel.invokeFunction('convertToInteractive',\n",
              "                                                     [key], {});\n",
              "          if (!dataTable) return;\n",
              "\n",
              "          const docLinkHtml = 'Like what you see? Visit the ' +\n",
              "            '<a target=\"_blank\" href=https://colab.research.google.com/notebooks/data_table.ipynb>data table notebook</a>'\n",
              "            + ' to learn more about interactive tables.';\n",
              "          element.innerHTML = '';\n",
              "          dataTable['output_type'] = 'display_data';\n",
              "          await google.colab.output.renderOutput(dataTable, element);\n",
              "          const docLink = document.createElement('div');\n",
              "          docLink.innerHTML = docLinkHtml;\n",
              "          element.appendChild(docLink);\n",
              "        }\n",
              "      </script>\n",
              "    </div>\n",
              "  </div>\n",
              "  "
            ]
          },
          "metadata": {},
          "execution_count": 30
        }
      ]
    },
    {
      "cell_type": "code",
      "source": [
        "#Criar tabela auxiliar\n",
        "cur.execute('''CREATE TABLE receitasDePara\n",
        "               (numeroReceitaOrcamentariaUG_2 text,\n",
        "               classificacaoSerec text,\n",
        "               detalhamento text\n",
        "               )\n",
        "               ''')"
      ],
      "metadata": {
        "colab": {
          "base_uri": "https://localhost:8080/"
        },
        "id": "4o9f9x8I_ohC",
        "outputId": "a174f840-4ae7-4458-a4ca-f0a1b2db740f"
      },
      "execution_count": null,
      "outputs": [
        {
          "output_type": "execute_result",
          "data": {
            "text/plain": [
              "<sqlite3.Cursor at 0x7f52dc651960>"
            ]
          },
          "metadata": {},
          "execution_count": 31
        }
      ]
    },
    {
      "cell_type": "code",
      "source": [
        "#Inserir dados na tabela\n",
        "receitas_tratadas_normalizadas = receitas_tratadas[['NUMERORECEITAORCAMENTARIAUG',\t\n",
        "                                                    'CLASSIFICACAO_SEREC', \n",
        "                                                    'DETALHAMENTO']]\n",
        "receitas_tratadas_lista = receitas_tratadas_normalizadas.values.tolist()\n",
        "\n",
        "try:\n",
        "  cur.executemany(\"INSERT INTO receitasDePara (numeroReceitaOrcamentariaUG_2, classificacaoSerec, detalhamento) VALUES (?, ?, ?)\", receitas_tratadas_lista)\n",
        "  con.commit()\n",
        "  print(\"Dados inseridos com sucesso.\")\n",
        "except Exception as e:\n",
        "  print(str(e))\n",
        "  print(\"Falha na inserção de dados.\")\n",
        "finally:\n",
        "  pass"
      ],
      "metadata": {
        "colab": {
          "base_uri": "https://localhost:8080/"
        },
        "id": "l4zDrY76BQ-S",
        "outputId": "93b79320-093c-42d4-efcd-bc6e29ebfd19"
      },
      "execution_count": null,
      "outputs": [
        {
          "output_type": "stream",
          "name": "stdout",
          "text": [
            "Dados inseridos com sucesso.\n"
          ]
        }
      ]
    },
    {
      "cell_type": "code",
      "source": [
        "#Criar tabela principal\n",
        "cur.execute('''CREATE TABLE transferencias\n",
        "               (data text,\n",
        "               ano text,\n",
        "               origemReceita text, \n",
        "               deducaoReceita text,\n",
        "               numeroReceitaOrcamentariaUG text,\n",
        "               descricao text,\n",
        "               valor real,\n",
        "               FOREIGN KEY (numeroReceitaOrcamentariaUG) REFERENCES receitaDePara(numeroReceitaOrcamentariaUG_2))\n",
        "               ''')"
      ],
      "metadata": {
        "colab": {
          "base_uri": "https://localhost:8080/"
        },
        "id": "D_Fm4J8ys8-c",
        "outputId": "3c6e416c-553f-46e2-b3a1-7e89b860f432"
      },
      "execution_count": null,
      "outputs": [
        {
          "output_type": "execute_result",
          "data": {
            "text/plain": [
              "<sqlite3.Cursor at 0x7f52dc651960>"
            ]
          },
          "metadata": {},
          "execution_count": 33
        }
      ]
    },
    {
      "cell_type": "code",
      "source": [
        "#Inserir dados na tabela\n",
        "base_dados_lista = base_dados_gravar.values.tolist()\n",
        "\n",
        "try:\n",
        "  cur.executemany(\"INSERT INTO transferencias (data, ano, origemReceita, deducaoReceita, numeroReceitaOrcamentariaUG, descricao, valor) VALUES (?, ?, ?, ?, ?, ?, ?)\", base_dados_lista)\n",
        "  con.commit()\n",
        "  print(\"Dados inseridos com sucesso.\")\n",
        "except Exception as e:\n",
        "  print(str(e))\n",
        "  print(\"Falha na inserção de dados.\")\n",
        "finally:\n",
        "  con.close()"
      ],
      "metadata": {
        "colab": {
          "base_uri": "https://localhost:8080/"
        },
        "id": "wNX7gw4g0GzH",
        "outputId": "e363d48b-85dd-4635-a4c3-a6fdc3bf5fe8"
      },
      "execution_count": null,
      "outputs": [
        {
          "output_type": "stream",
          "name": "stdout",
          "text": [
            "Dados inseridos com sucesso.\n"
          ]
        }
      ]
    },
    {
      "cell_type": "markdown",
      "source": [
        "# ETAPA 02 - Organização dos dados para Previsão anual"
      ],
      "metadata": {
        "id": "g6VbiBGAEkEm"
      }
    },
    {
      "cell_type": "markdown",
      "source": [
        "## Salvar tabelas em variáveis"
      ],
      "metadata": {
        "id": "QCzom8xmEwWp"
      }
    },
    {
      "cell_type": "code",
      "source": [
        "# Criar nova conexão e consultar tabelas gravadas no Banco de dados \n",
        "con = sqlite3.connect('baseTransferencias.db')\n",
        "cur = con.cursor()"
      ],
      "metadata": {
        "id": "s9vjmi-o0Day"
      },
      "execution_count": null,
      "outputs": []
    },
    {
      "cell_type": "code",
      "source": [
        "# Tabela Principal\n",
        "cur.execute(\"SELECT * FROM transferencias\")\n",
        "tabela_principal = cur.fetchall()\n",
        "tabela_principal = pd.DataFrame(base_dados)\n",
        "tabela_principal.columns = base_dados_gravar.columns"
      ],
      "metadata": {
        "id": "dUIMBjntHQx-"
      },
      "execution_count": null,
      "outputs": []
    },
    {
      "cell_type": "code",
      "source": [
        "# Tabela Auxiliar\n",
        "cur.execute(\"SELECT * FROM receitasDePara\")\n",
        "tabela_auxiliar = cur.fetchall()\n",
        "tabela_auxiliar = pd.DataFrame(tabela_auxiliar)\n",
        "tabela_auxiliar.columns = receitas_tratadas_normalizadas.columns"
      ],
      "metadata": {
        "id": "S0kyiC2bHl31"
      },
      "execution_count": null,
      "outputs": []
    },
    {
      "cell_type": "code",
      "source": [
        "tabela_principal"
      ],
      "metadata": {
        "colab": {
          "base_uri": "https://localhost:8080/",
          "height": 991
        },
        "id": "PpCz-y03IE_n",
        "outputId": "e68c441e-5a57-47b1-861e-59b79d373380"
      },
      "execution_count": null,
      "outputs": [
        {
          "output_type": "execute_result",
          "data": {
            "text/plain": [
              "      COMPETENCIA ANOREFERENCIA              ORIGEMRECEITA DEDUCAORECEITA  \\\n",
              "0      2012-02-01          2012          Alienação de Bens              9   \n",
              "1      2012-04-01          2012          Alienação de Bens              9   \n",
              "2      2012-05-01          2012          Alienação de Bens              9   \n",
              "3      2012-08-01          2012          Alienação de Bens              9   \n",
              "4      2012-09-01          2012          Alienação de Bens              9   \n",
              "...           ...           ...                        ...            ...   \n",
              "13936  2022-03-01          2022   Transferências Correntes              0   \n",
              "13937  2022-04-01          2022   Transferências Correntes              0   \n",
              "13938  2022-04-01          2022   Transferências Correntes              0   \n",
              "13939  2022-04-01          2022       Operações de Crédito              0   \n",
              "13940  2022-01-01          2022  Transferências de Capital              0   \n",
              "\n",
              "      NUMERORECEITAORCAMENTARIAUG  \\\n",
              "0                       917220101   \n",
              "1                       917220101   \n",
              "2                       917220101   \n",
              "3                       917220102   \n",
              "4                       917220104   \n",
              "...                           ...   \n",
              "13936                    17215001   \n",
              "13937                    17299901   \n",
              "13938                    17215101   \n",
              "13939                    21199901   \n",
              "13940                    24149901   \n",
              "\n",
              "                                               DESCRICAO  VALORLANCAMENTO  \n",
              "0                 Dedução de Cota-Parte do ICMS - FUNDEB      -3655348.80  \n",
              "1                 Dedução de Cota-Parte do ICMS - FUNDEB      -2974700.38  \n",
              "2                 Dedução de Cota-Parte do ICMS - FUNDEB      -4365097.58  \n",
              "3                 Dedução de Cota-Parte do IPVA - FUNDEB         -3891.64  \n",
              "4      Dedução de Cota-Parte do IPI sobre Exportação ...         -7644.57  \n",
              "...                                                  ...              ...  \n",
              "13936                     Cota-Parte do ICMS - Principal      33651308.01  \n",
              "13937      Outras Transferências dos Estados - Principal         10242.82  \n",
              "13938                     Cota-Parte do IPVA - Principal       9189377.74  \n",
              "13939  Outras Operações de Crédito - Mercado Interno ...       5892664.46  \n",
              "13940  Outras Transferências de Convênios da União e ...         32496.50  \n",
              "\n",
              "[13941 rows x 7 columns]"
            ],
            "text/html": [
              "\n",
              "  <div id=\"df-a8daae5e-ed34-496d-8ea8-b203cf23eea1\">\n",
              "    <div class=\"colab-df-container\">\n",
              "      <div>\n",
              "<style scoped>\n",
              "    .dataframe tbody tr th:only-of-type {\n",
              "        vertical-align: middle;\n",
              "    }\n",
              "\n",
              "    .dataframe tbody tr th {\n",
              "        vertical-align: top;\n",
              "    }\n",
              "\n",
              "    .dataframe thead th {\n",
              "        text-align: right;\n",
              "    }\n",
              "</style>\n",
              "<table border=\"1\" class=\"dataframe\">\n",
              "  <thead>\n",
              "    <tr style=\"text-align: right;\">\n",
              "      <th></th>\n",
              "      <th>COMPETENCIA</th>\n",
              "      <th>ANOREFERENCIA</th>\n",
              "      <th>ORIGEMRECEITA</th>\n",
              "      <th>DEDUCAORECEITA</th>\n",
              "      <th>NUMERORECEITAORCAMENTARIAUG</th>\n",
              "      <th>DESCRICAO</th>\n",
              "      <th>VALORLANCAMENTO</th>\n",
              "    </tr>\n",
              "  </thead>\n",
              "  <tbody>\n",
              "    <tr>\n",
              "      <th>0</th>\n",
              "      <td>2012-02-01</td>\n",
              "      <td>2012</td>\n",
              "      <td>Alienação de Bens</td>\n",
              "      <td>9</td>\n",
              "      <td>917220101</td>\n",
              "      <td>Dedução de Cota-Parte do ICMS - FUNDEB</td>\n",
              "      <td>-3655348.80</td>\n",
              "    </tr>\n",
              "    <tr>\n",
              "      <th>1</th>\n",
              "      <td>2012-04-01</td>\n",
              "      <td>2012</td>\n",
              "      <td>Alienação de Bens</td>\n",
              "      <td>9</td>\n",
              "      <td>917220101</td>\n",
              "      <td>Dedução de Cota-Parte do ICMS - FUNDEB</td>\n",
              "      <td>-2974700.38</td>\n",
              "    </tr>\n",
              "    <tr>\n",
              "      <th>2</th>\n",
              "      <td>2012-05-01</td>\n",
              "      <td>2012</td>\n",
              "      <td>Alienação de Bens</td>\n",
              "      <td>9</td>\n",
              "      <td>917220101</td>\n",
              "      <td>Dedução de Cota-Parte do ICMS - FUNDEB</td>\n",
              "      <td>-4365097.58</td>\n",
              "    </tr>\n",
              "    <tr>\n",
              "      <th>3</th>\n",
              "      <td>2012-08-01</td>\n",
              "      <td>2012</td>\n",
              "      <td>Alienação de Bens</td>\n",
              "      <td>9</td>\n",
              "      <td>917220102</td>\n",
              "      <td>Dedução de Cota-Parte do IPVA - FUNDEB</td>\n",
              "      <td>-3891.64</td>\n",
              "    </tr>\n",
              "    <tr>\n",
              "      <th>4</th>\n",
              "      <td>2012-09-01</td>\n",
              "      <td>2012</td>\n",
              "      <td>Alienação de Bens</td>\n",
              "      <td>9</td>\n",
              "      <td>917220104</td>\n",
              "      <td>Dedução de Cota-Parte do IPI sobre Exportação ...</td>\n",
              "      <td>-7644.57</td>\n",
              "    </tr>\n",
              "    <tr>\n",
              "      <th>...</th>\n",
              "      <td>...</td>\n",
              "      <td>...</td>\n",
              "      <td>...</td>\n",
              "      <td>...</td>\n",
              "      <td>...</td>\n",
              "      <td>...</td>\n",
              "      <td>...</td>\n",
              "    </tr>\n",
              "    <tr>\n",
              "      <th>13936</th>\n",
              "      <td>2022-03-01</td>\n",
              "      <td>2022</td>\n",
              "      <td>Transferências Correntes</td>\n",
              "      <td>0</td>\n",
              "      <td>17215001</td>\n",
              "      <td>Cota-Parte do ICMS - Principal</td>\n",
              "      <td>33651308.01</td>\n",
              "    </tr>\n",
              "    <tr>\n",
              "      <th>13937</th>\n",
              "      <td>2022-04-01</td>\n",
              "      <td>2022</td>\n",
              "      <td>Transferências Correntes</td>\n",
              "      <td>0</td>\n",
              "      <td>17299901</td>\n",
              "      <td>Outras Transferências dos Estados - Principal</td>\n",
              "      <td>10242.82</td>\n",
              "    </tr>\n",
              "    <tr>\n",
              "      <th>13938</th>\n",
              "      <td>2022-04-01</td>\n",
              "      <td>2022</td>\n",
              "      <td>Transferências Correntes</td>\n",
              "      <td>0</td>\n",
              "      <td>17215101</td>\n",
              "      <td>Cota-Parte do IPVA - Principal</td>\n",
              "      <td>9189377.74</td>\n",
              "    </tr>\n",
              "    <tr>\n",
              "      <th>13939</th>\n",
              "      <td>2022-04-01</td>\n",
              "      <td>2022</td>\n",
              "      <td>Operações de Crédito</td>\n",
              "      <td>0</td>\n",
              "      <td>21199901</td>\n",
              "      <td>Outras Operações de Crédito - Mercado Interno ...</td>\n",
              "      <td>5892664.46</td>\n",
              "    </tr>\n",
              "    <tr>\n",
              "      <th>13940</th>\n",
              "      <td>2022-01-01</td>\n",
              "      <td>2022</td>\n",
              "      <td>Transferências de Capital</td>\n",
              "      <td>0</td>\n",
              "      <td>24149901</td>\n",
              "      <td>Outras Transferências de Convênios da União e ...</td>\n",
              "      <td>32496.50</td>\n",
              "    </tr>\n",
              "  </tbody>\n",
              "</table>\n",
              "<p>13941 rows × 7 columns</p>\n",
              "</div>\n",
              "      <button class=\"colab-df-convert\" onclick=\"convertToInteractive('df-a8daae5e-ed34-496d-8ea8-b203cf23eea1')\"\n",
              "              title=\"Convert this dataframe to an interactive table.\"\n",
              "              style=\"display:none;\">\n",
              "        \n",
              "  <svg xmlns=\"http://www.w3.org/2000/svg\" height=\"24px\"viewBox=\"0 0 24 24\"\n",
              "       width=\"24px\">\n",
              "    <path d=\"M0 0h24v24H0V0z\" fill=\"none\"/>\n",
              "    <path d=\"M18.56 5.44l.94 2.06.94-2.06 2.06-.94-2.06-.94-.94-2.06-.94 2.06-2.06.94zm-11 1L8.5 8.5l.94-2.06 2.06-.94-2.06-.94L8.5 2.5l-.94 2.06-2.06.94zm10 10l.94 2.06.94-2.06 2.06-.94-2.06-.94-.94-2.06-.94 2.06-2.06.94z\"/><path d=\"M17.41 7.96l-1.37-1.37c-.4-.4-.92-.59-1.43-.59-.52 0-1.04.2-1.43.59L10.3 9.45l-7.72 7.72c-.78.78-.78 2.05 0 2.83L4 21.41c.39.39.9.59 1.41.59.51 0 1.02-.2 1.41-.59l7.78-7.78 2.81-2.81c.8-.78.8-2.07 0-2.86zM5.41 20L4 18.59l7.72-7.72 1.47 1.35L5.41 20z\"/>\n",
              "  </svg>\n",
              "      </button>\n",
              "      \n",
              "  <style>\n",
              "    .colab-df-container {\n",
              "      display:flex;\n",
              "      flex-wrap:wrap;\n",
              "      gap: 12px;\n",
              "    }\n",
              "\n",
              "    .colab-df-convert {\n",
              "      background-color: #E8F0FE;\n",
              "      border: none;\n",
              "      border-radius: 50%;\n",
              "      cursor: pointer;\n",
              "      display: none;\n",
              "      fill: #1967D2;\n",
              "      height: 32px;\n",
              "      padding: 0 0 0 0;\n",
              "      width: 32px;\n",
              "    }\n",
              "\n",
              "    .colab-df-convert:hover {\n",
              "      background-color: #E2EBFA;\n",
              "      box-shadow: 0px 1px 2px rgba(60, 64, 67, 0.3), 0px 1px 3px 1px rgba(60, 64, 67, 0.15);\n",
              "      fill: #174EA6;\n",
              "    }\n",
              "\n",
              "    [theme=dark] .colab-df-convert {\n",
              "      background-color: #3B4455;\n",
              "      fill: #D2E3FC;\n",
              "    }\n",
              "\n",
              "    [theme=dark] .colab-df-convert:hover {\n",
              "      background-color: #434B5C;\n",
              "      box-shadow: 0px 1px 3px 1px rgba(0, 0, 0, 0.15);\n",
              "      filter: drop-shadow(0px 1px 2px rgba(0, 0, 0, 0.3));\n",
              "      fill: #FFFFFF;\n",
              "    }\n",
              "  </style>\n",
              "\n",
              "      <script>\n",
              "        const buttonEl =\n",
              "          document.querySelector('#df-a8daae5e-ed34-496d-8ea8-b203cf23eea1 button.colab-df-convert');\n",
              "        buttonEl.style.display =\n",
              "          google.colab.kernel.accessAllowed ? 'block' : 'none';\n",
              "\n",
              "        async function convertToInteractive(key) {\n",
              "          const element = document.querySelector('#df-a8daae5e-ed34-496d-8ea8-b203cf23eea1');\n",
              "          const dataTable =\n",
              "            await google.colab.kernel.invokeFunction('convertToInteractive',\n",
              "                                                     [key], {});\n",
              "          if (!dataTable) return;\n",
              "\n",
              "          const docLinkHtml = 'Like what you see? Visit the ' +\n",
              "            '<a target=\"_blank\" href=https://colab.research.google.com/notebooks/data_table.ipynb>data table notebook</a>'\n",
              "            + ' to learn more about interactive tables.';\n",
              "          element.innerHTML = '';\n",
              "          dataTable['output_type'] = 'display_data';\n",
              "          await google.colab.output.renderOutput(dataTable, element);\n",
              "          const docLink = document.createElement('div');\n",
              "          docLink.innerHTML = docLinkHtml;\n",
              "          element.appendChild(docLink);\n",
              "        }\n",
              "      </script>\n",
              "    </div>\n",
              "  </div>\n",
              "  "
            ]
          },
          "metadata": {},
          "execution_count": 44
        }
      ]
    },
    {
      "cell_type": "code",
      "source": [
        "tabela_auxiliar"
      ],
      "metadata": {
        "colab": {
          "base_uri": "https://localhost:8080/",
          "height": 424
        },
        "id": "AxJ4lVHAIE2f",
        "outputId": "b3d116bc-4cb5-464c-8d91-165aff760c63"
      },
      "execution_count": null,
      "outputs": [
        {
          "output_type": "execute_result",
          "data": {
            "text/plain": [
              "    NUMERORECEITAORCAMENTARIAUG             CLASSIFICACAO_SEREC  \\\n",
              "0                     917220101                            ICMS   \n",
              "1                     917220102                            IPVA   \n",
              "2                     917220104                  IPI ExportaCAo   \n",
              "3                     917230000           OUTRAS TRANSFERENCIAS   \n",
              "4                     917213600  ICMS DesoneraCAo L.C. Nº 87.96   \n",
              "..                          ...                             ...   \n",
              "287                    17149901                            None   \n",
              "288                    17165011                            None   \n",
              "289                    13110203                            None   \n",
              "290                    17179901                            None   \n",
              "291                    21199901                            None   \n",
              "\n",
              "        DETALHAMENTO  \n",
              "0     DEDUCAO FUNDEB  \n",
              "1     DEDUCAO FUNDEB  \n",
              "2     DEDUCAO FUNDEB  \n",
              "3    OUTRAS DEDUCOES  \n",
              "4     DEDUCAO FUNDEB  \n",
              "..               ...  \n",
              "287             None  \n",
              "288             None  \n",
              "289             None  \n",
              "290             None  \n",
              "291             None  \n",
              "\n",
              "[292 rows x 3 columns]"
            ],
            "text/html": [
              "\n",
              "  <div id=\"df-243f1049-3e2e-4070-b3d4-805019fd73bf\">\n",
              "    <div class=\"colab-df-container\">\n",
              "      <div>\n",
              "<style scoped>\n",
              "    .dataframe tbody tr th:only-of-type {\n",
              "        vertical-align: middle;\n",
              "    }\n",
              "\n",
              "    .dataframe tbody tr th {\n",
              "        vertical-align: top;\n",
              "    }\n",
              "\n",
              "    .dataframe thead th {\n",
              "        text-align: right;\n",
              "    }\n",
              "</style>\n",
              "<table border=\"1\" class=\"dataframe\">\n",
              "  <thead>\n",
              "    <tr style=\"text-align: right;\">\n",
              "      <th></th>\n",
              "      <th>NUMERORECEITAORCAMENTARIAUG</th>\n",
              "      <th>CLASSIFICACAO_SEREC</th>\n",
              "      <th>DETALHAMENTO</th>\n",
              "    </tr>\n",
              "  </thead>\n",
              "  <tbody>\n",
              "    <tr>\n",
              "      <th>0</th>\n",
              "      <td>917220101</td>\n",
              "      <td>ICMS</td>\n",
              "      <td>DEDUCAO FUNDEB</td>\n",
              "    </tr>\n",
              "    <tr>\n",
              "      <th>1</th>\n",
              "      <td>917220102</td>\n",
              "      <td>IPVA</td>\n",
              "      <td>DEDUCAO FUNDEB</td>\n",
              "    </tr>\n",
              "    <tr>\n",
              "      <th>2</th>\n",
              "      <td>917220104</td>\n",
              "      <td>IPI ExportaCAo</td>\n",
              "      <td>DEDUCAO FUNDEB</td>\n",
              "    </tr>\n",
              "    <tr>\n",
              "      <th>3</th>\n",
              "      <td>917230000</td>\n",
              "      <td>OUTRAS TRANSFERENCIAS</td>\n",
              "      <td>OUTRAS DEDUCOES</td>\n",
              "    </tr>\n",
              "    <tr>\n",
              "      <th>4</th>\n",
              "      <td>917213600</td>\n",
              "      <td>ICMS DesoneraCAo L.C. Nº 87.96</td>\n",
              "      <td>DEDUCAO FUNDEB</td>\n",
              "    </tr>\n",
              "    <tr>\n",
              "      <th>...</th>\n",
              "      <td>...</td>\n",
              "      <td>...</td>\n",
              "      <td>...</td>\n",
              "    </tr>\n",
              "    <tr>\n",
              "      <th>287</th>\n",
              "      <td>17149901</td>\n",
              "      <td>None</td>\n",
              "      <td>None</td>\n",
              "    </tr>\n",
              "    <tr>\n",
              "      <th>288</th>\n",
              "      <td>17165011</td>\n",
              "      <td>None</td>\n",
              "      <td>None</td>\n",
              "    </tr>\n",
              "    <tr>\n",
              "      <th>289</th>\n",
              "      <td>13110203</td>\n",
              "      <td>None</td>\n",
              "      <td>None</td>\n",
              "    </tr>\n",
              "    <tr>\n",
              "      <th>290</th>\n",
              "      <td>17179901</td>\n",
              "      <td>None</td>\n",
              "      <td>None</td>\n",
              "    </tr>\n",
              "    <tr>\n",
              "      <th>291</th>\n",
              "      <td>21199901</td>\n",
              "      <td>None</td>\n",
              "      <td>None</td>\n",
              "    </tr>\n",
              "  </tbody>\n",
              "</table>\n",
              "<p>292 rows × 3 columns</p>\n",
              "</div>\n",
              "      <button class=\"colab-df-convert\" onclick=\"convertToInteractive('df-243f1049-3e2e-4070-b3d4-805019fd73bf')\"\n",
              "              title=\"Convert this dataframe to an interactive table.\"\n",
              "              style=\"display:none;\">\n",
              "        \n",
              "  <svg xmlns=\"http://www.w3.org/2000/svg\" height=\"24px\"viewBox=\"0 0 24 24\"\n",
              "       width=\"24px\">\n",
              "    <path d=\"M0 0h24v24H0V0z\" fill=\"none\"/>\n",
              "    <path d=\"M18.56 5.44l.94 2.06.94-2.06 2.06-.94-2.06-.94-.94-2.06-.94 2.06-2.06.94zm-11 1L8.5 8.5l.94-2.06 2.06-.94-2.06-.94L8.5 2.5l-.94 2.06-2.06.94zm10 10l.94 2.06.94-2.06 2.06-.94-2.06-.94-.94-2.06-.94 2.06-2.06.94z\"/><path d=\"M17.41 7.96l-1.37-1.37c-.4-.4-.92-.59-1.43-.59-.52 0-1.04.2-1.43.59L10.3 9.45l-7.72 7.72c-.78.78-.78 2.05 0 2.83L4 21.41c.39.39.9.59 1.41.59.51 0 1.02-.2 1.41-.59l7.78-7.78 2.81-2.81c.8-.78.8-2.07 0-2.86zM5.41 20L4 18.59l7.72-7.72 1.47 1.35L5.41 20z\"/>\n",
              "  </svg>\n",
              "      </button>\n",
              "      \n",
              "  <style>\n",
              "    .colab-df-container {\n",
              "      display:flex;\n",
              "      flex-wrap:wrap;\n",
              "      gap: 12px;\n",
              "    }\n",
              "\n",
              "    .colab-df-convert {\n",
              "      background-color: #E8F0FE;\n",
              "      border: none;\n",
              "      border-radius: 50%;\n",
              "      cursor: pointer;\n",
              "      display: none;\n",
              "      fill: #1967D2;\n",
              "      height: 32px;\n",
              "      padding: 0 0 0 0;\n",
              "      width: 32px;\n",
              "    }\n",
              "\n",
              "    .colab-df-convert:hover {\n",
              "      background-color: #E2EBFA;\n",
              "      box-shadow: 0px 1px 2px rgba(60, 64, 67, 0.3), 0px 1px 3px 1px rgba(60, 64, 67, 0.15);\n",
              "      fill: #174EA6;\n",
              "    }\n",
              "\n",
              "    [theme=dark] .colab-df-convert {\n",
              "      background-color: #3B4455;\n",
              "      fill: #D2E3FC;\n",
              "    }\n",
              "\n",
              "    [theme=dark] .colab-df-convert:hover {\n",
              "      background-color: #434B5C;\n",
              "      box-shadow: 0px 1px 3px 1px rgba(0, 0, 0, 0.15);\n",
              "      filter: drop-shadow(0px 1px 2px rgba(0, 0, 0, 0.3));\n",
              "      fill: #FFFFFF;\n",
              "    }\n",
              "  </style>\n",
              "\n",
              "      <script>\n",
              "        const buttonEl =\n",
              "          document.querySelector('#df-243f1049-3e2e-4070-b3d4-805019fd73bf button.colab-df-convert');\n",
              "        buttonEl.style.display =\n",
              "          google.colab.kernel.accessAllowed ? 'block' : 'none';\n",
              "\n",
              "        async function convertToInteractive(key) {\n",
              "          const element = document.querySelector('#df-243f1049-3e2e-4070-b3d4-805019fd73bf');\n",
              "          const dataTable =\n",
              "            await google.colab.kernel.invokeFunction('convertToInteractive',\n",
              "                                                     [key], {});\n",
              "          if (!dataTable) return;\n",
              "\n",
              "          const docLinkHtml = 'Like what you see? Visit the ' +\n",
              "            '<a target=\"_blank\" href=https://colab.research.google.com/notebooks/data_table.ipynb>data table notebook</a>'\n",
              "            + ' to learn more about interactive tables.';\n",
              "          element.innerHTML = '';\n",
              "          dataTable['output_type'] = 'display_data';\n",
              "          await google.colab.output.renderOutput(dataTable, element);\n",
              "          const docLink = document.createElement('div');\n",
              "          docLink.innerHTML = docLinkHtml;\n",
              "          element.appendChild(docLink);\n",
              "        }\n",
              "      </script>\n",
              "    </div>\n",
              "  </div>\n",
              "  "
            ]
          },
          "metadata": {},
          "execution_count": 47
        }
      ]
    },
    {
      "cell_type": "code",
      "source": [
        "con.close()"
      ],
      "metadata": {
        "id": "rDkOhd48MoaR"
      },
      "execution_count": null,
      "outputs": []
    },
    {
      "cell_type": "markdown",
      "source": [
        "## Juntar tabelas e filtrar apenas Receita com Fundo de Participação dos Municípios"
      ],
      "metadata": {
        "id": "PBTZdtYTE8Sd"
      }
    },
    {
      "cell_type": "code",
      "source": [
        "tabela_completa = None\n",
        "tabela_completa = base_dados.merge(tabela_auxiliar, how='left', on='NUMERORECEITAORCAMENTARIAUG')"
      ],
      "metadata": {
        "id": "ocLzYKUVJsCZ"
      },
      "execution_count": null,
      "outputs": []
    },
    {
      "cell_type": "code",
      "source": [
        "tabela_completa.shape"
      ],
      "metadata": {
        "colab": {
          "base_uri": "https://localhost:8080/"
        },
        "id": "AmykBtZJLhLW",
        "outputId": "502dfdcb-e690-497a-f705-6ad9eba90f20"
      },
      "execution_count": null,
      "outputs": [
        {
          "output_type": "execute_result",
          "data": {
            "text/plain": [
              "(15210, 9)"
            ]
          },
          "metadata": {},
          "execution_count": 67
        }
      ]
    },
    {
      "cell_type": "code",
      "source": [
        "tabela_completa.head()"
      ],
      "metadata": {
        "colab": {
          "base_uri": "https://localhost:8080/",
          "height": 635
        },
        "id": "efrTBP92LQr_",
        "outputId": "e8767cfb-66bc-4368-fd91-d51184e7799d"
      },
      "execution_count": null,
      "outputs": [
        {
          "output_type": "execute_result",
          "data": {
            "text/plain": [
              "  COMPETENCIA ANOREFERENCIA      ORIGEMRECEITA DEDUCAORECEITA  \\\n",
              "0  2012-02-01          2012  Alienação de Bens              9   \n",
              "1  2012-04-01          2012  Alienação de Bens              9   \n",
              "2  2012-05-01          2012  Alienação de Bens              9   \n",
              "3  2012-08-01          2012  Alienação de Bens              9   \n",
              "4  2012-09-01          2012  Alienação de Bens              9   \n",
              "\n",
              "  NUMERORECEITAORCAMENTARIAUG  \\\n",
              "0                   917220101   \n",
              "1                   917220101   \n",
              "2                   917220101   \n",
              "3                   917220102   \n",
              "4                   917220104   \n",
              "\n",
              "                                           DESCRICAO  VALORLANCAMENTO  \\\n",
              "0             Dedução de Cota-Parte do ICMS - FUNDEB      -3655348.80   \n",
              "1             Dedução de Cota-Parte do ICMS - FUNDEB      -2974700.38   \n",
              "2             Dedução de Cota-Parte do ICMS - FUNDEB      -4365097.58   \n",
              "3             Dedução de Cota-Parte do IPVA - FUNDEB         -3891.64   \n",
              "4  Dedução de Cota-Parte do IPI sobre Exportação ...         -7644.57   \n",
              "\n",
              "  CLASSIFICACAO_SEREC    DETALHAMENTO  \n",
              "0                ICMS  DEDUCAO FUNDEB  \n",
              "1                ICMS  DEDUCAO FUNDEB  \n",
              "2                ICMS  DEDUCAO FUNDEB  \n",
              "3                IPVA  DEDUCAO FUNDEB  \n",
              "4      IPI ExportaCAo  DEDUCAO FUNDEB  "
            ],
            "text/html": [
              "\n",
              "  <div id=\"df-8bd80e7a-8d39-45a0-b455-6cae5fe1cf97\">\n",
              "    <div class=\"colab-df-container\">\n",
              "      <div>\n",
              "<style scoped>\n",
              "    .dataframe tbody tr th:only-of-type {\n",
              "        vertical-align: middle;\n",
              "    }\n",
              "\n",
              "    .dataframe tbody tr th {\n",
              "        vertical-align: top;\n",
              "    }\n",
              "\n",
              "    .dataframe thead th {\n",
              "        text-align: right;\n",
              "    }\n",
              "</style>\n",
              "<table border=\"1\" class=\"dataframe\">\n",
              "  <thead>\n",
              "    <tr style=\"text-align: right;\">\n",
              "      <th></th>\n",
              "      <th>COMPETENCIA</th>\n",
              "      <th>ANOREFERENCIA</th>\n",
              "      <th>ORIGEMRECEITA</th>\n",
              "      <th>DEDUCAORECEITA</th>\n",
              "      <th>NUMERORECEITAORCAMENTARIAUG</th>\n",
              "      <th>DESCRICAO</th>\n",
              "      <th>VALORLANCAMENTO</th>\n",
              "      <th>CLASSIFICACAO_SEREC</th>\n",
              "      <th>DETALHAMENTO</th>\n",
              "    </tr>\n",
              "  </thead>\n",
              "  <tbody>\n",
              "    <tr>\n",
              "      <th>0</th>\n",
              "      <td>2012-02-01</td>\n",
              "      <td>2012</td>\n",
              "      <td>Alienação de Bens</td>\n",
              "      <td>9</td>\n",
              "      <td>917220101</td>\n",
              "      <td>Dedução de Cota-Parte do ICMS - FUNDEB</td>\n",
              "      <td>-3655348.80</td>\n",
              "      <td>ICMS</td>\n",
              "      <td>DEDUCAO FUNDEB</td>\n",
              "    </tr>\n",
              "    <tr>\n",
              "      <th>1</th>\n",
              "      <td>2012-04-01</td>\n",
              "      <td>2012</td>\n",
              "      <td>Alienação de Bens</td>\n",
              "      <td>9</td>\n",
              "      <td>917220101</td>\n",
              "      <td>Dedução de Cota-Parte do ICMS - FUNDEB</td>\n",
              "      <td>-2974700.38</td>\n",
              "      <td>ICMS</td>\n",
              "      <td>DEDUCAO FUNDEB</td>\n",
              "    </tr>\n",
              "    <tr>\n",
              "      <th>2</th>\n",
              "      <td>2012-05-01</td>\n",
              "      <td>2012</td>\n",
              "      <td>Alienação de Bens</td>\n",
              "      <td>9</td>\n",
              "      <td>917220101</td>\n",
              "      <td>Dedução de Cota-Parte do ICMS - FUNDEB</td>\n",
              "      <td>-4365097.58</td>\n",
              "      <td>ICMS</td>\n",
              "      <td>DEDUCAO FUNDEB</td>\n",
              "    </tr>\n",
              "    <tr>\n",
              "      <th>3</th>\n",
              "      <td>2012-08-01</td>\n",
              "      <td>2012</td>\n",
              "      <td>Alienação de Bens</td>\n",
              "      <td>9</td>\n",
              "      <td>917220102</td>\n",
              "      <td>Dedução de Cota-Parte do IPVA - FUNDEB</td>\n",
              "      <td>-3891.64</td>\n",
              "      <td>IPVA</td>\n",
              "      <td>DEDUCAO FUNDEB</td>\n",
              "    </tr>\n",
              "    <tr>\n",
              "      <th>4</th>\n",
              "      <td>2012-09-01</td>\n",
              "      <td>2012</td>\n",
              "      <td>Alienação de Bens</td>\n",
              "      <td>9</td>\n",
              "      <td>917220104</td>\n",
              "      <td>Dedução de Cota-Parte do IPI sobre Exportação ...</td>\n",
              "      <td>-7644.57</td>\n",
              "      <td>IPI ExportaCAo</td>\n",
              "      <td>DEDUCAO FUNDEB</td>\n",
              "    </tr>\n",
              "  </tbody>\n",
              "</table>\n",
              "</div>\n",
              "      <button class=\"colab-df-convert\" onclick=\"convertToInteractive('df-8bd80e7a-8d39-45a0-b455-6cae5fe1cf97')\"\n",
              "              title=\"Convert this dataframe to an interactive table.\"\n",
              "              style=\"display:none;\">\n",
              "        \n",
              "  <svg xmlns=\"http://www.w3.org/2000/svg\" height=\"24px\"viewBox=\"0 0 24 24\"\n",
              "       width=\"24px\">\n",
              "    <path d=\"M0 0h24v24H0V0z\" fill=\"none\"/>\n",
              "    <path d=\"M18.56 5.44l.94 2.06.94-2.06 2.06-.94-2.06-.94-.94-2.06-.94 2.06-2.06.94zm-11 1L8.5 8.5l.94-2.06 2.06-.94-2.06-.94L8.5 2.5l-.94 2.06-2.06.94zm10 10l.94 2.06.94-2.06 2.06-.94-2.06-.94-.94-2.06-.94 2.06-2.06.94z\"/><path d=\"M17.41 7.96l-1.37-1.37c-.4-.4-.92-.59-1.43-.59-.52 0-1.04.2-1.43.59L10.3 9.45l-7.72 7.72c-.78.78-.78 2.05 0 2.83L4 21.41c.39.39.9.59 1.41.59.51 0 1.02-.2 1.41-.59l7.78-7.78 2.81-2.81c.8-.78.8-2.07 0-2.86zM5.41 20L4 18.59l7.72-7.72 1.47 1.35L5.41 20z\"/>\n",
              "  </svg>\n",
              "      </button>\n",
              "      \n",
              "  <style>\n",
              "    .colab-df-container {\n",
              "      display:flex;\n",
              "      flex-wrap:wrap;\n",
              "      gap: 12px;\n",
              "    }\n",
              "\n",
              "    .colab-df-convert {\n",
              "      background-color: #E8F0FE;\n",
              "      border: none;\n",
              "      border-radius: 50%;\n",
              "      cursor: pointer;\n",
              "      display: none;\n",
              "      fill: #1967D2;\n",
              "      height: 32px;\n",
              "      padding: 0 0 0 0;\n",
              "      width: 32px;\n",
              "    }\n",
              "\n",
              "    .colab-df-convert:hover {\n",
              "      background-color: #E2EBFA;\n",
              "      box-shadow: 0px 1px 2px rgba(60, 64, 67, 0.3), 0px 1px 3px 1px rgba(60, 64, 67, 0.15);\n",
              "      fill: #174EA6;\n",
              "    }\n",
              "\n",
              "    [theme=dark] .colab-df-convert {\n",
              "      background-color: #3B4455;\n",
              "      fill: #D2E3FC;\n",
              "    }\n",
              "\n",
              "    [theme=dark] .colab-df-convert:hover {\n",
              "      background-color: #434B5C;\n",
              "      box-shadow: 0px 1px 3px 1px rgba(0, 0, 0, 0.15);\n",
              "      filter: drop-shadow(0px 1px 2px rgba(0, 0, 0, 0.3));\n",
              "      fill: #FFFFFF;\n",
              "    }\n",
              "  </style>\n",
              "\n",
              "      <script>\n",
              "        const buttonEl =\n",
              "          document.querySelector('#df-8bd80e7a-8d39-45a0-b455-6cae5fe1cf97 button.colab-df-convert');\n",
              "        buttonEl.style.display =\n",
              "          google.colab.kernel.accessAllowed ? 'block' : 'none';\n",
              "\n",
              "        async function convertToInteractive(key) {\n",
              "          const element = document.querySelector('#df-8bd80e7a-8d39-45a0-b455-6cae5fe1cf97');\n",
              "          const dataTable =\n",
              "            await google.colab.kernel.invokeFunction('convertToInteractive',\n",
              "                                                     [key], {});\n",
              "          if (!dataTable) return;\n",
              "\n",
              "          const docLinkHtml = 'Like what you see? Visit the ' +\n",
              "            '<a target=\"_blank\" href=https://colab.research.google.com/notebooks/data_table.ipynb>data table notebook</a>'\n",
              "            + ' to learn more about interactive tables.';\n",
              "          element.innerHTML = '';\n",
              "          dataTable['output_type'] = 'display_data';\n",
              "          await google.colab.output.renderOutput(dataTable, element);\n",
              "          const docLink = document.createElement('div');\n",
              "          docLink.innerHTML = docLinkHtml;\n",
              "          element.appendChild(docLink);\n",
              "        }\n",
              "      </script>\n",
              "    </div>\n",
              "  </div>\n",
              "  "
            ]
          },
          "metadata": {},
          "execution_count": 68
        }
      ]
    },
    {
      "cell_type": "code",
      "source": [
        "# Filtrar receita FPM\n",
        "tabela_receita_FPM = tabela_completa.loc[tabela_completa['CLASSIFICACAO_SEREC'] == \"FPM\"]"
      ],
      "metadata": {
        "id": "-RScfTU8PsMK"
      },
      "execution_count": null,
      "outputs": []
    },
    {
      "cell_type": "code",
      "source": [
        "tabela_receita_FPM.info()"
      ],
      "metadata": {
        "colab": {
          "base_uri": "https://localhost:8080/"
        },
        "id": "c9W8CnFOT4gr",
        "outputId": "255c4965-8d2a-40e3-a835-faf89c4c7c5f"
      },
      "execution_count": null,
      "outputs": [
        {
          "output_type": "stream",
          "name": "stdout",
          "text": [
            "<class 'pandas.core.frame.DataFrame'>\n",
            "Int64Index: 314 entries, 494 to 15178\n",
            "Data columns (total 9 columns):\n",
            " #   Column                       Non-Null Count  Dtype  \n",
            "---  ------                       --------------  -----  \n",
            " 0   COMPETENCIA                  314 non-null    object \n",
            " 1   ANOREFERENCIA                314 non-null    object \n",
            " 2   ORIGEMRECEITA                314 non-null    object \n",
            " 3   DEDUCAORECEITA               314 non-null    object \n",
            " 4   NUMERORECEITAORCAMENTARIAUG  314 non-null    object \n",
            " 5   DESCRICAO                    314 non-null    object \n",
            " 6   VALORLANCAMENTO              314 non-null    float64\n",
            " 7   CLASSIFICACAO_SEREC          314 non-null    object \n",
            " 8   DETALHAMENTO                 314 non-null    object \n",
            "dtypes: float64(1), object(8)\n",
            "memory usage: 24.5+ KB\n"
          ]
        }
      ]
    },
    {
      "cell_type": "code",
      "source": [
        "# Transformar COMPETENCIA para Datetime\n",
        "tabela_receita_FPM['COMPETENCIA'] = pd.to_datetime(tabela_receita_FPM['COMPETENCIA'])"
      ],
      "metadata": {
        "colab": {
          "base_uri": "https://localhost:8080/"
        },
        "id": "RrtUwJACT9Cz",
        "outputId": "62f904d0-fd68-451e-c944-e5416a486332"
      },
      "execution_count": null,
      "outputs": [
        {
          "output_type": "stream",
          "name": "stderr",
          "text": [
            "/usr/local/lib/python3.7/dist-packages/ipykernel_launcher.py:2: SettingWithCopyWarning: \n",
            "A value is trying to be set on a copy of a slice from a DataFrame.\n",
            "Try using .loc[row_indexer,col_indexer] = value instead\n",
            "\n",
            "See the caveats in the documentation: https://pandas.pydata.org/pandas-docs/stable/user_guide/indexing.html#returning-a-view-versus-a-copy\n",
            "  \n"
          ]
        }
      ]
    },
    {
      "cell_type": "code",
      "source": [
        "tabela_receita_FPM.info()"
      ],
      "metadata": {
        "colab": {
          "base_uri": "https://localhost:8080/"
        },
        "id": "1Edm4Jp7UK6T",
        "outputId": "dfb50af3-009c-4d82-c76c-e07aeda2e94c"
      },
      "execution_count": null,
      "outputs": [
        {
          "output_type": "stream",
          "name": "stdout",
          "text": [
            "<class 'pandas.core.frame.DataFrame'>\n",
            "Int64Index: 314 entries, 494 to 15178\n",
            "Data columns (total 9 columns):\n",
            " #   Column                       Non-Null Count  Dtype         \n",
            "---  ------                       --------------  -----         \n",
            " 0   COMPETENCIA                  314 non-null    datetime64[ns]\n",
            " 1   ANOREFERENCIA                314 non-null    object        \n",
            " 2   ORIGEMRECEITA                314 non-null    object        \n",
            " 3   DEDUCAORECEITA               314 non-null    object        \n",
            " 4   NUMERORECEITAORCAMENTARIAUG  314 non-null    object        \n",
            " 5   DESCRICAO                    314 non-null    object        \n",
            " 6   VALORLANCAMENTO              314 non-null    float64       \n",
            " 7   CLASSIFICACAO_SEREC          314 non-null    object        \n",
            " 8   DETALHAMENTO                 314 non-null    object        \n",
            "dtypes: datetime64[ns](1), float64(1), object(7)\n",
            "memory usage: 24.5+ KB\n"
          ]
        }
      ]
    },
    {
      "cell_type": "code",
      "source": [
        "tabela_receita_FPM.set_index('COMPETENCIA', inplace=True)\n",
        "tabela_receita_FPM.head()"
      ],
      "metadata": {
        "colab": {
          "base_uri": "https://localhost:8080/",
          "height": 736
        },
        "id": "wZvklcD5PsRB",
        "outputId": "24939399-8579-4f9b-f1b5-4c46950d1219"
      },
      "execution_count": null,
      "outputs": [
        {
          "output_type": "execute_result",
          "data": {
            "text/plain": [
              "            ANOREFERENCIA             ORIGEMRECEITA DEDUCAORECEITA  \\\n",
              "COMPETENCIA                                                          \n",
              "2012-03-01           2012  Transferências Correntes              0   \n",
              "2012-03-01           2012  Transferências Correntes              0   \n",
              "2012-01-01           2012  Transferências Correntes              0   \n",
              "2012-01-01           2012  Transferências Correntes              0   \n",
              "2012-02-01           2012  Transferências Correntes              0   \n",
              "\n",
              "            NUMERORECEITAORCAMENTARIAUG  \\\n",
              "COMPETENCIA                               \n",
              "2012-03-01                     17210102   \n",
              "2012-03-01                     17210102   \n",
              "2012-01-01                     17210102   \n",
              "2012-01-01                     17210102   \n",
              "2012-02-01                     17210102   \n",
              "\n",
              "                                                     DESCRICAO  \\\n",
              "COMPETENCIA                                                      \n",
              "2012-03-01   Cota-Parte do Fundo de Participação dos Municí...   \n",
              "2012-03-01   Cota-Parte do Fundo de Participação dos Municí...   \n",
              "2012-01-01   Cota-Parte do Fundo de Participação dos Municí...   \n",
              "2012-01-01   Cota-Parte do Fundo de Participação dos Municí...   \n",
              "2012-02-01   Cota-Parte do Fundo de Participação dos Municí...   \n",
              "\n",
              "             VALORLANCAMENTO CLASSIFICACAO_SEREC DETALHAMENTO  \n",
              "COMPETENCIA                                                    \n",
              "2012-03-01        4772635.69                 FPM    PRINCIPAL  \n",
              "2012-03-01        4772635.69                 FPM    PRINCIPAL  \n",
              "2012-01-01        5809328.85                 FPM    PRINCIPAL  \n",
              "2012-01-01        5809328.85                 FPM    PRINCIPAL  \n",
              "2012-02-01        7027265.76                 FPM    PRINCIPAL  "
            ],
            "text/html": [
              "\n",
              "  <div id=\"df-801862a1-849a-4bdf-a133-d598b65ad2c4\">\n",
              "    <div class=\"colab-df-container\">\n",
              "      <div>\n",
              "<style scoped>\n",
              "    .dataframe tbody tr th:only-of-type {\n",
              "        vertical-align: middle;\n",
              "    }\n",
              "\n",
              "    .dataframe tbody tr th {\n",
              "        vertical-align: top;\n",
              "    }\n",
              "\n",
              "    .dataframe thead th {\n",
              "        text-align: right;\n",
              "    }\n",
              "</style>\n",
              "<table border=\"1\" class=\"dataframe\">\n",
              "  <thead>\n",
              "    <tr style=\"text-align: right;\">\n",
              "      <th></th>\n",
              "      <th>ANOREFERENCIA</th>\n",
              "      <th>ORIGEMRECEITA</th>\n",
              "      <th>DEDUCAORECEITA</th>\n",
              "      <th>NUMERORECEITAORCAMENTARIAUG</th>\n",
              "      <th>DESCRICAO</th>\n",
              "      <th>VALORLANCAMENTO</th>\n",
              "      <th>CLASSIFICACAO_SEREC</th>\n",
              "      <th>DETALHAMENTO</th>\n",
              "    </tr>\n",
              "    <tr>\n",
              "      <th>COMPETENCIA</th>\n",
              "      <th></th>\n",
              "      <th></th>\n",
              "      <th></th>\n",
              "      <th></th>\n",
              "      <th></th>\n",
              "      <th></th>\n",
              "      <th></th>\n",
              "      <th></th>\n",
              "    </tr>\n",
              "  </thead>\n",
              "  <tbody>\n",
              "    <tr>\n",
              "      <th>2012-03-01</th>\n",
              "      <td>2012</td>\n",
              "      <td>Transferências Correntes</td>\n",
              "      <td>0</td>\n",
              "      <td>17210102</td>\n",
              "      <td>Cota-Parte do Fundo de Participação dos Municí...</td>\n",
              "      <td>4772635.69</td>\n",
              "      <td>FPM</td>\n",
              "      <td>PRINCIPAL</td>\n",
              "    </tr>\n",
              "    <tr>\n",
              "      <th>2012-03-01</th>\n",
              "      <td>2012</td>\n",
              "      <td>Transferências Correntes</td>\n",
              "      <td>0</td>\n",
              "      <td>17210102</td>\n",
              "      <td>Cota-Parte do Fundo de Participação dos Municí...</td>\n",
              "      <td>4772635.69</td>\n",
              "      <td>FPM</td>\n",
              "      <td>PRINCIPAL</td>\n",
              "    </tr>\n",
              "    <tr>\n",
              "      <th>2012-01-01</th>\n",
              "      <td>2012</td>\n",
              "      <td>Transferências Correntes</td>\n",
              "      <td>0</td>\n",
              "      <td>17210102</td>\n",
              "      <td>Cota-Parte do Fundo de Participação dos Municí...</td>\n",
              "      <td>5809328.85</td>\n",
              "      <td>FPM</td>\n",
              "      <td>PRINCIPAL</td>\n",
              "    </tr>\n",
              "    <tr>\n",
              "      <th>2012-01-01</th>\n",
              "      <td>2012</td>\n",
              "      <td>Transferências Correntes</td>\n",
              "      <td>0</td>\n",
              "      <td>17210102</td>\n",
              "      <td>Cota-Parte do Fundo de Participação dos Municí...</td>\n",
              "      <td>5809328.85</td>\n",
              "      <td>FPM</td>\n",
              "      <td>PRINCIPAL</td>\n",
              "    </tr>\n",
              "    <tr>\n",
              "      <th>2012-02-01</th>\n",
              "      <td>2012</td>\n",
              "      <td>Transferências Correntes</td>\n",
              "      <td>0</td>\n",
              "      <td>17210102</td>\n",
              "      <td>Cota-Parte do Fundo de Participação dos Municí...</td>\n",
              "      <td>7027265.76</td>\n",
              "      <td>FPM</td>\n",
              "      <td>PRINCIPAL</td>\n",
              "    </tr>\n",
              "  </tbody>\n",
              "</table>\n",
              "</div>\n",
              "      <button class=\"colab-df-convert\" onclick=\"convertToInteractive('df-801862a1-849a-4bdf-a133-d598b65ad2c4')\"\n",
              "              title=\"Convert this dataframe to an interactive table.\"\n",
              "              style=\"display:none;\">\n",
              "        \n",
              "  <svg xmlns=\"http://www.w3.org/2000/svg\" height=\"24px\"viewBox=\"0 0 24 24\"\n",
              "       width=\"24px\">\n",
              "    <path d=\"M0 0h24v24H0V0z\" fill=\"none\"/>\n",
              "    <path d=\"M18.56 5.44l.94 2.06.94-2.06 2.06-.94-2.06-.94-.94-2.06-.94 2.06-2.06.94zm-11 1L8.5 8.5l.94-2.06 2.06-.94-2.06-.94L8.5 2.5l-.94 2.06-2.06.94zm10 10l.94 2.06.94-2.06 2.06-.94-2.06-.94-.94-2.06-.94 2.06-2.06.94z\"/><path d=\"M17.41 7.96l-1.37-1.37c-.4-.4-.92-.59-1.43-.59-.52 0-1.04.2-1.43.59L10.3 9.45l-7.72 7.72c-.78.78-.78 2.05 0 2.83L4 21.41c.39.39.9.59 1.41.59.51 0 1.02-.2 1.41-.59l7.78-7.78 2.81-2.81c.8-.78.8-2.07 0-2.86zM5.41 20L4 18.59l7.72-7.72 1.47 1.35L5.41 20z\"/>\n",
              "  </svg>\n",
              "      </button>\n",
              "      \n",
              "  <style>\n",
              "    .colab-df-container {\n",
              "      display:flex;\n",
              "      flex-wrap:wrap;\n",
              "      gap: 12px;\n",
              "    }\n",
              "\n",
              "    .colab-df-convert {\n",
              "      background-color: #E8F0FE;\n",
              "      border: none;\n",
              "      border-radius: 50%;\n",
              "      cursor: pointer;\n",
              "      display: none;\n",
              "      fill: #1967D2;\n",
              "      height: 32px;\n",
              "      padding: 0 0 0 0;\n",
              "      width: 32px;\n",
              "    }\n",
              "\n",
              "    .colab-df-convert:hover {\n",
              "      background-color: #E2EBFA;\n",
              "      box-shadow: 0px 1px 2px rgba(60, 64, 67, 0.3), 0px 1px 3px 1px rgba(60, 64, 67, 0.15);\n",
              "      fill: #174EA6;\n",
              "    }\n",
              "\n",
              "    [theme=dark] .colab-df-convert {\n",
              "      background-color: #3B4455;\n",
              "      fill: #D2E3FC;\n",
              "    }\n",
              "\n",
              "    [theme=dark] .colab-df-convert:hover {\n",
              "      background-color: #434B5C;\n",
              "      box-shadow: 0px 1px 3px 1px rgba(0, 0, 0, 0.15);\n",
              "      filter: drop-shadow(0px 1px 2px rgba(0, 0, 0, 0.3));\n",
              "      fill: #FFFFFF;\n",
              "    }\n",
              "  </style>\n",
              "\n",
              "      <script>\n",
              "        const buttonEl =\n",
              "          document.querySelector('#df-801862a1-849a-4bdf-a133-d598b65ad2c4 button.colab-df-convert');\n",
              "        buttonEl.style.display =\n",
              "          google.colab.kernel.accessAllowed ? 'block' : 'none';\n",
              "\n",
              "        async function convertToInteractive(key) {\n",
              "          const element = document.querySelector('#df-801862a1-849a-4bdf-a133-d598b65ad2c4');\n",
              "          const dataTable =\n",
              "            await google.colab.kernel.invokeFunction('convertToInteractive',\n",
              "                                                     [key], {});\n",
              "          if (!dataTable) return;\n",
              "\n",
              "          const docLinkHtml = 'Like what you see? Visit the ' +\n",
              "            '<a target=\"_blank\" href=https://colab.research.google.com/notebooks/data_table.ipynb>data table notebook</a>'\n",
              "            + ' to learn more about interactive tables.';\n",
              "          element.innerHTML = '';\n",
              "          dataTable['output_type'] = 'display_data';\n",
              "          await google.colab.output.renderOutput(dataTable, element);\n",
              "          const docLink = document.createElement('div');\n",
              "          docLink.innerHTML = docLinkHtml;\n",
              "          element.appendChild(docLink);\n",
              "        }\n",
              "      </script>\n",
              "    </div>\n",
              "  </div>\n",
              "  "
            ]
          },
          "metadata": {},
          "execution_count": 82
        }
      ]
    },
    {
      "cell_type": "code",
      "source": [
        "tabela_receita_FPM.info()"
      ],
      "metadata": {
        "colab": {
          "base_uri": "https://localhost:8080/"
        },
        "id": "fC4D17m0PsT-",
        "outputId": "9054d5dc-1cee-41cd-893c-68474c64c2d5"
      },
      "execution_count": null,
      "outputs": [
        {
          "output_type": "stream",
          "name": "stdout",
          "text": [
            "<class 'pandas.core.frame.DataFrame'>\n",
            "DatetimeIndex: 314 entries, 2012-03-01 to 2022-02-01\n",
            "Data columns (total 8 columns):\n",
            " #   Column                       Non-Null Count  Dtype  \n",
            "---  ------                       --------------  -----  \n",
            " 0   ANOREFERENCIA                314 non-null    object \n",
            " 1   ORIGEMRECEITA                314 non-null    object \n",
            " 2   DEDUCAORECEITA               314 non-null    object \n",
            " 3   NUMERORECEITAORCAMENTARIAUG  314 non-null    object \n",
            " 4   DESCRICAO                    314 non-null    object \n",
            " 5   VALORLANCAMENTO              314 non-null    float64\n",
            " 6   CLASSIFICACAO_SEREC          314 non-null    object \n",
            " 7   DETALHAMENTO                 314 non-null    object \n",
            "dtypes: float64(1), object(7)\n",
            "memory usage: 22.1+ KB\n"
          ]
        }
      ]
    },
    {
      "cell_type": "code",
      "source": [
        "tabela_receita_FPM = tabela_receita_FPM.drop_duplicates()"
      ],
      "metadata": {
        "id": "lyOtZ296kkYS"
      },
      "execution_count": null,
      "outputs": []
    },
    {
      "cell_type": "code",
      "source": [
        "tabela_receita_FPM.info()"
      ],
      "metadata": {
        "colab": {
          "base_uri": "https://localhost:8080/"
        },
        "id": "JjmH2ZQSkokB",
        "outputId": "c67665be-84d0-49e7-bb66-60487f7680ae"
      },
      "execution_count": null,
      "outputs": [
        {
          "output_type": "stream",
          "name": "stdout",
          "text": [
            "<class 'pandas.core.frame.DataFrame'>\n",
            "DatetimeIndex: 242 entries, 2012-03-01 to 2022-02-01\n",
            "Data columns (total 8 columns):\n",
            " #   Column                       Non-Null Count  Dtype  \n",
            "---  ------                       --------------  -----  \n",
            " 0   ANOREFERENCIA                242 non-null    object \n",
            " 1   ORIGEMRECEITA                242 non-null    object \n",
            " 2   DEDUCAORECEITA               242 non-null    object \n",
            " 3   NUMERORECEITAORCAMENTARIAUG  242 non-null    object \n",
            " 4   DESCRICAO                    242 non-null    object \n",
            " 5   VALORLANCAMENTO              242 non-null    float64\n",
            " 6   CLASSIFICACAO_SEREC          242 non-null    object \n",
            " 7   DETALHAMENTO                 242 non-null    object \n",
            "dtypes: float64(1), object(7)\n",
            "memory usage: 17.0+ KB\n"
          ]
        }
      ]
    },
    {
      "cell_type": "code",
      "source": [
        "# Gerar tabela para validação dos dados em excel\n",
        "tabela_receita_FPM.to_csv('/content/tabela_receita_FPM.csv')"
      ],
      "metadata": {
        "id": "8Vnb4TkajusD"
      },
      "execution_count": null,
      "outputs": []
    },
    {
      "cell_type": "markdown",
      "source": [
        "## Juntar dados em bases anuais"
      ],
      "metadata": {
        "id": "n0RCU77vZ94A"
      }
    },
    {
      "cell_type": "code",
      "source": [
        "tabela_receita_FPM_anual = tabela_receita_FPM.resample('A').sum()"
      ],
      "metadata": {
        "id": "hev0lKBnUUBd"
      },
      "execution_count": null,
      "outputs": []
    },
    {
      "cell_type": "code",
      "source": [
        "pd.options.display.float_format = '{:.2f}'.format"
      ],
      "metadata": {
        "id": "XiahYEimX5En"
      },
      "execution_count": null,
      "outputs": []
    },
    {
      "cell_type": "code",
      "source": [
        "tabela_receita_FPM_anual_base = tabela_receita_FPM_anual.loc[\"2012\":\"2021\"]"
      ],
      "metadata": {
        "id": "ej_k7k2VVnZW"
      },
      "execution_count": null,
      "outputs": []
    },
    {
      "cell_type": "code",
      "source": [
        "tabela_receita_FPM_anual_base[\"ANO\"] = ['2012', '2013', '2014', '2015', '2016', '2017', '2018', '2019', '2020', '2021']"
      ],
      "metadata": {
        "colab": {
          "base_uri": "https://localhost:8080/"
        },
        "id": "hPppgQkOdnt7",
        "outputId": "9950c0d8-fe64-4842-82a8-4cf02604c564"
      },
      "execution_count": null,
      "outputs": [
        {
          "output_type": "stream",
          "name": "stderr",
          "text": [
            "/usr/local/lib/python3.7/dist-packages/ipykernel_launcher.py:1: SettingWithCopyWarning: \n",
            "A value is trying to be set on a copy of a slice from a DataFrame.\n",
            "Try using .loc[row_indexer,col_indexer] = value instead\n",
            "\n",
            "See the caveats in the documentation: https://pandas.pydata.org/pandas-docs/stable/user_guide/indexing.html#returning-a-view-versus-a-copy\n",
            "  \"\"\"Entry point for launching an IPython kernel.\n"
          ]
        }
      ]
    },
    {
      "cell_type": "markdown",
      "source": [
        "# ETAPA 03 - Previsão para mês posterior"
      ],
      "metadata": {
        "id": "aVbb02VkaOci"
      }
    },
    {
      "cell_type": "code",
      "source": [
        "# Divisão em Treino e Teste\n"
      ],
      "metadata": {
        "id": "3p6Kqgp1lReC"
      },
      "execution_count": null,
      "outputs": []
    },
    {
      "cell_type": "code",
      "source": [
        ""
      ],
      "metadata": {
        "id": "NSz2XgRQlRan"
      },
      "execution_count": null,
      "outputs": []
    },
    {
      "cell_type": "code",
      "source": [
        ""
      ],
      "metadata": {
        "id": "SatRNhdrlROe"
      },
      "execution_count": null,
      "outputs": []
    },
    {
      "cell_type": "code",
      "source": [
        ""
      ],
      "metadata": {
        "id": "eJALSrcGlPhI"
      },
      "execution_count": null,
      "outputs": []
    },
    {
      "cell_type": "code",
      "source": [
        "lr = LinearRegression()"
      ],
      "metadata": {
        "id": "CnW7gqDQZ24Y"
      },
      "execution_count": null,
      "outputs": []
    },
    {
      "cell_type": "code",
      "source": [
        "model = lr.fit(X = tabela_receita_FPM_anual['ANO'], y = tabela_receita_FPM_anual['VALORLANCAMENTO'])"
      ],
      "metadata": {
        "colab": {
          "base_uri": "https://localhost:8080/",
          "height": 502
        },
        "id": "6PYeKos2eTpF",
        "outputId": "09a8253c-16ee-4a48-afe1-7bef9f4c36b8"
      },
      "execution_count": null,
      "outputs": [
        {
          "output_type": "error",
          "ename": "KeyError",
          "evalue": "ignored",
          "traceback": [
            "\u001b[0;31m---------------------------------------------------------------------------\u001b[0m",
            "\u001b[0;31mKeyError\u001b[0m                                  Traceback (most recent call last)",
            "\u001b[0;32m/usr/local/lib/python3.7/dist-packages/pandas/core/indexes/base.py\u001b[0m in \u001b[0;36mget_loc\u001b[0;34m(self, key, method, tolerance)\u001b[0m\n\u001b[1;32m   3360\u001b[0m             \u001b[0;32mtry\u001b[0m\u001b[0;34m:\u001b[0m\u001b[0;34m\u001b[0m\u001b[0;34m\u001b[0m\u001b[0m\n\u001b[0;32m-> 3361\u001b[0;31m                 \u001b[0;32mreturn\u001b[0m \u001b[0mself\u001b[0m\u001b[0;34m.\u001b[0m\u001b[0m_engine\u001b[0m\u001b[0;34m.\u001b[0m\u001b[0mget_loc\u001b[0m\u001b[0;34m(\u001b[0m\u001b[0mcasted_key\u001b[0m\u001b[0;34m)\u001b[0m\u001b[0;34m\u001b[0m\u001b[0;34m\u001b[0m\u001b[0m\n\u001b[0m\u001b[1;32m   3362\u001b[0m             \u001b[0;32mexcept\u001b[0m \u001b[0mKeyError\u001b[0m \u001b[0;32mas\u001b[0m \u001b[0merr\u001b[0m\u001b[0;34m:\u001b[0m\u001b[0;34m\u001b[0m\u001b[0;34m\u001b[0m\u001b[0m\n",
            "\u001b[0;32m/usr/local/lib/python3.7/dist-packages/pandas/_libs/index.pyx\u001b[0m in \u001b[0;36mpandas._libs.index.IndexEngine.get_loc\u001b[0;34m()\u001b[0m\n",
            "\u001b[0;32m/usr/local/lib/python3.7/dist-packages/pandas/_libs/index.pyx\u001b[0m in \u001b[0;36mpandas._libs.index.IndexEngine.get_loc\u001b[0;34m()\u001b[0m\n",
            "\u001b[0;32mpandas/_libs/hashtable_class_helper.pxi\u001b[0m in \u001b[0;36mpandas._libs.hashtable.PyObjectHashTable.get_item\u001b[0;34m()\u001b[0m\n",
            "\u001b[0;32mpandas/_libs/hashtable_class_helper.pxi\u001b[0m in \u001b[0;36mpandas._libs.hashtable.PyObjectHashTable.get_item\u001b[0;34m()\u001b[0m\n",
            "\u001b[0;31mKeyError\u001b[0m: 'ANO'",
            "\nThe above exception was the direct cause of the following exception:\n",
            "\u001b[0;31mKeyError\u001b[0m                                  Traceback (most recent call last)",
            "\u001b[0;32m<ipython-input-117-b062d330666a>\u001b[0m in \u001b[0;36m<module>\u001b[0;34m()\u001b[0m\n\u001b[0;32m----> 1\u001b[0;31m \u001b[0mmodel\u001b[0m \u001b[0;34m=\u001b[0m \u001b[0mlr\u001b[0m\u001b[0;34m.\u001b[0m\u001b[0mfit\u001b[0m\u001b[0;34m(\u001b[0m\u001b[0mX\u001b[0m \u001b[0;34m=\u001b[0m \u001b[0mtabela_receita_FPM_anual\u001b[0m\u001b[0;34m[\u001b[0m\u001b[0;34m'ANO'\u001b[0m\u001b[0;34m]\u001b[0m\u001b[0;34m,\u001b[0m \u001b[0my\u001b[0m \u001b[0;34m=\u001b[0m \u001b[0mtabela_receita_FPM_anual\u001b[0m\u001b[0;34m[\u001b[0m\u001b[0;34m'VALORLANCAMENTO'\u001b[0m\u001b[0;34m]\u001b[0m\u001b[0;34m)\u001b[0m\u001b[0;34m\u001b[0m\u001b[0;34m\u001b[0m\u001b[0m\n\u001b[0m",
            "\u001b[0;32m/usr/local/lib/python3.7/dist-packages/pandas/core/frame.py\u001b[0m in \u001b[0;36m__getitem__\u001b[0;34m(self, key)\u001b[0m\n\u001b[1;32m   3456\u001b[0m             \u001b[0;32mif\u001b[0m \u001b[0mself\u001b[0m\u001b[0;34m.\u001b[0m\u001b[0mcolumns\u001b[0m\u001b[0;34m.\u001b[0m\u001b[0mnlevels\u001b[0m \u001b[0;34m>\u001b[0m \u001b[0;36m1\u001b[0m\u001b[0;34m:\u001b[0m\u001b[0;34m\u001b[0m\u001b[0;34m\u001b[0m\u001b[0m\n\u001b[1;32m   3457\u001b[0m                 \u001b[0;32mreturn\u001b[0m \u001b[0mself\u001b[0m\u001b[0;34m.\u001b[0m\u001b[0m_getitem_multilevel\u001b[0m\u001b[0;34m(\u001b[0m\u001b[0mkey\u001b[0m\u001b[0;34m)\u001b[0m\u001b[0;34m\u001b[0m\u001b[0;34m\u001b[0m\u001b[0m\n\u001b[0;32m-> 3458\u001b[0;31m             \u001b[0mindexer\u001b[0m \u001b[0;34m=\u001b[0m \u001b[0mself\u001b[0m\u001b[0;34m.\u001b[0m\u001b[0mcolumns\u001b[0m\u001b[0;34m.\u001b[0m\u001b[0mget_loc\u001b[0m\u001b[0;34m(\u001b[0m\u001b[0mkey\u001b[0m\u001b[0;34m)\u001b[0m\u001b[0;34m\u001b[0m\u001b[0;34m\u001b[0m\u001b[0m\n\u001b[0m\u001b[1;32m   3459\u001b[0m             \u001b[0;32mif\u001b[0m \u001b[0mis_integer\u001b[0m\u001b[0;34m(\u001b[0m\u001b[0mindexer\u001b[0m\u001b[0;34m)\u001b[0m\u001b[0;34m:\u001b[0m\u001b[0;34m\u001b[0m\u001b[0;34m\u001b[0m\u001b[0m\n\u001b[1;32m   3460\u001b[0m                 \u001b[0mindexer\u001b[0m \u001b[0;34m=\u001b[0m \u001b[0;34m[\u001b[0m\u001b[0mindexer\u001b[0m\u001b[0;34m]\u001b[0m\u001b[0;34m\u001b[0m\u001b[0;34m\u001b[0m\u001b[0m\n",
            "\u001b[0;32m/usr/local/lib/python3.7/dist-packages/pandas/core/indexes/base.py\u001b[0m in \u001b[0;36mget_loc\u001b[0;34m(self, key, method, tolerance)\u001b[0m\n\u001b[1;32m   3361\u001b[0m                 \u001b[0;32mreturn\u001b[0m \u001b[0mself\u001b[0m\u001b[0;34m.\u001b[0m\u001b[0m_engine\u001b[0m\u001b[0;34m.\u001b[0m\u001b[0mget_loc\u001b[0m\u001b[0;34m(\u001b[0m\u001b[0mcasted_key\u001b[0m\u001b[0;34m)\u001b[0m\u001b[0;34m\u001b[0m\u001b[0;34m\u001b[0m\u001b[0m\n\u001b[1;32m   3362\u001b[0m             \u001b[0;32mexcept\u001b[0m \u001b[0mKeyError\u001b[0m \u001b[0;32mas\u001b[0m \u001b[0merr\u001b[0m\u001b[0;34m:\u001b[0m\u001b[0;34m\u001b[0m\u001b[0;34m\u001b[0m\u001b[0m\n\u001b[0;32m-> 3363\u001b[0;31m                 \u001b[0;32mraise\u001b[0m \u001b[0mKeyError\u001b[0m\u001b[0;34m(\u001b[0m\u001b[0mkey\u001b[0m\u001b[0;34m)\u001b[0m \u001b[0;32mfrom\u001b[0m \u001b[0merr\u001b[0m\u001b[0;34m\u001b[0m\u001b[0;34m\u001b[0m\u001b[0m\n\u001b[0m\u001b[1;32m   3364\u001b[0m \u001b[0;34m\u001b[0m\u001b[0m\n\u001b[1;32m   3365\u001b[0m         \u001b[0;32mif\u001b[0m \u001b[0mis_scalar\u001b[0m\u001b[0;34m(\u001b[0m\u001b[0mkey\u001b[0m\u001b[0;34m)\u001b[0m \u001b[0;32mand\u001b[0m \u001b[0misna\u001b[0m\u001b[0;34m(\u001b[0m\u001b[0mkey\u001b[0m\u001b[0;34m)\u001b[0m \u001b[0;32mand\u001b[0m \u001b[0;32mnot\u001b[0m \u001b[0mself\u001b[0m\u001b[0;34m.\u001b[0m\u001b[0mhasnans\u001b[0m\u001b[0;34m:\u001b[0m\u001b[0;34m\u001b[0m\u001b[0;34m\u001b[0m\u001b[0m\n",
            "\u001b[0;31mKeyError\u001b[0m: 'ANO'"
          ]
        }
      ]
    },
    {
      "cell_type": "code",
      "source": [
        ""
      ],
      "metadata": {
        "id": "TcVkJO0YbE1B"
      },
      "execution_count": null,
      "outputs": []
    },
    {
      "cell_type": "code",
      "source": [
        "\n",
        "# Confirmar valor com arrecadação Município\n",
        "# Consolidar por ano\n",
        "# Aplicar modelos > função?"
      ],
      "metadata": {
        "id": "oIB5lNOLSRgL"
      },
      "execution_count": null,
      "outputs": []
    }
  ]
}