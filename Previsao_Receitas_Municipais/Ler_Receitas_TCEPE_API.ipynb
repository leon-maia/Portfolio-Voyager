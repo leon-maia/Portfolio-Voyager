{
  "nbformat": 4,
  "nbformat_minor": 0,
  "metadata": {
    "colab": {
      "name": "Ler Receitas TCEPE API.ipynb",
      "provenance": [],
      "collapsed_sections": [
        "N63Flp6ADDYp",
        "iKIL18etC5ft",
        "bFrteKsRDYe7",
        "lY8_LrO0EVI0",
        "-Gt_LmN0upxw",
        "QCzom8xmEwWp"
      ]
    },
    "kernelspec": {
      "name": "python3",
      "display_name": "Python 3"
    },
    "language_info": {
      "name": "python"
    }
  },
  "cells": [
    {
      "cell_type": "markdown",
      "source": [
        "# Leitura das Bibliotecas utilizadas no projeto"
      ],
      "metadata": {
        "id": "N63Flp6ADDYp"
      }
    },
    {
      "cell_type": "code",
      "execution_count": 1,
      "metadata": {
        "id": "N_soyttwUcR5"
      },
      "outputs": [],
      "source": [
        "# Análise e tratamento de dados\n",
        "import pandas as pd\n",
        "import numpy as np\n",
        "import json\n",
        "\n",
        "# Requisição via API\n",
        "import requests\n",
        "from requests.adapters import HTTPAdapter\n",
        "from requests.packages.urllib3.util.retry import Retry\n",
        "\n",
        "# Banco de dados\n",
        "import sqlite3\n",
        "\n",
        "# Visualização dos dados\n",
        "import matplotlib.pyplot as plt\n",
        "\n",
        "# Regressão Linear\n",
        "from sklearn.model_selection import train_test_split\n",
        "from sklearn.linear_model import LinearRegression"
      ]
    },
    {
      "cell_type": "markdown",
      "source": [
        "# Etapa 01 - Acessar dados sobre a Receita Municipal"
      ],
      "metadata": {
        "id": "iKIL18etC5ft"
      }
    },
    {
      "cell_type": "markdown",
      "source": [
        "## Requisitar dados do site do Tribunal de Contas do Estado de Pernambuco"
      ],
      "metadata": {
        "id": "bFrteKsRDYe7"
      }
    },
    {
      "cell_type": "code",
      "source": [
        "# Obs: etapa inicial, preparatória e necessária para não ter dificuldades com requisições ao site do TCE-PE\n",
        "\n",
        "session = requests.Session()\n",
        "retry = Retry(connect=5, backoff_factor=0.5)\n",
        "adapter = HTTPAdapter(max_retries=retry)\n",
        "session.mount('http://', adapter)\n",
        "session.mount('https://', adapter)"
      ],
      "metadata": {
        "id": "76QKgGQlV-zM"
      },
      "execution_count": 2,
      "outputs": []
    },
    {
      "cell_type": "code",
      "source": [
        "# Solicita dados do site do TCE-PE via API\n",
        "exercicios = ['2012', '2013', '2014', '2015', '2016', '2017', '2018', '2019', '2020', '2021', '2022']\n",
        "dicionario = {}\n",
        "base_dados = []\n",
        "base_dados_temp = []\n",
        "for i, ano in enumerate(exercicios):\n",
        "  url = 'https://sistemas.tce.pe.gov.br/DadosAbertos/ReceitasMunicipais!json?ANOREFERENCIA=%s&ID_UNIDADE_GESTORA=319' % (ano)\n",
        "  resposta = session.get(url, stream=True)\n",
        "  if i == 0:\n",
        "    dicionario = json.loads(resposta.text)\n",
        "    base_dados = pd.DataFrame.from_dict(data=dicionario['resposta']['conteudo'])\n",
        "    print('Ano {} concluído.'.format(ano))\n",
        "    print(f'Ano {ano}: {base_dados.shape[0]} linhas carregadas.')\n",
        "  else:\n",
        "    dicionario = json.loads(resposta.text)\n",
        "    base_dados_temp = pd.DataFrame.from_dict(data=dicionario['resposta']['conteudo'])\n",
        "    print('Ano {} concluído.'.format(ano))\n",
        "    print('\\n')\n",
        "    print(f'Ano {ano}: {base_dados_temp.shape[0]} linhas carregadas.')\n",
        "    base_dados = pd.concat([base_dados, base_dados_temp])\n",
        "    print(f'Total: {base_dados.shape[0]} linhas carregadas.')\n",
        "    "
      ],
      "metadata": {
        "id": "CZxbMqeOGa-y",
        "colab": {
          "base_uri": "https://localhost:8080/"
        },
        "outputId": "76f2f123-6cae-4758-a499-eb90bda1d0ff"
      },
      "execution_count": 3,
      "outputs": [
        {
          "output_type": "stream",
          "name": "stdout",
          "text": [
            "Ano 2012 concluído.\n",
            "Ano 2012: 924 linhas carregadas.\n",
            "Ano 2013 concluído.\n",
            "\n",
            "\n",
            "Ano 2013: 972 linhas carregadas.\n",
            "Total: 1896 linhas carregadas.\n",
            "Ano 2014 concluído.\n",
            "\n",
            "\n",
            "Ano 2014: 1011 linhas carregadas.\n",
            "Total: 2907 linhas carregadas.\n",
            "Ano 2015 concluído.\n",
            "\n",
            "\n",
            "Ano 2015: 1248 linhas carregadas.\n",
            "Total: 4155 linhas carregadas.\n",
            "Ano 2016 concluído.\n",
            "\n",
            "\n",
            "Ano 2016: 1376 linhas carregadas.\n",
            "Total: 5531 linhas carregadas.\n",
            "Ano 2017 concluído.\n",
            "\n",
            "\n",
            "Ano 2017: 1305 linhas carregadas.\n",
            "Total: 6836 linhas carregadas.\n",
            "Ano 2018 concluído.\n",
            "\n",
            "\n",
            "Ano 2018: 1347 linhas carregadas.\n",
            "Total: 8183 linhas carregadas.\n",
            "Ano 2019 concluído.\n",
            "\n",
            "\n",
            "Ano 2019: 1428 linhas carregadas.\n",
            "Total: 9611 linhas carregadas.\n",
            "Ano 2020 concluído.\n",
            "\n",
            "\n",
            "Ano 2020: 1892 linhas carregadas.\n",
            "Total: 11503 linhas carregadas.\n",
            "Ano 2021 concluído.\n",
            "\n",
            "\n",
            "Ano 2021: 1902 linhas carregadas.\n",
            "Total: 13405 linhas carregadas.\n",
            "Ano 2022 concluído.\n",
            "\n",
            "\n",
            "Ano 2022: 1001 linhas carregadas.\n",
            "Total: 14406 linhas carregadas.\n"
          ]
        }
      ]
    },
    {
      "cell_type": "markdown",
      "source": [
        "## Análise e Tratamento dos dados requisitados"
      ],
      "metadata": {
        "id": "lY8_LrO0EVI0"
      }
    },
    {
      "cell_type": "code",
      "source": [
        "base_dados.shape"
      ],
      "metadata": {
        "colab": {
          "base_uri": "https://localhost:8080/"
        },
        "id": "DEFGVYGtcOak",
        "outputId": "0e539e15-a49b-4ec5-d3f5-b7a1defeb79f"
      },
      "execution_count": 4,
      "outputs": [
        {
          "output_type": "execute_result",
          "data": {
            "text/plain": [
              "(14406, 12)"
            ]
          },
          "metadata": {},
          "execution_count": 4
        }
      ]
    },
    {
      "cell_type": "code",
      "source": [
        "base_dados.columns"
      ],
      "metadata": {
        "colab": {
          "base_uri": "https://localhost:8080/"
        },
        "id": "E_v9DjADHhCm",
        "outputId": "b3306369-24bc-42e1-8b2f-5f83e07c3f91"
      },
      "execution_count": 5,
      "outputs": [
        {
          "output_type": "execute_result",
          "data": {
            "text/plain": [
              "Index(['ID_UNIDADE_GESTORA', 'NUMERORECEITAORCAMENTARIAUG', 'DESCRICAO',\n",
              "       'CATEGORIARECEITA', 'ANOREFERENCIA', 'MESREFERENCIA', 'VALORLANCAMENTO',\n",
              "       'ESFERA', 'ORIGEMRECEITA', 'DEDUCAORECEITA', 'ESPECIERECEITA',\n",
              "       'DESCRICAOFONTE'],\n",
              "      dtype='object')"
            ]
          },
          "metadata": {},
          "execution_count": 5
        }
      ]
    },
    {
      "cell_type": "code",
      "source": [
        "base_dados = base_dados.reset_index()"
      ],
      "metadata": {
        "id": "yH80iiuuHIHB"
      },
      "execution_count": 6,
      "outputs": []
    },
    {
      "cell_type": "code",
      "source": [
        "base_dados = base_dados.drop(labels='index', axis=1)"
      ],
      "metadata": {
        "id": "bRh4A9cCHTw6"
      },
      "execution_count": 7,
      "outputs": []
    },
    {
      "cell_type": "code",
      "source": [
        "base_dados['COMPETENCIA'] = pd.to_datetime({'year': base_dados['ANOREFERENCIA'], 'month': base_dados['MESREFERENCIA'], 'day': 1}, format=\"%m/%Y\")"
      ],
      "metadata": {
        "id": "ia9YSr6AHYk2"
      },
      "execution_count": 8,
      "outputs": []
    },
    {
      "cell_type": "code",
      "source": [
        "base_dados.info()"
      ],
      "metadata": {
        "colab": {
          "base_uri": "https://localhost:8080/"
        },
        "id": "bXeYAdUoHYoQ",
        "outputId": "093fa7b0-e719-40d6-abd4-a91e4a28a972"
      },
      "execution_count": 9,
      "outputs": [
        {
          "output_type": "stream",
          "name": "stdout",
          "text": [
            "<class 'pandas.core.frame.DataFrame'>\n",
            "RangeIndex: 14406 entries, 0 to 14405\n",
            "Data columns (total 13 columns):\n",
            " #   Column                       Non-Null Count  Dtype         \n",
            "---  ------                       --------------  -----         \n",
            " 0   ID_UNIDADE_GESTORA           14406 non-null  object        \n",
            " 1   NUMERORECEITAORCAMENTARIAUG  14404 non-null  object        \n",
            " 2   DESCRICAO                    14404 non-null  object        \n",
            " 3   CATEGORIARECEITA             14406 non-null  object        \n",
            " 4   ANOREFERENCIA                14406 non-null  object        \n",
            " 5   MESREFERENCIA                14406 non-null  object        \n",
            " 6   VALORLANCAMENTO              14406 non-null  object        \n",
            " 7   ESFERA                       14406 non-null  object        \n",
            " 8   ORIGEMRECEITA                14404 non-null  object        \n",
            " 9   DEDUCAORECEITA               14406 non-null  object        \n",
            " 10  ESPECIERECEITA               13005 non-null  object        \n",
            " 11  DESCRICAOFONTE               12510 non-null  object        \n",
            " 12  COMPETENCIA                  14406 non-null  datetime64[ns]\n",
            "dtypes: datetime64[ns](1), object(12)\n",
            "memory usage: 1.4+ MB\n"
          ]
        }
      ]
    },
    {
      "cell_type": "code",
      "source": [
        "base_dados.head()"
      ],
      "metadata": {
        "colab": {
          "base_uri": "https://localhost:8080/",
          "height": 669
        },
        "id": "NQR8b4UELCRB",
        "outputId": "901793dc-a590-43a9-9df7-7650aebe00c0"
      },
      "execution_count": 10,
      "outputs": [
        {
          "output_type": "execute_result",
          "data": {
            "text/plain": [
              "  ID_UNIDADE_GESTORA NUMERORECEITAORCAMENTARIAUG  \\\n",
              "0                319                   917220101   \n",
              "1                319                   917220102   \n",
              "2                319                   917220104   \n",
              "3                319                   917220104   \n",
              "4                319                   917220104   \n",
              "\n",
              "                                           DESCRICAO     CATEGORIARECEITA  \\\n",
              "0             Dedução de Cota-Parte do ICMS - FUNDEB  Dedução de Receitas   \n",
              "1             Dedução de Cota-Parte do IPVA - FUNDEB  Dedução de Receitas   \n",
              "2  Dedução de Cota-Parte do IPI sobre Exportação ...  Dedução de Receitas   \n",
              "3  Dedução de Cota-Parte do IPI sobre Exportação ...  Dedução de Receitas   \n",
              "4  Dedução de Cota-Parte do IPI sobre Exportação ...  Dedução de Receitas   \n",
              "\n",
              "  ANOREFERENCIA MESREFERENCIA VALORLANCAMENTO ESFERA      ORIGEMRECEITA  \\\n",
              "0          2012             1     -4810177.11      M  Alienação de Bens   \n",
              "1          2012             1      -145288.61      M  Alienação de Bens   \n",
              "2          2012             1        -4222.80      M  Alienação de Bens   \n",
              "3          2012             2        -8771.62      M  Alienação de Bens   \n",
              "4          2012             3        -6409.60      M  Alienação de Bens   \n",
              "\n",
              "  DEDUCAORECEITA ESPECIERECEITA DESCRICAOFONTE COMPETENCIA  \n",
              "0              9            NaN            NaN  2012-01-01  \n",
              "1              9            NaN            NaN  2012-01-01  \n",
              "2              9            NaN            NaN  2012-01-01  \n",
              "3              9            NaN            NaN  2012-02-01  \n",
              "4              9            NaN            NaN  2012-03-01  "
            ],
            "text/html": [
              "\n",
              "  <div id=\"df-58292372-a3ff-4efe-a0eb-110ca7621595\">\n",
              "    <div class=\"colab-df-container\">\n",
              "      <div>\n",
              "<style scoped>\n",
              "    .dataframe tbody tr th:only-of-type {\n",
              "        vertical-align: middle;\n",
              "    }\n",
              "\n",
              "    .dataframe tbody tr th {\n",
              "        vertical-align: top;\n",
              "    }\n",
              "\n",
              "    .dataframe thead th {\n",
              "        text-align: right;\n",
              "    }\n",
              "</style>\n",
              "<table border=\"1\" class=\"dataframe\">\n",
              "  <thead>\n",
              "    <tr style=\"text-align: right;\">\n",
              "      <th></th>\n",
              "      <th>ID_UNIDADE_GESTORA</th>\n",
              "      <th>NUMERORECEITAORCAMENTARIAUG</th>\n",
              "      <th>DESCRICAO</th>\n",
              "      <th>CATEGORIARECEITA</th>\n",
              "      <th>ANOREFERENCIA</th>\n",
              "      <th>MESREFERENCIA</th>\n",
              "      <th>VALORLANCAMENTO</th>\n",
              "      <th>ESFERA</th>\n",
              "      <th>ORIGEMRECEITA</th>\n",
              "      <th>DEDUCAORECEITA</th>\n",
              "      <th>ESPECIERECEITA</th>\n",
              "      <th>DESCRICAOFONTE</th>\n",
              "      <th>COMPETENCIA</th>\n",
              "    </tr>\n",
              "  </thead>\n",
              "  <tbody>\n",
              "    <tr>\n",
              "      <th>0</th>\n",
              "      <td>319</td>\n",
              "      <td>917220101</td>\n",
              "      <td>Dedução de Cota-Parte do ICMS - FUNDEB</td>\n",
              "      <td>Dedução de Receitas</td>\n",
              "      <td>2012</td>\n",
              "      <td>1</td>\n",
              "      <td>-4810177.11</td>\n",
              "      <td>M</td>\n",
              "      <td>Alienação de Bens</td>\n",
              "      <td>9</td>\n",
              "      <td>NaN</td>\n",
              "      <td>NaN</td>\n",
              "      <td>2012-01-01</td>\n",
              "    </tr>\n",
              "    <tr>\n",
              "      <th>1</th>\n",
              "      <td>319</td>\n",
              "      <td>917220102</td>\n",
              "      <td>Dedução de Cota-Parte do IPVA - FUNDEB</td>\n",
              "      <td>Dedução de Receitas</td>\n",
              "      <td>2012</td>\n",
              "      <td>1</td>\n",
              "      <td>-145288.61</td>\n",
              "      <td>M</td>\n",
              "      <td>Alienação de Bens</td>\n",
              "      <td>9</td>\n",
              "      <td>NaN</td>\n",
              "      <td>NaN</td>\n",
              "      <td>2012-01-01</td>\n",
              "    </tr>\n",
              "    <tr>\n",
              "      <th>2</th>\n",
              "      <td>319</td>\n",
              "      <td>917220104</td>\n",
              "      <td>Dedução de Cota-Parte do IPI sobre Exportação ...</td>\n",
              "      <td>Dedução de Receitas</td>\n",
              "      <td>2012</td>\n",
              "      <td>1</td>\n",
              "      <td>-4222.80</td>\n",
              "      <td>M</td>\n",
              "      <td>Alienação de Bens</td>\n",
              "      <td>9</td>\n",
              "      <td>NaN</td>\n",
              "      <td>NaN</td>\n",
              "      <td>2012-01-01</td>\n",
              "    </tr>\n",
              "    <tr>\n",
              "      <th>3</th>\n",
              "      <td>319</td>\n",
              "      <td>917220104</td>\n",
              "      <td>Dedução de Cota-Parte do IPI sobre Exportação ...</td>\n",
              "      <td>Dedução de Receitas</td>\n",
              "      <td>2012</td>\n",
              "      <td>2</td>\n",
              "      <td>-8771.62</td>\n",
              "      <td>M</td>\n",
              "      <td>Alienação de Bens</td>\n",
              "      <td>9</td>\n",
              "      <td>NaN</td>\n",
              "      <td>NaN</td>\n",
              "      <td>2012-02-01</td>\n",
              "    </tr>\n",
              "    <tr>\n",
              "      <th>4</th>\n",
              "      <td>319</td>\n",
              "      <td>917220104</td>\n",
              "      <td>Dedução de Cota-Parte do IPI sobre Exportação ...</td>\n",
              "      <td>Dedução de Receitas</td>\n",
              "      <td>2012</td>\n",
              "      <td>3</td>\n",
              "      <td>-6409.60</td>\n",
              "      <td>M</td>\n",
              "      <td>Alienação de Bens</td>\n",
              "      <td>9</td>\n",
              "      <td>NaN</td>\n",
              "      <td>NaN</td>\n",
              "      <td>2012-03-01</td>\n",
              "    </tr>\n",
              "  </tbody>\n",
              "</table>\n",
              "</div>\n",
              "      <button class=\"colab-df-convert\" onclick=\"convertToInteractive('df-58292372-a3ff-4efe-a0eb-110ca7621595')\"\n",
              "              title=\"Convert this dataframe to an interactive table.\"\n",
              "              style=\"display:none;\">\n",
              "        \n",
              "  <svg xmlns=\"http://www.w3.org/2000/svg\" height=\"24px\"viewBox=\"0 0 24 24\"\n",
              "       width=\"24px\">\n",
              "    <path d=\"M0 0h24v24H0V0z\" fill=\"none\"/>\n",
              "    <path d=\"M18.56 5.44l.94 2.06.94-2.06 2.06-.94-2.06-.94-.94-2.06-.94 2.06-2.06.94zm-11 1L8.5 8.5l.94-2.06 2.06-.94-2.06-.94L8.5 2.5l-.94 2.06-2.06.94zm10 10l.94 2.06.94-2.06 2.06-.94-2.06-.94-.94-2.06-.94 2.06-2.06.94z\"/><path d=\"M17.41 7.96l-1.37-1.37c-.4-.4-.92-.59-1.43-.59-.52 0-1.04.2-1.43.59L10.3 9.45l-7.72 7.72c-.78.78-.78 2.05 0 2.83L4 21.41c.39.39.9.59 1.41.59.51 0 1.02-.2 1.41-.59l7.78-7.78 2.81-2.81c.8-.78.8-2.07 0-2.86zM5.41 20L4 18.59l7.72-7.72 1.47 1.35L5.41 20z\"/>\n",
              "  </svg>\n",
              "      </button>\n",
              "      \n",
              "  <style>\n",
              "    .colab-df-container {\n",
              "      display:flex;\n",
              "      flex-wrap:wrap;\n",
              "      gap: 12px;\n",
              "    }\n",
              "\n",
              "    .colab-df-convert {\n",
              "      background-color: #E8F0FE;\n",
              "      border: none;\n",
              "      border-radius: 50%;\n",
              "      cursor: pointer;\n",
              "      display: none;\n",
              "      fill: #1967D2;\n",
              "      height: 32px;\n",
              "      padding: 0 0 0 0;\n",
              "      width: 32px;\n",
              "    }\n",
              "\n",
              "    .colab-df-convert:hover {\n",
              "      background-color: #E2EBFA;\n",
              "      box-shadow: 0px 1px 2px rgba(60, 64, 67, 0.3), 0px 1px 3px 1px rgba(60, 64, 67, 0.15);\n",
              "      fill: #174EA6;\n",
              "    }\n",
              "\n",
              "    [theme=dark] .colab-df-convert {\n",
              "      background-color: #3B4455;\n",
              "      fill: #D2E3FC;\n",
              "    }\n",
              "\n",
              "    [theme=dark] .colab-df-convert:hover {\n",
              "      background-color: #434B5C;\n",
              "      box-shadow: 0px 1px 3px 1px rgba(0, 0, 0, 0.15);\n",
              "      filter: drop-shadow(0px 1px 2px rgba(0, 0, 0, 0.3));\n",
              "      fill: #FFFFFF;\n",
              "    }\n",
              "  </style>\n",
              "\n",
              "      <script>\n",
              "        const buttonEl =\n",
              "          document.querySelector('#df-58292372-a3ff-4efe-a0eb-110ca7621595 button.colab-df-convert');\n",
              "        buttonEl.style.display =\n",
              "          google.colab.kernel.accessAllowed ? 'block' : 'none';\n",
              "\n",
              "        async function convertToInteractive(key) {\n",
              "          const element = document.querySelector('#df-58292372-a3ff-4efe-a0eb-110ca7621595');\n",
              "          const dataTable =\n",
              "            await google.colab.kernel.invokeFunction('convertToInteractive',\n",
              "                                                     [key], {});\n",
              "          if (!dataTable) return;\n",
              "\n",
              "          const docLinkHtml = 'Like what you see? Visit the ' +\n",
              "            '<a target=\"_blank\" href=https://colab.research.google.com/notebooks/data_table.ipynb>data table notebook</a>'\n",
              "            + ' to learn more about interactive tables.';\n",
              "          element.innerHTML = '';\n",
              "          dataTable['output_type'] = 'display_data';\n",
              "          await google.colab.output.renderOutput(dataTable, element);\n",
              "          const docLink = document.createElement('div');\n",
              "          docLink.innerHTML = docLinkHtml;\n",
              "          element.appendChild(docLink);\n",
              "        }\n",
              "      </script>\n",
              "    </div>\n",
              "  </div>\n",
              "  "
            ]
          },
          "metadata": {},
          "execution_count": 10
        }
      ]
    },
    {
      "cell_type": "code",
      "source": [
        "# Lista de Receitas e Códigos\n",
        "receitas_cod = base_dados[['NUMERORECEITAORCAMENTARIAUG', 'DESCRICAO']].drop_duplicates()\n",
        "receitas_cod.to_csv('receitas_cod.csv', sep=';', index=False)"
      ],
      "metadata": {
        "id": "d9BA1DNFQcfI"
      },
      "execution_count": 11,
      "outputs": []
    },
    {
      "cell_type": "code",
      "source": [
        "base_dados.loc[base_dados['NUMERORECEITAORCAMENTARIAUG'].isnull()]"
      ],
      "metadata": {
        "colab": {
          "base_uri": "https://localhost:8080/",
          "height": 176
        },
        "id": "7UD6vHnmpu5U",
        "outputId": "1aa38567-a810-4563-d88c-d23fab7e4a3c"
      },
      "execution_count": 12,
      "outputs": [
        {
          "output_type": "execute_result",
          "data": {
            "text/plain": [
              "     ID_UNIDADE_GESTORA NUMERORECEITAORCAMENTARIAUG DESCRICAO  \\\n",
              "2925                319                         NaN       NaN   \n",
              "3051                319                         NaN       NaN   \n",
              "\n",
              "        CATEGORIARECEITA ANOREFERENCIA MESREFERENCIA VALORLANCAMENTO ESFERA  \\\n",
              "2925  Receitas Correntes          2015            11       653831.00      M   \n",
              "3051  Receitas Correntes          2015            11       100000.00      M   \n",
              "\n",
              "     ORIGEMRECEITA DEDUCAORECEITA ESPECIERECEITA DESCRICAOFONTE COMPETENCIA  \n",
              "2925           NaN              0            NaN  Outras Fontes  2015-11-01  \n",
              "3051           NaN              0            NaN  Outras Fontes  2015-11-01  "
            ],
            "text/html": [
              "\n",
              "  <div id=\"df-dbfe3fe3-9841-4d92-a543-76ef614800aa\">\n",
              "    <div class=\"colab-df-container\">\n",
              "      <div>\n",
              "<style scoped>\n",
              "    .dataframe tbody tr th:only-of-type {\n",
              "        vertical-align: middle;\n",
              "    }\n",
              "\n",
              "    .dataframe tbody tr th {\n",
              "        vertical-align: top;\n",
              "    }\n",
              "\n",
              "    .dataframe thead th {\n",
              "        text-align: right;\n",
              "    }\n",
              "</style>\n",
              "<table border=\"1\" class=\"dataframe\">\n",
              "  <thead>\n",
              "    <tr style=\"text-align: right;\">\n",
              "      <th></th>\n",
              "      <th>ID_UNIDADE_GESTORA</th>\n",
              "      <th>NUMERORECEITAORCAMENTARIAUG</th>\n",
              "      <th>DESCRICAO</th>\n",
              "      <th>CATEGORIARECEITA</th>\n",
              "      <th>ANOREFERENCIA</th>\n",
              "      <th>MESREFERENCIA</th>\n",
              "      <th>VALORLANCAMENTO</th>\n",
              "      <th>ESFERA</th>\n",
              "      <th>ORIGEMRECEITA</th>\n",
              "      <th>DEDUCAORECEITA</th>\n",
              "      <th>ESPECIERECEITA</th>\n",
              "      <th>DESCRICAOFONTE</th>\n",
              "      <th>COMPETENCIA</th>\n",
              "    </tr>\n",
              "  </thead>\n",
              "  <tbody>\n",
              "    <tr>\n",
              "      <th>2925</th>\n",
              "      <td>319</td>\n",
              "      <td>NaN</td>\n",
              "      <td>NaN</td>\n",
              "      <td>Receitas Correntes</td>\n",
              "      <td>2015</td>\n",
              "      <td>11</td>\n",
              "      <td>653831.00</td>\n",
              "      <td>M</td>\n",
              "      <td>NaN</td>\n",
              "      <td>0</td>\n",
              "      <td>NaN</td>\n",
              "      <td>Outras Fontes</td>\n",
              "      <td>2015-11-01</td>\n",
              "    </tr>\n",
              "    <tr>\n",
              "      <th>3051</th>\n",
              "      <td>319</td>\n",
              "      <td>NaN</td>\n",
              "      <td>NaN</td>\n",
              "      <td>Receitas Correntes</td>\n",
              "      <td>2015</td>\n",
              "      <td>11</td>\n",
              "      <td>100000.00</td>\n",
              "      <td>M</td>\n",
              "      <td>NaN</td>\n",
              "      <td>0</td>\n",
              "      <td>NaN</td>\n",
              "      <td>Outras Fontes</td>\n",
              "      <td>2015-11-01</td>\n",
              "    </tr>\n",
              "  </tbody>\n",
              "</table>\n",
              "</div>\n",
              "      <button class=\"colab-df-convert\" onclick=\"convertToInteractive('df-dbfe3fe3-9841-4d92-a543-76ef614800aa')\"\n",
              "              title=\"Convert this dataframe to an interactive table.\"\n",
              "              style=\"display:none;\">\n",
              "        \n",
              "  <svg xmlns=\"http://www.w3.org/2000/svg\" height=\"24px\"viewBox=\"0 0 24 24\"\n",
              "       width=\"24px\">\n",
              "    <path d=\"M0 0h24v24H0V0z\" fill=\"none\"/>\n",
              "    <path d=\"M18.56 5.44l.94 2.06.94-2.06 2.06-.94-2.06-.94-.94-2.06-.94 2.06-2.06.94zm-11 1L8.5 8.5l.94-2.06 2.06-.94-2.06-.94L8.5 2.5l-.94 2.06-2.06.94zm10 10l.94 2.06.94-2.06 2.06-.94-2.06-.94-.94-2.06-.94 2.06-2.06.94z\"/><path d=\"M17.41 7.96l-1.37-1.37c-.4-.4-.92-.59-1.43-.59-.52 0-1.04.2-1.43.59L10.3 9.45l-7.72 7.72c-.78.78-.78 2.05 0 2.83L4 21.41c.39.39.9.59 1.41.59.51 0 1.02-.2 1.41-.59l7.78-7.78 2.81-2.81c.8-.78.8-2.07 0-2.86zM5.41 20L4 18.59l7.72-7.72 1.47 1.35L5.41 20z\"/>\n",
              "  </svg>\n",
              "      </button>\n",
              "      \n",
              "  <style>\n",
              "    .colab-df-container {\n",
              "      display:flex;\n",
              "      flex-wrap:wrap;\n",
              "      gap: 12px;\n",
              "    }\n",
              "\n",
              "    .colab-df-convert {\n",
              "      background-color: #E8F0FE;\n",
              "      border: none;\n",
              "      border-radius: 50%;\n",
              "      cursor: pointer;\n",
              "      display: none;\n",
              "      fill: #1967D2;\n",
              "      height: 32px;\n",
              "      padding: 0 0 0 0;\n",
              "      width: 32px;\n",
              "    }\n",
              "\n",
              "    .colab-df-convert:hover {\n",
              "      background-color: #E2EBFA;\n",
              "      box-shadow: 0px 1px 2px rgba(60, 64, 67, 0.3), 0px 1px 3px 1px rgba(60, 64, 67, 0.15);\n",
              "      fill: #174EA6;\n",
              "    }\n",
              "\n",
              "    [theme=dark] .colab-df-convert {\n",
              "      background-color: #3B4455;\n",
              "      fill: #D2E3FC;\n",
              "    }\n",
              "\n",
              "    [theme=dark] .colab-df-convert:hover {\n",
              "      background-color: #434B5C;\n",
              "      box-shadow: 0px 1px 3px 1px rgba(0, 0, 0, 0.15);\n",
              "      filter: drop-shadow(0px 1px 2px rgba(0, 0, 0, 0.3));\n",
              "      fill: #FFFFFF;\n",
              "    }\n",
              "  </style>\n",
              "\n",
              "      <script>\n",
              "        const buttonEl =\n",
              "          document.querySelector('#df-dbfe3fe3-9841-4d92-a543-76ef614800aa button.colab-df-convert');\n",
              "        buttonEl.style.display =\n",
              "          google.colab.kernel.accessAllowed ? 'block' : 'none';\n",
              "\n",
              "        async function convertToInteractive(key) {\n",
              "          const element = document.querySelector('#df-dbfe3fe3-9841-4d92-a543-76ef614800aa');\n",
              "          const dataTable =\n",
              "            await google.colab.kernel.invokeFunction('convertToInteractive',\n",
              "                                                     [key], {});\n",
              "          if (!dataTable) return;\n",
              "\n",
              "          const docLinkHtml = 'Like what you see? Visit the ' +\n",
              "            '<a target=\"_blank\" href=https://colab.research.google.com/notebooks/data_table.ipynb>data table notebook</a>'\n",
              "            + ' to learn more about interactive tables.';\n",
              "          element.innerHTML = '';\n",
              "          dataTable['output_type'] = 'display_data';\n",
              "          await google.colab.output.renderOutput(dataTable, element);\n",
              "          const docLink = document.createElement('div');\n",
              "          docLink.innerHTML = docLinkHtml;\n",
              "          element.appendChild(docLink);\n",
              "        }\n",
              "      </script>\n",
              "    </div>\n",
              "  </div>\n",
              "  "
            ]
          },
          "metadata": {},
          "execution_count": 12
        }
      ]
    },
    {
      "cell_type": "code",
      "source": [
        "base_dados.drop(base_dados[base_dados['NUMERORECEITAORCAMENTARIAUG'].isnull()].index, inplace=True)"
      ],
      "metadata": {
        "id": "eTiwIGZ5D2Yg"
      },
      "execution_count": 13,
      "outputs": []
    },
    {
      "cell_type": "code",
      "source": [
        "base_dados.to_csv('/content/base_dados')"
      ],
      "metadata": {
        "id": "P1Byc_lU0sbB"
      },
      "execution_count": 14,
      "outputs": []
    },
    {
      "cell_type": "code",
      "source": [
        "base_dados.info()"
      ],
      "metadata": {
        "colab": {
          "base_uri": "https://localhost:8080/"
        },
        "id": "LEYg4uz-rFb7",
        "outputId": "365ffcf5-d965-4327-ace3-3440ee3df786"
      },
      "execution_count": 15,
      "outputs": [
        {
          "output_type": "stream",
          "name": "stdout",
          "text": [
            "<class 'pandas.core.frame.DataFrame'>\n",
            "Int64Index: 14404 entries, 0 to 14405\n",
            "Data columns (total 13 columns):\n",
            " #   Column                       Non-Null Count  Dtype         \n",
            "---  ------                       --------------  -----         \n",
            " 0   ID_UNIDADE_GESTORA           14404 non-null  object        \n",
            " 1   NUMERORECEITAORCAMENTARIAUG  14404 non-null  object        \n",
            " 2   DESCRICAO                    14404 non-null  object        \n",
            " 3   CATEGORIARECEITA             14404 non-null  object        \n",
            " 4   ANOREFERENCIA                14404 non-null  object        \n",
            " 5   MESREFERENCIA                14404 non-null  object        \n",
            " 6   VALORLANCAMENTO              14404 non-null  object        \n",
            " 7   ESFERA                       14404 non-null  object        \n",
            " 8   ORIGEMRECEITA                14404 non-null  object        \n",
            " 9   DEDUCAORECEITA               14404 non-null  object        \n",
            " 10  ESPECIERECEITA               13005 non-null  object        \n",
            " 11  DESCRICAOFONTE               12508 non-null  object        \n",
            " 12  COMPETENCIA                  14404 non-null  datetime64[ns]\n",
            "dtypes: datetime64[ns](1), object(12)\n",
            "memory usage: 1.5+ MB\n"
          ]
        }
      ]
    },
    {
      "cell_type": "code",
      "source": [
        "# Transformar numeros em valores flutuantes\n",
        "base_dados['VALORLANCAMENTO'] = base_dados['VALORLANCAMENTO'].astype(float)\n",
        "base_dados['NUMERORECEITAORCAMENTARIAUG'] = base_dados['NUMERORECEITAORCAMENTARIAUG'].astype(int)"
      ],
      "metadata": {
        "id": "xk0doCgqtIui"
      },
      "execution_count": 16,
      "outputs": []
    },
    {
      "cell_type": "code",
      "source": [
        "base_dados.info()"
      ],
      "metadata": {
        "colab": {
          "base_uri": "https://localhost:8080/"
        },
        "id": "xthOMRB3mnKj",
        "outputId": "44f5c7f3-6742-486a-f840-e021bc17e0e1"
      },
      "execution_count": 17,
      "outputs": [
        {
          "output_type": "stream",
          "name": "stdout",
          "text": [
            "<class 'pandas.core.frame.DataFrame'>\n",
            "Int64Index: 14404 entries, 0 to 14405\n",
            "Data columns (total 13 columns):\n",
            " #   Column                       Non-Null Count  Dtype         \n",
            "---  ------                       --------------  -----         \n",
            " 0   ID_UNIDADE_GESTORA           14404 non-null  object        \n",
            " 1   NUMERORECEITAORCAMENTARIAUG  14404 non-null  int64         \n",
            " 2   DESCRICAO                    14404 non-null  object        \n",
            " 3   CATEGORIARECEITA             14404 non-null  object        \n",
            " 4   ANOREFERENCIA                14404 non-null  object        \n",
            " 5   MESREFERENCIA                14404 non-null  object        \n",
            " 6   VALORLANCAMENTO              14404 non-null  float64       \n",
            " 7   ESFERA                       14404 non-null  object        \n",
            " 8   ORIGEMRECEITA                14404 non-null  object        \n",
            " 9   DEDUCAORECEITA               14404 non-null  object        \n",
            " 10  ESPECIERECEITA               13005 non-null  object        \n",
            " 11  DESCRICAOFONTE               12508 non-null  object        \n",
            " 12  COMPETENCIA                  14404 non-null  datetime64[ns]\n",
            "dtypes: datetime64[ns](1), float64(1), int64(1), object(10)\n",
            "memory usage: 1.5+ MB\n"
          ]
        }
      ]
    },
    {
      "cell_type": "markdown",
      "source": [
        "## Gravar dados requisitados em um Banco de Dados"
      ],
      "metadata": {
        "id": "-Gt_LmN0upxw"
      }
    },
    {
      "cell_type": "code",
      "source": [
        "base_dados_gravar = base_dados[['COMPETENCIA', 'ANOREFERENCIA', 'ORIGEMRECEITA', 'DEDUCAORECEITA', 'NUMERORECEITAORCAMENTARIAUG', 'DESCRICAO', 'VALORLANCAMENTO']]"
      ],
      "metadata": {
        "id": "Iq_XtfhQmqyo"
      },
      "execution_count": 18,
      "outputs": []
    },
    {
      "cell_type": "code",
      "source": [
        "base_dados_gravar.head()"
      ],
      "metadata": {
        "colab": {
          "base_uri": "https://localhost:8080/",
          "height": 476
        },
        "id": "9RY8x7XcpKHI",
        "outputId": "1de4cf48-c9c6-4b97-b12a-84eaa6b3eaa8"
      },
      "execution_count": 19,
      "outputs": [
        {
          "output_type": "execute_result",
          "data": {
            "text/plain": [
              "  COMPETENCIA ANOREFERENCIA      ORIGEMRECEITA DEDUCAORECEITA  \\\n",
              "0  2012-01-01          2012  Alienação de Bens              9   \n",
              "1  2012-01-01          2012  Alienação de Bens              9   \n",
              "2  2012-01-01          2012  Alienação de Bens              9   \n",
              "3  2012-02-01          2012  Alienação de Bens              9   \n",
              "4  2012-03-01          2012  Alienação de Bens              9   \n",
              "\n",
              "   NUMERORECEITAORCAMENTARIAUG  \\\n",
              "0                    917220101   \n",
              "1                    917220102   \n",
              "2                    917220104   \n",
              "3                    917220104   \n",
              "4                    917220104   \n",
              "\n",
              "                                           DESCRICAO  VALORLANCAMENTO  \n",
              "0             Dedução de Cota-Parte do ICMS - FUNDEB      -4810177.11  \n",
              "1             Dedução de Cota-Parte do IPVA - FUNDEB       -145288.61  \n",
              "2  Dedução de Cota-Parte do IPI sobre Exportação ...         -4222.80  \n",
              "3  Dedução de Cota-Parte do IPI sobre Exportação ...         -8771.62  \n",
              "4  Dedução de Cota-Parte do IPI sobre Exportação ...         -6409.60  "
            ],
            "text/html": [
              "\n",
              "  <div id=\"df-70d7cd4a-8696-479d-9886-a1d5d41a1418\">\n",
              "    <div class=\"colab-df-container\">\n",
              "      <div>\n",
              "<style scoped>\n",
              "    .dataframe tbody tr th:only-of-type {\n",
              "        vertical-align: middle;\n",
              "    }\n",
              "\n",
              "    .dataframe tbody tr th {\n",
              "        vertical-align: top;\n",
              "    }\n",
              "\n",
              "    .dataframe thead th {\n",
              "        text-align: right;\n",
              "    }\n",
              "</style>\n",
              "<table border=\"1\" class=\"dataframe\">\n",
              "  <thead>\n",
              "    <tr style=\"text-align: right;\">\n",
              "      <th></th>\n",
              "      <th>COMPETENCIA</th>\n",
              "      <th>ANOREFERENCIA</th>\n",
              "      <th>ORIGEMRECEITA</th>\n",
              "      <th>DEDUCAORECEITA</th>\n",
              "      <th>NUMERORECEITAORCAMENTARIAUG</th>\n",
              "      <th>DESCRICAO</th>\n",
              "      <th>VALORLANCAMENTO</th>\n",
              "    </tr>\n",
              "  </thead>\n",
              "  <tbody>\n",
              "    <tr>\n",
              "      <th>0</th>\n",
              "      <td>2012-01-01</td>\n",
              "      <td>2012</td>\n",
              "      <td>Alienação de Bens</td>\n",
              "      <td>9</td>\n",
              "      <td>917220101</td>\n",
              "      <td>Dedução de Cota-Parte do ICMS - FUNDEB</td>\n",
              "      <td>-4810177.11</td>\n",
              "    </tr>\n",
              "    <tr>\n",
              "      <th>1</th>\n",
              "      <td>2012-01-01</td>\n",
              "      <td>2012</td>\n",
              "      <td>Alienação de Bens</td>\n",
              "      <td>9</td>\n",
              "      <td>917220102</td>\n",
              "      <td>Dedução de Cota-Parte do IPVA - FUNDEB</td>\n",
              "      <td>-145288.61</td>\n",
              "    </tr>\n",
              "    <tr>\n",
              "      <th>2</th>\n",
              "      <td>2012-01-01</td>\n",
              "      <td>2012</td>\n",
              "      <td>Alienação de Bens</td>\n",
              "      <td>9</td>\n",
              "      <td>917220104</td>\n",
              "      <td>Dedução de Cota-Parte do IPI sobre Exportação ...</td>\n",
              "      <td>-4222.80</td>\n",
              "    </tr>\n",
              "    <tr>\n",
              "      <th>3</th>\n",
              "      <td>2012-02-01</td>\n",
              "      <td>2012</td>\n",
              "      <td>Alienação de Bens</td>\n",
              "      <td>9</td>\n",
              "      <td>917220104</td>\n",
              "      <td>Dedução de Cota-Parte do IPI sobre Exportação ...</td>\n",
              "      <td>-8771.62</td>\n",
              "    </tr>\n",
              "    <tr>\n",
              "      <th>4</th>\n",
              "      <td>2012-03-01</td>\n",
              "      <td>2012</td>\n",
              "      <td>Alienação de Bens</td>\n",
              "      <td>9</td>\n",
              "      <td>917220104</td>\n",
              "      <td>Dedução de Cota-Parte do IPI sobre Exportação ...</td>\n",
              "      <td>-6409.60</td>\n",
              "    </tr>\n",
              "  </tbody>\n",
              "</table>\n",
              "</div>\n",
              "      <button class=\"colab-df-convert\" onclick=\"convertToInteractive('df-70d7cd4a-8696-479d-9886-a1d5d41a1418')\"\n",
              "              title=\"Convert this dataframe to an interactive table.\"\n",
              "              style=\"display:none;\">\n",
              "        \n",
              "  <svg xmlns=\"http://www.w3.org/2000/svg\" height=\"24px\"viewBox=\"0 0 24 24\"\n",
              "       width=\"24px\">\n",
              "    <path d=\"M0 0h24v24H0V0z\" fill=\"none\"/>\n",
              "    <path d=\"M18.56 5.44l.94 2.06.94-2.06 2.06-.94-2.06-.94-.94-2.06-.94 2.06-2.06.94zm-11 1L8.5 8.5l.94-2.06 2.06-.94-2.06-.94L8.5 2.5l-.94 2.06-2.06.94zm10 10l.94 2.06.94-2.06 2.06-.94-2.06-.94-.94-2.06-.94 2.06-2.06.94z\"/><path d=\"M17.41 7.96l-1.37-1.37c-.4-.4-.92-.59-1.43-.59-.52 0-1.04.2-1.43.59L10.3 9.45l-7.72 7.72c-.78.78-.78 2.05 0 2.83L4 21.41c.39.39.9.59 1.41.59.51 0 1.02-.2 1.41-.59l7.78-7.78 2.81-2.81c.8-.78.8-2.07 0-2.86zM5.41 20L4 18.59l7.72-7.72 1.47 1.35L5.41 20z\"/>\n",
              "  </svg>\n",
              "      </button>\n",
              "      \n",
              "  <style>\n",
              "    .colab-df-container {\n",
              "      display:flex;\n",
              "      flex-wrap:wrap;\n",
              "      gap: 12px;\n",
              "    }\n",
              "\n",
              "    .colab-df-convert {\n",
              "      background-color: #E8F0FE;\n",
              "      border: none;\n",
              "      border-radius: 50%;\n",
              "      cursor: pointer;\n",
              "      display: none;\n",
              "      fill: #1967D2;\n",
              "      height: 32px;\n",
              "      padding: 0 0 0 0;\n",
              "      width: 32px;\n",
              "    }\n",
              "\n",
              "    .colab-df-convert:hover {\n",
              "      background-color: #E2EBFA;\n",
              "      box-shadow: 0px 1px 2px rgba(60, 64, 67, 0.3), 0px 1px 3px 1px rgba(60, 64, 67, 0.15);\n",
              "      fill: #174EA6;\n",
              "    }\n",
              "\n",
              "    [theme=dark] .colab-df-convert {\n",
              "      background-color: #3B4455;\n",
              "      fill: #D2E3FC;\n",
              "    }\n",
              "\n",
              "    [theme=dark] .colab-df-convert:hover {\n",
              "      background-color: #434B5C;\n",
              "      box-shadow: 0px 1px 3px 1px rgba(0, 0, 0, 0.15);\n",
              "      filter: drop-shadow(0px 1px 2px rgba(0, 0, 0, 0.3));\n",
              "      fill: #FFFFFF;\n",
              "    }\n",
              "  </style>\n",
              "\n",
              "      <script>\n",
              "        const buttonEl =\n",
              "          document.querySelector('#df-70d7cd4a-8696-479d-9886-a1d5d41a1418 button.colab-df-convert');\n",
              "        buttonEl.style.display =\n",
              "          google.colab.kernel.accessAllowed ? 'block' : 'none';\n",
              "\n",
              "        async function convertToInteractive(key) {\n",
              "          const element = document.querySelector('#df-70d7cd4a-8696-479d-9886-a1d5d41a1418');\n",
              "          const dataTable =\n",
              "            await google.colab.kernel.invokeFunction('convertToInteractive',\n",
              "                                                     [key], {});\n",
              "          if (!dataTable) return;\n",
              "\n",
              "          const docLinkHtml = 'Like what you see? Visit the ' +\n",
              "            '<a target=\"_blank\" href=https://colab.research.google.com/notebooks/data_table.ipynb>data table notebook</a>'\n",
              "            + ' to learn more about interactive tables.';\n",
              "          element.innerHTML = '';\n",
              "          dataTable['output_type'] = 'display_data';\n",
              "          await google.colab.output.renderOutput(dataTable, element);\n",
              "          const docLink = document.createElement('div');\n",
              "          docLink.innerHTML = docLinkHtml;\n",
              "          element.appendChild(docLink);\n",
              "        }\n",
              "      </script>\n",
              "    </div>\n",
              "  </div>\n",
              "  "
            ]
          },
          "metadata": {},
          "execution_count": 19
        }
      ]
    },
    {
      "cell_type": "code",
      "source": [
        "base_dados_gravar.info()"
      ],
      "metadata": {
        "colab": {
          "base_uri": "https://localhost:8080/"
        },
        "id": "D1x7UhIIpOwA",
        "outputId": "223090c5-621e-4e28-c047-945697dca874"
      },
      "execution_count": 20,
      "outputs": [
        {
          "output_type": "stream",
          "name": "stdout",
          "text": [
            "<class 'pandas.core.frame.DataFrame'>\n",
            "Int64Index: 14404 entries, 0 to 14405\n",
            "Data columns (total 7 columns):\n",
            " #   Column                       Non-Null Count  Dtype         \n",
            "---  ------                       --------------  -----         \n",
            " 0   COMPETENCIA                  14404 non-null  datetime64[ns]\n",
            " 1   ANOREFERENCIA                14404 non-null  object        \n",
            " 2   ORIGEMRECEITA                14404 non-null  object        \n",
            " 3   DEDUCAORECEITA               14404 non-null  object        \n",
            " 4   NUMERORECEITAORCAMENTARIAUG  14404 non-null  int64         \n",
            " 5   DESCRICAO                    14404 non-null  object        \n",
            " 6   VALORLANCAMENTO              14404 non-null  float64       \n",
            "dtypes: datetime64[ns](1), float64(1), int64(1), object(4)\n",
            "memory usage: 900.2+ KB\n"
          ]
        }
      ]
    },
    {
      "cell_type": "code",
      "source": [
        "# Transformar data em texto para armazenamento no banco de dados - hipótese de explicação do erro.\n",
        "base_dados_gravar['COMPETENCIA'] = base_dados_gravar['COMPETENCIA'].astype(str)"
      ],
      "metadata": {
        "colab": {
          "base_uri": "https://localhost:8080/"
        },
        "id": "nRWOFutG1yov",
        "outputId": "7f5d256f-f8c2-4d62-9f97-fc57ad405a39"
      },
      "execution_count": 21,
      "outputs": [
        {
          "output_type": "stream",
          "name": "stderr",
          "text": [
            "/usr/local/lib/python3.7/dist-packages/ipykernel_launcher.py:2: SettingWithCopyWarning: \n",
            "A value is trying to be set on a copy of a slice from a DataFrame.\n",
            "Try using .loc[row_indexer,col_indexer] = value instead\n",
            "\n",
            "See the caveats in the documentation: https://pandas.pydata.org/pandas-docs/stable/user_guide/indexing.html#returning-a-view-versus-a-copy\n",
            "  \n"
          ]
        }
      ]
    },
    {
      "cell_type": "code",
      "source": [
        "# Criar conexão\n",
        "con = sqlite3.connect('baseTransferencias.db')\n",
        "\n",
        "# Criar cursor\n",
        "cur = con.cursor()"
      ],
      "metadata": {
        "id": "nZOt6jBGP3zs"
      },
      "execution_count": 22,
      "outputs": []
    },
    {
      "cell_type": "code",
      "source": [
        "#Inserir DE-PARA receitas no banco de dados - Fazer upload do arquivo.\n",
        "receitas_tratadas = pd.read_csv('/content/receitas_tratadas.csv', sep=';', encoding='ISO-8859–1')"
      ],
      "metadata": {
        "id": "-SwL7l9w4CM8"
      },
      "execution_count": 23,
      "outputs": []
    },
    {
      "cell_type": "code",
      "source": [
        "receitas_tratadas.head()"
      ],
      "metadata": {
        "colab": {
          "base_uri": "https://localhost:8080/",
          "height": 302
        },
        "id": "P1cN24zW4CQy",
        "outputId": "3a2b1078-5273-45a8-afaf-77957ba0a16c"
      },
      "execution_count": 24,
      "outputs": [
        {
          "output_type": "execute_result",
          "data": {
            "text/plain": [
              "   NUMERORECEITAORCAMENTARIAUG  \\\n",
              "0                    917220101   \n",
              "1                    917220102   \n",
              "2                    917220104   \n",
              "3                    917230000   \n",
              "4                    917213600   \n",
              "\n",
              "                                           DESCRICAO  \\\n",
              "0             Deducao de Cota-Parte do ICMS - FUNDEB   \n",
              "1             Deducao de Cota-Parte do IPVA - FUNDEB   \n",
              "2  Deducao de Cota-Parte do IPI sobre Exportacao ...   \n",
              "3           Deducao de Transferencias dos Municipios   \n",
              "4  Deducao de Transferencia Financeira do ICMS De...   \n",
              "\n",
              "              CLASSIFICACAO_SEREC     DETALHAMENTO  \n",
              "0                            ICMS   DEDUCAO FUNDEB  \n",
              "1                            IPVA   DEDUCAO FUNDEB  \n",
              "2                  IPI ExportaCAo   DEDUCAO FUNDEB  \n",
              "3           OUTRAS TRANSFERENCIAS  OUTRAS DEDUCOES  \n",
              "4  ICMS DesoneraCAo L.C. Nº 87.96   DEDUCAO FUNDEB  "
            ],
            "text/html": [
              "\n",
              "  <div id=\"df-ab601e56-c597-4058-a11e-8ff23e57d2a0\">\n",
              "    <div class=\"colab-df-container\">\n",
              "      <div>\n",
              "<style scoped>\n",
              "    .dataframe tbody tr th:only-of-type {\n",
              "        vertical-align: middle;\n",
              "    }\n",
              "\n",
              "    .dataframe tbody tr th {\n",
              "        vertical-align: top;\n",
              "    }\n",
              "\n",
              "    .dataframe thead th {\n",
              "        text-align: right;\n",
              "    }\n",
              "</style>\n",
              "<table border=\"1\" class=\"dataframe\">\n",
              "  <thead>\n",
              "    <tr style=\"text-align: right;\">\n",
              "      <th></th>\n",
              "      <th>NUMERORECEITAORCAMENTARIAUG</th>\n",
              "      <th>DESCRICAO</th>\n",
              "      <th>CLASSIFICACAO_SEREC</th>\n",
              "      <th>DETALHAMENTO</th>\n",
              "    </tr>\n",
              "  </thead>\n",
              "  <tbody>\n",
              "    <tr>\n",
              "      <th>0</th>\n",
              "      <td>917220101</td>\n",
              "      <td>Deducao de Cota-Parte do ICMS - FUNDEB</td>\n",
              "      <td>ICMS</td>\n",
              "      <td>DEDUCAO FUNDEB</td>\n",
              "    </tr>\n",
              "    <tr>\n",
              "      <th>1</th>\n",
              "      <td>917220102</td>\n",
              "      <td>Deducao de Cota-Parte do IPVA - FUNDEB</td>\n",
              "      <td>IPVA</td>\n",
              "      <td>DEDUCAO FUNDEB</td>\n",
              "    </tr>\n",
              "    <tr>\n",
              "      <th>2</th>\n",
              "      <td>917220104</td>\n",
              "      <td>Deducao de Cota-Parte do IPI sobre Exportacao ...</td>\n",
              "      <td>IPI ExportaCAo</td>\n",
              "      <td>DEDUCAO FUNDEB</td>\n",
              "    </tr>\n",
              "    <tr>\n",
              "      <th>3</th>\n",
              "      <td>917230000</td>\n",
              "      <td>Deducao de Transferencias dos Municipios</td>\n",
              "      <td>OUTRAS TRANSFERENCIAS</td>\n",
              "      <td>OUTRAS DEDUCOES</td>\n",
              "    </tr>\n",
              "    <tr>\n",
              "      <th>4</th>\n",
              "      <td>917213600</td>\n",
              "      <td>Deducao de Transferencia Financeira do ICMS De...</td>\n",
              "      <td>ICMS DesoneraCAo L.C. Nº 87.96</td>\n",
              "      <td>DEDUCAO FUNDEB</td>\n",
              "    </tr>\n",
              "  </tbody>\n",
              "</table>\n",
              "</div>\n",
              "      <button class=\"colab-df-convert\" onclick=\"convertToInteractive('df-ab601e56-c597-4058-a11e-8ff23e57d2a0')\"\n",
              "              title=\"Convert this dataframe to an interactive table.\"\n",
              "              style=\"display:none;\">\n",
              "        \n",
              "  <svg xmlns=\"http://www.w3.org/2000/svg\" height=\"24px\"viewBox=\"0 0 24 24\"\n",
              "       width=\"24px\">\n",
              "    <path d=\"M0 0h24v24H0V0z\" fill=\"none\"/>\n",
              "    <path d=\"M18.56 5.44l.94 2.06.94-2.06 2.06-.94-2.06-.94-.94-2.06-.94 2.06-2.06.94zm-11 1L8.5 8.5l.94-2.06 2.06-.94-2.06-.94L8.5 2.5l-.94 2.06-2.06.94zm10 10l.94 2.06.94-2.06 2.06-.94-2.06-.94-.94-2.06-.94 2.06-2.06.94z\"/><path d=\"M17.41 7.96l-1.37-1.37c-.4-.4-.92-.59-1.43-.59-.52 0-1.04.2-1.43.59L10.3 9.45l-7.72 7.72c-.78.78-.78 2.05 0 2.83L4 21.41c.39.39.9.59 1.41.59.51 0 1.02-.2 1.41-.59l7.78-7.78 2.81-2.81c.8-.78.8-2.07 0-2.86zM5.41 20L4 18.59l7.72-7.72 1.47 1.35L5.41 20z\"/>\n",
              "  </svg>\n",
              "      </button>\n",
              "      \n",
              "  <style>\n",
              "    .colab-df-container {\n",
              "      display:flex;\n",
              "      flex-wrap:wrap;\n",
              "      gap: 12px;\n",
              "    }\n",
              "\n",
              "    .colab-df-convert {\n",
              "      background-color: #E8F0FE;\n",
              "      border: none;\n",
              "      border-radius: 50%;\n",
              "      cursor: pointer;\n",
              "      display: none;\n",
              "      fill: #1967D2;\n",
              "      height: 32px;\n",
              "      padding: 0 0 0 0;\n",
              "      width: 32px;\n",
              "    }\n",
              "\n",
              "    .colab-df-convert:hover {\n",
              "      background-color: #E2EBFA;\n",
              "      box-shadow: 0px 1px 2px rgba(60, 64, 67, 0.3), 0px 1px 3px 1px rgba(60, 64, 67, 0.15);\n",
              "      fill: #174EA6;\n",
              "    }\n",
              "\n",
              "    [theme=dark] .colab-df-convert {\n",
              "      background-color: #3B4455;\n",
              "      fill: #D2E3FC;\n",
              "    }\n",
              "\n",
              "    [theme=dark] .colab-df-convert:hover {\n",
              "      background-color: #434B5C;\n",
              "      box-shadow: 0px 1px 3px 1px rgba(0, 0, 0, 0.15);\n",
              "      filter: drop-shadow(0px 1px 2px rgba(0, 0, 0, 0.3));\n",
              "      fill: #FFFFFF;\n",
              "    }\n",
              "  </style>\n",
              "\n",
              "      <script>\n",
              "        const buttonEl =\n",
              "          document.querySelector('#df-ab601e56-c597-4058-a11e-8ff23e57d2a0 button.colab-df-convert');\n",
              "        buttonEl.style.display =\n",
              "          google.colab.kernel.accessAllowed ? 'block' : 'none';\n",
              "\n",
              "        async function convertToInteractive(key) {\n",
              "          const element = document.querySelector('#df-ab601e56-c597-4058-a11e-8ff23e57d2a0');\n",
              "          const dataTable =\n",
              "            await google.colab.kernel.invokeFunction('convertToInteractive',\n",
              "                                                     [key], {});\n",
              "          if (!dataTable) return;\n",
              "\n",
              "          const docLinkHtml = 'Like what you see? Visit the ' +\n",
              "            '<a target=\"_blank\" href=https://colab.research.google.com/notebooks/data_table.ipynb>data table notebook</a>'\n",
              "            + ' to learn more about interactive tables.';\n",
              "          element.innerHTML = '';\n",
              "          dataTable['output_type'] = 'display_data';\n",
              "          await google.colab.output.renderOutput(dataTable, element);\n",
              "          const docLink = document.createElement('div');\n",
              "          docLink.innerHTML = docLinkHtml;\n",
              "          element.appendChild(docLink);\n",
              "        }\n",
              "      </script>\n",
              "    </div>\n",
              "  </div>\n",
              "  "
            ]
          },
          "metadata": {},
          "execution_count": 24
        }
      ]
    },
    {
      "cell_type": "code",
      "source": [
        "#Criar tabela auxiliar\n",
        "cur.execute('''CREATE TABLE receitasDePara\n",
        "               (numeroReceitaOrcamentariaUG_2 text,\n",
        "               classificacaoSerec text,\n",
        "               detalhamento text\n",
        "               )\n",
        "               ''')"
      ],
      "metadata": {
        "colab": {
          "base_uri": "https://localhost:8080/"
        },
        "id": "4o9f9x8I_ohC",
        "outputId": "8bf09aa0-b54f-49bb-ed0f-06a1755330b8"
      },
      "execution_count": 25,
      "outputs": [
        {
          "output_type": "execute_result",
          "data": {
            "text/plain": [
              "<sqlite3.Cursor at 0x7ff1a2130180>"
            ]
          },
          "metadata": {},
          "execution_count": 25
        }
      ]
    },
    {
      "cell_type": "code",
      "source": [
        "#Inserir dados na tabela\n",
        "receitas_tratadas_normalizadas = receitas_tratadas[['NUMERORECEITAORCAMENTARIAUG',\t\n",
        "                                                    'CLASSIFICACAO_SEREC', \n",
        "                                                    'DETALHAMENTO']]\n",
        "receitas_tratadas_lista = receitas_tratadas_normalizadas.values.tolist()\n",
        "\n",
        "try:\n",
        "  cur.executemany(\"INSERT INTO receitasDePara (numeroReceitaOrcamentariaUG_2, classificacaoSerec, detalhamento) VALUES (?, ?, ?)\", receitas_tratadas_lista)\n",
        "  con.commit()\n",
        "  print(\"Dados inseridos com sucesso.\")\n",
        "except Exception as e:\n",
        "  print(str(e))\n",
        "  print(\"Falha na inserção de dados.\")\n",
        "finally:\n",
        "  pass"
      ],
      "metadata": {
        "colab": {
          "base_uri": "https://localhost:8080/"
        },
        "id": "l4zDrY76BQ-S",
        "outputId": "153ac8a7-8a0e-47ef-8c41-b2adb17851bd"
      },
      "execution_count": 26,
      "outputs": [
        {
          "output_type": "stream",
          "name": "stdout",
          "text": [
            "Dados inseridos com sucesso.\n"
          ]
        }
      ]
    },
    {
      "cell_type": "code",
      "source": [
        "#Criar tabela principal\n",
        "cur.execute('''CREATE TABLE transferencias\n",
        "               (data text,\n",
        "               ano text,\n",
        "               origemReceita text, \n",
        "               deducaoReceita text,\n",
        "               numeroReceitaOrcamentariaUG text,\n",
        "               descricao text,\n",
        "               valor real,\n",
        "               FOREIGN KEY (numeroReceitaOrcamentariaUG) REFERENCES receitaDePara(numeroReceitaOrcamentariaUG_2))\n",
        "               ''')"
      ],
      "metadata": {
        "colab": {
          "base_uri": "https://localhost:8080/"
        },
        "id": "D_Fm4J8ys8-c",
        "outputId": "e9114f98-37cf-4e63-f08d-b05d7aca24c1"
      },
      "execution_count": 27,
      "outputs": [
        {
          "output_type": "execute_result",
          "data": {
            "text/plain": [
              "<sqlite3.Cursor at 0x7ff1a2130180>"
            ]
          },
          "metadata": {},
          "execution_count": 27
        }
      ]
    },
    {
      "cell_type": "code",
      "source": [
        "#Inserir dados na tabela\n",
        "base_dados_lista = base_dados_gravar.values.tolist()\n",
        "\n",
        "try:\n",
        "  cur.executemany(\"INSERT INTO transferencias (data, ano, origemReceita, deducaoReceita, numeroReceitaOrcamentariaUG, descricao, valor) VALUES (?, ?, ?, ?, ?, ?, ?)\", base_dados_lista)\n",
        "  con.commit()\n",
        "  print(\"Dados inseridos com sucesso.\")\n",
        "except Exception as e:\n",
        "  print(str(e))\n",
        "  print(\"Falha na inserção de dados.\")\n",
        "finally:\n",
        "  con.close()"
      ],
      "metadata": {
        "colab": {
          "base_uri": "https://localhost:8080/"
        },
        "id": "wNX7gw4g0GzH",
        "outputId": "b8e9a65d-9c85-4b82-9588-fff94334abc7"
      },
      "execution_count": 28,
      "outputs": [
        {
          "output_type": "stream",
          "name": "stdout",
          "text": [
            "Dados inseridos com sucesso.\n"
          ]
        }
      ]
    },
    {
      "cell_type": "markdown",
      "source": [
        "# ETAPA 02 - Organização dos dados para Previsão anual"
      ],
      "metadata": {
        "id": "g6VbiBGAEkEm"
      }
    },
    {
      "cell_type": "markdown",
      "source": [
        "## Salvar tabelas em variáveis"
      ],
      "metadata": {
        "id": "QCzom8xmEwWp"
      }
    },
    {
      "cell_type": "code",
      "source": [
        "# Criar nova conexão e consultar tabelas gravadas no Banco de dados \n",
        "con = sqlite3.connect('baseTransferencias.db')\n",
        "cur = con.cursor()"
      ],
      "metadata": {
        "id": "s9vjmi-o0Day"
      },
      "execution_count": 53,
      "outputs": []
    },
    {
      "cell_type": "code",
      "source": [
        "# Tabela Principal\n",
        "cur.execute(\"SELECT * FROM transferencias\")\n",
        "tabela_principal = cur.fetchall()\n",
        "tabela_principal = pd.DataFrame(tabela_principal)\n",
        "tabela_principal.columns = base_dados_gravar.columns"
      ],
      "metadata": {
        "id": "dUIMBjntHQx-"
      },
      "execution_count": 54,
      "outputs": []
    },
    {
      "cell_type": "code",
      "source": [
        "# Tabela Auxiliar\n",
        "cur.execute(\"SELECT * FROM receitasDePara\")\n",
        "tabela_auxiliar = cur.fetchall()\n",
        "tabela_auxiliar = pd.DataFrame(tabela_auxiliar)\n",
        "tabela_auxiliar.columns = receitas_tratadas_normalizadas.columns"
      ],
      "metadata": {
        "id": "S0kyiC2bHl31"
      },
      "execution_count": 55,
      "outputs": []
    },
    {
      "cell_type": "code",
      "source": [
        "tabela_principal"
      ],
      "metadata": {
        "colab": {
          "base_uri": "https://localhost:8080/",
          "height": 0
        },
        "id": "PpCz-y03IE_n",
        "outputId": "1e5fd5b7-19b2-4f5b-a322-278cbd2a2459"
      },
      "execution_count": 56,
      "outputs": [
        {
          "output_type": "execute_result",
          "data": {
            "text/plain": [
              "      COMPETENCIA ANOREFERENCIA              ORIGEMRECEITA DEDUCAORECEITA  \\\n",
              "0      2012-01-01          2012          Alienação de Bens              9   \n",
              "1      2012-01-01          2012          Alienação de Bens              9   \n",
              "2      2012-01-01          2012          Alienação de Bens              9   \n",
              "3      2012-02-01          2012          Alienação de Bens              9   \n",
              "4      2012-03-01          2012          Alienação de Bens              9   \n",
              "...           ...           ...                        ...            ...   \n",
              "14399  2022-02-01          2022  Transferências de Capital              0   \n",
              "14400  2022-04-01          2022  Transferências de Capital              0   \n",
              "14401  2022-05-01          2022  Transferências de Capital              0   \n",
              "14402  2022-05-01          2022  Transferências de Capital              0   \n",
              "14403  2022-06-01          2022  Transferências de Capital              0   \n",
              "\n",
              "      NUMERORECEITAORCAMENTARIAUG  \\\n",
              "0                       917220101   \n",
              "1                       917220102   \n",
              "2                       917220104   \n",
              "3                       917220104   \n",
              "4                       917220104   \n",
              "...                           ...   \n",
              "14399                    24115031   \n",
              "14400                    24115091   \n",
              "14401                    24115091   \n",
              "14402                    24115040   \n",
              "14403                    24115031   \n",
              "\n",
              "                                               DESCRICAO  VALORLANCAMENTO  \n",
              "0                 Dedução de Cota-Parte do ICMS - FUNDEB      -4810177.11  \n",
              "1                 Dedução de Cota-Parte do IPVA - FUNDEB       -145288.61  \n",
              "2      Dedução de Cota-Parte do IPI sobre Exportação ...         -4222.80  \n",
              "3      Dedução de Cota-Parte do IPI sobre Exportação ...         -8771.62  \n",
              "4      Dedução de Cota-Parte do IPI sobre Exportação ...         -6409.60  \n",
              "...                                                  ...              ...  \n",
              "14399  Transfer?ncias de Recursos do Bloco de Manuten...      -3292391.42  \n",
              "14400  Transfer?ncias de Recursos do Bloco de Manuten...      -1837875.59  \n",
              "14401  Transfer?ncias de Recursos do Bloco de Manuten...       -980920.62  \n",
              "14402  Transfer?ncias de Recursos do Bloco de Manuten...           -79.49  \n",
              "14403  Transfer?ncias de Recursos do Bloco de Manuten...      -2462623.39  \n",
              "\n",
              "[14404 rows x 7 columns]"
            ],
            "text/html": [
              "\n",
              "  <div id=\"df-da1c346f-4ebe-4e18-bbf1-d7ec687c319a\">\n",
              "    <div class=\"colab-df-container\">\n",
              "      <div>\n",
              "<style scoped>\n",
              "    .dataframe tbody tr th:only-of-type {\n",
              "        vertical-align: middle;\n",
              "    }\n",
              "\n",
              "    .dataframe tbody tr th {\n",
              "        vertical-align: top;\n",
              "    }\n",
              "\n",
              "    .dataframe thead th {\n",
              "        text-align: right;\n",
              "    }\n",
              "</style>\n",
              "<table border=\"1\" class=\"dataframe\">\n",
              "  <thead>\n",
              "    <tr style=\"text-align: right;\">\n",
              "      <th></th>\n",
              "      <th>COMPETENCIA</th>\n",
              "      <th>ANOREFERENCIA</th>\n",
              "      <th>ORIGEMRECEITA</th>\n",
              "      <th>DEDUCAORECEITA</th>\n",
              "      <th>NUMERORECEITAORCAMENTARIAUG</th>\n",
              "      <th>DESCRICAO</th>\n",
              "      <th>VALORLANCAMENTO</th>\n",
              "    </tr>\n",
              "  </thead>\n",
              "  <tbody>\n",
              "    <tr>\n",
              "      <th>0</th>\n",
              "      <td>2012-01-01</td>\n",
              "      <td>2012</td>\n",
              "      <td>Alienação de Bens</td>\n",
              "      <td>9</td>\n",
              "      <td>917220101</td>\n",
              "      <td>Dedução de Cota-Parte do ICMS - FUNDEB</td>\n",
              "      <td>-4810177.11</td>\n",
              "    </tr>\n",
              "    <tr>\n",
              "      <th>1</th>\n",
              "      <td>2012-01-01</td>\n",
              "      <td>2012</td>\n",
              "      <td>Alienação de Bens</td>\n",
              "      <td>9</td>\n",
              "      <td>917220102</td>\n",
              "      <td>Dedução de Cota-Parte do IPVA - FUNDEB</td>\n",
              "      <td>-145288.61</td>\n",
              "    </tr>\n",
              "    <tr>\n",
              "      <th>2</th>\n",
              "      <td>2012-01-01</td>\n",
              "      <td>2012</td>\n",
              "      <td>Alienação de Bens</td>\n",
              "      <td>9</td>\n",
              "      <td>917220104</td>\n",
              "      <td>Dedução de Cota-Parte do IPI sobre Exportação ...</td>\n",
              "      <td>-4222.80</td>\n",
              "    </tr>\n",
              "    <tr>\n",
              "      <th>3</th>\n",
              "      <td>2012-02-01</td>\n",
              "      <td>2012</td>\n",
              "      <td>Alienação de Bens</td>\n",
              "      <td>9</td>\n",
              "      <td>917220104</td>\n",
              "      <td>Dedução de Cota-Parte do IPI sobre Exportação ...</td>\n",
              "      <td>-8771.62</td>\n",
              "    </tr>\n",
              "    <tr>\n",
              "      <th>4</th>\n",
              "      <td>2012-03-01</td>\n",
              "      <td>2012</td>\n",
              "      <td>Alienação de Bens</td>\n",
              "      <td>9</td>\n",
              "      <td>917220104</td>\n",
              "      <td>Dedução de Cota-Parte do IPI sobre Exportação ...</td>\n",
              "      <td>-6409.60</td>\n",
              "    </tr>\n",
              "    <tr>\n",
              "      <th>...</th>\n",
              "      <td>...</td>\n",
              "      <td>...</td>\n",
              "      <td>...</td>\n",
              "      <td>...</td>\n",
              "      <td>...</td>\n",
              "      <td>...</td>\n",
              "      <td>...</td>\n",
              "    </tr>\n",
              "    <tr>\n",
              "      <th>14399</th>\n",
              "      <td>2022-02-01</td>\n",
              "      <td>2022</td>\n",
              "      <td>Transferências de Capital</td>\n",
              "      <td>0</td>\n",
              "      <td>24115031</td>\n",
              "      <td>Transfer?ncias de Recursos do Bloco de Manuten...</td>\n",
              "      <td>-3292391.42</td>\n",
              "    </tr>\n",
              "    <tr>\n",
              "      <th>14400</th>\n",
              "      <td>2022-04-01</td>\n",
              "      <td>2022</td>\n",
              "      <td>Transferências de Capital</td>\n",
              "      <td>0</td>\n",
              "      <td>24115091</td>\n",
              "      <td>Transfer?ncias de Recursos do Bloco de Manuten...</td>\n",
              "      <td>-1837875.59</td>\n",
              "    </tr>\n",
              "    <tr>\n",
              "      <th>14401</th>\n",
              "      <td>2022-05-01</td>\n",
              "      <td>2022</td>\n",
              "      <td>Transferências de Capital</td>\n",
              "      <td>0</td>\n",
              "      <td>24115091</td>\n",
              "      <td>Transfer?ncias de Recursos do Bloco de Manuten...</td>\n",
              "      <td>-980920.62</td>\n",
              "    </tr>\n",
              "    <tr>\n",
              "      <th>14402</th>\n",
              "      <td>2022-05-01</td>\n",
              "      <td>2022</td>\n",
              "      <td>Transferências de Capital</td>\n",
              "      <td>0</td>\n",
              "      <td>24115040</td>\n",
              "      <td>Transfer?ncias de Recursos do Bloco de Manuten...</td>\n",
              "      <td>-79.49</td>\n",
              "    </tr>\n",
              "    <tr>\n",
              "      <th>14403</th>\n",
              "      <td>2022-06-01</td>\n",
              "      <td>2022</td>\n",
              "      <td>Transferências de Capital</td>\n",
              "      <td>0</td>\n",
              "      <td>24115031</td>\n",
              "      <td>Transfer?ncias de Recursos do Bloco de Manuten...</td>\n",
              "      <td>-2462623.39</td>\n",
              "    </tr>\n",
              "  </tbody>\n",
              "</table>\n",
              "<p>14404 rows × 7 columns</p>\n",
              "</div>\n",
              "      <button class=\"colab-df-convert\" onclick=\"convertToInteractive('df-da1c346f-4ebe-4e18-bbf1-d7ec687c319a')\"\n",
              "              title=\"Convert this dataframe to an interactive table.\"\n",
              "              style=\"display:none;\">\n",
              "        \n",
              "  <svg xmlns=\"http://www.w3.org/2000/svg\" height=\"24px\"viewBox=\"0 0 24 24\"\n",
              "       width=\"24px\">\n",
              "    <path d=\"M0 0h24v24H0V0z\" fill=\"none\"/>\n",
              "    <path d=\"M18.56 5.44l.94 2.06.94-2.06 2.06-.94-2.06-.94-.94-2.06-.94 2.06-2.06.94zm-11 1L8.5 8.5l.94-2.06 2.06-.94-2.06-.94L8.5 2.5l-.94 2.06-2.06.94zm10 10l.94 2.06.94-2.06 2.06-.94-2.06-.94-.94-2.06-.94 2.06-2.06.94z\"/><path d=\"M17.41 7.96l-1.37-1.37c-.4-.4-.92-.59-1.43-.59-.52 0-1.04.2-1.43.59L10.3 9.45l-7.72 7.72c-.78.78-.78 2.05 0 2.83L4 21.41c.39.39.9.59 1.41.59.51 0 1.02-.2 1.41-.59l7.78-7.78 2.81-2.81c.8-.78.8-2.07 0-2.86zM5.41 20L4 18.59l7.72-7.72 1.47 1.35L5.41 20z\"/>\n",
              "  </svg>\n",
              "      </button>\n",
              "      \n",
              "  <style>\n",
              "    .colab-df-container {\n",
              "      display:flex;\n",
              "      flex-wrap:wrap;\n",
              "      gap: 12px;\n",
              "    }\n",
              "\n",
              "    .colab-df-convert {\n",
              "      background-color: #E8F0FE;\n",
              "      border: none;\n",
              "      border-radius: 50%;\n",
              "      cursor: pointer;\n",
              "      display: none;\n",
              "      fill: #1967D2;\n",
              "      height: 32px;\n",
              "      padding: 0 0 0 0;\n",
              "      width: 32px;\n",
              "    }\n",
              "\n",
              "    .colab-df-convert:hover {\n",
              "      background-color: #E2EBFA;\n",
              "      box-shadow: 0px 1px 2px rgba(60, 64, 67, 0.3), 0px 1px 3px 1px rgba(60, 64, 67, 0.15);\n",
              "      fill: #174EA6;\n",
              "    }\n",
              "\n",
              "    [theme=dark] .colab-df-convert {\n",
              "      background-color: #3B4455;\n",
              "      fill: #D2E3FC;\n",
              "    }\n",
              "\n",
              "    [theme=dark] .colab-df-convert:hover {\n",
              "      background-color: #434B5C;\n",
              "      box-shadow: 0px 1px 3px 1px rgba(0, 0, 0, 0.15);\n",
              "      filter: drop-shadow(0px 1px 2px rgba(0, 0, 0, 0.3));\n",
              "      fill: #FFFFFF;\n",
              "    }\n",
              "  </style>\n",
              "\n",
              "      <script>\n",
              "        const buttonEl =\n",
              "          document.querySelector('#df-da1c346f-4ebe-4e18-bbf1-d7ec687c319a button.colab-df-convert');\n",
              "        buttonEl.style.display =\n",
              "          google.colab.kernel.accessAllowed ? 'block' : 'none';\n",
              "\n",
              "        async function convertToInteractive(key) {\n",
              "          const element = document.querySelector('#df-da1c346f-4ebe-4e18-bbf1-d7ec687c319a');\n",
              "          const dataTable =\n",
              "            await google.colab.kernel.invokeFunction('convertToInteractive',\n",
              "                                                     [key], {});\n",
              "          if (!dataTable) return;\n",
              "\n",
              "          const docLinkHtml = 'Like what you see? Visit the ' +\n",
              "            '<a target=\"_blank\" href=https://colab.research.google.com/notebooks/data_table.ipynb>data table notebook</a>'\n",
              "            + ' to learn more about interactive tables.';\n",
              "          element.innerHTML = '';\n",
              "          dataTable['output_type'] = 'display_data';\n",
              "          await google.colab.output.renderOutput(dataTable, element);\n",
              "          const docLink = document.createElement('div');\n",
              "          docLink.innerHTML = docLinkHtml;\n",
              "          element.appendChild(docLink);\n",
              "        }\n",
              "      </script>\n",
              "    </div>\n",
              "  </div>\n",
              "  "
            ]
          },
          "metadata": {},
          "execution_count": 56
        }
      ]
    },
    {
      "cell_type": "code",
      "source": [
        "tabela_auxiliar"
      ],
      "metadata": {
        "colab": {
          "base_uri": "https://localhost:8080/",
          "height": 0
        },
        "id": "AxJ4lVHAIE2f",
        "outputId": "3a1bfecf-36bc-4dd6-8fb8-0d7f31c0887b"
      },
      "execution_count": 57,
      "outputs": [
        {
          "output_type": "execute_result",
          "data": {
            "text/plain": [
              "    NUMERORECEITAORCAMENTARIAUG             CLASSIFICACAO_SEREC  \\\n",
              "0                     917220101                            ICMS   \n",
              "1                     917220102                            IPVA   \n",
              "2                     917220104                  IPI ExportaCAo   \n",
              "3                     917230000           OUTRAS TRANSFERENCIAS   \n",
              "4                     917213600  ICMS DesoneraCAo L.C. Nº 87.96   \n",
              "..                          ...                             ...   \n",
              "287                    17149901                            None   \n",
              "288                    17165011                            None   \n",
              "289                    13110203                            None   \n",
              "290                    17179901                            None   \n",
              "291                    21199901                            None   \n",
              "\n",
              "        DETALHAMENTO  \n",
              "0     DEDUCAO FUNDEB  \n",
              "1     DEDUCAO FUNDEB  \n",
              "2     DEDUCAO FUNDEB  \n",
              "3    OUTRAS DEDUCOES  \n",
              "4     DEDUCAO FUNDEB  \n",
              "..               ...  \n",
              "287             None  \n",
              "288             None  \n",
              "289             None  \n",
              "290             None  \n",
              "291             None  \n",
              "\n",
              "[292 rows x 3 columns]"
            ],
            "text/html": [
              "\n",
              "  <div id=\"df-c1bd8066-3665-497f-9ae4-0bacc26f4629\">\n",
              "    <div class=\"colab-df-container\">\n",
              "      <div>\n",
              "<style scoped>\n",
              "    .dataframe tbody tr th:only-of-type {\n",
              "        vertical-align: middle;\n",
              "    }\n",
              "\n",
              "    .dataframe tbody tr th {\n",
              "        vertical-align: top;\n",
              "    }\n",
              "\n",
              "    .dataframe thead th {\n",
              "        text-align: right;\n",
              "    }\n",
              "</style>\n",
              "<table border=\"1\" class=\"dataframe\">\n",
              "  <thead>\n",
              "    <tr style=\"text-align: right;\">\n",
              "      <th></th>\n",
              "      <th>NUMERORECEITAORCAMENTARIAUG</th>\n",
              "      <th>CLASSIFICACAO_SEREC</th>\n",
              "      <th>DETALHAMENTO</th>\n",
              "    </tr>\n",
              "  </thead>\n",
              "  <tbody>\n",
              "    <tr>\n",
              "      <th>0</th>\n",
              "      <td>917220101</td>\n",
              "      <td>ICMS</td>\n",
              "      <td>DEDUCAO FUNDEB</td>\n",
              "    </tr>\n",
              "    <tr>\n",
              "      <th>1</th>\n",
              "      <td>917220102</td>\n",
              "      <td>IPVA</td>\n",
              "      <td>DEDUCAO FUNDEB</td>\n",
              "    </tr>\n",
              "    <tr>\n",
              "      <th>2</th>\n",
              "      <td>917220104</td>\n",
              "      <td>IPI ExportaCAo</td>\n",
              "      <td>DEDUCAO FUNDEB</td>\n",
              "    </tr>\n",
              "    <tr>\n",
              "      <th>3</th>\n",
              "      <td>917230000</td>\n",
              "      <td>OUTRAS TRANSFERENCIAS</td>\n",
              "      <td>OUTRAS DEDUCOES</td>\n",
              "    </tr>\n",
              "    <tr>\n",
              "      <th>4</th>\n",
              "      <td>917213600</td>\n",
              "      <td>ICMS DesoneraCAo L.C. Nº 87.96</td>\n",
              "      <td>DEDUCAO FUNDEB</td>\n",
              "    </tr>\n",
              "    <tr>\n",
              "      <th>...</th>\n",
              "      <td>...</td>\n",
              "      <td>...</td>\n",
              "      <td>...</td>\n",
              "    </tr>\n",
              "    <tr>\n",
              "      <th>287</th>\n",
              "      <td>17149901</td>\n",
              "      <td>None</td>\n",
              "      <td>None</td>\n",
              "    </tr>\n",
              "    <tr>\n",
              "      <th>288</th>\n",
              "      <td>17165011</td>\n",
              "      <td>None</td>\n",
              "      <td>None</td>\n",
              "    </tr>\n",
              "    <tr>\n",
              "      <th>289</th>\n",
              "      <td>13110203</td>\n",
              "      <td>None</td>\n",
              "      <td>None</td>\n",
              "    </tr>\n",
              "    <tr>\n",
              "      <th>290</th>\n",
              "      <td>17179901</td>\n",
              "      <td>None</td>\n",
              "      <td>None</td>\n",
              "    </tr>\n",
              "    <tr>\n",
              "      <th>291</th>\n",
              "      <td>21199901</td>\n",
              "      <td>None</td>\n",
              "      <td>None</td>\n",
              "    </tr>\n",
              "  </tbody>\n",
              "</table>\n",
              "<p>292 rows × 3 columns</p>\n",
              "</div>\n",
              "      <button class=\"colab-df-convert\" onclick=\"convertToInteractive('df-c1bd8066-3665-497f-9ae4-0bacc26f4629')\"\n",
              "              title=\"Convert this dataframe to an interactive table.\"\n",
              "              style=\"display:none;\">\n",
              "        \n",
              "  <svg xmlns=\"http://www.w3.org/2000/svg\" height=\"24px\"viewBox=\"0 0 24 24\"\n",
              "       width=\"24px\">\n",
              "    <path d=\"M0 0h24v24H0V0z\" fill=\"none\"/>\n",
              "    <path d=\"M18.56 5.44l.94 2.06.94-2.06 2.06-.94-2.06-.94-.94-2.06-.94 2.06-2.06.94zm-11 1L8.5 8.5l.94-2.06 2.06-.94-2.06-.94L8.5 2.5l-.94 2.06-2.06.94zm10 10l.94 2.06.94-2.06 2.06-.94-2.06-.94-.94-2.06-.94 2.06-2.06.94z\"/><path d=\"M17.41 7.96l-1.37-1.37c-.4-.4-.92-.59-1.43-.59-.52 0-1.04.2-1.43.59L10.3 9.45l-7.72 7.72c-.78.78-.78 2.05 0 2.83L4 21.41c.39.39.9.59 1.41.59.51 0 1.02-.2 1.41-.59l7.78-7.78 2.81-2.81c.8-.78.8-2.07 0-2.86zM5.41 20L4 18.59l7.72-7.72 1.47 1.35L5.41 20z\"/>\n",
              "  </svg>\n",
              "      </button>\n",
              "      \n",
              "  <style>\n",
              "    .colab-df-container {\n",
              "      display:flex;\n",
              "      flex-wrap:wrap;\n",
              "      gap: 12px;\n",
              "    }\n",
              "\n",
              "    .colab-df-convert {\n",
              "      background-color: #E8F0FE;\n",
              "      border: none;\n",
              "      border-radius: 50%;\n",
              "      cursor: pointer;\n",
              "      display: none;\n",
              "      fill: #1967D2;\n",
              "      height: 32px;\n",
              "      padding: 0 0 0 0;\n",
              "      width: 32px;\n",
              "    }\n",
              "\n",
              "    .colab-df-convert:hover {\n",
              "      background-color: #E2EBFA;\n",
              "      box-shadow: 0px 1px 2px rgba(60, 64, 67, 0.3), 0px 1px 3px 1px rgba(60, 64, 67, 0.15);\n",
              "      fill: #174EA6;\n",
              "    }\n",
              "\n",
              "    [theme=dark] .colab-df-convert {\n",
              "      background-color: #3B4455;\n",
              "      fill: #D2E3FC;\n",
              "    }\n",
              "\n",
              "    [theme=dark] .colab-df-convert:hover {\n",
              "      background-color: #434B5C;\n",
              "      box-shadow: 0px 1px 3px 1px rgba(0, 0, 0, 0.15);\n",
              "      filter: drop-shadow(0px 1px 2px rgba(0, 0, 0, 0.3));\n",
              "      fill: #FFFFFF;\n",
              "    }\n",
              "  </style>\n",
              "\n",
              "      <script>\n",
              "        const buttonEl =\n",
              "          document.querySelector('#df-c1bd8066-3665-497f-9ae4-0bacc26f4629 button.colab-df-convert');\n",
              "        buttonEl.style.display =\n",
              "          google.colab.kernel.accessAllowed ? 'block' : 'none';\n",
              "\n",
              "        async function convertToInteractive(key) {\n",
              "          const element = document.querySelector('#df-c1bd8066-3665-497f-9ae4-0bacc26f4629');\n",
              "          const dataTable =\n",
              "            await google.colab.kernel.invokeFunction('convertToInteractive',\n",
              "                                                     [key], {});\n",
              "          if (!dataTable) return;\n",
              "\n",
              "          const docLinkHtml = 'Like what you see? Visit the ' +\n",
              "            '<a target=\"_blank\" href=https://colab.research.google.com/notebooks/data_table.ipynb>data table notebook</a>'\n",
              "            + ' to learn more about interactive tables.';\n",
              "          element.innerHTML = '';\n",
              "          dataTable['output_type'] = 'display_data';\n",
              "          await google.colab.output.renderOutput(dataTable, element);\n",
              "          const docLink = document.createElement('div');\n",
              "          docLink.innerHTML = docLinkHtml;\n",
              "          element.appendChild(docLink);\n",
              "        }\n",
              "      </script>\n",
              "    </div>\n",
              "  </div>\n",
              "  "
            ]
          },
          "metadata": {},
          "execution_count": 57
        }
      ]
    },
    {
      "cell_type": "code",
      "source": [
        "con.close()"
      ],
      "metadata": {
        "id": "rDkOhd48MoaR"
      },
      "execution_count": 58,
      "outputs": []
    },
    {
      "cell_type": "markdown",
      "source": [
        "## Juntar tabelas e filtrar apenas Receita com Fundo de Participação dos Municípios"
      ],
      "metadata": {
        "id": "PBTZdtYTE8Sd"
      }
    },
    {
      "cell_type": "code",
      "source": [
        "tabela_completa = None\n",
        "tabela_completa = tabela_principal.merge(tabela_auxiliar, how='left', on='NUMERORECEITAORCAMENTARIAUG')"
      ],
      "metadata": {
        "id": "ocLzYKUVJsCZ"
      },
      "execution_count": 38,
      "outputs": []
    },
    {
      "cell_type": "code",
      "source": [
        "tabela_completa.shape"
      ],
      "metadata": {
        "colab": {
          "base_uri": "https://localhost:8080/"
        },
        "id": "AmykBtZJLhLW",
        "outputId": "723a4edd-02c5-4ba9-90f7-b633712986f0"
      },
      "execution_count": 39,
      "outputs": [
        {
          "output_type": "execute_result",
          "data": {
            "text/plain": [
              "(15673, 9)"
            ]
          },
          "metadata": {},
          "execution_count": 39
        }
      ]
    },
    {
      "cell_type": "code",
      "source": [
        "tabela_completa.tail()"
      ],
      "metadata": {
        "colab": {
          "base_uri": "https://localhost:8080/",
          "height": 704
        },
        "id": "efrTBP92LQr_",
        "outputId": "88baa28c-cb7a-4b02-986a-0cd78252011e"
      },
      "execution_count": 52,
      "outputs": [
        {
          "output_type": "execute_result",
          "data": {
            "text/plain": [
              "      COMPETENCIA ANOREFERENCIA              ORIGEMRECEITA DEDUCAORECEITA  \\\n",
              "15668  2022-02-01          2022  Transferências de Capital              0   \n",
              "15669  2022-04-01          2022  Transferências de Capital              0   \n",
              "15670  2022-05-01          2022  Transferências de Capital              0   \n",
              "15671  2022-05-01          2022  Transferências de Capital              0   \n",
              "15672  2022-06-01          2022  Transferências de Capital              0   \n",
              "\n",
              "      NUMERORECEITAORCAMENTARIAUG  \\\n",
              "15668                    24115031   \n",
              "15669                    24115091   \n",
              "15670                    24115091   \n",
              "15671                    24115040   \n",
              "15672                    24115031   \n",
              "\n",
              "                                               DESCRICAO  VALORLANCAMENTO  \\\n",
              "15668  Transfer?ncias de Recursos do Bloco de Manuten...      -3292391.42   \n",
              "15669  Transfer?ncias de Recursos do Bloco de Manuten...      -1837875.59   \n",
              "15670  Transfer?ncias de Recursos do Bloco de Manuten...       -980920.62   \n",
              "15671  Transfer?ncias de Recursos do Bloco de Manuten...           -79.49   \n",
              "15672  Transfer?ncias de Recursos do Bloco de Manuten...      -2462623.39   \n",
              "\n",
              "      CLASSIFICACAO_SEREC DETALHAMENTO  \n",
              "15668                 NaN          NaN  \n",
              "15669                 NaN          NaN  \n",
              "15670                 NaN          NaN  \n",
              "15671                 NaN          NaN  \n",
              "15672                 NaN          NaN  "
            ],
            "text/html": [
              "\n",
              "  <div id=\"df-349f45a3-3259-44ef-b82c-5301938985e1\">\n",
              "    <div class=\"colab-df-container\">\n",
              "      <div>\n",
              "<style scoped>\n",
              "    .dataframe tbody tr th:only-of-type {\n",
              "        vertical-align: middle;\n",
              "    }\n",
              "\n",
              "    .dataframe tbody tr th {\n",
              "        vertical-align: top;\n",
              "    }\n",
              "\n",
              "    .dataframe thead th {\n",
              "        text-align: right;\n",
              "    }\n",
              "</style>\n",
              "<table border=\"1\" class=\"dataframe\">\n",
              "  <thead>\n",
              "    <tr style=\"text-align: right;\">\n",
              "      <th></th>\n",
              "      <th>COMPETENCIA</th>\n",
              "      <th>ANOREFERENCIA</th>\n",
              "      <th>ORIGEMRECEITA</th>\n",
              "      <th>DEDUCAORECEITA</th>\n",
              "      <th>NUMERORECEITAORCAMENTARIAUG</th>\n",
              "      <th>DESCRICAO</th>\n",
              "      <th>VALORLANCAMENTO</th>\n",
              "      <th>CLASSIFICACAO_SEREC</th>\n",
              "      <th>DETALHAMENTO</th>\n",
              "    </tr>\n",
              "  </thead>\n",
              "  <tbody>\n",
              "    <tr>\n",
              "      <th>15668</th>\n",
              "      <td>2022-02-01</td>\n",
              "      <td>2022</td>\n",
              "      <td>Transferências de Capital</td>\n",
              "      <td>0</td>\n",
              "      <td>24115031</td>\n",
              "      <td>Transfer?ncias de Recursos do Bloco de Manuten...</td>\n",
              "      <td>-3292391.42</td>\n",
              "      <td>NaN</td>\n",
              "      <td>NaN</td>\n",
              "    </tr>\n",
              "    <tr>\n",
              "      <th>15669</th>\n",
              "      <td>2022-04-01</td>\n",
              "      <td>2022</td>\n",
              "      <td>Transferências de Capital</td>\n",
              "      <td>0</td>\n",
              "      <td>24115091</td>\n",
              "      <td>Transfer?ncias de Recursos do Bloco de Manuten...</td>\n",
              "      <td>-1837875.59</td>\n",
              "      <td>NaN</td>\n",
              "      <td>NaN</td>\n",
              "    </tr>\n",
              "    <tr>\n",
              "      <th>15670</th>\n",
              "      <td>2022-05-01</td>\n",
              "      <td>2022</td>\n",
              "      <td>Transferências de Capital</td>\n",
              "      <td>0</td>\n",
              "      <td>24115091</td>\n",
              "      <td>Transfer?ncias de Recursos do Bloco de Manuten...</td>\n",
              "      <td>-980920.62</td>\n",
              "      <td>NaN</td>\n",
              "      <td>NaN</td>\n",
              "    </tr>\n",
              "    <tr>\n",
              "      <th>15671</th>\n",
              "      <td>2022-05-01</td>\n",
              "      <td>2022</td>\n",
              "      <td>Transferências de Capital</td>\n",
              "      <td>0</td>\n",
              "      <td>24115040</td>\n",
              "      <td>Transfer?ncias de Recursos do Bloco de Manuten...</td>\n",
              "      <td>-79.49</td>\n",
              "      <td>NaN</td>\n",
              "      <td>NaN</td>\n",
              "    </tr>\n",
              "    <tr>\n",
              "      <th>15672</th>\n",
              "      <td>2022-06-01</td>\n",
              "      <td>2022</td>\n",
              "      <td>Transferências de Capital</td>\n",
              "      <td>0</td>\n",
              "      <td>24115031</td>\n",
              "      <td>Transfer?ncias de Recursos do Bloco de Manuten...</td>\n",
              "      <td>-2462623.39</td>\n",
              "      <td>NaN</td>\n",
              "      <td>NaN</td>\n",
              "    </tr>\n",
              "  </tbody>\n",
              "</table>\n",
              "</div>\n",
              "      <button class=\"colab-df-convert\" onclick=\"convertToInteractive('df-349f45a3-3259-44ef-b82c-5301938985e1')\"\n",
              "              title=\"Convert this dataframe to an interactive table.\"\n",
              "              style=\"display:none;\">\n",
              "        \n",
              "  <svg xmlns=\"http://www.w3.org/2000/svg\" height=\"24px\"viewBox=\"0 0 24 24\"\n",
              "       width=\"24px\">\n",
              "    <path d=\"M0 0h24v24H0V0z\" fill=\"none\"/>\n",
              "    <path d=\"M18.56 5.44l.94 2.06.94-2.06 2.06-.94-2.06-.94-.94-2.06-.94 2.06-2.06.94zm-11 1L8.5 8.5l.94-2.06 2.06-.94-2.06-.94L8.5 2.5l-.94 2.06-2.06.94zm10 10l.94 2.06.94-2.06 2.06-.94-2.06-.94-.94-2.06-.94 2.06-2.06.94z\"/><path d=\"M17.41 7.96l-1.37-1.37c-.4-.4-.92-.59-1.43-.59-.52 0-1.04.2-1.43.59L10.3 9.45l-7.72 7.72c-.78.78-.78 2.05 0 2.83L4 21.41c.39.39.9.59 1.41.59.51 0 1.02-.2 1.41-.59l7.78-7.78 2.81-2.81c.8-.78.8-2.07 0-2.86zM5.41 20L4 18.59l7.72-7.72 1.47 1.35L5.41 20z\"/>\n",
              "  </svg>\n",
              "      </button>\n",
              "      \n",
              "  <style>\n",
              "    .colab-df-container {\n",
              "      display:flex;\n",
              "      flex-wrap:wrap;\n",
              "      gap: 12px;\n",
              "    }\n",
              "\n",
              "    .colab-df-convert {\n",
              "      background-color: #E8F0FE;\n",
              "      border: none;\n",
              "      border-radius: 50%;\n",
              "      cursor: pointer;\n",
              "      display: none;\n",
              "      fill: #1967D2;\n",
              "      height: 32px;\n",
              "      padding: 0 0 0 0;\n",
              "      width: 32px;\n",
              "    }\n",
              "\n",
              "    .colab-df-convert:hover {\n",
              "      background-color: #E2EBFA;\n",
              "      box-shadow: 0px 1px 2px rgba(60, 64, 67, 0.3), 0px 1px 3px 1px rgba(60, 64, 67, 0.15);\n",
              "      fill: #174EA6;\n",
              "    }\n",
              "\n",
              "    [theme=dark] .colab-df-convert {\n",
              "      background-color: #3B4455;\n",
              "      fill: #D2E3FC;\n",
              "    }\n",
              "\n",
              "    [theme=dark] .colab-df-convert:hover {\n",
              "      background-color: #434B5C;\n",
              "      box-shadow: 0px 1px 3px 1px rgba(0, 0, 0, 0.15);\n",
              "      filter: drop-shadow(0px 1px 2px rgba(0, 0, 0, 0.3));\n",
              "      fill: #FFFFFF;\n",
              "    }\n",
              "  </style>\n",
              "\n",
              "      <script>\n",
              "        const buttonEl =\n",
              "          document.querySelector('#df-349f45a3-3259-44ef-b82c-5301938985e1 button.colab-df-convert');\n",
              "        buttonEl.style.display =\n",
              "          google.colab.kernel.accessAllowed ? 'block' : 'none';\n",
              "\n",
              "        async function convertToInteractive(key) {\n",
              "          const element = document.querySelector('#df-349f45a3-3259-44ef-b82c-5301938985e1');\n",
              "          const dataTable =\n",
              "            await google.colab.kernel.invokeFunction('convertToInteractive',\n",
              "                                                     [key], {});\n",
              "          if (!dataTable) return;\n",
              "\n",
              "          const docLinkHtml = 'Like what you see? Visit the ' +\n",
              "            '<a target=\"_blank\" href=https://colab.research.google.com/notebooks/data_table.ipynb>data table notebook</a>'\n",
              "            + ' to learn more about interactive tables.';\n",
              "          element.innerHTML = '';\n",
              "          dataTable['output_type'] = 'display_data';\n",
              "          await google.colab.output.renderOutput(dataTable, element);\n",
              "          const docLink = document.createElement('div');\n",
              "          docLink.innerHTML = docLinkHtml;\n",
              "          element.appendChild(docLink);\n",
              "        }\n",
              "      </script>\n",
              "    </div>\n",
              "  </div>\n",
              "  "
            ]
          },
          "metadata": {},
          "execution_count": 52
        }
      ]
    },
    {
      "cell_type": "code",
      "source": [
        "# Filtrar receita FPM\n",
        "tabela_receita_FPM = tabela_completa.loc[tabela_completa['CLASSIFICACAO_SEREC'] == \"FPM\"]"
      ],
      "metadata": {
        "id": "-RScfTU8PsMK"
      },
      "execution_count": 41,
      "outputs": []
    },
    {
      "cell_type": "code",
      "source": [
        "tabela_receita_FPM.info()"
      ],
      "metadata": {
        "colab": {
          "base_uri": "https://localhost:8080/"
        },
        "id": "c9W8CnFOT4gr",
        "outputId": "225a24e0-2f9e-4a36-c13f-d5ac3a6ff14d"
      },
      "execution_count": 42,
      "outputs": [
        {
          "output_type": "stream",
          "name": "stdout",
          "text": [
            "<class 'pandas.core.frame.DataFrame'>\n",
            "Int64Index: 306 entries, 180 to 14580\n",
            "Data columns (total 9 columns):\n",
            " #   Column                       Non-Null Count  Dtype  \n",
            "---  ------                       --------------  -----  \n",
            " 0   COMPETENCIA                  306 non-null    object \n",
            " 1   ANOREFERENCIA                306 non-null    object \n",
            " 2   ORIGEMRECEITA                306 non-null    object \n",
            " 3   DEDUCAORECEITA               306 non-null    object \n",
            " 4   NUMERORECEITAORCAMENTARIAUG  306 non-null    object \n",
            " 5   DESCRICAO                    306 non-null    object \n",
            " 6   VALORLANCAMENTO              306 non-null    float64\n",
            " 7   CLASSIFICACAO_SEREC          306 non-null    object \n",
            " 8   DETALHAMENTO                 306 non-null    object \n",
            "dtypes: float64(1), object(8)\n",
            "memory usage: 23.9+ KB\n"
          ]
        }
      ]
    },
    {
      "cell_type": "code",
      "source": [
        "# Transformar COMPETENCIA para Datetime\n",
        "tabela_receita_FPM['COMPETENCIA'] = pd.to_datetime(tabela_receita_FPM['COMPETENCIA'])"
      ],
      "metadata": {
        "colab": {
          "base_uri": "https://localhost:8080/"
        },
        "id": "RrtUwJACT9Cz",
        "outputId": "59442675-e1e4-4137-8966-c5c629c73732"
      },
      "execution_count": 43,
      "outputs": [
        {
          "output_type": "stream",
          "name": "stderr",
          "text": [
            "/usr/local/lib/python3.7/dist-packages/ipykernel_launcher.py:2: SettingWithCopyWarning: \n",
            "A value is trying to be set on a copy of a slice from a DataFrame.\n",
            "Try using .loc[row_indexer,col_indexer] = value instead\n",
            "\n",
            "See the caveats in the documentation: https://pandas.pydata.org/pandas-docs/stable/user_guide/indexing.html#returning-a-view-versus-a-copy\n",
            "  \n"
          ]
        }
      ]
    },
    {
      "cell_type": "code",
      "source": [
        "tabela_receita_FPM.info()"
      ],
      "metadata": {
        "colab": {
          "base_uri": "https://localhost:8080/"
        },
        "id": "1Edm4Jp7UK6T",
        "outputId": "bb66bbef-b8b3-44ab-d7cc-84e403ad15e2"
      },
      "execution_count": 44,
      "outputs": [
        {
          "output_type": "stream",
          "name": "stdout",
          "text": [
            "<class 'pandas.core.frame.DataFrame'>\n",
            "Int64Index: 306 entries, 180 to 14580\n",
            "Data columns (total 9 columns):\n",
            " #   Column                       Non-Null Count  Dtype         \n",
            "---  ------                       --------------  -----         \n",
            " 0   COMPETENCIA                  306 non-null    datetime64[ns]\n",
            " 1   ANOREFERENCIA                306 non-null    object        \n",
            " 2   ORIGEMRECEITA                306 non-null    object        \n",
            " 3   DEDUCAORECEITA               306 non-null    object        \n",
            " 4   NUMERORECEITAORCAMENTARIAUG  306 non-null    object        \n",
            " 5   DESCRICAO                    306 non-null    object        \n",
            " 6   VALORLANCAMENTO              306 non-null    float64       \n",
            " 7   CLASSIFICACAO_SEREC          306 non-null    object        \n",
            " 8   DETALHAMENTO                 306 non-null    object        \n",
            "dtypes: datetime64[ns](1), float64(1), object(7)\n",
            "memory usage: 23.9+ KB\n"
          ]
        }
      ]
    },
    {
      "cell_type": "code",
      "source": [
        "tabela_receita_FPM.set_index('COMPETENCIA', inplace=True)\n",
        "tabela_receita_FPM.head()"
      ],
      "metadata": {
        "colab": {
          "base_uri": "https://localhost:8080/",
          "height": 736
        },
        "id": "wZvklcD5PsRB",
        "outputId": "eb058e91-5ace-4088-c507-9de02712c3da"
      },
      "execution_count": 45,
      "outputs": [
        {
          "output_type": "execute_result",
          "data": {
            "text/plain": [
              "            ANOREFERENCIA             ORIGEMRECEITA DEDUCAORECEITA  \\\n",
              "COMPETENCIA                                                          \n",
              "2012-03-01           2012  Transferências Correntes              0   \n",
              "2012-03-01           2012  Transferências Correntes              0   \n",
              "2012-07-01           2012  Transferências Correntes              0   \n",
              "2012-07-01           2012  Transferências Correntes              0   \n",
              "2012-01-01           2012  Transferências Correntes              0   \n",
              "\n",
              "            NUMERORECEITAORCAMENTARIAUG  \\\n",
              "COMPETENCIA                               \n",
              "2012-03-01                     17210102   \n",
              "2012-03-01                     17210102   \n",
              "2012-07-01                     17210102   \n",
              "2012-07-01                     17210102   \n",
              "2012-01-01                     17210102   \n",
              "\n",
              "                                                     DESCRICAO  \\\n",
              "COMPETENCIA                                                      \n",
              "2012-03-01   Cota-Parte do Fundo de Participação dos Municí...   \n",
              "2012-03-01   Cota-Parte do Fundo de Participação dos Municí...   \n",
              "2012-07-01   Cota-Parte do Fundo de Participação dos Municí...   \n",
              "2012-07-01   Cota-Parte do Fundo de Participação dos Municí...   \n",
              "2012-01-01   Cota-Parte do Fundo de Participação dos Municí...   \n",
              "\n",
              "             VALORLANCAMENTO CLASSIFICACAO_SEREC DETALHAMENTO  \n",
              "COMPETENCIA                                                    \n",
              "2012-03-01        4772635.69                 FPM    PRINCIPAL  \n",
              "2012-03-01        4772635.69                 FPM    PRINCIPAL  \n",
              "2012-07-01        4287083.00                 FPM    PRINCIPAL  \n",
              "2012-07-01        4287083.00                 FPM    PRINCIPAL  \n",
              "2012-01-01        5809328.85                 FPM    PRINCIPAL  "
            ],
            "text/html": [
              "\n",
              "  <div id=\"df-aa71c575-0d61-4b95-9ef2-909055412801\">\n",
              "    <div class=\"colab-df-container\">\n",
              "      <div>\n",
              "<style scoped>\n",
              "    .dataframe tbody tr th:only-of-type {\n",
              "        vertical-align: middle;\n",
              "    }\n",
              "\n",
              "    .dataframe tbody tr th {\n",
              "        vertical-align: top;\n",
              "    }\n",
              "\n",
              "    .dataframe thead th {\n",
              "        text-align: right;\n",
              "    }\n",
              "</style>\n",
              "<table border=\"1\" class=\"dataframe\">\n",
              "  <thead>\n",
              "    <tr style=\"text-align: right;\">\n",
              "      <th></th>\n",
              "      <th>ANOREFERENCIA</th>\n",
              "      <th>ORIGEMRECEITA</th>\n",
              "      <th>DEDUCAORECEITA</th>\n",
              "      <th>NUMERORECEITAORCAMENTARIAUG</th>\n",
              "      <th>DESCRICAO</th>\n",
              "      <th>VALORLANCAMENTO</th>\n",
              "      <th>CLASSIFICACAO_SEREC</th>\n",
              "      <th>DETALHAMENTO</th>\n",
              "    </tr>\n",
              "    <tr>\n",
              "      <th>COMPETENCIA</th>\n",
              "      <th></th>\n",
              "      <th></th>\n",
              "      <th></th>\n",
              "      <th></th>\n",
              "      <th></th>\n",
              "      <th></th>\n",
              "      <th></th>\n",
              "      <th></th>\n",
              "    </tr>\n",
              "  </thead>\n",
              "  <tbody>\n",
              "    <tr>\n",
              "      <th>2012-03-01</th>\n",
              "      <td>2012</td>\n",
              "      <td>Transferências Correntes</td>\n",
              "      <td>0</td>\n",
              "      <td>17210102</td>\n",
              "      <td>Cota-Parte do Fundo de Participação dos Municí...</td>\n",
              "      <td>4772635.69</td>\n",
              "      <td>FPM</td>\n",
              "      <td>PRINCIPAL</td>\n",
              "    </tr>\n",
              "    <tr>\n",
              "      <th>2012-03-01</th>\n",
              "      <td>2012</td>\n",
              "      <td>Transferências Correntes</td>\n",
              "      <td>0</td>\n",
              "      <td>17210102</td>\n",
              "      <td>Cota-Parte do Fundo de Participação dos Municí...</td>\n",
              "      <td>4772635.69</td>\n",
              "      <td>FPM</td>\n",
              "      <td>PRINCIPAL</td>\n",
              "    </tr>\n",
              "    <tr>\n",
              "      <th>2012-07-01</th>\n",
              "      <td>2012</td>\n",
              "      <td>Transferências Correntes</td>\n",
              "      <td>0</td>\n",
              "      <td>17210102</td>\n",
              "      <td>Cota-Parte do Fundo de Participação dos Municí...</td>\n",
              "      <td>4287083.00</td>\n",
              "      <td>FPM</td>\n",
              "      <td>PRINCIPAL</td>\n",
              "    </tr>\n",
              "    <tr>\n",
              "      <th>2012-07-01</th>\n",
              "      <td>2012</td>\n",
              "      <td>Transferências Correntes</td>\n",
              "      <td>0</td>\n",
              "      <td>17210102</td>\n",
              "      <td>Cota-Parte do Fundo de Participação dos Municí...</td>\n",
              "      <td>4287083.00</td>\n",
              "      <td>FPM</td>\n",
              "      <td>PRINCIPAL</td>\n",
              "    </tr>\n",
              "    <tr>\n",
              "      <th>2012-01-01</th>\n",
              "      <td>2012</td>\n",
              "      <td>Transferências Correntes</td>\n",
              "      <td>0</td>\n",
              "      <td>17210102</td>\n",
              "      <td>Cota-Parte do Fundo de Participação dos Municí...</td>\n",
              "      <td>5809328.85</td>\n",
              "      <td>FPM</td>\n",
              "      <td>PRINCIPAL</td>\n",
              "    </tr>\n",
              "  </tbody>\n",
              "</table>\n",
              "</div>\n",
              "      <button class=\"colab-df-convert\" onclick=\"convertToInteractive('df-aa71c575-0d61-4b95-9ef2-909055412801')\"\n",
              "              title=\"Convert this dataframe to an interactive table.\"\n",
              "              style=\"display:none;\">\n",
              "        \n",
              "  <svg xmlns=\"http://www.w3.org/2000/svg\" height=\"24px\"viewBox=\"0 0 24 24\"\n",
              "       width=\"24px\">\n",
              "    <path d=\"M0 0h24v24H0V0z\" fill=\"none\"/>\n",
              "    <path d=\"M18.56 5.44l.94 2.06.94-2.06 2.06-.94-2.06-.94-.94-2.06-.94 2.06-2.06.94zm-11 1L8.5 8.5l.94-2.06 2.06-.94-2.06-.94L8.5 2.5l-.94 2.06-2.06.94zm10 10l.94 2.06.94-2.06 2.06-.94-2.06-.94-.94-2.06-.94 2.06-2.06.94z\"/><path d=\"M17.41 7.96l-1.37-1.37c-.4-.4-.92-.59-1.43-.59-.52 0-1.04.2-1.43.59L10.3 9.45l-7.72 7.72c-.78.78-.78 2.05 0 2.83L4 21.41c.39.39.9.59 1.41.59.51 0 1.02-.2 1.41-.59l7.78-7.78 2.81-2.81c.8-.78.8-2.07 0-2.86zM5.41 20L4 18.59l7.72-7.72 1.47 1.35L5.41 20z\"/>\n",
              "  </svg>\n",
              "      </button>\n",
              "      \n",
              "  <style>\n",
              "    .colab-df-container {\n",
              "      display:flex;\n",
              "      flex-wrap:wrap;\n",
              "      gap: 12px;\n",
              "    }\n",
              "\n",
              "    .colab-df-convert {\n",
              "      background-color: #E8F0FE;\n",
              "      border: none;\n",
              "      border-radius: 50%;\n",
              "      cursor: pointer;\n",
              "      display: none;\n",
              "      fill: #1967D2;\n",
              "      height: 32px;\n",
              "      padding: 0 0 0 0;\n",
              "      width: 32px;\n",
              "    }\n",
              "\n",
              "    .colab-df-convert:hover {\n",
              "      background-color: #E2EBFA;\n",
              "      box-shadow: 0px 1px 2px rgba(60, 64, 67, 0.3), 0px 1px 3px 1px rgba(60, 64, 67, 0.15);\n",
              "      fill: #174EA6;\n",
              "    }\n",
              "\n",
              "    [theme=dark] .colab-df-convert {\n",
              "      background-color: #3B4455;\n",
              "      fill: #D2E3FC;\n",
              "    }\n",
              "\n",
              "    [theme=dark] .colab-df-convert:hover {\n",
              "      background-color: #434B5C;\n",
              "      box-shadow: 0px 1px 3px 1px rgba(0, 0, 0, 0.15);\n",
              "      filter: drop-shadow(0px 1px 2px rgba(0, 0, 0, 0.3));\n",
              "      fill: #FFFFFF;\n",
              "    }\n",
              "  </style>\n",
              "\n",
              "      <script>\n",
              "        const buttonEl =\n",
              "          document.querySelector('#df-aa71c575-0d61-4b95-9ef2-909055412801 button.colab-df-convert');\n",
              "        buttonEl.style.display =\n",
              "          google.colab.kernel.accessAllowed ? 'block' : 'none';\n",
              "\n",
              "        async function convertToInteractive(key) {\n",
              "          const element = document.querySelector('#df-aa71c575-0d61-4b95-9ef2-909055412801');\n",
              "          const dataTable =\n",
              "            await google.colab.kernel.invokeFunction('convertToInteractive',\n",
              "                                                     [key], {});\n",
              "          if (!dataTable) return;\n",
              "\n",
              "          const docLinkHtml = 'Like what you see? Visit the ' +\n",
              "            '<a target=\"_blank\" href=https://colab.research.google.com/notebooks/data_table.ipynb>data table notebook</a>'\n",
              "            + ' to learn more about interactive tables.';\n",
              "          element.innerHTML = '';\n",
              "          dataTable['output_type'] = 'display_data';\n",
              "          await google.colab.output.renderOutput(dataTable, element);\n",
              "          const docLink = document.createElement('div');\n",
              "          docLink.innerHTML = docLinkHtml;\n",
              "          element.appendChild(docLink);\n",
              "        }\n",
              "      </script>\n",
              "    </div>\n",
              "  </div>\n",
              "  "
            ]
          },
          "metadata": {},
          "execution_count": 45
        }
      ]
    },
    {
      "cell_type": "code",
      "source": [
        "tabela_receita_FPM.info()"
      ],
      "metadata": {
        "colab": {
          "base_uri": "https://localhost:8080/"
        },
        "id": "fC4D17m0PsT-",
        "outputId": "321956aa-fe86-4cec-fba2-b21359089d42"
      },
      "execution_count": 46,
      "outputs": [
        {
          "output_type": "stream",
          "name": "stdout",
          "text": [
            "<class 'pandas.core.frame.DataFrame'>\n",
            "DatetimeIndex: 306 entries, 2012-03-01 to 2021-06-01\n",
            "Data columns (total 8 columns):\n",
            " #   Column                       Non-Null Count  Dtype  \n",
            "---  ------                       --------------  -----  \n",
            " 0   ANOREFERENCIA                306 non-null    object \n",
            " 1   ORIGEMRECEITA                306 non-null    object \n",
            " 2   DEDUCAORECEITA               306 non-null    object \n",
            " 3   NUMERORECEITAORCAMENTARIAUG  306 non-null    object \n",
            " 4   DESCRICAO                    306 non-null    object \n",
            " 5   VALORLANCAMENTO              306 non-null    float64\n",
            " 6   CLASSIFICACAO_SEREC          306 non-null    object \n",
            " 7   DETALHAMENTO                 306 non-null    object \n",
            "dtypes: float64(1), object(7)\n",
            "memory usage: 21.5+ KB\n"
          ]
        }
      ]
    },
    {
      "cell_type": "code",
      "source": [
        "# Resumir dados por Competência (soma Rubricas Orçamentárias FPM Bruto - Dedução FUNDEB FPM)\n",
        "tabela_receita_FPM = tabela_receita_FPM.resample(\"M\").sum()"
      ],
      "metadata": {
        "id": "lyOtZ296kkYS"
      },
      "execution_count": 59,
      "outputs": []
    },
    {
      "cell_type": "code",
      "source": [
        "tabela_receita_FPM.index"
      ],
      "metadata": {
        "colab": {
          "base_uri": "https://localhost:8080/"
        },
        "id": "4lWsNcHfZ1XS",
        "outputId": "14ea7bdf-6d48-43be-e9b2-a934cdf246a9"
      },
      "execution_count": 61,
      "outputs": [
        {
          "output_type": "execute_result",
          "data": {
            "text/plain": [
              "DatetimeIndex(['2012-01-31', '2012-02-29', '2012-03-31', '2012-04-30',\n",
              "               '2012-05-31', '2012-06-30', '2012-07-31', '2012-08-31',\n",
              "               '2012-09-30', '2012-10-31',\n",
              "               ...\n",
              "               '2021-03-31', '2021-04-30', '2021-05-31', '2021-06-30',\n",
              "               '2021-07-31', '2021-08-31', '2021-09-30', '2021-10-31',\n",
              "               '2021-11-30', '2021-12-31'],\n",
              "              dtype='datetime64[ns]', name='COMPETENCIA', length=120, freq='M')"
            ]
          },
          "metadata": {},
          "execution_count": 61
        }
      ]
    },
    {
      "cell_type": "code",
      "source": [
        "tabela_receita_FPM.info()"
      ],
      "metadata": {
        "colab": {
          "base_uri": "https://localhost:8080/"
        },
        "id": "JjmH2ZQSkokB",
        "outputId": "d337acb1-3f99-4e79-f00b-837038d212ba"
      },
      "execution_count": 62,
      "outputs": [
        {
          "output_type": "stream",
          "name": "stdout",
          "text": [
            "<class 'pandas.core.frame.DataFrame'>\n",
            "DatetimeIndex: 120 entries, 2012-01-31 to 2021-12-31\n",
            "Freq: M\n",
            "Data columns (total 1 columns):\n",
            " #   Column           Non-Null Count  Dtype  \n",
            "---  ------           --------------  -----  \n",
            " 0   VALORLANCAMENTO  120 non-null    float64\n",
            "dtypes: float64(1)\n",
            "memory usage: 1.9 KB\n"
          ]
        }
      ]
    },
    {
      "cell_type": "code",
      "source": [
        "# Gerar tabela para validação dos dados em excel\n",
        "tabela_receita_FPM.to_csv('/content/tabela_receita_FPM.csv')"
      ],
      "metadata": {
        "id": "8Vnb4TkajusD"
      },
      "execution_count": 64,
      "outputs": []
    },
    {
      "cell_type": "markdown",
      "source": [
        "# ETAPA 03 - Divisão dos dados (Treino/teste)"
      ],
      "metadata": {
        "id": "aVbb02VkaOci"
      }
    },
    {
      "cell_type": "code",
      "source": [
        "train = tabela_receita_FPM.iloc[0:-12, 0]\n",
        "test = tabela_receita_FPM.iloc[-12:, 0]"
      ],
      "metadata": {
        "id": "tMtSv9unWZbh"
      },
      "execution_count": 71,
      "outputs": []
    },
    {
      "cell_type": "code",
      "source": [
        "train"
      ],
      "metadata": {
        "colab": {
          "base_uri": "https://localhost:8080/"
        },
        "id": "oP9C2QlKbXcf",
        "outputId": "d6ef3099-6dbc-4693-bc4f-da9c99069160"
      },
      "execution_count": 72,
      "outputs": [
        {
          "output_type": "execute_result",
          "data": {
            "text/plain": [
              "COMPETENCIA\n",
              "2012-01-31     5809328.85\n",
              "2012-02-29     7027265.76\n",
              "2012-03-31     4772635.69\n",
              "2012-04-30     6015086.32\n",
              "2012-05-31     6727448.46\n",
              "                 ...     \n",
              "2020-08-31     4934918.72\n",
              "2020-09-30     3975120.48\n",
              "2020-10-31     5348907.62\n",
              "2020-11-30     7089571.88\n",
              "2020-12-31    11356239.86\n",
              "Freq: M, Name: VALORLANCAMENTO, Length: 108, dtype: float64"
            ]
          },
          "metadata": {},
          "execution_count": 72
        }
      ]
    },
    {
      "cell_type": "code",
      "source": [
        "test"
      ],
      "metadata": {
        "colab": {
          "base_uri": "https://localhost:8080/"
        },
        "id": "1ZSgQt0Fbfyv",
        "outputId": "d9a94d19-be20-4f20-df27-307428b48bb0"
      },
      "execution_count": 73,
      "outputs": [
        {
          "output_type": "execute_result",
          "data": {
            "text/plain": [
              "COMPETENCIA\n",
              "2021-01-31     7995406.81\n",
              "2021-02-28    10479951.06\n",
              "2021-03-31     7024491.01\n",
              "2021-04-30     7343573.11\n",
              "2021-05-31     8825963.67\n",
              "2021-06-30     7633088.13\n",
              "2021-07-31    11373069.84\n",
              "2021-08-31     8338885.51\n",
              "2021-09-30     6548838.74\n",
              "2021-10-31     7297591.74\n",
              "2021-11-30     9477576.86\n",
              "2021-12-31    15177161.97\n",
              "Freq: M, Name: VALORLANCAMENTO, dtype: float64"
            ]
          },
          "metadata": {},
          "execution_count": 73
        }
      ]
    },
    {
      "cell_type": "markdown",
      "source": [
        "# ETAPA 04 - Aplicar Modelos de previsão"
      ],
      "metadata": {
        "id": "f--Cgd3obWuo"
      }
    },
    {
      "cell_type": "markdown",
      "source": [
        "## Regressão linear"
      ],
      "metadata": {
        "id": "IqkW_HiSb4Cp"
      }
    },
    {
      "cell_type": "code",
      "source": [
        ""
      ],
      "metadata": {
        "id": "3p6Kqgp1lReC"
      },
      "execution_count": null,
      "outputs": []
    },
    {
      "cell_type": "code",
      "source": [
        ""
      ],
      "metadata": {
        "id": "NSz2XgRQlRan"
      },
      "execution_count": null,
      "outputs": []
    },
    {
      "cell_type": "code",
      "source": [
        ""
      ],
      "metadata": {
        "id": "SatRNhdrlROe"
      },
      "execution_count": null,
      "outputs": []
    },
    {
      "cell_type": "code",
      "source": [
        ""
      ],
      "metadata": {
        "id": "eJALSrcGlPhI"
      },
      "execution_count": null,
      "outputs": []
    },
    {
      "cell_type": "code",
      "source": [
        "lr = LinearRegression()"
      ],
      "metadata": {
        "id": "CnW7gqDQZ24Y"
      },
      "execution_count": null,
      "outputs": []
    },
    {
      "cell_type": "code",
      "source": [
        "model = lr.fit(X = tabela_receita_FPM_anual['ANO'], y = tabela_receita_FPM_anual['VALORLANCAMENTO'])"
      ],
      "metadata": {
        "colab": {
          "base_uri": "https://localhost:8080/",
          "height": 502
        },
        "id": "6PYeKos2eTpF",
        "outputId": "09a8253c-16ee-4a48-afe1-7bef9f4c36b8"
      },
      "execution_count": null,
      "outputs": [
        {
          "output_type": "error",
          "ename": "KeyError",
          "evalue": "ignored",
          "traceback": [
            "\u001b[0;31m---------------------------------------------------------------------------\u001b[0m",
            "\u001b[0;31mKeyError\u001b[0m                                  Traceback (most recent call last)",
            "\u001b[0;32m/usr/local/lib/python3.7/dist-packages/pandas/core/indexes/base.py\u001b[0m in \u001b[0;36mget_loc\u001b[0;34m(self, key, method, tolerance)\u001b[0m\n\u001b[1;32m   3360\u001b[0m             \u001b[0;32mtry\u001b[0m\u001b[0;34m:\u001b[0m\u001b[0;34m\u001b[0m\u001b[0;34m\u001b[0m\u001b[0m\n\u001b[0;32m-> 3361\u001b[0;31m                 \u001b[0;32mreturn\u001b[0m \u001b[0mself\u001b[0m\u001b[0;34m.\u001b[0m\u001b[0m_engine\u001b[0m\u001b[0;34m.\u001b[0m\u001b[0mget_loc\u001b[0m\u001b[0;34m(\u001b[0m\u001b[0mcasted_key\u001b[0m\u001b[0;34m)\u001b[0m\u001b[0;34m\u001b[0m\u001b[0;34m\u001b[0m\u001b[0m\n\u001b[0m\u001b[1;32m   3362\u001b[0m             \u001b[0;32mexcept\u001b[0m \u001b[0mKeyError\u001b[0m \u001b[0;32mas\u001b[0m \u001b[0merr\u001b[0m\u001b[0;34m:\u001b[0m\u001b[0;34m\u001b[0m\u001b[0;34m\u001b[0m\u001b[0m\n",
            "\u001b[0;32m/usr/local/lib/python3.7/dist-packages/pandas/_libs/index.pyx\u001b[0m in \u001b[0;36mpandas._libs.index.IndexEngine.get_loc\u001b[0;34m()\u001b[0m\n",
            "\u001b[0;32m/usr/local/lib/python3.7/dist-packages/pandas/_libs/index.pyx\u001b[0m in \u001b[0;36mpandas._libs.index.IndexEngine.get_loc\u001b[0;34m()\u001b[0m\n",
            "\u001b[0;32mpandas/_libs/hashtable_class_helper.pxi\u001b[0m in \u001b[0;36mpandas._libs.hashtable.PyObjectHashTable.get_item\u001b[0;34m()\u001b[0m\n",
            "\u001b[0;32mpandas/_libs/hashtable_class_helper.pxi\u001b[0m in \u001b[0;36mpandas._libs.hashtable.PyObjectHashTable.get_item\u001b[0;34m()\u001b[0m\n",
            "\u001b[0;31mKeyError\u001b[0m: 'ANO'",
            "\nThe above exception was the direct cause of the following exception:\n",
            "\u001b[0;31mKeyError\u001b[0m                                  Traceback (most recent call last)",
            "\u001b[0;32m<ipython-input-117-b062d330666a>\u001b[0m in \u001b[0;36m<module>\u001b[0;34m()\u001b[0m\n\u001b[0;32m----> 1\u001b[0;31m \u001b[0mmodel\u001b[0m \u001b[0;34m=\u001b[0m \u001b[0mlr\u001b[0m\u001b[0;34m.\u001b[0m\u001b[0mfit\u001b[0m\u001b[0;34m(\u001b[0m\u001b[0mX\u001b[0m \u001b[0;34m=\u001b[0m \u001b[0mtabela_receita_FPM_anual\u001b[0m\u001b[0;34m[\u001b[0m\u001b[0;34m'ANO'\u001b[0m\u001b[0;34m]\u001b[0m\u001b[0;34m,\u001b[0m \u001b[0my\u001b[0m \u001b[0;34m=\u001b[0m \u001b[0mtabela_receita_FPM_anual\u001b[0m\u001b[0;34m[\u001b[0m\u001b[0;34m'VALORLANCAMENTO'\u001b[0m\u001b[0;34m]\u001b[0m\u001b[0;34m)\u001b[0m\u001b[0;34m\u001b[0m\u001b[0;34m\u001b[0m\u001b[0m\n\u001b[0m",
            "\u001b[0;32m/usr/local/lib/python3.7/dist-packages/pandas/core/frame.py\u001b[0m in \u001b[0;36m__getitem__\u001b[0;34m(self, key)\u001b[0m\n\u001b[1;32m   3456\u001b[0m             \u001b[0;32mif\u001b[0m \u001b[0mself\u001b[0m\u001b[0;34m.\u001b[0m\u001b[0mcolumns\u001b[0m\u001b[0;34m.\u001b[0m\u001b[0mnlevels\u001b[0m \u001b[0;34m>\u001b[0m \u001b[0;36m1\u001b[0m\u001b[0;34m:\u001b[0m\u001b[0;34m\u001b[0m\u001b[0;34m\u001b[0m\u001b[0m\n\u001b[1;32m   3457\u001b[0m                 \u001b[0;32mreturn\u001b[0m \u001b[0mself\u001b[0m\u001b[0;34m.\u001b[0m\u001b[0m_getitem_multilevel\u001b[0m\u001b[0;34m(\u001b[0m\u001b[0mkey\u001b[0m\u001b[0;34m)\u001b[0m\u001b[0;34m\u001b[0m\u001b[0;34m\u001b[0m\u001b[0m\n\u001b[0;32m-> 3458\u001b[0;31m             \u001b[0mindexer\u001b[0m \u001b[0;34m=\u001b[0m \u001b[0mself\u001b[0m\u001b[0;34m.\u001b[0m\u001b[0mcolumns\u001b[0m\u001b[0;34m.\u001b[0m\u001b[0mget_loc\u001b[0m\u001b[0;34m(\u001b[0m\u001b[0mkey\u001b[0m\u001b[0;34m)\u001b[0m\u001b[0;34m\u001b[0m\u001b[0;34m\u001b[0m\u001b[0m\n\u001b[0m\u001b[1;32m   3459\u001b[0m             \u001b[0;32mif\u001b[0m \u001b[0mis_integer\u001b[0m\u001b[0;34m(\u001b[0m\u001b[0mindexer\u001b[0m\u001b[0;34m)\u001b[0m\u001b[0;34m:\u001b[0m\u001b[0;34m\u001b[0m\u001b[0;34m\u001b[0m\u001b[0m\n\u001b[1;32m   3460\u001b[0m                 \u001b[0mindexer\u001b[0m \u001b[0;34m=\u001b[0m \u001b[0;34m[\u001b[0m\u001b[0mindexer\u001b[0m\u001b[0;34m]\u001b[0m\u001b[0;34m\u001b[0m\u001b[0;34m\u001b[0m\u001b[0m\n",
            "\u001b[0;32m/usr/local/lib/python3.7/dist-packages/pandas/core/indexes/base.py\u001b[0m in \u001b[0;36mget_loc\u001b[0;34m(self, key, method, tolerance)\u001b[0m\n\u001b[1;32m   3361\u001b[0m                 \u001b[0;32mreturn\u001b[0m \u001b[0mself\u001b[0m\u001b[0;34m.\u001b[0m\u001b[0m_engine\u001b[0m\u001b[0;34m.\u001b[0m\u001b[0mget_loc\u001b[0m\u001b[0;34m(\u001b[0m\u001b[0mcasted_key\u001b[0m\u001b[0;34m)\u001b[0m\u001b[0;34m\u001b[0m\u001b[0;34m\u001b[0m\u001b[0m\n\u001b[1;32m   3362\u001b[0m             \u001b[0;32mexcept\u001b[0m \u001b[0mKeyError\u001b[0m \u001b[0;32mas\u001b[0m \u001b[0merr\u001b[0m\u001b[0;34m:\u001b[0m\u001b[0;34m\u001b[0m\u001b[0;34m\u001b[0m\u001b[0m\n\u001b[0;32m-> 3363\u001b[0;31m                 \u001b[0;32mraise\u001b[0m \u001b[0mKeyError\u001b[0m\u001b[0;34m(\u001b[0m\u001b[0mkey\u001b[0m\u001b[0;34m)\u001b[0m \u001b[0;32mfrom\u001b[0m \u001b[0merr\u001b[0m\u001b[0;34m\u001b[0m\u001b[0;34m\u001b[0m\u001b[0m\n\u001b[0m\u001b[1;32m   3364\u001b[0m \u001b[0;34m\u001b[0m\u001b[0m\n\u001b[1;32m   3365\u001b[0m         \u001b[0;32mif\u001b[0m \u001b[0mis_scalar\u001b[0m\u001b[0;34m(\u001b[0m\u001b[0mkey\u001b[0m\u001b[0;34m)\u001b[0m \u001b[0;32mand\u001b[0m \u001b[0misna\u001b[0m\u001b[0;34m(\u001b[0m\u001b[0mkey\u001b[0m\u001b[0;34m)\u001b[0m \u001b[0;32mand\u001b[0m \u001b[0;32mnot\u001b[0m \u001b[0mself\u001b[0m\u001b[0;34m.\u001b[0m\u001b[0mhasnans\u001b[0m\u001b[0;34m:\u001b[0m\u001b[0;34m\u001b[0m\u001b[0;34m\u001b[0m\u001b[0m\n",
            "\u001b[0;31mKeyError\u001b[0m: 'ANO'"
          ]
        }
      ]
    },
    {
      "cell_type": "code",
      "source": [
        ""
      ],
      "metadata": {
        "id": "TcVkJO0YbE1B"
      },
      "execution_count": null,
      "outputs": []
    },
    {
      "cell_type": "code",
      "source": [
        "\n",
        "# Confirmar valor com arrecadação Município\n",
        "# Consolidar por ano\n",
        "# Aplicar modelos > função?"
      ],
      "metadata": {
        "id": "oIB5lNOLSRgL"
      },
      "execution_count": null,
      "outputs": []
    }
  ]
}