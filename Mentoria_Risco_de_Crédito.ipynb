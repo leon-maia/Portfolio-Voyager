{
  "nbformat": 4,
  "nbformat_minor": 0,
  "metadata": {
    "colab": {
      "name": "Mentoria - Risco de Crédito.ipynb",
      "provenance": [],
      "collapsed_sections": []
    },
    "kernelspec": {
      "name": "python3",
      "display_name": "Python 3"
    },
    "language_info": {
      "name": "python"
    }
  },
  "cells": [
    {
      "cell_type": "markdown",
      "metadata": {
        "id": "sN416R6aKE3j"
      },
      "source": [
        "Base de dados Kaggle: https://www.kaggle.com/laotse/credit-risk-dataset"
      ]
    },
    {
      "cell_type": "markdown",
      "metadata": {
        "id": "qPLDMCltVUrZ"
      },
      "source": [
        "Objetivo: "
      ]
    },
    {
      "cell_type": "code",
      "metadata": {
        "id": "Az0mddrOKAeT"
      },
      "source": [
        "import pandas as pd\n",
        "import matplotlib.pyplot as plt\n",
        "import seaborn as sns"
      ],
      "execution_count": 1,
      "outputs": []
    },
    {
      "cell_type": "code",
      "metadata": {
        "id": "LgVXvUnFQrHG"
      },
      "source": [
        "def identify_outlier(df):\n",
        "# Função destinada a identificar quais os outliers da coluna'\n",
        "  q1 = df.quantile(0.25)\n",
        "  q3 = df.quantile(0.75)\n",
        "  IQR = q3 - q1\n",
        "  outliers = df[((df<(q1-1.5*IQR)) | (df>(q3+1.5*IQR)))]\n",
        "  if outliers.empty:\n",
        "    print('Não há outliers na coluna selecionada')\n",
        "  else:\n",
        "    return outliers"
      ],
      "execution_count": 2,
      "outputs": []
    },
    {
      "cell_type": "code",
      "metadata": {
        "id": "AxXpgcyuKSAx"
      },
      "source": [
        "df = pd.read_csv('/content/credit_risk_dataset.csv')"
      ],
      "execution_count": 3,
      "outputs": []
    },
    {
      "cell_type": "code",
      "metadata": {
        "colab": {
          "base_uri": "https://localhost:8080/",
          "height": 222
        },
        "id": "8mQdj713Kpmi",
        "outputId": "1ee13083-faac-4ac4-9414-aa482ceaa656"
      },
      "source": [
        "df.head()"
      ],
      "execution_count": 4,
      "outputs": [
        {
          "output_type": "execute_result",
          "data": {
            "text/html": [
              "<div>\n",
              "<style scoped>\n",
              "    .dataframe tbody tr th:only-of-type {\n",
              "        vertical-align: middle;\n",
              "    }\n",
              "\n",
              "    .dataframe tbody tr th {\n",
              "        vertical-align: top;\n",
              "    }\n",
              "\n",
              "    .dataframe thead th {\n",
              "        text-align: right;\n",
              "    }\n",
              "</style>\n",
              "<table border=\"1\" class=\"dataframe\">\n",
              "  <thead>\n",
              "    <tr style=\"text-align: right;\">\n",
              "      <th></th>\n",
              "      <th>person_age</th>\n",
              "      <th>person_income</th>\n",
              "      <th>person_home_ownership</th>\n",
              "      <th>person_emp_length</th>\n",
              "      <th>loan_intent</th>\n",
              "      <th>loan_grade</th>\n",
              "      <th>loan_amnt</th>\n",
              "      <th>loan_int_rate</th>\n",
              "      <th>loan_status</th>\n",
              "      <th>loan_percent_income</th>\n",
              "      <th>cb_person_default_on_file</th>\n",
              "      <th>cb_person_cred_hist_length</th>\n",
              "    </tr>\n",
              "  </thead>\n",
              "  <tbody>\n",
              "    <tr>\n",
              "      <th>0</th>\n",
              "      <td>22</td>\n",
              "      <td>59000</td>\n",
              "      <td>RENT</td>\n",
              "      <td>123.0</td>\n",
              "      <td>PERSONAL</td>\n",
              "      <td>D</td>\n",
              "      <td>35000</td>\n",
              "      <td>16.02</td>\n",
              "      <td>1</td>\n",
              "      <td>0.59</td>\n",
              "      <td>Y</td>\n",
              "      <td>3</td>\n",
              "    </tr>\n",
              "    <tr>\n",
              "      <th>1</th>\n",
              "      <td>21</td>\n",
              "      <td>9600</td>\n",
              "      <td>OWN</td>\n",
              "      <td>5.0</td>\n",
              "      <td>EDUCATION</td>\n",
              "      <td>B</td>\n",
              "      <td>1000</td>\n",
              "      <td>11.14</td>\n",
              "      <td>0</td>\n",
              "      <td>0.10</td>\n",
              "      <td>N</td>\n",
              "      <td>2</td>\n",
              "    </tr>\n",
              "    <tr>\n",
              "      <th>2</th>\n",
              "      <td>25</td>\n",
              "      <td>9600</td>\n",
              "      <td>MORTGAGE</td>\n",
              "      <td>1.0</td>\n",
              "      <td>MEDICAL</td>\n",
              "      <td>C</td>\n",
              "      <td>5500</td>\n",
              "      <td>12.87</td>\n",
              "      <td>1</td>\n",
              "      <td>0.57</td>\n",
              "      <td>N</td>\n",
              "      <td>3</td>\n",
              "    </tr>\n",
              "    <tr>\n",
              "      <th>3</th>\n",
              "      <td>23</td>\n",
              "      <td>65500</td>\n",
              "      <td>RENT</td>\n",
              "      <td>4.0</td>\n",
              "      <td>MEDICAL</td>\n",
              "      <td>C</td>\n",
              "      <td>35000</td>\n",
              "      <td>15.23</td>\n",
              "      <td>1</td>\n",
              "      <td>0.53</td>\n",
              "      <td>N</td>\n",
              "      <td>2</td>\n",
              "    </tr>\n",
              "    <tr>\n",
              "      <th>4</th>\n",
              "      <td>24</td>\n",
              "      <td>54400</td>\n",
              "      <td>RENT</td>\n",
              "      <td>8.0</td>\n",
              "      <td>MEDICAL</td>\n",
              "      <td>C</td>\n",
              "      <td>35000</td>\n",
              "      <td>14.27</td>\n",
              "      <td>1</td>\n",
              "      <td>0.55</td>\n",
              "      <td>Y</td>\n",
              "      <td>4</td>\n",
              "    </tr>\n",
              "  </tbody>\n",
              "</table>\n",
              "</div>"
            ],
            "text/plain": [
              "   person_age  ...  cb_person_cred_hist_length\n",
              "0          22  ...                           3\n",
              "1          21  ...                           2\n",
              "2          25  ...                           3\n",
              "3          23  ...                           2\n",
              "4          24  ...                           4\n",
              "\n",
              "[5 rows x 12 columns]"
            ]
          },
          "metadata": {},
          "execution_count": 4
        }
      ]
    },
    {
      "cell_type": "code",
      "metadata": {
        "colab": {
          "base_uri": "https://localhost:8080/"
        },
        "id": "r-cA-UDvsoc2",
        "outputId": "dd961fd8-98f5-404b-8e16-781a791d319e"
      },
      "source": [
        "linha, coluna = df.shape\n",
        "df.shape"
      ],
      "execution_count": 5,
      "outputs": [
        {
          "output_type": "execute_result",
          "data": {
            "text/plain": [
              "(32581, 12)"
            ]
          },
          "metadata": {},
          "execution_count": 5
        }
      ]
    },
    {
      "cell_type": "code",
      "metadata": {
        "colab": {
          "base_uri": "https://localhost:8080/"
        },
        "id": "-avfYqAsK-3y",
        "outputId": "9f9058da-b318-4325-8f22-577bb55c459d"
      },
      "source": [
        "df.info()"
      ],
      "execution_count": 6,
      "outputs": [
        {
          "output_type": "stream",
          "name": "stdout",
          "text": [
            "<class 'pandas.core.frame.DataFrame'>\n",
            "RangeIndex: 32581 entries, 0 to 32580\n",
            "Data columns (total 12 columns):\n",
            " #   Column                      Non-Null Count  Dtype  \n",
            "---  ------                      --------------  -----  \n",
            " 0   person_age                  32581 non-null  int64  \n",
            " 1   person_income               32581 non-null  int64  \n",
            " 2   person_home_ownership       32581 non-null  object \n",
            " 3   person_emp_length           31686 non-null  float64\n",
            " 4   loan_intent                 32581 non-null  object \n",
            " 5   loan_grade                  32581 non-null  object \n",
            " 6   loan_amnt                   32581 non-null  int64  \n",
            " 7   loan_int_rate               29465 non-null  float64\n",
            " 8   loan_status                 32581 non-null  int64  \n",
            " 9   loan_percent_income         32581 non-null  float64\n",
            " 10  cb_person_default_on_file   32581 non-null  object \n",
            " 11  cb_person_cred_hist_length  32581 non-null  int64  \n",
            "dtypes: float64(3), int64(5), object(4)\n",
            "memory usage: 3.0+ MB\n"
          ]
        }
      ]
    },
    {
      "cell_type": "code",
      "metadata": {
        "colab": {
          "base_uri": "https://localhost:8080/"
        },
        "id": "tohw_Bdg97JW",
        "outputId": "1da5bdcc-52d3-478d-95e4-bf9f9f8883fe"
      },
      "source": [
        "Nan_per = df.isnull().sum()/df.shape[0]*100\n",
        "Nan_per.round(2)"
      ],
      "execution_count": 7,
      "outputs": [
        {
          "output_type": "execute_result",
          "data": {
            "text/plain": [
              "person_age                    0.00\n",
              "person_income                 0.00\n",
              "person_home_ownership         0.00\n",
              "person_emp_length             2.75\n",
              "loan_intent                   0.00\n",
              "loan_grade                    0.00\n",
              "loan_amnt                     0.00\n",
              "loan_int_rate                 9.56\n",
              "loan_status                   0.00\n",
              "loan_percent_income           0.00\n",
              "cb_person_default_on_file     0.00\n",
              "cb_person_cred_hist_length    0.00\n",
              "dtype: float64"
            ]
          },
          "metadata": {},
          "execution_count": 7
        }
      ]
    },
    {
      "cell_type": "code",
      "metadata": {
        "id": "WEOeMAVLv7Jc",
        "colab": {
          "base_uri": "https://localhost:8080/",
          "height": 106
        },
        "outputId": "00979cc1-3e6c-433b-e342-dee7dc5fdc79"
      },
      "source": [
        "'''\n",
        "Dicionário de Dados\n",
        "0   person_age IDADE int64  \n",
        "1   person_income RENDA int64  \n",
        "2   person_home_ownership TIPO DE PROPRIEDADE DA CASA object\n",
        "3   person_emp_length TEMPO DE TRABALHO float64\n",
        "4   loan_intent MOTIVO DO EMPRÉSTIMO  object \n",
        "5   loan_grade GRAU DO EMPRÉSTIMO  object \n",
        "6   loan_amnt VALOR DO EMPRÉSTIMO int64  \n",
        "7   loan_int_rate TAXA DE JUROS float64\n",
        "8   loan_status STATUS DO EMPRÉSTIMO (0 is non default 1 is default) int64  \n",
        "9   loan_percent_income PERCENTUAL DO EMPRÉSTIMO RELATIVO A RENDA float64\n",
        "10  cb_person_default_on_file PADRÃO HISTÓRICO object \n",
        "11  cb_person_cred_hist_length SCORE DE CRÉDITO int64 \n",
        "'''"
      ],
      "execution_count": 8,
      "outputs": [
        {
          "output_type": "execute_result",
          "data": {
            "application/vnd.google.colaboratory.intrinsic+json": {
              "type": "string"
            },
            "text/plain": [
              "'\\nDicionário de Dados\\n0   person_age IDADE int64  \\n1   person_income RENDA int64  \\n2   person_home_ownership TIPO DE PROPRIEDADE DA CASA object\\n3   person_emp_length TEMPO DE TRABALHO float64\\n4   loan_intent MOTIVO DO EMPRÉSTIMO  object \\n5   loan_grade GRAU DO EMPRÉSTIMO  object \\n6   loan_amnt VALOR DO EMPRÉSTIMO int64  \\n7   loan_int_rate TAXA DE JUROS float64\\n8   loan_status STATUS DO EMPRÉSTIMO (0 is non default 1 is default) int64  \\n9   loan_percent_income PERCENTUAL DO EMPRÉSTIMO RELATIVO A RENDA float64\\n10  cb_person_default_on_file PADRÃO HISTÓRICO object \\n11  cb_person_cred_hist_length SCORE DE CRÉDITO int64 \\n'"
            ]
          },
          "metadata": {},
          "execution_count": 8
        }
      ]
    },
    {
      "cell_type": "markdown",
      "metadata": {
        "id": "tQO3JgsVKu_d"
      },
      "source": [
        "# Person_age\n",
        "\n",
        "\n",
        "---\n",
        "\n",
        "Excluídos 5 registros > 100\n",
        "\n",
        "\n",
        "---\n",
        "\n",
        "df -> df_v2\n",
        "\n",
        "\n",
        "\n",
        "---\n",
        "\n",
        "A idade média dos clientes é de 27.7 e a mediana é de 26."
      ]
    },
    {
      "cell_type": "code",
      "metadata": {
        "colab": {
          "base_uri": "https://localhost:8080/"
        },
        "id": "FG5s_pI8Kt-Q",
        "outputId": "80c8b1ea-070c-4651-df61-7b2162be3b75"
      },
      "source": [
        "df.person_age.nunique()"
      ],
      "execution_count": 9,
      "outputs": [
        {
          "output_type": "execute_result",
          "data": {
            "text/plain": [
              "58"
            ]
          },
          "metadata": {},
          "execution_count": 9
        }
      ]
    },
    {
      "cell_type": "code",
      "metadata": {
        "colab": {
          "base_uri": "https://localhost:8080/"
        },
        "id": "XfrQFQHqK98n",
        "outputId": "cf35d8c0-4a34-4840-e7b2-e075398b59bf"
      },
      "source": [
        "df.person_age.unique()"
      ],
      "execution_count": 10,
      "outputs": [
        {
          "output_type": "execute_result",
          "data": {
            "text/plain": [
              "array([ 22,  21,  25,  23,  24,  26, 144, 123,  20,  32,  34,  29,  33,\n",
              "        28,  35,  31,  27,  30,  36,  40,  50,  45,  37,  39,  44,  43,\n",
              "        41,  46,  38,  47,  42,  48,  49,  58,  65,  51,  53,  66,  61,\n",
              "        54,  57,  59,  62,  60,  55,  52,  64,  70,  78,  69,  56,  73,\n",
              "        63,  94,  80,  84,  76,  67])"
            ]
          },
          "metadata": {},
          "execution_count": 10
        }
      ]
    },
    {
      "cell_type": "code",
      "metadata": {
        "colab": {
          "base_uri": "https://localhost:8080/"
        },
        "id": "kRKBYttUMSkT",
        "outputId": "c72c395c-6572-4ad1-8d06-a43fe96f8ec6"
      },
      "source": [
        "df['person_age'].min()"
      ],
      "execution_count": 11,
      "outputs": [
        {
          "output_type": "execute_result",
          "data": {
            "text/plain": [
              "20"
            ]
          },
          "metadata": {},
          "execution_count": 11
        }
      ]
    },
    {
      "cell_type": "code",
      "metadata": {
        "colab": {
          "base_uri": "https://localhost:8080/"
        },
        "id": "w1fN_u6bL4dP",
        "outputId": "25973a04-1d0e-4a18-a35e-dcd0fe77bdfd"
      },
      "source": [
        "df[df['person_age'] > 100].shape # São 5 registros de clientes com idade acima de 100. Serão desconsiderados."
      ],
      "execution_count": 12,
      "outputs": [
        {
          "output_type": "execute_result",
          "data": {
            "text/plain": [
              "(5, 12)"
            ]
          },
          "metadata": {},
          "execution_count": 12
        }
      ]
    },
    {
      "cell_type": "code",
      "metadata": {
        "colab": {
          "base_uri": "https://localhost:8080/",
          "height": 222
        },
        "id": "ErXM8tcu8GN9",
        "outputId": "62ff1d6d-7ad7-4750-ce74-0784327669a8"
      },
      "source": [
        "df[df['person_age'] > 100]"
      ],
      "execution_count": 13,
      "outputs": [
        {
          "output_type": "execute_result",
          "data": {
            "text/html": [
              "<div>\n",
              "<style scoped>\n",
              "    .dataframe tbody tr th:only-of-type {\n",
              "        vertical-align: middle;\n",
              "    }\n",
              "\n",
              "    .dataframe tbody tr th {\n",
              "        vertical-align: top;\n",
              "    }\n",
              "\n",
              "    .dataframe thead th {\n",
              "        text-align: right;\n",
              "    }\n",
              "</style>\n",
              "<table border=\"1\" class=\"dataframe\">\n",
              "  <thead>\n",
              "    <tr style=\"text-align: right;\">\n",
              "      <th></th>\n",
              "      <th>person_age</th>\n",
              "      <th>person_income</th>\n",
              "      <th>person_home_ownership</th>\n",
              "      <th>person_emp_length</th>\n",
              "      <th>loan_intent</th>\n",
              "      <th>loan_grade</th>\n",
              "      <th>loan_amnt</th>\n",
              "      <th>loan_int_rate</th>\n",
              "      <th>loan_status</th>\n",
              "      <th>loan_percent_income</th>\n",
              "      <th>cb_person_default_on_file</th>\n",
              "      <th>cb_person_cred_hist_length</th>\n",
              "    </tr>\n",
              "  </thead>\n",
              "  <tbody>\n",
              "    <tr>\n",
              "      <th>81</th>\n",
              "      <td>144</td>\n",
              "      <td>250000</td>\n",
              "      <td>RENT</td>\n",
              "      <td>4.0</td>\n",
              "      <td>VENTURE</td>\n",
              "      <td>C</td>\n",
              "      <td>4800</td>\n",
              "      <td>13.57</td>\n",
              "      <td>0</td>\n",
              "      <td>0.02</td>\n",
              "      <td>N</td>\n",
              "      <td>3</td>\n",
              "    </tr>\n",
              "    <tr>\n",
              "      <th>183</th>\n",
              "      <td>144</td>\n",
              "      <td>200000</td>\n",
              "      <td>MORTGAGE</td>\n",
              "      <td>4.0</td>\n",
              "      <td>EDUCATION</td>\n",
              "      <td>B</td>\n",
              "      <td>6000</td>\n",
              "      <td>11.86</td>\n",
              "      <td>0</td>\n",
              "      <td>0.03</td>\n",
              "      <td>N</td>\n",
              "      <td>2</td>\n",
              "    </tr>\n",
              "    <tr>\n",
              "      <th>575</th>\n",
              "      <td>123</td>\n",
              "      <td>80004</td>\n",
              "      <td>RENT</td>\n",
              "      <td>2.0</td>\n",
              "      <td>EDUCATION</td>\n",
              "      <td>B</td>\n",
              "      <td>20400</td>\n",
              "      <td>10.25</td>\n",
              "      <td>0</td>\n",
              "      <td>0.25</td>\n",
              "      <td>N</td>\n",
              "      <td>3</td>\n",
              "    </tr>\n",
              "    <tr>\n",
              "      <th>747</th>\n",
              "      <td>123</td>\n",
              "      <td>78000</td>\n",
              "      <td>RENT</td>\n",
              "      <td>7.0</td>\n",
              "      <td>VENTURE</td>\n",
              "      <td>B</td>\n",
              "      <td>20000</td>\n",
              "      <td>NaN</td>\n",
              "      <td>0</td>\n",
              "      <td>0.26</td>\n",
              "      <td>N</td>\n",
              "      <td>4</td>\n",
              "    </tr>\n",
              "    <tr>\n",
              "      <th>32297</th>\n",
              "      <td>144</td>\n",
              "      <td>6000000</td>\n",
              "      <td>MORTGAGE</td>\n",
              "      <td>12.0</td>\n",
              "      <td>PERSONAL</td>\n",
              "      <td>C</td>\n",
              "      <td>5000</td>\n",
              "      <td>12.73</td>\n",
              "      <td>0</td>\n",
              "      <td>0.00</td>\n",
              "      <td>N</td>\n",
              "      <td>25</td>\n",
              "    </tr>\n",
              "  </tbody>\n",
              "</table>\n",
              "</div>"
            ],
            "text/plain": [
              "       person_age  ...  cb_person_cred_hist_length\n",
              "81            144  ...                           3\n",
              "183           144  ...                           2\n",
              "575           123  ...                           3\n",
              "747           123  ...                           4\n",
              "32297         144  ...                          25\n",
              "\n",
              "[5 rows x 12 columns]"
            ]
          },
          "metadata": {},
          "execution_count": 13
        }
      ]
    },
    {
      "cell_type": "code",
      "metadata": {
        "id": "v8jggrSarlhD"
      },
      "source": [
        "df_v2 = df[df['person_age']<= 100]"
      ],
      "execution_count": 14,
      "outputs": []
    },
    {
      "cell_type": "code",
      "metadata": {
        "colab": {
          "base_uri": "https://localhost:8080/"
        },
        "id": "TzzzvWrMDUcT",
        "outputId": "8f44d3b5-3757-415f-baf7-4eb625bce430"
      },
      "source": [
        "df_v2.shape"
      ],
      "execution_count": 15,
      "outputs": [
        {
          "output_type": "execute_result",
          "data": {
            "text/plain": [
              "(32576, 12)"
            ]
          },
          "metadata": {},
          "execution_count": 15
        }
      ]
    },
    {
      "cell_type": "code",
      "metadata": {
        "colab": {
          "base_uri": "https://localhost:8080/"
        },
        "id": "lqeFm8zV6dZC",
        "outputId": "8d89c9d1-1eaa-4f19-ea8e-d27da14675b0"
      },
      "source": [
        "df_v2['person_age'].describe()"
      ],
      "execution_count": 16,
      "outputs": [
        {
          "output_type": "execute_result",
          "data": {
            "text/plain": [
              "count    32576.000000\n",
              "mean        27.718044\n",
              "std          6.204990\n",
              "min         20.000000\n",
              "25%         23.000000\n",
              "50%         26.000000\n",
              "75%         30.000000\n",
              "max         94.000000\n",
              "Name: person_age, dtype: float64"
            ]
          },
          "metadata": {},
          "execution_count": 16
        }
      ]
    },
    {
      "cell_type": "code",
      "metadata": {
        "colab": {
          "base_uri": "https://localhost:8080/",
          "height": 282
        },
        "id": "x8plUrbq6N8N",
        "outputId": "babb0736-d5e5-4a08-cb93-747de409b896"
      },
      "source": [
        "df_v2['person_age'].hist()"
      ],
      "execution_count": 17,
      "outputs": [
        {
          "output_type": "execute_result",
          "data": {
            "text/plain": [
              "<matplotlib.axes._subplots.AxesSubplot at 0x7efc0558d2d0>"
            ]
          },
          "metadata": {},
          "execution_count": 17
        },
        {
          "output_type": "display_data",
          "data": {
            "image/png": "[encoded data removed]",
            "text/plain": [
              "<Figure size 432x288 with 1 Axes>"
            ]
          },
          "metadata": {
            "needs_background": "light"
          }
        }
      ]
    },
    {
      "cell_type": "markdown",
      "metadata": {
        "id": "Wrsg2VD6MkFS"
      },
      "source": [
        "# Person_income\n",
        "Renda\n",
        "\n",
        "\n",
        "---\n",
        "\n",
        "\n",
        "Coluna apresenta outliers, mas, em regra, serão mantidos na base de dados. Afinal, não é uma premissa do modelo ser incapaz de avaliar clientes com alta renda.\n",
        "\n",
        "\n",
        "---\n",
        "\n",
        "\n",
        "Especialmente o ID 32297, que apresenta o valor máximo do atributo (R$ 6.000.000), será excluído devido à idade 144, não pela renda.\n",
        "\n",
        "\n",
        "---\n",
        "\n",
        "A renda média dos clientes é de 65,882.14 e a mediana 55,000"
      ]
    },
    {
      "cell_type": "code",
      "metadata": {
        "colab": {
          "base_uri": "https://localhost:8080/"
        },
        "id": "eCC9oxkHMok5",
        "outputId": "2c168d30-aebb-4854-ea61-0fd1ddb2afa6"
      },
      "source": [
        "df_v2['person_income'].nunique()"
      ],
      "execution_count": 18,
      "outputs": [
        {
          "output_type": "execute_result",
          "data": {
            "text/plain": [
              "4294"
            ]
          },
          "metadata": {},
          "execution_count": 18
        }
      ]
    },
    {
      "cell_type": "code",
      "metadata": {
        "colab": {
          "base_uri": "https://localhost:8080/"
        },
        "id": "wmqhPMWYMpUG",
        "outputId": "cce91450-df59-4073-eec7-47d76be6e709"
      },
      "source": [
        "df_v2['person_income'].unique()"
      ],
      "execution_count": 19,
      "outputs": [
        {
          "output_type": "execute_result",
          "data": {
            "text/plain": [
              "array([  59000,    9600,   65500, ...,  720000, 1900000,    4888])"
            ]
          },
          "metadata": {},
          "execution_count": 19
        }
      ]
    },
    {
      "cell_type": "code",
      "metadata": {
        "id": "ZS-DqkVOMpWu",
        "colab": {
          "base_uri": "https://localhost:8080/"
        },
        "outputId": "961eaf6f-395c-49be-ac1e-58b6bf64da8b"
      },
      "source": [
        "df_v2['person_income'].describe().round(2)"
      ],
      "execution_count": 20,
      "outputs": [
        {
          "output_type": "execute_result",
          "data": {
            "text/plain": [
              "count      32576.00\n",
              "mean       65882.14\n",
              "std        52534.99\n",
              "min         4000.00\n",
              "25%        38500.00\n",
              "50%        55000.00\n",
              "75%        79200.00\n",
              "max      2039784.00\n",
              "Name: person_income, dtype: float64"
            ]
          },
          "metadata": {},
          "execution_count": 20
        }
      ]
    },
    {
      "cell_type": "code",
      "metadata": {
        "colab": {
          "base_uri": "https://localhost:8080/"
        },
        "id": "y-0yB9f7QLyn",
        "outputId": "5de818f7-b5ec-4648-89d4-561a3fbc4858"
      },
      "source": [
        "identify_outlier(df_v2['person_income'])"
      ],
      "execution_count": 21,
      "outputs": [
        {
          "output_type": "execute_result",
          "data": {
            "text/plain": [
              "15        500000\n",
              "20        162500\n",
              "33        306000\n",
              "34        300000\n",
              "42        300000\n",
              "          ...   \n",
              "32544     780000\n",
              "32546    1900000\n",
              "32551     780000\n",
              "32562     160000\n",
              "32579     150000\n",
              "Name: person_income, Length: 1481, dtype: int64"
            ]
          },
          "metadata": {},
          "execution_count": 21
        }
      ]
    },
    {
      "cell_type": "code",
      "metadata": {
        "colab": {
          "base_uri": "https://localhost:8080/",
          "height": 297
        },
        "id": "Tyjzrt7nRCwv",
        "outputId": "60b2a02f-ebf3-4471-9d4e-1afebe268c27"
      },
      "source": [
        "sns.boxplot(x='person_income', data=df_v2, fliersize=5)"
      ],
      "execution_count": 22,
      "outputs": [
        {
          "output_type": "execute_result",
          "data": {
            "text/plain": [
              "<matplotlib.axes._subplots.AxesSubplot at 0x7efc05488cd0>"
            ]
          },
          "metadata": {},
          "execution_count": 22
        },
        {
          "output_type": "display_data",
          "data": {
            "image/png": "[encoded data removed]",
            "text/plain": [
              "<Figure size 432x288 with 1 Axes>"
            ]
          },
          "metadata": {
            "needs_background": "light"
          }
        }
      ]
    },
    {
      "cell_type": "code",
      "metadata": {
        "colab": {
          "base_uri": "https://localhost:8080/",
          "height": 98
        },
        "id": "FbXeUl71RC7Z",
        "outputId": "71111673-fbea-4dbe-885b-ff2ddd9ad750"
      },
      "source": [
        "df_v2.loc[df['person_income'] == df_v2['person_income'].max()]\n",
        "#Registro já será desconsiderado devido à idade."
      ],
      "execution_count": 23,
      "outputs": [
        {
          "output_type": "execute_result",
          "data": {
            "text/html": [
              "<div>\n",
              "<style scoped>\n",
              "    .dataframe tbody tr th:only-of-type {\n",
              "        vertical-align: middle;\n",
              "    }\n",
              "\n",
              "    .dataframe tbody tr th {\n",
              "        vertical-align: top;\n",
              "    }\n",
              "\n",
              "    .dataframe thead th {\n",
              "        text-align: right;\n",
              "    }\n",
              "</style>\n",
              "<table border=\"1\" class=\"dataframe\">\n",
              "  <thead>\n",
              "    <tr style=\"text-align: right;\">\n",
              "      <th></th>\n",
              "      <th>person_age</th>\n",
              "      <th>person_income</th>\n",
              "      <th>person_home_ownership</th>\n",
              "      <th>person_emp_length</th>\n",
              "      <th>loan_intent</th>\n",
              "      <th>loan_grade</th>\n",
              "      <th>loan_amnt</th>\n",
              "      <th>loan_int_rate</th>\n",
              "      <th>loan_status</th>\n",
              "      <th>loan_percent_income</th>\n",
              "      <th>cb_person_default_on_file</th>\n",
              "      <th>cb_person_cred_hist_length</th>\n",
              "    </tr>\n",
              "  </thead>\n",
              "  <tbody>\n",
              "    <tr>\n",
              "      <th>30049</th>\n",
              "      <td>42</td>\n",
              "      <td>2039784</td>\n",
              "      <td>RENT</td>\n",
              "      <td>0.0</td>\n",
              "      <td>VENTURE</td>\n",
              "      <td>C</td>\n",
              "      <td>8450</td>\n",
              "      <td>12.29</td>\n",
              "      <td>0</td>\n",
              "      <td>0.0</td>\n",
              "      <td>Y</td>\n",
              "      <td>15</td>\n",
              "    </tr>\n",
              "  </tbody>\n",
              "</table>\n",
              "</div>"
            ],
            "text/plain": [
              "       person_age  ...  cb_person_cred_hist_length\n",
              "30049          42  ...                          15\n",
              "\n",
              "[1 rows x 12 columns]"
            ]
          },
          "metadata": {},
          "execution_count": 23
        }
      ]
    },
    {
      "cell_type": "markdown",
      "metadata": {
        "id": "ZbTj5mOYRqX6"
      },
      "source": [
        "#Person_home_ownership\n",
        "\n",
        "\n",
        "---\n",
        "\n",
        "A maioria dos clientes mora em casa alugada (50.47) ou financiada (41.26)"
      ]
    },
    {
      "cell_type": "code",
      "metadata": {
        "colab": {
          "base_uri": "https://localhost:8080/"
        },
        "id": "Q4Bk0eg4Rzd6",
        "outputId": "39272d7f-7f0a-468a-87eb-17aec0d0fb31"
      },
      "source": [
        "df_v2['person_home_ownership'].nunique()"
      ],
      "execution_count": 24,
      "outputs": [
        {
          "output_type": "execute_result",
          "data": {
            "text/plain": [
              "4"
            ]
          },
          "metadata": {},
          "execution_count": 24
        }
      ]
    },
    {
      "cell_type": "code",
      "metadata": {
        "colab": {
          "base_uri": "https://localhost:8080/"
        },
        "id": "m8R0SL_IRzjT",
        "outputId": "f64cb653-ca1a-4b78-e5e2-876518e9daba"
      },
      "source": [
        "df_v2['person_home_ownership'].unique()"
      ],
      "execution_count": 25,
      "outputs": [
        {
          "output_type": "execute_result",
          "data": {
            "text/plain": [
              "array(['RENT', 'OWN', 'MORTGAGE', 'OTHER'], dtype=object)"
            ]
          },
          "metadata": {},
          "execution_count": 25
        }
      ]
    },
    {
      "cell_type": "code",
      "metadata": {
        "id": "AGljhDxJ_27J"
      },
      "source": [
        "df_v2_gb_ownership = df_v2.groupby('person_home_ownership')"
      ],
      "execution_count": 26,
      "outputs": []
    },
    {
      "cell_type": "code",
      "metadata": {
        "colab": {
          "base_uri": "https://localhost:8080/"
        },
        "id": "iJFkKIPU_Ly-",
        "outputId": "e2425478-73e6-4b48-fb30-57d9dced01de"
      },
      "source": [
        "df_v2_gb_ownership.size().sort_values(ascending=False)"
      ],
      "execution_count": 27,
      "outputs": [
        {
          "output_type": "execute_result",
          "data": {
            "text/plain": [
              "person_home_ownership\n",
              "RENT        16443\n",
              "MORTGAGE    13442\n",
              "OWN          2584\n",
              "OTHER         107\n",
              "dtype: int64"
            ]
          },
          "metadata": {},
          "execution_count": 27
        }
      ]
    },
    {
      "cell_type": "code",
      "metadata": {
        "id": "BKaeepZ2AZn5"
      },
      "source": [
        "sum_df_v2_gb_ownership = df_v2_gb_ownership.size().sum()"
      ],
      "execution_count": 28,
      "outputs": []
    },
    {
      "cell_type": "code",
      "metadata": {
        "colab": {
          "base_uri": "https://localhost:8080/"
        },
        "id": "880bkO9eBBZl",
        "outputId": "60e847bc-dd45-4286-953c-041bc0060d63"
      },
      "source": [
        "100 * 16443 / sum_df_v2_gb_ownership"
      ],
      "execution_count": 29,
      "outputs": [
        {
          "output_type": "execute_result",
          "data": {
            "text/plain": [
              "50.47581041257367"
            ]
          },
          "metadata": {},
          "execution_count": 29
        }
      ]
    },
    {
      "cell_type": "code",
      "metadata": {
        "colab": {
          "base_uri": "https://localhost:8080/"
        },
        "id": "v7XkRoT8BPHX",
        "outputId": "3966fea8-2334-44ad-c719-8bd3980078ab"
      },
      "source": [
        "100 * 13442 / sum_df_v2_gb_ownership"
      ],
      "execution_count": 30,
      "outputs": [
        {
          "output_type": "execute_result",
          "data": {
            "text/plain": [
              "41.2635068762279"
            ]
          },
          "metadata": {},
          "execution_count": 30
        }
      ]
    },
    {
      "cell_type": "markdown",
      "metadata": {
        "id": "8PWTWY2YBtHU"
      },
      "source": [
        "#person_emp_length\n",
        "\n",
        "\n",
        "---\n",
        "\n",
        "Apresenta dados faltantes\n",
        "\n",
        "\n",
        "---\n",
        "\n",
        "Apresenta 2 registros de pessoas que supostamente tem tempo de serviço de 123 anos. Serão retiradas da base de dados.\n",
        "\n",
        "---\n",
        "\n",
        "df_v2 => df_v3"
      ]
    },
    {
      "cell_type": "code",
      "metadata": {
        "colab": {
          "base_uri": "https://localhost:8080/"
        },
        "id": "wxZtWua5BzJy",
        "outputId": "4f703523-8cf3-4cb2-e453-7f298e340baa"
      },
      "source": [
        "df_v2['person_emp_length'].nunique()"
      ],
      "execution_count": 31,
      "outputs": [
        {
          "output_type": "execute_result",
          "data": {
            "text/plain": [
              "36"
            ]
          },
          "metadata": {},
          "execution_count": 31
        }
      ]
    },
    {
      "cell_type": "code",
      "metadata": {
        "colab": {
          "base_uri": "https://localhost:8080/"
        },
        "id": "Thf-PcZRBzQ5",
        "outputId": "e366e2be-168a-4c0a-9c68-476551ba42e1"
      },
      "source": [
        "df_v2['person_emp_length'].unique()"
      ],
      "execution_count": 32,
      "outputs": [
        {
          "output_type": "execute_result",
          "data": {
            "text/plain": [
              "array([123.,   5.,   1.,   4.,   8.,   2.,   6.,   7.,   0.,   9.,   3.,\n",
              "        10.,  nan,  11.,  18.,  12.,  17.,  14.,  16.,  13.,  19.,  15.,\n",
              "        20.,  22.,  21.,  24.,  23.,  26.,  25.,  27.,  28.,  31.,  41.,\n",
              "        34.,  29.,  38.,  30.])"
            ]
          },
          "metadata": {},
          "execution_count": 32
        }
      ]
    },
    {
      "cell_type": "code",
      "metadata": {
        "colab": {
          "base_uri": "https://localhost:8080/"
        },
        "id": "Bx3n9CZICAv7",
        "outputId": "b8e6c0b9-f15d-4fc9-b76d-35383655c6cc"
      },
      "source": [
        "df_v2['person_emp_length'].describe()"
      ],
      "execution_count": 33,
      "outputs": [
        {
          "output_type": "execute_result",
          "data": {
            "text/plain": [
              "count    31681.000000\n",
              "mean         4.789527\n",
              "std          4.142706\n",
              "min          0.000000\n",
              "25%          2.000000\n",
              "50%          4.000000\n",
              "75%          7.000000\n",
              "max        123.000000\n",
              "Name: person_emp_length, dtype: float64"
            ]
          },
          "metadata": {},
          "execution_count": 33
        }
      ]
    },
    {
      "cell_type": "code",
      "metadata": {
        "colab": {
          "base_uri": "https://localhost:8080/"
        },
        "id": "KA6iWH9tCUgN",
        "outputId": "7e182317-644a-4d87-e34d-9a1b0f9da1f0"
      },
      "source": [
        "df_v2['person_emp_length'].isnull().sum()"
      ],
      "execution_count": 34,
      "outputs": [
        {
          "output_type": "execute_result",
          "data": {
            "text/plain": [
              "895"
            ]
          },
          "metadata": {},
          "execution_count": 34
        }
      ]
    },
    {
      "cell_type": "code",
      "metadata": {
        "colab": {
          "base_uri": "https://localhost:8080/",
          "height": 282
        },
        "id": "yLbc-M1rCeLh",
        "outputId": "80e44d93-13ec-46f3-fec1-ca0c32a01167"
      },
      "source": [
        "df_v2['person_emp_length'].hist()"
      ],
      "execution_count": 35,
      "outputs": [
        {
          "output_type": "execute_result",
          "data": {
            "text/plain": [
              "<matplotlib.axes._subplots.AxesSubplot at 0x7efc04f766d0>"
            ]
          },
          "metadata": {},
          "execution_count": 35
        },
        {
          "output_type": "display_data",
          "data": {
            "image/png": "[encoded data removed]",
            "text/plain": [
              "<Figure size 432x288 with 1 Axes>"
            ]
          },
          "metadata": {
            "needs_background": "light"
          }
        }
      ]
    },
    {
      "cell_type": "code",
      "metadata": {
        "colab": {
          "base_uri": "https://localhost:8080/"
        },
        "id": "opgiQA04Z72m",
        "outputId": "50848243-c40a-4ddd-9d77-47ec273eea8c"
      },
      "source": [
        "df_v2.shape"
      ],
      "execution_count": 36,
      "outputs": [
        {
          "output_type": "execute_result",
          "data": {
            "text/plain": [
              "(32576, 12)"
            ]
          },
          "metadata": {},
          "execution_count": 36
        }
      ]
    },
    {
      "cell_type": "code",
      "metadata": {
        "id": "1BnyIHmJCigQ"
      },
      "source": [
        "df_3teste = df_v2.loc[df_v2['person_emp_length'] >= 50]"
      ],
      "execution_count": 37,
      "outputs": []
    },
    {
      "cell_type": "code",
      "metadata": {
        "colab": {
          "base_uri": "https://localhost:8080/"
        },
        "id": "CSkHtBAraGt_",
        "outputId": "8c998138-892d-4435-e272-83fc211e94e0"
      },
      "source": [
        "df_3teste.shape"
      ],
      "execution_count": 38,
      "outputs": [
        {
          "output_type": "execute_result",
          "data": {
            "text/plain": [
              "(2, 12)"
            ]
          },
          "metadata": {},
          "execution_count": 38
        }
      ]
    },
    {
      "cell_type": "code",
      "metadata": {
        "id": "zHzrgZoOC_0W"
      },
      "source": [
        "df_v3_perda = df_v2.loc[df_v2['person_emp_length'] < 50]"
      ],
      "execution_count": 39,
      "outputs": []
    },
    {
      "cell_type": "code",
      "metadata": {
        "colab": {
          "base_uri": "https://localhost:8080/"
        },
        "id": "1MKBAr-yDKiG",
        "outputId": "31029ca5-3895-4bd9-a8f3-a25d3e2fd915"
      },
      "source": [
        "len(df_v3_perda)"
      ],
      "execution_count": 40,
      "outputs": [
        {
          "output_type": "execute_result",
          "data": {
            "text/plain": [
              "31679"
            ]
          },
          "metadata": {},
          "execution_count": 40
        }
      ]
    },
    {
      "cell_type": "markdown",
      "metadata": {
        "id": "cSzz32j5a1Gx"
      },
      "source": [
        "## Usando o df_v2, identifico que há 2 registros com tempo de trabalho acima de 50 anos, exatamente 123 anos de trabalho. Eles serão excluídos do dataset. Contudo, ao atribuir apenas os registros com tempo de serviço <= 50 anos, o dataset passa a ter -879 registros.\n",
        "## Isso ocorre porque quando se filtra um campo por número, os na não são levados para o filtro.\n",
        "## Utilizarei o drop para fazer a exclusão correta."
      ]
    },
    {
      "cell_type": "code",
      "metadata": {
        "colab": {
          "base_uri": "https://localhost:8080/",
          "height": 130
        },
        "id": "NT5EpPD1bm8g",
        "outputId": "aec43b95-0267-4681-f850-abe1b9369dda"
      },
      "source": [
        "df_v2.loc[df_v2['person_emp_length'] == 123]"
      ],
      "execution_count": 41,
      "outputs": [
        {
          "output_type": "execute_result",
          "data": {
            "text/html": [
              "<div>\n",
              "<style scoped>\n",
              "    .dataframe tbody tr th:only-of-type {\n",
              "        vertical-align: middle;\n",
              "    }\n",
              "\n",
              "    .dataframe tbody tr th {\n",
              "        vertical-align: top;\n",
              "    }\n",
              "\n",
              "    .dataframe thead th {\n",
              "        text-align: right;\n",
              "    }\n",
              "</style>\n",
              "<table border=\"1\" class=\"dataframe\">\n",
              "  <thead>\n",
              "    <tr style=\"text-align: right;\">\n",
              "      <th></th>\n",
              "      <th>person_age</th>\n",
              "      <th>person_income</th>\n",
              "      <th>person_home_ownership</th>\n",
              "      <th>person_emp_length</th>\n",
              "      <th>loan_intent</th>\n",
              "      <th>loan_grade</th>\n",
              "      <th>loan_amnt</th>\n",
              "      <th>loan_int_rate</th>\n",
              "      <th>loan_status</th>\n",
              "      <th>loan_percent_income</th>\n",
              "      <th>cb_person_default_on_file</th>\n",
              "      <th>cb_person_cred_hist_length</th>\n",
              "    </tr>\n",
              "  </thead>\n",
              "  <tbody>\n",
              "    <tr>\n",
              "      <th>0</th>\n",
              "      <td>22</td>\n",
              "      <td>59000</td>\n",
              "      <td>RENT</td>\n",
              "      <td>123.0</td>\n",
              "      <td>PERSONAL</td>\n",
              "      <td>D</td>\n",
              "      <td>35000</td>\n",
              "      <td>16.02</td>\n",
              "      <td>1</td>\n",
              "      <td>0.59</td>\n",
              "      <td>Y</td>\n",
              "      <td>3</td>\n",
              "    </tr>\n",
              "    <tr>\n",
              "      <th>210</th>\n",
              "      <td>21</td>\n",
              "      <td>192000</td>\n",
              "      <td>MORTGAGE</td>\n",
              "      <td>123.0</td>\n",
              "      <td>VENTURE</td>\n",
              "      <td>A</td>\n",
              "      <td>20000</td>\n",
              "      <td>6.54</td>\n",
              "      <td>0</td>\n",
              "      <td>0.10</td>\n",
              "      <td>N</td>\n",
              "      <td>4</td>\n",
              "    </tr>\n",
              "  </tbody>\n",
              "</table>\n",
              "</div>"
            ],
            "text/plain": [
              "     person_age  ...  cb_person_cred_hist_length\n",
              "0            22  ...                           3\n",
              "210          21  ...                           4\n",
              "\n",
              "[2 rows x 12 columns]"
            ]
          },
          "metadata": {},
          "execution_count": 41
        }
      ]
    },
    {
      "cell_type": "code",
      "metadata": {
        "id": "5Qa_r_RteQ2Y"
      },
      "source": [
        "df_v3 = df_v2.drop(index=[0,210])"
      ],
      "execution_count": 42,
      "outputs": []
    },
    {
      "cell_type": "code",
      "metadata": {
        "colab": {
          "base_uri": "https://localhost:8080/"
        },
        "id": "_R2zypi6esC9",
        "outputId": "c782037b-c935-4143-b981-b08862a0fc88"
      },
      "source": [
        "df_v3.shape"
      ],
      "execution_count": 43,
      "outputs": [
        {
          "output_type": "execute_result",
          "data": {
            "text/plain": [
              "(32574, 12)"
            ]
          },
          "metadata": {},
          "execution_count": 43
        }
      ]
    },
    {
      "cell_type": "code",
      "metadata": {
        "colab": {
          "base_uri": "https://localhost:8080/"
        },
        "id": "T0Lpwo7We8FM",
        "outputId": "4c49377e-bbe6-47ce-d2c3-87c209a868d0"
      },
      "source": [
        "df_v3['person_emp_length'].describe()"
      ],
      "execution_count": 44,
      "outputs": [
        {
          "output_type": "execute_result",
          "data": {
            "text/plain": [
              "count    31679.000000\n",
              "mean         4.782064\n",
              "std          4.034948\n",
              "min          0.000000\n",
              "25%          2.000000\n",
              "50%          4.000000\n",
              "75%          7.000000\n",
              "max         41.000000\n",
              "Name: person_emp_length, dtype: float64"
            ]
          },
          "metadata": {},
          "execution_count": 44
        }
      ]
    },
    {
      "cell_type": "markdown",
      "metadata": {
        "id": "nNQMbt5cfXFB"
      },
      "source": [
        "## Tratando os NA da coluna\n",
        "\n",
        "\n",
        "---\n",
        "\n",
        "Considerando que os NA representam 2,75% da coluna (pouco representativo), será atribuída a estes registros a mediana do tempo de serviço dos demais registros."
      ]
    },
    {
      "cell_type": "code",
      "metadata": {
        "colab": {
          "base_uri": "https://localhost:8080/"
        },
        "id": "G0iMGbABe8IY",
        "outputId": "4dcbd4cb-002a-4ba3-a699-be676e1d8ddf"
      },
      "source": [
        "Nan_per = df_v3.isnull().sum()/df_v3.shape[0]*100\n",
        "Nan_per['person_emp_length'].round(2)"
      ],
      "execution_count": 45,
      "outputs": [
        {
          "output_type": "execute_result",
          "data": {
            "text/plain": [
              "2.75"
            ]
          },
          "metadata": {},
          "execution_count": 45
        }
      ]
    },
    {
      "cell_type": "code",
      "metadata": {
        "id": "FIBVENH5f3os"
      },
      "source": [
        "df_v3['person_emp_length'].fillna(value=df_v3['person_emp_length'].median(), inplace=True)"
      ],
      "execution_count": 46,
      "outputs": []
    },
    {
      "cell_type": "code",
      "metadata": {
        "colab": {
          "base_uri": "https://localhost:8080/"
        },
        "id": "KaTGZR6ygo7F",
        "outputId": "5fc344be-7438-4a7c-fdcf-a94cecea6410"
      },
      "source": [
        "Nan_per = df_v3.isnull().sum()/df_v3.shape[0]*100\n",
        "Nan_per['person_emp_length'].round(2)"
      ],
      "execution_count": 47,
      "outputs": [
        {
          "output_type": "execute_result",
          "data": {
            "text/plain": [
              "0.0"
            ]
          },
          "metadata": {},
          "execution_count": 47
        }
      ]
    },
    {
      "cell_type": "markdown",
      "metadata": {
        "id": "R0FT96NRRGxb"
      },
      "source": [
        "#loan_intent MOTIVO DO EMPRÉSTIMO"
      ]
    },
    {
      "cell_type": "code",
      "metadata": {
        "colab": {
          "base_uri": "https://localhost:8080/"
        },
        "id": "bdWbaPTGRG8F",
        "outputId": "60942b49-db5f-4863-803b-c03b27a5daa0"
      },
      "source": [
        "df_v3['loan_intent'].nunique()"
      ],
      "execution_count": 48,
      "outputs": [
        {
          "output_type": "execute_result",
          "data": {
            "text/plain": [
              "6"
            ]
          },
          "metadata": {},
          "execution_count": 48
        }
      ]
    },
    {
      "cell_type": "code",
      "metadata": {
        "colab": {
          "base_uri": "https://localhost:8080/"
        },
        "id": "GbG60S_6guoJ",
        "outputId": "7f173b04-f2e6-41e8-ea15-0757b1c71391"
      },
      "source": [
        "df_v3['loan_intent'].unique()"
      ],
      "execution_count": 49,
      "outputs": [
        {
          "output_type": "execute_result",
          "data": {
            "text/plain": [
              "array(['EDUCATION', 'MEDICAL', 'VENTURE', 'PERSONAL', 'HOMEIMPROVEMENT',\n",
              "       'DEBTCONSOLIDATION'], dtype=object)"
            ]
          },
          "metadata": {},
          "execution_count": 49
        }
      ]
    },
    {
      "cell_type": "code",
      "metadata": {
        "id": "3X2SLPUwgyLj"
      },
      "source": [
        "df_v3_gb_intent = df_v3.groupby(\"loan_intent\")[['person_age', 'loan_amnt']]"
      ],
      "execution_count": 50,
      "outputs": []
    },
    {
      "cell_type": "code",
      "metadata": {
        "colab": {
          "base_uri": "https://localhost:8080/",
          "height": 263
        },
        "id": "haCdr3WLiEiX",
        "outputId": "ba01edb3-7044-42bb-d714-f2e79f8c201c"
      },
      "source": [
        "df_v3_gb_intent.count().sort_values(by='loan_amnt', ascending=False)"
      ],
      "execution_count": 51,
      "outputs": [
        {
          "output_type": "execute_result",
          "data": {
            "text/html": [
              "<div>\n",
              "<style scoped>\n",
              "    .dataframe tbody tr th:only-of-type {\n",
              "        vertical-align: middle;\n",
              "    }\n",
              "\n",
              "    .dataframe tbody tr th {\n",
              "        vertical-align: top;\n",
              "    }\n",
              "\n",
              "    .dataframe thead th {\n",
              "        text-align: right;\n",
              "    }\n",
              "</style>\n",
              "<table border=\"1\" class=\"dataframe\">\n",
              "  <thead>\n",
              "    <tr style=\"text-align: right;\">\n",
              "      <th></th>\n",
              "      <th>person_age</th>\n",
              "      <th>loan_amnt</th>\n",
              "    </tr>\n",
              "    <tr>\n",
              "      <th>loan_intent</th>\n",
              "      <th></th>\n",
              "      <th></th>\n",
              "    </tr>\n",
              "  </thead>\n",
              "  <tbody>\n",
              "    <tr>\n",
              "      <th>EDUCATION</th>\n",
              "      <td>6451</td>\n",
              "      <td>6451</td>\n",
              "    </tr>\n",
              "    <tr>\n",
              "      <th>MEDICAL</th>\n",
              "      <td>6071</td>\n",
              "      <td>6071</td>\n",
              "    </tr>\n",
              "    <tr>\n",
              "      <th>VENTURE</th>\n",
              "      <td>5716</td>\n",
              "      <td>5716</td>\n",
              "    </tr>\n",
              "    <tr>\n",
              "      <th>PERSONAL</th>\n",
              "      <td>5519</td>\n",
              "      <td>5519</td>\n",
              "    </tr>\n",
              "    <tr>\n",
              "      <th>DEBTCONSOLIDATION</th>\n",
              "      <td>5212</td>\n",
              "      <td>5212</td>\n",
              "    </tr>\n",
              "    <tr>\n",
              "      <th>HOMEIMPROVEMENT</th>\n",
              "      <td>3605</td>\n",
              "      <td>3605</td>\n",
              "    </tr>\n",
              "  </tbody>\n",
              "</table>\n",
              "</div>"
            ],
            "text/plain": [
              "                   person_age  loan_amnt\n",
              "loan_intent                             \n",
              "EDUCATION                6451       6451\n",
              "MEDICAL                  6071       6071\n",
              "VENTURE                  5716       5716\n",
              "PERSONAL                 5519       5519\n",
              "DEBTCONSOLIDATION        5212       5212\n",
              "HOMEIMPROVEMENT          3605       3605"
            ]
          },
          "metadata": {},
          "execution_count": 51
        }
      ]
    },
    {
      "cell_type": "code",
      "metadata": {
        "colab": {
          "base_uri": "https://localhost:8080/",
          "height": 263
        },
        "id": "nq4TmtAFhE3I",
        "outputId": "d5371083-30c7-4b45-aa0c-f76caad9bed7"
      },
      "source": [
        "df_v3_gb_intent.sum().sort_values(by='loan_amnt', ascending=False)"
      ],
      "execution_count": 52,
      "outputs": [
        {
          "output_type": "execute_result",
          "data": {
            "text/html": [
              "<div>\n",
              "<style scoped>\n",
              "    .dataframe tbody tr th:only-of-type {\n",
              "        vertical-align: middle;\n",
              "    }\n",
              "\n",
              "    .dataframe tbody tr th {\n",
              "        vertical-align: top;\n",
              "    }\n",
              "\n",
              "    .dataframe thead th {\n",
              "        text-align: right;\n",
              "    }\n",
              "</style>\n",
              "<table border=\"1\" class=\"dataframe\">\n",
              "  <thead>\n",
              "    <tr style=\"text-align: right;\">\n",
              "      <th></th>\n",
              "      <th>person_age</th>\n",
              "      <th>loan_amnt</th>\n",
              "    </tr>\n",
              "    <tr>\n",
              "      <th>loan_intent</th>\n",
              "      <th></th>\n",
              "      <th></th>\n",
              "    </tr>\n",
              "  </thead>\n",
              "  <tbody>\n",
              "    <tr>\n",
              "      <th>EDUCATION</th>\n",
              "      <td>171306</td>\n",
              "      <td>61165325</td>\n",
              "    </tr>\n",
              "    <tr>\n",
              "      <th>MEDICAL</th>\n",
              "      <td>169976</td>\n",
              "      <td>56214925</td>\n",
              "    </tr>\n",
              "    <tr>\n",
              "      <th>VENTURE</th>\n",
              "      <td>157376</td>\n",
              "      <td>54764825</td>\n",
              "    </tr>\n",
              "    <tr>\n",
              "      <th>PERSONAL</th>\n",
              "      <td>155573</td>\n",
              "      <td>52816800</td>\n",
              "    </tr>\n",
              "    <tr>\n",
              "      <th>DEBTCONSOLIDATION</th>\n",
              "      <td>143884</td>\n",
              "      <td>50008550</td>\n",
              "    </tr>\n",
              "    <tr>\n",
              "      <th>HOMEIMPROVEMENT</th>\n",
              "      <td>104785</td>\n",
              "      <td>37349675</td>\n",
              "    </tr>\n",
              "  </tbody>\n",
              "</table>\n",
              "</div>"
            ],
            "text/plain": [
              "                   person_age  loan_amnt\n",
              "loan_intent                             \n",
              "EDUCATION              171306   61165325\n",
              "MEDICAL                169976   56214925\n",
              "VENTURE                157376   54764825\n",
              "PERSONAL               155573   52816800\n",
              "DEBTCONSOLIDATION      143884   50008550\n",
              "HOMEIMPROVEMENT        104785   37349675"
            ]
          },
          "metadata": {},
          "execution_count": 52
        }
      ]
    },
    {
      "cell_type": "code",
      "metadata": {
        "colab": {
          "base_uri": "https://localhost:8080/",
          "height": 263
        },
        "id": "_kwFTe7KhSdl",
        "outputId": "65d46bf3-4efa-4dc3-b80b-2886ebe6a8c5"
      },
      "source": [
        "(df_v3_gb_intent.sum() / df_v3_gb_intent.count()).sort_values(by='loan_amnt', ascending=False).round(2)"
      ],
      "execution_count": 53,
      "outputs": [
        {
          "output_type": "execute_result",
          "data": {
            "text/html": [
              "<div>\n",
              "<style scoped>\n",
              "    .dataframe tbody tr th:only-of-type {\n",
              "        vertical-align: middle;\n",
              "    }\n",
              "\n",
              "    .dataframe tbody tr th {\n",
              "        vertical-align: top;\n",
              "    }\n",
              "\n",
              "    .dataframe thead th {\n",
              "        text-align: right;\n",
              "    }\n",
              "</style>\n",
              "<table border=\"1\" class=\"dataframe\">\n",
              "  <thead>\n",
              "    <tr style=\"text-align: right;\">\n",
              "      <th></th>\n",
              "      <th>person_age</th>\n",
              "      <th>loan_amnt</th>\n",
              "    </tr>\n",
              "    <tr>\n",
              "      <th>loan_intent</th>\n",
              "      <th></th>\n",
              "      <th></th>\n",
              "    </tr>\n",
              "  </thead>\n",
              "  <tbody>\n",
              "    <tr>\n",
              "      <th>HOMEIMPROVEMENT</th>\n",
              "      <td>29.07</td>\n",
              "      <td>10360.52</td>\n",
              "    </tr>\n",
              "    <tr>\n",
              "      <th>DEBTCONSOLIDATION</th>\n",
              "      <td>27.61</td>\n",
              "      <td>9594.89</td>\n",
              "    </tr>\n",
              "    <tr>\n",
              "      <th>VENTURE</th>\n",
              "      <td>27.53</td>\n",
              "      <td>9580.97</td>\n",
              "    </tr>\n",
              "    <tr>\n",
              "      <th>PERSONAL</th>\n",
              "      <td>28.19</td>\n",
              "      <td>9569.99</td>\n",
              "    </tr>\n",
              "    <tr>\n",
              "      <th>EDUCATION</th>\n",
              "      <td>26.55</td>\n",
              "      <td>9481.53</td>\n",
              "    </tr>\n",
              "    <tr>\n",
              "      <th>MEDICAL</th>\n",
              "      <td>28.00</td>\n",
              "      <td>9259.58</td>\n",
              "    </tr>\n",
              "  </tbody>\n",
              "</table>\n",
              "</div>"
            ],
            "text/plain": [
              "                   person_age  loan_amnt\n",
              "loan_intent                             \n",
              "HOMEIMPROVEMENT         29.07   10360.52\n",
              "DEBTCONSOLIDATION       27.61    9594.89\n",
              "VENTURE                 27.53    9580.97\n",
              "PERSONAL                28.19    9569.99\n",
              "EDUCATION               26.55    9481.53\n",
              "MEDICAL                 28.00    9259.58"
            ]
          },
          "metadata": {},
          "execution_count": 53
        }
      ]
    },
    {
      "cell_type": "markdown",
      "metadata": {
        "id": "nmEB7BDrhTUc"
      },
      "source": [
        "#loan_grade GRAU DO EMPRÉSTIMO  object "
      ]
    },
    {
      "cell_type": "code",
      "metadata": {
        "colab": {
          "base_uri": "https://localhost:8080/"
        },
        "id": "XCNLQXwM5AEo",
        "outputId": "375b8da1-bcf3-40a1-d018-35cd503b6ba7"
      },
      "source": [
        "df_v3.loan_grade.nunique()"
      ],
      "execution_count": 54,
      "outputs": [
        {
          "output_type": "execute_result",
          "data": {
            "text/plain": [
              "7"
            ]
          },
          "metadata": {},
          "execution_count": 54
        }
      ]
    },
    {
      "cell_type": "code",
      "metadata": {
        "colab": {
          "base_uri": "https://localhost:8080/"
        },
        "id": "HL5OOgiU5E2G",
        "outputId": "567c16c6-a93c-4a7e-8030-a933ca793613"
      },
      "source": [
        "df_v3.loan_grade.unique()"
      ],
      "execution_count": 55,
      "outputs": [
        {
          "output_type": "execute_result",
          "data": {
            "text/plain": [
              "array(['B', 'C', 'A', 'D', 'E', 'F', 'G'], dtype=object)"
            ]
          },
          "metadata": {},
          "execution_count": 55
        }
      ]
    },
    {
      "cell_type": "code",
      "metadata": {
        "id": "E3zS7QX05E4s"
      },
      "source": [
        "df_v3_gb_grade = df_v3.groupby('loan_grade')[['person_age', 'loan_amnt']]"
      ],
      "execution_count": 56,
      "outputs": []
    },
    {
      "cell_type": "code",
      "metadata": {
        "colab": {
          "base_uri": "https://localhost:8080/",
          "height": 294
        },
        "id": "1pWM_heg5E-T",
        "outputId": "6edf4ba6-dfd3-4576-d232-96df79ea4174"
      },
      "source": [
        "df_v3_gb_grade.count()"
      ],
      "execution_count": 57,
      "outputs": [
        {
          "output_type": "execute_result",
          "data": {
            "text/html": [
              "<div>\n",
              "<style scoped>\n",
              "    .dataframe tbody tr th:only-of-type {\n",
              "        vertical-align: middle;\n",
              "    }\n",
              "\n",
              "    .dataframe tbody tr th {\n",
              "        vertical-align: top;\n",
              "    }\n",
              "\n",
              "    .dataframe thead th {\n",
              "        text-align: right;\n",
              "    }\n",
              "</style>\n",
              "<table border=\"1\" class=\"dataframe\">\n",
              "  <thead>\n",
              "    <tr style=\"text-align: right;\">\n",
              "      <th></th>\n",
              "      <th>person_age</th>\n",
              "      <th>loan_amnt</th>\n",
              "    </tr>\n",
              "    <tr>\n",
              "      <th>loan_grade</th>\n",
              "      <th></th>\n",
              "      <th></th>\n",
              "    </tr>\n",
              "  </thead>\n",
              "  <tbody>\n",
              "    <tr>\n",
              "      <th>A</th>\n",
              "      <td>10776</td>\n",
              "      <td>10776</td>\n",
              "    </tr>\n",
              "    <tr>\n",
              "      <th>B</th>\n",
              "      <td>10448</td>\n",
              "      <td>10448</td>\n",
              "    </tr>\n",
              "    <tr>\n",
              "      <th>C</th>\n",
              "      <td>6456</td>\n",
              "      <td>6456</td>\n",
              "    </tr>\n",
              "    <tr>\n",
              "      <th>D</th>\n",
              "      <td>3625</td>\n",
              "      <td>3625</td>\n",
              "    </tr>\n",
              "    <tr>\n",
              "      <th>E</th>\n",
              "      <td>964</td>\n",
              "      <td>964</td>\n",
              "    </tr>\n",
              "    <tr>\n",
              "      <th>F</th>\n",
              "      <td>241</td>\n",
              "      <td>241</td>\n",
              "    </tr>\n",
              "    <tr>\n",
              "      <th>G</th>\n",
              "      <td>64</td>\n",
              "      <td>64</td>\n",
              "    </tr>\n",
              "  </tbody>\n",
              "</table>\n",
              "</div>"
            ],
            "text/plain": [
              "            person_age  loan_amnt\n",
              "loan_grade                       \n",
              "A                10776      10776\n",
              "B                10448      10448\n",
              "C                 6456       6456\n",
              "D                 3625       3625\n",
              "E                  964        964\n",
              "F                  241        241\n",
              "G                   64         64"
            ]
          },
          "metadata": {},
          "execution_count": 57
        }
      ]
    },
    {
      "cell_type": "markdown",
      "metadata": {
        "id": "M2e0Qh2k5oVI"
      },
      "source": [
        "#loan_amnt VALOR DO EMPRÉSTIMO"
      ]
    },
    {
      "cell_type": "code",
      "metadata": {
        "colab": {
          "base_uri": "https://localhost:8080/"
        },
        "id": "6V6t7d1Q5szr",
        "outputId": "065a51d0-a001-49c5-8fa5-35c74d3f105a"
      },
      "source": [
        "df_v3.loan_amnt.nunique()"
      ],
      "execution_count": 58,
      "outputs": [
        {
          "output_type": "execute_result",
          "data": {
            "text/plain": [
              "753"
            ]
          },
          "metadata": {},
          "execution_count": 58
        }
      ]
    },
    {
      "cell_type": "code",
      "metadata": {
        "colab": {
          "base_uri": "https://localhost:8080/"
        },
        "id": "z-MmtMzG5s2x",
        "outputId": "db587f85-630d-4041-ebb4-87fbc89ddf6f"
      },
      "source": [
        "df_v3.loan_amnt.describe()"
      ],
      "execution_count": 59,
      "outputs": [
        {
          "output_type": "execute_result",
          "data": {
            "text/plain": [
              "count    32574.000000\n",
              "mean      9588.018051\n",
              "std       6320.249598\n",
              "min        500.000000\n",
              "25%       5000.000000\n",
              "50%       8000.000000\n",
              "75%      12200.000000\n",
              "max      35000.000000\n",
              "Name: loan_amnt, dtype: float64"
            ]
          },
          "metadata": {},
          "execution_count": 59
        }
      ]
    },
    {
      "cell_type": "markdown",
      "metadata": {
        "id": "6ViyIFDu598G"
      },
      "source": [
        "# loan_int_rate TAXA DE JUROS "
      ]
    },
    {
      "cell_type": "code",
      "metadata": {
        "colab": {
          "base_uri": "https://localhost:8080/"
        },
        "id": "SHsYZAME5-Dl",
        "outputId": "a1b36563-72bd-4963-d968-a7309ea05984"
      },
      "source": [
        "df_v3.loan_int_rate.nunique()"
      ],
      "execution_count": 60,
      "outputs": [
        {
          "output_type": "execute_result",
          "data": {
            "text/plain": [
              "348"
            ]
          },
          "metadata": {},
          "execution_count": 60
        }
      ]
    },
    {
      "cell_type": "code",
      "metadata": {
        "colab": {
          "base_uri": "https://localhost:8080/"
        },
        "id": "k9pSXV6B5-G2",
        "outputId": "fdc60e5d-8bc4-441d-b163-ce97b7744a89"
      },
      "source": [
        "df_v3.loan_int_rate.describe()"
      ],
      "execution_count": 61,
      "outputs": [
        {
          "output_type": "execute_result",
          "data": {
            "text/plain": [
              "count    29459.000000\n",
              "mean        11.011529\n",
              "std          3.240497\n",
              "min          5.420000\n",
              "25%          7.900000\n",
              "50%         10.990000\n",
              "75%         13.470000\n",
              "max         23.220000\n",
              "Name: loan_int_rate, dtype: float64"
            ]
          },
          "metadata": {},
          "execution_count": 61
        }
      ]
    },
    {
      "cell_type": "code",
      "metadata": {
        "colab": {
          "base_uri": "https://localhost:8080/"
        },
        "id": "-Niqsb_L6a_4",
        "outputId": "0b462b5e-a7fa-4d2d-9ff7-437be7aeeb37"
      },
      "source": [
        "df_v3_gb_rate = df_v3.groupby(by=['loan_intent', 'loan_grade'])['loan_int_rate', 'loan_amnt']"
      ],
      "execution_count": 62,
      "outputs": [
        {
          "output_type": "stream",
          "name": "stderr",
          "text": [
            "/usr/local/lib/python3.7/dist-packages/ipykernel_launcher.py:1: FutureWarning: Indexing with multiple keys (implicitly converted to a tuple of keys) will be deprecated, use a list instead.\n",
            "  \"\"\"Entry point for launching an IPython kernel.\n"
          ]
        }
      ]
    },
    {
      "cell_type": "code",
      "metadata": {
        "colab": {
          "base_uri": "https://localhost:8080/",
          "height": 1000
        },
        "id": "S4yn6WQQJ2OW",
        "outputId": "5fca2fef-6603-45bf-98fa-eccdc31bd3e6"
      },
      "source": [
        "df_v3_gb_rate.sum().round(2)"
      ],
      "execution_count": 63,
      "outputs": [
        {
          "output_type": "execute_result",
          "data": {
            "text/html": [
              "<div>\n",
              "<style scoped>\n",
              "    .dataframe tbody tr th:only-of-type {\n",
              "        vertical-align: middle;\n",
              "    }\n",
              "\n",
              "    .dataframe tbody tr th {\n",
              "        vertical-align: top;\n",
              "    }\n",
              "\n",
              "    .dataframe thead th {\n",
              "        text-align: right;\n",
              "    }\n",
              "</style>\n",
              "<table border=\"1\" class=\"dataframe\">\n",
              "  <thead>\n",
              "    <tr style=\"text-align: right;\">\n",
              "      <th></th>\n",
              "      <th></th>\n",
              "      <th>loan_int_rate</th>\n",
              "      <th>loan_amnt</th>\n",
              "    </tr>\n",
              "    <tr>\n",
              "      <th>loan_intent</th>\n",
              "      <th>loan_grade</th>\n",
              "      <th></th>\n",
              "      <th></th>\n",
              "    </tr>\n",
              "  </thead>\n",
              "  <tbody>\n",
              "    <tr>\n",
              "      <th rowspan=\"7\" valign=\"top\">DEBTCONSOLIDATION</th>\n",
              "      <th>A</th>\n",
              "      <td>11729.26</td>\n",
              "      <td>14977750</td>\n",
              "    </tr>\n",
              "    <tr>\n",
              "      <th>B</th>\n",
              "      <td>15968.56</td>\n",
              "      <td>16432775</td>\n",
              "    </tr>\n",
              "    <tr>\n",
              "      <th>C</th>\n",
              "      <td>12562.17</td>\n",
              "      <td>9534525</td>\n",
              "    </tr>\n",
              "    <tr>\n",
              "      <th>D</th>\n",
              "      <td>8401.44</td>\n",
              "      <td>6430575</td>\n",
              "    </tr>\n",
              "    <tr>\n",
              "      <th>E</th>\n",
              "      <td>2143.04</td>\n",
              "      <td>1810950</td>\n",
              "    </tr>\n",
              "    <tr>\n",
              "      <th>F</th>\n",
              "      <td>687.18</td>\n",
              "      <td>630825</td>\n",
              "    </tr>\n",
              "    <tr>\n",
              "      <th>G</th>\n",
              "      <td>162.66</td>\n",
              "      <td>191150</td>\n",
              "    </tr>\n",
              "    <tr>\n",
              "      <th rowspan=\"7\" valign=\"top\">EDUCATION</th>\n",
              "      <th>A</th>\n",
              "      <td>14637.81</td>\n",
              "      <td>18472075</td>\n",
              "    </tr>\n",
              "    <tr>\n",
              "      <th>B</th>\n",
              "      <td>20110.33</td>\n",
              "      <td>20291900</td>\n",
              "    </tr>\n",
              "    <tr>\n",
              "      <th>C</th>\n",
              "      <td>16352.18</td>\n",
              "      <td>12064450</td>\n",
              "    </tr>\n",
              "    <tr>\n",
              "      <th>D</th>\n",
              "      <td>9170.78</td>\n",
              "      <td>7152575</td>\n",
              "    </tr>\n",
              "    <tr>\n",
              "      <th>E</th>\n",
              "      <td>2892.78</td>\n",
              "      <td>2361550</td>\n",
              "    </tr>\n",
              "    <tr>\n",
              "      <th>F</th>\n",
              "      <td>736.14</td>\n",
              "      <td>659275</td>\n",
              "    </tr>\n",
              "    <tr>\n",
              "      <th>G</th>\n",
              "      <td>180.70</td>\n",
              "      <td>163500</td>\n",
              "    </tr>\n",
              "    <tr>\n",
              "      <th rowspan=\"7\" valign=\"top\">HOMEIMPROVEMENT</th>\n",
              "      <th>A</th>\n",
              "      <td>7521.90</td>\n",
              "      <td>10006250</td>\n",
              "    </tr>\n",
              "    <tr>\n",
              "      <th>B</th>\n",
              "      <td>11099.33</td>\n",
              "      <td>12083900</td>\n",
              "    </tr>\n",
              "    <tr>\n",
              "      <th>C</th>\n",
              "      <td>8439.99</td>\n",
              "      <td>6954600</td>\n",
              "    </tr>\n",
              "    <tr>\n",
              "      <th>D</th>\n",
              "      <td>6840.14</td>\n",
              "      <td>5546300</td>\n",
              "    </tr>\n",
              "    <tr>\n",
              "      <th>E</th>\n",
              "      <td>2240.72</td>\n",
              "      <td>2022725</td>\n",
              "    </tr>\n",
              "    <tr>\n",
              "      <th>F</th>\n",
              "      <td>528.22</td>\n",
              "      <td>540025</td>\n",
              "    </tr>\n",
              "    <tr>\n",
              "      <th>G</th>\n",
              "      <td>181.49</td>\n",
              "      <td>195875</td>\n",
              "    </tr>\n",
              "    <tr>\n",
              "      <th rowspan=\"7\" valign=\"top\">MEDICAL</th>\n",
              "      <th>A</th>\n",
              "      <td>12890.07</td>\n",
              "      <td>16261675</td>\n",
              "    </tr>\n",
              "    <tr>\n",
              "      <th>B</th>\n",
              "      <td>19489.34</td>\n",
              "      <td>19005075</td>\n",
              "    </tr>\n",
              "    <tr>\n",
              "      <th>C</th>\n",
              "      <td>14936.50</td>\n",
              "      <td>10864875</td>\n",
              "    </tr>\n",
              "    <tr>\n",
              "      <th>D</th>\n",
              "      <td>9247.46</td>\n",
              "      <td>6995175</td>\n",
              "    </tr>\n",
              "    <tr>\n",
              "      <th>E</th>\n",
              "      <td>2630.07</td>\n",
              "      <td>2158625</td>\n",
              "    </tr>\n",
              "    <tr>\n",
              "      <th>F</th>\n",
              "      <td>872.50</td>\n",
              "      <td>746500</td>\n",
              "    </tr>\n",
              "    <tr>\n",
              "      <th>G</th>\n",
              "      <td>223.18</td>\n",
              "      <td>183000</td>\n",
              "    </tr>\n",
              "    <tr>\n",
              "      <th rowspan=\"7\" valign=\"top\">PERSONAL</th>\n",
              "      <th>A</th>\n",
              "      <td>12142.50</td>\n",
              "      <td>15758325</td>\n",
              "    </tr>\n",
              "    <tr>\n",
              "      <th>B</th>\n",
              "      <td>18069.80</td>\n",
              "      <td>17683125</td>\n",
              "    </tr>\n",
              "    <tr>\n",
              "      <th>C</th>\n",
              "      <td>12740.07</td>\n",
              "      <td>9928275</td>\n",
              "    </tr>\n",
              "    <tr>\n",
              "      <th>D</th>\n",
              "      <td>9101.18</td>\n",
              "      <td>6963750</td>\n",
              "    </tr>\n",
              "    <tr>\n",
              "      <th>E</th>\n",
              "      <td>2344.03</td>\n",
              "      <td>1845400</td>\n",
              "    </tr>\n",
              "    <tr>\n",
              "      <th>F</th>\n",
              "      <td>519.83</td>\n",
              "      <td>442575</td>\n",
              "    </tr>\n",
              "    <tr>\n",
              "      <th>G</th>\n",
              "      <td>198.92</td>\n",
              "      <td>195350</td>\n",
              "    </tr>\n",
              "    <tr>\n",
              "      <th rowspan=\"7\" valign=\"top\">VENTURE</th>\n",
              "      <th>A</th>\n",
              "      <td>12692.38</td>\n",
              "      <td>16531675</td>\n",
              "    </tr>\n",
              "    <tr>\n",
              "      <th>B</th>\n",
              "      <td>18543.77</td>\n",
              "      <td>18919625</td>\n",
              "    </tr>\n",
              "    <tr>\n",
              "      <th>C</th>\n",
              "      <td>13408.31</td>\n",
              "      <td>10146600</td>\n",
              "    </tr>\n",
              "    <tr>\n",
              "      <th>D</th>\n",
              "      <td>8130.82</td>\n",
              "      <td>6215975</td>\n",
              "    </tr>\n",
              "    <tr>\n",
              "      <th>E</th>\n",
              "      <td>2734.69</td>\n",
              "      <td>2251625</td>\n",
              "    </tr>\n",
              "    <tr>\n",
              "      <th>F</th>\n",
              "      <td>638.49</td>\n",
              "      <td>527675</td>\n",
              "    </tr>\n",
              "    <tr>\n",
              "      <th>G</th>\n",
              "      <td>247.89</td>\n",
              "      <td>171650</td>\n",
              "    </tr>\n",
              "  </tbody>\n",
              "</table>\n",
              "</div>"
            ],
            "text/plain": [
              "                              loan_int_rate  loan_amnt\n",
              "loan_intent       loan_grade                          \n",
              "DEBTCONSOLIDATION A                11729.26   14977750\n",
              "                  B                15968.56   16432775\n",
              "                  C                12562.17    9534525\n",
              "                  D                 8401.44    6430575\n",
              "                  E                 2143.04    1810950\n",
              "                  F                  687.18     630825\n",
              "                  G                  162.66     191150\n",
              "EDUCATION         A                14637.81   18472075\n",
              "                  B                20110.33   20291900\n",
              "                  C                16352.18   12064450\n",
              "                  D                 9170.78    7152575\n",
              "                  E                 2892.78    2361550\n",
              "                  F                  736.14     659275\n",
              "                  G                  180.70     163500\n",
              "HOMEIMPROVEMENT   A                 7521.90   10006250\n",
              "                  B                11099.33   12083900\n",
              "                  C                 8439.99    6954600\n",
              "                  D                 6840.14    5546300\n",
              "                  E                 2240.72    2022725\n",
              "                  F                  528.22     540025\n",
              "                  G                  181.49     195875\n",
              "MEDICAL           A                12890.07   16261675\n",
              "                  B                19489.34   19005075\n",
              "                  C                14936.50   10864875\n",
              "                  D                 9247.46    6995175\n",
              "                  E                 2630.07    2158625\n",
              "                  F                  872.50     746500\n",
              "                  G                  223.18     183000\n",
              "PERSONAL          A                12142.50   15758325\n",
              "                  B                18069.80   17683125\n",
              "                  C                12740.07    9928275\n",
              "                  D                 9101.18    6963750\n",
              "                  E                 2344.03    1845400\n",
              "                  F                  519.83     442575\n",
              "                  G                  198.92     195350\n",
              "VENTURE           A                12692.38   16531675\n",
              "                  B                18543.77   18919625\n",
              "                  C                13408.31   10146600\n",
              "                  D                 8130.82    6215975\n",
              "                  E                 2734.69    2251625\n",
              "                  F                  638.49     527675\n",
              "                  G                  247.89     171650"
            ]
          },
          "metadata": {},
          "execution_count": 63
        }
      ]
    },
    {
      "cell_type": "markdown",
      "metadata": {
        "id": "4OgyvmXhVxMJ"
      },
      "source": [
        "## Analisando os dados faltantes: Há predominância de dados faltantes em algum subgrupo do dataset?\n",
        "\n",
        "---\n",
        "\n",
        "person_home_ownership   \n",
        "loan_intent   \n",
        "loan_grade   \n",
        "loan_status   \n",
        "cb_person_default_on_file   \n",
        "cb_person_cred_hist_length   "
      ]
    },
    {
      "cell_type": "code",
      "metadata": {
        "id": "lTHxyvgnao5D"
      },
      "source": [
        "df_v3['isnull_loan_int_rate'] = 0"
      ],
      "execution_count": 64,
      "outputs": []
    },
    {
      "cell_type": "code",
      "metadata": {
        "id": "2SnEr5hta6na"
      },
      "source": [
        "# if df_v3['loan_int_rate']:\n",
        "#     df_v3['isnull_loan_int_rate'] = 1\n",
        "# else:\n",
        "#     df_v3['isnull_loan_int_rate'] = 0"
      ],
      "execution_count": 65,
      "outputs": []
    },
    {
      "cell_type": "code",
      "metadata": {
        "id": "v-fdB_RcbTW-"
      },
      "source": [
        "# df_v3['isnull_loan_int_rate'].sum()"
      ],
      "execution_count": 66,
      "outputs": []
    },
    {
      "cell_type": "code",
      "metadata": {
        "id": "ftZTtwyIVxcs"
      },
      "source": [
        "# df_v3_gb_homeow = df_v3.groupby('person_home_ownership')"
      ],
      "execution_count": 67,
      "outputs": []
    },
    {
      "cell_type": "code",
      "metadata": {
        "id": "0TUfnbhFVxfk"
      },
      "source": [
        "# df_v3_gb_homeow.isnull().sum()"
      ],
      "execution_count": 68,
      "outputs": []
    },
    {
      "cell_type": "code",
      "metadata": {
        "id": "DbnYzNuNKKkK"
      },
      "source": [
        "# df_v3_gb_rate.mean().round(2)"
      ],
      "execution_count": 69,
      "outputs": []
    },
    {
      "cell_type": "markdown",
      "metadata": {
        "id": "LOWyNsGKKh2u"
      },
      "source": [
        "# loan_status STATUS DO EMPRÉSTIMO\n",
        "\n",
        "\n",
        "---\n",
        "\n",
        "(0 is non default 1 is default)"
      ]
    },
    {
      "cell_type": "code",
      "metadata": {
        "id": "7fd16EcqKqr0",
        "colab": {
          "base_uri": "https://localhost:8080/"
        },
        "outputId": "2c368231-fd66-4d5f-c4a3-b2d8fee13a17"
      },
      "source": [
        "df_v3.loan_status.nunique()"
      ],
      "execution_count": 70,
      "outputs": [
        {
          "output_type": "execute_result",
          "data": {
            "text/plain": [
              "2"
            ]
          },
          "metadata": {},
          "execution_count": 70
        }
      ]
    },
    {
      "cell_type": "code",
      "metadata": {
        "id": "p3WcPAgvKqum",
        "colab": {
          "base_uri": "https://localhost:8080/"
        },
        "outputId": "451a51d8-418f-41ba-f4f7-b17dc4824b59"
      },
      "source": [
        "df_v3.loan_status.unique()"
      ],
      "execution_count": 71,
      "outputs": [
        {
          "output_type": "execute_result",
          "data": {
            "text/plain": [
              "array([0, 1])"
            ]
          },
          "metadata": {},
          "execution_count": 71
        }
      ]
    },
    {
      "cell_type": "code",
      "metadata": {
        "id": "A_FFfQNBKqzC",
        "colab": {
          "base_uri": "https://localhost:8080/"
        },
        "outputId": "f15edac9-83fc-4870-ccac-ece466150f3d"
      },
      "source": [
        "df_v3.loan_status.value_counts()"
      ],
      "execution_count": 72,
      "outputs": [
        {
          "output_type": "execute_result",
          "data": {
            "text/plain": [
              "0    25467\n",
              "1     7107\n",
              "Name: loan_status, dtype: int64"
            ]
          },
          "metadata": {},
          "execution_count": 72
        }
      ]
    },
    {
      "cell_type": "markdown",
      "metadata": {
        "id": "Gni3EJ48MFdA"
      },
      "source": [
        "# loan_percent_income PERCENTUAL DO EMPRÉSTIMO RELATIVO A RENDA"
      ]
    },
    {
      "cell_type": "code",
      "metadata": {
        "id": "1ITsCD1RMP6f",
        "colab": {
          "base_uri": "https://localhost:8080/"
        },
        "outputId": "947c3111-5904-4647-cd73-22a5a89eab71"
      },
      "source": [
        "df_v3.loan_percent_income.nunique()"
      ],
      "execution_count": 73,
      "outputs": [
        {
          "output_type": "execute_result",
          "data": {
            "text/plain": [
              "77"
            ]
          },
          "metadata": {},
          "execution_count": 73
        }
      ]
    },
    {
      "cell_type": "code",
      "metadata": {
        "id": "rr9eCVT-MP9I",
        "colab": {
          "base_uri": "https://localhost:8080/"
        },
        "outputId": "48a67fd0-52e7-4faa-dd4b-4c83d9230128"
      },
      "source": [
        "df_v3.loan_percent_income.describe().round(9)"
      ],
      "execution_count": 74,
      "outputs": [
        {
          "output_type": "execute_result",
          "data": {
            "text/plain": [
              "count    32574.000000\n",
              "mean         0.170202\n",
              "std          0.106755\n",
              "min          0.000000\n",
              "25%          0.090000\n",
              "50%          0.150000\n",
              "75%          0.230000\n",
              "max          0.830000\n",
              "Name: loan_percent_income, dtype: float64"
            ]
          },
          "metadata": {},
          "execution_count": 74
        }
      ]
    },
    {
      "cell_type": "code",
      "metadata": {
        "id": "QcGJSk7rMQBM"
      },
      "source": [
        "df_test_percent = df_v3.loc[df_v3['loan_percent_income'] == 0.0,['loan_amnt', 'person_income', 'loan_percent_income']]"
      ],
      "execution_count": 75,
      "outputs": []
    },
    {
      "cell_type": "code",
      "metadata": {
        "id": "HWu41P2HTQVX"
      },
      "source": [
        "df_test_percent_min = df_v3.loc[df_v3['loan_percent_income'] == 0.0,['loan_amnt', 'person_income', 'loan_percent_income']]"
      ],
      "execution_count": 76,
      "outputs": []
    },
    {
      "cell_type": "code",
      "metadata": {
        "id": "8yXK5WRJTXsM"
      },
      "source": [
        "df_test_percent_max = df_v3.loc[df_v3['loan_percent_income'] > 0.7,['loan_amnt', 'person_income', 'loan_percent_income']]"
      ],
      "execution_count": 77,
      "outputs": []
    },
    {
      "cell_type": "code",
      "metadata": {
        "id": "wmxpRH-0TdG7"
      },
      "source": [
        "df_test_percent_concat = pd.concat([df_test_percent_min, df_test_percent_max])"
      ],
      "execution_count": 78,
      "outputs": []
    },
    {
      "cell_type": "code",
      "metadata": {
        "id": "AYDOK3bMN7n-",
        "colab": {
          "base_uri": "https://localhost:8080/",
          "height": 570
        },
        "outputId": "ac42ccb5-b101-48c5-f149-980fc56b3f2a"
      },
      "source": [
        "df_test_percent_concat"
      ],
      "execution_count": 79,
      "outputs": [
        {
          "output_type": "execute_result",
          "data": {
            "text/html": [
              "<div>\n",
              "<style scoped>\n",
              "    .dataframe tbody tr th:only-of-type {\n",
              "        vertical-align: middle;\n",
              "    }\n",
              "\n",
              "    .dataframe tbody tr th {\n",
              "        vertical-align: top;\n",
              "    }\n",
              "\n",
              "    .dataframe thead th {\n",
              "        text-align: right;\n",
              "    }\n",
              "</style>\n",
              "<table border=\"1\" class=\"dataframe\">\n",
              "  <thead>\n",
              "    <tr style=\"text-align: right;\">\n",
              "      <th></th>\n",
              "      <th>loan_amnt</th>\n",
              "      <th>person_income</th>\n",
              "      <th>loan_percent_income</th>\n",
              "    </tr>\n",
              "  </thead>\n",
              "  <tbody>\n",
              "    <tr>\n",
              "      <th>17834</th>\n",
              "      <td>2000</td>\n",
              "      <td>948000</td>\n",
              "      <td>0.00</td>\n",
              "    </tr>\n",
              "    <tr>\n",
              "      <th>18917</th>\n",
              "      <td>1800</td>\n",
              "      <td>510000</td>\n",
              "      <td>0.00</td>\n",
              "    </tr>\n",
              "    <tr>\n",
              "      <th>27877</th>\n",
              "      <td>2500</td>\n",
              "      <td>522000</td>\n",
              "      <td>0.00</td>\n",
              "    </tr>\n",
              "    <tr>\n",
              "      <th>30049</th>\n",
              "      <td>8450</td>\n",
              "      <td>2039784</td>\n",
              "      <td>0.00</td>\n",
              "    </tr>\n",
              "    <tr>\n",
              "      <th>31916</th>\n",
              "      <td>1000</td>\n",
              "      <td>780000</td>\n",
              "      <td>0.00</td>\n",
              "    </tr>\n",
              "    <tr>\n",
              "      <th>31922</th>\n",
              "      <td>6600</td>\n",
              "      <td>1362000</td>\n",
              "      <td>0.00</td>\n",
              "    </tr>\n",
              "    <tr>\n",
              "      <th>31924</th>\n",
              "      <td>6400</td>\n",
              "      <td>1440000</td>\n",
              "      <td>0.00</td>\n",
              "    </tr>\n",
              "    <tr>\n",
              "      <th>32546</th>\n",
              "      <td>1500</td>\n",
              "      <td>1900000</td>\n",
              "      <td>0.00</td>\n",
              "    </tr>\n",
              "    <tr>\n",
              "      <th>460</th>\n",
              "      <td>13000</td>\n",
              "      <td>18000</td>\n",
              "      <td>0.72</td>\n",
              "    </tr>\n",
              "    <tr>\n",
              "      <th>571</th>\n",
              "      <td>15000</td>\n",
              "      <td>19500</td>\n",
              "      <td>0.77</td>\n",
              "    </tr>\n",
              "    <tr>\n",
              "      <th>577</th>\n",
              "      <td>20050</td>\n",
              "      <td>26000</td>\n",
              "      <td>0.77</td>\n",
              "    </tr>\n",
              "    <tr>\n",
              "      <th>640</th>\n",
              "      <td>16600</td>\n",
              "      <td>20000</td>\n",
              "      <td>0.83</td>\n",
              "    </tr>\n",
              "    <tr>\n",
              "      <th>2452</th>\n",
              "      <td>22750</td>\n",
              "      <td>32004</td>\n",
              "      <td>0.71</td>\n",
              "    </tr>\n",
              "    <tr>\n",
              "      <th>10007</th>\n",
              "      <td>9250</td>\n",
              "      <td>13000</td>\n",
              "      <td>0.71</td>\n",
              "    </tr>\n",
              "    <tr>\n",
              "      <th>18203</th>\n",
              "      <td>24250</td>\n",
              "      <td>32004</td>\n",
              "      <td>0.76</td>\n",
              "    </tr>\n",
              "    <tr>\n",
              "      <th>23727</th>\n",
              "      <td>9325</td>\n",
              "      <td>12000</td>\n",
              "      <td>0.78</td>\n",
              "    </tr>\n",
              "    <tr>\n",
              "      <th>27878</th>\n",
              "      <td>7200</td>\n",
              "      <td>10080</td>\n",
              "      <td>0.71</td>\n",
              "    </tr>\n",
              "  </tbody>\n",
              "</table>\n",
              "</div>"
            ],
            "text/plain": [
              "       loan_amnt  person_income  loan_percent_income\n",
              "17834       2000         948000                 0.00\n",
              "18917       1800         510000                 0.00\n",
              "27877       2500         522000                 0.00\n",
              "30049       8450        2039784                 0.00\n",
              "31916       1000         780000                 0.00\n",
              "31922       6600        1362000                 0.00\n",
              "31924       6400        1440000                 0.00\n",
              "32546       1500        1900000                 0.00\n",
              "460        13000          18000                 0.72\n",
              "571        15000          19500                 0.77\n",
              "577        20050          26000                 0.77\n",
              "640        16600          20000                 0.83\n",
              "2452       22750          32004                 0.71\n",
              "10007       9250          13000                 0.71\n",
              "18203      24250          32004                 0.76\n",
              "23727       9325          12000                 0.78\n",
              "27878       7200          10080                 0.71"
            ]
          },
          "metadata": {},
          "execution_count": 79
        }
      ]
    },
    {
      "cell_type": "code",
      "metadata": {
        "id": "WbUNo1B2Pz3r"
      },
      "source": [
        "df_test_percent_concat['test_column'] = (df_test_percent_concat['loan_amnt'] / df_test_percent_concat['person_income']).round(2)"
      ],
      "execution_count": 80,
      "outputs": []
    },
    {
      "cell_type": "code",
      "metadata": {
        "id": "yrPCHOBKP89U",
        "colab": {
          "base_uri": "https://localhost:8080/",
          "height": 570
        },
        "outputId": "671ce47c-cf85-4a22-a890-85a2ecca872d"
      },
      "source": [
        "df_test_percent_concat"
      ],
      "execution_count": 81,
      "outputs": [
        {
          "output_type": "execute_result",
          "data": {
            "text/html": [
              "<div>\n",
              "<style scoped>\n",
              "    .dataframe tbody tr th:only-of-type {\n",
              "        vertical-align: middle;\n",
              "    }\n",
              "\n",
              "    .dataframe tbody tr th {\n",
              "        vertical-align: top;\n",
              "    }\n",
              "\n",
              "    .dataframe thead th {\n",
              "        text-align: right;\n",
              "    }\n",
              "</style>\n",
              "<table border=\"1\" class=\"dataframe\">\n",
              "  <thead>\n",
              "    <tr style=\"text-align: right;\">\n",
              "      <th></th>\n",
              "      <th>loan_amnt</th>\n",
              "      <th>person_income</th>\n",
              "      <th>loan_percent_income</th>\n",
              "      <th>test_column</th>\n",
              "    </tr>\n",
              "  </thead>\n",
              "  <tbody>\n",
              "    <tr>\n",
              "      <th>17834</th>\n",
              "      <td>2000</td>\n",
              "      <td>948000</td>\n",
              "      <td>0.00</td>\n",
              "      <td>0.00</td>\n",
              "    </tr>\n",
              "    <tr>\n",
              "      <th>18917</th>\n",
              "      <td>1800</td>\n",
              "      <td>510000</td>\n",
              "      <td>0.00</td>\n",
              "      <td>0.00</td>\n",
              "    </tr>\n",
              "    <tr>\n",
              "      <th>27877</th>\n",
              "      <td>2500</td>\n",
              "      <td>522000</td>\n",
              "      <td>0.00</td>\n",
              "      <td>0.00</td>\n",
              "    </tr>\n",
              "    <tr>\n",
              "      <th>30049</th>\n",
              "      <td>8450</td>\n",
              "      <td>2039784</td>\n",
              "      <td>0.00</td>\n",
              "      <td>0.00</td>\n",
              "    </tr>\n",
              "    <tr>\n",
              "      <th>31916</th>\n",
              "      <td>1000</td>\n",
              "      <td>780000</td>\n",
              "      <td>0.00</td>\n",
              "      <td>0.00</td>\n",
              "    </tr>\n",
              "    <tr>\n",
              "      <th>31922</th>\n",
              "      <td>6600</td>\n",
              "      <td>1362000</td>\n",
              "      <td>0.00</td>\n",
              "      <td>0.00</td>\n",
              "    </tr>\n",
              "    <tr>\n",
              "      <th>31924</th>\n",
              "      <td>6400</td>\n",
              "      <td>1440000</td>\n",
              "      <td>0.00</td>\n",
              "      <td>0.00</td>\n",
              "    </tr>\n",
              "    <tr>\n",
              "      <th>32546</th>\n",
              "      <td>1500</td>\n",
              "      <td>1900000</td>\n",
              "      <td>0.00</td>\n",
              "      <td>0.00</td>\n",
              "    </tr>\n",
              "    <tr>\n",
              "      <th>460</th>\n",
              "      <td>13000</td>\n",
              "      <td>18000</td>\n",
              "      <td>0.72</td>\n",
              "      <td>0.72</td>\n",
              "    </tr>\n",
              "    <tr>\n",
              "      <th>571</th>\n",
              "      <td>15000</td>\n",
              "      <td>19500</td>\n",
              "      <td>0.77</td>\n",
              "      <td>0.77</td>\n",
              "    </tr>\n",
              "    <tr>\n",
              "      <th>577</th>\n",
              "      <td>20050</td>\n",
              "      <td>26000</td>\n",
              "      <td>0.77</td>\n",
              "      <td>0.77</td>\n",
              "    </tr>\n",
              "    <tr>\n",
              "      <th>640</th>\n",
              "      <td>16600</td>\n",
              "      <td>20000</td>\n",
              "      <td>0.83</td>\n",
              "      <td>0.83</td>\n",
              "    </tr>\n",
              "    <tr>\n",
              "      <th>2452</th>\n",
              "      <td>22750</td>\n",
              "      <td>32004</td>\n",
              "      <td>0.71</td>\n",
              "      <td>0.71</td>\n",
              "    </tr>\n",
              "    <tr>\n",
              "      <th>10007</th>\n",
              "      <td>9250</td>\n",
              "      <td>13000</td>\n",
              "      <td>0.71</td>\n",
              "      <td>0.71</td>\n",
              "    </tr>\n",
              "    <tr>\n",
              "      <th>18203</th>\n",
              "      <td>24250</td>\n",
              "      <td>32004</td>\n",
              "      <td>0.76</td>\n",
              "      <td>0.76</td>\n",
              "    </tr>\n",
              "    <tr>\n",
              "      <th>23727</th>\n",
              "      <td>9325</td>\n",
              "      <td>12000</td>\n",
              "      <td>0.78</td>\n",
              "      <td>0.78</td>\n",
              "    </tr>\n",
              "    <tr>\n",
              "      <th>27878</th>\n",
              "      <td>7200</td>\n",
              "      <td>10080</td>\n",
              "      <td>0.71</td>\n",
              "      <td>0.71</td>\n",
              "    </tr>\n",
              "  </tbody>\n",
              "</table>\n",
              "</div>"
            ],
            "text/plain": [
              "       loan_amnt  person_income  loan_percent_income  test_column\n",
              "17834       2000         948000                 0.00         0.00\n",
              "18917       1800         510000                 0.00         0.00\n",
              "27877       2500         522000                 0.00         0.00\n",
              "30049       8450        2039784                 0.00         0.00\n",
              "31916       1000         780000                 0.00         0.00\n",
              "31922       6600        1362000                 0.00         0.00\n",
              "31924       6400        1440000                 0.00         0.00\n",
              "32546       1500        1900000                 0.00         0.00\n",
              "460        13000          18000                 0.72         0.72\n",
              "571        15000          19500                 0.77         0.77\n",
              "577        20050          26000                 0.77         0.77\n",
              "640        16600          20000                 0.83         0.83\n",
              "2452       22750          32004                 0.71         0.71\n",
              "10007       9250          13000                 0.71         0.71\n",
              "18203      24250          32004                 0.76         0.76\n",
              "23727       9325          12000                 0.78         0.78\n",
              "27878       7200          10080                 0.71         0.71"
            ]
          },
          "metadata": {},
          "execution_count": 81
        }
      ]
    },
    {
      "cell_type": "markdown",
      "metadata": {
        "id": "NPGcSoJzUSQ5"
      },
      "source": [
        "# cb_person_default_on_file PADRÃO HISTÓRICO"
      ]
    },
    {
      "cell_type": "code",
      "metadata": {
        "id": "OHkK1henUSkW",
        "colab": {
          "base_uri": "https://localhost:8080/"
        },
        "outputId": "ab631e5d-bec9-475c-a9cf-a0d941c9c3a1"
      },
      "source": [
        "df_v3['cb_person_default_on_file'].nunique()"
      ],
      "execution_count": 82,
      "outputs": [
        {
          "output_type": "execute_result",
          "data": {
            "text/plain": [
              "2"
            ]
          },
          "metadata": {},
          "execution_count": 82
        }
      ]
    },
    {
      "cell_type": "code",
      "metadata": {
        "id": "FgZMTfxyUSrQ",
        "colab": {
          "base_uri": "https://localhost:8080/"
        },
        "outputId": "a45a93d8-2287-4f48-a390-263fcde352ad"
      },
      "source": [
        "df_v3['cb_person_default_on_file'].unique()"
      ],
      "execution_count": 83,
      "outputs": [
        {
          "output_type": "execute_result",
          "data": {
            "text/plain": [
              "array(['N', 'Y'], dtype=object)"
            ]
          },
          "metadata": {},
          "execution_count": 83
        }
      ]
    },
    {
      "cell_type": "code",
      "metadata": {
        "id": "b69g9TSvUs6d",
        "colab": {
          "base_uri": "https://localhost:8080/"
        },
        "outputId": "7f71378a-eed3-4e2d-9d7e-4fbd50bb1158"
      },
      "source": [
        "df_v3['cb_person_default_on_file'].value_counts()"
      ],
      "execution_count": 84,
      "outputs": [
        {
          "output_type": "execute_result",
          "data": {
            "text/plain": [
              "N    26830\n",
              "Y     5744\n",
              "Name: cb_person_default_on_file, dtype: int64"
            ]
          },
          "metadata": {},
          "execution_count": 84
        }
      ]
    },
    {
      "cell_type": "markdown",
      "metadata": {
        "id": "4Uf3sjk2UxKZ"
      },
      "source": [
        "# cb_person_cred_hist_length SCORE DE CRÉDITO"
      ]
    },
    {
      "cell_type": "code",
      "metadata": {
        "id": "k_Etx32tUxBE",
        "colab": {
          "base_uri": "https://localhost:8080/"
        },
        "outputId": "38ec518e-5b7f-4c9f-9b8e-06e18f9ef777"
      },
      "source": [
        "df_v3['cb_person_cred_hist_length'].nunique()"
      ],
      "execution_count": 85,
      "outputs": [
        {
          "output_type": "execute_result",
          "data": {
            "text/plain": [
              "29"
            ]
          },
          "metadata": {},
          "execution_count": 85
        }
      ]
    },
    {
      "cell_type": "code",
      "metadata": {
        "id": "p9Oa9ZsQVCuT",
        "colab": {
          "base_uri": "https://localhost:8080/"
        },
        "outputId": "7c9cafaa-390d-4e34-dd22-52c3d957c5fd"
      },
      "source": [
        "df_v3['cb_person_cred_hist_length'].unique()"
      ],
      "execution_count": 86,
      "outputs": [
        {
          "output_type": "execute_result",
          "data": {
            "text/plain": [
              "array([ 2,  3,  4,  8,  7,  6,  9, 10,  5, 11, 16, 15, 12, 13, 17, 14, 28,\n",
              "       27, 22, 19, 29, 23, 26, 20, 21, 30, 25, 24, 18])"
            ]
          },
          "metadata": {},
          "execution_count": 86
        }
      ]
    },
    {
      "cell_type": "code",
      "metadata": {
        "id": "cwzbryRfVCwy",
        "colab": {
          "base_uri": "https://localhost:8080/"
        },
        "outputId": "68e8ccb4-8337-41ac-9091-a083e78c1cac"
      },
      "source": [
        "df_v3['cb_person_cred_hist_length'].value_counts()"
      ],
      "execution_count": 87,
      "outputs": [
        {
          "output_type": "execute_result",
          "data": {
            "text/plain": [
              "2     5964\n",
              "3     5940\n",
              "4     5923\n",
              "8     1902\n",
              "7     1901\n",
              "9     1895\n",
              "5     1881\n",
              "6     1857\n",
              "10    1850\n",
              "14     492\n",
              "12     485\n",
              "11     463\n",
              "16     451\n",
              "13     443\n",
              "15     437\n",
              "17     407\n",
              "20      31\n",
              "24      30\n",
              "28      27\n",
              "30      22\n",
              "23      22\n",
              "22      22\n",
              "27      22\n",
              "19      21\n",
              "21      20\n",
              "18      19\n",
              "25      17\n",
              "26      16\n",
              "29      14\n",
              "Name: cb_person_cred_hist_length, dtype: int64"
            ]
          },
          "metadata": {},
          "execution_count": 87
        }
      ]
    },
    {
      "cell_type": "markdown",
      "metadata": {
        "id": "jmr9Pgs9iPH1"
      },
      "source": [
        "# Separar df sem dados faltantes e apenas com dados faltantes\n",
        "\n",
        "\n",
        "---\n",
        "\n",
        "df_3 -> df_4"
      ]
    },
    {
      "cell_type": "code",
      "metadata": {
        "colab": {
          "base_uri": "https://localhost:8080/"
        },
        "id": "Q3YuucVajp2-",
        "outputId": "de9d1563-15af-41d5-940c-f3c919d79c12"
      },
      "source": [
        "df_v3.shape "
      ],
      "execution_count": 88,
      "outputs": [
        {
          "output_type": "execute_result",
          "data": {
            "text/plain": [
              "(32574, 13)"
            ]
          },
          "metadata": {},
          "execution_count": 88
        }
      ]
    },
    {
      "cell_type": "code",
      "metadata": {
        "colab": {
          "base_uri": "https://localhost:8080/"
        },
        "id": "L6udj0wsktB-",
        "outputId": "566a06a6-ca1e-4c0d-cab6-f2a090459827"
      },
      "source": [
        "df_v3.info()"
      ],
      "execution_count": 89,
      "outputs": [
        {
          "output_type": "stream",
          "name": "stdout",
          "text": [
            "<class 'pandas.core.frame.DataFrame'>\n",
            "Int64Index: 32574 entries, 1 to 32580\n",
            "Data columns (total 13 columns):\n",
            " #   Column                      Non-Null Count  Dtype  \n",
            "---  ------                      --------------  -----  \n",
            " 0   person_age                  32574 non-null  int64  \n",
            " 1   person_income               32574 non-null  int64  \n",
            " 2   person_home_ownership       32574 non-null  object \n",
            " 3   person_emp_length           32574 non-null  float64\n",
            " 4   loan_intent                 32574 non-null  object \n",
            " 5   loan_grade                  32574 non-null  object \n",
            " 6   loan_amnt                   32574 non-null  int64  \n",
            " 7   loan_int_rate               29459 non-null  float64\n",
            " 8   loan_status                 32574 non-null  int64  \n",
            " 9   loan_percent_income         32574 non-null  float64\n",
            " 10  cb_person_default_on_file   32574 non-null  object \n",
            " 11  cb_person_cred_hist_length  32574 non-null  int64  \n",
            " 12  isnull_loan_int_rate        32574 non-null  int64  \n",
            "dtypes: float64(3), int64(6), object(4)\n",
            "memory usage: 3.5+ MB\n"
          ]
        }
      ]
    },
    {
      "cell_type": "code",
      "metadata": {
        "id": "RIlCqfEpii6b"
      },
      "source": [
        "df_v4 = df_v3.drop_duplicates()"
      ],
      "execution_count": 90,
      "outputs": []
    },
    {
      "cell_type": "code",
      "metadata": {
        "colab": {
          "base_uri": "https://localhost:8080/"
        },
        "id": "sUbTD-rFj7aS",
        "outputId": "b2bf6605-02a8-422c-989d-b55421d8b326"
      },
      "source": [
        "df_v4.shape # 165 duplicatas"
      ],
      "execution_count": 91,
      "outputs": [
        {
          "output_type": "execute_result",
          "data": {
            "text/plain": [
              "(32409, 13)"
            ]
          },
          "metadata": {},
          "execution_count": 91
        }
      ]
    },
    {
      "cell_type": "code",
      "metadata": {
        "colab": {
          "base_uri": "https://localhost:8080/"
        },
        "id": "LJetEXkck2IV",
        "outputId": "76b40bf6-38fe-49f7-a52c-fd88b417faeb"
      },
      "source": [
        "df_v4.info()"
      ],
      "execution_count": 92,
      "outputs": [
        {
          "output_type": "stream",
          "name": "stdout",
          "text": [
            "<class 'pandas.core.frame.DataFrame'>\n",
            "Int64Index: 32409 entries, 1 to 32580\n",
            "Data columns (total 13 columns):\n",
            " #   Column                      Non-Null Count  Dtype  \n",
            "---  ------                      --------------  -----  \n",
            " 0   person_age                  32409 non-null  int64  \n",
            " 1   person_income               32409 non-null  int64  \n",
            " 2   person_home_ownership       32409 non-null  object \n",
            " 3   person_emp_length           32409 non-null  float64\n",
            " 4   loan_intent                 32409 non-null  object \n",
            " 5   loan_grade                  32409 non-null  object \n",
            " 6   loan_amnt                   32409 non-null  int64  \n",
            " 7   loan_int_rate               29315 non-null  float64\n",
            " 8   loan_status                 32409 non-null  int64  \n",
            " 9   loan_percent_income         32409 non-null  float64\n",
            " 10  cb_person_default_on_file   32409 non-null  object \n",
            " 11  cb_person_cred_hist_length  32409 non-null  int64  \n",
            " 12  isnull_loan_int_rate        32409 non-null  int64  \n",
            "dtypes: float64(3), int64(6), object(4)\n",
            "memory usage: 3.5+ MB\n"
          ]
        }
      ]
    },
    {
      "cell_type": "code",
      "metadata": {
        "colab": {
          "base_uri": "https://localhost:8080/"
        },
        "id": "uYjtsXAdkGil",
        "outputId": "9ccf6a3b-f6e7-4383-b1a0-e295bb9a10e3"
      },
      "source": [
        "df_v4.dropna(how='any', inplace=True)"
      ],
      "execution_count": 93,
      "outputs": [
        {
          "output_type": "stream",
          "name": "stderr",
          "text": [
            "/usr/local/lib/python3.7/dist-packages/ipykernel_launcher.py:1: SettingWithCopyWarning: \n",
            "A value is trying to be set on a copy of a slice from a DataFrame\n",
            "\n",
            "See the caveats in the documentation: https://pandas.pydata.org/pandas-docs/stable/user_guide/indexing.html#returning-a-view-versus-a-copy\n",
            "  \"\"\"Entry point for launching an IPython kernel.\n"
          ]
        }
      ]
    },
    {
      "cell_type": "code",
      "metadata": {
        "colab": {
          "base_uri": "https://localhost:8080/"
        },
        "id": "AJm3l1gJkd2T",
        "outputId": "69398912-1dbd-49a2-8a74-4f0c5d80ef01"
      },
      "source": [
        "df_v4.shape # 3.094 valores faltantes (taxa de juros)"
      ],
      "execution_count": 94,
      "outputs": [
        {
          "output_type": "execute_result",
          "data": {
            "text/plain": [
              "(29315, 13)"
            ]
          },
          "metadata": {},
          "execution_count": 94
        }
      ]
    },
    {
      "cell_type": "markdown",
      "metadata": {
        "id": "a4uZtTT-bZkN"
      },
      "source": [
        "## Analisando os dados faltantes em busca de um padrão"
      ]
    },
    {
      "cell_type": "code",
      "metadata": {
        "id": "NAl6RwSUY2Pg"
      },
      "source": [
        "df_vFaltantes = df_v3.loc[pd.isna(df_v3['loan_int_rate'])]"
      ],
      "execution_count": 106,
      "outputs": []
    },
    {
      "cell_type": "code",
      "metadata": {
        "id": "5a-zAraRbiLz"
      },
      "source": [
        "df_vFaltantes_gpby_grade = df_vFaltantes.groupby(df_vFaltantes['loan_grade'])"
      ],
      "execution_count": 110,
      "outputs": []
    },
    {
      "cell_type": "code",
      "metadata": {
        "colab": {
          "base_uri": "https://localhost:8080/",
          "height": 314
        },
        "id": "hgOuJG29b6DP",
        "outputId": "74ea703b-fff1-4a18-edb5-2994bb90dcbc"
      },
      "source": [
        "df_vFaltantes_gpby_grade.count()"
      ],
      "execution_count": 111,
      "outputs": [
        {
          "output_type": "execute_result",
          "data": {
            "text/html": [
              "<div>\n",
              "<style scoped>\n",
              "    .dataframe tbody tr th:only-of-type {\n",
              "        vertical-align: middle;\n",
              "    }\n",
              "\n",
              "    .dataframe tbody tr th {\n",
              "        vertical-align: top;\n",
              "    }\n",
              "\n",
              "    .dataframe thead th {\n",
              "        text-align: right;\n",
              "    }\n",
              "</style>\n",
              "<table border=\"1\" class=\"dataframe\">\n",
              "  <thead>\n",
              "    <tr style=\"text-align: right;\">\n",
              "      <th></th>\n",
              "      <th>person_age</th>\n",
              "      <th>person_income</th>\n",
              "      <th>person_home_ownership</th>\n",
              "      <th>person_emp_length</th>\n",
              "      <th>loan_intent</th>\n",
              "      <th>loan_amnt</th>\n",
              "      <th>loan_int_rate</th>\n",
              "      <th>loan_status</th>\n",
              "      <th>loan_percent_income</th>\n",
              "      <th>cb_person_default_on_file</th>\n",
              "      <th>cb_person_cred_hist_length</th>\n",
              "      <th>isnull_loan_int_rate</th>\n",
              "    </tr>\n",
              "    <tr>\n",
              "      <th>loan_grade</th>\n",
              "      <th></th>\n",
              "      <th></th>\n",
              "      <th></th>\n",
              "      <th></th>\n",
              "      <th></th>\n",
              "      <th></th>\n",
              "      <th></th>\n",
              "      <th></th>\n",
              "      <th></th>\n",
              "      <th></th>\n",
              "      <th></th>\n",
              "      <th></th>\n",
              "    </tr>\n",
              "  </thead>\n",
              "  <tbody>\n",
              "    <tr>\n",
              "      <th>A</th>\n",
              "      <td>1003</td>\n",
              "      <td>1003</td>\n",
              "      <td>1003</td>\n",
              "      <td>1003</td>\n",
              "      <td>1003</td>\n",
              "      <td>1003</td>\n",
              "      <td>0</td>\n",
              "      <td>1003</td>\n",
              "      <td>1003</td>\n",
              "      <td>1003</td>\n",
              "      <td>1003</td>\n",
              "      <td>1003</td>\n",
              "    </tr>\n",
              "    <tr>\n",
              "      <th>B</th>\n",
              "      <td>1055</td>\n",
              "      <td>1055</td>\n",
              "      <td>1055</td>\n",
              "      <td>1055</td>\n",
              "      <td>1055</td>\n",
              "      <td>1055</td>\n",
              "      <td>0</td>\n",
              "      <td>1055</td>\n",
              "      <td>1055</td>\n",
              "      <td>1055</td>\n",
              "      <td>1055</td>\n",
              "      <td>1055</td>\n",
              "    </tr>\n",
              "    <tr>\n",
              "      <th>C</th>\n",
              "      <td>630</td>\n",
              "      <td>630</td>\n",
              "      <td>630</td>\n",
              "      <td>630</td>\n",
              "      <td>630</td>\n",
              "      <td>630</td>\n",
              "      <td>0</td>\n",
              "      <td>630</td>\n",
              "      <td>630</td>\n",
              "      <td>630</td>\n",
              "      <td>630</td>\n",
              "      <td>630</td>\n",
              "    </tr>\n",
              "    <tr>\n",
              "      <th>D</th>\n",
              "      <td>312</td>\n",
              "      <td>312</td>\n",
              "      <td>312</td>\n",
              "      <td>312</td>\n",
              "      <td>312</td>\n",
              "      <td>312</td>\n",
              "      <td>0</td>\n",
              "      <td>312</td>\n",
              "      <td>312</td>\n",
              "      <td>312</td>\n",
              "      <td>312</td>\n",
              "      <td>312</td>\n",
              "    </tr>\n",
              "    <tr>\n",
              "      <th>E</th>\n",
              "      <td>83</td>\n",
              "      <td>83</td>\n",
              "      <td>83</td>\n",
              "      <td>83</td>\n",
              "      <td>83</td>\n",
              "      <td>83</td>\n",
              "      <td>0</td>\n",
              "      <td>83</td>\n",
              "      <td>83</td>\n",
              "      <td>83</td>\n",
              "      <td>83</td>\n",
              "      <td>83</td>\n",
              "    </tr>\n",
              "    <tr>\n",
              "      <th>F</th>\n",
              "      <td>27</td>\n",
              "      <td>27</td>\n",
              "      <td>27</td>\n",
              "      <td>27</td>\n",
              "      <td>27</td>\n",
              "      <td>27</td>\n",
              "      <td>0</td>\n",
              "      <td>27</td>\n",
              "      <td>27</td>\n",
              "      <td>27</td>\n",
              "      <td>27</td>\n",
              "      <td>27</td>\n",
              "    </tr>\n",
              "    <tr>\n",
              "      <th>G</th>\n",
              "      <td>5</td>\n",
              "      <td>5</td>\n",
              "      <td>5</td>\n",
              "      <td>5</td>\n",
              "      <td>5</td>\n",
              "      <td>5</td>\n",
              "      <td>0</td>\n",
              "      <td>5</td>\n",
              "      <td>5</td>\n",
              "      <td>5</td>\n",
              "      <td>5</td>\n",
              "      <td>5</td>\n",
              "    </tr>\n",
              "  </tbody>\n",
              "</table>\n",
              "</div>"
            ],
            "text/plain": [
              "            person_age  ...  isnull_loan_int_rate\n",
              "loan_grade              ...                      \n",
              "A                 1003  ...                  1003\n",
              "B                 1055  ...                  1055\n",
              "C                  630  ...                   630\n",
              "D                  312  ...                   312\n",
              "E                   83  ...                    83\n",
              "F                   27  ...                    27\n",
              "G                    5  ...                     5\n",
              "\n",
              "[7 rows x 12 columns]"
            ]
          },
          "metadata": {},
          "execution_count": 111
        }
      ]
    },
    {
      "cell_type": "code",
      "metadata": {
        "id": "WjUp4Ku6cOSg"
      },
      "source": [
        "df_vFaltantes_gpby_motivo = df_vFaltantes.groupby(df_vFaltantes['loan_intent'])"
      ],
      "execution_count": 112,
      "outputs": []
    },
    {
      "cell_type": "code",
      "metadata": {
        "colab": {
          "base_uri": "https://localhost:8080/",
          "height": 283
        },
        "id": "Qe_3f1fpcOVg",
        "outputId": "829c547f-e848-4392-f71f-9bf00f5c4a96"
      },
      "source": [
        "df_vFaltantes_gpby_motivo.count()"
      ],
      "execution_count": 113,
      "outputs": [
        {
          "output_type": "execute_result",
          "data": {
            "text/html": [
              "<div>\n",
              "<style scoped>\n",
              "    .dataframe tbody tr th:only-of-type {\n",
              "        vertical-align: middle;\n",
              "    }\n",
              "\n",
              "    .dataframe tbody tr th {\n",
              "        vertical-align: top;\n",
              "    }\n",
              "\n",
              "    .dataframe thead th {\n",
              "        text-align: right;\n",
              "    }\n",
              "</style>\n",
              "<table border=\"1\" class=\"dataframe\">\n",
              "  <thead>\n",
              "    <tr style=\"text-align: right;\">\n",
              "      <th></th>\n",
              "      <th>person_age</th>\n",
              "      <th>person_income</th>\n",
              "      <th>person_home_ownership</th>\n",
              "      <th>person_emp_length</th>\n",
              "      <th>loan_grade</th>\n",
              "      <th>loan_amnt</th>\n",
              "      <th>loan_int_rate</th>\n",
              "      <th>loan_status</th>\n",
              "      <th>loan_percent_income</th>\n",
              "      <th>cb_person_default_on_file</th>\n",
              "      <th>cb_person_cred_hist_length</th>\n",
              "      <th>isnull_loan_int_rate</th>\n",
              "    </tr>\n",
              "    <tr>\n",
              "      <th>loan_intent</th>\n",
              "      <th></th>\n",
              "      <th></th>\n",
              "      <th></th>\n",
              "      <th></th>\n",
              "      <th></th>\n",
              "      <th></th>\n",
              "      <th></th>\n",
              "      <th></th>\n",
              "      <th></th>\n",
              "      <th></th>\n",
              "      <th></th>\n",
              "      <th></th>\n",
              "    </tr>\n",
              "  </thead>\n",
              "  <tbody>\n",
              "    <tr>\n",
              "      <th>DEBTCONSOLIDATION</th>\n",
              "      <td>509</td>\n",
              "      <td>509</td>\n",
              "      <td>509</td>\n",
              "      <td>509</td>\n",
              "      <td>509</td>\n",
              "      <td>509</td>\n",
              "      <td>0</td>\n",
              "      <td>509</td>\n",
              "      <td>509</td>\n",
              "      <td>509</td>\n",
              "      <td>509</td>\n",
              "      <td>509</td>\n",
              "    </tr>\n",
              "    <tr>\n",
              "      <th>EDUCATION</th>\n",
              "      <td>599</td>\n",
              "      <td>599</td>\n",
              "      <td>599</td>\n",
              "      <td>599</td>\n",
              "      <td>599</td>\n",
              "      <td>599</td>\n",
              "      <td>0</td>\n",
              "      <td>599</td>\n",
              "      <td>599</td>\n",
              "      <td>599</td>\n",
              "      <td>599</td>\n",
              "      <td>599</td>\n",
              "    </tr>\n",
              "    <tr>\n",
              "      <th>HOMEIMPROVEMENT</th>\n",
              "      <td>315</td>\n",
              "      <td>315</td>\n",
              "      <td>315</td>\n",
              "      <td>315</td>\n",
              "      <td>315</td>\n",
              "      <td>315</td>\n",
              "      <td>0</td>\n",
              "      <td>315</td>\n",
              "      <td>315</td>\n",
              "      <td>315</td>\n",
              "      <td>315</td>\n",
              "      <td>315</td>\n",
              "    </tr>\n",
              "    <tr>\n",
              "      <th>MEDICAL</th>\n",
              "      <td>620</td>\n",
              "      <td>620</td>\n",
              "      <td>620</td>\n",
              "      <td>620</td>\n",
              "      <td>620</td>\n",
              "      <td>620</td>\n",
              "      <td>0</td>\n",
              "      <td>620</td>\n",
              "      <td>620</td>\n",
              "      <td>620</td>\n",
              "      <td>620</td>\n",
              "      <td>620</td>\n",
              "    </tr>\n",
              "    <tr>\n",
              "      <th>PERSONAL</th>\n",
              "      <td>507</td>\n",
              "      <td>507</td>\n",
              "      <td>507</td>\n",
              "      <td>507</td>\n",
              "      <td>507</td>\n",
              "      <td>507</td>\n",
              "      <td>0</td>\n",
              "      <td>507</td>\n",
              "      <td>507</td>\n",
              "      <td>507</td>\n",
              "      <td>507</td>\n",
              "      <td>507</td>\n",
              "    </tr>\n",
              "    <tr>\n",
              "      <th>VENTURE</th>\n",
              "      <td>565</td>\n",
              "      <td>565</td>\n",
              "      <td>565</td>\n",
              "      <td>565</td>\n",
              "      <td>565</td>\n",
              "      <td>565</td>\n",
              "      <td>0</td>\n",
              "      <td>565</td>\n",
              "      <td>565</td>\n",
              "      <td>565</td>\n",
              "      <td>565</td>\n",
              "      <td>565</td>\n",
              "    </tr>\n",
              "  </tbody>\n",
              "</table>\n",
              "</div>"
            ],
            "text/plain": [
              "                   person_age  ...  isnull_loan_int_rate\n",
              "loan_intent                    ...                      \n",
              "DEBTCONSOLIDATION         509  ...                   509\n",
              "EDUCATION                 599  ...                   599\n",
              "HOMEIMPROVEMENT           315  ...                   315\n",
              "MEDICAL                   620  ...                   620\n",
              "PERSONAL                  507  ...                   507\n",
              "VENTURE                   565  ...                   565\n",
              "\n",
              "[6 rows x 12 columns]"
            ]
          },
          "metadata": {},
          "execution_count": 113
        }
      ]
    },
    {
      "cell_type": "code",
      "metadata": {
        "id": "yWo31sKTctW2"
      },
      "source": [
        "df_vFaltantes_gpby_ownership = df_vFaltantes.groupby(df_vFaltantes['person_home_ownership'])"
      ],
      "execution_count": 114,
      "outputs": []
    },
    {
      "cell_type": "code",
      "metadata": {
        "colab": {
          "base_uri": "https://localhost:8080/",
          "height": 222
        },
        "id": "glFNIFCyc4TX",
        "outputId": "05889c4d-4007-4085-c37f-9595c57c030a"
      },
      "source": [
        "df_vFaltantes_gpby_ownership.count()"
      ],
      "execution_count": 115,
      "outputs": [
        {
          "output_type": "execute_result",
          "data": {
            "text/html": [
              "<div>\n",
              "<style scoped>\n",
              "    .dataframe tbody tr th:only-of-type {\n",
              "        vertical-align: middle;\n",
              "    }\n",
              "\n",
              "    .dataframe tbody tr th {\n",
              "        vertical-align: top;\n",
              "    }\n",
              "\n",
              "    .dataframe thead th {\n",
              "        text-align: right;\n",
              "    }\n",
              "</style>\n",
              "<table border=\"1\" class=\"dataframe\">\n",
              "  <thead>\n",
              "    <tr style=\"text-align: right;\">\n",
              "      <th></th>\n",
              "      <th>person_age</th>\n",
              "      <th>person_income</th>\n",
              "      <th>person_emp_length</th>\n",
              "      <th>loan_intent</th>\n",
              "      <th>loan_grade</th>\n",
              "      <th>loan_amnt</th>\n",
              "      <th>loan_int_rate</th>\n",
              "      <th>loan_status</th>\n",
              "      <th>loan_percent_income</th>\n",
              "      <th>cb_person_default_on_file</th>\n",
              "      <th>cb_person_cred_hist_length</th>\n",
              "      <th>isnull_loan_int_rate</th>\n",
              "    </tr>\n",
              "    <tr>\n",
              "      <th>person_home_ownership</th>\n",
              "      <th></th>\n",
              "      <th></th>\n",
              "      <th></th>\n",
              "      <th></th>\n",
              "      <th></th>\n",
              "      <th></th>\n",
              "      <th></th>\n",
              "      <th></th>\n",
              "      <th></th>\n",
              "      <th></th>\n",
              "      <th></th>\n",
              "      <th></th>\n",
              "    </tr>\n",
              "  </thead>\n",
              "  <tbody>\n",
              "    <tr>\n",
              "      <th>MORTGAGE</th>\n",
              "      <td>1322</td>\n",
              "      <td>1322</td>\n",
              "      <td>1322</td>\n",
              "      <td>1322</td>\n",
              "      <td>1322</td>\n",
              "      <td>1322</td>\n",
              "      <td>0</td>\n",
              "      <td>1322</td>\n",
              "      <td>1322</td>\n",
              "      <td>1322</td>\n",
              "      <td>1322</td>\n",
              "      <td>1322</td>\n",
              "    </tr>\n",
              "    <tr>\n",
              "      <th>OTHER</th>\n",
              "      <td>13</td>\n",
              "      <td>13</td>\n",
              "      <td>13</td>\n",
              "      <td>13</td>\n",
              "      <td>13</td>\n",
              "      <td>13</td>\n",
              "      <td>0</td>\n",
              "      <td>13</td>\n",
              "      <td>13</td>\n",
              "      <td>13</td>\n",
              "      <td>13</td>\n",
              "      <td>13</td>\n",
              "    </tr>\n",
              "    <tr>\n",
              "      <th>OWN</th>\n",
              "      <td>228</td>\n",
              "      <td>228</td>\n",
              "      <td>228</td>\n",
              "      <td>228</td>\n",
              "      <td>228</td>\n",
              "      <td>228</td>\n",
              "      <td>0</td>\n",
              "      <td>228</td>\n",
              "      <td>228</td>\n",
              "      <td>228</td>\n",
              "      <td>228</td>\n",
              "      <td>228</td>\n",
              "    </tr>\n",
              "    <tr>\n",
              "      <th>RENT</th>\n",
              "      <td>1552</td>\n",
              "      <td>1552</td>\n",
              "      <td>1552</td>\n",
              "      <td>1552</td>\n",
              "      <td>1552</td>\n",
              "      <td>1552</td>\n",
              "      <td>0</td>\n",
              "      <td>1552</td>\n",
              "      <td>1552</td>\n",
              "      <td>1552</td>\n",
              "      <td>1552</td>\n",
              "      <td>1552</td>\n",
              "    </tr>\n",
              "  </tbody>\n",
              "</table>\n",
              "</div>"
            ],
            "text/plain": [
              "                       person_age  ...  isnull_loan_int_rate\n",
              "person_home_ownership              ...                      \n",
              "MORTGAGE                     1322  ...                  1322\n",
              "OTHER                          13  ...                    13\n",
              "OWN                           228  ...                   228\n",
              "RENT                         1552  ...                  1552\n",
              "\n",
              "[4 rows x 12 columns]"
            ]
          },
          "metadata": {},
          "execution_count": 115
        }
      ]
    },
    {
      "cell_type": "markdown",
      "metadata": {
        "id": "xpUijXholvDB"
      },
      "source": [
        "# Outliers"
      ]
    },
    {
      "cell_type": "code",
      "metadata": {
        "colab": {
          "base_uri": "https://localhost:8080/"
        },
        "id": "E2cdGK1jyQdC",
        "outputId": "73d56ed9-b204-44d6-82e9-7ae3e1e432e6"
      },
      "source": [
        "df_v4.columns"
      ],
      "execution_count": 95,
      "outputs": [
        {
          "output_type": "execute_result",
          "data": {
            "text/plain": [
              "Index(['person_age', 'person_income', 'person_home_ownership',\n",
              "       'person_emp_length', 'loan_intent', 'loan_grade', 'loan_amnt',\n",
              "       'loan_int_rate', 'loan_status', 'loan_percent_income',\n",
              "       'cb_person_default_on_file', 'cb_person_cred_hist_length',\n",
              "       'isnull_loan_int_rate'],\n",
              "      dtype='object')"
            ]
          },
          "metadata": {},
          "execution_count": 95
        }
      ]
    },
    {
      "cell_type": "code",
      "metadata": {
        "colab": {
          "base_uri": "https://localhost:8080/",
          "height": 621
        },
        "id": "fGCXJ9X_luQ4",
        "outputId": "c230162c-cbc4-4a22-a245-8f08a5a96416"
      },
      "source": [
        "# Sem coluna person_income\n",
        "plt.figure(figsize=(15,10))\n",
        "sns.boxplot(data=df_v4, fliersize=5)"
      ],
      "execution_count": 96,
      "outputs": [
        {
          "output_type": "execute_result",
          "data": {
            "text/plain": [
              "<matplotlib.axes._subplots.AxesSubplot at 0x7efc04ed15d0>"
            ]
          },
          "metadata": {},
          "execution_count": 96
        },
        {
          "output_type": "display_data",
          "data": {
            "image/png": "[encoded data removed]",
            "text/plain": [
              "<Figure size 1080x720 with 1 Axes>"
            ]
          },
          "metadata": {
            "needs_background": "light"
          }
        }
      ]
    },
    {
      "cell_type": "code",
      "metadata": {
        "colab": {
          "base_uri": "https://localhost:8080/",
          "height": 621
        },
        "id": "2tt4PbK8w5J7",
        "outputId": "2e214e7d-1a77-4b02-f913-f55071e86f0c"
      },
      "source": [
        "plt.figure(figsize=(15,10))\n",
        "df_v4.boxplot(column=['person_age', 'person_income', 'person_emp_length', 'loan_amnt', 'loan_int_rate', 'loan_percent_income', 'cb_person_cred_hist_length', 'isnull_loan_int_rate'])"
      ],
      "execution_count": 97,
      "outputs": [
        {
          "output_type": "execute_result",
          "data": {
            "text/plain": [
              "<matplotlib.axes._subplots.AxesSubplot at 0x7efc04d83d90>"
            ]
          },
          "metadata": {},
          "execution_count": 97
        },
        {
          "output_type": "display_data",
          "data": {
            "image/png": "[encoded data removed]",
            "text/plain": [
              "<Figure size 1080x720 with 1 Axes>"
            ]
          },
          "metadata": {
            "needs_background": "light"
          }
        }
      ]
    },
    {
      "cell_type": "code",
      "metadata": {
        "colab": {
          "base_uri": "https://localhost:8080/",
          "height": 610
        },
        "id": "DRujmynBy0Ny",
        "outputId": "d5a2da6f-0637-44b3-a5a2-21e3f16380b1"
      },
      "source": [
        "plt.figure(figsize=(15,10))\n",
        "df_v4.boxplot(column=['person_age', 'person_emp_length', 'loan_amnt', 'loan_int_rate', 'loan_percent_income', 'cb_person_cred_hist_length', 'isnull_loan_int_rate'])"
      ],
      "execution_count": 98,
      "outputs": [
        {
          "output_type": "execute_result",
          "data": {
            "text/plain": [
              "<matplotlib.axes._subplots.AxesSubplot at 0x7efc04c3f350>"
            ]
          },
          "metadata": {},
          "execution_count": 98
        },
        {
          "output_type": "display_data",
          "data": {
            "image/png": "[encoded data removed]",
            "text/plain": [
              "<Figure size 1080x720 with 1 Axes>"
            ]
          },
          "metadata": {
            "needs_background": "light"
          }
        }
      ]
    },
    {
      "cell_type": "code",
      "metadata": {
        "colab": {
          "base_uri": "https://localhost:8080/",
          "height": 622
        },
        "id": "4V-Y-hY6ooWr",
        "outputId": "64c4703a-241c-4e19-d2bc-8e7c3db37756"
      },
      "source": [
        "# Gráfico de Dispersão plt\n",
        "plt.figure(figsize=(15,10))\n",
        "plt.scatter(x=df_v4['person_income'], y=df_v4['cb_person_cred_hist_length'])"
      ],
      "execution_count": 99,
      "outputs": [
        {
          "output_type": "execute_result",
          "data": {
            "text/plain": [
              "<matplotlib.collections.PathCollection at 0x7efc04ae8810>"
            ]
          },
          "metadata": {},
          "execution_count": 99
        },
        {
          "output_type": "display_data",
          "data": {
            "image/png": "[encoded data removed]",
            "text/plain": [
              "<Figure size 1080x720 with 1 Axes>"
            ]
          },
          "metadata": {
            "needs_background": "light"
          }
        }
      ]
    },
    {
      "cell_type": "code",
      "metadata": {
        "colab": {
          "base_uri": "https://localhost:8080/",
          "height": 623
        },
        "id": "6OAc3xkCruQr",
        "outputId": "f574ec95-f7e6-4b12-fd7f-01f5f8a6ba66"
      },
      "source": [
        "# Gráfico de Dispersão sns\n",
        "plt.figure(figsize=(15,10))\n",
        "sns.scatterplot(x='person_income', y='cb_person_cred_hist_length', data=df_v4)"
      ],
      "execution_count": 100,
      "outputs": [
        {
          "output_type": "execute_result",
          "data": {
            "text/plain": [
              "<matplotlib.axes._subplots.AxesSubplot at 0x7efc04a65ed0>"
            ]
          },
          "metadata": {},
          "execution_count": 100
        },
        {
          "output_type": "display_data",
          "data": {
            "image/png": "[encoded data removed]",
            "text/plain": [
              "<Figure size 1080x720 with 1 Axes>"
            ]
          },
          "metadata": {
            "needs_background": "light"
          }
        }
      ]
    }
  ]
}