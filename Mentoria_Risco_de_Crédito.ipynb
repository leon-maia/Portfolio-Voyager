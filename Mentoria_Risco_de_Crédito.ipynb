{
  "nbformat": 4,
  "nbformat_minor": 0,
  "metadata": {
    "colab": {
      "name": "Mentoria - Risco de Crédito.ipynb",
      "provenance": [],
      "collapsed_sections": []
    },
    "kernelspec": {
      "name": "python3",
      "display_name": "Python 3"
    },
    "language_info": {
      "name": "python"
    }
  },
  "cells": [
    {
      "cell_type": "markdown",
      "metadata": {
        "id": "sN416R6aKE3j"
      },
      "source": [
        "Base de dados Kaggle: https://www.kaggle.com/laotse/credit-risk-dataset"
      ]
    },
    {
      "cell_type": "markdown",
      "metadata": {
        "id": "qPLDMCltVUrZ"
      },
      "source": [
        "Objetivo: "
      ]
    },
    {
      "cell_type": "code",
      "metadata": {
        "id": "Az0mddrOKAeT"
      },
      "source": [
        "import pandas as pd\n",
        "import seaborn as sns"
      ],
      "execution_count": null,
      "outputs": []
    },
    {
      "cell_type": "code",
      "metadata": {
        "id": "LgVXvUnFQrHG"
      },
      "source": [
        "def identify_outlier(df):\n",
        "# Função destinada a identificar quais os outliers da coluna'\n",
        "  q1 = df.quantile(0.25)\n",
        "  q3 = df.quantile(0.75)\n",
        "  IQR = q3 - q1\n",
        "  outliers = df[((df<(q1-1.5*IQR)) | (df>(q3+1.5*IQR)))]\n",
        "  if outliers.empty:\n",
        "    print('Não há outliers na coluna selecionada')\n",
        "  else:\n",
        "    return outliers"
      ],
      "execution_count": null,
      "outputs": []
    },
    {
      "cell_type": "code",
      "metadata": {
        "id": "AxXpgcyuKSAx"
      },
      "source": [
        "df = pd.read_csv('/content/credit_risk_dataset.csv')"
      ],
      "execution_count": null,
      "outputs": []
    },
    {
      "cell_type": "code",
      "metadata": {
        "colab": {
          "base_uri": "https://localhost:8080/",
          "height": 222
        },
        "id": "8mQdj713Kpmi",
        "outputId": "9297fb3e-2770-4d7b-f15f-00bff44361d0"
      },
      "source": [
        "df.head()"
      ],
      "execution_count": null,
      "outputs": [
        {
          "output_type": "execute_result",
          "data": {
            "text/html": [
              "<div>\n",
              "<style scoped>\n",
              "    .dataframe tbody tr th:only-of-type {\n",
              "        vertical-align: middle;\n",
              "    }\n",
              "\n",
              "    .dataframe tbody tr th {\n",
              "        vertical-align: top;\n",
              "    }\n",
              "\n",
              "    .dataframe thead th {\n",
              "        text-align: right;\n",
              "    }\n",
              "</style>\n",
              "<table border=\"1\" class=\"dataframe\">\n",
              "  <thead>\n",
              "    <tr style=\"text-align: right;\">\n",
              "      <th></th>\n",
              "      <th>person_age</th>\n",
              "      <th>person_income</th>\n",
              "      <th>person_home_ownership</th>\n",
              "      <th>person_emp_length</th>\n",
              "      <th>loan_intent</th>\n",
              "      <th>loan_grade</th>\n",
              "      <th>loan_amnt</th>\n",
              "      <th>loan_int_rate</th>\n",
              "      <th>loan_status</th>\n",
              "      <th>loan_percent_income</th>\n",
              "      <th>cb_person_default_on_file</th>\n",
              "      <th>cb_person_cred_hist_length</th>\n",
              "    </tr>\n",
              "  </thead>\n",
              "  <tbody>\n",
              "    <tr>\n",
              "      <th>0</th>\n",
              "      <td>22</td>\n",
              "      <td>59000</td>\n",
              "      <td>RENT</td>\n",
              "      <td>123.0</td>\n",
              "      <td>PERSONAL</td>\n",
              "      <td>D</td>\n",
              "      <td>35000</td>\n",
              "      <td>16.02</td>\n",
              "      <td>1</td>\n",
              "      <td>0.59</td>\n",
              "      <td>Y</td>\n",
              "      <td>3</td>\n",
              "    </tr>\n",
              "    <tr>\n",
              "      <th>1</th>\n",
              "      <td>21</td>\n",
              "      <td>9600</td>\n",
              "      <td>OWN</td>\n",
              "      <td>5.0</td>\n",
              "      <td>EDUCATION</td>\n",
              "      <td>B</td>\n",
              "      <td>1000</td>\n",
              "      <td>11.14</td>\n",
              "      <td>0</td>\n",
              "      <td>0.10</td>\n",
              "      <td>N</td>\n",
              "      <td>2</td>\n",
              "    </tr>\n",
              "    <tr>\n",
              "      <th>2</th>\n",
              "      <td>25</td>\n",
              "      <td>9600</td>\n",
              "      <td>MORTGAGE</td>\n",
              "      <td>1.0</td>\n",
              "      <td>MEDICAL</td>\n",
              "      <td>C</td>\n",
              "      <td>5500</td>\n",
              "      <td>12.87</td>\n",
              "      <td>1</td>\n",
              "      <td>0.57</td>\n",
              "      <td>N</td>\n",
              "      <td>3</td>\n",
              "    </tr>\n",
              "    <tr>\n",
              "      <th>3</th>\n",
              "      <td>23</td>\n",
              "      <td>65500</td>\n",
              "      <td>RENT</td>\n",
              "      <td>4.0</td>\n",
              "      <td>MEDICAL</td>\n",
              "      <td>C</td>\n",
              "      <td>35000</td>\n",
              "      <td>15.23</td>\n",
              "      <td>1</td>\n",
              "      <td>0.53</td>\n",
              "      <td>N</td>\n",
              "      <td>2</td>\n",
              "    </tr>\n",
              "    <tr>\n",
              "      <th>4</th>\n",
              "      <td>24</td>\n",
              "      <td>54400</td>\n",
              "      <td>RENT</td>\n",
              "      <td>8.0</td>\n",
              "      <td>MEDICAL</td>\n",
              "      <td>C</td>\n",
              "      <td>35000</td>\n",
              "      <td>14.27</td>\n",
              "      <td>1</td>\n",
              "      <td>0.55</td>\n",
              "      <td>Y</td>\n",
              "      <td>4</td>\n",
              "    </tr>\n",
              "  </tbody>\n",
              "</table>\n",
              "</div>"
            ],
            "text/plain": [
              "   person_age  ...  cb_person_cred_hist_length\n",
              "0          22  ...                           3\n",
              "1          21  ...                           2\n",
              "2          25  ...                           3\n",
              "3          23  ...                           2\n",
              "4          24  ...                           4\n",
              "\n",
              "[5 rows x 12 columns]"
            ]
          },
          "metadata": {},
          "execution_count": 8
        }
      ]
    },
    {
      "cell_type": "code",
      "metadata": {
        "colab": {
          "base_uri": "https://localhost:8080/"
        },
        "id": "r-cA-UDvsoc2",
        "outputId": "ec941ab8-878b-4465-9cf9-c9054c5eb346"
      },
      "source": [
        "linha, coluna = df.shape\n",
        "df.shape"
      ],
      "execution_count": null,
      "outputs": [
        {
          "output_type": "execute_result",
          "data": {
            "text/plain": [
              "(32581, 12)"
            ]
          },
          "metadata": {},
          "execution_count": 9
        }
      ]
    },
    {
      "cell_type": "code",
      "metadata": {
        "colab": {
          "base_uri": "https://localhost:8080/"
        },
        "id": "-avfYqAsK-3y",
        "outputId": "e3dc05d8-ddf5-498a-ba26-f88b22242763"
      },
      "source": [
        "df.info()"
      ],
      "execution_count": null,
      "outputs": [
        {
          "output_type": "stream",
          "text": [
            "<class 'pandas.core.frame.DataFrame'>\n",
            "RangeIndex: 32581 entries, 0 to 32580\n",
            "Data columns (total 12 columns):\n",
            " #   Column                      Non-Null Count  Dtype  \n",
            "---  ------                      --------------  -----  \n",
            " 0   person_age                  32581 non-null  int64  \n",
            " 1   person_income               32581 non-null  int64  \n",
            " 2   person_home_ownership       32581 non-null  object \n",
            " 3   person_emp_length           31686 non-null  float64\n",
            " 4   loan_intent                 32581 non-null  object \n",
            " 5   loan_grade                  32581 non-null  object \n",
            " 6   loan_amnt                   32581 non-null  int64  \n",
            " 7   loan_int_rate               29465 non-null  float64\n",
            " 8   loan_status                 32581 non-null  int64  \n",
            " 9   loan_percent_income         32581 non-null  float64\n",
            " 10  cb_person_default_on_file   32581 non-null  object \n",
            " 11  cb_person_cred_hist_length  32581 non-null  int64  \n",
            "dtypes: float64(3), int64(5), object(4)\n",
            "memory usage: 3.0+ MB\n"
          ],
          "name": "stdout"
        }
      ]
    },
    {
      "cell_type": "code",
      "metadata": {
        "colab": {
          "base_uri": "https://localhost:8080/"
        },
        "id": "tohw_Bdg97JW",
        "outputId": "fb09f6a1-fff8-41cc-eefa-b910258a6f10"
      },
      "source": [
        "Nan_per = df.isnull().sum()/df.shape[0]*100\n",
        "Nan_per.round(2)"
      ],
      "execution_count": null,
      "outputs": [
        {
          "output_type": "execute_result",
          "data": {
            "text/plain": [
              "person_age                    0.00\n",
              "person_income                 0.00\n",
              "person_home_ownership         0.00\n",
              "person_emp_length             2.75\n",
              "loan_intent                   0.00\n",
              "loan_grade                    0.00\n",
              "loan_amnt                     0.00\n",
              "loan_int_rate                 9.56\n",
              "loan_status                   0.00\n",
              "loan_percent_income           0.00\n",
              "cb_person_default_on_file     0.00\n",
              "cb_person_cred_hist_length    0.00\n",
              "dtype: float64"
            ]
          },
          "metadata": {},
          "execution_count": 11
        }
      ]
    },
    {
      "cell_type": "code",
      "metadata": {
        "id": "WEOeMAVLv7Jc",
        "colab": {
          "base_uri": "https://localhost:8080/",
          "height": 106
        },
        "outputId": "987a0709-2ce2-40bf-a2e8-d0705668e815"
      },
      "source": [
        "'''\n",
        "Dicionário de Dados\n",
        "0   person_age IDADE int64  \n",
        "1   person_income RENDA int64  \n",
        "2   person_home_ownership TIPO DE PROPRIEDADE DA CASA object\n",
        "3   person_emp_length TEMPO DE TRABALHO float64\n",
        "4   loan_intent MOTIVO DO EMPRÉSTIMO  object \n",
        "5   loan_grade GRAU DO EMPRÉSTIMO  object \n",
        "6   loan_amnt VALOR DO EMPRÉSTIMO int64  \n",
        "7   loan_int_rate TAXA DE JUROS float64\n",
        "8   loan_status STATUS DO EMPRÉSTIMO (0 is non default 1 is default) int64  \n",
        "9   loan_percent_income PERCENTUAL DO EMPRÉSTIMO RELATIVO A RENDA float64\n",
        "10  cb_person_default_on_file PADRÃO HISTÓRICO object \n",
        "11  cb_person_cred_hist_length SCORE DE CRÉDITO int64 \n",
        "'''"
      ],
      "execution_count": null,
      "outputs": [
        {
          "output_type": "execute_result",
          "data": {
            "application/vnd.google.colaboratory.intrinsic+json": {
              "type": "string"
            },
            "text/plain": [
              "'\\nDicionário de Dados\\n0   person_age IDADE int64  \\n1   person_income RENDA int64  \\n2   person_home_ownership TIPO DE PROPRIEDADE DA CASA object\\n3   person_emp_length TEMPO DE TRABALHO float64\\n4   loan_intent MOTIVO DO EMPRÉSTIMO  object \\n5   loan_grade GRAU DO EMPRÉSTIMO  object \\n6   loan_amnt VALOR DO EMPRÉSTIMO int64  \\n7   loan_int_rate TAXA DE JUROS float64\\n8   loan_status STATUS DO EMPRÉSTIMO int64  \\n9   loan_percent_income PERCENTUAL DO EMPRÉSTIMO RELATIVO A RENDA float64\\n10  cb_person_default_on_file PADRÃO HISTÓRICO object \\n11  cb_person_cred_hist_length SCORE DE CRÉDITO int64 \\n'"
            ]
          },
          "metadata": {},
          "execution_count": 12
        }
      ]
    },
    {
      "cell_type": "markdown",
      "metadata": {
        "id": "tQO3JgsVKu_d"
      },
      "source": [
        "# Person_age\n",
        "\n",
        "\n",
        "---\n",
        "\n",
        "Excluídos 5 registros > 100\n",
        "\n",
        "\n",
        "---\n",
        "\n",
        "df -> df_v2\n",
        "\n",
        "\n",
        "\n",
        "---\n",
        "\n",
        "A idade média dos clientes é de 27.7 e a mediana é de 26."
      ]
    },
    {
      "cell_type": "code",
      "metadata": {
        "colab": {
          "base_uri": "https://localhost:8080/"
        },
        "id": "FG5s_pI8Kt-Q",
        "outputId": "375acac3-1086-4f93-91c8-d3114ea0bb0e"
      },
      "source": [
        "df.person_age.nunique()"
      ],
      "execution_count": null,
      "outputs": [
        {
          "output_type": "execute_result",
          "data": {
            "text/plain": [
              "58"
            ]
          },
          "metadata": {},
          "execution_count": 13
        }
      ]
    },
    {
      "cell_type": "code",
      "metadata": {
        "colab": {
          "base_uri": "https://localhost:8080/"
        },
        "id": "XfrQFQHqK98n",
        "outputId": "49241060-95b7-46a8-ba72-882ee81ac4f8"
      },
      "source": [
        "df.person_age.unique()"
      ],
      "execution_count": null,
      "outputs": [
        {
          "output_type": "execute_result",
          "data": {
            "text/plain": [
              "array([ 22,  21,  25,  23,  24,  26, 144, 123,  20,  32,  34,  29,  33,\n",
              "        28,  35,  31,  27,  30,  36,  40,  50,  45,  37,  39,  44,  43,\n",
              "        41,  46,  38,  47,  42,  48,  49,  58,  65,  51,  53,  66,  61,\n",
              "        54,  57,  59,  62,  60,  55,  52,  64,  70,  78,  69,  56,  73,\n",
              "        63,  94,  80,  84,  76,  67])"
            ]
          },
          "metadata": {},
          "execution_count": 14
        }
      ]
    },
    {
      "cell_type": "code",
      "metadata": {
        "colab": {
          "base_uri": "https://localhost:8080/"
        },
        "id": "kRKBYttUMSkT",
        "outputId": "f7e42b1b-e9eb-4f73-cf71-2987fb4b2ba9"
      },
      "source": [
        "df['person_age'].min()"
      ],
      "execution_count": null,
      "outputs": [
        {
          "output_type": "execute_result",
          "data": {
            "text/plain": [
              "20"
            ]
          },
          "metadata": {},
          "execution_count": 15
        }
      ]
    },
    {
      "cell_type": "code",
      "metadata": {
        "colab": {
          "base_uri": "https://localhost:8080/"
        },
        "id": "w1fN_u6bL4dP",
        "outputId": "c319d8cf-f245-4545-e048-bb3c923a607a"
      },
      "source": [
        "df[df['person_age'] > 100].shape # São 5 registros de clientes com idade acima de 100. Serão desconsiderados."
      ],
      "execution_count": null,
      "outputs": [
        {
          "output_type": "execute_result",
          "data": {
            "text/plain": [
              "(5, 12)"
            ]
          },
          "metadata": {},
          "execution_count": 16
        }
      ]
    },
    {
      "cell_type": "code",
      "metadata": {
        "colab": {
          "base_uri": "https://localhost:8080/",
          "height": 222
        },
        "id": "ErXM8tcu8GN9",
        "outputId": "40aa4c99-6fbe-456c-b17b-dfdff1f9041e"
      },
      "source": [
        "df[df['person_age'] > 100]"
      ],
      "execution_count": null,
      "outputs": [
        {
          "output_type": "execute_result",
          "data": {
            "text/html": [
              "<div>\n",
              "<style scoped>\n",
              "    .dataframe tbody tr th:only-of-type {\n",
              "        vertical-align: middle;\n",
              "    }\n",
              "\n",
              "    .dataframe tbody tr th {\n",
              "        vertical-align: top;\n",
              "    }\n",
              "\n",
              "    .dataframe thead th {\n",
              "        text-align: right;\n",
              "    }\n",
              "</style>\n",
              "<table border=\"1\" class=\"dataframe\">\n",
              "  <thead>\n",
              "    <tr style=\"text-align: right;\">\n",
              "      <th></th>\n",
              "      <th>person_age</th>\n",
              "      <th>person_income</th>\n",
              "      <th>person_home_ownership</th>\n",
              "      <th>person_emp_length</th>\n",
              "      <th>loan_intent</th>\n",
              "      <th>loan_grade</th>\n",
              "      <th>loan_amnt</th>\n",
              "      <th>loan_int_rate</th>\n",
              "      <th>loan_status</th>\n",
              "      <th>loan_percent_income</th>\n",
              "      <th>cb_person_default_on_file</th>\n",
              "      <th>cb_person_cred_hist_length</th>\n",
              "    </tr>\n",
              "  </thead>\n",
              "  <tbody>\n",
              "    <tr>\n",
              "      <th>81</th>\n",
              "      <td>144</td>\n",
              "      <td>250000</td>\n",
              "      <td>RENT</td>\n",
              "      <td>4.0</td>\n",
              "      <td>VENTURE</td>\n",
              "      <td>C</td>\n",
              "      <td>4800</td>\n",
              "      <td>13.57</td>\n",
              "      <td>0</td>\n",
              "      <td>0.02</td>\n",
              "      <td>N</td>\n",
              "      <td>3</td>\n",
              "    </tr>\n",
              "    <tr>\n",
              "      <th>183</th>\n",
              "      <td>144</td>\n",
              "      <td>200000</td>\n",
              "      <td>MORTGAGE</td>\n",
              "      <td>4.0</td>\n",
              "      <td>EDUCATION</td>\n",
              "      <td>B</td>\n",
              "      <td>6000</td>\n",
              "      <td>11.86</td>\n",
              "      <td>0</td>\n",
              "      <td>0.03</td>\n",
              "      <td>N</td>\n",
              "      <td>2</td>\n",
              "    </tr>\n",
              "    <tr>\n",
              "      <th>575</th>\n",
              "      <td>123</td>\n",
              "      <td>80004</td>\n",
              "      <td>RENT</td>\n",
              "      <td>2.0</td>\n",
              "      <td>EDUCATION</td>\n",
              "      <td>B</td>\n",
              "      <td>20400</td>\n",
              "      <td>10.25</td>\n",
              "      <td>0</td>\n",
              "      <td>0.25</td>\n",
              "      <td>N</td>\n",
              "      <td>3</td>\n",
              "    </tr>\n",
              "    <tr>\n",
              "      <th>747</th>\n",
              "      <td>123</td>\n",
              "      <td>78000</td>\n",
              "      <td>RENT</td>\n",
              "      <td>7.0</td>\n",
              "      <td>VENTURE</td>\n",
              "      <td>B</td>\n",
              "      <td>20000</td>\n",
              "      <td>NaN</td>\n",
              "      <td>0</td>\n",
              "      <td>0.26</td>\n",
              "      <td>N</td>\n",
              "      <td>4</td>\n",
              "    </tr>\n",
              "    <tr>\n",
              "      <th>32297</th>\n",
              "      <td>144</td>\n",
              "      <td>6000000</td>\n",
              "      <td>MORTGAGE</td>\n",
              "      <td>12.0</td>\n",
              "      <td>PERSONAL</td>\n",
              "      <td>C</td>\n",
              "      <td>5000</td>\n",
              "      <td>12.73</td>\n",
              "      <td>0</td>\n",
              "      <td>0.00</td>\n",
              "      <td>N</td>\n",
              "      <td>25</td>\n",
              "    </tr>\n",
              "  </tbody>\n",
              "</table>\n",
              "</div>"
            ],
            "text/plain": [
              "       person_age  ...  cb_person_cred_hist_length\n",
              "81            144  ...                           3\n",
              "183           144  ...                           2\n",
              "575           123  ...                           3\n",
              "747           123  ...                           4\n",
              "32297         144  ...                          25\n",
              "\n",
              "[5 rows x 12 columns]"
            ]
          },
          "metadata": {},
          "execution_count": 17
        }
      ]
    },
    {
      "cell_type": "code",
      "metadata": {
        "id": "v8jggrSarlhD"
      },
      "source": [
        "df_v2 = df[df['person_age']<= 100]"
      ],
      "execution_count": null,
      "outputs": []
    },
    {
      "cell_type": "code",
      "metadata": {
        "colab": {
          "base_uri": "https://localhost:8080/"
        },
        "id": "TzzzvWrMDUcT",
        "outputId": "88302e3a-d329-4b44-aaf3-f2b0668d6839"
      },
      "source": [
        "df_v2.shape"
      ],
      "execution_count": null,
      "outputs": [
        {
          "output_type": "execute_result",
          "data": {
            "text/plain": [
              "(32576, 12)"
            ]
          },
          "metadata": {},
          "execution_count": 19
        }
      ]
    },
    {
      "cell_type": "code",
      "metadata": {
        "colab": {
          "base_uri": "https://localhost:8080/"
        },
        "id": "lqeFm8zV6dZC",
        "outputId": "47c5fb44-6600-4d4c-e914-eab49aca29cc"
      },
      "source": [
        "df_v2['person_age'].describe()"
      ],
      "execution_count": null,
      "outputs": [
        {
          "output_type": "execute_result",
          "data": {
            "text/plain": [
              "count    32576.000000\n",
              "mean        27.718044\n",
              "std          6.204990\n",
              "min         20.000000\n",
              "25%         23.000000\n",
              "50%         26.000000\n",
              "75%         30.000000\n",
              "max         94.000000\n",
              "Name: person_age, dtype: float64"
            ]
          },
          "metadata": {},
          "execution_count": 20
        }
      ]
    },
    {
      "cell_type": "code",
      "metadata": {
        "colab": {
          "base_uri": "https://localhost:8080/",
          "height": 282
        },
        "id": "x8plUrbq6N8N",
        "outputId": "6daf5b48-0f98-4240-cbab-8a3229549505"
      },
      "source": [
        "df_v2['person_age'].hist()"
      ],
      "execution_count": null,
      "outputs": [
        {
          "output_type": "execute_result",
          "data": {
            "text/plain": [
              "<matplotlib.axes._subplots.AxesSubplot at 0x7f9d02899e10>"
            ]
          },
          "metadata": {},
          "execution_count": 21
        },
        {
          "output_type": "display_data",
          "data": {
            "image/png": "[encoded data removed]",
            "text/plain": [
              "<Figure size 432x288 with 1 Axes>"
            ]
          },
          "metadata": {
            "needs_background": "light"
          }
        }
      ]
    },
    {
      "cell_type": "markdown",
      "metadata": {
        "id": "Wrsg2VD6MkFS"
      },
      "source": [
        "# Person_income\n",
        "Renda\n",
        "\n",
        "\n",
        "---\n",
        "\n",
        "\n",
        "Coluna apresenta outliers, mas, em regra, serão mantidos na base de dados. Afinal, não é uma premissa do modelo ser incapaz de avaliar clientes com alta renda.\n",
        "\n",
        "\n",
        "---\n",
        "\n",
        "\n",
        "Especialmente o ID 32297, que apresenta o valor máximo do atributo (R$ 6.000.000), será excluído devido à idade 144, não pela renda.\n",
        "\n",
        "\n",
        "---\n",
        "\n",
        "A renda média dos clientes é de 65,882.14 e a mediana 55,000"
      ]
    },
    {
      "cell_type": "code",
      "metadata": {
        "colab": {
          "base_uri": "https://localhost:8080/"
        },
        "id": "eCC9oxkHMok5",
        "outputId": "d109d67d-b9e5-49cd-bc0b-90e20e18089c"
      },
      "source": [
        "df_v2['person_income'].nunique()"
      ],
      "execution_count": null,
      "outputs": [
        {
          "output_type": "execute_result",
          "data": {
            "text/plain": [
              "4294"
            ]
          },
          "metadata": {},
          "execution_count": 22
        }
      ]
    },
    {
      "cell_type": "code",
      "metadata": {
        "colab": {
          "base_uri": "https://localhost:8080/"
        },
        "id": "wmqhPMWYMpUG",
        "outputId": "53c0e325-04cf-43fb-e479-1487766b8ea6"
      },
      "source": [
        "df_v2['person_income'].unique()"
      ],
      "execution_count": null,
      "outputs": [
        {
          "output_type": "execute_result",
          "data": {
            "text/plain": [
              "array([  59000,    9600,   65500, ...,  720000, 1900000,    4888])"
            ]
          },
          "metadata": {},
          "execution_count": 23
        }
      ]
    },
    {
      "cell_type": "code",
      "metadata": {
        "id": "ZS-DqkVOMpWu",
        "colab": {
          "base_uri": "https://localhost:8080/"
        },
        "outputId": "8f1670ce-fc0e-4297-b32a-2ffc6c6b34b5"
      },
      "source": [
        "df_v2['person_income'].describe().round(2)"
      ],
      "execution_count": null,
      "outputs": [
        {
          "output_type": "execute_result",
          "data": {
            "text/plain": [
              "count      32576.00\n",
              "mean       65882.14\n",
              "std        52534.99\n",
              "min         4000.00\n",
              "25%        38500.00\n",
              "50%        55000.00\n",
              "75%        79200.00\n",
              "max      2039784.00\n",
              "Name: person_income, dtype: float64"
            ]
          },
          "metadata": {},
          "execution_count": 24
        }
      ]
    },
    {
      "cell_type": "code",
      "metadata": {
        "colab": {
          "base_uri": "https://localhost:8080/"
        },
        "id": "y-0yB9f7QLyn",
        "outputId": "f51a03af-123b-4a1e-a09b-52f83759fdbe"
      },
      "source": [
        "identify_outlier(df_v2['person_income'])"
      ],
      "execution_count": null,
      "outputs": [
        {
          "output_type": "execute_result",
          "data": {
            "text/plain": [
              "15        500000\n",
              "20        162500\n",
              "33        306000\n",
              "34        300000\n",
              "42        300000\n",
              "          ...   \n",
              "32544     780000\n",
              "32546    1900000\n",
              "32551     780000\n",
              "32562     160000\n",
              "32579     150000\n",
              "Name: person_income, Length: 1481, dtype: int64"
            ]
          },
          "metadata": {},
          "execution_count": 25
        }
      ]
    },
    {
      "cell_type": "code",
      "metadata": {
        "colab": {
          "base_uri": "https://localhost:8080/"
        },
        "id": "Tyjzrt7nRCwv",
        "outputId": "b452104e-54da-4087-936e-b02557806bfe"
      },
      "source": [
        "sns.boxplot(x='person_income', data=df_v2, fliersize=15)"
      ],
      "execution_count": null,
      "outputs": [
        {
          "output_type": "execute_result",
          "data": {
            "text/plain": [
              "<matplotlib.axes._subplots.AxesSubplot at 0x7f9d0276f1d0>"
            ]
          },
          "metadata": {},
          "execution_count": 26
        },
        {
          "output_type": "display_data",
          "data": {
            "image/png": "[encoded data removed]",
            "text/plain": [
              "<Figure size 432x288 with 1 Axes>"
            ]
          },
          "metadata": {
            "needs_background": "light"
          }
        }
      ]
    },
    {
      "cell_type": "code",
      "metadata": {
        "colab": {
          "base_uri": "https://localhost:8080/"
        },
        "id": "FbXeUl71RC7Z",
        "outputId": "2075370d-071a-46e6-cadc-4cf9bfdbe894"
      },
      "source": [
        "df_v2.loc[df['person_income'] == df_v2['person_income'].max()]\n",
        "#Registro já será desconsiderado devido à idade."
      ],
      "execution_count": null,
      "outputs": [
        {
          "output_type": "execute_result",
          "data": {
            "text/html": [
              "<div>\n",
              "<style scoped>\n",
              "    .dataframe tbody tr th:only-of-type {\n",
              "        vertical-align: middle;\n",
              "    }\n",
              "\n",
              "    .dataframe tbody tr th {\n",
              "        vertical-align: top;\n",
              "    }\n",
              "\n",
              "    .dataframe thead th {\n",
              "        text-align: right;\n",
              "    }\n",
              "</style>\n",
              "<table border=\"1\" class=\"dataframe\">\n",
              "  <thead>\n",
              "    <tr style=\"text-align: right;\">\n",
              "      <th></th>\n",
              "      <th>person_age</th>\n",
              "      <th>person_income</th>\n",
              "      <th>person_home_ownership</th>\n",
              "      <th>person_emp_length</th>\n",
              "      <th>loan_intent</th>\n",
              "      <th>loan_grade</th>\n",
              "      <th>loan_amnt</th>\n",
              "      <th>loan_int_rate</th>\n",
              "      <th>loan_status</th>\n",
              "      <th>loan_percent_income</th>\n",
              "      <th>cb_person_default_on_file</th>\n",
              "      <th>cb_person_cred_hist_length</th>\n",
              "    </tr>\n",
              "  </thead>\n",
              "  <tbody>\n",
              "    <tr>\n",
              "      <th>30049</th>\n",
              "      <td>42</td>\n",
              "      <td>2039784</td>\n",
              "      <td>RENT</td>\n",
              "      <td>0.0</td>\n",
              "      <td>VENTURE</td>\n",
              "      <td>C</td>\n",
              "      <td>8450</td>\n",
              "      <td>12.29</td>\n",
              "      <td>0</td>\n",
              "      <td>0.0</td>\n",
              "      <td>Y</td>\n",
              "      <td>15</td>\n",
              "    </tr>\n",
              "  </tbody>\n",
              "</table>\n",
              "</div>"
            ],
            "text/plain": [
              "       person_age  ...  cb_person_cred_hist_length\n",
              "30049          42  ...                          15\n",
              "\n",
              "[1 rows x 12 columns]"
            ]
          },
          "metadata": {},
          "execution_count": 27
        }
      ]
    },
    {
      "cell_type": "markdown",
      "metadata": {
        "id": "ZbTj5mOYRqX6"
      },
      "source": [
        "#Person_home_ownership\n",
        "\n",
        "\n",
        "---\n",
        "\n",
        "A maioria dos clientes mora em casa alugada (50.47) ou financiada (41.26)"
      ]
    },
    {
      "cell_type": "code",
      "metadata": {
        "colab": {
          "base_uri": "https://localhost:8080/"
        },
        "id": "Q4Bk0eg4Rzd6",
        "outputId": "d6bff55f-2576-4a0e-bb51-82d8573ade38"
      },
      "source": [
        "df_v2['person_home_ownership'].nunique()"
      ],
      "execution_count": null,
      "outputs": [
        {
          "output_type": "execute_result",
          "data": {
            "text/plain": [
              "4"
            ]
          },
          "metadata": {},
          "execution_count": 28
        }
      ]
    },
    {
      "cell_type": "code",
      "metadata": {
        "colab": {
          "base_uri": "https://localhost:8080/"
        },
        "id": "m8R0SL_IRzjT",
        "outputId": "b3d475a1-9d56-4944-9b05-69a23ed72143"
      },
      "source": [
        "df_v2['person_home_ownership'].unique()"
      ],
      "execution_count": null,
      "outputs": [
        {
          "output_type": "execute_result",
          "data": {
            "text/plain": [
              "array(['RENT', 'OWN', 'MORTGAGE', 'OTHER'], dtype=object)"
            ]
          },
          "metadata": {},
          "execution_count": 29
        }
      ]
    },
    {
      "cell_type": "code",
      "metadata": {
        "id": "AGljhDxJ_27J"
      },
      "source": [
        "df_v2_gb_ownership = df_v2.groupby('person_home_ownership')"
      ],
      "execution_count": null,
      "outputs": []
    },
    {
      "cell_type": "code",
      "metadata": {
        "colab": {
          "base_uri": "https://localhost:8080/"
        },
        "id": "iJFkKIPU_Ly-",
        "outputId": "dd76ce4f-73c3-4680-ed63-2cd1de58e4ae"
      },
      "source": [
        "df_v2_gb_ownership.size().sort_values(ascending=False)"
      ],
      "execution_count": null,
      "outputs": [
        {
          "output_type": "execute_result",
          "data": {
            "text/plain": [
              "person_home_ownership\n",
              "RENT        16443\n",
              "MORTGAGE    13442\n",
              "OWN          2584\n",
              "OTHER         107\n",
              "dtype: int64"
            ]
          },
          "metadata": {},
          "execution_count": 31
        }
      ]
    },
    {
      "cell_type": "code",
      "metadata": {
        "id": "BKaeepZ2AZn5"
      },
      "source": [
        "sum_df_v2_gb_ownership = df_v2_gb_ownership.size().sum()"
      ],
      "execution_count": null,
      "outputs": []
    },
    {
      "cell_type": "code",
      "metadata": {
        "colab": {
          "base_uri": "https://localhost:8080/"
        },
        "id": "880bkO9eBBZl",
        "outputId": "2cf23760-eda2-4b24-8bd2-33d8cf86c109"
      },
      "source": [
        "100 * 16443 / sum_df_v2_gb_ownership"
      ],
      "execution_count": null,
      "outputs": [
        {
          "output_type": "execute_result",
          "data": {
            "text/plain": [
              "50.47581041257367"
            ]
          },
          "metadata": {},
          "execution_count": 33
        }
      ]
    },
    {
      "cell_type": "code",
      "metadata": {
        "colab": {
          "base_uri": "https://localhost:8080/"
        },
        "id": "v7XkRoT8BPHX",
        "outputId": "1b28e6b4-2c92-4417-a166-919576ba0b6f"
      },
      "source": [
        "100 * 13442 / sum_df_v2_gb_ownership"
      ],
      "execution_count": null,
      "outputs": [
        {
          "output_type": "execute_result",
          "data": {
            "text/plain": [
              "41.2635068762279"
            ]
          },
          "metadata": {},
          "execution_count": 34
        }
      ]
    },
    {
      "cell_type": "markdown",
      "metadata": {
        "id": "8PWTWY2YBtHU"
      },
      "source": [
        "#person_emp_length\n",
        "\n",
        "\n",
        "---\n",
        "\n",
        "Apresenta dados faltantes\n",
        "\n",
        "\n",
        "---\n",
        "\n",
        "Apresenta 2 registros de pessoas que supostamente tem tempo de serviço de 123 anos. Serão retiradas da base de dados.\n",
        "\n",
        "---\n",
        "\n",
        "df_v2 => df_v3"
      ]
    },
    {
      "cell_type": "code",
      "metadata": {
        "colab": {
          "base_uri": "https://localhost:8080/"
        },
        "id": "wxZtWua5BzJy",
        "outputId": "ac76d5d5-8244-4154-9ace-8aae4d054c6c"
      },
      "source": [
        "df_v2['person_emp_length'].nunique()"
      ],
      "execution_count": null,
      "outputs": [
        {
          "output_type": "execute_result",
          "data": {
            "text/plain": [
              "36"
            ]
          },
          "metadata": {},
          "execution_count": 35
        }
      ]
    },
    {
      "cell_type": "code",
      "metadata": {
        "colab": {
          "base_uri": "https://localhost:8080/"
        },
        "id": "Thf-PcZRBzQ5",
        "outputId": "2401749a-6477-4a02-d0fc-cc8edc98c7ac"
      },
      "source": [
        "df_v2['person_emp_length'].unique()"
      ],
      "execution_count": null,
      "outputs": [
        {
          "output_type": "execute_result",
          "data": {
            "text/plain": [
              "array([123.,   5.,   1.,   4.,   8.,   2.,   6.,   7.,   0.,   9.,   3.,\n",
              "        10.,  nan,  11.,  18.,  12.,  17.,  14.,  16.,  13.,  19.,  15.,\n",
              "        20.,  22.,  21.,  24.,  23.,  26.,  25.,  27.,  28.,  31.,  41.,\n",
              "        34.,  29.,  38.,  30.])"
            ]
          },
          "metadata": {},
          "execution_count": 36
        }
      ]
    },
    {
      "cell_type": "code",
      "metadata": {
        "colab": {
          "base_uri": "https://localhost:8080/"
        },
        "id": "Bx3n9CZICAv7",
        "outputId": "ea4feebd-3452-4ca2-e968-6965ae769f5d"
      },
      "source": [
        "df_v2['person_emp_length'].describe()"
      ],
      "execution_count": null,
      "outputs": [
        {
          "output_type": "execute_result",
          "data": {
            "text/plain": [
              "count    31681.000000\n",
              "mean         4.789527\n",
              "std          4.142706\n",
              "min          0.000000\n",
              "25%          2.000000\n",
              "50%          4.000000\n",
              "75%          7.000000\n",
              "max        123.000000\n",
              "Name: person_emp_length, dtype: float64"
            ]
          },
          "metadata": {},
          "execution_count": 37
        }
      ]
    },
    {
      "cell_type": "code",
      "metadata": {
        "colab": {
          "base_uri": "https://localhost:8080/"
        },
        "id": "KA6iWH9tCUgN",
        "outputId": "662dfbc1-5982-4b66-ac00-277743c52375"
      },
      "source": [
        "df_v2['person_emp_length'].isnull().sum()"
      ],
      "execution_count": null,
      "outputs": [
        {
          "output_type": "execute_result",
          "data": {
            "text/plain": [
              "895"
            ]
          },
          "metadata": {},
          "execution_count": 38
        }
      ]
    },
    {
      "cell_type": "code",
      "metadata": {
        "colab": {
          "base_uri": "https://localhost:8080/",
          "height": 282
        },
        "id": "yLbc-M1rCeLh",
        "outputId": "c31674dd-1a0f-402e-c904-a8ac6da175ea"
      },
      "source": [
        "df_v2['person_emp_length'].hist()"
      ],
      "execution_count": null,
      "outputs": [
        {
          "output_type": "execute_result",
          "data": {
            "text/plain": [
              "<matplotlib.axes._subplots.AxesSubplot at 0x7f9d0228e150>"
            ]
          },
          "metadata": {},
          "execution_count": 39
        },
        {
          "output_type": "display_data",
          "data": {
            "image/png": "[encoded data removed]",
            "text/plain": [
              "<Figure size 432x288 with 1 Axes>"
            ]
          },
          "metadata": {
            "needs_background": "light"
          }
        }
      ]
    },
    {
      "cell_type": "code",
      "metadata": {
        "colab": {
          "base_uri": "https://localhost:8080/"
        },
        "id": "opgiQA04Z72m",
        "outputId": "376caa9a-cfad-4c8e-ea53-595a0108b25b"
      },
      "source": [
        "df_v2.shape"
      ],
      "execution_count": null,
      "outputs": [
        {
          "output_type": "execute_result",
          "data": {
            "text/plain": [
              "(32576, 12)"
            ]
          },
          "metadata": {},
          "execution_count": 40
        }
      ]
    },
    {
      "cell_type": "code",
      "metadata": {
        "id": "1BnyIHmJCigQ"
      },
      "source": [
        "df_3teste = df_v2.loc[df_v2['person_emp_length'] >= 50]"
      ],
      "execution_count": null,
      "outputs": []
    },
    {
      "cell_type": "code",
      "metadata": {
        "colab": {
          "base_uri": "https://localhost:8080/"
        },
        "id": "CSkHtBAraGt_",
        "outputId": "30fd7503-d589-46ff-e662-b3dc67e5089c"
      },
      "source": [
        "df_3teste.shape"
      ],
      "execution_count": null,
      "outputs": [
        {
          "output_type": "execute_result",
          "data": {
            "text/plain": [
              "(2, 12)"
            ]
          },
          "metadata": {},
          "execution_count": 42
        }
      ]
    },
    {
      "cell_type": "code",
      "metadata": {
        "id": "zHzrgZoOC_0W"
      },
      "source": [
        "df_v3_perda = df_v2.loc[df_v2['person_emp_length'] < 50]"
      ],
      "execution_count": null,
      "outputs": []
    },
    {
      "cell_type": "code",
      "metadata": {
        "colab": {
          "base_uri": "https://localhost:8080/"
        },
        "id": "1MKBAr-yDKiG",
        "outputId": "5440adb5-7372-41c8-c28e-076478798d3a"
      },
      "source": [
        "len(df_v3_perda)"
      ],
      "execution_count": null,
      "outputs": [
        {
          "output_type": "execute_result",
          "data": {
            "text/plain": [
              "31679"
            ]
          },
          "metadata": {},
          "execution_count": 44
        }
      ]
    },
    {
      "cell_type": "markdown",
      "metadata": {
        "id": "cSzz32j5a1Gx"
      },
      "source": [
        "## Usando o df_v2, identifico que há 2 registros com tempo de trabalho acima de 50 anos, exatamente 123 anos de trabalho. Eles serão excluídos do dataset. Contudo, ao atribuir apenas os registros com tempo de serviço <= 50 anos, o dataset passa a ter -879 registros.\n",
        "## Isso ocorre porque quando se filtra um campo por número, os na não são levados para o filtro.\n",
        "## Utilizarei o drop para fazer a exclusão correta."
      ]
    },
    {
      "cell_type": "code",
      "metadata": {
        "colab": {
          "base_uri": "https://localhost:8080/",
          "height": 130
        },
        "id": "NT5EpPD1bm8g",
        "outputId": "78910dc9-4c03-4ccd-a99a-b040def9b160"
      },
      "source": [
        "df_v2.loc[df_v2['person_emp_length'] == 123]"
      ],
      "execution_count": null,
      "outputs": [
        {
          "output_type": "execute_result",
          "data": {
            "text/html": [
              "<div>\n",
              "<style scoped>\n",
              "    .dataframe tbody tr th:only-of-type {\n",
              "        vertical-align: middle;\n",
              "    }\n",
              "\n",
              "    .dataframe tbody tr th {\n",
              "        vertical-align: top;\n",
              "    }\n",
              "\n",
              "    .dataframe thead th {\n",
              "        text-align: right;\n",
              "    }\n",
              "</style>\n",
              "<table border=\"1\" class=\"dataframe\">\n",
              "  <thead>\n",
              "    <tr style=\"text-align: right;\">\n",
              "      <th></th>\n",
              "      <th>person_age</th>\n",
              "      <th>person_income</th>\n",
              "      <th>person_home_ownership</th>\n",
              "      <th>person_emp_length</th>\n",
              "      <th>loan_intent</th>\n",
              "      <th>loan_grade</th>\n",
              "      <th>loan_amnt</th>\n",
              "      <th>loan_int_rate</th>\n",
              "      <th>loan_status</th>\n",
              "      <th>loan_percent_income</th>\n",
              "      <th>cb_person_default_on_file</th>\n",
              "      <th>cb_person_cred_hist_length</th>\n",
              "    </tr>\n",
              "  </thead>\n",
              "  <tbody>\n",
              "    <tr>\n",
              "      <th>0</th>\n",
              "      <td>22</td>\n",
              "      <td>59000</td>\n",
              "      <td>RENT</td>\n",
              "      <td>123.0</td>\n",
              "      <td>PERSONAL</td>\n",
              "      <td>D</td>\n",
              "      <td>35000</td>\n",
              "      <td>16.02</td>\n",
              "      <td>1</td>\n",
              "      <td>0.59</td>\n",
              "      <td>Y</td>\n",
              "      <td>3</td>\n",
              "    </tr>\n",
              "    <tr>\n",
              "      <th>210</th>\n",
              "      <td>21</td>\n",
              "      <td>192000</td>\n",
              "      <td>MORTGAGE</td>\n",
              "      <td>123.0</td>\n",
              "      <td>VENTURE</td>\n",
              "      <td>A</td>\n",
              "      <td>20000</td>\n",
              "      <td>6.54</td>\n",
              "      <td>0</td>\n",
              "      <td>0.10</td>\n",
              "      <td>N</td>\n",
              "      <td>4</td>\n",
              "    </tr>\n",
              "  </tbody>\n",
              "</table>\n",
              "</div>"
            ],
            "text/plain": [
              "     person_age  ...  cb_person_cred_hist_length\n",
              "0            22  ...                           3\n",
              "210          21  ...                           4\n",
              "\n",
              "[2 rows x 12 columns]"
            ]
          },
          "metadata": {},
          "execution_count": 45
        }
      ]
    },
    {
      "cell_type": "code",
      "metadata": {
        "id": "5Qa_r_RteQ2Y"
      },
      "source": [
        "df_v3 = df_v2.drop(index=[0,210])"
      ],
      "execution_count": null,
      "outputs": []
    },
    {
      "cell_type": "code",
      "metadata": {
        "colab": {
          "base_uri": "https://localhost:8080/"
        },
        "id": "_R2zypi6esC9",
        "outputId": "abab06a1-8aea-47ad-df6c-020fcac055b5"
      },
      "source": [
        "df_v3.shape"
      ],
      "execution_count": null,
      "outputs": [
        {
          "output_type": "execute_result",
          "data": {
            "text/plain": [
              "(32574, 12)"
            ]
          },
          "metadata": {},
          "execution_count": 47
        }
      ]
    },
    {
      "cell_type": "code",
      "metadata": {
        "colab": {
          "base_uri": "https://localhost:8080/"
        },
        "id": "T0Lpwo7We8FM",
        "outputId": "5442e2b8-db53-4a2a-b32e-88855b172fe4"
      },
      "source": [
        "df_v3['person_emp_length'].describe()"
      ],
      "execution_count": null,
      "outputs": [
        {
          "output_type": "execute_result",
          "data": {
            "text/plain": [
              "count    31679.000000\n",
              "mean         4.782064\n",
              "std          4.034948\n",
              "min          0.000000\n",
              "25%          2.000000\n",
              "50%          4.000000\n",
              "75%          7.000000\n",
              "max         41.000000\n",
              "Name: person_emp_length, dtype: float64"
            ]
          },
          "metadata": {},
          "execution_count": 48
        }
      ]
    },
    {
      "cell_type": "markdown",
      "metadata": {
        "id": "nNQMbt5cfXFB"
      },
      "source": [
        "## Tratando os NA da coluna\n",
        "\n",
        "\n",
        "---\n",
        "\n",
        "Considerando que os NA representam 2,75% da coluna (pouco representativo), será atribuída a estes registros a mediana do tempo de serviço dos demais registros."
      ]
    },
    {
      "cell_type": "code",
      "metadata": {
        "colab": {
          "base_uri": "https://localhost:8080/"
        },
        "id": "G0iMGbABe8IY",
        "outputId": "571a6599-6df9-417c-ae57-5a5c75b7cb13"
      },
      "source": [
        "Nan_per = df_v3.isnull().sum()/df_v3.shape[0]*100\n",
        "Nan_per['person_emp_length'].round(2)"
      ],
      "execution_count": null,
      "outputs": [
        {
          "output_type": "execute_result",
          "data": {
            "text/plain": [
              "2.75"
            ]
          },
          "metadata": {},
          "execution_count": 49
        }
      ]
    },
    {
      "cell_type": "code",
      "metadata": {
        "id": "FIBVENH5f3os"
      },
      "source": [
        "df_v3['person_emp_length'].fillna(value=df_v3['person_emp_length'].median(), inplace=True)"
      ],
      "execution_count": null,
      "outputs": []
    },
    {
      "cell_type": "code",
      "metadata": {
        "colab": {
          "base_uri": "https://localhost:8080/"
        },
        "id": "KaTGZR6ygo7F",
        "outputId": "44883eef-7295-4137-ee47-22292b5074d2"
      },
      "source": [
        "Nan_per = df_v3.isnull().sum()/df_v3.shape[0]*100\n",
        "Nan_per['person_emp_length'].round(2)"
      ],
      "execution_count": null,
      "outputs": [
        {
          "output_type": "execute_result",
          "data": {
            "text/plain": [
              "0.0"
            ]
          },
          "metadata": {},
          "execution_count": 51
        }
      ]
    },
    {
      "cell_type": "markdown",
      "metadata": {
        "id": "R0FT96NRRGxb"
      },
      "source": [
        "#loan_intent MOTIVO DO EMPRÉSTIMO"
      ]
    },
    {
      "cell_type": "code",
      "metadata": {
        "colab": {
          "base_uri": "https://localhost:8080/"
        },
        "id": "bdWbaPTGRG8F",
        "outputId": "eb577624-74e4-427d-c02a-eb394fa699ee"
      },
      "source": [
        "df_v3['loan_intent'].nunique()"
      ],
      "execution_count": null,
      "outputs": [
        {
          "output_type": "execute_result",
          "data": {
            "text/plain": [
              "6"
            ]
          },
          "metadata": {},
          "execution_count": 52
        }
      ]
    },
    {
      "cell_type": "code",
      "metadata": {
        "colab": {
          "base_uri": "https://localhost:8080/"
        },
        "id": "GbG60S_6guoJ",
        "outputId": "1a569ce8-88fc-42de-c960-2a11965cc91b"
      },
      "source": [
        "df_v3['loan_intent'].unique()"
      ],
      "execution_count": null,
      "outputs": [
        {
          "output_type": "execute_result",
          "data": {
            "text/plain": [
              "array(['EDUCATION', 'MEDICAL', 'VENTURE', 'PERSONAL', 'HOMEIMPROVEMENT',\n",
              "       'DEBTCONSOLIDATION'], dtype=object)"
            ]
          },
          "metadata": {},
          "execution_count": 53
        }
      ]
    },
    {
      "cell_type": "code",
      "metadata": {
        "id": "3X2SLPUwgyLj"
      },
      "source": [
        "df_v3_gb_intent = df_v3.groupby(\"loan_intent\")[['person_age', 'loan_amnt']]"
      ],
      "execution_count": null,
      "outputs": []
    },
    {
      "cell_type": "code",
      "metadata": {
        "colab": {
          "base_uri": "https://localhost:8080/",
          "height": 263
        },
        "id": "haCdr3WLiEiX",
        "outputId": "98c07213-d540-41fa-a88d-4763ff0f2a50"
      },
      "source": [
        "df_v3_gb_intent.count().sort_values(by='loan_amnt', ascending=False)"
      ],
      "execution_count": null,
      "outputs": [
        {
          "output_type": "execute_result",
          "data": {
            "text/html": [
              "<div>\n",
              "<style scoped>\n",
              "    .dataframe tbody tr th:only-of-type {\n",
              "        vertical-align: middle;\n",
              "    }\n",
              "\n",
              "    .dataframe tbody tr th {\n",
              "        vertical-align: top;\n",
              "    }\n",
              "\n",
              "    .dataframe thead th {\n",
              "        text-align: right;\n",
              "    }\n",
              "</style>\n",
              "<table border=\"1\" class=\"dataframe\">\n",
              "  <thead>\n",
              "    <tr style=\"text-align: right;\">\n",
              "      <th></th>\n",
              "      <th>person_age</th>\n",
              "      <th>loan_amnt</th>\n",
              "    </tr>\n",
              "    <tr>\n",
              "      <th>loan_intent</th>\n",
              "      <th></th>\n",
              "      <th></th>\n",
              "    </tr>\n",
              "  </thead>\n",
              "  <tbody>\n",
              "    <tr>\n",
              "      <th>EDUCATION</th>\n",
              "      <td>6451</td>\n",
              "      <td>6451</td>\n",
              "    </tr>\n",
              "    <tr>\n",
              "      <th>MEDICAL</th>\n",
              "      <td>6071</td>\n",
              "      <td>6071</td>\n",
              "    </tr>\n",
              "    <tr>\n",
              "      <th>VENTURE</th>\n",
              "      <td>5716</td>\n",
              "      <td>5716</td>\n",
              "    </tr>\n",
              "    <tr>\n",
              "      <th>PERSONAL</th>\n",
              "      <td>5519</td>\n",
              "      <td>5519</td>\n",
              "    </tr>\n",
              "    <tr>\n",
              "      <th>DEBTCONSOLIDATION</th>\n",
              "      <td>5212</td>\n",
              "      <td>5212</td>\n",
              "    </tr>\n",
              "    <tr>\n",
              "      <th>HOMEIMPROVEMENT</th>\n",
              "      <td>3605</td>\n",
              "      <td>3605</td>\n",
              "    </tr>\n",
              "  </tbody>\n",
              "</table>\n",
              "</div>"
            ],
            "text/plain": [
              "                   person_age  loan_amnt\n",
              "loan_intent                             \n",
              "EDUCATION                6451       6451\n",
              "MEDICAL                  6071       6071\n",
              "VENTURE                  5716       5716\n",
              "PERSONAL                 5519       5519\n",
              "DEBTCONSOLIDATION        5212       5212\n",
              "HOMEIMPROVEMENT          3605       3605"
            ]
          },
          "metadata": {},
          "execution_count": 62
        }
      ]
    },
    {
      "cell_type": "code",
      "metadata": {
        "colab": {
          "base_uri": "https://localhost:8080/",
          "height": 263
        },
        "id": "nq4TmtAFhE3I",
        "outputId": "01e1d458-9187-41f9-b4e9-19a891d51c40"
      },
      "source": [
        "df_v3_gb_intent.sum().sort_values(by='loan_amnt', ascending=False)"
      ],
      "execution_count": null,
      "outputs": [
        {
          "output_type": "execute_result",
          "data": {
            "text/html": [
              "<div>\n",
              "<style scoped>\n",
              "    .dataframe tbody tr th:only-of-type {\n",
              "        vertical-align: middle;\n",
              "    }\n",
              "\n",
              "    .dataframe tbody tr th {\n",
              "        vertical-align: top;\n",
              "    }\n",
              "\n",
              "    .dataframe thead th {\n",
              "        text-align: right;\n",
              "    }\n",
              "</style>\n",
              "<table border=\"1\" class=\"dataframe\">\n",
              "  <thead>\n",
              "    <tr style=\"text-align: right;\">\n",
              "      <th></th>\n",
              "      <th>person_age</th>\n",
              "      <th>loan_amnt</th>\n",
              "    </tr>\n",
              "    <tr>\n",
              "      <th>loan_intent</th>\n",
              "      <th></th>\n",
              "      <th></th>\n",
              "    </tr>\n",
              "  </thead>\n",
              "  <tbody>\n",
              "    <tr>\n",
              "      <th>EDUCATION</th>\n",
              "      <td>171306</td>\n",
              "      <td>61165325</td>\n",
              "    </tr>\n",
              "    <tr>\n",
              "      <th>MEDICAL</th>\n",
              "      <td>169976</td>\n",
              "      <td>56214925</td>\n",
              "    </tr>\n",
              "    <tr>\n",
              "      <th>VENTURE</th>\n",
              "      <td>157376</td>\n",
              "      <td>54764825</td>\n",
              "    </tr>\n",
              "    <tr>\n",
              "      <th>PERSONAL</th>\n",
              "      <td>155573</td>\n",
              "      <td>52816800</td>\n",
              "    </tr>\n",
              "    <tr>\n",
              "      <th>DEBTCONSOLIDATION</th>\n",
              "      <td>143884</td>\n",
              "      <td>50008550</td>\n",
              "    </tr>\n",
              "    <tr>\n",
              "      <th>HOMEIMPROVEMENT</th>\n",
              "      <td>104785</td>\n",
              "      <td>37349675</td>\n",
              "    </tr>\n",
              "  </tbody>\n",
              "</table>\n",
              "</div>"
            ],
            "text/plain": [
              "                   person_age  loan_amnt\n",
              "loan_intent                             \n",
              "EDUCATION              171306   61165325\n",
              "MEDICAL                169976   56214925\n",
              "VENTURE                157376   54764825\n",
              "PERSONAL               155573   52816800\n",
              "DEBTCONSOLIDATION      143884   50008550\n",
              "HOMEIMPROVEMENT        104785   37349675"
            ]
          },
          "metadata": {},
          "execution_count": 59
        }
      ]
    },
    {
      "cell_type": "code",
      "metadata": {
        "colab": {
          "base_uri": "https://localhost:8080/",
          "height": 263
        },
        "id": "_kwFTe7KhSdl",
        "outputId": "b58c4978-6ace-4088-aac3-725ba73cc374"
      },
      "source": [
        "(df_v3_gb_intent.sum() / df_v3_gb_intent.count()).sort_values(by='loan_amnt', ascending=False).round(2)"
      ],
      "execution_count": null,
      "outputs": [
        {
          "output_type": "execute_result",
          "data": {
            "text/html": [
              "<div>\n",
              "<style scoped>\n",
              "    .dataframe tbody tr th:only-of-type {\n",
              "        vertical-align: middle;\n",
              "    }\n",
              "\n",
              "    .dataframe tbody tr th {\n",
              "        vertical-align: top;\n",
              "    }\n",
              "\n",
              "    .dataframe thead th {\n",
              "        text-align: right;\n",
              "    }\n",
              "</style>\n",
              "<table border=\"1\" class=\"dataframe\">\n",
              "  <thead>\n",
              "    <tr style=\"text-align: right;\">\n",
              "      <th></th>\n",
              "      <th>person_age</th>\n",
              "      <th>loan_amnt</th>\n",
              "    </tr>\n",
              "    <tr>\n",
              "      <th>loan_intent</th>\n",
              "      <th></th>\n",
              "      <th></th>\n",
              "    </tr>\n",
              "  </thead>\n",
              "  <tbody>\n",
              "    <tr>\n",
              "      <th>HOMEIMPROVEMENT</th>\n",
              "      <td>29.07</td>\n",
              "      <td>10360.52</td>\n",
              "    </tr>\n",
              "    <tr>\n",
              "      <th>DEBTCONSOLIDATION</th>\n",
              "      <td>27.61</td>\n",
              "      <td>9594.89</td>\n",
              "    </tr>\n",
              "    <tr>\n",
              "      <th>VENTURE</th>\n",
              "      <td>27.53</td>\n",
              "      <td>9580.97</td>\n",
              "    </tr>\n",
              "    <tr>\n",
              "      <th>PERSONAL</th>\n",
              "      <td>28.19</td>\n",
              "      <td>9569.99</td>\n",
              "    </tr>\n",
              "    <tr>\n",
              "      <th>EDUCATION</th>\n",
              "      <td>26.55</td>\n",
              "      <td>9481.53</td>\n",
              "    </tr>\n",
              "    <tr>\n",
              "      <th>MEDICAL</th>\n",
              "      <td>28.00</td>\n",
              "      <td>9259.58</td>\n",
              "    </tr>\n",
              "  </tbody>\n",
              "</table>\n",
              "</div>"
            ],
            "text/plain": [
              "                   person_age  loan_amnt\n",
              "loan_intent                             \n",
              "HOMEIMPROVEMENT         29.07   10360.52\n",
              "DEBTCONSOLIDATION       27.61    9594.89\n",
              "VENTURE                 27.53    9580.97\n",
              "PERSONAL                28.19    9569.99\n",
              "EDUCATION               26.55    9481.53\n",
              "MEDICAL                 28.00    9259.58"
            ]
          },
          "metadata": {},
          "execution_count": 65
        }
      ]
    },
    {
      "cell_type": "markdown",
      "metadata": {
        "id": "nmEB7BDrhTUc"
      },
      "source": [
        "#loan_grade GRAU DO EMPRÉSTIMO  object "
      ]
    },
    {
      "cell_type": "code",
      "metadata": {
        "colab": {
          "base_uri": "https://localhost:8080/"
        },
        "id": "XCNLQXwM5AEo",
        "outputId": "94afe863-dcfd-4dd8-b282-31e434b3e3cc"
      },
      "source": [
        "df_v3.loan_grade.nunique()"
      ],
      "execution_count": null,
      "outputs": [
        {
          "output_type": "execute_result",
          "data": {
            "text/plain": [
              "7"
            ]
          },
          "metadata": {},
          "execution_count": 66
        }
      ]
    },
    {
      "cell_type": "code",
      "metadata": {
        "colab": {
          "base_uri": "https://localhost:8080/"
        },
        "id": "HL5OOgiU5E2G",
        "outputId": "7936fb44-3cd1-488e-b24c-23c808ed0953"
      },
      "source": [
        "df_v3.loan_grade.unique()"
      ],
      "execution_count": null,
      "outputs": [
        {
          "output_type": "execute_result",
          "data": {
            "text/plain": [
              "array(['B', 'C', 'A', 'D', 'E', 'F', 'G'], dtype=object)"
            ]
          },
          "metadata": {},
          "execution_count": 67
        }
      ]
    },
    {
      "cell_type": "code",
      "metadata": {
        "id": "E3zS7QX05E4s"
      },
      "source": [
        "df_v3_gb_grade = df_v3.groupby('loan_grade')[['person_age', 'loan_amnt']]"
      ],
      "execution_count": null,
      "outputs": []
    },
    {
      "cell_type": "code",
      "metadata": {
        "colab": {
          "base_uri": "https://localhost:8080/",
          "height": 294
        },
        "id": "1pWM_heg5E-T",
        "outputId": "b335f8d9-ba57-4b17-cede-9e136559451b"
      },
      "source": [
        "df_v3_gb_grade.count()"
      ],
      "execution_count": null,
      "outputs": [
        {
          "output_type": "execute_result",
          "data": {
            "text/html": [
              "<div>\n",
              "<style scoped>\n",
              "    .dataframe tbody tr th:only-of-type {\n",
              "        vertical-align: middle;\n",
              "    }\n",
              "\n",
              "    .dataframe tbody tr th {\n",
              "        vertical-align: top;\n",
              "    }\n",
              "\n",
              "    .dataframe thead th {\n",
              "        text-align: right;\n",
              "    }\n",
              "</style>\n",
              "<table border=\"1\" class=\"dataframe\">\n",
              "  <thead>\n",
              "    <tr style=\"text-align: right;\">\n",
              "      <th></th>\n",
              "      <th>person_age</th>\n",
              "      <th>loan_amnt</th>\n",
              "    </tr>\n",
              "    <tr>\n",
              "      <th>loan_grade</th>\n",
              "      <th></th>\n",
              "      <th></th>\n",
              "    </tr>\n",
              "  </thead>\n",
              "  <tbody>\n",
              "    <tr>\n",
              "      <th>A</th>\n",
              "      <td>10776</td>\n",
              "      <td>10776</td>\n",
              "    </tr>\n",
              "    <tr>\n",
              "      <th>B</th>\n",
              "      <td>10448</td>\n",
              "      <td>10448</td>\n",
              "    </tr>\n",
              "    <tr>\n",
              "      <th>C</th>\n",
              "      <td>6456</td>\n",
              "      <td>6456</td>\n",
              "    </tr>\n",
              "    <tr>\n",
              "      <th>D</th>\n",
              "      <td>3625</td>\n",
              "      <td>3625</td>\n",
              "    </tr>\n",
              "    <tr>\n",
              "      <th>E</th>\n",
              "      <td>964</td>\n",
              "      <td>964</td>\n",
              "    </tr>\n",
              "    <tr>\n",
              "      <th>F</th>\n",
              "      <td>241</td>\n",
              "      <td>241</td>\n",
              "    </tr>\n",
              "    <tr>\n",
              "      <th>G</th>\n",
              "      <td>64</td>\n",
              "      <td>64</td>\n",
              "    </tr>\n",
              "  </tbody>\n",
              "</table>\n",
              "</div>"
            ],
            "text/plain": [
              "            person_age  loan_amnt\n",
              "loan_grade                       \n",
              "A                10776      10776\n",
              "B                10448      10448\n",
              "C                 6456       6456\n",
              "D                 3625       3625\n",
              "E                  964        964\n",
              "F                  241        241\n",
              "G                   64         64"
            ]
          },
          "metadata": {},
          "execution_count": 70
        }
      ]
    },
    {
      "cell_type": "markdown",
      "metadata": {
        "id": "M2e0Qh2k5oVI"
      },
      "source": [
        "#loan_amnt VALOR DO EMPRÉSTIMO"
      ]
    },
    {
      "cell_type": "code",
      "metadata": {
        "colab": {
          "base_uri": "https://localhost:8080/"
        },
        "id": "6V6t7d1Q5szr",
        "outputId": "d9918bdc-5aac-41ce-b290-364a464b656d"
      },
      "source": [
        "df_v3.loan_amnt.nunique()"
      ],
      "execution_count": null,
      "outputs": [
        {
          "output_type": "execute_result",
          "data": {
            "text/plain": [
              "753"
            ]
          },
          "metadata": {},
          "execution_count": 72
        }
      ]
    },
    {
      "cell_type": "code",
      "metadata": {
        "colab": {
          "base_uri": "https://localhost:8080/"
        },
        "id": "z-MmtMzG5s2x",
        "outputId": "07761b74-1595-4e5b-9c3b-46387c7da455"
      },
      "source": [
        "df_v3.loan_amnt.describe()"
      ],
      "execution_count": null,
      "outputs": [
        {
          "output_type": "execute_result",
          "data": {
            "text/plain": [
              "count    32574.000000\n",
              "mean      9588.018051\n",
              "std       6320.249598\n",
              "min        500.000000\n",
              "25%       5000.000000\n",
              "50%       8000.000000\n",
              "75%      12200.000000\n",
              "max      35000.000000\n",
              "Name: loan_amnt, dtype: float64"
            ]
          },
          "metadata": {},
          "execution_count": 73
        }
      ]
    },
    {
      "cell_type": "markdown",
      "metadata": {
        "id": "6ViyIFDu598G"
      },
      "source": [
        "# loan_int_rate TAXA DE JUROS "
      ]
    },
    {
      "cell_type": "code",
      "metadata": {
        "colab": {
          "base_uri": "https://localhost:8080/"
        },
        "id": "SHsYZAME5-Dl",
        "outputId": "42a5bec0-2ece-4cb9-bb58-66e12beb8228"
      },
      "source": [
        "df_v3.loan_int_rate.nunique()"
      ],
      "execution_count": null,
      "outputs": [
        {
          "output_type": "execute_result",
          "data": {
            "text/plain": [
              "348"
            ]
          },
          "metadata": {},
          "execution_count": 74
        }
      ]
    },
    {
      "cell_type": "code",
      "metadata": {
        "colab": {
          "base_uri": "https://localhost:8080/"
        },
        "id": "k9pSXV6B5-G2",
        "outputId": "fa8fd7cb-fc23-495c-80ca-55d3fc9012b8"
      },
      "source": [
        "df_v3.loan_int_rate.describe()"
      ],
      "execution_count": null,
      "outputs": [
        {
          "output_type": "execute_result",
          "data": {
            "text/plain": [
              "count    29459.000000\n",
              "mean        11.011529\n",
              "std          3.240497\n",
              "min          5.420000\n",
              "25%          7.900000\n",
              "50%         10.990000\n",
              "75%         13.470000\n",
              "max         23.220000\n",
              "Name: loan_int_rate, dtype: float64"
            ]
          },
          "metadata": {},
          "execution_count": 75
        }
      ]
    },
    {
      "cell_type": "code",
      "metadata": {
        "colab": {
          "base_uri": "https://localhost:8080/"
        },
        "id": "-Niqsb_L6a_4",
        "outputId": "8ee2bb3c-8404-4d44-bd01-56c72fa80cde"
      },
      "source": [
        "df_v3_gb_rate = df_v3.groupby(by=['loan_intent', 'loan_grade'])['loan_int_rate', 'loan_amnt']"
      ],
      "execution_count": null,
      "outputs": [
        {
          "output_type": "stream",
          "text": [
            "/usr/local/lib/python3.7/dist-packages/ipykernel_launcher.py:1: FutureWarning: Indexing with multiple keys (implicitly converted to a tuple of keys) will be deprecated, use a list instead.\n",
            "  \"\"\"Entry point for launching an IPython kernel.\n"
          ],
          "name": "stderr"
        }
      ]
    },
    {
      "cell_type": "code",
      "metadata": {
        "colab": {
          "base_uri": "https://localhost:8080/",
          "height": 1000
        },
        "id": "S4yn6WQQJ2OW",
        "outputId": "d3352015-a63c-4956-a22d-3237f8255ad6"
      },
      "source": [
        "df_v3_gb_rate.sum().round(2)"
      ],
      "execution_count": null,
      "outputs": [
        {
          "output_type": "execute_result",
          "data": {
            "text/html": [
              "<div>\n",
              "<style scoped>\n",
              "    .dataframe tbody tr th:only-of-type {\n",
              "        vertical-align: middle;\n",
              "    }\n",
              "\n",
              "    .dataframe tbody tr th {\n",
              "        vertical-align: top;\n",
              "    }\n",
              "\n",
              "    .dataframe thead th {\n",
              "        text-align: right;\n",
              "    }\n",
              "</style>\n",
              "<table border=\"1\" class=\"dataframe\">\n",
              "  <thead>\n",
              "    <tr style=\"text-align: right;\">\n",
              "      <th></th>\n",
              "      <th></th>\n",
              "      <th>loan_int_rate</th>\n",
              "      <th>loan_amnt</th>\n",
              "    </tr>\n",
              "    <tr>\n",
              "      <th>loan_intent</th>\n",
              "      <th>loan_grade</th>\n",
              "      <th></th>\n",
              "      <th></th>\n",
              "    </tr>\n",
              "  </thead>\n",
              "  <tbody>\n",
              "    <tr>\n",
              "      <th rowspan=\"7\" valign=\"top\">DEBTCONSOLIDATION</th>\n",
              "      <th>A</th>\n",
              "      <td>11729.26</td>\n",
              "      <td>14977750</td>\n",
              "    </tr>\n",
              "    <tr>\n",
              "      <th>B</th>\n",
              "      <td>15968.56</td>\n",
              "      <td>16432775</td>\n",
              "    </tr>\n",
              "    <tr>\n",
              "      <th>C</th>\n",
              "      <td>12562.17</td>\n",
              "      <td>9534525</td>\n",
              "    </tr>\n",
              "    <tr>\n",
              "      <th>D</th>\n",
              "      <td>8401.44</td>\n",
              "      <td>6430575</td>\n",
              "    </tr>\n",
              "    <tr>\n",
              "      <th>E</th>\n",
              "      <td>2143.04</td>\n",
              "      <td>1810950</td>\n",
              "    </tr>\n",
              "    <tr>\n",
              "      <th>F</th>\n",
              "      <td>687.18</td>\n",
              "      <td>630825</td>\n",
              "    </tr>\n",
              "    <tr>\n",
              "      <th>G</th>\n",
              "      <td>162.66</td>\n",
              "      <td>191150</td>\n",
              "    </tr>\n",
              "    <tr>\n",
              "      <th rowspan=\"7\" valign=\"top\">EDUCATION</th>\n",
              "      <th>A</th>\n",
              "      <td>14637.81</td>\n",
              "      <td>18472075</td>\n",
              "    </tr>\n",
              "    <tr>\n",
              "      <th>B</th>\n",
              "      <td>20110.33</td>\n",
              "      <td>20291900</td>\n",
              "    </tr>\n",
              "    <tr>\n",
              "      <th>C</th>\n",
              "      <td>16352.18</td>\n",
              "      <td>12064450</td>\n",
              "    </tr>\n",
              "    <tr>\n",
              "      <th>D</th>\n",
              "      <td>9170.78</td>\n",
              "      <td>7152575</td>\n",
              "    </tr>\n",
              "    <tr>\n",
              "      <th>E</th>\n",
              "      <td>2892.78</td>\n",
              "      <td>2361550</td>\n",
              "    </tr>\n",
              "    <tr>\n",
              "      <th>F</th>\n",
              "      <td>736.14</td>\n",
              "      <td>659275</td>\n",
              "    </tr>\n",
              "    <tr>\n",
              "      <th>G</th>\n",
              "      <td>180.70</td>\n",
              "      <td>163500</td>\n",
              "    </tr>\n",
              "    <tr>\n",
              "      <th rowspan=\"7\" valign=\"top\">HOMEIMPROVEMENT</th>\n",
              "      <th>A</th>\n",
              "      <td>7521.90</td>\n",
              "      <td>10006250</td>\n",
              "    </tr>\n",
              "    <tr>\n",
              "      <th>B</th>\n",
              "      <td>11099.33</td>\n",
              "      <td>12083900</td>\n",
              "    </tr>\n",
              "    <tr>\n",
              "      <th>C</th>\n",
              "      <td>8439.99</td>\n",
              "      <td>6954600</td>\n",
              "    </tr>\n",
              "    <tr>\n",
              "      <th>D</th>\n",
              "      <td>6840.14</td>\n",
              "      <td>5546300</td>\n",
              "    </tr>\n",
              "    <tr>\n",
              "      <th>E</th>\n",
              "      <td>2240.72</td>\n",
              "      <td>2022725</td>\n",
              "    </tr>\n",
              "    <tr>\n",
              "      <th>F</th>\n",
              "      <td>528.22</td>\n",
              "      <td>540025</td>\n",
              "    </tr>\n",
              "    <tr>\n",
              "      <th>G</th>\n",
              "      <td>181.49</td>\n",
              "      <td>195875</td>\n",
              "    </tr>\n",
              "    <tr>\n",
              "      <th rowspan=\"7\" valign=\"top\">MEDICAL</th>\n",
              "      <th>A</th>\n",
              "      <td>12890.07</td>\n",
              "      <td>16261675</td>\n",
              "    </tr>\n",
              "    <tr>\n",
              "      <th>B</th>\n",
              "      <td>19489.34</td>\n",
              "      <td>19005075</td>\n",
              "    </tr>\n",
              "    <tr>\n",
              "      <th>C</th>\n",
              "      <td>14936.50</td>\n",
              "      <td>10864875</td>\n",
              "    </tr>\n",
              "    <tr>\n",
              "      <th>D</th>\n",
              "      <td>9247.46</td>\n",
              "      <td>6995175</td>\n",
              "    </tr>\n",
              "    <tr>\n",
              "      <th>E</th>\n",
              "      <td>2630.07</td>\n",
              "      <td>2158625</td>\n",
              "    </tr>\n",
              "    <tr>\n",
              "      <th>F</th>\n",
              "      <td>872.50</td>\n",
              "      <td>746500</td>\n",
              "    </tr>\n",
              "    <tr>\n",
              "      <th>G</th>\n",
              "      <td>223.18</td>\n",
              "      <td>183000</td>\n",
              "    </tr>\n",
              "    <tr>\n",
              "      <th rowspan=\"7\" valign=\"top\">PERSONAL</th>\n",
              "      <th>A</th>\n",
              "      <td>12142.50</td>\n",
              "      <td>15758325</td>\n",
              "    </tr>\n",
              "    <tr>\n",
              "      <th>B</th>\n",
              "      <td>18069.80</td>\n",
              "      <td>17683125</td>\n",
              "    </tr>\n",
              "    <tr>\n",
              "      <th>C</th>\n",
              "      <td>12740.07</td>\n",
              "      <td>9928275</td>\n",
              "    </tr>\n",
              "    <tr>\n",
              "      <th>D</th>\n",
              "      <td>9101.18</td>\n",
              "      <td>6963750</td>\n",
              "    </tr>\n",
              "    <tr>\n",
              "      <th>E</th>\n",
              "      <td>2344.03</td>\n",
              "      <td>1845400</td>\n",
              "    </tr>\n",
              "    <tr>\n",
              "      <th>F</th>\n",
              "      <td>519.83</td>\n",
              "      <td>442575</td>\n",
              "    </tr>\n",
              "    <tr>\n",
              "      <th>G</th>\n",
              "      <td>198.92</td>\n",
              "      <td>195350</td>\n",
              "    </tr>\n",
              "    <tr>\n",
              "      <th rowspan=\"7\" valign=\"top\">VENTURE</th>\n",
              "      <th>A</th>\n",
              "      <td>12692.38</td>\n",
              "      <td>16531675</td>\n",
              "    </tr>\n",
              "    <tr>\n",
              "      <th>B</th>\n",
              "      <td>18543.77</td>\n",
              "      <td>18919625</td>\n",
              "    </tr>\n",
              "    <tr>\n",
              "      <th>C</th>\n",
              "      <td>13408.31</td>\n",
              "      <td>10146600</td>\n",
              "    </tr>\n",
              "    <tr>\n",
              "      <th>D</th>\n",
              "      <td>8130.82</td>\n",
              "      <td>6215975</td>\n",
              "    </tr>\n",
              "    <tr>\n",
              "      <th>E</th>\n",
              "      <td>2734.69</td>\n",
              "      <td>2251625</td>\n",
              "    </tr>\n",
              "    <tr>\n",
              "      <th>F</th>\n",
              "      <td>638.49</td>\n",
              "      <td>527675</td>\n",
              "    </tr>\n",
              "    <tr>\n",
              "      <th>G</th>\n",
              "      <td>247.89</td>\n",
              "      <td>171650</td>\n",
              "    </tr>\n",
              "  </tbody>\n",
              "</table>\n",
              "</div>"
            ],
            "text/plain": [
              "                              loan_int_rate  loan_amnt\n",
              "loan_intent       loan_grade                          \n",
              "DEBTCONSOLIDATION A                11729.26   14977750\n",
              "                  B                15968.56   16432775\n",
              "                  C                12562.17    9534525\n",
              "                  D                 8401.44    6430575\n",
              "                  E                 2143.04    1810950\n",
              "                  F                  687.18     630825\n",
              "                  G                  162.66     191150\n",
              "EDUCATION         A                14637.81   18472075\n",
              "                  B                20110.33   20291900\n",
              "                  C                16352.18   12064450\n",
              "                  D                 9170.78    7152575\n",
              "                  E                 2892.78    2361550\n",
              "                  F                  736.14     659275\n",
              "                  G                  180.70     163500\n",
              "HOMEIMPROVEMENT   A                 7521.90   10006250\n",
              "                  B                11099.33   12083900\n",
              "                  C                 8439.99    6954600\n",
              "                  D                 6840.14    5546300\n",
              "                  E                 2240.72    2022725\n",
              "                  F                  528.22     540025\n",
              "                  G                  181.49     195875\n",
              "MEDICAL           A                12890.07   16261675\n",
              "                  B                19489.34   19005075\n",
              "                  C                14936.50   10864875\n",
              "                  D                 9247.46    6995175\n",
              "                  E                 2630.07    2158625\n",
              "                  F                  872.50     746500\n",
              "                  G                  223.18     183000\n",
              "PERSONAL          A                12142.50   15758325\n",
              "                  B                18069.80   17683125\n",
              "                  C                12740.07    9928275\n",
              "                  D                 9101.18    6963750\n",
              "                  E                 2344.03    1845400\n",
              "                  F                  519.83     442575\n",
              "                  G                  198.92     195350\n",
              "VENTURE           A                12692.38   16531675\n",
              "                  B                18543.77   18919625\n",
              "                  C                13408.31   10146600\n",
              "                  D                 8130.82    6215975\n",
              "                  E                 2734.69    2251625\n",
              "                  F                  638.49     527675\n",
              "                  G                  247.89     171650"
            ]
          },
          "metadata": {},
          "execution_count": 84
        }
      ]
    },
    {
      "cell_type": "markdown",
      "metadata": {
        "id": "4OgyvmXhVxMJ"
      },
      "source": [
        "## Analisando os dados faltantes: Há predominância de dados faltantes em algum subgrupo do dataset?\n",
        "\n",
        "---\n",
        "\n",
        "person_home_ownership   \n",
        "loan_intent   \n",
        "loan_grade   \n",
        "loan_status   \n",
        "cb_person_default_on_file   \n",
        "cb_person_cred_hist_length   "
      ]
    },
    {
      "cell_type": "code",
      "metadata": {
        "id": "lTHxyvgnao5D"
      },
      "source": [
        "df_v3['isnull_loan_int_rate'] = 0"
      ],
      "execution_count": null,
      "outputs": []
    },
    {
      "cell_type": "code",
      "metadata": {
        "colab": {
          "base_uri": "https://localhost:8080/",
          "height": 221
        },
        "id": "2SnEr5hta6na",
        "outputId": "ce2ecdec-59e8-4ce6-d037-14a3f6596425"
      },
      "source": [
        "if df_v3['loan_int_rate']:\n",
        "    df_v3['isnull_loan_int_rate'] = 1\n",
        "else:\n",
        "    df_v3['isnull_loan_int_rate'] = 0"
      ],
      "execution_count": null,
      "outputs": [
        {
          "output_type": "error",
          "ename": "NameError",
          "evalue": "ignored",
          "traceback": [
            "\u001b[0;31m---------------------------------------------------------------------------\u001b[0m",
            "\u001b[0;31mNameError\u001b[0m                                 Traceback (most recent call last)",
            "\u001b[0;32m<ipython-input-168-303b2c718942>\u001b[0m in \u001b[0;36m<module>\u001b[0;34m()\u001b[0m\n\u001b[0;32m----> 1\u001b[0;31m \u001b[0;32mif\u001b[0m \u001b[0misna\u001b[0m\u001b[0;34m(\u001b[0m\u001b[0mdf_v3\u001b[0m\u001b[0;34m[\u001b[0m\u001b[0;34m'loan_int_rate'\u001b[0m\u001b[0;34m]\u001b[0m\u001b[0;34m)\u001b[0m\u001b[0;34m:\u001b[0m\u001b[0;34m\u001b[0m\u001b[0;34m\u001b[0m\u001b[0m\n\u001b[0m\u001b[1;32m      2\u001b[0m     \u001b[0mdf_v3\u001b[0m\u001b[0;34m[\u001b[0m\u001b[0;34m'isnull_loan_int_rate'\u001b[0m\u001b[0;34m]\u001b[0m \u001b[0;34m=\u001b[0m \u001b[0;36m1\u001b[0m\u001b[0;34m\u001b[0m\u001b[0;34m\u001b[0m\u001b[0m\n\u001b[1;32m      3\u001b[0m \u001b[0;32melse\u001b[0m\u001b[0;34m:\u001b[0m\u001b[0;34m\u001b[0m\u001b[0;34m\u001b[0m\u001b[0m\n\u001b[1;32m      4\u001b[0m     \u001b[0mdf_v3\u001b[0m\u001b[0;34m[\u001b[0m\u001b[0;34m'isnull_loan_int_rate'\u001b[0m\u001b[0;34m]\u001b[0m \u001b[0;34m=\u001b[0m \u001b[0;36m0\u001b[0m\u001b[0;34m\u001b[0m\u001b[0;34m\u001b[0m\u001b[0m\n",
            "\u001b[0;31mNameError\u001b[0m: name 'isna' is not defined"
          ]
        }
      ]
    },
    {
      "cell_type": "code",
      "metadata": {
        "colab": {
          "base_uri": "https://localhost:8080/"
        },
        "id": "v-fdB_RcbTW-",
        "outputId": "7c938365-9c87-47d0-f298-9e38afc83713"
      },
      "source": [
        "df_v3['isnull_loan_int_rate'].sum()"
      ],
      "execution_count": null,
      "outputs": [
        {
          "output_type": "execute_result",
          "data": {
            "text/plain": [
              "32574"
            ]
          },
          "metadata": {},
          "execution_count": 163
        }
      ]
    },
    {
      "cell_type": "code",
      "metadata": {
        "id": "ftZTtwyIVxcs"
      },
      "source": [
        "df_v3_gb_homeow = df_v3.groupby('person_home_ownership')"
      ],
      "execution_count": null,
      "outputs": []
    },
    {
      "cell_type": "code",
      "metadata": {
        "colab": {
          "base_uri": "https://localhost:8080/",
          "height": 292
        },
        "id": "0TUfnbhFVxfk",
        "outputId": "d68a759b-8bee-4edc-f9fd-5c5cec6e8dc3"
      },
      "source": [
        "df_v3_gb_homeow.isnull().sum()"
      ],
      "execution_count": null,
      "outputs": [
        {
          "output_type": "error",
          "ename": "AttributeError",
          "evalue": "ignored",
          "traceback": [
            "\u001b[0;31m---------------------------------------------------------------------------\u001b[0m",
            "\u001b[0;31mAttributeError\u001b[0m                            Traceback (most recent call last)",
            "\u001b[0;32m<ipython-input-158-d94e91923c48>\u001b[0m in \u001b[0;36m<module>\u001b[0;34m()\u001b[0m\n\u001b[0;32m----> 1\u001b[0;31m \u001b[0mdf_v3_gb_homeow\u001b[0m\u001b[0;34m.\u001b[0m\u001b[0misnull\u001b[0m\u001b[0;34m(\u001b[0m\u001b[0;34m)\u001b[0m\u001b[0;34m.\u001b[0m\u001b[0msum\u001b[0m\u001b[0;34m(\u001b[0m\u001b[0;34m)\u001b[0m\u001b[0;34m\u001b[0m\u001b[0;34m\u001b[0m\u001b[0m\n\u001b[0m",
            "\u001b[0;32m/usr/local/lib/python3.7/dist-packages/pandas/core/groupby/groupby.py\u001b[0m in \u001b[0;36m__getattr__\u001b[0;34m(self, attr)\u001b[0m\n\u001b[1;32m    702\u001b[0m \u001b[0;34m\u001b[0m\u001b[0m\n\u001b[1;32m    703\u001b[0m         raise AttributeError(\n\u001b[0;32m--> 704\u001b[0;31m             \u001b[0;34mf\"'{type(self).__name__}' object has no attribute '{attr}'\"\u001b[0m\u001b[0;34m\u001b[0m\u001b[0;34m\u001b[0m\u001b[0m\n\u001b[0m\u001b[1;32m    705\u001b[0m         )\n\u001b[1;32m    706\u001b[0m \u001b[0;34m\u001b[0m\u001b[0m\n",
            "\u001b[0;31mAttributeError\u001b[0m: 'DataFrameGroupBy' object has no attribute 'isnull'"
          ]
        }
      ]
    },
    {
      "cell_type": "code",
      "metadata": {
        "colab": {
          "base_uri": "https://localhost:8080/",
          "height": 1000
        },
        "id": "DbnYzNuNKKkK",
        "outputId": "ff32c1da-1a21-4bbd-d494-04bc6eba2d18"
      },
      "source": [
        "df_v3_gb_rate.mean().round(2)"
      ],
      "execution_count": null,
      "outputs": [
        {
          "output_type": "execute_result",
          "data": {
            "text/html": [
              "<div>\n",
              "<style scoped>\n",
              "    .dataframe tbody tr th:only-of-type {\n",
              "        vertical-align: middle;\n",
              "    }\n",
              "\n",
              "    .dataframe tbody tr th {\n",
              "        vertical-align: top;\n",
              "    }\n",
              "\n",
              "    .dataframe thead th {\n",
              "        text-align: right;\n",
              "    }\n",
              "</style>\n",
              "<table border=\"1\" class=\"dataframe\">\n",
              "  <thead>\n",
              "    <tr style=\"text-align: right;\">\n",
              "      <th></th>\n",
              "      <th></th>\n",
              "      <th>loan_int_rate</th>\n",
              "      <th>loan_amnt</th>\n",
              "    </tr>\n",
              "    <tr>\n",
              "      <th>loan_intent</th>\n",
              "      <th>loan_grade</th>\n",
              "      <th></th>\n",
              "      <th></th>\n",
              "    </tr>\n",
              "  </thead>\n",
              "  <tbody>\n",
              "    <tr>\n",
              "      <th rowspan=\"7\" valign=\"top\">DEBTCONSOLIDATION</th>\n",
              "      <th>A</th>\n",
              "      <td>7.33</td>\n",
              "      <td>8544.07</td>\n",
              "    </tr>\n",
              "    <tr>\n",
              "      <th>B</th>\n",
              "      <td>10.99</td>\n",
              "      <td>10143.69</td>\n",
              "    </tr>\n",
              "    <tr>\n",
              "      <th>C</th>\n",
              "      <td>13.46</td>\n",
              "      <td>9150.22</td>\n",
              "    </tr>\n",
              "    <tr>\n",
              "      <th>D</th>\n",
              "      <td>15.39</td>\n",
              "      <td>10717.62</td>\n",
              "    </tr>\n",
              "    <tr>\n",
              "      <th>E</th>\n",
              "      <td>17.01</td>\n",
              "      <td>12576.04</td>\n",
              "    </tr>\n",
              "    <tr>\n",
              "      <th>F</th>\n",
              "      <td>18.57</td>\n",
              "      <td>14670.35</td>\n",
              "    </tr>\n",
              "    <tr>\n",
              "      <th>G</th>\n",
              "      <td>20.33</td>\n",
              "      <td>19115.00</td>\n",
              "    </tr>\n",
              "    <tr>\n",
              "      <th rowspan=\"7\" valign=\"top\">EDUCATION</th>\n",
              "      <th>A</th>\n",
              "      <td>7.37</td>\n",
              "      <td>8496.81</td>\n",
              "    </tr>\n",
              "    <tr>\n",
              "      <th>B</th>\n",
              "      <td>11.00</td>\n",
              "      <td>10025.64</td>\n",
              "    </tr>\n",
              "    <tr>\n",
              "      <th>C</th>\n",
              "      <td>13.43</td>\n",
              "      <td>8897.09</td>\n",
              "    </tr>\n",
              "    <tr>\n",
              "      <th>D</th>\n",
              "      <td>15.31</td>\n",
              "      <td>10886.72</td>\n",
              "    </tr>\n",
              "    <tr>\n",
              "      <th>E</th>\n",
              "      <td>17.02</td>\n",
              "      <td>12765.14</td>\n",
              "    </tr>\n",
              "    <tr>\n",
              "      <th>F</th>\n",
              "      <td>18.40</td>\n",
              "      <td>14332.07</td>\n",
              "    </tr>\n",
              "    <tr>\n",
              "      <th>G</th>\n",
              "      <td>20.08</td>\n",
              "      <td>18166.67</td>\n",
              "    </tr>\n",
              "    <tr>\n",
              "      <th rowspan=\"7\" valign=\"top\">HOMEIMPROVEMENT</th>\n",
              "      <th>A</th>\n",
              "      <td>7.26</td>\n",
              "      <td>8886.55</td>\n",
              "    </tr>\n",
              "    <tr>\n",
              "      <th>B</th>\n",
              "      <td>10.99</td>\n",
              "      <td>10837.58</td>\n",
              "    </tr>\n",
              "    <tr>\n",
              "      <th>C</th>\n",
              "      <td>13.44</td>\n",
              "      <td>10035.50</td>\n",
              "    </tr>\n",
              "    <tr>\n",
              "      <th>D</th>\n",
              "      <td>15.27</td>\n",
              "      <td>11388.71</td>\n",
              "    </tr>\n",
              "    <tr>\n",
              "      <th>E</th>\n",
              "      <td>17.24</td>\n",
              "      <td>14144.93</td>\n",
              "    </tr>\n",
              "    <tr>\n",
              "      <th>F</th>\n",
              "      <td>18.21</td>\n",
              "      <td>16875.78</td>\n",
              "    </tr>\n",
              "    <tr>\n",
              "      <th>G</th>\n",
              "      <td>20.17</td>\n",
              "      <td>21763.89</td>\n",
              "    </tr>\n",
              "    <tr>\n",
              "      <th rowspan=\"7\" valign=\"top\">MEDICAL</th>\n",
              "      <th>A</th>\n",
              "      <td>7.34</td>\n",
              "      <td>8301.01</td>\n",
              "    </tr>\n",
              "    <tr>\n",
              "      <th>B</th>\n",
              "      <td>10.99</td>\n",
              "      <td>9474.12</td>\n",
              "    </tr>\n",
              "    <tr>\n",
              "      <th>C</th>\n",
              "      <td>13.47</td>\n",
              "      <td>8927.59</td>\n",
              "    </tr>\n",
              "    <tr>\n",
              "      <th>D</th>\n",
              "      <td>15.41</td>\n",
              "      <td>10630.97</td>\n",
              "    </tr>\n",
              "    <tr>\n",
              "      <th>E</th>\n",
              "      <td>17.08</td>\n",
              "      <td>12925.90</td>\n",
              "    </tr>\n",
              "    <tr>\n",
              "      <th>F</th>\n",
              "      <td>18.56</td>\n",
              "      <td>14355.77</td>\n",
              "    </tr>\n",
              "    <tr>\n",
              "      <th>G</th>\n",
              "      <td>20.29</td>\n",
              "      <td>15250.00</td>\n",
              "    </tr>\n",
              "    <tr>\n",
              "      <th rowspan=\"7\" valign=\"top\">PERSONAL</th>\n",
              "      <th>A</th>\n",
              "      <td>7.33</td>\n",
              "      <td>8601.71</td>\n",
              "    </tr>\n",
              "    <tr>\n",
              "      <th>B</th>\n",
              "      <td>11.00</td>\n",
              "      <td>9753.52</td>\n",
              "    </tr>\n",
              "    <tr>\n",
              "      <th>C</th>\n",
              "      <td>13.48</td>\n",
              "      <td>9500.74</td>\n",
              "    </tr>\n",
              "    <tr>\n",
              "      <th>D</th>\n",
              "      <td>15.37</td>\n",
              "      <td>10846.96</td>\n",
              "    </tr>\n",
              "    <tr>\n",
              "      <th>E</th>\n",
              "      <td>16.99</td>\n",
              "      <td>12553.74</td>\n",
              "    </tr>\n",
              "    <tr>\n",
              "      <th>F</th>\n",
              "      <td>19.25</td>\n",
              "      <td>14752.50</td>\n",
              "    </tr>\n",
              "    <tr>\n",
              "      <th>G</th>\n",
              "      <td>19.89</td>\n",
              "      <td>19535.00</td>\n",
              "    </tr>\n",
              "    <tr>\n",
              "      <th rowspan=\"7\" valign=\"top\">VENTURE</th>\n",
              "      <th>A</th>\n",
              "      <td>7.31</td>\n",
              "      <td>8556.77</td>\n",
              "    </tr>\n",
              "    <tr>\n",
              "      <th>B</th>\n",
              "      <td>11.01</td>\n",
              "      <td>10117.45</td>\n",
              "    </tr>\n",
              "    <tr>\n",
              "      <th>C</th>\n",
              "      <td>13.50</td>\n",
              "      <td>9199.09</td>\n",
              "    </tr>\n",
              "    <tr>\n",
              "      <th>D</th>\n",
              "      <td>15.40</td>\n",
              "      <td>10698.75</td>\n",
              "    </tr>\n",
              "    <tr>\n",
              "      <th>E</th>\n",
              "      <td>16.78</td>\n",
              "      <td>12649.58</td>\n",
              "    </tr>\n",
              "    <tr>\n",
              "      <th>F</th>\n",
              "      <td>18.78</td>\n",
              "      <td>13886.18</td>\n",
              "    </tr>\n",
              "    <tr>\n",
              "      <th>G</th>\n",
              "      <td>20.66</td>\n",
              "      <td>12260.71</td>\n",
              "    </tr>\n",
              "  </tbody>\n",
              "</table>\n",
              "</div>"
            ],
            "text/plain": [
              "                              loan_int_rate  loan_amnt\n",
              "loan_intent       loan_grade                          \n",
              "DEBTCONSOLIDATION A                    7.33    8544.07\n",
              "                  B                   10.99   10143.69\n",
              "                  C                   13.46    9150.22\n",
              "                  D                   15.39   10717.62\n",
              "                  E                   17.01   12576.04\n",
              "                  F                   18.57   14670.35\n",
              "                  G                   20.33   19115.00\n",
              "EDUCATION         A                    7.37    8496.81\n",
              "                  B                   11.00   10025.64\n",
              "                  C                   13.43    8897.09\n",
              "                  D                   15.31   10886.72\n",
              "                  E                   17.02   12765.14\n",
              "                  F                   18.40   14332.07\n",
              "                  G                   20.08   18166.67\n",
              "HOMEIMPROVEMENT   A                    7.26    8886.55\n",
              "                  B                   10.99   10837.58\n",
              "                  C                   13.44   10035.50\n",
              "                  D                   15.27   11388.71\n",
              "                  E                   17.24   14144.93\n",
              "                  F                   18.21   16875.78\n",
              "                  G                   20.17   21763.89\n",
              "MEDICAL           A                    7.34    8301.01\n",
              "                  B                   10.99    9474.12\n",
              "                  C                   13.47    8927.59\n",
              "                  D                   15.41   10630.97\n",
              "                  E                   17.08   12925.90\n",
              "                  F                   18.56   14355.77\n",
              "                  G                   20.29   15250.00\n",
              "PERSONAL          A                    7.33    8601.71\n",
              "                  B                   11.00    9753.52\n",
              "                  C                   13.48    9500.74\n",
              "                  D                   15.37   10846.96\n",
              "                  E                   16.99   12553.74\n",
              "                  F                   19.25   14752.50\n",
              "                  G                   19.89   19535.00\n",
              "VENTURE           A                    7.31    8556.77\n",
              "                  B                   11.01   10117.45\n",
              "                  C                   13.50    9199.09\n",
              "                  D                   15.40   10698.75\n",
              "                  E                   16.78   12649.58\n",
              "                  F                   18.78   13886.18\n",
              "                  G                   20.66   12260.71"
            ]
          },
          "metadata": {},
          "execution_count": 85
        }
      ]
    },
    {
      "cell_type": "markdown",
      "metadata": {
        "id": "LOWyNsGKKh2u"
      },
      "source": [
        "# loan_status STATUS DO EMPRÉSTIMO\n",
        "\n",
        "\n",
        "---\n",
        "\n",
        "(0 is non default 1 is default)"
      ]
    },
    {
      "cell_type": "code",
      "metadata": {
        "colab": {
          "base_uri": "https://localhost:8080/"
        },
        "id": "7fd16EcqKqr0",
        "outputId": "1bb1acb7-1a58-43d4-a0d5-4ec7a4f2d478"
      },
      "source": [
        "df_v3.loan_status.nunique()"
      ],
      "execution_count": null,
      "outputs": [
        {
          "output_type": "execute_result",
          "data": {
            "text/plain": [
              "2"
            ]
          },
          "metadata": {},
          "execution_count": 86
        }
      ]
    },
    {
      "cell_type": "code",
      "metadata": {
        "colab": {
          "base_uri": "https://localhost:8080/"
        },
        "id": "p3WcPAgvKqum",
        "outputId": "a166c241-9ab0-4994-fade-e1cc4ea382b0"
      },
      "source": [
        "df_v3.loan_status.unique()"
      ],
      "execution_count": null,
      "outputs": [
        {
          "output_type": "execute_result",
          "data": {
            "text/plain": [
              "array([0, 1])"
            ]
          },
          "metadata": {},
          "execution_count": 87
        }
      ]
    },
    {
      "cell_type": "code",
      "metadata": {
        "colab": {
          "base_uri": "https://localhost:8080/"
        },
        "id": "A_FFfQNBKqzC",
        "outputId": "192605ec-d68f-4a5e-c9bb-4b6e9fe8f7fb"
      },
      "source": [
        "df_v3.loan_status.value_counts()"
      ],
      "execution_count": null,
      "outputs": [
        {
          "output_type": "execute_result",
          "data": {
            "text/plain": [
              "0    25467\n",
              "1     7107\n",
              "Name: loan_status, dtype: int64"
            ]
          },
          "metadata": {},
          "execution_count": 88
        }
      ]
    },
    {
      "cell_type": "markdown",
      "metadata": {
        "id": "Gni3EJ48MFdA"
      },
      "source": [
        "# loan_percent_income PERCENTUAL DO EMPRÉSTIMO RELATIVO A RENDA"
      ]
    },
    {
      "cell_type": "code",
      "metadata": {
        "colab": {
          "base_uri": "https://localhost:8080/"
        },
        "id": "1ITsCD1RMP6f",
        "outputId": "65361b14-5441-4516-b611-78bfe6b172da"
      },
      "source": [
        "df_v3.loan_percent_income.nunique()"
      ],
      "execution_count": null,
      "outputs": [
        {
          "output_type": "execute_result",
          "data": {
            "text/plain": [
              "77"
            ]
          },
          "metadata": {},
          "execution_count": 89
        }
      ]
    },
    {
      "cell_type": "code",
      "metadata": {
        "colab": {
          "base_uri": "https://localhost:8080/"
        },
        "id": "rr9eCVT-MP9I",
        "outputId": "1f55137c-5f1d-426f-9b00-8d76f6213e9c"
      },
      "source": [
        "df_v3.loan_percent_income.describe().round(9)"
      ],
      "execution_count": null,
      "outputs": [
        {
          "output_type": "execute_result",
          "data": {
            "text/plain": [
              "count    32574.000000\n",
              "mean         0.170202\n",
              "std          0.106755\n",
              "min          0.000000\n",
              "25%          0.090000\n",
              "50%          0.150000\n",
              "75%          0.230000\n",
              "max          0.830000\n",
              "Name: loan_percent_income, dtype: float64"
            ]
          },
          "metadata": {},
          "execution_count": 91
        }
      ]
    },
    {
      "cell_type": "code",
      "metadata": {
        "id": "QcGJSk7rMQBM"
      },
      "source": [
        "df_test_percent = df_v3.loc[df_v3['loan_percent_income'] == 0.0,['loan_amnt', 'person_income', 'loan_percent_income']]"
      ],
      "execution_count": null,
      "outputs": []
    },
    {
      "cell_type": "code",
      "metadata": {
        "id": "HWu41P2HTQVX"
      },
      "source": [
        "df_test_percent_min = df_v3.loc[df_v3['loan_percent_income'] == 0.0,['loan_amnt', 'person_income', 'loan_percent_income']]"
      ],
      "execution_count": null,
      "outputs": []
    },
    {
      "cell_type": "code",
      "metadata": {
        "id": "8yXK5WRJTXsM"
      },
      "source": [
        "df_test_percent_max = df_v3.loc[df_v3['loan_percent_income'] > 0.7,['loan_amnt', 'person_income', 'loan_percent_income']]"
      ],
      "execution_count": null,
      "outputs": []
    },
    {
      "cell_type": "code",
      "metadata": {
        "id": "wmxpRH-0TdG7"
      },
      "source": [
        "df_test_percent_concat = pd.concat([df_test_percent_min, df_test_percent_max])"
      ],
      "execution_count": null,
      "outputs": []
    },
    {
      "cell_type": "code",
      "metadata": {
        "colab": {
          "base_uri": "https://localhost:8080/",
          "height": 570
        },
        "id": "AYDOK3bMN7n-",
        "outputId": "ac1fc780-a5d0-418a-a6a4-dc7b3ef35be8"
      },
      "source": [
        "df_test_percent_concat"
      ],
      "execution_count": null,
      "outputs": [
        {
          "output_type": "execute_result",
          "data": {
            "text/html": [
              "<div>\n",
              "<style scoped>\n",
              "    .dataframe tbody tr th:only-of-type {\n",
              "        vertical-align: middle;\n",
              "    }\n",
              "\n",
              "    .dataframe tbody tr th {\n",
              "        vertical-align: top;\n",
              "    }\n",
              "\n",
              "    .dataframe thead th {\n",
              "        text-align: right;\n",
              "    }\n",
              "</style>\n",
              "<table border=\"1\" class=\"dataframe\">\n",
              "  <thead>\n",
              "    <tr style=\"text-align: right;\">\n",
              "      <th></th>\n",
              "      <th>loan_amnt</th>\n",
              "      <th>person_income</th>\n",
              "      <th>loan_percent_income</th>\n",
              "    </tr>\n",
              "  </thead>\n",
              "  <tbody>\n",
              "    <tr>\n",
              "      <th>17834</th>\n",
              "      <td>2000</td>\n",
              "      <td>948000</td>\n",
              "      <td>0.00</td>\n",
              "    </tr>\n",
              "    <tr>\n",
              "      <th>18917</th>\n",
              "      <td>1800</td>\n",
              "      <td>510000</td>\n",
              "      <td>0.00</td>\n",
              "    </tr>\n",
              "    <tr>\n",
              "      <th>27877</th>\n",
              "      <td>2500</td>\n",
              "      <td>522000</td>\n",
              "      <td>0.00</td>\n",
              "    </tr>\n",
              "    <tr>\n",
              "      <th>30049</th>\n",
              "      <td>8450</td>\n",
              "      <td>2039784</td>\n",
              "      <td>0.00</td>\n",
              "    </tr>\n",
              "    <tr>\n",
              "      <th>31916</th>\n",
              "      <td>1000</td>\n",
              "      <td>780000</td>\n",
              "      <td>0.00</td>\n",
              "    </tr>\n",
              "    <tr>\n",
              "      <th>31922</th>\n",
              "      <td>6600</td>\n",
              "      <td>1362000</td>\n",
              "      <td>0.00</td>\n",
              "    </tr>\n",
              "    <tr>\n",
              "      <th>31924</th>\n",
              "      <td>6400</td>\n",
              "      <td>1440000</td>\n",
              "      <td>0.00</td>\n",
              "    </tr>\n",
              "    <tr>\n",
              "      <th>32546</th>\n",
              "      <td>1500</td>\n",
              "      <td>1900000</td>\n",
              "      <td>0.00</td>\n",
              "    </tr>\n",
              "    <tr>\n",
              "      <th>460</th>\n",
              "      <td>13000</td>\n",
              "      <td>18000</td>\n",
              "      <td>0.72</td>\n",
              "    </tr>\n",
              "    <tr>\n",
              "      <th>571</th>\n",
              "      <td>15000</td>\n",
              "      <td>19500</td>\n",
              "      <td>0.77</td>\n",
              "    </tr>\n",
              "    <tr>\n",
              "      <th>577</th>\n",
              "      <td>20050</td>\n",
              "      <td>26000</td>\n",
              "      <td>0.77</td>\n",
              "    </tr>\n",
              "    <tr>\n",
              "      <th>640</th>\n",
              "      <td>16600</td>\n",
              "      <td>20000</td>\n",
              "      <td>0.83</td>\n",
              "    </tr>\n",
              "    <tr>\n",
              "      <th>2452</th>\n",
              "      <td>22750</td>\n",
              "      <td>32004</td>\n",
              "      <td>0.71</td>\n",
              "    </tr>\n",
              "    <tr>\n",
              "      <th>10007</th>\n",
              "      <td>9250</td>\n",
              "      <td>13000</td>\n",
              "      <td>0.71</td>\n",
              "    </tr>\n",
              "    <tr>\n",
              "      <th>18203</th>\n",
              "      <td>24250</td>\n",
              "      <td>32004</td>\n",
              "      <td>0.76</td>\n",
              "    </tr>\n",
              "    <tr>\n",
              "      <th>23727</th>\n",
              "      <td>9325</td>\n",
              "      <td>12000</td>\n",
              "      <td>0.78</td>\n",
              "    </tr>\n",
              "    <tr>\n",
              "      <th>27878</th>\n",
              "      <td>7200</td>\n",
              "      <td>10080</td>\n",
              "      <td>0.71</td>\n",
              "    </tr>\n",
              "  </tbody>\n",
              "</table>\n",
              "</div>"
            ],
            "text/plain": [
              "       loan_amnt  person_income  loan_percent_income\n",
              "17834       2000         948000                 0.00\n",
              "18917       1800         510000                 0.00\n",
              "27877       2500         522000                 0.00\n",
              "30049       8450        2039784                 0.00\n",
              "31916       1000         780000                 0.00\n",
              "31922       6600        1362000                 0.00\n",
              "31924       6400        1440000                 0.00\n",
              "32546       1500        1900000                 0.00\n",
              "460        13000          18000                 0.72\n",
              "571        15000          19500                 0.77\n",
              "577        20050          26000                 0.77\n",
              "640        16600          20000                 0.83\n",
              "2452       22750          32004                 0.71\n",
              "10007       9250          13000                 0.71\n",
              "18203      24250          32004                 0.76\n",
              "23727       9325          12000                 0.78\n",
              "27878       7200          10080                 0.71"
            ]
          },
          "metadata": {},
          "execution_count": 144
        }
      ]
    },
    {
      "cell_type": "code",
      "metadata": {
        "id": "WbUNo1B2Pz3r"
      },
      "source": [
        "df_test_percent_concat['test_column'] = (df_test_percent_concat['loan_amnt'] / df_test_percent_concat['person_income']).round(2)"
      ],
      "execution_count": null,
      "outputs": []
    },
    {
      "cell_type": "code",
      "metadata": {
        "colab": {
          "base_uri": "https://localhost:8080/",
          "height": 570
        },
        "id": "yrPCHOBKP89U",
        "outputId": "054e7e46-e739-445e-ce6f-713103671904"
      },
      "source": [
        "df_test_percent_concat"
      ],
      "execution_count": null,
      "outputs": [
        {
          "output_type": "execute_result",
          "data": {
            "text/html": [
              "<div>\n",
              "<style scoped>\n",
              "    .dataframe tbody tr th:only-of-type {\n",
              "        vertical-align: middle;\n",
              "    }\n",
              "\n",
              "    .dataframe tbody tr th {\n",
              "        vertical-align: top;\n",
              "    }\n",
              "\n",
              "    .dataframe thead th {\n",
              "        text-align: right;\n",
              "    }\n",
              "</style>\n",
              "<table border=\"1\" class=\"dataframe\">\n",
              "  <thead>\n",
              "    <tr style=\"text-align: right;\">\n",
              "      <th></th>\n",
              "      <th>loan_amnt</th>\n",
              "      <th>person_income</th>\n",
              "      <th>loan_percent_income</th>\n",
              "      <th>test_column</th>\n",
              "    </tr>\n",
              "  </thead>\n",
              "  <tbody>\n",
              "    <tr>\n",
              "      <th>17834</th>\n",
              "      <td>2000</td>\n",
              "      <td>948000</td>\n",
              "      <td>0.00</td>\n",
              "      <td>0.00</td>\n",
              "    </tr>\n",
              "    <tr>\n",
              "      <th>18917</th>\n",
              "      <td>1800</td>\n",
              "      <td>510000</td>\n",
              "      <td>0.00</td>\n",
              "      <td>0.00</td>\n",
              "    </tr>\n",
              "    <tr>\n",
              "      <th>27877</th>\n",
              "      <td>2500</td>\n",
              "      <td>522000</td>\n",
              "      <td>0.00</td>\n",
              "      <td>0.00</td>\n",
              "    </tr>\n",
              "    <tr>\n",
              "      <th>30049</th>\n",
              "      <td>8450</td>\n",
              "      <td>2039784</td>\n",
              "      <td>0.00</td>\n",
              "      <td>0.00</td>\n",
              "    </tr>\n",
              "    <tr>\n",
              "      <th>31916</th>\n",
              "      <td>1000</td>\n",
              "      <td>780000</td>\n",
              "      <td>0.00</td>\n",
              "      <td>0.00</td>\n",
              "    </tr>\n",
              "    <tr>\n",
              "      <th>31922</th>\n",
              "      <td>6600</td>\n",
              "      <td>1362000</td>\n",
              "      <td>0.00</td>\n",
              "      <td>0.00</td>\n",
              "    </tr>\n",
              "    <tr>\n",
              "      <th>31924</th>\n",
              "      <td>6400</td>\n",
              "      <td>1440000</td>\n",
              "      <td>0.00</td>\n",
              "      <td>0.00</td>\n",
              "    </tr>\n",
              "    <tr>\n",
              "      <th>32546</th>\n",
              "      <td>1500</td>\n",
              "      <td>1900000</td>\n",
              "      <td>0.00</td>\n",
              "      <td>0.00</td>\n",
              "    </tr>\n",
              "    <tr>\n",
              "      <th>460</th>\n",
              "      <td>13000</td>\n",
              "      <td>18000</td>\n",
              "      <td>0.72</td>\n",
              "      <td>0.72</td>\n",
              "    </tr>\n",
              "    <tr>\n",
              "      <th>571</th>\n",
              "      <td>15000</td>\n",
              "      <td>19500</td>\n",
              "      <td>0.77</td>\n",
              "      <td>0.77</td>\n",
              "    </tr>\n",
              "    <tr>\n",
              "      <th>577</th>\n",
              "      <td>20050</td>\n",
              "      <td>26000</td>\n",
              "      <td>0.77</td>\n",
              "      <td>0.77</td>\n",
              "    </tr>\n",
              "    <tr>\n",
              "      <th>640</th>\n",
              "      <td>16600</td>\n",
              "      <td>20000</td>\n",
              "      <td>0.83</td>\n",
              "      <td>0.83</td>\n",
              "    </tr>\n",
              "    <tr>\n",
              "      <th>2452</th>\n",
              "      <td>22750</td>\n",
              "      <td>32004</td>\n",
              "      <td>0.71</td>\n",
              "      <td>0.71</td>\n",
              "    </tr>\n",
              "    <tr>\n",
              "      <th>10007</th>\n",
              "      <td>9250</td>\n",
              "      <td>13000</td>\n",
              "      <td>0.71</td>\n",
              "      <td>0.71</td>\n",
              "    </tr>\n",
              "    <tr>\n",
              "      <th>18203</th>\n",
              "      <td>24250</td>\n",
              "      <td>32004</td>\n",
              "      <td>0.76</td>\n",
              "      <td>0.76</td>\n",
              "    </tr>\n",
              "    <tr>\n",
              "      <th>23727</th>\n",
              "      <td>9325</td>\n",
              "      <td>12000</td>\n",
              "      <td>0.78</td>\n",
              "      <td>0.78</td>\n",
              "    </tr>\n",
              "    <tr>\n",
              "      <th>27878</th>\n",
              "      <td>7200</td>\n",
              "      <td>10080</td>\n",
              "      <td>0.71</td>\n",
              "      <td>0.71</td>\n",
              "    </tr>\n",
              "  </tbody>\n",
              "</table>\n",
              "</div>"
            ],
            "text/plain": [
              "       loan_amnt  person_income  loan_percent_income  test_column\n",
              "17834       2000         948000                 0.00         0.00\n",
              "18917       1800         510000                 0.00         0.00\n",
              "27877       2500         522000                 0.00         0.00\n",
              "30049       8450        2039784                 0.00         0.00\n",
              "31916       1000         780000                 0.00         0.00\n",
              "31922       6600        1362000                 0.00         0.00\n",
              "31924       6400        1440000                 0.00         0.00\n",
              "32546       1500        1900000                 0.00         0.00\n",
              "460        13000          18000                 0.72         0.72\n",
              "571        15000          19500                 0.77         0.77\n",
              "577        20050          26000                 0.77         0.77\n",
              "640        16600          20000                 0.83         0.83\n",
              "2452       22750          32004                 0.71         0.71\n",
              "10007       9250          13000                 0.71         0.71\n",
              "18203      24250          32004                 0.76         0.76\n",
              "23727       9325          12000                 0.78         0.78\n",
              "27878       7200          10080                 0.71         0.71"
            ]
          },
          "metadata": {},
          "execution_count": 150
        }
      ]
    },
    {
      "cell_type": "markdown",
      "metadata": {
        "id": "NPGcSoJzUSQ5"
      },
      "source": [
        "# cb_person_default_on_file PADRÃO HISTÓRICO"
      ]
    },
    {
      "cell_type": "code",
      "metadata": {
        "colab": {
          "base_uri": "https://localhost:8080/"
        },
        "id": "OHkK1henUSkW",
        "outputId": "f7b02277-9faa-4673-a61f-783c88fbadd0"
      },
      "source": [
        "df_v3['cb_person_default_on_file'].nunique()"
      ],
      "execution_count": null,
      "outputs": [
        {
          "output_type": "execute_result",
          "data": {
            "text/plain": [
              "2"
            ]
          },
          "metadata": {},
          "execution_count": 151
        }
      ]
    },
    {
      "cell_type": "code",
      "metadata": {
        "colab": {
          "base_uri": "https://localhost:8080/"
        },
        "id": "FgZMTfxyUSrQ",
        "outputId": "54dc45d9-d426-4891-cbe7-6a2dd287f4d6"
      },
      "source": [
        "df_v3['cb_person_default_on_file'].unique()"
      ],
      "execution_count": null,
      "outputs": [
        {
          "output_type": "execute_result",
          "data": {
            "text/plain": [
              "array(['N', 'Y'], dtype=object)"
            ]
          },
          "metadata": {},
          "execution_count": 152
        }
      ]
    },
    {
      "cell_type": "code",
      "metadata": {
        "colab": {
          "base_uri": "https://localhost:8080/"
        },
        "id": "b69g9TSvUs6d",
        "outputId": "d387f524-9840-4501-8b83-d01ac6440987"
      },
      "source": [
        "df_v3['cb_person_default_on_file'].value_counts()"
      ],
      "execution_count": null,
      "outputs": [
        {
          "output_type": "execute_result",
          "data": {
            "text/plain": [
              "N    26830\n",
              "Y     5744\n",
              "Name: cb_person_default_on_file, dtype: int64"
            ]
          },
          "metadata": {},
          "execution_count": 153
        }
      ]
    },
    {
      "cell_type": "markdown",
      "metadata": {
        "id": "4Uf3sjk2UxKZ"
      },
      "source": [
        "# cb_person_cred_hist_length SCORE DE CRÉDITO"
      ]
    },
    {
      "cell_type": "code",
      "metadata": {
        "colab": {
          "base_uri": "https://localhost:8080/"
        },
        "id": "k_Etx32tUxBE",
        "outputId": "f78706da-e964-48d7-f4f8-11dd7c72d576"
      },
      "source": [
        "df_v3['cb_person_cred_hist_length'].nunique()"
      ],
      "execution_count": null,
      "outputs": [
        {
          "output_type": "execute_result",
          "data": {
            "text/plain": [
              "29"
            ]
          },
          "metadata": {},
          "execution_count": 154
        }
      ]
    },
    {
      "cell_type": "code",
      "metadata": {
        "colab": {
          "base_uri": "https://localhost:8080/"
        },
        "id": "p9Oa9ZsQVCuT",
        "outputId": "162b6b0d-e99f-4970-d55d-33ca22d0c839"
      },
      "source": [
        "df_v3['cb_person_cred_hist_length'].unique()"
      ],
      "execution_count": null,
      "outputs": [
        {
          "output_type": "execute_result",
          "data": {
            "text/plain": [
              "array([ 2,  3,  4,  8,  7,  6,  9, 10,  5, 11, 16, 15, 12, 13, 17, 14, 28,\n",
              "       27, 22, 19, 29, 23, 26, 20, 21, 30, 25, 24, 18])"
            ]
          },
          "metadata": {},
          "execution_count": 155
        }
      ]
    },
    {
      "cell_type": "code",
      "metadata": {
        "id": "cwzbryRfVCwy"
      },
      "source": [
        ""
      ],
      "execution_count": null,
      "outputs": []
    }
  ]
}