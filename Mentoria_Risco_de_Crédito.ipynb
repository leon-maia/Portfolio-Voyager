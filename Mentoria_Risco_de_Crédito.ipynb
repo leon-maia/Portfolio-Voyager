{
  "nbformat": 4,
  "nbformat_minor": 0,
  "metadata": {
    "colab": {
      "name": "Mentoria - Risco de Crédito.ipynb",
      "provenance": [],
      "collapsed_sections": [
        "tQO3JgsVKu_d",
        "Wrsg2VD6MkFS",
        "ZbTj5mOYRqX6",
        "8PWTWY2YBtHU",
        "cSzz32j5a1Gx",
        "nNQMbt5cfXFB",
        "R0FT96NRRGxb",
        "nmEB7BDrhTUc",
        "6ViyIFDu598G",
        "Gni3EJ48MFdA"
      ]
    },
    "kernelspec": {
      "name": "python3",
      "display_name": "Python 3"
    },
    "language_info": {
      "name": "python"
    }
  },
  "cells": [
    {
      "cell_type": "markdown",
      "metadata": {
        "id": "sN416R6aKE3j"
      },
      "source": [
        "Base de dados Kaggle: https://www.kaggle.com/laotse/credit-risk-dataset"
      ]
    },
    {
      "cell_type": "markdown",
      "metadata": {
        "id": "qPLDMCltVUrZ"
      },
      "source": [
        "Objetivo: Identificar o risco de crédito de cada operação"
      ]
    },
    {
      "cell_type": "code",
      "metadata": {
        "id": "Az0mddrOKAeT"
      },
      "source": [
        "# Bibliotecas utilizadas\n",
        "\n",
        "# Análise de dados\n",
        "import pandas as pd\n",
        "import numpy as np\n",
        "\n",
        "# Visualização de dados\n",
        "import matplotlib.pyplot as plt\n",
        "import seaborn as sns\n",
        "\n",
        "# Machine Learning\n",
        "\n",
        "# Outras bibliotecas\n",
        "import warnings\n"
      ],
      "execution_count": 2,
      "outputs": []
    },
    {
      "cell_type": "code",
      "metadata": {
        "id": "LgVXvUnFQrHG"
      },
      "source": [
        "# Funções elaboradas\n",
        "def identify_outlier(df):\n",
        "# Função destinada a identificar quais os outliers da coluna'\n",
        "  q1 = df.quantile(0.25)\n",
        "  q3 = df.quantile(0.75)\n",
        "  IQR = q3 - q1\n",
        "  outliers = df[((df<(q1-1.5*IQR)) | (df>(q3+1.5*IQR)))]\n",
        "  if outliers.empty:\n",
        "    print('Não há outliers na coluna selecionada')\n",
        "  else:\n",
        "    return outliers"
      ],
      "execution_count": 3,
      "outputs": []
    },
    {
      "cell_type": "code",
      "metadata": {
        "id": "AxXpgcyuKSAx"
      },
      "source": [
        "# Leitura do arquivo csv\n",
        "df = pd.read_csv('/content/credit_risk_dataset.csv')"
      ],
      "execution_count": 4,
      "outputs": []
    },
    {
      "cell_type": "code",
      "metadata": {
        "colab": {
          "base_uri": "https://localhost:8080/",
          "height": 222
        },
        "id": "8mQdj713Kpmi",
        "outputId": "f4cec2c7-0ea4-4374-8674-f3e2c769bd6d"
      },
      "source": [
        "# Inspeção inicial dos dados\n",
        "df.head()"
      ],
      "execution_count": 5,
      "outputs": [
        {
          "output_type": "execute_result",
          "data": {
            "text/html": [
              "<div>\n",
              "<style scoped>\n",
              "    .dataframe tbody tr th:only-of-type {\n",
              "        vertical-align: middle;\n",
              "    }\n",
              "\n",
              "    .dataframe tbody tr th {\n",
              "        vertical-align: top;\n",
              "    }\n",
              "\n",
              "    .dataframe thead th {\n",
              "        text-align: right;\n",
              "    }\n",
              "</style>\n",
              "<table border=\"1\" class=\"dataframe\">\n",
              "  <thead>\n",
              "    <tr style=\"text-align: right;\">\n",
              "      <th></th>\n",
              "      <th>person_age</th>\n",
              "      <th>person_income</th>\n",
              "      <th>person_home_ownership</th>\n",
              "      <th>person_emp_length</th>\n",
              "      <th>loan_intent</th>\n",
              "      <th>loan_grade</th>\n",
              "      <th>loan_amnt</th>\n",
              "      <th>loan_int_rate</th>\n",
              "      <th>loan_status</th>\n",
              "      <th>loan_percent_income</th>\n",
              "      <th>cb_person_default_on_file</th>\n",
              "      <th>cb_person_cred_hist_length</th>\n",
              "    </tr>\n",
              "  </thead>\n",
              "  <tbody>\n",
              "    <tr>\n",
              "      <th>0</th>\n",
              "      <td>22</td>\n",
              "      <td>59000</td>\n",
              "      <td>RENT</td>\n",
              "      <td>123.0</td>\n",
              "      <td>PERSONAL</td>\n",
              "      <td>D</td>\n",
              "      <td>35000</td>\n",
              "      <td>16.02</td>\n",
              "      <td>1</td>\n",
              "      <td>0.59</td>\n",
              "      <td>Y</td>\n",
              "      <td>3</td>\n",
              "    </tr>\n",
              "    <tr>\n",
              "      <th>1</th>\n",
              "      <td>21</td>\n",
              "      <td>9600</td>\n",
              "      <td>OWN</td>\n",
              "      <td>5.0</td>\n",
              "      <td>EDUCATION</td>\n",
              "      <td>B</td>\n",
              "      <td>1000</td>\n",
              "      <td>11.14</td>\n",
              "      <td>0</td>\n",
              "      <td>0.10</td>\n",
              "      <td>N</td>\n",
              "      <td>2</td>\n",
              "    </tr>\n",
              "    <tr>\n",
              "      <th>2</th>\n",
              "      <td>25</td>\n",
              "      <td>9600</td>\n",
              "      <td>MORTGAGE</td>\n",
              "      <td>1.0</td>\n",
              "      <td>MEDICAL</td>\n",
              "      <td>C</td>\n",
              "      <td>5500</td>\n",
              "      <td>12.87</td>\n",
              "      <td>1</td>\n",
              "      <td>0.57</td>\n",
              "      <td>N</td>\n",
              "      <td>3</td>\n",
              "    </tr>\n",
              "    <tr>\n",
              "      <th>3</th>\n",
              "      <td>23</td>\n",
              "      <td>65500</td>\n",
              "      <td>RENT</td>\n",
              "      <td>4.0</td>\n",
              "      <td>MEDICAL</td>\n",
              "      <td>C</td>\n",
              "      <td>35000</td>\n",
              "      <td>15.23</td>\n",
              "      <td>1</td>\n",
              "      <td>0.53</td>\n",
              "      <td>N</td>\n",
              "      <td>2</td>\n",
              "    </tr>\n",
              "    <tr>\n",
              "      <th>4</th>\n",
              "      <td>24</td>\n",
              "      <td>54400</td>\n",
              "      <td>RENT</td>\n",
              "      <td>8.0</td>\n",
              "      <td>MEDICAL</td>\n",
              "      <td>C</td>\n",
              "      <td>35000</td>\n",
              "      <td>14.27</td>\n",
              "      <td>1</td>\n",
              "      <td>0.55</td>\n",
              "      <td>Y</td>\n",
              "      <td>4</td>\n",
              "    </tr>\n",
              "  </tbody>\n",
              "</table>\n",
              "</div>"
            ],
            "text/plain": [
              "   person_age  ...  cb_person_cred_hist_length\n",
              "0          22  ...                           3\n",
              "1          21  ...                           2\n",
              "2          25  ...                           3\n",
              "3          23  ...                           2\n",
              "4          24  ...                           4\n",
              "\n",
              "[5 rows x 12 columns]"
            ]
          },
          "metadata": {},
          "execution_count": 5
        }
      ]
    },
    {
      "cell_type": "code",
      "metadata": {
        "colab": {
          "base_uri": "https://localhost:8080/"
        },
        "id": "r-cA-UDvsoc2",
        "outputId": "70746e3d-6a0b-40b3-c64a-cc3c4d8a8b2b"
      },
      "source": [
        "# Quantidade de linhas inicial\n",
        "linha, coluna = df.shape\n",
        "df.shape"
      ],
      "execution_count": 6,
      "outputs": [
        {
          "output_type": "execute_result",
          "data": {
            "text/plain": [
              "(32581, 12)"
            ]
          },
          "metadata": {},
          "execution_count": 6
        }
      ]
    },
    {
      "cell_type": "code",
      "metadata": {
        "colab": {
          "base_uri": "https://localhost:8080/"
        },
        "id": "-avfYqAsK-3y",
        "outputId": "cd8397a5-2d0e-42e0-d7b8-374349dafc18"
      },
      "source": [
        "# Entendimento do tipo de dado de cada coluna\n",
        "df.info()"
      ],
      "execution_count": 7,
      "outputs": [
        {
          "output_type": "stream",
          "name": "stdout",
          "text": [
            "<class 'pandas.core.frame.DataFrame'>\n",
            "RangeIndex: 32581 entries, 0 to 32580\n",
            "Data columns (total 12 columns):\n",
            " #   Column                      Non-Null Count  Dtype  \n",
            "---  ------                      --------------  -----  \n",
            " 0   person_age                  32581 non-null  int64  \n",
            " 1   person_income               32581 non-null  int64  \n",
            " 2   person_home_ownership       32581 non-null  object \n",
            " 3   person_emp_length           31686 non-null  float64\n",
            " 4   loan_intent                 32581 non-null  object \n",
            " 5   loan_grade                  32581 non-null  object \n",
            " 6   loan_amnt                   32581 non-null  int64  \n",
            " 7   loan_int_rate               29465 non-null  float64\n",
            " 8   loan_status                 32581 non-null  int64  \n",
            " 9   loan_percent_income         32581 non-null  float64\n",
            " 10  cb_person_default_on_file   32581 non-null  object \n",
            " 11  cb_person_cred_hist_length  32581 non-null  int64  \n",
            "dtypes: float64(3), int64(5), object(4)\n",
            "memory usage: 3.0+ MB\n"
          ]
        }
      ]
    },
    {
      "cell_type": "code",
      "metadata": {
        "colab": {
          "base_uri": "https://localhost:8080/"
        },
        "id": "tohw_Bdg97JW",
        "outputId": "0ad9cc40-154b-4b1a-dc31-14fa8cbec8ef"
      },
      "source": [
        "# Identificação do percentual de valores nulos por coluna\n",
        "# Colunas importantes: person_emp_length TEMPO DE TRABALHO e loan_int_rate TAXA DE JUROS\n",
        "Nan_per = df.isnull().sum()/df.shape[0]*100\n",
        "Nan_per.round(2)"
      ],
      "execution_count": 8,
      "outputs": [
        {
          "output_type": "execute_result",
          "data": {
            "text/plain": [
              "person_age                    0.00\n",
              "person_income                 0.00\n",
              "person_home_ownership         0.00\n",
              "person_emp_length             2.75\n",
              "loan_intent                   0.00\n",
              "loan_grade                    0.00\n",
              "loan_amnt                     0.00\n",
              "loan_int_rate                 9.56\n",
              "loan_status                   0.00\n",
              "loan_percent_income           0.00\n",
              "cb_person_default_on_file     0.00\n",
              "cb_person_cred_hist_length    0.00\n",
              "dtype: float64"
            ]
          },
          "metadata": {},
          "execution_count": 8
        }
      ]
    },
    {
      "cell_type": "markdown",
      "metadata": {
        "id": "S552JYEokO8O"
      },
      "source": [
        "```\n",
        "Dicionário de Dados\n",
        "0   person_age IDADE int64 QUANTITATIVA DISCRETA\n",
        "1   person_income RENDA int64 QUANTITATIVA CONTÍNUA \n",
        "2   person_home_ownership TIPO DE PROPRIEDADE DA CASA object QUALITATIVA NOMINAL\n",
        "3   person_emp_length TEMPO DE TRABALHO float64 QUANTITATIVA CONTÍNUA\n",
        "4   loan_intent MOTIVO DO EMPRÉSTIMO  object QUALITATIVA NOMINAL\n",
        "5   loan_grade GRAU DO EMPRÉSTIMO  object QUALITATIVA ORDINAL\n",
        "6   loan_amnt VALOR DO EMPRÉSTIMO int64  QUANTITATIVA DISCRETA*\n",
        "7   loan_int_rate TAXA DE JUROS float64 QUANTITATIVA CONTÍNUA\n",
        "8   loan_status STATUS DO EMPRÉSTIMO (0 = Adimplente 1 = Inadimplente) int64 QUALITATIVA NOMINAL\n",
        "9   loan_percent_income PERCENTUAL DO EMPRÉSTIMO RELATIVO A RENDA float64 QUANTITATIVA CONTÍNUA\n",
        "10  cb_person_default_on_file PADRÃO HISTÓRICO object QUALITATIVA NOMINAL\n",
        "11  cb_person_cred_hist_length SCORE DE CRÉDITO int64 QUANTITATIVA DISCRETA\n",
        "```"
      ]
    },
    {
      "cell_type": "markdown",
      "metadata": {
        "id": "szHEXe28oMch"
      },
      "source": [
        "# Análise das colunas"
      ]
    },
    {
      "cell_type": "markdown",
      "metadata": {
        "id": "tQO3JgsVKu_d"
      },
      "source": [
        "## Person_age IDADE\n",
        "\n",
        "\n",
        "---\n",
        "\n",
        "Excluídos 5 registros > 100\n",
        "\n",
        "\n",
        "---\n",
        "\n",
        "df -> df_v2\n",
        "\n",
        "\n",
        "\n",
        "---\n",
        "\n",
        "A idade média dos clientes é de 27.7 e a mediana é de 26."
      ]
    },
    {
      "cell_type": "code",
      "metadata": {
        "colab": {
          "base_uri": "https://localhost:8080/"
        },
        "id": "FG5s_pI8Kt-Q",
        "outputId": "ab7ffd2b-3348-4db4-db70-548001f3ce78"
      },
      "source": [
        "df.person_age.nunique()"
      ],
      "execution_count": 9,
      "outputs": [
        {
          "output_type": "execute_result",
          "data": {
            "text/plain": [
              "58"
            ]
          },
          "metadata": {},
          "execution_count": 9
        }
      ]
    },
    {
      "cell_type": "code",
      "metadata": {
        "colab": {
          "base_uri": "https://localhost:8080/"
        },
        "id": "XfrQFQHqK98n",
        "outputId": "5a2d54cf-7642-4d0e-f828-f8b2cb6b51d3"
      },
      "source": [
        "df.person_age.unique()"
      ],
      "execution_count": 10,
      "outputs": [
        {
          "output_type": "execute_result",
          "data": {
            "text/plain": [
              "array([ 22,  21,  25,  23,  24,  26, 144, 123,  20,  32,  34,  29,  33,\n",
              "        28,  35,  31,  27,  30,  36,  40,  50,  45,  37,  39,  44,  43,\n",
              "        41,  46,  38,  47,  42,  48,  49,  58,  65,  51,  53,  66,  61,\n",
              "        54,  57,  59,  62,  60,  55,  52,  64,  70,  78,  69,  56,  73,\n",
              "        63,  94,  80,  84,  76,  67])"
            ]
          },
          "metadata": {},
          "execution_count": 10
        }
      ]
    },
    {
      "cell_type": "code",
      "metadata": {
        "colab": {
          "base_uri": "https://localhost:8080/"
        },
        "id": "kRKBYttUMSkT",
        "outputId": "3118e4ac-fef1-42e2-8d61-46f5d862ce3f"
      },
      "source": [
        "df['person_age'].min()"
      ],
      "execution_count": 11,
      "outputs": [
        {
          "output_type": "execute_result",
          "data": {
            "text/plain": [
              "20"
            ]
          },
          "metadata": {},
          "execution_count": 11
        }
      ]
    },
    {
      "cell_type": "code",
      "metadata": {
        "colab": {
          "base_uri": "https://localhost:8080/"
        },
        "id": "w1fN_u6bL4dP",
        "outputId": "3546b559-9e7e-48a2-880e-462496f0cd99"
      },
      "source": [
        "df[df['person_age'] > 100].shape # São 5 registros de clientes com idade acima de 100. Serão desconsiderados."
      ],
      "execution_count": 12,
      "outputs": [
        {
          "output_type": "execute_result",
          "data": {
            "text/plain": [
              "(5, 12)"
            ]
          },
          "metadata": {},
          "execution_count": 12
        }
      ]
    },
    {
      "cell_type": "code",
      "metadata": {
        "colab": {
          "base_uri": "https://localhost:8080/",
          "height": 0
        },
        "id": "ErXM8tcu8GN9",
        "outputId": "494c71a9-df75-4ed8-f8c1-7cae6cca4e75"
      },
      "source": [
        "df[df['person_age'] > 100]"
      ],
      "execution_count": 13,
      "outputs": [
        {
          "output_type": "execute_result",
          "data": {
            "text/html": [
              "<div>\n",
              "<style scoped>\n",
              "    .dataframe tbody tr th:only-of-type {\n",
              "        vertical-align: middle;\n",
              "    }\n",
              "\n",
              "    .dataframe tbody tr th {\n",
              "        vertical-align: top;\n",
              "    }\n",
              "\n",
              "    .dataframe thead th {\n",
              "        text-align: right;\n",
              "    }\n",
              "</style>\n",
              "<table border=\"1\" class=\"dataframe\">\n",
              "  <thead>\n",
              "    <tr style=\"text-align: right;\">\n",
              "      <th></th>\n",
              "      <th>person_age</th>\n",
              "      <th>person_income</th>\n",
              "      <th>person_home_ownership</th>\n",
              "      <th>person_emp_length</th>\n",
              "      <th>loan_intent</th>\n",
              "      <th>loan_grade</th>\n",
              "      <th>loan_amnt</th>\n",
              "      <th>loan_int_rate</th>\n",
              "      <th>loan_status</th>\n",
              "      <th>loan_percent_income</th>\n",
              "      <th>cb_person_default_on_file</th>\n",
              "      <th>cb_person_cred_hist_length</th>\n",
              "    </tr>\n",
              "  </thead>\n",
              "  <tbody>\n",
              "    <tr>\n",
              "      <th>81</th>\n",
              "      <td>144</td>\n",
              "      <td>250000</td>\n",
              "      <td>RENT</td>\n",
              "      <td>4.0</td>\n",
              "      <td>VENTURE</td>\n",
              "      <td>C</td>\n",
              "      <td>4800</td>\n",
              "      <td>13.57</td>\n",
              "      <td>0</td>\n",
              "      <td>0.02</td>\n",
              "      <td>N</td>\n",
              "      <td>3</td>\n",
              "    </tr>\n",
              "    <tr>\n",
              "      <th>183</th>\n",
              "      <td>144</td>\n",
              "      <td>200000</td>\n",
              "      <td>MORTGAGE</td>\n",
              "      <td>4.0</td>\n",
              "      <td>EDUCATION</td>\n",
              "      <td>B</td>\n",
              "      <td>6000</td>\n",
              "      <td>11.86</td>\n",
              "      <td>0</td>\n",
              "      <td>0.03</td>\n",
              "      <td>N</td>\n",
              "      <td>2</td>\n",
              "    </tr>\n",
              "    <tr>\n",
              "      <th>575</th>\n",
              "      <td>123</td>\n",
              "      <td>80004</td>\n",
              "      <td>RENT</td>\n",
              "      <td>2.0</td>\n",
              "      <td>EDUCATION</td>\n",
              "      <td>B</td>\n",
              "      <td>20400</td>\n",
              "      <td>10.25</td>\n",
              "      <td>0</td>\n",
              "      <td>0.25</td>\n",
              "      <td>N</td>\n",
              "      <td>3</td>\n",
              "    </tr>\n",
              "    <tr>\n",
              "      <th>747</th>\n",
              "      <td>123</td>\n",
              "      <td>78000</td>\n",
              "      <td>RENT</td>\n",
              "      <td>7.0</td>\n",
              "      <td>VENTURE</td>\n",
              "      <td>B</td>\n",
              "      <td>20000</td>\n",
              "      <td>NaN</td>\n",
              "      <td>0</td>\n",
              "      <td>0.26</td>\n",
              "      <td>N</td>\n",
              "      <td>4</td>\n",
              "    </tr>\n",
              "    <tr>\n",
              "      <th>32297</th>\n",
              "      <td>144</td>\n",
              "      <td>6000000</td>\n",
              "      <td>MORTGAGE</td>\n",
              "      <td>12.0</td>\n",
              "      <td>PERSONAL</td>\n",
              "      <td>C</td>\n",
              "      <td>5000</td>\n",
              "      <td>12.73</td>\n",
              "      <td>0</td>\n",
              "      <td>0.00</td>\n",
              "      <td>N</td>\n",
              "      <td>25</td>\n",
              "    </tr>\n",
              "  </tbody>\n",
              "</table>\n",
              "</div>"
            ],
            "text/plain": [
              "       person_age  ...  cb_person_cred_hist_length\n",
              "81            144  ...                           3\n",
              "183           144  ...                           2\n",
              "575           123  ...                           3\n",
              "747           123  ...                           4\n",
              "32297         144  ...                          25\n",
              "\n",
              "[5 rows x 12 columns]"
            ]
          },
          "metadata": {},
          "execution_count": 13
        }
      ]
    },
    {
      "cell_type": "code",
      "metadata": {
        "id": "v8jggrSarlhD"
      },
      "source": [
        "df_v2 = df[df['person_age']<= 100]"
      ],
      "execution_count": 14,
      "outputs": []
    },
    {
      "cell_type": "code",
      "metadata": {
        "colab": {
          "base_uri": "https://localhost:8080/"
        },
        "id": "TzzzvWrMDUcT",
        "outputId": "dd337b5f-b92a-4af5-ab55-9d8638c6181c"
      },
      "source": [
        "df_v2.shape"
      ],
      "execution_count": 15,
      "outputs": [
        {
          "output_type": "execute_result",
          "data": {
            "text/plain": [
              "(32576, 12)"
            ]
          },
          "metadata": {},
          "execution_count": 15
        }
      ]
    },
    {
      "cell_type": "code",
      "metadata": {
        "colab": {
          "base_uri": "https://localhost:8080/"
        },
        "id": "lqeFm8zV6dZC",
        "outputId": "0244b040-b8ea-4096-c66d-5048fdd18d53"
      },
      "source": [
        "df_v2['person_age'].describe()"
      ],
      "execution_count": 16,
      "outputs": [
        {
          "output_type": "execute_result",
          "data": {
            "text/plain": [
              "count    32576.000000\n",
              "mean        27.718044\n",
              "std          6.204990\n",
              "min         20.000000\n",
              "25%         23.000000\n",
              "50%         26.000000\n",
              "75%         30.000000\n",
              "max         94.000000\n",
              "Name: person_age, dtype: float64"
            ]
          },
          "metadata": {},
          "execution_count": 16
        }
      ]
    },
    {
      "cell_type": "code",
      "metadata": {
        "colab": {
          "base_uri": "https://localhost:8080/",
          "height": 0
        },
        "id": "x8plUrbq6N8N",
        "outputId": "49ac24a5-2b89-4a96-ed7d-8b0ec1fe6e1a"
      },
      "source": [
        "df_v2['person_age'].hist()"
      ],
      "execution_count": 17,
      "outputs": [
        {
          "output_type": "execute_result",
          "data": {
            "text/plain": [
              "<matplotlib.axes._subplots.AxesSubplot at 0x7fee1157b810>"
            ]
          },
          "metadata": {},
          "execution_count": 17
        },
        {
          "output_type": "display_data",
          "data": {
            "image/png": "[encoded data removed]",
            "text/plain": [
              "<Figure size 432x288 with 1 Axes>"
            ]
          },
          "metadata": {
            "needs_background": "light"
          }
        }
      ]
    },
    {
      "cell_type": "markdown",
      "metadata": {
        "id": "Wrsg2VD6MkFS"
      },
      "source": [
        "## Person_income RENDA\n",
        "\n",
        "\n",
        "---\n",
        "\n",
        "\n",
        "Coluna apresenta 1481 outliers, mas, em regra, serão mantidos na base de dados. Afinal, não é uma premissa do modelo ser incapaz de avaliar clientes com alta renda.\n",
        "\n",
        "\n",
        "---\n",
        "\n",
        "\n",
        "Especialmente o ID 32297, que apresenta o valor máximo do atributo (R$ 6.000.000), será excluído devido à idade 144, não pela renda.\n",
        "\n",
        "\n",
        "---\n",
        "\n",
        "A renda média dos clientes é de 65,882.14 e a mediana 55,000"
      ]
    },
    {
      "cell_type": "code",
      "metadata": {
        "colab": {
          "base_uri": "https://localhost:8080/"
        },
        "id": "eCC9oxkHMok5",
        "outputId": "87dd0fa4-45d5-47ad-f381-96454e43a088"
      },
      "source": [
        "df_v2['person_income'].nunique()"
      ],
      "execution_count": 18,
      "outputs": [
        {
          "output_type": "execute_result",
          "data": {
            "text/plain": [
              "4294"
            ]
          },
          "metadata": {},
          "execution_count": 18
        }
      ]
    },
    {
      "cell_type": "code",
      "metadata": {
        "colab": {
          "base_uri": "https://localhost:8080/"
        },
        "id": "wmqhPMWYMpUG",
        "outputId": "383975e7-a592-421f-89f9-d4a65fe5ed3c"
      },
      "source": [
        "df_v2['person_income'].unique()"
      ],
      "execution_count": 19,
      "outputs": [
        {
          "output_type": "execute_result",
          "data": {
            "text/plain": [
              "array([  59000,    9600,   65500, ...,  720000, 1900000,    4888])"
            ]
          },
          "metadata": {},
          "execution_count": 19
        }
      ]
    },
    {
      "cell_type": "code",
      "metadata": {
        "id": "ZS-DqkVOMpWu",
        "colab": {
          "base_uri": "https://localhost:8080/"
        },
        "outputId": "418e2d04-d9da-43d2-b7ea-a9da15f33f42"
      },
      "source": [
        "df_v2['person_income'].describe().round(2)"
      ],
      "execution_count": 20,
      "outputs": [
        {
          "output_type": "execute_result",
          "data": {
            "text/plain": [
              "count      32576.00\n",
              "mean       65882.14\n",
              "std        52534.99\n",
              "min         4000.00\n",
              "25%        38500.00\n",
              "50%        55000.00\n",
              "75%        79200.00\n",
              "max      2039784.00\n",
              "Name: person_income, dtype: float64"
            ]
          },
          "metadata": {},
          "execution_count": 20
        }
      ]
    },
    {
      "cell_type": "code",
      "metadata": {
        "colab": {
          "base_uri": "https://localhost:8080/"
        },
        "id": "y-0yB9f7QLyn",
        "outputId": "790313fb-e881-469a-bf65-b7c8fe6f7917"
      },
      "source": [
        "identify_outlier(df_v2['person_income'])"
      ],
      "execution_count": 21,
      "outputs": [
        {
          "output_type": "execute_result",
          "data": {
            "text/plain": [
              "15        500000\n",
              "20        162500\n",
              "33        306000\n",
              "34        300000\n",
              "42        300000\n",
              "          ...   \n",
              "32544     780000\n",
              "32546    1900000\n",
              "32551     780000\n",
              "32562     160000\n",
              "32579     150000\n",
              "Name: person_income, Length: 1481, dtype: int64"
            ]
          },
          "metadata": {},
          "execution_count": 21
        }
      ]
    },
    {
      "cell_type": "code",
      "metadata": {
        "colab": {
          "base_uri": "https://localhost:8080/",
          "height": 0
        },
        "id": "Tyjzrt7nRCwv",
        "outputId": "8bfc94f2-6389-4e53-8875-ef5b304beb21"
      },
      "source": [
        "sns.boxplot(x='person_income', data=df_v2, fliersize=5)"
      ],
      "execution_count": 22,
      "outputs": [
        {
          "output_type": "execute_result",
          "data": {
            "text/plain": [
              "<matplotlib.axes._subplots.AxesSubplot at 0x7fee114e9050>"
            ]
          },
          "metadata": {},
          "execution_count": 22
        },
        {
          "output_type": "display_data",
          "data": {
            "image/png": "[encoded data removed]",
            "text/plain": [
              "<Figure size 432x288 with 1 Axes>"
            ]
          },
          "metadata": {
            "needs_background": "light"
          }
        }
      ]
    },
    {
      "cell_type": "code",
      "metadata": {
        "colab": {
          "base_uri": "https://localhost:8080/",
          "height": 0
        },
        "id": "FbXeUl71RC7Z",
        "outputId": "448d7c26-d4ff-4227-883a-32d61c342bcb"
      },
      "source": [
        "df_v2.loc[df['person_income'] == df_v2['person_income'].max()]\n",
        "#Registro já será desconsiderado devido à idade."
      ],
      "execution_count": 23,
      "outputs": [
        {
          "output_type": "execute_result",
          "data": {
            "text/html": [
              "<div>\n",
              "<style scoped>\n",
              "    .dataframe tbody tr th:only-of-type {\n",
              "        vertical-align: middle;\n",
              "    }\n",
              "\n",
              "    .dataframe tbody tr th {\n",
              "        vertical-align: top;\n",
              "    }\n",
              "\n",
              "    .dataframe thead th {\n",
              "        text-align: right;\n",
              "    }\n",
              "</style>\n",
              "<table border=\"1\" class=\"dataframe\">\n",
              "  <thead>\n",
              "    <tr style=\"text-align: right;\">\n",
              "      <th></th>\n",
              "      <th>person_age</th>\n",
              "      <th>person_income</th>\n",
              "      <th>person_home_ownership</th>\n",
              "      <th>person_emp_length</th>\n",
              "      <th>loan_intent</th>\n",
              "      <th>loan_grade</th>\n",
              "      <th>loan_amnt</th>\n",
              "      <th>loan_int_rate</th>\n",
              "      <th>loan_status</th>\n",
              "      <th>loan_percent_income</th>\n",
              "      <th>cb_person_default_on_file</th>\n",
              "      <th>cb_person_cred_hist_length</th>\n",
              "    </tr>\n",
              "  </thead>\n",
              "  <tbody>\n",
              "    <tr>\n",
              "      <th>30049</th>\n",
              "      <td>42</td>\n",
              "      <td>2039784</td>\n",
              "      <td>RENT</td>\n",
              "      <td>0.0</td>\n",
              "      <td>VENTURE</td>\n",
              "      <td>C</td>\n",
              "      <td>8450</td>\n",
              "      <td>12.29</td>\n",
              "      <td>0</td>\n",
              "      <td>0.0</td>\n",
              "      <td>Y</td>\n",
              "      <td>15</td>\n",
              "    </tr>\n",
              "  </tbody>\n",
              "</table>\n",
              "</div>"
            ],
            "text/plain": [
              "       person_age  ...  cb_person_cred_hist_length\n",
              "30049          42  ...                          15\n",
              "\n",
              "[1 rows x 12 columns]"
            ]
          },
          "metadata": {},
          "execution_count": 23
        }
      ]
    },
    {
      "cell_type": "markdown",
      "metadata": {
        "id": "ZbTj5mOYRqX6"
      },
      "source": [
        "## Person_home_ownership TIPO DE PROPRIEDADE DA CASA\n",
        "\n",
        "\n",
        "---\n",
        "\n",
        "A maioria dos clientes mora em casa alugada (50.47) ou financiada (41.26)"
      ]
    },
    {
      "cell_type": "code",
      "metadata": {
        "colab": {
          "base_uri": "https://localhost:8080/"
        },
        "id": "Q4Bk0eg4Rzd6",
        "outputId": "2694e4e9-cad5-46d0-8b55-cf501f2b493d"
      },
      "source": [
        "df_v2['person_home_ownership'].nunique()"
      ],
      "execution_count": 24,
      "outputs": [
        {
          "output_type": "execute_result",
          "data": {
            "text/plain": [
              "4"
            ]
          },
          "metadata": {},
          "execution_count": 24
        }
      ]
    },
    {
      "cell_type": "code",
      "metadata": {
        "colab": {
          "base_uri": "https://localhost:8080/"
        },
        "id": "m8R0SL_IRzjT",
        "outputId": "90a478cd-713f-411a-9698-7c6191c69b53"
      },
      "source": [
        "df_v2['person_home_ownership'].unique()"
      ],
      "execution_count": 25,
      "outputs": [
        {
          "output_type": "execute_result",
          "data": {
            "text/plain": [
              "array(['RENT', 'OWN', 'MORTGAGE', 'OTHER'], dtype=object)"
            ]
          },
          "metadata": {},
          "execution_count": 25
        }
      ]
    },
    {
      "cell_type": "code",
      "metadata": {
        "id": "AGljhDxJ_27J"
      },
      "source": [
        "df_v2_gb_ownership = df_v2.groupby('person_home_ownership')"
      ],
      "execution_count": 26,
      "outputs": []
    },
    {
      "cell_type": "code",
      "metadata": {
        "colab": {
          "base_uri": "https://localhost:8080/"
        },
        "id": "iJFkKIPU_Ly-",
        "outputId": "f7278cb3-dc31-4825-90f3-ada4a838c991"
      },
      "source": [
        "df_v2_gb_ownership.size().sort_values(ascending=False)"
      ],
      "execution_count": 27,
      "outputs": [
        {
          "output_type": "execute_result",
          "data": {
            "text/plain": [
              "person_home_ownership\n",
              "RENT        16443\n",
              "MORTGAGE    13442\n",
              "OWN          2584\n",
              "OTHER         107\n",
              "dtype: int64"
            ]
          },
          "metadata": {},
          "execution_count": 27
        }
      ]
    },
    {
      "cell_type": "code",
      "metadata": {
        "id": "BKaeepZ2AZn5"
      },
      "source": [
        "sum_df_v2_gb_ownership = df_v2_gb_ownership.size().sum()"
      ],
      "execution_count": 28,
      "outputs": []
    },
    {
      "cell_type": "code",
      "metadata": {
        "colab": {
          "base_uri": "https://localhost:8080/"
        },
        "id": "880bkO9eBBZl",
        "outputId": "60d2c69c-d89b-406e-dbf8-8ab884ddfb69"
      },
      "source": [
        "100 * 16443 / sum_df_v2_gb_ownership"
      ],
      "execution_count": 29,
      "outputs": [
        {
          "output_type": "execute_result",
          "data": {
            "text/plain": [
              "50.47581041257367"
            ]
          },
          "metadata": {},
          "execution_count": 29
        }
      ]
    },
    {
      "cell_type": "code",
      "metadata": {
        "colab": {
          "base_uri": "https://localhost:8080/"
        },
        "id": "v7XkRoT8BPHX",
        "outputId": "df8b8689-c8be-4dac-fd91-ccbecc03dcc6"
      },
      "source": [
        "100 * 13442 / sum_df_v2_gb_ownership"
      ],
      "execution_count": 30,
      "outputs": [
        {
          "output_type": "execute_result",
          "data": {
            "text/plain": [
              "41.2635068762279"
            ]
          },
          "metadata": {},
          "execution_count": 30
        }
      ]
    },
    {
      "cell_type": "markdown",
      "metadata": {
        "id": "8PWTWY2YBtHU"
      },
      "source": [
        "## Person_emp_length TEMPO DE TRABALHO\n",
        "\n",
        "\n",
        "---\n",
        "\n",
        "Apresenta dados faltantes\n",
        "\n",
        "\n",
        "---\n",
        "\n",
        "Apresenta 2 registros de pessoas que supostamente tem tempo de serviço de 123 anos. Serão retiradas da base de dados.\n",
        "\n",
        "---\n",
        "\n",
        "df_v2 => df_v3"
      ]
    },
    {
      "cell_type": "code",
      "metadata": {
        "colab": {
          "base_uri": "https://localhost:8080/"
        },
        "id": "wxZtWua5BzJy",
        "outputId": "546afb5a-d8de-401a-f32d-3c841d7240ab"
      },
      "source": [
        "df_v2['person_emp_length'].nunique()"
      ],
      "execution_count": 31,
      "outputs": [
        {
          "output_type": "execute_result",
          "data": {
            "text/plain": [
              "36"
            ]
          },
          "metadata": {},
          "execution_count": 31
        }
      ]
    },
    {
      "cell_type": "code",
      "metadata": {
        "colab": {
          "base_uri": "https://localhost:8080/"
        },
        "id": "Thf-PcZRBzQ5",
        "outputId": "c137396f-c95e-48e7-f145-e02befcde02e"
      },
      "source": [
        "df_v2['person_emp_length'].unique()"
      ],
      "execution_count": 32,
      "outputs": [
        {
          "output_type": "execute_result",
          "data": {
            "text/plain": [
              "array([123.,   5.,   1.,   4.,   8.,   2.,   6.,   7.,   0.,   9.,   3.,\n",
              "        10.,  nan,  11.,  18.,  12.,  17.,  14.,  16.,  13.,  19.,  15.,\n",
              "        20.,  22.,  21.,  24.,  23.,  26.,  25.,  27.,  28.,  31.,  41.,\n",
              "        34.,  29.,  38.,  30.])"
            ]
          },
          "metadata": {},
          "execution_count": 32
        }
      ]
    },
    {
      "cell_type": "code",
      "metadata": {
        "colab": {
          "base_uri": "https://localhost:8080/"
        },
        "id": "Bx3n9CZICAv7",
        "outputId": "62d0c1a6-ed4a-49ba-fd6f-73d082920c71"
      },
      "source": [
        "df_v2['person_emp_length'].describe()"
      ],
      "execution_count": 33,
      "outputs": [
        {
          "output_type": "execute_result",
          "data": {
            "text/plain": [
              "count    31681.000000\n",
              "mean         4.789527\n",
              "std          4.142706\n",
              "min          0.000000\n",
              "25%          2.000000\n",
              "50%          4.000000\n",
              "75%          7.000000\n",
              "max        123.000000\n",
              "Name: person_emp_length, dtype: float64"
            ]
          },
          "metadata": {},
          "execution_count": 33
        }
      ]
    },
    {
      "cell_type": "code",
      "metadata": {
        "colab": {
          "base_uri": "https://localhost:8080/"
        },
        "id": "KA6iWH9tCUgN",
        "outputId": "cabdfe79-e72f-4a14-cf16-c76bc7d245b4"
      },
      "source": [
        "df_v2['person_emp_length'].isnull().sum()"
      ],
      "execution_count": 34,
      "outputs": [
        {
          "output_type": "execute_result",
          "data": {
            "text/plain": [
              "895"
            ]
          },
          "metadata": {},
          "execution_count": 34
        }
      ]
    },
    {
      "cell_type": "code",
      "metadata": {
        "colab": {
          "base_uri": "https://localhost:8080/",
          "height": 0
        },
        "id": "yLbc-M1rCeLh",
        "outputId": "89ce1a45-ad30-4b09-dba1-e9e66c4cf1d4"
      },
      "source": [
        "df_v2['person_emp_length'].hist()"
      ],
      "execution_count": 35,
      "outputs": [
        {
          "output_type": "execute_result",
          "data": {
            "text/plain": [
              "<matplotlib.axes._subplots.AxesSubplot at 0x7fee1146db10>"
            ]
          },
          "metadata": {},
          "execution_count": 35
        },
        {
          "output_type": "display_data",
          "data": {
            "image/png": "[encoded data removed]",
            "text/plain": [
              "<Figure size 432x288 with 1 Axes>"
            ]
          },
          "metadata": {
            "needs_background": "light"
          }
        }
      ]
    },
    {
      "cell_type": "code",
      "metadata": {
        "colab": {
          "base_uri": "https://localhost:8080/"
        },
        "id": "opgiQA04Z72m",
        "outputId": "eef267ca-3758-4ccd-92cb-fa08d34b32ca"
      },
      "source": [
        "df_v2.shape"
      ],
      "execution_count": 36,
      "outputs": [
        {
          "output_type": "execute_result",
          "data": {
            "text/plain": [
              "(32576, 12)"
            ]
          },
          "metadata": {},
          "execution_count": 36
        }
      ]
    },
    {
      "cell_type": "code",
      "metadata": {
        "id": "1BnyIHmJCigQ"
      },
      "source": [
        "df_3teste = df_v2.loc[df_v2['person_emp_length'] >= 50]"
      ],
      "execution_count": 37,
      "outputs": []
    },
    {
      "cell_type": "code",
      "metadata": {
        "colab": {
          "base_uri": "https://localhost:8080/"
        },
        "id": "CSkHtBAraGt_",
        "outputId": "4d90df69-f8fc-428d-beca-95f813c490ca"
      },
      "source": [
        "df_3teste.shape"
      ],
      "execution_count": 38,
      "outputs": [
        {
          "output_type": "execute_result",
          "data": {
            "text/plain": [
              "(2, 12)"
            ]
          },
          "metadata": {},
          "execution_count": 38
        }
      ]
    },
    {
      "cell_type": "code",
      "metadata": {
        "id": "zHzrgZoOC_0W"
      },
      "source": [
        "df_v3_perda = df_v2.loc[df_v2['person_emp_length'] < 50]"
      ],
      "execution_count": 39,
      "outputs": []
    },
    {
      "cell_type": "code",
      "metadata": {
        "colab": {
          "base_uri": "https://localhost:8080/"
        },
        "id": "1MKBAr-yDKiG",
        "outputId": "48357d92-ff84-4e11-fe56-03faf4622eb8"
      },
      "source": [
        "len(df_v3_perda)"
      ],
      "execution_count": 40,
      "outputs": [
        {
          "output_type": "execute_result",
          "data": {
            "text/plain": [
              "31679"
            ]
          },
          "metadata": {},
          "execution_count": 40
        }
      ]
    },
    {
      "cell_type": "markdown",
      "metadata": {
        "id": "cSzz32j5a1Gx"
      },
      "source": [
        "### Usando o df_v2, identifico que há 2 registros com tempo de trabalho acima de 50 anos, exatamente 123 anos de trabalho. Eles serão excluídos do dataset. Contudo, ao atribuir apenas os registros com tempo de serviço <= 50 anos, o dataset passa a ter -879 registros.\n",
        "## Isso ocorre porque quando se filtra um campo por número, os na não são levados para o filtro.\n",
        "## Utilizarei o drop para fazer a exclusão correta."
      ]
    },
    {
      "cell_type": "code",
      "metadata": {
        "colab": {
          "base_uri": "https://localhost:8080/",
          "height": 0
        },
        "id": "NT5EpPD1bm8g",
        "outputId": "f34bf88e-c26f-46af-e317-5ae34c0586be"
      },
      "source": [
        "df_v2.loc[df_v2['person_emp_length'] == 123]"
      ],
      "execution_count": 41,
      "outputs": [
        {
          "output_type": "execute_result",
          "data": {
            "text/html": [
              "<div>\n",
              "<style scoped>\n",
              "    .dataframe tbody tr th:only-of-type {\n",
              "        vertical-align: middle;\n",
              "    }\n",
              "\n",
              "    .dataframe tbody tr th {\n",
              "        vertical-align: top;\n",
              "    }\n",
              "\n",
              "    .dataframe thead th {\n",
              "        text-align: right;\n",
              "    }\n",
              "</style>\n",
              "<table border=\"1\" class=\"dataframe\">\n",
              "  <thead>\n",
              "    <tr style=\"text-align: right;\">\n",
              "      <th></th>\n",
              "      <th>person_age</th>\n",
              "      <th>person_income</th>\n",
              "      <th>person_home_ownership</th>\n",
              "      <th>person_emp_length</th>\n",
              "      <th>loan_intent</th>\n",
              "      <th>loan_grade</th>\n",
              "      <th>loan_amnt</th>\n",
              "      <th>loan_int_rate</th>\n",
              "      <th>loan_status</th>\n",
              "      <th>loan_percent_income</th>\n",
              "      <th>cb_person_default_on_file</th>\n",
              "      <th>cb_person_cred_hist_length</th>\n",
              "    </tr>\n",
              "  </thead>\n",
              "  <tbody>\n",
              "    <tr>\n",
              "      <th>0</th>\n",
              "      <td>22</td>\n",
              "      <td>59000</td>\n",
              "      <td>RENT</td>\n",
              "      <td>123.0</td>\n",
              "      <td>PERSONAL</td>\n",
              "      <td>D</td>\n",
              "      <td>35000</td>\n",
              "      <td>16.02</td>\n",
              "      <td>1</td>\n",
              "      <td>0.59</td>\n",
              "      <td>Y</td>\n",
              "      <td>3</td>\n",
              "    </tr>\n",
              "    <tr>\n",
              "      <th>210</th>\n",
              "      <td>21</td>\n",
              "      <td>192000</td>\n",
              "      <td>MORTGAGE</td>\n",
              "      <td>123.0</td>\n",
              "      <td>VENTURE</td>\n",
              "      <td>A</td>\n",
              "      <td>20000</td>\n",
              "      <td>6.54</td>\n",
              "      <td>0</td>\n",
              "      <td>0.10</td>\n",
              "      <td>N</td>\n",
              "      <td>4</td>\n",
              "    </tr>\n",
              "  </tbody>\n",
              "</table>\n",
              "</div>"
            ],
            "text/plain": [
              "     person_age  ...  cb_person_cred_hist_length\n",
              "0            22  ...                           3\n",
              "210          21  ...                           4\n",
              "\n",
              "[2 rows x 12 columns]"
            ]
          },
          "metadata": {},
          "execution_count": 41
        }
      ]
    },
    {
      "cell_type": "code",
      "metadata": {
        "id": "5Qa_r_RteQ2Y"
      },
      "source": [
        "df_v3 = df_v2.drop(index=[0,210])"
      ],
      "execution_count": 42,
      "outputs": []
    },
    {
      "cell_type": "code",
      "metadata": {
        "colab": {
          "base_uri": "https://localhost:8080/"
        },
        "id": "_R2zypi6esC9",
        "outputId": "efcf6a9d-24ca-4af7-cf14-478cead39a28"
      },
      "source": [
        "df_v3.shape"
      ],
      "execution_count": 43,
      "outputs": [
        {
          "output_type": "execute_result",
          "data": {
            "text/plain": [
              "(32574, 12)"
            ]
          },
          "metadata": {},
          "execution_count": 43
        }
      ]
    },
    {
      "cell_type": "code",
      "metadata": {
        "colab": {
          "base_uri": "https://localhost:8080/"
        },
        "id": "T0Lpwo7We8FM",
        "outputId": "35b4d2ad-cfb3-4b27-bb59-be22c7da7d90"
      },
      "source": [
        "df_v3['person_emp_length'].describe()"
      ],
      "execution_count": 44,
      "outputs": [
        {
          "output_type": "execute_result",
          "data": {
            "text/plain": [
              "count    31679.000000\n",
              "mean         4.782064\n",
              "std          4.034948\n",
              "min          0.000000\n",
              "25%          2.000000\n",
              "50%          4.000000\n",
              "75%          7.000000\n",
              "max         41.000000\n",
              "Name: person_emp_length, dtype: float64"
            ]
          },
          "metadata": {},
          "execution_count": 44
        }
      ]
    },
    {
      "cell_type": "markdown",
      "metadata": {
        "id": "nNQMbt5cfXFB"
      },
      "source": [
        "### Tratando os NA da coluna TEMPO DE TRABALHO\n",
        "\n",
        "\n",
        "---\n",
        "\n",
        "Considerando que os NA representam 2,75% da coluna (pouco representativo), será atribuída a estes registros a mediana do tempo de serviço dos demais registros."
      ]
    },
    {
      "cell_type": "code",
      "metadata": {
        "colab": {
          "base_uri": "https://localhost:8080/"
        },
        "id": "KO3z073WcZc1",
        "outputId": "d16b75c6-8698-4cdd-9578-68ad74c9855e"
      },
      "source": [
        "df_v3['person_emp_length'].describe()"
      ],
      "execution_count": 45,
      "outputs": [
        {
          "output_type": "execute_result",
          "data": {
            "text/plain": [
              "count    31679.000000\n",
              "mean         4.782064\n",
              "std          4.034948\n",
              "min          0.000000\n",
              "25%          2.000000\n",
              "50%          4.000000\n",
              "75%          7.000000\n",
              "max         41.000000\n",
              "Name: person_emp_length, dtype: float64"
            ]
          },
          "metadata": {},
          "execution_count": 45
        }
      ]
    },
    {
      "cell_type": "code",
      "metadata": {
        "colab": {
          "base_uri": "https://localhost:8080/"
        },
        "id": "G0iMGbABe8IY",
        "outputId": "d91a5de3-33fa-43e0-9bef-af8cc6d38917"
      },
      "source": [
        "Nan_per = df_v3.isnull().sum()/df_v3.shape[0]*100\n",
        "Nan_per['person_emp_length'].round(2)"
      ],
      "execution_count": 46,
      "outputs": [
        {
          "output_type": "execute_result",
          "data": {
            "text/plain": [
              "2.75"
            ]
          },
          "metadata": {},
          "execution_count": 46
        }
      ]
    },
    {
      "cell_type": "code",
      "metadata": {
        "id": "FIBVENH5f3os"
      },
      "source": [
        "df_v3['person_emp_length'].fillna(value=df_v3['person_emp_length'].median(), inplace=True)"
      ],
      "execution_count": 47,
      "outputs": []
    },
    {
      "cell_type": "code",
      "metadata": {
        "colab": {
          "base_uri": "https://localhost:8080/"
        },
        "id": "KaTGZR6ygo7F",
        "outputId": "6e15e90e-f4b3-413d-9687-caa529b3b8e3"
      },
      "source": [
        "Nan_per = df_v3.isnull().sum()/df_v3.shape[0]*100\n",
        "Nan_per['person_emp_length'].round(2)"
      ],
      "execution_count": 48,
      "outputs": [
        {
          "output_type": "execute_result",
          "data": {
            "text/plain": [
              "0.0"
            ]
          },
          "metadata": {},
          "execution_count": 48
        }
      ]
    },
    {
      "cell_type": "markdown",
      "metadata": {
        "id": "R0FT96NRRGxb"
      },
      "source": [
        "## loan_intent MOTIVO DO EMPRÉSTIMO\n",
        "~20% dos empréstimos relacionados na base de dados tem a finalidade de financiar gastos com educação.\n",
        "\n",
        "---\n",
        "\n",
        "A base de dados conta com menos empréstimos para reforma/melhoria de casa (HOMEIMPROVEMENT). Os clientes que tomam empréstimo com este motivo solicitam valores ligeiramente maiores do que para os demais motivos.\n",
        "\n",
        "```\n",
        "MOTIVO                         %      Idade Média/Mediana  Valor do empréstimo Médio/Mediano\n",
        "EDUCAÇÃO                     19.80       26.55|24\t          9481.53|8000\n",
        "SAÚDE                        18.64       28.00|26\t          9259.58|8000\n",
        "INVESTIMENTO/RISCO           17.55       27.53|26\t          9580.97|8000\n",
        "PESSOAL                      16.94       28.19|26\t          9569.99|8000\n",
        "CONSOLIDAÇÃO DE DÉBITOS      16.00       27.61|26\t\t      9594.89|8000\n",
        "REFORMA/MELHORIA DE CASA     11.07       29.07|27\t         10360.52|9000\n",
        "```"
      ]
    },
    {
      "cell_type": "code",
      "metadata": {
        "colab": {
          "base_uri": "https://localhost:8080/"
        },
        "id": "bdWbaPTGRG8F",
        "outputId": "b3e1ccf3-0070-4213-c787-012d061b1fce"
      },
      "source": [
        "df_v3['loan_intent'].nunique()"
      ],
      "execution_count": 49,
      "outputs": [
        {
          "output_type": "execute_result",
          "data": {
            "text/plain": [
              "6"
            ]
          },
          "metadata": {},
          "execution_count": 49
        }
      ]
    },
    {
      "cell_type": "code",
      "metadata": {
        "colab": {
          "base_uri": "https://localhost:8080/"
        },
        "id": "GbG60S_6guoJ",
        "outputId": "08e4c6cf-5151-4154-857e-9059f80eb9e6"
      },
      "source": [
        "df_v3['loan_intent'].unique()"
      ],
      "execution_count": 50,
      "outputs": [
        {
          "output_type": "execute_result",
          "data": {
            "text/plain": [
              "array(['EDUCATION', 'MEDICAL', 'VENTURE', 'PERSONAL', 'HOMEIMPROVEMENT',\n",
              "       'DEBTCONSOLIDATION'], dtype=object)"
            ]
          },
          "metadata": {},
          "execution_count": 50
        }
      ]
    },
    {
      "cell_type": "code",
      "metadata": {
        "id": "3X2SLPUwgyLj"
      },
      "source": [
        "df_v3_gb_intent = df_v3.groupby(\"loan_intent\")[['person_age', 'loan_amnt']]"
      ],
      "execution_count": 51,
      "outputs": []
    },
    {
      "cell_type": "code",
      "metadata": {
        "colab": {
          "base_uri": "https://localhost:8080/"
        },
        "id": "eBndJYeEf6xL",
        "outputId": "13b11f5a-b000-41fc-a175-25189e3b991e"
      },
      "source": [
        "df_v3_gb_intent_percent = df_v3_gb_intent.count().sort_values(by='loan_amnt', ascending=False)\n",
        "df_v3_gb_intent_percent['%'] = df_v3_gb_intent_percent['person_age'] / df_v3_gb_intent_percent['person_age'].sum()\n",
        "(100*df_v3_gb_intent_percent['%'].sort_values(ascending=False)).round(2)"
      ],
      "execution_count": 52,
      "outputs": [
        {
          "output_type": "execute_result",
          "data": {
            "text/plain": [
              "loan_intent\n",
              "EDUCATION            19.80\n",
              "MEDICAL              18.64\n",
              "VENTURE              17.55\n",
              "PERSONAL             16.94\n",
              "DEBTCONSOLIDATION    16.00\n",
              "HOMEIMPROVEMENT      11.07\n",
              "Name: %, dtype: float64"
            ]
          },
          "metadata": {},
          "execution_count": 52
        }
      ]
    },
    {
      "cell_type": "code",
      "metadata": {
        "colab": {
          "base_uri": "https://localhost:8080/",
          "height": 0
        },
        "id": "haCdr3WLiEiX",
        "outputId": "371c561c-61c2-4cb9-e6b6-1d8446409a6f"
      },
      "source": [
        "df_v3_gb_intent.count().sort_values(by='loan_amnt', ascending=False)"
      ],
      "execution_count": 53,
      "outputs": [
        {
          "output_type": "execute_result",
          "data": {
            "text/html": [
              "<div>\n",
              "<style scoped>\n",
              "    .dataframe tbody tr th:only-of-type {\n",
              "        vertical-align: middle;\n",
              "    }\n",
              "\n",
              "    .dataframe tbody tr th {\n",
              "        vertical-align: top;\n",
              "    }\n",
              "\n",
              "    .dataframe thead th {\n",
              "        text-align: right;\n",
              "    }\n",
              "</style>\n",
              "<table border=\"1\" class=\"dataframe\">\n",
              "  <thead>\n",
              "    <tr style=\"text-align: right;\">\n",
              "      <th></th>\n",
              "      <th>person_age</th>\n",
              "      <th>loan_amnt</th>\n",
              "    </tr>\n",
              "    <tr>\n",
              "      <th>loan_intent</th>\n",
              "      <th></th>\n",
              "      <th></th>\n",
              "    </tr>\n",
              "  </thead>\n",
              "  <tbody>\n",
              "    <tr>\n",
              "      <th>EDUCATION</th>\n",
              "      <td>6451</td>\n",
              "      <td>6451</td>\n",
              "    </tr>\n",
              "    <tr>\n",
              "      <th>MEDICAL</th>\n",
              "      <td>6071</td>\n",
              "      <td>6071</td>\n",
              "    </tr>\n",
              "    <tr>\n",
              "      <th>VENTURE</th>\n",
              "      <td>5716</td>\n",
              "      <td>5716</td>\n",
              "    </tr>\n",
              "    <tr>\n",
              "      <th>PERSONAL</th>\n",
              "      <td>5519</td>\n",
              "      <td>5519</td>\n",
              "    </tr>\n",
              "    <tr>\n",
              "      <th>DEBTCONSOLIDATION</th>\n",
              "      <td>5212</td>\n",
              "      <td>5212</td>\n",
              "    </tr>\n",
              "    <tr>\n",
              "      <th>HOMEIMPROVEMENT</th>\n",
              "      <td>3605</td>\n",
              "      <td>3605</td>\n",
              "    </tr>\n",
              "  </tbody>\n",
              "</table>\n",
              "</div>"
            ],
            "text/plain": [
              "                   person_age  loan_amnt\n",
              "loan_intent                             \n",
              "EDUCATION                6451       6451\n",
              "MEDICAL                  6071       6071\n",
              "VENTURE                  5716       5716\n",
              "PERSONAL                 5519       5519\n",
              "DEBTCONSOLIDATION        5212       5212\n",
              "HOMEIMPROVEMENT          3605       3605"
            ]
          },
          "metadata": {},
          "execution_count": 53
        }
      ]
    },
    {
      "cell_type": "code",
      "metadata": {
        "colab": {
          "base_uri": "https://localhost:8080/",
          "height": 0
        },
        "id": "z4j9FiRynrlS",
        "outputId": "168f0e85-a4fb-408f-9b81-50c40a679489"
      },
      "source": [
        "df_v3_gb_intent.median().sort_values(by='loan_amnt', ascending=False)"
      ],
      "execution_count": 54,
      "outputs": [
        {
          "output_type": "execute_result",
          "data": {
            "text/html": [
              "<div>\n",
              "<style scoped>\n",
              "    .dataframe tbody tr th:only-of-type {\n",
              "        vertical-align: middle;\n",
              "    }\n",
              "\n",
              "    .dataframe tbody tr th {\n",
              "        vertical-align: top;\n",
              "    }\n",
              "\n",
              "    .dataframe thead th {\n",
              "        text-align: right;\n",
              "    }\n",
              "</style>\n",
              "<table border=\"1\" class=\"dataframe\">\n",
              "  <thead>\n",
              "    <tr style=\"text-align: right;\">\n",
              "      <th></th>\n",
              "      <th>person_age</th>\n",
              "      <th>loan_amnt</th>\n",
              "    </tr>\n",
              "    <tr>\n",
              "      <th>loan_intent</th>\n",
              "      <th></th>\n",
              "      <th></th>\n",
              "    </tr>\n",
              "  </thead>\n",
              "  <tbody>\n",
              "    <tr>\n",
              "      <th>HOMEIMPROVEMENT</th>\n",
              "      <td>27</td>\n",
              "      <td>9000</td>\n",
              "    </tr>\n",
              "    <tr>\n",
              "      <th>DEBTCONSOLIDATION</th>\n",
              "      <td>26</td>\n",
              "      <td>8000</td>\n",
              "    </tr>\n",
              "    <tr>\n",
              "      <th>EDUCATION</th>\n",
              "      <td>24</td>\n",
              "      <td>8000</td>\n",
              "    </tr>\n",
              "    <tr>\n",
              "      <th>MEDICAL</th>\n",
              "      <td>26</td>\n",
              "      <td>8000</td>\n",
              "    </tr>\n",
              "    <tr>\n",
              "      <th>PERSONAL</th>\n",
              "      <td>26</td>\n",
              "      <td>8000</td>\n",
              "    </tr>\n",
              "    <tr>\n",
              "      <th>VENTURE</th>\n",
              "      <td>26</td>\n",
              "      <td>8000</td>\n",
              "    </tr>\n",
              "  </tbody>\n",
              "</table>\n",
              "</div>"
            ],
            "text/plain": [
              "                   person_age  loan_amnt\n",
              "loan_intent                             \n",
              "HOMEIMPROVEMENT            27       9000\n",
              "DEBTCONSOLIDATION          26       8000\n",
              "EDUCATION                  24       8000\n",
              "MEDICAL                    26       8000\n",
              "PERSONAL                   26       8000\n",
              "VENTURE                    26       8000"
            ]
          },
          "metadata": {},
          "execution_count": 54
        }
      ]
    },
    {
      "cell_type": "code",
      "metadata": {
        "colab": {
          "base_uri": "https://localhost:8080/",
          "height": 0
        },
        "id": "nq4TmtAFhE3I",
        "outputId": "dd227e43-7c3d-4c88-899f-364459aad5cb"
      },
      "source": [
        "df_v3_gb_intent.sum().sort_values(by='loan_amnt', ascending=False).round(2)"
      ],
      "execution_count": 55,
      "outputs": [
        {
          "output_type": "execute_result",
          "data": {
            "text/html": [
              "<div>\n",
              "<style scoped>\n",
              "    .dataframe tbody tr th:only-of-type {\n",
              "        vertical-align: middle;\n",
              "    }\n",
              "\n",
              "    .dataframe tbody tr th {\n",
              "        vertical-align: top;\n",
              "    }\n",
              "\n",
              "    .dataframe thead th {\n",
              "        text-align: right;\n",
              "    }\n",
              "</style>\n",
              "<table border=\"1\" class=\"dataframe\">\n",
              "  <thead>\n",
              "    <tr style=\"text-align: right;\">\n",
              "      <th></th>\n",
              "      <th>person_age</th>\n",
              "      <th>loan_amnt</th>\n",
              "    </tr>\n",
              "    <tr>\n",
              "      <th>loan_intent</th>\n",
              "      <th></th>\n",
              "      <th></th>\n",
              "    </tr>\n",
              "  </thead>\n",
              "  <tbody>\n",
              "    <tr>\n",
              "      <th>EDUCATION</th>\n",
              "      <td>171306</td>\n",
              "      <td>61165325</td>\n",
              "    </tr>\n",
              "    <tr>\n",
              "      <th>MEDICAL</th>\n",
              "      <td>169976</td>\n",
              "      <td>56214925</td>\n",
              "    </tr>\n",
              "    <tr>\n",
              "      <th>VENTURE</th>\n",
              "      <td>157376</td>\n",
              "      <td>54764825</td>\n",
              "    </tr>\n",
              "    <tr>\n",
              "      <th>PERSONAL</th>\n",
              "      <td>155573</td>\n",
              "      <td>52816800</td>\n",
              "    </tr>\n",
              "    <tr>\n",
              "      <th>DEBTCONSOLIDATION</th>\n",
              "      <td>143884</td>\n",
              "      <td>50008550</td>\n",
              "    </tr>\n",
              "    <tr>\n",
              "      <th>HOMEIMPROVEMENT</th>\n",
              "      <td>104785</td>\n",
              "      <td>37349675</td>\n",
              "    </tr>\n",
              "  </tbody>\n",
              "</table>\n",
              "</div>"
            ],
            "text/plain": [
              "                   person_age  loan_amnt\n",
              "loan_intent                             \n",
              "EDUCATION              171306   61165325\n",
              "MEDICAL                169976   56214925\n",
              "VENTURE                157376   54764825\n",
              "PERSONAL               155573   52816800\n",
              "DEBTCONSOLIDATION      143884   50008550\n",
              "HOMEIMPROVEMENT        104785   37349675"
            ]
          },
          "metadata": {},
          "execution_count": 55
        }
      ]
    },
    {
      "cell_type": "code",
      "metadata": {
        "colab": {
          "base_uri": "https://localhost:8080/",
          "height": 0
        },
        "id": "_kwFTe7KhSdl",
        "outputId": "1043487b-e905-49c2-c217-dd52a47925fc"
      },
      "source": [
        "(df_v3_gb_intent.sum() / df_v3_gb_intent.count()).sort_values(by='loan_amnt', ascending=False).round(2)"
      ],
      "execution_count": 56,
      "outputs": [
        {
          "output_type": "execute_result",
          "data": {
            "text/html": [
              "<div>\n",
              "<style scoped>\n",
              "    .dataframe tbody tr th:only-of-type {\n",
              "        vertical-align: middle;\n",
              "    }\n",
              "\n",
              "    .dataframe tbody tr th {\n",
              "        vertical-align: top;\n",
              "    }\n",
              "\n",
              "    .dataframe thead th {\n",
              "        text-align: right;\n",
              "    }\n",
              "</style>\n",
              "<table border=\"1\" class=\"dataframe\">\n",
              "  <thead>\n",
              "    <tr style=\"text-align: right;\">\n",
              "      <th></th>\n",
              "      <th>person_age</th>\n",
              "      <th>loan_amnt</th>\n",
              "    </tr>\n",
              "    <tr>\n",
              "      <th>loan_intent</th>\n",
              "      <th></th>\n",
              "      <th></th>\n",
              "    </tr>\n",
              "  </thead>\n",
              "  <tbody>\n",
              "    <tr>\n",
              "      <th>HOMEIMPROVEMENT</th>\n",
              "      <td>29.07</td>\n",
              "      <td>10360.52</td>\n",
              "    </tr>\n",
              "    <tr>\n",
              "      <th>DEBTCONSOLIDATION</th>\n",
              "      <td>27.61</td>\n",
              "      <td>9594.89</td>\n",
              "    </tr>\n",
              "    <tr>\n",
              "      <th>VENTURE</th>\n",
              "      <td>27.53</td>\n",
              "      <td>9580.97</td>\n",
              "    </tr>\n",
              "    <tr>\n",
              "      <th>PERSONAL</th>\n",
              "      <td>28.19</td>\n",
              "      <td>9569.99</td>\n",
              "    </tr>\n",
              "    <tr>\n",
              "      <th>EDUCATION</th>\n",
              "      <td>26.55</td>\n",
              "      <td>9481.53</td>\n",
              "    </tr>\n",
              "    <tr>\n",
              "      <th>MEDICAL</th>\n",
              "      <td>28.00</td>\n",
              "      <td>9259.58</td>\n",
              "    </tr>\n",
              "  </tbody>\n",
              "</table>\n",
              "</div>"
            ],
            "text/plain": [
              "                   person_age  loan_amnt\n",
              "loan_intent                             \n",
              "HOMEIMPROVEMENT         29.07   10360.52\n",
              "DEBTCONSOLIDATION       27.61    9594.89\n",
              "VENTURE                 27.53    9580.97\n",
              "PERSONAL                28.19    9569.99\n",
              "EDUCATION               26.55    9481.53\n",
              "MEDICAL                 28.00    9259.58"
            ]
          },
          "metadata": {},
          "execution_count": 56
        }
      ]
    },
    {
      "cell_type": "markdown",
      "metadata": {
        "id": "nmEB7BDrhTUc"
      },
      "source": [
        "## loan_grade GRAU DO EMPRÉSTIMO\n",
        "\n",
        "\n",
        "---\n",
        "\n",
        "85% dos empréstimos registrados na base de dados concentram-se nos graus A, B e C\n",
        "\n",
        "\n",
        "---\n",
        "\n",
        "O grau C apresenta maior amplitude de idade e renda das pessoas\n",
        "\n",
        "\n",
        "---\n",
        "\n",
        "Os graus B, C e D apresentam menores rendas medianas"
      ]
    },
    {
      "cell_type": "code",
      "metadata": {
        "colab": {
          "base_uri": "https://localhost:8080/"
        },
        "id": "XCNLQXwM5AEo",
        "outputId": "07dfcc7d-0ef5-488f-af2f-9aa276794bf0"
      },
      "source": [
        "df_v3.loan_grade.nunique()"
      ],
      "execution_count": 57,
      "outputs": [
        {
          "output_type": "execute_result",
          "data": {
            "text/plain": [
              "7"
            ]
          },
          "metadata": {},
          "execution_count": 57
        }
      ]
    },
    {
      "cell_type": "code",
      "metadata": {
        "colab": {
          "base_uri": "https://localhost:8080/"
        },
        "id": "HL5OOgiU5E2G",
        "outputId": "d662333a-8824-4c33-b74a-7dc17fb945b2"
      },
      "source": [
        "df_v3.loan_grade.unique()"
      ],
      "execution_count": 58,
      "outputs": [
        {
          "output_type": "execute_result",
          "data": {
            "text/plain": [
              "array(['B', 'C', 'A', 'D', 'E', 'F', 'G'], dtype=object)"
            ]
          },
          "metadata": {},
          "execution_count": 58
        }
      ]
    },
    {
      "cell_type": "code",
      "metadata": {
        "id": "sCN2LhKhy8xM"
      },
      "source": [
        "df_v3_loan_grade_percent = df_v3.loan_grade.value_counts()"
      ],
      "execution_count": 59,
      "outputs": []
    },
    {
      "cell_type": "code",
      "metadata": {
        "colab": {
          "base_uri": "https://localhost:8080/"
        },
        "id": "c8y9EmeOzBuF",
        "outputId": "5eb8a112-a3d6-4ca4-a293-ce81c183d986"
      },
      "source": [
        "100 * (df_v3_loan_grade_percent / df_v3.loan_grade.count()).round(2)"
      ],
      "execution_count": 60,
      "outputs": [
        {
          "output_type": "execute_result",
          "data": {
            "text/plain": [
              "A    33.0\n",
              "B    32.0\n",
              "C    20.0\n",
              "D    11.0\n",
              "E     3.0\n",
              "F     1.0\n",
              "G     0.0\n",
              "Name: loan_grade, dtype: float64"
            ]
          },
          "metadata": {},
          "execution_count": 60
        }
      ]
    },
    {
      "cell_type": "code",
      "metadata": {
        "colab": {
          "base_uri": "https://localhost:8080/"
        },
        "id": "aF3icCZmxGDR",
        "outputId": "66df3185-b517-43a4-90dd-59a40b155d06"
      },
      "source": [
        "df_v3.loan_grade.value_counts()"
      ],
      "execution_count": 61,
      "outputs": [
        {
          "output_type": "execute_result",
          "data": {
            "text/plain": [
              "A    10776\n",
              "B    10448\n",
              "C     6456\n",
              "D     3625\n",
              "E      964\n",
              "F      241\n",
              "G       64\n",
              "Name: loan_grade, dtype: int64"
            ]
          },
          "metadata": {},
          "execution_count": 61
        }
      ]
    },
    {
      "cell_type": "code",
      "metadata": {
        "id": "E3zS7QX05E4s"
      },
      "source": [
        "df_v3_gb_grade = df_v3.groupby('loan_grade')[['person_age', 'loan_amnt', 'person_income']]"
      ],
      "execution_count": 62,
      "outputs": []
    },
    {
      "cell_type": "code",
      "metadata": {
        "colab": {
          "base_uri": "https://localhost:8080/",
          "height": 0
        },
        "id": "CF_3mjgBw_mi",
        "outputId": "d92c45ad-a896-45bf-cb61-5a4d53be05a7"
      },
      "source": [
        "df_v3_gb_grade.median().round()"
      ],
      "execution_count": 63,
      "outputs": [
        {
          "output_type": "execute_result",
          "data": {
            "text/html": [
              "<div>\n",
              "<style scoped>\n",
              "    .dataframe tbody tr th:only-of-type {\n",
              "        vertical-align: middle;\n",
              "    }\n",
              "\n",
              "    .dataframe tbody tr th {\n",
              "        vertical-align: top;\n",
              "    }\n",
              "\n",
              "    .dataframe thead th {\n",
              "        text-align: right;\n",
              "    }\n",
              "</style>\n",
              "<table border=\"1\" class=\"dataframe\">\n",
              "  <thead>\n",
              "    <tr style=\"text-align: right;\">\n",
              "      <th></th>\n",
              "      <th>person_age</th>\n",
              "      <th>loan_amnt</th>\n",
              "      <th>person_income</th>\n",
              "    </tr>\n",
              "    <tr>\n",
              "      <th>loan_grade</th>\n",
              "      <th></th>\n",
              "      <th></th>\n",
              "      <th></th>\n",
              "    </tr>\n",
              "  </thead>\n",
              "  <tbody>\n",
              "    <tr>\n",
              "      <th>A</th>\n",
              "      <td>26.0</td>\n",
              "      <td>7500.0</td>\n",
              "      <td>57600.0</td>\n",
              "    </tr>\n",
              "    <tr>\n",
              "      <th>B</th>\n",
              "      <td>26.0</td>\n",
              "      <td>8400.0</td>\n",
              "      <td>55000.0</td>\n",
              "    </tr>\n",
              "    <tr>\n",
              "      <th>C</th>\n",
              "      <td>26.0</td>\n",
              "      <td>8000.0</td>\n",
              "      <td>53000.0</td>\n",
              "    </tr>\n",
              "    <tr>\n",
              "      <th>D</th>\n",
              "      <td>26.0</td>\n",
              "      <td>9000.0</td>\n",
              "      <td>53800.0</td>\n",
              "    </tr>\n",
              "    <tr>\n",
              "      <th>E</th>\n",
              "      <td>26.0</td>\n",
              "      <td>12000.0</td>\n",
              "      <td>59328.0</td>\n",
              "    </tr>\n",
              "    <tr>\n",
              "      <th>F</th>\n",
              "      <td>26.0</td>\n",
              "      <td>15000.0</td>\n",
              "      <td>65000.0</td>\n",
              "    </tr>\n",
              "    <tr>\n",
              "      <th>G</th>\n",
              "      <td>28.0</td>\n",
              "      <td>19375.0</td>\n",
              "      <td>66900.0</td>\n",
              "    </tr>\n",
              "  </tbody>\n",
              "</table>\n",
              "</div>"
            ],
            "text/plain": [
              "            person_age  loan_amnt  person_income\n",
              "loan_grade                                      \n",
              "A                 26.0     7500.0        57600.0\n",
              "B                 26.0     8400.0        55000.0\n",
              "C                 26.0     8000.0        53000.0\n",
              "D                 26.0     9000.0        53800.0\n",
              "E                 26.0    12000.0        59328.0\n",
              "F                 26.0    15000.0        65000.0\n",
              "G                 28.0    19375.0        66900.0"
            ]
          },
          "metadata": {},
          "execution_count": 63
        }
      ]
    },
    {
      "cell_type": "code",
      "metadata": {
        "colab": {
          "base_uri": "https://localhost:8080/",
          "height": 0
        },
        "id": "UKVF8RAbxirx",
        "outputId": "f12c9993-6933-4a1c-dcf9-b6516fcd4136"
      },
      "source": [
        "df_v3_gb_grade.min().round()"
      ],
      "execution_count": 64,
      "outputs": [
        {
          "output_type": "execute_result",
          "data": {
            "text/html": [
              "<div>\n",
              "<style scoped>\n",
              "    .dataframe tbody tr th:only-of-type {\n",
              "        vertical-align: middle;\n",
              "    }\n",
              "\n",
              "    .dataframe tbody tr th {\n",
              "        vertical-align: top;\n",
              "    }\n",
              "\n",
              "    .dataframe thead th {\n",
              "        text-align: right;\n",
              "    }\n",
              "</style>\n",
              "<table border=\"1\" class=\"dataframe\">\n",
              "  <thead>\n",
              "    <tr style=\"text-align: right;\">\n",
              "      <th></th>\n",
              "      <th>person_age</th>\n",
              "      <th>loan_amnt</th>\n",
              "      <th>person_income</th>\n",
              "    </tr>\n",
              "    <tr>\n",
              "      <th>loan_grade</th>\n",
              "      <th></th>\n",
              "      <th></th>\n",
              "      <th></th>\n",
              "    </tr>\n",
              "  </thead>\n",
              "  <tbody>\n",
              "    <tr>\n",
              "      <th>A</th>\n",
              "      <td>20</td>\n",
              "      <td>500</td>\n",
              "      <td>5500</td>\n",
              "    </tr>\n",
              "    <tr>\n",
              "      <th>B</th>\n",
              "      <td>20</td>\n",
              "      <td>500</td>\n",
              "      <td>4080</td>\n",
              "    </tr>\n",
              "    <tr>\n",
              "      <th>C</th>\n",
              "      <td>20</td>\n",
              "      <td>500</td>\n",
              "      <td>4000</td>\n",
              "    </tr>\n",
              "    <tr>\n",
              "      <th>D</th>\n",
              "      <td>20</td>\n",
              "      <td>1000</td>\n",
              "      <td>4800</td>\n",
              "    </tr>\n",
              "    <tr>\n",
              "      <th>E</th>\n",
              "      <td>21</td>\n",
              "      <td>1000</td>\n",
              "      <td>4200</td>\n",
              "    </tr>\n",
              "    <tr>\n",
              "      <th>F</th>\n",
              "      <td>21</td>\n",
              "      <td>1200</td>\n",
              "      <td>14400</td>\n",
              "    </tr>\n",
              "    <tr>\n",
              "      <th>G</th>\n",
              "      <td>22</td>\n",
              "      <td>1600</td>\n",
              "      <td>19200</td>\n",
              "    </tr>\n",
              "  </tbody>\n",
              "</table>\n",
              "</div>"
            ],
            "text/plain": [
              "            person_age  loan_amnt  person_income\n",
              "loan_grade                                      \n",
              "A                   20        500           5500\n",
              "B                   20        500           4080\n",
              "C                   20        500           4000\n",
              "D                   20       1000           4800\n",
              "E                   21       1000           4200\n",
              "F                   21       1200          14400\n",
              "G                   22       1600          19200"
            ]
          },
          "metadata": {},
          "execution_count": 64
        }
      ]
    },
    {
      "cell_type": "code",
      "metadata": {
        "colab": {
          "base_uri": "https://localhost:8080/",
          "height": 0
        },
        "id": "voAyUFzGxoUl",
        "outputId": "76c29884-6614-4b06-bbd5-94046ce16fb5"
      },
      "source": [
        "df_v3_gb_grade.max().round()"
      ],
      "execution_count": 65,
      "outputs": [
        {
          "output_type": "execute_result",
          "data": {
            "text/html": [
              "<div>\n",
              "<style scoped>\n",
              "    .dataframe tbody tr th:only-of-type {\n",
              "        vertical-align: middle;\n",
              "    }\n",
              "\n",
              "    .dataframe tbody tr th {\n",
              "        vertical-align: top;\n",
              "    }\n",
              "\n",
              "    .dataframe thead th {\n",
              "        text-align: right;\n",
              "    }\n",
              "</style>\n",
              "<table border=\"1\" class=\"dataframe\">\n",
              "  <thead>\n",
              "    <tr style=\"text-align: right;\">\n",
              "      <th></th>\n",
              "      <th>person_age</th>\n",
              "      <th>loan_amnt</th>\n",
              "      <th>person_income</th>\n",
              "    </tr>\n",
              "    <tr>\n",
              "      <th>loan_grade</th>\n",
              "      <th></th>\n",
              "      <th></th>\n",
              "      <th></th>\n",
              "    </tr>\n",
              "  </thead>\n",
              "  <tbody>\n",
              "    <tr>\n",
              "      <th>A</th>\n",
              "      <td>84</td>\n",
              "      <td>35000</td>\n",
              "      <td>1900000</td>\n",
              "    </tr>\n",
              "    <tr>\n",
              "      <th>B</th>\n",
              "      <td>80</td>\n",
              "      <td>35000</td>\n",
              "      <td>948000</td>\n",
              "    </tr>\n",
              "    <tr>\n",
              "      <th>C</th>\n",
              "      <td>94</td>\n",
              "      <td>35000</td>\n",
              "      <td>2039784</td>\n",
              "    </tr>\n",
              "    <tr>\n",
              "      <th>D</th>\n",
              "      <td>70</td>\n",
              "      <td>35000</td>\n",
              "      <td>703800</td>\n",
              "    </tr>\n",
              "    <tr>\n",
              "      <th>E</th>\n",
              "      <td>66</td>\n",
              "      <td>35000</td>\n",
              "      <td>648000</td>\n",
              "    </tr>\n",
              "    <tr>\n",
              "      <th>F</th>\n",
              "      <td>51</td>\n",
              "      <td>35000</td>\n",
              "      <td>499800</td>\n",
              "    </tr>\n",
              "    <tr>\n",
              "      <th>G</th>\n",
              "      <td>50</td>\n",
              "      <td>35000</td>\n",
              "      <td>288000</td>\n",
              "    </tr>\n",
              "  </tbody>\n",
              "</table>\n",
              "</div>"
            ],
            "text/plain": [
              "            person_age  loan_amnt  person_income\n",
              "loan_grade                                      \n",
              "A                   84      35000        1900000\n",
              "B                   80      35000         948000\n",
              "C                   94      35000        2039784\n",
              "D                   70      35000         703800\n",
              "E                   66      35000         648000\n",
              "F                   51      35000         499800\n",
              "G                   50      35000         288000"
            ]
          },
          "metadata": {},
          "execution_count": 65
        }
      ]
    },
    {
      "cell_type": "code",
      "metadata": {
        "colab": {
          "base_uri": "https://localhost:8080/",
          "height": 0
        },
        "id": "3EiDJxhTxzTz",
        "outputId": "2180fa77-07b4-4d44-b6e1-d5312cd37436"
      },
      "source": [
        "df_v3_gb_grade.max().round() - df_v3_gb_grade.min().round()"
      ],
      "execution_count": 66,
      "outputs": [
        {
          "output_type": "execute_result",
          "data": {
            "text/html": [
              "<div>\n",
              "<style scoped>\n",
              "    .dataframe tbody tr th:only-of-type {\n",
              "        vertical-align: middle;\n",
              "    }\n",
              "\n",
              "    .dataframe tbody tr th {\n",
              "        vertical-align: top;\n",
              "    }\n",
              "\n",
              "    .dataframe thead th {\n",
              "        text-align: right;\n",
              "    }\n",
              "</style>\n",
              "<table border=\"1\" class=\"dataframe\">\n",
              "  <thead>\n",
              "    <tr style=\"text-align: right;\">\n",
              "      <th></th>\n",
              "      <th>person_age</th>\n",
              "      <th>loan_amnt</th>\n",
              "      <th>person_income</th>\n",
              "    </tr>\n",
              "    <tr>\n",
              "      <th>loan_grade</th>\n",
              "      <th></th>\n",
              "      <th></th>\n",
              "      <th></th>\n",
              "    </tr>\n",
              "  </thead>\n",
              "  <tbody>\n",
              "    <tr>\n",
              "      <th>A</th>\n",
              "      <td>64</td>\n",
              "      <td>34500</td>\n",
              "      <td>1894500</td>\n",
              "    </tr>\n",
              "    <tr>\n",
              "      <th>B</th>\n",
              "      <td>60</td>\n",
              "      <td>34500</td>\n",
              "      <td>943920</td>\n",
              "    </tr>\n",
              "    <tr>\n",
              "      <th>C</th>\n",
              "      <td>74</td>\n",
              "      <td>34500</td>\n",
              "      <td>2035784</td>\n",
              "    </tr>\n",
              "    <tr>\n",
              "      <th>D</th>\n",
              "      <td>50</td>\n",
              "      <td>34000</td>\n",
              "      <td>699000</td>\n",
              "    </tr>\n",
              "    <tr>\n",
              "      <th>E</th>\n",
              "      <td>45</td>\n",
              "      <td>34000</td>\n",
              "      <td>643800</td>\n",
              "    </tr>\n",
              "    <tr>\n",
              "      <th>F</th>\n",
              "      <td>30</td>\n",
              "      <td>33800</td>\n",
              "      <td>485400</td>\n",
              "    </tr>\n",
              "    <tr>\n",
              "      <th>G</th>\n",
              "      <td>28</td>\n",
              "      <td>33400</td>\n",
              "      <td>268800</td>\n",
              "    </tr>\n",
              "  </tbody>\n",
              "</table>\n",
              "</div>"
            ],
            "text/plain": [
              "            person_age  loan_amnt  person_income\n",
              "loan_grade                                      \n",
              "A                   64      34500        1894500\n",
              "B                   60      34500         943920\n",
              "C                   74      34500        2035784\n",
              "D                   50      34000         699000\n",
              "E                   45      34000         643800\n",
              "F                   30      33800         485400\n",
              "G                   28      33400         268800"
            ]
          },
          "metadata": {},
          "execution_count": 66
        }
      ]
    },
    {
      "cell_type": "code",
      "metadata": {
        "id": "KaQHR3JsyLNr"
      },
      "source": [
        "df_v3_gb_grade_person_income = df_v3.groupby('loan_grade')['person_income']"
      ],
      "execution_count": 67,
      "outputs": []
    },
    {
      "cell_type": "code",
      "metadata": {
        "colab": {
          "base_uri": "https://localhost:8080/",
          "height": 0
        },
        "id": "AVvvddfMyPYs",
        "outputId": "9510dcdc-b2c6-4b55-cd9e-19dbb3445dc1"
      },
      "source": [
        "df_v3_gb_grade_person_income.median().plot()"
      ],
      "execution_count": 68,
      "outputs": [
        {
          "output_type": "execute_result",
          "data": {
            "text/plain": [
              "<matplotlib.axes._subplots.AxesSubplot at 0x7fee12118ed0>"
            ]
          },
          "metadata": {},
          "execution_count": 68
        },
        {
          "output_type": "display_data",
          "data": {
            "image/png": "[encoded data removed]",
            "text/plain": [
              "<Figure size 432x288 with 1 Axes>"
            ]
          },
          "metadata": {
            "needs_background": "light"
          }
        }
      ]
    },
    {
      "cell_type": "code",
      "metadata": {
        "colab": {
          "base_uri": "https://localhost:8080/",
          "height": 0
        },
        "id": "5jEf6Ujzox9N",
        "outputId": "70161386-01a7-434b-fa33-c186ac952568"
      },
      "source": [
        "100 * (df_v3_gb_grade.sum() / df_v3_gb_grade.count()).round(2)"
      ],
      "execution_count": 69,
      "outputs": [
        {
          "output_type": "execute_result",
          "data": {
            "text/html": [
              "<div>\n",
              "<style scoped>\n",
              "    .dataframe tbody tr th:only-of-type {\n",
              "        vertical-align: middle;\n",
              "    }\n",
              "\n",
              "    .dataframe tbody tr th {\n",
              "        vertical-align: top;\n",
              "    }\n",
              "\n",
              "    .dataframe thead th {\n",
              "        text-align: right;\n",
              "    }\n",
              "</style>\n",
              "<table border=\"1\" class=\"dataframe\">\n",
              "  <thead>\n",
              "    <tr style=\"text-align: right;\">\n",
              "      <th></th>\n",
              "      <th>person_age</th>\n",
              "      <th>loan_amnt</th>\n",
              "      <th>person_income</th>\n",
              "    </tr>\n",
              "    <tr>\n",
              "      <th>loan_grade</th>\n",
              "      <th></th>\n",
              "      <th></th>\n",
              "      <th></th>\n",
              "    </tr>\n",
              "  </thead>\n",
              "  <tbody>\n",
              "    <tr>\n",
              "      <th>A</th>\n",
              "      <td>2766.0</td>\n",
              "      <td>853821.0</td>\n",
              "      <td>6655657.0</td>\n",
              "    </tr>\n",
              "    <tr>\n",
              "      <th>B</th>\n",
              "      <td>2766.0</td>\n",
              "      <td>999391.0</td>\n",
              "      <td>6633963.0</td>\n",
              "    </tr>\n",
              "    <tr>\n",
              "      <th>C</th>\n",
              "      <td>2776.0</td>\n",
              "      <td>921520.0</td>\n",
              "      <td>6397396.0</td>\n",
              "    </tr>\n",
              "    <tr>\n",
              "      <th>D</th>\n",
              "      <td>2788.0</td>\n",
              "      <td>1084258.0</td>\n",
              "      <td>6366497.0</td>\n",
              "    </tr>\n",
              "    <tr>\n",
              "      <th>E</th>\n",
              "      <td>2787.0</td>\n",
              "      <td>1291585.0</td>\n",
              "      <td>7087311.0</td>\n",
              "    </tr>\n",
              "    <tr>\n",
              "      <th>F</th>\n",
              "      <td>2835.0</td>\n",
              "      <td>1471732.0</td>\n",
              "      <td>7700873.0</td>\n",
              "    </tr>\n",
              "    <tr>\n",
              "      <th>G</th>\n",
              "      <td>2844.0</td>\n",
              "      <td>1719570.0</td>\n",
              "      <td>7677330.0</td>\n",
              "    </tr>\n",
              "  </tbody>\n",
              "</table>\n",
              "</div>"
            ],
            "text/plain": [
              "            person_age  loan_amnt  person_income\n",
              "loan_grade                                      \n",
              "A               2766.0   853821.0      6655657.0\n",
              "B               2766.0   999391.0      6633963.0\n",
              "C               2776.0   921520.0      6397396.0\n",
              "D               2788.0  1084258.0      6366497.0\n",
              "E               2787.0  1291585.0      7087311.0\n",
              "F               2835.0  1471732.0      7700873.0\n",
              "G               2844.0  1719570.0      7677330.0"
            ]
          },
          "metadata": {},
          "execution_count": 69
        }
      ]
    },
    {
      "cell_type": "code",
      "metadata": {
        "id": "kRUEpkEuyrcZ"
      },
      "source": [
        ""
      ],
      "execution_count": 69,
      "outputs": []
    },
    {
      "cell_type": "markdown",
      "metadata": {
        "id": "M2e0Qh2k5oVI"
      },
      "source": [
        "## loan_amnt VALOR DO EMPRÉSTIMO\n",
        "\n",
        "\n",
        "---\n",
        "\n",
        "Base de dados conta com empréstimos entre 500 e 35.000 dólares"
      ]
    },
    {
      "cell_type": "code",
      "metadata": {
        "colab": {
          "base_uri": "https://localhost:8080/"
        },
        "id": "6V6t7d1Q5szr",
        "outputId": "b7a5623e-1e4c-4bd6-9f37-593ecae46d0c"
      },
      "source": [
        "df_v3.loan_amnt.nunique()"
      ],
      "execution_count": 70,
      "outputs": [
        {
          "output_type": "execute_result",
          "data": {
            "text/plain": [
              "753"
            ]
          },
          "metadata": {},
          "execution_count": 70
        }
      ]
    },
    {
      "cell_type": "code",
      "metadata": {
        "colab": {
          "base_uri": "https://localhost:8080/"
        },
        "id": "z-MmtMzG5s2x",
        "outputId": "54c4a9fe-8009-4ac2-e087-52d199a0f21f"
      },
      "source": [
        "df_v3.loan_amnt.describe()"
      ],
      "execution_count": 71,
      "outputs": [
        {
          "output_type": "execute_result",
          "data": {
            "text/plain": [
              "count    32574.000000\n",
              "mean      9588.018051\n",
              "std       6320.249598\n",
              "min        500.000000\n",
              "25%       5000.000000\n",
              "50%       8000.000000\n",
              "75%      12200.000000\n",
              "max      35000.000000\n",
              "Name: loan_amnt, dtype: float64"
            ]
          },
          "metadata": {},
          "execution_count": 71
        }
      ]
    },
    {
      "cell_type": "code",
      "metadata": {
        "id": "czwRIE0_tv_K"
      },
      "source": [
        "df_v3_gb_amnt = df_v3.groupby('loan_intent')['loan_amnt']"
      ],
      "execution_count": 72,
      "outputs": []
    },
    {
      "cell_type": "code",
      "metadata": {
        "colab": {
          "base_uri": "https://localhost:8080/"
        },
        "id": "bRWR7lkyuOG5",
        "outputId": "9a76e4f9-dc4d-48e2-f847-84809b57604b"
      },
      "source": [
        "df_v3_gb_amnt.mean()"
      ],
      "execution_count": 73,
      "outputs": [
        {
          "output_type": "execute_result",
          "data": {
            "text/plain": [
              "loan_intent\n",
              "DEBTCONSOLIDATION     9594.886800\n",
              "EDUCATION             9481.526120\n",
              "HOMEIMPROVEMENT      10360.520111\n",
              "MEDICAL               9259.582441\n",
              "PERSONAL              9569.994564\n",
              "VENTURE               9580.970084\n",
              "Name: loan_amnt, dtype: float64"
            ]
          },
          "metadata": {},
          "execution_count": 73
        }
      ]
    },
    {
      "cell_type": "markdown",
      "metadata": {
        "id": "6ViyIFDu598G"
      },
      "source": [
        "## loan_int_rate TAXA DE JUROS \n",
        "\n",
        "\n",
        "---\n",
        "\n",
        "A Taxa de juros varia conforme o Grau do empréstimo com taxa mínima de 5.42 e máxima de 23.22, sem variações significativas devido ao motivo do empréstimo."
      ]
    },
    {
      "cell_type": "code",
      "metadata": {
        "colab": {
          "base_uri": "https://localhost:8080/"
        },
        "id": "SHsYZAME5-Dl",
        "outputId": "3edd64f2-75f5-4141-afb2-6c4ad9df241e"
      },
      "source": [
        "df_v3.loan_int_rate.nunique()"
      ],
      "execution_count": 74,
      "outputs": [
        {
          "output_type": "execute_result",
          "data": {
            "text/plain": [
              "348"
            ]
          },
          "metadata": {},
          "execution_count": 74
        }
      ]
    },
    {
      "cell_type": "code",
      "metadata": {
        "colab": {
          "base_uri": "https://localhost:8080/"
        },
        "id": "k9pSXV6B5-G2",
        "outputId": "91a7cc21-ec5e-46f1-b4d8-be411a741716"
      },
      "source": [
        "df_v3.loan_int_rate.describe()"
      ],
      "execution_count": 75,
      "outputs": [
        {
          "output_type": "execute_result",
          "data": {
            "text/plain": [
              "count    29459.000000\n",
              "mean        11.011529\n",
              "std          3.240497\n",
              "min          5.420000\n",
              "25%          7.900000\n",
              "50%         10.990000\n",
              "75%         13.470000\n",
              "max         23.220000\n",
              "Name: loan_int_rate, dtype: float64"
            ]
          },
          "metadata": {},
          "execution_count": 75
        }
      ]
    },
    {
      "cell_type": "code",
      "metadata": {
        "colab": {
          "base_uri": "https://localhost:8080/"
        },
        "id": "-Niqsb_L6a_4",
        "outputId": "a53e271a-7b77-4043-97ed-dde281f822fb"
      },
      "source": [
        "df_v3_gb_rate = df_v3.groupby(by=['loan_intent', 'loan_grade'])['loan_int_rate', 'loan_amnt']"
      ],
      "execution_count": 76,
      "outputs": [
        {
          "output_type": "stream",
          "name": "stderr",
          "text": [
            "/usr/local/lib/python3.7/dist-packages/ipykernel_launcher.py:1: FutureWarning: Indexing with multiple keys (implicitly converted to a tuple of keys) will be deprecated, use a list instead.\n",
            "  \"\"\"Entry point for launching an IPython kernel.\n"
          ]
        }
      ]
    },
    {
      "cell_type": "code",
      "metadata": {
        "colab": {
          "base_uri": "https://localhost:8080/",
          "height": 0
        },
        "id": "0Xqb5EUgr80m",
        "outputId": "73ead824-d1e1-4407-82e4-747e502ee8d2"
      },
      "source": [
        "df_v3_gb_rate.min().round(2)"
      ],
      "execution_count": 77,
      "outputs": [
        {
          "output_type": "execute_result",
          "data": {
            "text/html": [
              "<div>\n",
              "<style scoped>\n",
              "    .dataframe tbody tr th:only-of-type {\n",
              "        vertical-align: middle;\n",
              "    }\n",
              "\n",
              "    .dataframe tbody tr th {\n",
              "        vertical-align: top;\n",
              "    }\n",
              "\n",
              "    .dataframe thead th {\n",
              "        text-align: right;\n",
              "    }\n",
              "</style>\n",
              "<table border=\"1\" class=\"dataframe\">\n",
              "  <thead>\n",
              "    <tr style=\"text-align: right;\">\n",
              "      <th></th>\n",
              "      <th></th>\n",
              "      <th>loan_int_rate</th>\n",
              "      <th>loan_amnt</th>\n",
              "    </tr>\n",
              "    <tr>\n",
              "      <th>loan_intent</th>\n",
              "      <th>loan_grade</th>\n",
              "      <th></th>\n",
              "      <th></th>\n",
              "    </tr>\n",
              "  </thead>\n",
              "  <tbody>\n",
              "    <tr>\n",
              "      <th rowspan=\"7\" valign=\"top\">DEBTCONSOLIDATION</th>\n",
              "      <th>A</th>\n",
              "      <td>5.42</td>\n",
              "      <td>500</td>\n",
              "    </tr>\n",
              "    <tr>\n",
              "      <th>B</th>\n",
              "      <td>6.00</td>\n",
              "      <td>1000</td>\n",
              "    </tr>\n",
              "    <tr>\n",
              "      <th>C</th>\n",
              "      <td>6.00</td>\n",
              "      <td>750</td>\n",
              "    </tr>\n",
              "    <tr>\n",
              "      <th>D</th>\n",
              "      <td>6.00</td>\n",
              "      <td>1000</td>\n",
              "    </tr>\n",
              "    <tr>\n",
              "      <th>E</th>\n",
              "      <td>13.75</td>\n",
              "      <td>1000</td>\n",
              "    </tr>\n",
              "    <tr>\n",
              "      <th>F</th>\n",
              "      <td>15.83</td>\n",
              "      <td>2500</td>\n",
              "    </tr>\n",
              "    <tr>\n",
              "      <th>G</th>\n",
              "      <td>18.84</td>\n",
              "      <td>5000</td>\n",
              "    </tr>\n",
              "    <tr>\n",
              "      <th rowspan=\"7\" valign=\"top\">EDUCATION</th>\n",
              "      <th>A</th>\n",
              "      <td>5.42</td>\n",
              "      <td>1000</td>\n",
              "    </tr>\n",
              "    <tr>\n",
              "      <th>B</th>\n",
              "      <td>6.00</td>\n",
              "      <td>1000</td>\n",
              "    </tr>\n",
              "    <tr>\n",
              "      <th>C</th>\n",
              "      <td>10.28</td>\n",
              "      <td>700</td>\n",
              "    </tr>\n",
              "    <tr>\n",
              "      <th>D</th>\n",
              "      <td>11.86</td>\n",
              "      <td>1000</td>\n",
              "    </tr>\n",
              "    <tr>\n",
              "      <th>E</th>\n",
              "      <td>13.75</td>\n",
              "      <td>1500</td>\n",
              "    </tr>\n",
              "    <tr>\n",
              "      <th>F</th>\n",
              "      <td>15.01</td>\n",
              "      <td>2125</td>\n",
              "    </tr>\n",
              "    <tr>\n",
              "      <th>G</th>\n",
              "      <td>18.84</td>\n",
              "      <td>5000</td>\n",
              "    </tr>\n",
              "    <tr>\n",
              "      <th rowspan=\"7\" valign=\"top\">HOMEIMPROVEMENT</th>\n",
              "      <th>A</th>\n",
              "      <td>5.42</td>\n",
              "      <td>1000</td>\n",
              "    </tr>\n",
              "    <tr>\n",
              "      <th>B</th>\n",
              "      <td>8.70</td>\n",
              "      <td>500</td>\n",
              "    </tr>\n",
              "    <tr>\n",
              "      <th>C</th>\n",
              "      <td>10.28</td>\n",
              "      <td>1000</td>\n",
              "    </tr>\n",
              "    <tr>\n",
              "      <th>D</th>\n",
              "      <td>11.86</td>\n",
              "      <td>1000</td>\n",
              "    </tr>\n",
              "    <tr>\n",
              "      <th>E</th>\n",
              "      <td>13.93</td>\n",
              "      <td>1000</td>\n",
              "    </tr>\n",
              "    <tr>\n",
              "      <th>F</th>\n",
              "      <td>15.76</td>\n",
              "      <td>2000</td>\n",
              "    </tr>\n",
              "    <tr>\n",
              "      <th>G</th>\n",
              "      <td>17.34</td>\n",
              "      <td>12500</td>\n",
              "    </tr>\n",
              "    <tr>\n",
              "      <th rowspan=\"7\" valign=\"top\">MEDICAL</th>\n",
              "      <th>A</th>\n",
              "      <td>5.42</td>\n",
              "      <td>900</td>\n",
              "    </tr>\n",
              "    <tr>\n",
              "      <th>B</th>\n",
              "      <td>6.00</td>\n",
              "      <td>950</td>\n",
              "    </tr>\n",
              "    <tr>\n",
              "      <th>C</th>\n",
              "      <td>6.00</td>\n",
              "      <td>500</td>\n",
              "    </tr>\n",
              "    <tr>\n",
              "      <th>D</th>\n",
              "      <td>11.86</td>\n",
              "      <td>1000</td>\n",
              "    </tr>\n",
              "    <tr>\n",
              "      <th>E</th>\n",
              "      <td>6.00</td>\n",
              "      <td>1000</td>\n",
              "    </tr>\n",
              "    <tr>\n",
              "      <th>F</th>\n",
              "      <td>15.01</td>\n",
              "      <td>1200</td>\n",
              "    </tr>\n",
              "    <tr>\n",
              "      <th>G</th>\n",
              "      <td>18.84</td>\n",
              "      <td>2000</td>\n",
              "    </tr>\n",
              "    <tr>\n",
              "      <th rowspan=\"7\" valign=\"top\">PERSONAL</th>\n",
              "      <th>A</th>\n",
              "      <td>5.42</td>\n",
              "      <td>1000</td>\n",
              "    </tr>\n",
              "    <tr>\n",
              "      <th>B</th>\n",
              "      <td>6.00</td>\n",
              "      <td>500</td>\n",
              "    </tr>\n",
              "    <tr>\n",
              "      <th>C</th>\n",
              "      <td>10.28</td>\n",
              "      <td>1000</td>\n",
              "    </tr>\n",
              "    <tr>\n",
              "      <th>D</th>\n",
              "      <td>6.00</td>\n",
              "      <td>1000</td>\n",
              "    </tr>\n",
              "    <tr>\n",
              "      <th>E</th>\n",
              "      <td>13.75</td>\n",
              "      <td>1000</td>\n",
              "    </tr>\n",
              "    <tr>\n",
              "      <th>F</th>\n",
              "      <td>17.58</td>\n",
              "      <td>2000</td>\n",
              "    </tr>\n",
              "    <tr>\n",
              "      <th>G</th>\n",
              "      <td>18.84</td>\n",
              "      <td>5000</td>\n",
              "    </tr>\n",
              "    <tr>\n",
              "      <th rowspan=\"7\" valign=\"top\">VENTURE</th>\n",
              "      <th>A</th>\n",
              "      <td>5.42</td>\n",
              "      <td>800</td>\n",
              "    </tr>\n",
              "    <tr>\n",
              "      <th>B</th>\n",
              "      <td>8.70</td>\n",
              "      <td>1000</td>\n",
              "    </tr>\n",
              "    <tr>\n",
              "      <th>C</th>\n",
              "      <td>10.28</td>\n",
              "      <td>1000</td>\n",
              "    </tr>\n",
              "    <tr>\n",
              "      <th>D</th>\n",
              "      <td>12.17</td>\n",
              "      <td>1000</td>\n",
              "    </tr>\n",
              "    <tr>\n",
              "      <th>E</th>\n",
              "      <td>13.43</td>\n",
              "      <td>1000</td>\n",
              "    </tr>\n",
              "    <tr>\n",
              "      <th>F</th>\n",
              "      <td>15.33</td>\n",
              "      <td>1400</td>\n",
              "    </tr>\n",
              "    <tr>\n",
              "      <th>G</th>\n",
              "      <td>19.16</td>\n",
              "      <td>1600</td>\n",
              "    </tr>\n",
              "  </tbody>\n",
              "</table>\n",
              "</div>"
            ],
            "text/plain": [
              "                              loan_int_rate  loan_amnt\n",
              "loan_intent       loan_grade                          \n",
              "DEBTCONSOLIDATION A                    5.42        500\n",
              "                  B                    6.00       1000\n",
              "                  C                    6.00        750\n",
              "                  D                    6.00       1000\n",
              "                  E                   13.75       1000\n",
              "                  F                   15.83       2500\n",
              "                  G                   18.84       5000\n",
              "EDUCATION         A                    5.42       1000\n",
              "                  B                    6.00       1000\n",
              "                  C                   10.28        700\n",
              "                  D                   11.86       1000\n",
              "                  E                   13.75       1500\n",
              "                  F                   15.01       2125\n",
              "                  G                   18.84       5000\n",
              "HOMEIMPROVEMENT   A                    5.42       1000\n",
              "                  B                    8.70        500\n",
              "                  C                   10.28       1000\n",
              "                  D                   11.86       1000\n",
              "                  E                   13.93       1000\n",
              "                  F                   15.76       2000\n",
              "                  G                   17.34      12500\n",
              "MEDICAL           A                    5.42        900\n",
              "                  B                    6.00        950\n",
              "                  C                    6.00        500\n",
              "                  D                   11.86       1000\n",
              "                  E                    6.00       1000\n",
              "                  F                   15.01       1200\n",
              "                  G                   18.84       2000\n",
              "PERSONAL          A                    5.42       1000\n",
              "                  B                    6.00        500\n",
              "                  C                   10.28       1000\n",
              "                  D                    6.00       1000\n",
              "                  E                   13.75       1000\n",
              "                  F                   17.58       2000\n",
              "                  G                   18.84       5000\n",
              "VENTURE           A                    5.42        800\n",
              "                  B                    8.70       1000\n",
              "                  C                   10.28       1000\n",
              "                  D                   12.17       1000\n",
              "                  E                   13.43       1000\n",
              "                  F                   15.33       1400\n",
              "                  G                   19.16       1600"
            ]
          },
          "metadata": {},
          "execution_count": 77
        }
      ]
    },
    {
      "cell_type": "code",
      "metadata": {
        "colab": {
          "base_uri": "https://localhost:8080/",
          "height": 0
        },
        "id": "XAvqR8QCr_hP",
        "outputId": "c8bf925a-ea78-42f8-a154-687b9000375d"
      },
      "source": [
        "df_v3_gb_rate.max().round(2)"
      ],
      "execution_count": 78,
      "outputs": [
        {
          "output_type": "execute_result",
          "data": {
            "text/html": [
              "<div>\n",
              "<style scoped>\n",
              "    .dataframe tbody tr th:only-of-type {\n",
              "        vertical-align: middle;\n",
              "    }\n",
              "\n",
              "    .dataframe tbody tr th {\n",
              "        vertical-align: top;\n",
              "    }\n",
              "\n",
              "    .dataframe thead th {\n",
              "        text-align: right;\n",
              "    }\n",
              "</style>\n",
              "<table border=\"1\" class=\"dataframe\">\n",
              "  <thead>\n",
              "    <tr style=\"text-align: right;\">\n",
              "      <th></th>\n",
              "      <th></th>\n",
              "      <th>loan_int_rate</th>\n",
              "      <th>loan_amnt</th>\n",
              "    </tr>\n",
              "    <tr>\n",
              "      <th>loan_intent</th>\n",
              "      <th>loan_grade</th>\n",
              "      <th></th>\n",
              "      <th></th>\n",
              "    </tr>\n",
              "  </thead>\n",
              "  <tbody>\n",
              "    <tr>\n",
              "      <th rowspan=\"7\" valign=\"top\">DEBTCONSOLIDATION</th>\n",
              "      <th>A</th>\n",
              "      <td>9.63</td>\n",
              "      <td>35000</td>\n",
              "    </tr>\n",
              "    <tr>\n",
              "      <th>B</th>\n",
              "      <td>12.69</td>\n",
              "      <td>35000</td>\n",
              "    </tr>\n",
              "    <tr>\n",
              "      <th>C</th>\n",
              "      <td>16.11</td>\n",
              "      <td>35000</td>\n",
              "    </tr>\n",
              "    <tr>\n",
              "      <th>D</th>\n",
              "      <td>18.25</td>\n",
              "      <td>35000</td>\n",
              "    </tr>\n",
              "    <tr>\n",
              "      <th>E</th>\n",
              "      <td>20.30</td>\n",
              "      <td>35000</td>\n",
              "    </tr>\n",
              "    <tr>\n",
              "      <th>F</th>\n",
              "      <td>21.36</td>\n",
              "      <td>30000</td>\n",
              "    </tr>\n",
              "    <tr>\n",
              "      <th>G</th>\n",
              "      <td>22.11</td>\n",
              "      <td>35000</td>\n",
              "    </tr>\n",
              "    <tr>\n",
              "      <th rowspan=\"7\" valign=\"top\">EDUCATION</th>\n",
              "      <th>A</th>\n",
              "      <td>9.63</td>\n",
              "      <td>35000</td>\n",
              "    </tr>\n",
              "    <tr>\n",
              "      <th>B</th>\n",
              "      <td>12.69</td>\n",
              "      <td>35000</td>\n",
              "    </tr>\n",
              "    <tr>\n",
              "      <th>C</th>\n",
              "      <td>15.96</td>\n",
              "      <td>35000</td>\n",
              "    </tr>\n",
              "    <tr>\n",
              "      <th>D</th>\n",
              "      <td>18.25</td>\n",
              "      <td>35000</td>\n",
              "    </tr>\n",
              "    <tr>\n",
              "      <th>E</th>\n",
              "      <td>20.20</td>\n",
              "      <td>35000</td>\n",
              "    </tr>\n",
              "    <tr>\n",
              "      <th>F</th>\n",
              "      <td>21.74</td>\n",
              "      <td>25000</td>\n",
              "    </tr>\n",
              "    <tr>\n",
              "      <th>G</th>\n",
              "      <td>21.21</td>\n",
              "      <td>25000</td>\n",
              "    </tr>\n",
              "    <tr>\n",
              "      <th rowspan=\"7\" valign=\"top\">HOMEIMPROVEMENT</th>\n",
              "      <th>A</th>\n",
              "      <td>9.63</td>\n",
              "      <td>35000</td>\n",
              "    </tr>\n",
              "    <tr>\n",
              "      <th>B</th>\n",
              "      <td>12.69</td>\n",
              "      <td>35000</td>\n",
              "    </tr>\n",
              "    <tr>\n",
              "      <th>C</th>\n",
              "      <td>15.96</td>\n",
              "      <td>35000</td>\n",
              "    </tr>\n",
              "    <tr>\n",
              "      <th>D</th>\n",
              "      <td>18.25</td>\n",
              "      <td>35000</td>\n",
              "    </tr>\n",
              "    <tr>\n",
              "      <th>E</th>\n",
              "      <td>20.30</td>\n",
              "      <td>35000</td>\n",
              "    </tr>\n",
              "    <tr>\n",
              "      <th>F</th>\n",
              "      <td>20.25</td>\n",
              "      <td>35000</td>\n",
              "    </tr>\n",
              "    <tr>\n",
              "      <th>G</th>\n",
              "      <td>23.22</td>\n",
              "      <td>25000</td>\n",
              "    </tr>\n",
              "    <tr>\n",
              "      <th rowspan=\"7\" valign=\"top\">MEDICAL</th>\n",
              "      <th>A</th>\n",
              "      <td>9.63</td>\n",
              "      <td>35000</td>\n",
              "    </tr>\n",
              "    <tr>\n",
              "      <th>B</th>\n",
              "      <td>12.69</td>\n",
              "      <td>35000</td>\n",
              "    </tr>\n",
              "    <tr>\n",
              "      <th>C</th>\n",
              "      <td>16.11</td>\n",
              "      <td>35000</td>\n",
              "    </tr>\n",
              "    <tr>\n",
              "      <th>D</th>\n",
              "      <td>18.25</td>\n",
              "      <td>35000</td>\n",
              "    </tr>\n",
              "    <tr>\n",
              "      <th>E</th>\n",
              "      <td>20.69</td>\n",
              "      <td>35000</td>\n",
              "    </tr>\n",
              "    <tr>\n",
              "      <th>F</th>\n",
              "      <td>21.74</td>\n",
              "      <td>35000</td>\n",
              "    </tr>\n",
              "    <tr>\n",
              "      <th>G</th>\n",
              "      <td>21.64</td>\n",
              "      <td>25000</td>\n",
              "    </tr>\n",
              "    <tr>\n",
              "      <th rowspan=\"7\" valign=\"top\">PERSONAL</th>\n",
              "      <th>A</th>\n",
              "      <td>9.63</td>\n",
              "      <td>35000</td>\n",
              "    </tr>\n",
              "    <tr>\n",
              "      <th>B</th>\n",
              "      <td>12.69</td>\n",
              "      <td>35000</td>\n",
              "    </tr>\n",
              "    <tr>\n",
              "      <th>C</th>\n",
              "      <td>15.96</td>\n",
              "      <td>35000</td>\n",
              "    </tr>\n",
              "    <tr>\n",
              "      <th>D</th>\n",
              "      <td>18.49</td>\n",
              "      <td>35000</td>\n",
              "    </tr>\n",
              "    <tr>\n",
              "      <th>E</th>\n",
              "      <td>19.91</td>\n",
              "      <td>35000</td>\n",
              "    </tr>\n",
              "    <tr>\n",
              "      <th>F</th>\n",
              "      <td>21.74</td>\n",
              "      <td>25000</td>\n",
              "    </tr>\n",
              "    <tr>\n",
              "      <th>G</th>\n",
              "      <td>20.86</td>\n",
              "      <td>25000</td>\n",
              "    </tr>\n",
              "    <tr>\n",
              "      <th rowspan=\"7\" valign=\"top\">VENTURE</th>\n",
              "      <th>A</th>\n",
              "      <td>9.63</td>\n",
              "      <td>35000</td>\n",
              "    </tr>\n",
              "    <tr>\n",
              "      <th>B</th>\n",
              "      <td>12.69</td>\n",
              "      <td>35000</td>\n",
              "    </tr>\n",
              "    <tr>\n",
              "      <th>C</th>\n",
              "      <td>16.11</td>\n",
              "      <td>35000</td>\n",
              "    </tr>\n",
              "    <tr>\n",
              "      <th>D</th>\n",
              "      <td>18.25</td>\n",
              "      <td>35000</td>\n",
              "    </tr>\n",
              "    <tr>\n",
              "      <th>E</th>\n",
              "      <td>19.42</td>\n",
              "      <td>35000</td>\n",
              "    </tr>\n",
              "    <tr>\n",
              "      <th>F</th>\n",
              "      <td>22.06</td>\n",
              "      <td>30000</td>\n",
              "    </tr>\n",
              "    <tr>\n",
              "      <th>G</th>\n",
              "      <td>22.48</td>\n",
              "      <td>20500</td>\n",
              "    </tr>\n",
              "  </tbody>\n",
              "</table>\n",
              "</div>"
            ],
            "text/plain": [
              "                              loan_int_rate  loan_amnt\n",
              "loan_intent       loan_grade                          \n",
              "DEBTCONSOLIDATION A                    9.63      35000\n",
              "                  B                   12.69      35000\n",
              "                  C                   16.11      35000\n",
              "                  D                   18.25      35000\n",
              "                  E                   20.30      35000\n",
              "                  F                   21.36      30000\n",
              "                  G                   22.11      35000\n",
              "EDUCATION         A                    9.63      35000\n",
              "                  B                   12.69      35000\n",
              "                  C                   15.96      35000\n",
              "                  D                   18.25      35000\n",
              "                  E                   20.20      35000\n",
              "                  F                   21.74      25000\n",
              "                  G                   21.21      25000\n",
              "HOMEIMPROVEMENT   A                    9.63      35000\n",
              "                  B                   12.69      35000\n",
              "                  C                   15.96      35000\n",
              "                  D                   18.25      35000\n",
              "                  E                   20.30      35000\n",
              "                  F                   20.25      35000\n",
              "                  G                   23.22      25000\n",
              "MEDICAL           A                    9.63      35000\n",
              "                  B                   12.69      35000\n",
              "                  C                   16.11      35000\n",
              "                  D                   18.25      35000\n",
              "                  E                   20.69      35000\n",
              "                  F                   21.74      35000\n",
              "                  G                   21.64      25000\n",
              "PERSONAL          A                    9.63      35000\n",
              "                  B                   12.69      35000\n",
              "                  C                   15.96      35000\n",
              "                  D                   18.49      35000\n",
              "                  E                   19.91      35000\n",
              "                  F                   21.74      25000\n",
              "                  G                   20.86      25000\n",
              "VENTURE           A                    9.63      35000\n",
              "                  B                   12.69      35000\n",
              "                  C                   16.11      35000\n",
              "                  D                   18.25      35000\n",
              "                  E                   19.42      35000\n",
              "                  F                   22.06      30000\n",
              "                  G                   22.48      20500"
            ]
          },
          "metadata": {},
          "execution_count": 78
        }
      ]
    },
    {
      "cell_type": "code",
      "metadata": {
        "colab": {
          "base_uri": "https://localhost:8080/",
          "height": 0
        },
        "id": "S4yn6WQQJ2OW",
        "outputId": "56677922-e20f-4dfc-bfbd-5a6eedd644c9"
      },
      "source": [
        "(df_v3_gb_rate.sum() / df_v3_gb_rate.count()).round(2)"
      ],
      "execution_count": 79,
      "outputs": [
        {
          "output_type": "execute_result",
          "data": {
            "text/html": [
              "<div>\n",
              "<style scoped>\n",
              "    .dataframe tbody tr th:only-of-type {\n",
              "        vertical-align: middle;\n",
              "    }\n",
              "\n",
              "    .dataframe tbody tr th {\n",
              "        vertical-align: top;\n",
              "    }\n",
              "\n",
              "    .dataframe thead th {\n",
              "        text-align: right;\n",
              "    }\n",
              "</style>\n",
              "<table border=\"1\" class=\"dataframe\">\n",
              "  <thead>\n",
              "    <tr style=\"text-align: right;\">\n",
              "      <th></th>\n",
              "      <th></th>\n",
              "      <th>loan_int_rate</th>\n",
              "      <th>loan_amnt</th>\n",
              "    </tr>\n",
              "    <tr>\n",
              "      <th>loan_intent</th>\n",
              "      <th>loan_grade</th>\n",
              "      <th></th>\n",
              "      <th></th>\n",
              "    </tr>\n",
              "  </thead>\n",
              "  <tbody>\n",
              "    <tr>\n",
              "      <th rowspan=\"7\" valign=\"top\">DEBTCONSOLIDATION</th>\n",
              "      <th>A</th>\n",
              "      <td>7.33</td>\n",
              "      <td>8544.07</td>\n",
              "    </tr>\n",
              "    <tr>\n",
              "      <th>B</th>\n",
              "      <td>10.99</td>\n",
              "      <td>10143.69</td>\n",
              "    </tr>\n",
              "    <tr>\n",
              "      <th>C</th>\n",
              "      <td>13.46</td>\n",
              "      <td>9150.22</td>\n",
              "    </tr>\n",
              "    <tr>\n",
              "      <th>D</th>\n",
              "      <td>15.39</td>\n",
              "      <td>10717.62</td>\n",
              "    </tr>\n",
              "    <tr>\n",
              "      <th>E</th>\n",
              "      <td>17.01</td>\n",
              "      <td>12576.04</td>\n",
              "    </tr>\n",
              "    <tr>\n",
              "      <th>F</th>\n",
              "      <td>18.57</td>\n",
              "      <td>14670.35</td>\n",
              "    </tr>\n",
              "    <tr>\n",
              "      <th>G</th>\n",
              "      <td>20.33</td>\n",
              "      <td>19115.00</td>\n",
              "    </tr>\n",
              "    <tr>\n",
              "      <th rowspan=\"7\" valign=\"top\">EDUCATION</th>\n",
              "      <th>A</th>\n",
              "      <td>7.37</td>\n",
              "      <td>8496.81</td>\n",
              "    </tr>\n",
              "    <tr>\n",
              "      <th>B</th>\n",
              "      <td>11.00</td>\n",
              "      <td>10025.64</td>\n",
              "    </tr>\n",
              "    <tr>\n",
              "      <th>C</th>\n",
              "      <td>13.43</td>\n",
              "      <td>8897.09</td>\n",
              "    </tr>\n",
              "    <tr>\n",
              "      <th>D</th>\n",
              "      <td>15.31</td>\n",
              "      <td>10886.72</td>\n",
              "    </tr>\n",
              "    <tr>\n",
              "      <th>E</th>\n",
              "      <td>17.02</td>\n",
              "      <td>12765.14</td>\n",
              "    </tr>\n",
              "    <tr>\n",
              "      <th>F</th>\n",
              "      <td>18.40</td>\n",
              "      <td>14332.07</td>\n",
              "    </tr>\n",
              "    <tr>\n",
              "      <th>G</th>\n",
              "      <td>20.08</td>\n",
              "      <td>18166.67</td>\n",
              "    </tr>\n",
              "    <tr>\n",
              "      <th rowspan=\"7\" valign=\"top\">HOMEIMPROVEMENT</th>\n",
              "      <th>A</th>\n",
              "      <td>7.26</td>\n",
              "      <td>8886.55</td>\n",
              "    </tr>\n",
              "    <tr>\n",
              "      <th>B</th>\n",
              "      <td>10.99</td>\n",
              "      <td>10837.58</td>\n",
              "    </tr>\n",
              "    <tr>\n",
              "      <th>C</th>\n",
              "      <td>13.44</td>\n",
              "      <td>10035.50</td>\n",
              "    </tr>\n",
              "    <tr>\n",
              "      <th>D</th>\n",
              "      <td>15.27</td>\n",
              "      <td>11388.71</td>\n",
              "    </tr>\n",
              "    <tr>\n",
              "      <th>E</th>\n",
              "      <td>17.24</td>\n",
              "      <td>14144.93</td>\n",
              "    </tr>\n",
              "    <tr>\n",
              "      <th>F</th>\n",
              "      <td>18.21</td>\n",
              "      <td>16875.78</td>\n",
              "    </tr>\n",
              "    <tr>\n",
              "      <th>G</th>\n",
              "      <td>20.17</td>\n",
              "      <td>21763.89</td>\n",
              "    </tr>\n",
              "    <tr>\n",
              "      <th rowspan=\"7\" valign=\"top\">MEDICAL</th>\n",
              "      <th>A</th>\n",
              "      <td>7.34</td>\n",
              "      <td>8301.01</td>\n",
              "    </tr>\n",
              "    <tr>\n",
              "      <th>B</th>\n",
              "      <td>10.99</td>\n",
              "      <td>9474.12</td>\n",
              "    </tr>\n",
              "    <tr>\n",
              "      <th>C</th>\n",
              "      <td>13.47</td>\n",
              "      <td>8927.59</td>\n",
              "    </tr>\n",
              "    <tr>\n",
              "      <th>D</th>\n",
              "      <td>15.41</td>\n",
              "      <td>10630.97</td>\n",
              "    </tr>\n",
              "    <tr>\n",
              "      <th>E</th>\n",
              "      <td>17.08</td>\n",
              "      <td>12925.90</td>\n",
              "    </tr>\n",
              "    <tr>\n",
              "      <th>F</th>\n",
              "      <td>18.56</td>\n",
              "      <td>14355.77</td>\n",
              "    </tr>\n",
              "    <tr>\n",
              "      <th>G</th>\n",
              "      <td>20.29</td>\n",
              "      <td>15250.00</td>\n",
              "    </tr>\n",
              "    <tr>\n",
              "      <th rowspan=\"7\" valign=\"top\">PERSONAL</th>\n",
              "      <th>A</th>\n",
              "      <td>7.33</td>\n",
              "      <td>8601.71</td>\n",
              "    </tr>\n",
              "    <tr>\n",
              "      <th>B</th>\n",
              "      <td>11.00</td>\n",
              "      <td>9753.52</td>\n",
              "    </tr>\n",
              "    <tr>\n",
              "      <th>C</th>\n",
              "      <td>13.48</td>\n",
              "      <td>9500.74</td>\n",
              "    </tr>\n",
              "    <tr>\n",
              "      <th>D</th>\n",
              "      <td>15.37</td>\n",
              "      <td>10846.96</td>\n",
              "    </tr>\n",
              "    <tr>\n",
              "      <th>E</th>\n",
              "      <td>16.99</td>\n",
              "      <td>12553.74</td>\n",
              "    </tr>\n",
              "    <tr>\n",
              "      <th>F</th>\n",
              "      <td>19.25</td>\n",
              "      <td>14752.50</td>\n",
              "    </tr>\n",
              "    <tr>\n",
              "      <th>G</th>\n",
              "      <td>19.89</td>\n",
              "      <td>19535.00</td>\n",
              "    </tr>\n",
              "    <tr>\n",
              "      <th rowspan=\"7\" valign=\"top\">VENTURE</th>\n",
              "      <th>A</th>\n",
              "      <td>7.31</td>\n",
              "      <td>8556.77</td>\n",
              "    </tr>\n",
              "    <tr>\n",
              "      <th>B</th>\n",
              "      <td>11.01</td>\n",
              "      <td>10117.45</td>\n",
              "    </tr>\n",
              "    <tr>\n",
              "      <th>C</th>\n",
              "      <td>13.50</td>\n",
              "      <td>9199.09</td>\n",
              "    </tr>\n",
              "    <tr>\n",
              "      <th>D</th>\n",
              "      <td>15.40</td>\n",
              "      <td>10698.75</td>\n",
              "    </tr>\n",
              "    <tr>\n",
              "      <th>E</th>\n",
              "      <td>16.78</td>\n",
              "      <td>12649.58</td>\n",
              "    </tr>\n",
              "    <tr>\n",
              "      <th>F</th>\n",
              "      <td>18.78</td>\n",
              "      <td>13886.18</td>\n",
              "    </tr>\n",
              "    <tr>\n",
              "      <th>G</th>\n",
              "      <td>20.66</td>\n",
              "      <td>12260.71</td>\n",
              "    </tr>\n",
              "  </tbody>\n",
              "</table>\n",
              "</div>"
            ],
            "text/plain": [
              "                              loan_int_rate  loan_amnt\n",
              "loan_intent       loan_grade                          \n",
              "DEBTCONSOLIDATION A                    7.33    8544.07\n",
              "                  B                   10.99   10143.69\n",
              "                  C                   13.46    9150.22\n",
              "                  D                   15.39   10717.62\n",
              "                  E                   17.01   12576.04\n",
              "                  F                   18.57   14670.35\n",
              "                  G                   20.33   19115.00\n",
              "EDUCATION         A                    7.37    8496.81\n",
              "                  B                   11.00   10025.64\n",
              "                  C                   13.43    8897.09\n",
              "                  D                   15.31   10886.72\n",
              "                  E                   17.02   12765.14\n",
              "                  F                   18.40   14332.07\n",
              "                  G                   20.08   18166.67\n",
              "HOMEIMPROVEMENT   A                    7.26    8886.55\n",
              "                  B                   10.99   10837.58\n",
              "                  C                   13.44   10035.50\n",
              "                  D                   15.27   11388.71\n",
              "                  E                   17.24   14144.93\n",
              "                  F                   18.21   16875.78\n",
              "                  G                   20.17   21763.89\n",
              "MEDICAL           A                    7.34    8301.01\n",
              "                  B                   10.99    9474.12\n",
              "                  C                   13.47    8927.59\n",
              "                  D                   15.41   10630.97\n",
              "                  E                   17.08   12925.90\n",
              "                  F                   18.56   14355.77\n",
              "                  G                   20.29   15250.00\n",
              "PERSONAL          A                    7.33    8601.71\n",
              "                  B                   11.00    9753.52\n",
              "                  C                   13.48    9500.74\n",
              "                  D                   15.37   10846.96\n",
              "                  E                   16.99   12553.74\n",
              "                  F                   19.25   14752.50\n",
              "                  G                   19.89   19535.00\n",
              "VENTURE           A                    7.31    8556.77\n",
              "                  B                   11.01   10117.45\n",
              "                  C                   13.50    9199.09\n",
              "                  D                   15.40   10698.75\n",
              "                  E                   16.78   12649.58\n",
              "                  F                   18.78   13886.18\n",
              "                  G                   20.66   12260.71"
            ]
          },
          "metadata": {},
          "execution_count": 79
        }
      ]
    },
    {
      "cell_type": "markdown",
      "metadata": {
        "id": "Gni3EJ48MFdA"
      },
      "source": [
        "## loan_percent_income PERCENTUAL DO EMPRÉSTIMO RELATIVO A RENDA\n",
        "\n",
        "\n",
        "---\n",
        "\n",
        "Minimo: ~0% | Máximo: 83%\n",
        "\n",
        "\n",
        "---\n",
        "\n",
        "CONFIRMADO. Teste para confirmar que o % de empréstimo sobre a renda pode ser calculado pela divisão entre as colunas loan_amnt / person_income\n",
        "\n",
        "\n"
      ]
    },
    {
      "cell_type": "code",
      "metadata": {
        "id": "1ITsCD1RMP6f",
        "colab": {
          "base_uri": "https://localhost:8080/"
        },
        "outputId": "24994820-9fad-4b15-970e-c02f7d0697a2"
      },
      "source": [
        "df_v3.loan_percent_income.nunique()"
      ],
      "execution_count": 80,
      "outputs": [
        {
          "output_type": "execute_result",
          "data": {
            "text/plain": [
              "77"
            ]
          },
          "metadata": {},
          "execution_count": 80
        }
      ]
    },
    {
      "cell_type": "code",
      "metadata": {
        "id": "rr9eCVT-MP9I",
        "colab": {
          "base_uri": "https://localhost:8080/"
        },
        "outputId": "68ea9142-e3dd-4985-e075-5e3b289515d2"
      },
      "source": [
        "df_v3.loan_percent_income.describe().round(9)"
      ],
      "execution_count": 81,
      "outputs": [
        {
          "output_type": "execute_result",
          "data": {
            "text/plain": [
              "count    32574.000000\n",
              "mean         0.170202\n",
              "std          0.106755\n",
              "min          0.000000\n",
              "25%          0.090000\n",
              "50%          0.150000\n",
              "75%          0.230000\n",
              "max          0.830000\n",
              "Name: loan_percent_income, dtype: float64"
            ]
          },
          "metadata": {},
          "execution_count": 81
        }
      ]
    },
    {
      "cell_type": "code",
      "metadata": {
        "id": "QcGJSk7rMQBM"
      },
      "source": [
        "df_test_percent = df_v3.loc[df_v3['loan_percent_income'] == 0.0,['loan_amnt', 'person_income', 'loan_percent_income']]"
      ],
      "execution_count": 82,
      "outputs": []
    },
    {
      "cell_type": "code",
      "metadata": {
        "id": "HWu41P2HTQVX"
      },
      "source": [
        "df_test_percent_min = df_v3.loc[df_v3['loan_percent_income'] == 0.0,['loan_amnt', 'person_income', 'loan_percent_income']]"
      ],
      "execution_count": 83,
      "outputs": []
    },
    {
      "cell_type": "code",
      "metadata": {
        "id": "8yXK5WRJTXsM"
      },
      "source": [
        "df_test_percent_max = df_v3.loc[df_v3['loan_percent_income'] > 0.7,['loan_amnt', 'person_income', 'loan_percent_income']]"
      ],
      "execution_count": 84,
      "outputs": []
    },
    {
      "cell_type": "code",
      "metadata": {
        "id": "wmxpRH-0TdG7"
      },
      "source": [
        "df_test_percent_concat = pd.concat([df_test_percent_min, df_test_percent_max])"
      ],
      "execution_count": 85,
      "outputs": []
    },
    {
      "cell_type": "code",
      "metadata": {
        "id": "AYDOK3bMN7n-",
        "colab": {
          "base_uri": "https://localhost:8080/",
          "height": 0
        },
        "outputId": "6375ee90-a377-45ae-d5ea-c80d68c13900"
      },
      "source": [
        "df_test_percent_concat"
      ],
      "execution_count": 86,
      "outputs": [
        {
          "output_type": "execute_result",
          "data": {
            "text/html": [
              "<div>\n",
              "<style scoped>\n",
              "    .dataframe tbody tr th:only-of-type {\n",
              "        vertical-align: middle;\n",
              "    }\n",
              "\n",
              "    .dataframe tbody tr th {\n",
              "        vertical-align: top;\n",
              "    }\n",
              "\n",
              "    .dataframe thead th {\n",
              "        text-align: right;\n",
              "    }\n",
              "</style>\n",
              "<table border=\"1\" class=\"dataframe\">\n",
              "  <thead>\n",
              "    <tr style=\"text-align: right;\">\n",
              "      <th></th>\n",
              "      <th>loan_amnt</th>\n",
              "      <th>person_income</th>\n",
              "      <th>loan_percent_income</th>\n",
              "    </tr>\n",
              "  </thead>\n",
              "  <tbody>\n",
              "    <tr>\n",
              "      <th>17834</th>\n",
              "      <td>2000</td>\n",
              "      <td>948000</td>\n",
              "      <td>0.00</td>\n",
              "    </tr>\n",
              "    <tr>\n",
              "      <th>18917</th>\n",
              "      <td>1800</td>\n",
              "      <td>510000</td>\n",
              "      <td>0.00</td>\n",
              "    </tr>\n",
              "    <tr>\n",
              "      <th>27877</th>\n",
              "      <td>2500</td>\n",
              "      <td>522000</td>\n",
              "      <td>0.00</td>\n",
              "    </tr>\n",
              "    <tr>\n",
              "      <th>30049</th>\n",
              "      <td>8450</td>\n",
              "      <td>2039784</td>\n",
              "      <td>0.00</td>\n",
              "    </tr>\n",
              "    <tr>\n",
              "      <th>31916</th>\n",
              "      <td>1000</td>\n",
              "      <td>780000</td>\n",
              "      <td>0.00</td>\n",
              "    </tr>\n",
              "    <tr>\n",
              "      <th>31922</th>\n",
              "      <td>6600</td>\n",
              "      <td>1362000</td>\n",
              "      <td>0.00</td>\n",
              "    </tr>\n",
              "    <tr>\n",
              "      <th>31924</th>\n",
              "      <td>6400</td>\n",
              "      <td>1440000</td>\n",
              "      <td>0.00</td>\n",
              "    </tr>\n",
              "    <tr>\n",
              "      <th>32546</th>\n",
              "      <td>1500</td>\n",
              "      <td>1900000</td>\n",
              "      <td>0.00</td>\n",
              "    </tr>\n",
              "    <tr>\n",
              "      <th>460</th>\n",
              "      <td>13000</td>\n",
              "      <td>18000</td>\n",
              "      <td>0.72</td>\n",
              "    </tr>\n",
              "    <tr>\n",
              "      <th>571</th>\n",
              "      <td>15000</td>\n",
              "      <td>19500</td>\n",
              "      <td>0.77</td>\n",
              "    </tr>\n",
              "    <tr>\n",
              "      <th>577</th>\n",
              "      <td>20050</td>\n",
              "      <td>26000</td>\n",
              "      <td>0.77</td>\n",
              "    </tr>\n",
              "    <tr>\n",
              "      <th>640</th>\n",
              "      <td>16600</td>\n",
              "      <td>20000</td>\n",
              "      <td>0.83</td>\n",
              "    </tr>\n",
              "    <tr>\n",
              "      <th>2452</th>\n",
              "      <td>22750</td>\n",
              "      <td>32004</td>\n",
              "      <td>0.71</td>\n",
              "    </tr>\n",
              "    <tr>\n",
              "      <th>10007</th>\n",
              "      <td>9250</td>\n",
              "      <td>13000</td>\n",
              "      <td>0.71</td>\n",
              "    </tr>\n",
              "    <tr>\n",
              "      <th>18203</th>\n",
              "      <td>24250</td>\n",
              "      <td>32004</td>\n",
              "      <td>0.76</td>\n",
              "    </tr>\n",
              "    <tr>\n",
              "      <th>23727</th>\n",
              "      <td>9325</td>\n",
              "      <td>12000</td>\n",
              "      <td>0.78</td>\n",
              "    </tr>\n",
              "    <tr>\n",
              "      <th>27878</th>\n",
              "      <td>7200</td>\n",
              "      <td>10080</td>\n",
              "      <td>0.71</td>\n",
              "    </tr>\n",
              "  </tbody>\n",
              "</table>\n",
              "</div>"
            ],
            "text/plain": [
              "       loan_amnt  person_income  loan_percent_income\n",
              "17834       2000         948000                 0.00\n",
              "18917       1800         510000                 0.00\n",
              "27877       2500         522000                 0.00\n",
              "30049       8450        2039784                 0.00\n",
              "31916       1000         780000                 0.00\n",
              "31922       6600        1362000                 0.00\n",
              "31924       6400        1440000                 0.00\n",
              "32546       1500        1900000                 0.00\n",
              "460        13000          18000                 0.72\n",
              "571        15000          19500                 0.77\n",
              "577        20050          26000                 0.77\n",
              "640        16600          20000                 0.83\n",
              "2452       22750          32004                 0.71\n",
              "10007       9250          13000                 0.71\n",
              "18203      24250          32004                 0.76\n",
              "23727       9325          12000                 0.78\n",
              "27878       7200          10080                 0.71"
            ]
          },
          "metadata": {},
          "execution_count": 86
        }
      ]
    },
    {
      "cell_type": "code",
      "metadata": {
        "id": "WbUNo1B2Pz3r"
      },
      "source": [
        "df_test_percent_concat['test_column'] = (df_test_percent_concat['loan_amnt'] / df_test_percent_concat['person_income']).round(2)"
      ],
      "execution_count": 87,
      "outputs": []
    },
    {
      "cell_type": "code",
      "metadata": {
        "id": "yrPCHOBKP89U",
        "colab": {
          "base_uri": "https://localhost:8080/",
          "height": 0
        },
        "outputId": "7c58985f-86fd-4a02-e3cd-17a91cd0b583"
      },
      "source": [
        "df_test_percent_concat"
      ],
      "execution_count": 88,
      "outputs": [
        {
          "output_type": "execute_result",
          "data": {
            "text/html": [
              "<div>\n",
              "<style scoped>\n",
              "    .dataframe tbody tr th:only-of-type {\n",
              "        vertical-align: middle;\n",
              "    }\n",
              "\n",
              "    .dataframe tbody tr th {\n",
              "        vertical-align: top;\n",
              "    }\n",
              "\n",
              "    .dataframe thead th {\n",
              "        text-align: right;\n",
              "    }\n",
              "</style>\n",
              "<table border=\"1\" class=\"dataframe\">\n",
              "  <thead>\n",
              "    <tr style=\"text-align: right;\">\n",
              "      <th></th>\n",
              "      <th>loan_amnt</th>\n",
              "      <th>person_income</th>\n",
              "      <th>loan_percent_income</th>\n",
              "      <th>test_column</th>\n",
              "    </tr>\n",
              "  </thead>\n",
              "  <tbody>\n",
              "    <tr>\n",
              "      <th>17834</th>\n",
              "      <td>2000</td>\n",
              "      <td>948000</td>\n",
              "      <td>0.00</td>\n",
              "      <td>0.00</td>\n",
              "    </tr>\n",
              "    <tr>\n",
              "      <th>18917</th>\n",
              "      <td>1800</td>\n",
              "      <td>510000</td>\n",
              "      <td>0.00</td>\n",
              "      <td>0.00</td>\n",
              "    </tr>\n",
              "    <tr>\n",
              "      <th>27877</th>\n",
              "      <td>2500</td>\n",
              "      <td>522000</td>\n",
              "      <td>0.00</td>\n",
              "      <td>0.00</td>\n",
              "    </tr>\n",
              "    <tr>\n",
              "      <th>30049</th>\n",
              "      <td>8450</td>\n",
              "      <td>2039784</td>\n",
              "      <td>0.00</td>\n",
              "      <td>0.00</td>\n",
              "    </tr>\n",
              "    <tr>\n",
              "      <th>31916</th>\n",
              "      <td>1000</td>\n",
              "      <td>780000</td>\n",
              "      <td>0.00</td>\n",
              "      <td>0.00</td>\n",
              "    </tr>\n",
              "    <tr>\n",
              "      <th>31922</th>\n",
              "      <td>6600</td>\n",
              "      <td>1362000</td>\n",
              "      <td>0.00</td>\n",
              "      <td>0.00</td>\n",
              "    </tr>\n",
              "    <tr>\n",
              "      <th>31924</th>\n",
              "      <td>6400</td>\n",
              "      <td>1440000</td>\n",
              "      <td>0.00</td>\n",
              "      <td>0.00</td>\n",
              "    </tr>\n",
              "    <tr>\n",
              "      <th>32546</th>\n",
              "      <td>1500</td>\n",
              "      <td>1900000</td>\n",
              "      <td>0.00</td>\n",
              "      <td>0.00</td>\n",
              "    </tr>\n",
              "    <tr>\n",
              "      <th>460</th>\n",
              "      <td>13000</td>\n",
              "      <td>18000</td>\n",
              "      <td>0.72</td>\n",
              "      <td>0.72</td>\n",
              "    </tr>\n",
              "    <tr>\n",
              "      <th>571</th>\n",
              "      <td>15000</td>\n",
              "      <td>19500</td>\n",
              "      <td>0.77</td>\n",
              "      <td>0.77</td>\n",
              "    </tr>\n",
              "    <tr>\n",
              "      <th>577</th>\n",
              "      <td>20050</td>\n",
              "      <td>26000</td>\n",
              "      <td>0.77</td>\n",
              "      <td>0.77</td>\n",
              "    </tr>\n",
              "    <tr>\n",
              "      <th>640</th>\n",
              "      <td>16600</td>\n",
              "      <td>20000</td>\n",
              "      <td>0.83</td>\n",
              "      <td>0.83</td>\n",
              "    </tr>\n",
              "    <tr>\n",
              "      <th>2452</th>\n",
              "      <td>22750</td>\n",
              "      <td>32004</td>\n",
              "      <td>0.71</td>\n",
              "      <td>0.71</td>\n",
              "    </tr>\n",
              "    <tr>\n",
              "      <th>10007</th>\n",
              "      <td>9250</td>\n",
              "      <td>13000</td>\n",
              "      <td>0.71</td>\n",
              "      <td>0.71</td>\n",
              "    </tr>\n",
              "    <tr>\n",
              "      <th>18203</th>\n",
              "      <td>24250</td>\n",
              "      <td>32004</td>\n",
              "      <td>0.76</td>\n",
              "      <td>0.76</td>\n",
              "    </tr>\n",
              "    <tr>\n",
              "      <th>23727</th>\n",
              "      <td>9325</td>\n",
              "      <td>12000</td>\n",
              "      <td>0.78</td>\n",
              "      <td>0.78</td>\n",
              "    </tr>\n",
              "    <tr>\n",
              "      <th>27878</th>\n",
              "      <td>7200</td>\n",
              "      <td>10080</td>\n",
              "      <td>0.71</td>\n",
              "      <td>0.71</td>\n",
              "    </tr>\n",
              "  </tbody>\n",
              "</table>\n",
              "</div>"
            ],
            "text/plain": [
              "       loan_amnt  person_income  loan_percent_income  test_column\n",
              "17834       2000         948000                 0.00         0.00\n",
              "18917       1800         510000                 0.00         0.00\n",
              "27877       2500         522000                 0.00         0.00\n",
              "30049       8450        2039784                 0.00         0.00\n",
              "31916       1000         780000                 0.00         0.00\n",
              "31922       6600        1362000                 0.00         0.00\n",
              "31924       6400        1440000                 0.00         0.00\n",
              "32546       1500        1900000                 0.00         0.00\n",
              "460        13000          18000                 0.72         0.72\n",
              "571        15000          19500                 0.77         0.77\n",
              "577        20050          26000                 0.77         0.77\n",
              "640        16600          20000                 0.83         0.83\n",
              "2452       22750          32004                 0.71         0.71\n",
              "10007       9250          13000                 0.71         0.71\n",
              "18203      24250          32004                 0.76         0.76\n",
              "23727       9325          12000                 0.78         0.78\n",
              "27878       7200          10080                 0.71         0.71"
            ]
          },
          "metadata": {},
          "execution_count": 88
        }
      ]
    },
    {
      "cell_type": "markdown",
      "metadata": {
        "id": "LOWyNsGKKh2u"
      },
      "source": [
        "## loan_status STATUS DO EMPRÉSTIMO\n",
        "\n",
        "\n",
        "---\n",
        "\n",
        "(0 is non default 1 is default) (default = Inadimplente)\n",
        "\n",
        "\n",
        "---\n",
        "\n",
        "\n",
        "0: 25467 registros | 1: 7107 registros"
      ]
    },
    {
      "cell_type": "code",
      "metadata": {
        "id": "7fd16EcqKqr0",
        "colab": {
          "base_uri": "https://localhost:8080/"
        },
        "outputId": "4411f547-6d8e-4fd6-ac8c-48dd8ca49c65"
      },
      "source": [
        "df_v3.loan_status.nunique()"
      ],
      "execution_count": 89,
      "outputs": [
        {
          "output_type": "execute_result",
          "data": {
            "text/plain": [
              "2"
            ]
          },
          "metadata": {},
          "execution_count": 89
        }
      ]
    },
    {
      "cell_type": "code",
      "metadata": {
        "id": "p3WcPAgvKqum",
        "colab": {
          "base_uri": "https://localhost:8080/"
        },
        "outputId": "4826d457-a180-41a6-e297-3c92b41cb40b"
      },
      "source": [
        "df_v3.loan_status.unique()"
      ],
      "execution_count": 90,
      "outputs": [
        {
          "output_type": "execute_result",
          "data": {
            "text/plain": [
              "array([0, 1])"
            ]
          },
          "metadata": {},
          "execution_count": 90
        }
      ]
    },
    {
      "cell_type": "code",
      "metadata": {
        "id": "A_FFfQNBKqzC",
        "colab": {
          "base_uri": "https://localhost:8080/"
        },
        "outputId": "1a24d69b-e8e1-4184-8c88-e27256617b15"
      },
      "source": [
        "df_v3.loan_status.value_counts()"
      ],
      "execution_count": 91,
      "outputs": [
        {
          "output_type": "execute_result",
          "data": {
            "text/plain": [
              "0    25467\n",
              "1     7107\n",
              "Name: loan_status, dtype: int64"
            ]
          },
          "metadata": {},
          "execution_count": 91
        }
      ]
    },
    {
      "cell_type": "code",
      "metadata": {
        "id": "cLhirMNo3l0K"
      },
      "source": [
        "df_v3_gb_loan_status_grade = df_v3.groupby(by=['loan_grade', 'loan_status'])['person_age']"
      ],
      "execution_count": 92,
      "outputs": []
    },
    {
      "cell_type": "code",
      "metadata": {
        "id": "R-mN4UaYiGJE"
      },
      "source": [
        "linhas_v3, cols_v3 = df_v3.shape"
      ],
      "execution_count": 93,
      "outputs": []
    },
    {
      "cell_type": "code",
      "metadata": {
        "colab": {
          "base_uri": "https://localhost:8080/"
        },
        "id": "8OqvDhha4CcP",
        "outputId": "6e499466-0c83-436e-940d-9fa0d0be5b80"
      },
      "source": [
        "100 * (df_v3_gb_loan_status_grade.count() / linhas_v3).round(5)"
      ],
      "execution_count": 94,
      "outputs": [
        {
          "output_type": "execute_result",
          "data": {
            "text/plain": [
              "loan_grade  loan_status\n",
              "A           0              29.788\n",
              "            1               3.294\n",
              "B           0              26.853\n",
              "            1               5.222\n",
              "C           0              15.709\n",
              "            1               4.111\n",
              "D           0               4.559\n",
              "            1               6.570\n",
              "E           0               1.053\n",
              "            1               1.906\n",
              "F           0               0.218\n",
              "            1               0.522\n",
              "G           0               0.003\n",
              "            1               0.193\n",
              "Name: person_age, dtype: float64"
            ]
          },
          "metadata": {},
          "execution_count": 94
        }
      ]
    },
    {
      "cell_type": "code",
      "metadata": {
        "id": "1ytwtQf17lg1"
      },
      "source": [
        "df_v3_gb_loan_status_tax = df_v3.groupby('loan_grade')['loan_int_rate']"
      ],
      "execution_count": 95,
      "outputs": []
    },
    {
      "cell_type": "code",
      "metadata": {
        "colab": {
          "base_uri": "https://localhost:8080/"
        },
        "id": "PIH4_FCw7vhV",
        "outputId": "09f85fcb-e3e3-4ed6-c500-76cbcf29a474"
      },
      "source": [
        "df_v3_gb_loan_status_tax.count()"
      ],
      "execution_count": 96,
      "outputs": [
        {
          "output_type": "execute_result",
          "data": {
            "text/plain": [
              "loan_grade\n",
              "A    9773\n",
              "B    9393\n",
              "C    5826\n",
              "D    3313\n",
              "E     881\n",
              "F     214\n",
              "G      59\n",
              "Name: loan_int_rate, dtype: int64"
            ]
          },
          "metadata": {},
          "execution_count": 96
        }
      ]
    },
    {
      "cell_type": "markdown",
      "metadata": {
        "id": "4Uf3sjk2UxKZ"
      },
      "source": [
        "## cb_person_cred_hist_length SCORE DE CRÉDITO\n",
        "\n",
        "\n",
        "---\n",
        "Mín: 2 | Máx: 30"
      ]
    },
    {
      "cell_type": "code",
      "metadata": {
        "id": "k_Etx32tUxBE",
        "colab": {
          "base_uri": "https://localhost:8080/"
        },
        "outputId": "00b86741-1fa1-4aab-e726-9e519e289a65"
      },
      "source": [
        "df_v3['cb_person_cred_hist_length'].nunique()"
      ],
      "execution_count": 97,
      "outputs": [
        {
          "output_type": "execute_result",
          "data": {
            "text/plain": [
              "29"
            ]
          },
          "metadata": {},
          "execution_count": 97
        }
      ]
    },
    {
      "cell_type": "code",
      "metadata": {
        "id": "p9Oa9ZsQVCuT",
        "colab": {
          "base_uri": "https://localhost:8080/"
        },
        "outputId": "0b511c44-f1fd-468c-e4c7-ab66d0cbb43a"
      },
      "source": [
        "df_v3['cb_person_cred_hist_length'].unique()"
      ],
      "execution_count": 98,
      "outputs": [
        {
          "output_type": "execute_result",
          "data": {
            "text/plain": [
              "array([ 2,  3,  4,  8,  7,  6,  9, 10,  5, 11, 16, 15, 12, 13, 17, 14, 28,\n",
              "       27, 22, 19, 29, 23, 26, 20, 21, 30, 25, 24, 18])"
            ]
          },
          "metadata": {},
          "execution_count": 98
        }
      ]
    },
    {
      "cell_type": "code",
      "metadata": {
        "colab": {
          "base_uri": "https://localhost:8080/"
        },
        "id": "LsGncAFZnbWT",
        "outputId": "bfca45b5-21c4-4761-a8d3-ca889938dc74"
      },
      "source": [
        "df_v3['cb_person_cred_hist_length'].describe()"
      ],
      "execution_count": 99,
      "outputs": [
        {
          "output_type": "execute_result",
          "data": {
            "text/plain": [
              "count    32574.000000\n",
              "mean         5.804108\n",
              "std          4.053873\n",
              "min          2.000000\n",
              "25%          3.000000\n",
              "50%          4.000000\n",
              "75%          8.000000\n",
              "max         30.000000\n",
              "Name: cb_person_cred_hist_length, dtype: float64"
            ]
          },
          "metadata": {},
          "execution_count": 99
        }
      ]
    },
    {
      "cell_type": "code",
      "metadata": {
        "id": "cwzbryRfVCwy",
        "colab": {
          "base_uri": "https://localhost:8080/"
        },
        "outputId": "14770dac-b59b-437a-9e5e-5f7576e82f56"
      },
      "source": [
        "df_v3['cb_person_cred_hist_length'].value_counts()"
      ],
      "execution_count": 100,
      "outputs": [
        {
          "output_type": "execute_result",
          "data": {
            "text/plain": [
              "2     5964\n",
              "3     5940\n",
              "4     5923\n",
              "8     1902\n",
              "7     1901\n",
              "9     1895\n",
              "5     1881\n",
              "6     1857\n",
              "10    1850\n",
              "14     492\n",
              "12     485\n",
              "11     463\n",
              "16     451\n",
              "13     443\n",
              "15     437\n",
              "17     407\n",
              "20      31\n",
              "24      30\n",
              "28      27\n",
              "30      22\n",
              "23      22\n",
              "22      22\n",
              "27      22\n",
              "19      21\n",
              "21      20\n",
              "18      19\n",
              "25      17\n",
              "26      16\n",
              "29      14\n",
              "Name: cb_person_cred_hist_length, dtype: int64"
            ]
          },
          "metadata": {},
          "execution_count": 100
        }
      ]
    },
    {
      "cell_type": "markdown",
      "metadata": {
        "id": "NPGcSoJzUSQ5"
      },
      "source": [
        "## cb_person_default_on_file PADRÃO HISTÓRICO\n",
        "\n",
        "\n",
        "---\n",
        "\n",
        "N: 26830 | Y: 5744"
      ]
    },
    {
      "cell_type": "code",
      "metadata": {
        "id": "OHkK1henUSkW",
        "colab": {
          "base_uri": "https://localhost:8080/"
        },
        "outputId": "1e17b40a-9251-45d1-bfb3-cd13772b002a"
      },
      "source": [
        "df_v3['cb_person_default_on_file'].nunique()"
      ],
      "execution_count": 101,
      "outputs": [
        {
          "output_type": "execute_result",
          "data": {
            "text/plain": [
              "2"
            ]
          },
          "metadata": {},
          "execution_count": 101
        }
      ]
    },
    {
      "cell_type": "code",
      "metadata": {
        "id": "FgZMTfxyUSrQ",
        "colab": {
          "base_uri": "https://localhost:8080/"
        },
        "outputId": "f665fba5-325c-4795-f942-2fb7ed75c034"
      },
      "source": [
        "df_v3['cb_person_default_on_file'].unique()"
      ],
      "execution_count": 102,
      "outputs": [
        {
          "output_type": "execute_result",
          "data": {
            "text/plain": [
              "array(['N', 'Y'], dtype=object)"
            ]
          },
          "metadata": {},
          "execution_count": 102
        }
      ]
    },
    {
      "cell_type": "code",
      "metadata": {
        "id": "b69g9TSvUs6d",
        "colab": {
          "base_uri": "https://localhost:8080/"
        },
        "outputId": "401b5ac5-9227-4639-b968-7f0c50caf5c5"
      },
      "source": [
        "df_v3['cb_person_default_on_file'].value_counts()"
      ],
      "execution_count": 103,
      "outputs": [
        {
          "output_type": "execute_result",
          "data": {
            "text/plain": [
              "N    26830\n",
              "Y     5744\n",
              "Name: cb_person_default_on_file, dtype: int64"
            ]
          },
          "metadata": {},
          "execution_count": 103
        }
      ]
    },
    {
      "cell_type": "markdown",
      "metadata": {
        "id": "jmr9Pgs9iPH1"
      },
      "source": [
        "# Separar df sem dados faltantes e apenas com dados faltantes e retirar duplicatas\n",
        "\n",
        "\n",
        "---\n",
        "\n",
        "df_3 -> df_4 (sem duplicatas e valores nulos)"
      ]
    },
    {
      "cell_type": "code",
      "metadata": {
        "colab": {
          "base_uri": "https://localhost:8080/"
        },
        "id": "Q3YuucVajp2-",
        "outputId": "4dccfc3a-b1d5-4c70-ad7f-0d9e624e6189"
      },
      "source": [
        "df_v3.shape "
      ],
      "execution_count": 104,
      "outputs": [
        {
          "output_type": "execute_result",
          "data": {
            "text/plain": [
              "(32574, 12)"
            ]
          },
          "metadata": {},
          "execution_count": 104
        }
      ]
    },
    {
      "cell_type": "code",
      "metadata": {
        "colab": {
          "base_uri": "https://localhost:8080/"
        },
        "id": "L6udj0wsktB-",
        "outputId": "16ddb1b1-8d7e-4686-e9a7-ce9607cce952"
      },
      "source": [
        "df_v3.info()"
      ],
      "execution_count": 105,
      "outputs": [
        {
          "output_type": "stream",
          "name": "stdout",
          "text": [
            "<class 'pandas.core.frame.DataFrame'>\n",
            "Int64Index: 32574 entries, 1 to 32580\n",
            "Data columns (total 12 columns):\n",
            " #   Column                      Non-Null Count  Dtype  \n",
            "---  ------                      --------------  -----  \n",
            " 0   person_age                  32574 non-null  int64  \n",
            " 1   person_income               32574 non-null  int64  \n",
            " 2   person_home_ownership       32574 non-null  object \n",
            " 3   person_emp_length           32574 non-null  float64\n",
            " 4   loan_intent                 32574 non-null  object \n",
            " 5   loan_grade                  32574 non-null  object \n",
            " 6   loan_amnt                   32574 non-null  int64  \n",
            " 7   loan_int_rate               29459 non-null  float64\n",
            " 8   loan_status                 32574 non-null  int64  \n",
            " 9   loan_percent_income         32574 non-null  float64\n",
            " 10  cb_person_default_on_file   32574 non-null  object \n",
            " 11  cb_person_cred_hist_length  32574 non-null  int64  \n",
            "dtypes: float64(3), int64(5), object(4)\n",
            "memory usage: 3.2+ MB\n"
          ]
        }
      ]
    },
    {
      "cell_type": "code",
      "metadata": {
        "id": "RIlCqfEpii6b"
      },
      "source": [
        "df_v4 = df_v3.drop_duplicates()"
      ],
      "execution_count": 106,
      "outputs": []
    },
    {
      "cell_type": "code",
      "metadata": {
        "colab": {
          "base_uri": "https://localhost:8080/"
        },
        "id": "sUbTD-rFj7aS",
        "outputId": "c3683acb-11e3-432f-bd8c-705e6a12a36c"
      },
      "source": [
        "df_v4.shape # 165 duplicatas"
      ],
      "execution_count": 107,
      "outputs": [
        {
          "output_type": "execute_result",
          "data": {
            "text/plain": [
              "(32409, 12)"
            ]
          },
          "metadata": {},
          "execution_count": 107
        }
      ]
    },
    {
      "cell_type": "code",
      "metadata": {
        "colab": {
          "base_uri": "https://localhost:8080/"
        },
        "id": "LJetEXkck2IV",
        "outputId": "11adc6c9-b291-4c86-87ae-1f8dbc316052"
      },
      "source": [
        "df_v4.info()"
      ],
      "execution_count": 108,
      "outputs": [
        {
          "output_type": "stream",
          "name": "stdout",
          "text": [
            "<class 'pandas.core.frame.DataFrame'>\n",
            "Int64Index: 32409 entries, 1 to 32580\n",
            "Data columns (total 12 columns):\n",
            " #   Column                      Non-Null Count  Dtype  \n",
            "---  ------                      --------------  -----  \n",
            " 0   person_age                  32409 non-null  int64  \n",
            " 1   person_income               32409 non-null  int64  \n",
            " 2   person_home_ownership       32409 non-null  object \n",
            " 3   person_emp_length           32409 non-null  float64\n",
            " 4   loan_intent                 32409 non-null  object \n",
            " 5   loan_grade                  32409 non-null  object \n",
            " 6   loan_amnt                   32409 non-null  int64  \n",
            " 7   loan_int_rate               29315 non-null  float64\n",
            " 8   loan_status                 32409 non-null  int64  \n",
            " 9   loan_percent_income         32409 non-null  float64\n",
            " 10  cb_person_default_on_file   32409 non-null  object \n",
            " 11  cb_person_cred_hist_length  32409 non-null  int64  \n",
            "dtypes: float64(3), int64(5), object(4)\n",
            "memory usage: 3.2+ MB\n"
          ]
        }
      ]
    },
    {
      "cell_type": "code",
      "metadata": {
        "colab": {
          "base_uri": "https://localhost:8080/"
        },
        "id": "uYjtsXAdkGil",
        "outputId": "cbc2618d-a409-434b-fd02-60b65380a524"
      },
      "source": [
        "df_v4.dropna(how='any', inplace=True)"
      ],
      "execution_count": 109,
      "outputs": [
        {
          "output_type": "stream",
          "name": "stderr",
          "text": [
            "/usr/local/lib/python3.7/dist-packages/ipykernel_launcher.py:1: SettingWithCopyWarning: \n",
            "A value is trying to be set on a copy of a slice from a DataFrame\n",
            "\n",
            "See the caveats in the documentation: https://pandas.pydata.org/pandas-docs/stable/user_guide/indexing.html#returning-a-view-versus-a-copy\n",
            "  \"\"\"Entry point for launching an IPython kernel.\n"
          ]
        }
      ]
    },
    {
      "cell_type": "code",
      "metadata": {
        "colab": {
          "base_uri": "https://localhost:8080/"
        },
        "id": "AJm3l1gJkd2T",
        "outputId": "204925a6-937e-4a66-c886-eace11bcf4a0"
      },
      "source": [
        "linhas, colunas = df_v4.shape\n",
        "df_v4.shape # 3.094 valores faltantes (taxa de juros)"
      ],
      "execution_count": 110,
      "outputs": [
        {
          "output_type": "execute_result",
          "data": {
            "text/plain": [
              "(29315, 12)"
            ]
          },
          "metadata": {},
          "execution_count": 110
        }
      ]
    },
    {
      "cell_type": "markdown",
      "metadata": {
        "id": "a4uZtTT-bZkN"
      },
      "source": [
        "# Analisando os dados faltantes em busca de um padrão. Há predominância de dados faltantes em algum subgrupo do dataset? df_v3\n",
        "\n",
        "---\n",
        "\n",
        "person_home_ownership   \n",
        "loan_intent   \n",
        "loan_grade   \n",
        "loan_status   \n",
        "cb_person_default_on_file   \n",
        "cb_person_cred_hist_length   \n",
        "\n",
        "\n",
        "---\n",
        "\n",
        "Verificar se há relação entre: Status empréstimo e taxa de juros NAN / loan_grade e taxa de juros NAN / cb_person_default_on_file e taxa de juros NAN\n",
        "\n",
        "Os valores nulos da taxa de juros apresentam concentração nas seguintes features:\n",
        "\n"
      ]
    },
    {
      "cell_type": "code",
      "metadata": {
        "id": "jrGh557T9qIa"
      },
      "source": [
        "df_v3['loan_int_rate_nan'] = df_v3['loan_int_rate'].isnull()"
      ],
      "execution_count": 111,
      "outputs": []
    },
    {
      "cell_type": "code",
      "metadata": {
        "colab": {
          "base_uri": "https://localhost:8080/",
          "height": 434
        },
        "id": "19sXHcf8BXLw",
        "outputId": "9d5eadae-864a-4161-b1be-9b74491da63f"
      },
      "source": [
        "df_v3.loc[df_v3['loan_int_rate_nan'] == 1]"
      ],
      "execution_count": 112,
      "outputs": [
        {
          "output_type": "execute_result",
          "data": {
            "text/html": [
              "<div>\n",
              "<style scoped>\n",
              "    .dataframe tbody tr th:only-of-type {\n",
              "        vertical-align: middle;\n",
              "    }\n",
              "\n",
              "    .dataframe tbody tr th {\n",
              "        vertical-align: top;\n",
              "    }\n",
              "\n",
              "    .dataframe thead th {\n",
              "        text-align: right;\n",
              "    }\n",
              "</style>\n",
              "<table border=\"1\" class=\"dataframe\">\n",
              "  <thead>\n",
              "    <tr style=\"text-align: right;\">\n",
              "      <th></th>\n",
              "      <th>person_age</th>\n",
              "      <th>person_income</th>\n",
              "      <th>person_home_ownership</th>\n",
              "      <th>person_emp_length</th>\n",
              "      <th>loan_intent</th>\n",
              "      <th>loan_grade</th>\n",
              "      <th>loan_amnt</th>\n",
              "      <th>loan_int_rate</th>\n",
              "      <th>loan_status</th>\n",
              "      <th>loan_percent_income</th>\n",
              "      <th>cb_person_default_on_file</th>\n",
              "      <th>cb_person_cred_hist_length</th>\n",
              "      <th>loan_int_rate_nan</th>\n",
              "    </tr>\n",
              "  </thead>\n",
              "  <tbody>\n",
              "    <tr>\n",
              "      <th>39</th>\n",
              "      <td>23</td>\n",
              "      <td>71500</td>\n",
              "      <td>RENT</td>\n",
              "      <td>3.0</td>\n",
              "      <td>DEBTCONSOLIDATION</td>\n",
              "      <td>D</td>\n",
              "      <td>30000</td>\n",
              "      <td>NaN</td>\n",
              "      <td>1</td>\n",
              "      <td>0.42</td>\n",
              "      <td>N</td>\n",
              "      <td>4</td>\n",
              "      <td>True</td>\n",
              "    </tr>\n",
              "    <tr>\n",
              "      <th>50</th>\n",
              "      <td>24</td>\n",
              "      <td>78000</td>\n",
              "      <td>RENT</td>\n",
              "      <td>4.0</td>\n",
              "      <td>DEBTCONSOLIDATION</td>\n",
              "      <td>D</td>\n",
              "      <td>30000</td>\n",
              "      <td>NaN</td>\n",
              "      <td>1</td>\n",
              "      <td>0.38</td>\n",
              "      <td>Y</td>\n",
              "      <td>4</td>\n",
              "      <td>True</td>\n",
              "    </tr>\n",
              "    <tr>\n",
              "      <th>57</th>\n",
              "      <td>23</td>\n",
              "      <td>277000</td>\n",
              "      <td>OWN</td>\n",
              "      <td>3.0</td>\n",
              "      <td>PERSONAL</td>\n",
              "      <td>A</td>\n",
              "      <td>35000</td>\n",
              "      <td>NaN</td>\n",
              "      <td>0</td>\n",
              "      <td>0.13</td>\n",
              "      <td>N</td>\n",
              "      <td>4</td>\n",
              "      <td>True</td>\n",
              "    </tr>\n",
              "    <tr>\n",
              "      <th>59</th>\n",
              "      <td>24</td>\n",
              "      <td>12000</td>\n",
              "      <td>OWN</td>\n",
              "      <td>2.0</td>\n",
              "      <td>VENTURE</td>\n",
              "      <td>E</td>\n",
              "      <td>1750</td>\n",
              "      <td>NaN</td>\n",
              "      <td>0</td>\n",
              "      <td>0.15</td>\n",
              "      <td>Y</td>\n",
              "      <td>3</td>\n",
              "      <td>True</td>\n",
              "    </tr>\n",
              "    <tr>\n",
              "      <th>62</th>\n",
              "      <td>26</td>\n",
              "      <td>263000</td>\n",
              "      <td>MORTGAGE</td>\n",
              "      <td>0.0</td>\n",
              "      <td>EDUCATION</td>\n",
              "      <td>B</td>\n",
              "      <td>10000</td>\n",
              "      <td>NaN</td>\n",
              "      <td>1</td>\n",
              "      <td>0.04</td>\n",
              "      <td>N</td>\n",
              "      <td>4</td>\n",
              "      <td>True</td>\n",
              "    </tr>\n",
              "    <tr>\n",
              "      <th>...</th>\n",
              "      <td>...</td>\n",
              "      <td>...</td>\n",
              "      <td>...</td>\n",
              "      <td>...</td>\n",
              "      <td>...</td>\n",
              "      <td>...</td>\n",
              "      <td>...</td>\n",
              "      <td>...</td>\n",
              "      <td>...</td>\n",
              "      <td>...</td>\n",
              "      <td>...</td>\n",
              "      <td>...</td>\n",
              "      <td>...</td>\n",
              "    </tr>\n",
              "    <tr>\n",
              "      <th>32547</th>\n",
              "      <td>53</td>\n",
              "      <td>4888</td>\n",
              "      <td>OWN</td>\n",
              "      <td>0.0</td>\n",
              "      <td>VENTURE</td>\n",
              "      <td>C</td>\n",
              "      <td>1400</td>\n",
              "      <td>NaN</td>\n",
              "      <td>1</td>\n",
              "      <td>0.29</td>\n",
              "      <td>Y</td>\n",
              "      <td>28</td>\n",
              "      <td>True</td>\n",
              "    </tr>\n",
              "    <tr>\n",
              "      <th>32552</th>\n",
              "      <td>65</td>\n",
              "      <td>45900</td>\n",
              "      <td>RENT</td>\n",
              "      <td>2.0</td>\n",
              "      <td>EDUCATION</td>\n",
              "      <td>C</td>\n",
              "      <td>10000</td>\n",
              "      <td>NaN</td>\n",
              "      <td>0</td>\n",
              "      <td>0.22</td>\n",
              "      <td>Y</td>\n",
              "      <td>19</td>\n",
              "      <td>True</td>\n",
              "    </tr>\n",
              "    <tr>\n",
              "      <th>32553</th>\n",
              "      <td>54</td>\n",
              "      <td>20000</td>\n",
              "      <td>RENT</td>\n",
              "      <td>2.0</td>\n",
              "      <td>MEDICAL</td>\n",
              "      <td>C</td>\n",
              "      <td>5000</td>\n",
              "      <td>NaN</td>\n",
              "      <td>0</td>\n",
              "      <td>0.25</td>\n",
              "      <td>N</td>\n",
              "      <td>28</td>\n",
              "      <td>True</td>\n",
              "    </tr>\n",
              "    <tr>\n",
              "      <th>32569</th>\n",
              "      <td>51</td>\n",
              "      <td>60000</td>\n",
              "      <td>MORTGAGE</td>\n",
              "      <td>1.0</td>\n",
              "      <td>PERSONAL</td>\n",
              "      <td>A</td>\n",
              "      <td>7500</td>\n",
              "      <td>NaN</td>\n",
              "      <td>0</td>\n",
              "      <td>0.13</td>\n",
              "      <td>N</td>\n",
              "      <td>23</td>\n",
              "      <td>True</td>\n",
              "    </tr>\n",
              "    <tr>\n",
              "      <th>32570</th>\n",
              "      <td>58</td>\n",
              "      <td>72000</td>\n",
              "      <td>RENT</td>\n",
              "      <td>5.0</td>\n",
              "      <td>HOMEIMPROVEMENT</td>\n",
              "      <td>B</td>\n",
              "      <td>4500</td>\n",
              "      <td>NaN</td>\n",
              "      <td>0</td>\n",
              "      <td>0.06</td>\n",
              "      <td>N</td>\n",
              "      <td>23</td>\n",
              "      <td>True</td>\n",
              "    </tr>\n",
              "  </tbody>\n",
              "</table>\n",
              "<p>3115 rows × 13 columns</p>\n",
              "</div>"
            ],
            "text/plain": [
              "       person_age  person_income  ... cb_person_cred_hist_length  loan_int_rate_nan\n",
              "39             23          71500  ...                          4               True\n",
              "50             24          78000  ...                          4               True\n",
              "57             23         277000  ...                          4               True\n",
              "59             24          12000  ...                          3               True\n",
              "62             26         263000  ...                          4               True\n",
              "...           ...            ...  ...                        ...                ...\n",
              "32547          53           4888  ...                         28               True\n",
              "32552          65          45900  ...                         19               True\n",
              "32553          54          20000  ...                         28               True\n",
              "32569          51          60000  ...                         23               True\n",
              "32570          58          72000  ...                         23               True\n",
              "\n",
              "[3115 rows x 13 columns]"
            ]
          },
          "metadata": {},
          "execution_count": 112
        }
      ]
    },
    {
      "cell_type": "code",
      "metadata": {
        "id": "W0VBw0ga9qNm"
      },
      "source": [
        "df_v3_gb_status_emp_int_rate_null = df_v3.groupby('loan_status')['loan_int_rate_nan']"
      ],
      "execution_count": 113,
      "outputs": []
    },
    {
      "cell_type": "code",
      "metadata": {
        "colab": {
          "base_uri": "https://localhost:8080/"
        },
        "id": "Rw7G6pW-BS-2",
        "outputId": "e8d90587-57d9-4acd-b91a-2a76829e6ce4"
      },
      "source": [
        "100*(df_v3_gb_status_emp_int_rate_null.sum() / linha).round(2)"
      ],
      "execution_count": 114,
      "outputs": [
        {
          "output_type": "execute_result",
          "data": {
            "text/plain": [
              "loan_status\n",
              "0    8.0\n",
              "1    2.0\n",
              "Name: loan_int_rate_nan, dtype: float64"
            ]
          },
          "metadata": {},
          "execution_count": 114
        }
      ]
    },
    {
      "cell_type": "code",
      "metadata": {
        "id": "WeT6BOVZChxu"
      },
      "source": [
        "df_v3_gb_grade_int_rate_null = df_v3.groupby('loan_grade')['loan_int_rate_nan']"
      ],
      "execution_count": 115,
      "outputs": []
    },
    {
      "cell_type": "code",
      "metadata": {
        "colab": {
          "base_uri": "https://localhost:8080/"
        },
        "id": "1VfJfDJKChuj",
        "outputId": "26228109-2ea1-4bd0-9568-bc497f2cd2ba"
      },
      "source": [
        "100*(df_v3_gb_grade_int_rate_null.sum() / linha).round(2)"
      ],
      "execution_count": 116,
      "outputs": [
        {
          "output_type": "execute_result",
          "data": {
            "text/plain": [
              "loan_grade\n",
              "A    3.0\n",
              "B    3.0\n",
              "C    2.0\n",
              "D    1.0\n",
              "E    0.0\n",
              "F    0.0\n",
              "G    0.0\n",
              "Name: loan_int_rate_nan, dtype: float64"
            ]
          },
          "metadata": {},
          "execution_count": 116
        }
      ]
    },
    {
      "cell_type": "code",
      "metadata": {
        "id": "iXlwhWOzChrU"
      },
      "source": [
        "df_v3_gb_cb_default_int_rate_null = df_v3.groupby('cb_person_default_on_file')['loan_int_rate_nan']"
      ],
      "execution_count": 117,
      "outputs": []
    },
    {
      "cell_type": "code",
      "metadata": {
        "colab": {
          "base_uri": "https://localhost:8080/"
        },
        "id": "MwIaRdAZChk_",
        "outputId": "d4fe654e-36db-4e10-fe41-c10b4fc7a90a"
      },
      "source": [
        "100*(df_v3_gb_cb_default_int_rate_null.sum() / linha).round(2)"
      ],
      "execution_count": 118,
      "outputs": [
        {
          "output_type": "execute_result",
          "data": {
            "text/plain": [
              "cb_person_default_on_file\n",
              "N    8.0\n",
              "Y    2.0\n",
              "Name: loan_int_rate_nan, dtype: float64"
            ]
          },
          "metadata": {},
          "execution_count": 118
        }
      ]
    },
    {
      "cell_type": "code",
      "metadata": {
        "id": "MHQlg84kHEra"
      },
      "source": [
        "df_v3_gb_motivo_int_rate_null = df_v3.groupby('loan_intent')['loan_int_rate_nan']"
      ],
      "execution_count": 119,
      "outputs": []
    },
    {
      "cell_type": "code",
      "metadata": {
        "colab": {
          "base_uri": "https://localhost:8080/"
        },
        "id": "1RU5QS9HHO93",
        "outputId": "b35fb6cb-c88e-4dcc-beee-a141544ad355"
      },
      "source": [
        "100*(df_v3_gb_motivo_int_rate_null.sum() / linha).round(2)"
      ],
      "execution_count": 120,
      "outputs": [
        {
          "output_type": "execute_result",
          "data": {
            "text/plain": [
              "loan_intent\n",
              "DEBTCONSOLIDATION    2.0\n",
              "EDUCATION            2.0\n",
              "HOMEIMPROVEMENT      1.0\n",
              "MEDICAL              2.0\n",
              "PERSONAL             2.0\n",
              "VENTURE              2.0\n",
              "Name: loan_int_rate_nan, dtype: float64"
            ]
          },
          "metadata": {},
          "execution_count": 120
        }
      ]
    },
    {
      "cell_type": "code",
      "metadata": {
        "id": "T8Gjzd6Egl6h"
      },
      "source": [
        "# linhasFaltantes, colsFaltantes = df_vFaltantes.shape\n",
        "# df_vFaltantes.shape"
      ],
      "execution_count": 121,
      "outputs": []
    },
    {
      "cell_type": "markdown",
      "metadata": {
        "id": "xpUijXholvDB"
      },
      "source": [
        "# Análise dos Outliers (restantes). Já retirados os registros com IDADE > 100 e TEMPO DE EMPREGO > 100\n",
        "\n",
        "\n",
        "---\n",
        "\n",
        "df_v4: person_income RENDA e loan_amnt VALOR DO EMPRÉSTIMO"
      ]
    },
    {
      "cell_type": "code",
      "metadata": {
        "colab": {
          "base_uri": "https://localhost:8080/",
          "height": 621
        },
        "id": "2tt4PbK8w5J7",
        "outputId": "ca49d3d6-d7d1-4508-bec9-dc8ff070b32c"
      },
      "source": [
        "# Geral\n",
        "plt.figure(figsize=(15,10))\n",
        "df_v4.boxplot(column=['person_age', 'person_income', 'person_emp_length', 'loan_amnt', 'loan_int_rate', 'loan_percent_income', 'cb_person_cred_hist_length'])"
      ],
      "execution_count": 122,
      "outputs": [
        {
          "output_type": "execute_result",
          "data": {
            "text/plain": [
              "<matplotlib.axes._subplots.AxesSubplot at 0x7fee10ddb310>"
            ]
          },
          "metadata": {},
          "execution_count": 122
        },
        {
          "output_type": "display_data",
          "data": {
            "image/png": "[encoded data removed]",
            "text/plain": [
              "<Figure size 1080x720 with 1 Axes>"
            ]
          },
          "metadata": {
            "needs_background": "light"
          }
        }
      ]
    },
    {
      "cell_type": "code",
      "metadata": {
        "colab": {
          "base_uri": "https://localhost:8080/",
          "height": 610
        },
        "id": "DRujmynBy0Ny",
        "outputId": "3bdd7f46-3e9c-40a6-d0a9-1ecdafe59ea0"
      },
      "source": [
        "# Sem coluna person_income\n",
        "plt.figure(figsize=(15,10))\n",
        "df_v4.boxplot(column=['person_age', 'person_emp_length', 'loan_amnt', 'loan_int_rate', 'loan_percent_income', 'cb_person_cred_hist_length'])"
      ],
      "execution_count": 123,
      "outputs": [
        {
          "output_type": "execute_result",
          "data": {
            "text/plain": [
              "<matplotlib.axes._subplots.AxesSubplot at 0x7fee10c91f50>"
            ]
          },
          "metadata": {},
          "execution_count": 123
        },
        {
          "output_type": "display_data",
          "data": {
            "image/png": "[encoded data removed]",
            "text/plain": [
              "<Figure size 1080x720 with 1 Axes>"
            ]
          },
          "metadata": {
            "needs_background": "light"
          }
        }
      ]
    },
    {
      "cell_type": "code",
      "metadata": {
        "colab": {
          "base_uri": "https://localhost:8080/",
          "height": 610
        },
        "id": "W6mChDKz9As9",
        "outputId": "31e77db1-81d0-4a2a-b36b-b1037e541df3"
      },
      "source": [
        "# Sem colunas person_income e loan_amnt\n",
        "plt.figure(figsize=(15,10))\n",
        "df_v4.boxplot(column=['person_age', 'person_emp_length', 'loan_int_rate', 'loan_percent_income', 'cb_person_cred_hist_length'])"
      ],
      "execution_count": 124,
      "outputs": [
        {
          "output_type": "execute_result",
          "data": {
            "text/plain": [
              "<matplotlib.axes._subplots.AxesSubplot at 0x7fee10c91390>"
            ]
          },
          "metadata": {},
          "execution_count": 124
        },
        {
          "output_type": "display_data",
          "data": {
            "image/png": "[encoded data removed]",
            "text/plain": [
              "<Figure size 1080x720 with 1 Axes>"
            ]
          },
          "metadata": {
            "needs_background": "light"
          }
        }
      ]
    },
    {
      "cell_type": "code",
      "metadata": {
        "colab": {
          "base_uri": "https://localhost:8080/",
          "height": 622
        },
        "id": "4V-Y-hY6ooWr",
        "outputId": "15fb4891-515d-485f-918c-4620d87e5cea"
      },
      "source": [
        "# Gráfico de Dispersão plt\n",
        "plt.figure(figsize=(15,10))\n",
        "plt.scatter(x=df_v4['person_income'], y=df_v4['cb_person_cred_hist_length'])"
      ],
      "execution_count": 125,
      "outputs": [
        {
          "output_type": "execute_result",
          "data": {
            "text/plain": [
              "<matplotlib.collections.PathCollection at 0x7fee10adb6d0>"
            ]
          },
          "metadata": {},
          "execution_count": 125
        },
        {
          "output_type": "display_data",
          "data": {
            "image/png": "[encoded data removed]",
            "text/plain": [
              "<Figure size 1080x720 with 1 Axes>"
            ]
          },
          "metadata": {
            "needs_background": "light"
          }
        }
      ]
    },
    {
      "cell_type": "markdown",
      "metadata": {
        "id": "Wg78DQEJolEP"
      },
      "source": [
        "# Correlação\n",
        "df_v4 (sem valores nulos)\n",
        "\n",
        "\n",
        "---\n",
        "\n",
        "\n",
        "Histórico de Crédito bem correlacionado com a idade."
      ]
    },
    {
      "cell_type": "code",
      "metadata": {
        "id": "11BBKlp8oh95"
      },
      "source": [
        "correlacao = df_v4.corr()"
      ],
      "execution_count": 126,
      "outputs": []
    },
    {
      "cell_type": "code",
      "metadata": {
        "colab": {
          "base_uri": "https://localhost:8080/",
          "height": 742
        },
        "id": "D8xske5fotCo",
        "outputId": "8a5038a0-a773-4868-84e9-85d96d0aca0b"
      },
      "source": [
        "plt.figure(figsize=(15,10))\n",
        "sns.heatmap(correlacao)"
      ],
      "execution_count": 127,
      "outputs": [
        {
          "output_type": "execute_result",
          "data": {
            "text/plain": [
              "<matplotlib.axes._subplots.AxesSubplot at 0x7fee10ab7050>"
            ]
          },
          "metadata": {},
          "execution_count": 127
        },
        {
          "output_type": "display_data",
          "data": {
            "image/png": "[encoded data removed]",
            "text/plain": [
              "<Figure size 1080x720 with 2 Axes>"
            ]
          },
          "metadata": {
            "needs_background": "light"
          }
        }
      ]
    },
    {
      "cell_type": "code",
      "metadata": {
        "colab": {
          "base_uri": "https://localhost:8080/",
          "height": 314
        },
        "id": "ff6e_NQLpOdB",
        "outputId": "6017c2c8-77f0-44c7-9239-e75abd2a60c6"
      },
      "source": [
        "correlacao"
      ],
      "execution_count": 128,
      "outputs": [
        {
          "output_type": "execute_result",
          "data": {
            "text/html": [
              "<div>\n",
              "<style scoped>\n",
              "    .dataframe tbody tr th:only-of-type {\n",
              "        vertical-align: middle;\n",
              "    }\n",
              "\n",
              "    .dataframe tbody tr th {\n",
              "        vertical-align: top;\n",
              "    }\n",
              "\n",
              "    .dataframe thead th {\n",
              "        text-align: right;\n",
              "    }\n",
              "</style>\n",
              "<table border=\"1\" class=\"dataframe\">\n",
              "  <thead>\n",
              "    <tr style=\"text-align: right;\">\n",
              "      <th></th>\n",
              "      <th>person_age</th>\n",
              "      <th>person_income</th>\n",
              "      <th>person_emp_length</th>\n",
              "      <th>loan_amnt</th>\n",
              "      <th>loan_int_rate</th>\n",
              "      <th>loan_status</th>\n",
              "      <th>loan_percent_income</th>\n",
              "      <th>cb_person_cred_hist_length</th>\n",
              "    </tr>\n",
              "  </thead>\n",
              "  <tbody>\n",
              "    <tr>\n",
              "      <th>person_age</th>\n",
              "      <td>1.000000</td>\n",
              "      <td>0.140372</td>\n",
              "      <td>0.173894</td>\n",
              "      <td>0.055755</td>\n",
              "      <td>0.011129</td>\n",
              "      <td>-0.021770</td>\n",
              "      <td>-0.040446</td>\n",
              "      <td>0.877517</td>\n",
              "    </tr>\n",
              "    <tr>\n",
              "      <th>person_income</th>\n",
              "      <td>0.140372</td>\n",
              "      <td>1.000000</td>\n",
              "      <td>0.161208</td>\n",
              "      <td>0.326803</td>\n",
              "      <td>-0.001019</td>\n",
              "      <td>-0.172188</td>\n",
              "      <td>-0.298871</td>\n",
              "      <td>0.121197</td>\n",
              "    </tr>\n",
              "    <tr>\n",
              "      <th>person_emp_length</th>\n",
              "      <td>0.173894</td>\n",
              "      <td>0.161208</td>\n",
              "      <td>1.000000</td>\n",
              "      <td>0.109340</td>\n",
              "      <td>-0.055771</td>\n",
              "      <td>-0.086346</td>\n",
              "      <td>-0.059947</td>\n",
              "      <td>0.150020</td>\n",
              "    </tr>\n",
              "    <tr>\n",
              "      <th>loan_amnt</th>\n",
              "      <td>0.055755</td>\n",
              "      <td>0.326803</td>\n",
              "      <td>0.109340</td>\n",
              "      <td>1.000000</td>\n",
              "      <td>0.146926</td>\n",
              "      <td>0.106920</td>\n",
              "      <td>0.572818</td>\n",
              "      <td>0.045513</td>\n",
              "    </tr>\n",
              "    <tr>\n",
              "      <th>loan_int_rate</th>\n",
              "      <td>0.011129</td>\n",
              "      <td>-0.001019</td>\n",
              "      <td>-0.055771</td>\n",
              "      <td>0.146926</td>\n",
              "      <td>1.000000</td>\n",
              "      <td>0.335812</td>\n",
              "      <td>0.120111</td>\n",
              "      <td>0.015855</td>\n",
              "    </tr>\n",
              "    <tr>\n",
              "      <th>loan_status</th>\n",
              "      <td>-0.021770</td>\n",
              "      <td>-0.172188</td>\n",
              "      <td>-0.086346</td>\n",
              "      <td>0.106920</td>\n",
              "      <td>0.335812</td>\n",
              "      <td>1.000000</td>\n",
              "      <td>0.379390</td>\n",
              "      <td>-0.015046</td>\n",
              "    </tr>\n",
              "    <tr>\n",
              "      <th>loan_percent_income</th>\n",
              "      <td>-0.040446</td>\n",
              "      <td>-0.298871</td>\n",
              "      <td>-0.059947</td>\n",
              "      <td>0.572818</td>\n",
              "      <td>0.120111</td>\n",
              "      <td>0.379390</td>\n",
              "      <td>1.000000</td>\n",
              "      <td>-0.030017</td>\n",
              "    </tr>\n",
              "    <tr>\n",
              "      <th>cb_person_cred_hist_length</th>\n",
              "      <td>0.877517</td>\n",
              "      <td>0.121197</td>\n",
              "      <td>0.150020</td>\n",
              "      <td>0.045513</td>\n",
              "      <td>0.015855</td>\n",
              "      <td>-0.015046</td>\n",
              "      <td>-0.030017</td>\n",
              "      <td>1.000000</td>\n",
              "    </tr>\n",
              "  </tbody>\n",
              "</table>\n",
              "</div>"
            ],
            "text/plain": [
              "                            person_age  ...  cb_person_cred_hist_length\n",
              "person_age                    1.000000  ...                    0.877517\n",
              "person_income                 0.140372  ...                    0.121197\n",
              "person_emp_length             0.173894  ...                    0.150020\n",
              "loan_amnt                     0.055755  ...                    0.045513\n",
              "loan_int_rate                 0.011129  ...                    0.015855\n",
              "loan_status                  -0.021770  ...                   -0.015046\n",
              "loan_percent_income          -0.040446  ...                   -0.030017\n",
              "cb_person_cred_hist_length    0.877517  ...                    1.000000\n",
              "\n",
              "[8 rows x 8 columns]"
            ]
          },
          "metadata": {},
          "execution_count": 128
        }
      ]
    },
    {
      "cell_type": "markdown",
      "metadata": {
        "id": "7oe0WrYUvYHl"
      },
      "source": [
        "# Análise dos registros inadimplentes\n",
        "_em andamento_"
      ]
    },
    {
      "cell_type": "code",
      "metadata": {
        "id": "4rr9VmT7vcMV"
      },
      "source": [
        "df_dft = df_v4.groupby('loan_status').get_group(0)"
      ],
      "execution_count": 129,
      "outputs": []
    },
    {
      "cell_type": "code",
      "metadata": {
        "colab": {
          "base_uri": "https://localhost:8080/",
          "height": 222
        },
        "id": "67swVIM6jQNx",
        "outputId": "836c7db9-ccb3-49b5-cb9a-869b21199e74"
      },
      "source": [
        "df_dft.head()"
      ],
      "execution_count": 130,
      "outputs": [
        {
          "output_type": "execute_result",
          "data": {
            "text/html": [
              "<div>\n",
              "<style scoped>\n",
              "    .dataframe tbody tr th:only-of-type {\n",
              "        vertical-align: middle;\n",
              "    }\n",
              "\n",
              "    .dataframe tbody tr th {\n",
              "        vertical-align: top;\n",
              "    }\n",
              "\n",
              "    .dataframe thead th {\n",
              "        text-align: right;\n",
              "    }\n",
              "</style>\n",
              "<table border=\"1\" class=\"dataframe\">\n",
              "  <thead>\n",
              "    <tr style=\"text-align: right;\">\n",
              "      <th></th>\n",
              "      <th>person_age</th>\n",
              "      <th>person_income</th>\n",
              "      <th>person_home_ownership</th>\n",
              "      <th>person_emp_length</th>\n",
              "      <th>loan_intent</th>\n",
              "      <th>loan_grade</th>\n",
              "      <th>loan_amnt</th>\n",
              "      <th>loan_int_rate</th>\n",
              "      <th>loan_status</th>\n",
              "      <th>loan_percent_income</th>\n",
              "      <th>cb_person_default_on_file</th>\n",
              "      <th>cb_person_cred_hist_length</th>\n",
              "    </tr>\n",
              "  </thead>\n",
              "  <tbody>\n",
              "    <tr>\n",
              "      <th>1</th>\n",
              "      <td>21</td>\n",
              "      <td>9600</td>\n",
              "      <td>OWN</td>\n",
              "      <td>5.0</td>\n",
              "      <td>EDUCATION</td>\n",
              "      <td>B</td>\n",
              "      <td>1000</td>\n",
              "      <td>11.14</td>\n",
              "      <td>0</td>\n",
              "      <td>0.10</td>\n",
              "      <td>N</td>\n",
              "      <td>2</td>\n",
              "    </tr>\n",
              "    <tr>\n",
              "      <th>14</th>\n",
              "      <td>23</td>\n",
              "      <td>115000</td>\n",
              "      <td>RENT</td>\n",
              "      <td>2.0</td>\n",
              "      <td>EDUCATION</td>\n",
              "      <td>A</td>\n",
              "      <td>35000</td>\n",
              "      <td>7.90</td>\n",
              "      <td>0</td>\n",
              "      <td>0.30</td>\n",
              "      <td>N</td>\n",
              "      <td>4</td>\n",
              "    </tr>\n",
              "    <tr>\n",
              "      <th>15</th>\n",
              "      <td>23</td>\n",
              "      <td>500000</td>\n",
              "      <td>MORTGAGE</td>\n",
              "      <td>7.0</td>\n",
              "      <td>DEBTCONSOLIDATION</td>\n",
              "      <td>B</td>\n",
              "      <td>30000</td>\n",
              "      <td>10.65</td>\n",
              "      <td>0</td>\n",
              "      <td>0.06</td>\n",
              "      <td>N</td>\n",
              "      <td>3</td>\n",
              "    </tr>\n",
              "    <tr>\n",
              "      <th>16</th>\n",
              "      <td>23</td>\n",
              "      <td>120000</td>\n",
              "      <td>RENT</td>\n",
              "      <td>0.0</td>\n",
              "      <td>EDUCATION</td>\n",
              "      <td>A</td>\n",
              "      <td>35000</td>\n",
              "      <td>7.90</td>\n",
              "      <td>0</td>\n",
              "      <td>0.29</td>\n",
              "      <td>N</td>\n",
              "      <td>4</td>\n",
              "    </tr>\n",
              "    <tr>\n",
              "      <th>20</th>\n",
              "      <td>25</td>\n",
              "      <td>162500</td>\n",
              "      <td>RENT</td>\n",
              "      <td>2.0</td>\n",
              "      <td>VENTURE</td>\n",
              "      <td>A</td>\n",
              "      <td>35000</td>\n",
              "      <td>7.49</td>\n",
              "      <td>0</td>\n",
              "      <td>0.22</td>\n",
              "      <td>N</td>\n",
              "      <td>4</td>\n",
              "    </tr>\n",
              "  </tbody>\n",
              "</table>\n",
              "</div>"
            ],
            "text/plain": [
              "    person_age  ...  cb_person_cred_hist_length\n",
              "1           21  ...                           2\n",
              "14          23  ...                           4\n",
              "15          23  ...                           3\n",
              "16          23  ...                           4\n",
              "20          25  ...                           4\n",
              "\n",
              "[5 rows x 12 columns]"
            ]
          },
          "metadata": {},
          "execution_count": 130
        }
      ]
    },
    {
      "cell_type": "code",
      "metadata": {
        "id": "WjSkdAvglp9z"
      },
      "source": [
        "correlacao_dft = df_dft.corr()"
      ],
      "execution_count": 131,
      "outputs": []
    },
    {
      "cell_type": "code",
      "metadata": {
        "colab": {
          "base_uri": "https://localhost:8080/",
          "height": 742
        },
        "id": "5fVLeut9lyWg",
        "outputId": "dabca621-8fb7-4f85-d6c4-0e26e41d7601"
      },
      "source": [
        "plt.figure(figsize=(15,10))\n",
        "sns.heatmap(correlacao_dft)"
      ],
      "execution_count": 132,
      "outputs": [
        {
          "output_type": "execute_result",
          "data": {
            "text/plain": [
              "<matplotlib.axes._subplots.AxesSubplot at 0x7fee081a1990>"
            ]
          },
          "metadata": {},
          "execution_count": 132
        },
        {
          "output_type": "display_data",
          "data": {
            "image/png": "[encoded data removed]",
            "text/plain": [
              "<Figure size 1080x720 with 2 Axes>"
            ]
          },
          "metadata": {
            "needs_background": "light"
          }
        }
      ]
    },
    {
      "cell_type": "code",
      "metadata": {
        "colab": {
          "base_uri": "https://localhost:8080/",
          "height": 610
        },
        "id": "3a9NLvLWMeB7",
        "outputId": "ac783661-f745-45e8-c30f-9e67e80cbfe2"
      },
      "source": [
        "plt.figure(figsize=(15,10))\n",
        "plt.scatter(x=df_v4['loan_status'], y=df_v4['person_age'])"
      ],
      "execution_count": 133,
      "outputs": [
        {
          "output_type": "execute_result",
          "data": {
            "text/plain": [
              "<matplotlib.collections.PathCollection at 0x7fee080e5d50>"
            ]
          },
          "metadata": {},
          "execution_count": 133
        },
        {
          "output_type": "display_data",
          "data": {
            "image/png": "[encoded data removed]",
            "text/plain": [
              "<Figure size 1080x720 with 1 Axes>"
            ]
          },
          "metadata": {
            "needs_background": "light"
          }
        }
      ]
    },
    {
      "cell_type": "code",
      "metadata": {
        "colab": {
          "base_uri": "https://localhost:8080/",
          "height": 620
        },
        "id": "HUi44NqFMrOL",
        "outputId": "733a7967-5045-4e1e-a62f-b4e965130cca"
      },
      "source": [
        "plt.figure(figsize=(15,10))\n",
        "plt.scatter(x=df_v4['loan_status'], y=df_v4['person_income'])"
      ],
      "execution_count": 134,
      "outputs": [
        {
          "output_type": "execute_result",
          "data": {
            "text/plain": [
              "<matplotlib.collections.PathCollection at 0x7fee0804d890>"
            ]
          },
          "metadata": {},
          "execution_count": 134
        },
        {
          "output_type": "display_data",
          "data": {
            "image/png": "[encoded data removed]",
            "text/plain": [
              "<Figure size 1080x720 with 1 Axes>"
            ]
          },
          "metadata": {
            "needs_background": "light"
          }
        }
      ]
    },
    {
      "cell_type": "code",
      "metadata": {
        "colab": {
          "base_uri": "https://localhost:8080/",
          "height": 610
        },
        "id": "AsJYsLEXNHEZ",
        "outputId": "62d39214-b4da-4821-ae73-37b7846517a4"
      },
      "source": [
        "plt.figure(figsize=(15,10))\n",
        "plt.scatter(x=df_v4['loan_status'], y=df_v4['loan_grade'])"
      ],
      "execution_count": 135,
      "outputs": [
        {
          "output_type": "execute_result",
          "data": {
            "text/plain": [
              "<matplotlib.collections.PathCollection at 0x7fee07fec150>"
            ]
          },
          "metadata": {},
          "execution_count": 135
        },
        {
          "output_type": "display_data",
          "data": {
            "image/png": "[encoded data removed]",
            "text/plain": [
              "<Figure size 1080x720 with 1 Axes>"
            ]
          },
          "metadata": {
            "needs_background": "light"
          }
        }
      ]
    },
    {
      "cell_type": "code",
      "metadata": {
        "colab": {
          "base_uri": "https://localhost:8080/",
          "height": 610
        },
        "id": "-qg-F9X2NTKh",
        "outputId": "8dabb9af-c439-41ca-863a-7f23c5a49b67"
      },
      "source": [
        "plt.figure(figsize=(15,10))\n",
        "plt.scatter(x=df_v4['loan_status'], y=df_v4['cb_person_default_on_file'])"
      ],
      "execution_count": 136,
      "outputs": [
        {
          "output_type": "execute_result",
          "data": {
            "text/plain": [
              "<matplotlib.collections.PathCollection at 0x7fee07fa9c50>"
            ]
          },
          "metadata": {},
          "execution_count": 136
        },
        {
          "output_type": "display_data",
          "data": {
            "image/png": "[encoded data removed]",
            "text/plain": [
              "<Figure size 1080x720 with 1 Axes>"
            ]
          },
          "metadata": {
            "needs_background": "light"
          }
        }
      ]
    },
    {
      "cell_type": "code",
      "metadata": {
        "colab": {
          "base_uri": "https://localhost:8080/",
          "height": 610
        },
        "id": "st4cH-FwMSBi",
        "outputId": "b13c23d5-22f2-49b5-887a-7370cd2b5117"
      },
      "source": [
        "plt.figure(figsize=(15,10))\n",
        "plt.scatter(x=df_v4['loan_status'], y=df_v4['cb_person_cred_hist_length'])"
      ],
      "execution_count": 137,
      "outputs": [
        {
          "output_type": "execute_result",
          "data": {
            "text/plain": [
              "<matplotlib.collections.PathCollection at 0x7fee07f09c50>"
            ]
          },
          "metadata": {},
          "execution_count": 137
        },
        {
          "output_type": "display_data",
          "data": {
            "image/png": "[encoded data removed]",
            "text/plain": [
              "<Figure size 1080x720 with 1 Axes>"
            ]
          },
          "metadata": {
            "needs_background": "light"
          }
        }
      ]
    },
    {
      "cell_type": "code",
      "metadata": {
        "colab": {
          "base_uri": "https://localhost:8080/"
        },
        "id": "24zzcrNeK5v-",
        "outputId": "e1d9d92e-c567-4d6d-bec2-806fb79e59e4"
      },
      "source": [
        "lin_default = df_v4['loan_status'].value_counts()[0]\n",
        "lin_default\n"
      ],
      "execution_count": 138,
      "outputs": [
        {
          "output_type": "execute_result",
          "data": {
            "text/plain": [
              "22868"
            ]
          },
          "metadata": {},
          "execution_count": 138
        }
      ]
    },
    {
      "cell_type": "code",
      "metadata": {
        "colab": {
          "base_uri": "https://localhost:8080/"
        },
        "id": "YspPkTfVWkY8",
        "outputId": "a508e88e-cc57-4334-d5eb-d444616b3412"
      },
      "source": [
        "lin_notdefault = df_v4['loan_status'].value_counts()[1]\n",
        "lin_notdefault"
      ],
      "execution_count": 139,
      "outputs": [
        {
          "output_type": "execute_result",
          "data": {
            "text/plain": [
              "6447"
            ]
          },
          "metadata": {},
          "execution_count": 139
        }
      ]
    },
    {
      "cell_type": "code",
      "metadata": {
        "colab": {
          "base_uri": "https://localhost:8080/"
        },
        "id": "Dp3MkkY6WaRk",
        "outputId": "1c126902-f6e5-490a-ae32-f18a4950289e"
      },
      "source": [
        "lin_notdefault\n"
      ],
      "execution_count": 140,
      "outputs": [
        {
          "output_type": "execute_result",
          "data": {
            "text/plain": [
              "6447"
            ]
          },
          "metadata": {},
          "execution_count": 140
        }
      ]
    },
    {
      "cell_type": "code",
      "metadata": {
        "id": "AHC7hVVvL1ug"
      },
      "source": [
        "gb_inadimpl_hm = df_v4.groupby(['person_home_ownership', 'loan_status'], as_index=False)['person_age'].agg('count')"
      ],
      "execution_count": 141,
      "outputs": []
    },
    {
      "cell_type": "code",
      "metadata": {
        "colab": {
          "base_uri": "https://localhost:8080/",
          "height": 294
        },
        "id": "annAI0W_NDWZ",
        "outputId": "3636b9d5-214b-4b5c-84b7-e01c4033c2c1"
      },
      "source": [
        "gb_inadimpl_hm"
      ],
      "execution_count": 142,
      "outputs": [
        {
          "output_type": "execute_result",
          "data": {
            "text/html": [
              "<div>\n",
              "<style scoped>\n",
              "    .dataframe tbody tr th:only-of-type {\n",
              "        vertical-align: middle;\n",
              "    }\n",
              "\n",
              "    .dataframe tbody tr th {\n",
              "        vertical-align: top;\n",
              "    }\n",
              "\n",
              "    .dataframe thead th {\n",
              "        text-align: right;\n",
              "    }\n",
              "</style>\n",
              "<table border=\"1\" class=\"dataframe\">\n",
              "  <thead>\n",
              "    <tr style=\"text-align: right;\">\n",
              "      <th></th>\n",
              "      <th>person_home_ownership</th>\n",
              "      <th>loan_status</th>\n",
              "      <th>person_age</th>\n",
              "    </tr>\n",
              "  </thead>\n",
              "  <tbody>\n",
              "    <tr>\n",
              "      <th>0</th>\n",
              "      <td>MORTGAGE</td>\n",
              "      <td>0</td>\n",
              "      <td>10514</td>\n",
              "    </tr>\n",
              "    <tr>\n",
              "      <th>1</th>\n",
              "      <td>MORTGAGE</td>\n",
              "      <td>1</td>\n",
              "      <td>1537</td>\n",
              "    </tr>\n",
              "    <tr>\n",
              "      <th>2</th>\n",
              "      <td>OTHER</td>\n",
              "      <td>0</td>\n",
              "      <td>66</td>\n",
              "    </tr>\n",
              "    <tr>\n",
              "      <th>3</th>\n",
              "      <td>OTHER</td>\n",
              "      <td>1</td>\n",
              "      <td>27</td>\n",
              "    </tr>\n",
              "    <tr>\n",
              "      <th>4</th>\n",
              "      <td>OWN</td>\n",
              "      <td>0</td>\n",
              "      <td>2168</td>\n",
              "    </tr>\n",
              "    <tr>\n",
              "      <th>5</th>\n",
              "      <td>OWN</td>\n",
              "      <td>1</td>\n",
              "      <td>168</td>\n",
              "    </tr>\n",
              "    <tr>\n",
              "      <th>6</th>\n",
              "      <td>RENT</td>\n",
              "      <td>0</td>\n",
              "      <td>10120</td>\n",
              "    </tr>\n",
              "    <tr>\n",
              "      <th>7</th>\n",
              "      <td>RENT</td>\n",
              "      <td>1</td>\n",
              "      <td>4715</td>\n",
              "    </tr>\n",
              "  </tbody>\n",
              "</table>\n",
              "</div>"
            ],
            "text/plain": [
              "  person_home_ownership  loan_status  person_age\n",
              "0              MORTGAGE            0       10514\n",
              "1              MORTGAGE            1        1537\n",
              "2                 OTHER            0          66\n",
              "3                 OTHER            1          27\n",
              "4                   OWN            0        2168\n",
              "5                   OWN            1         168\n",
              "6                  RENT            0       10120\n",
              "7                  RENT            1        4715"
            ]
          },
          "metadata": {},
          "execution_count": 142
        }
      ]
    },
    {
      "cell_type": "code",
      "metadata": {
        "id": "4-OuorGDSzLm"
      },
      "source": [
        "gb_inadimpl_hm['linhas_total'] = ''"
      ],
      "execution_count": 143,
      "outputs": []
    },
    {
      "cell_type": "code",
      "metadata": {
        "colab": {
          "base_uri": "https://localhost:8080/",
          "height": 294
        },
        "id": "NvQbfli7TW9e",
        "outputId": "35f2285e-5bd1-4bc5-fcc6-c0b512ff95a9"
      },
      "source": [
        "gb_inadimpl_hm"
      ],
      "execution_count": 144,
      "outputs": [
        {
          "output_type": "execute_result",
          "data": {
            "text/html": [
              "<div>\n",
              "<style scoped>\n",
              "    .dataframe tbody tr th:only-of-type {\n",
              "        vertical-align: middle;\n",
              "    }\n",
              "\n",
              "    .dataframe tbody tr th {\n",
              "        vertical-align: top;\n",
              "    }\n",
              "\n",
              "    .dataframe thead th {\n",
              "        text-align: right;\n",
              "    }\n",
              "</style>\n",
              "<table border=\"1\" class=\"dataframe\">\n",
              "  <thead>\n",
              "    <tr style=\"text-align: right;\">\n",
              "      <th></th>\n",
              "      <th>person_home_ownership</th>\n",
              "      <th>loan_status</th>\n",
              "      <th>person_age</th>\n",
              "      <th>linhas_total</th>\n",
              "    </tr>\n",
              "  </thead>\n",
              "  <tbody>\n",
              "    <tr>\n",
              "      <th>0</th>\n",
              "      <td>MORTGAGE</td>\n",
              "      <td>0</td>\n",
              "      <td>10514</td>\n",
              "      <td></td>\n",
              "    </tr>\n",
              "    <tr>\n",
              "      <th>1</th>\n",
              "      <td>MORTGAGE</td>\n",
              "      <td>1</td>\n",
              "      <td>1537</td>\n",
              "      <td></td>\n",
              "    </tr>\n",
              "    <tr>\n",
              "      <th>2</th>\n",
              "      <td>OTHER</td>\n",
              "      <td>0</td>\n",
              "      <td>66</td>\n",
              "      <td></td>\n",
              "    </tr>\n",
              "    <tr>\n",
              "      <th>3</th>\n",
              "      <td>OTHER</td>\n",
              "      <td>1</td>\n",
              "      <td>27</td>\n",
              "      <td></td>\n",
              "    </tr>\n",
              "    <tr>\n",
              "      <th>4</th>\n",
              "      <td>OWN</td>\n",
              "      <td>0</td>\n",
              "      <td>2168</td>\n",
              "      <td></td>\n",
              "    </tr>\n",
              "    <tr>\n",
              "      <th>5</th>\n",
              "      <td>OWN</td>\n",
              "      <td>1</td>\n",
              "      <td>168</td>\n",
              "      <td></td>\n",
              "    </tr>\n",
              "    <tr>\n",
              "      <th>6</th>\n",
              "      <td>RENT</td>\n",
              "      <td>0</td>\n",
              "      <td>10120</td>\n",
              "      <td></td>\n",
              "    </tr>\n",
              "    <tr>\n",
              "      <th>7</th>\n",
              "      <td>RENT</td>\n",
              "      <td>1</td>\n",
              "      <td>4715</td>\n",
              "      <td></td>\n",
              "    </tr>\n",
              "  </tbody>\n",
              "</table>\n",
              "</div>"
            ],
            "text/plain": [
              "  person_home_ownership  loan_status  person_age linhas_total\n",
              "0              MORTGAGE            0       10514             \n",
              "1              MORTGAGE            1        1537             \n",
              "2                 OTHER            0          66             \n",
              "3                 OTHER            1          27             \n",
              "4                   OWN            0        2168             \n",
              "5                   OWN            1         168             \n",
              "6                  RENT            0       10120             \n",
              "7                  RENT            1        4715             "
            ]
          },
          "metadata": {},
          "execution_count": 144
        }
      ]
    },
    {
      "cell_type": "code",
      "metadata": {
        "colab": {
          "base_uri": "https://localhost:8080/"
        },
        "id": "ouYqNrU9T1eS",
        "outputId": "e111bed9-0520-44f0-e49c-754eb3f090ba"
      },
      "source": [
        "gb_inadimpl_hm.info()"
      ],
      "execution_count": 145,
      "outputs": [
        {
          "output_type": "stream",
          "name": "stdout",
          "text": [
            "<class 'pandas.core.frame.DataFrame'>\n",
            "Int64Index: 8 entries, 0 to 7\n",
            "Data columns (total 4 columns):\n",
            " #   Column                 Non-Null Count  Dtype \n",
            "---  ------                 --------------  ----- \n",
            " 0   person_home_ownership  8 non-null      object\n",
            " 1   loan_status            8 non-null      int64 \n",
            " 2   person_age             8 non-null      int64 \n",
            " 3   linhas_total           8 non-null      object\n",
            "dtypes: int64(2), object(2)\n",
            "memory usage: 320.0+ bytes\n"
          ]
        }
      ]
    },
    {
      "cell_type": "code",
      "metadata": {
        "colab": {
          "base_uri": "https://localhost:8080/"
        },
        "id": "VE2wiKciW9s_",
        "outputId": "72b64a9a-9ab6-4766-d086-6ebbdf1db01f"
      },
      "source": [
        "for i in gb_inadimpl_hm['loan_status']:\n",
        "  print(i)"
      ],
      "execution_count": 146,
      "outputs": [
        {
          "output_type": "stream",
          "name": "stdout",
          "text": [
            "0\n",
            "1\n",
            "0\n",
            "1\n",
            "0\n",
            "1\n",
            "0\n",
            "1\n"
          ]
        }
      ]
    },
    {
      "cell_type": "code",
      "metadata": {
        "id": "j2EyIq92YG2w"
      },
      "source": [
        "warnings.filterwarnings(\"ignore\")"
      ],
      "execution_count": 147,
      "outputs": []
    },
    {
      "cell_type": "code",
      "metadata": {
        "id": "bgx9IkmpS8DE"
      },
      "source": [
        "for n, i in enumerate(gb_inadimpl_hm['loan_status']):\n",
        "  if i == 0:\n",
        "      gb_inadimpl_hm['linhas_total'][n] = lin_default\n",
        "  else:\n",
        "      gb_inadimpl_hm['linhas_total'][n] = lin_notdefault\n",
        "  n+=1"
      ],
      "execution_count": 148,
      "outputs": []
    },
    {
      "cell_type": "code",
      "metadata": {
        "colab": {
          "base_uri": "https://localhost:8080/",
          "height": 294
        },
        "id": "c0457v0BWAO2",
        "outputId": "bc4e1935-9cfe-47ad-bc37-7df2d5d6fdcd"
      },
      "source": [
        "gb_inadimpl_hm"
      ],
      "execution_count": 149,
      "outputs": [
        {
          "output_type": "execute_result",
          "data": {
            "text/html": [
              "<div>\n",
              "<style scoped>\n",
              "    .dataframe tbody tr th:only-of-type {\n",
              "        vertical-align: middle;\n",
              "    }\n",
              "\n",
              "    .dataframe tbody tr th {\n",
              "        vertical-align: top;\n",
              "    }\n",
              "\n",
              "    .dataframe thead th {\n",
              "        text-align: right;\n",
              "    }\n",
              "</style>\n",
              "<table border=\"1\" class=\"dataframe\">\n",
              "  <thead>\n",
              "    <tr style=\"text-align: right;\">\n",
              "      <th></th>\n",
              "      <th>person_home_ownership</th>\n",
              "      <th>loan_status</th>\n",
              "      <th>person_age</th>\n",
              "      <th>linhas_total</th>\n",
              "    </tr>\n",
              "  </thead>\n",
              "  <tbody>\n",
              "    <tr>\n",
              "      <th>0</th>\n",
              "      <td>MORTGAGE</td>\n",
              "      <td>0</td>\n",
              "      <td>10514</td>\n",
              "      <td>22868</td>\n",
              "    </tr>\n",
              "    <tr>\n",
              "      <th>1</th>\n",
              "      <td>MORTGAGE</td>\n",
              "      <td>1</td>\n",
              "      <td>1537</td>\n",
              "      <td>6447</td>\n",
              "    </tr>\n",
              "    <tr>\n",
              "      <th>2</th>\n",
              "      <td>OTHER</td>\n",
              "      <td>0</td>\n",
              "      <td>66</td>\n",
              "      <td>22868</td>\n",
              "    </tr>\n",
              "    <tr>\n",
              "      <th>3</th>\n",
              "      <td>OTHER</td>\n",
              "      <td>1</td>\n",
              "      <td>27</td>\n",
              "      <td>6447</td>\n",
              "    </tr>\n",
              "    <tr>\n",
              "      <th>4</th>\n",
              "      <td>OWN</td>\n",
              "      <td>0</td>\n",
              "      <td>2168</td>\n",
              "      <td>22868</td>\n",
              "    </tr>\n",
              "    <tr>\n",
              "      <th>5</th>\n",
              "      <td>OWN</td>\n",
              "      <td>1</td>\n",
              "      <td>168</td>\n",
              "      <td>6447</td>\n",
              "    </tr>\n",
              "    <tr>\n",
              "      <th>6</th>\n",
              "      <td>RENT</td>\n",
              "      <td>0</td>\n",
              "      <td>10120</td>\n",
              "      <td>22868</td>\n",
              "    </tr>\n",
              "    <tr>\n",
              "      <th>7</th>\n",
              "      <td>RENT</td>\n",
              "      <td>1</td>\n",
              "      <td>4715</td>\n",
              "      <td>6447</td>\n",
              "    </tr>\n",
              "  </tbody>\n",
              "</table>\n",
              "</div>"
            ],
            "text/plain": [
              "  person_home_ownership  loan_status  person_age linhas_total\n",
              "0              MORTGAGE            0       10514        22868\n",
              "1              MORTGAGE            1        1537         6447\n",
              "2                 OTHER            0          66        22868\n",
              "3                 OTHER            1          27         6447\n",
              "4                   OWN            0        2168        22868\n",
              "5                   OWN            1         168         6447\n",
              "6                  RENT            0       10120        22868\n",
              "7                  RENT            1        4715         6447"
            ]
          },
          "metadata": {},
          "execution_count": 149
        }
      ]
    },
    {
      "cell_type": "code",
      "metadata": {
        "id": "COxPECKmWDnr"
      },
      "source": [
        "gb_inadimpl_hm['%'] = 100*gb_inadimpl_hm['person_age'] / gb_inadimpl_hm['linhas_total']"
      ],
      "execution_count": 163,
      "outputs": []
    },
    {
      "cell_type": "code",
      "metadata": {
        "colab": {
          "base_uri": "https://localhost:8080/",
          "height": 294
        },
        "id": "ZZx9X3lWWTAU",
        "outputId": "3d949548-e438-47e3-853c-1a3b25299faa"
      },
      "source": [
        "gb_inadimpl_hm"
      ],
      "execution_count": 170,
      "outputs": [
        {
          "output_type": "execute_result",
          "data": {
            "text/html": [
              "<div>\n",
              "<style scoped>\n",
              "    .dataframe tbody tr th:only-of-type {\n",
              "        vertical-align: middle;\n",
              "    }\n",
              "\n",
              "    .dataframe tbody tr th {\n",
              "        vertical-align: top;\n",
              "    }\n",
              "\n",
              "    .dataframe thead th {\n",
              "        text-align: right;\n",
              "    }\n",
              "</style>\n",
              "<table border=\"1\" class=\"dataframe\">\n",
              "  <thead>\n",
              "    <tr style=\"text-align: right;\">\n",
              "      <th></th>\n",
              "      <th>person_home_ownership</th>\n",
              "      <th>loan_status</th>\n",
              "      <th>person_age</th>\n",
              "      <th>linhas_total</th>\n",
              "      <th>%</th>\n",
              "    </tr>\n",
              "  </thead>\n",
              "  <tbody>\n",
              "    <tr>\n",
              "      <th>0</th>\n",
              "      <td>MORTGAGE</td>\n",
              "      <td>0</td>\n",
              "      <td>10514</td>\n",
              "      <td>22868</td>\n",
              "      <td>45.9769</td>\n",
              "    </tr>\n",
              "    <tr>\n",
              "      <th>1</th>\n",
              "      <td>MORTGAGE</td>\n",
              "      <td>1</td>\n",
              "      <td>1537</td>\n",
              "      <td>6447</td>\n",
              "      <td>23.8405</td>\n",
              "    </tr>\n",
              "    <tr>\n",
              "      <th>2</th>\n",
              "      <td>OTHER</td>\n",
              "      <td>0</td>\n",
              "      <td>66</td>\n",
              "      <td>22868</td>\n",
              "      <td>0.288613</td>\n",
              "    </tr>\n",
              "    <tr>\n",
              "      <th>3</th>\n",
              "      <td>OTHER</td>\n",
              "      <td>1</td>\n",
              "      <td>27</td>\n",
              "      <td>6447</td>\n",
              "      <td>0.418799</td>\n",
              "    </tr>\n",
              "    <tr>\n",
              "      <th>4</th>\n",
              "      <td>OWN</td>\n",
              "      <td>0</td>\n",
              "      <td>2168</td>\n",
              "      <td>22868</td>\n",
              "      <td>9.4805</td>\n",
              "    </tr>\n",
              "    <tr>\n",
              "      <th>5</th>\n",
              "      <td>OWN</td>\n",
              "      <td>1</td>\n",
              "      <td>168</td>\n",
              "      <td>6447</td>\n",
              "      <td>2.60586</td>\n",
              "    </tr>\n",
              "    <tr>\n",
              "      <th>6</th>\n",
              "      <td>RENT</td>\n",
              "      <td>0</td>\n",
              "      <td>10120</td>\n",
              "      <td>22868</td>\n",
              "      <td>44.254</td>\n",
              "    </tr>\n",
              "    <tr>\n",
              "      <th>7</th>\n",
              "      <td>RENT</td>\n",
              "      <td>1</td>\n",
              "      <td>4715</td>\n",
              "      <td>6447</td>\n",
              "      <td>73.1348</td>\n",
              "    </tr>\n",
              "  </tbody>\n",
              "</table>\n",
              "</div>"
            ],
            "text/plain": [
              "  person_home_ownership  loan_status  person_age linhas_total         %\n",
              "0              MORTGAGE            0       10514        22868   45.9769\n",
              "1              MORTGAGE            1        1537         6447   23.8405\n",
              "2                 OTHER            0          66        22868  0.288613\n",
              "3                 OTHER            1          27         6447  0.418799\n",
              "4                   OWN            0        2168        22868    9.4805\n",
              "5                   OWN            1         168         6447   2.60586\n",
              "6                  RENT            0       10120        22868    44.254\n",
              "7                  RENT            1        4715         6447   73.1348"
            ]
          },
          "metadata": {},
          "execution_count": 170
        }
      ]
    }
  ]
}