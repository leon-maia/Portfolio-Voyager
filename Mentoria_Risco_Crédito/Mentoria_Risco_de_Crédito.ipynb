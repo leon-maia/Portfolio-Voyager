{
  "nbformat": 4,
  "nbformat_minor": 0,
  "metadata": {
    "colab": {
      "name": "Mentoria - Risco de Crédito.ipynb",
      "provenance": [],
      "collapsed_sections": [
        "tQO3JgsVKu_d",
        "Wrsg2VD6MkFS",
        "ZbTj5mOYRqX6",
        "8PWTWY2YBtHU",
        "cSzz32j5a1Gx",
        "nNQMbt5cfXFB",
        "R0FT96NRRGxb",
        "nmEB7BDrhTUc",
        "6ViyIFDu598G",
        "Gni3EJ48MFdA"
      ]
    },
    "kernelspec": {
      "name": "python3",
      "display_name": "Python 3"
    },
    "language_info": {
      "name": "python"
    }
  },
  "cells": [
    {
      "cell_type": "markdown",
      "metadata": {
        "id": "sN416R6aKE3j"
      },
      "source": [
        "Base de dados Kaggle: https://www.kaggle.com/laotse/credit-risk-dataset"
      ]
    },
    {
      "cell_type": "markdown",
      "metadata": {
        "id": "qPLDMCltVUrZ"
      },
      "source": [
        "Objetivo: Identificar o risco de crédito de cada operação"
      ]
    },
    {
      "cell_type": "code",
      "metadata": {
        "id": "Az0mddrOKAeT"
      },
      "source": [
        "# Bibliotecas utilizadas\n",
        "\n",
        "# Análise de dados\n",
        "import pandas as pd\n",
        "import numpy as np\n",
        "\n",
        "# Visualização de dados\n",
        "import matplotlib.pyplot as plt\n",
        "import seaborn as sns\n",
        "\n",
        "# Machine Learning\n"
      ],
      "execution_count": null,
      "outputs": []
    },
    {
      "cell_type": "code",
      "metadata": {
        "id": "LgVXvUnFQrHG"
      },
      "source": [
        "# Funções elaboradas\n",
        "def identify_outlier(df):\n",
        "# Função destinada a identificar quais os outliers da coluna'\n",
        "  q1 = df.quantile(0.25)\n",
        "  q3 = df.quantile(0.75)\n",
        "  IQR = q3 - q1\n",
        "  outliers = df[((df<(q1-1.5*IQR)) | (df>(q3+1.5*IQR)))]\n",
        "  if outliers.empty:\n",
        "    print('Não há outliers na coluna selecionada')\n",
        "  else:\n",
        "    return outliers"
      ],
      "execution_count": null,
      "outputs": []
    },
    {
      "cell_type": "code",
      "metadata": {
        "id": "AxXpgcyuKSAx"
      },
      "source": [
        "# Leitura do arquivo csv\n",
        "df = pd.read_csv('/content/credit_risk_dataset.csv')"
      ],
      "execution_count": null,
      "outputs": []
    },
    {
      "cell_type": "code",
      "metadata": {
        "colab": {
          "base_uri": "https://localhost:8080/",
          "height": 222
        },
        "id": "8mQdj713Kpmi",
        "outputId": "05d1bfef-589c-4c57-b64f-2d0da75ca7bb"
      },
      "source": [
        "# Inspeção inicial dos dados\n",
        "df.head()"
      ],
      "execution_count": null,
      "outputs": [
        {
          "output_type": "execute_result",
          "data": {
            "text/html": [
              "<div>\n",
              "<style scoped>\n",
              "    .dataframe tbody tr th:only-of-type {\n",
              "        vertical-align: middle;\n",
              "    }\n",
              "\n",
              "    .dataframe tbody tr th {\n",
              "        vertical-align: top;\n",
              "    }\n",
              "\n",
              "    .dataframe thead th {\n",
              "        text-align: right;\n",
              "    }\n",
              "</style>\n",
              "<table border=\"1\" class=\"dataframe\">\n",
              "  <thead>\n",
              "    <tr style=\"text-align: right;\">\n",
              "      <th></th>\n",
              "      <th>person_age</th>\n",
              "      <th>person_income</th>\n",
              "      <th>person_home_ownership</th>\n",
              "      <th>person_emp_length</th>\n",
              "      <th>loan_intent</th>\n",
              "      <th>loan_grade</th>\n",
              "      <th>loan_amnt</th>\n",
              "      <th>loan_int_rate</th>\n",
              "      <th>loan_status</th>\n",
              "      <th>loan_percent_income</th>\n",
              "      <th>cb_person_default_on_file</th>\n",
              "      <th>cb_person_cred_hist_length</th>\n",
              "    </tr>\n",
              "  </thead>\n",
              "  <tbody>\n",
              "    <tr>\n",
              "      <th>0</th>\n",
              "      <td>22</td>\n",
              "      <td>59000</td>\n",
              "      <td>RENT</td>\n",
              "      <td>123.0</td>\n",
              "      <td>PERSONAL</td>\n",
              "      <td>D</td>\n",
              "      <td>35000</td>\n",
              "      <td>16.02</td>\n",
              "      <td>1</td>\n",
              "      <td>0.59</td>\n",
              "      <td>Y</td>\n",
              "      <td>3</td>\n",
              "    </tr>\n",
              "    <tr>\n",
              "      <th>1</th>\n",
              "      <td>21</td>\n",
              "      <td>9600</td>\n",
              "      <td>OWN</td>\n",
              "      <td>5.0</td>\n",
              "      <td>EDUCATION</td>\n",
              "      <td>B</td>\n",
              "      <td>1000</td>\n",
              "      <td>11.14</td>\n",
              "      <td>0</td>\n",
              "      <td>0.10</td>\n",
              "      <td>N</td>\n",
              "      <td>2</td>\n",
              "    </tr>\n",
              "    <tr>\n",
              "      <th>2</th>\n",
              "      <td>25</td>\n",
              "      <td>9600</td>\n",
              "      <td>MORTGAGE</td>\n",
              "      <td>1.0</td>\n",
              "      <td>MEDICAL</td>\n",
              "      <td>C</td>\n",
              "      <td>5500</td>\n",
              "      <td>12.87</td>\n",
              "      <td>1</td>\n",
              "      <td>0.57</td>\n",
              "      <td>N</td>\n",
              "      <td>3</td>\n",
              "    </tr>\n",
              "    <tr>\n",
              "      <th>3</th>\n",
              "      <td>23</td>\n",
              "      <td>65500</td>\n",
              "      <td>RENT</td>\n",
              "      <td>4.0</td>\n",
              "      <td>MEDICAL</td>\n",
              "      <td>C</td>\n",
              "      <td>35000</td>\n",
              "      <td>15.23</td>\n",
              "      <td>1</td>\n",
              "      <td>0.53</td>\n",
              "      <td>N</td>\n",
              "      <td>2</td>\n",
              "    </tr>\n",
              "    <tr>\n",
              "      <th>4</th>\n",
              "      <td>24</td>\n",
              "      <td>54400</td>\n",
              "      <td>RENT</td>\n",
              "      <td>8.0</td>\n",
              "      <td>MEDICAL</td>\n",
              "      <td>C</td>\n",
              "      <td>35000</td>\n",
              "      <td>14.27</td>\n",
              "      <td>1</td>\n",
              "      <td>0.55</td>\n",
              "      <td>Y</td>\n",
              "      <td>4</td>\n",
              "    </tr>\n",
              "  </tbody>\n",
              "</table>\n",
              "</div>"
            ],
            "text/plain": [
              "   person_age  ...  cb_person_cred_hist_length\n",
              "0          22  ...                           3\n",
              "1          21  ...                           2\n",
              "2          25  ...                           3\n",
              "3          23  ...                           2\n",
              "4          24  ...                           4\n",
              "\n",
              "[5 rows x 12 columns]"
            ]
          },
          "metadata": {},
          "execution_count": 4
        }
      ]
    },
    {
      "cell_type": "code",
      "metadata": {
        "colab": {
          "base_uri": "https://localhost:8080/"
        },
        "id": "r-cA-UDvsoc2",
        "outputId": "93c3c1b8-ccda-44e7-8ead-9f46bcd759b1"
      },
      "source": [
        "# Quantidade de linhas inicial\n",
        "linha, coluna = df.shape\n",
        "df.shape"
      ],
      "execution_count": null,
      "outputs": [
        {
          "output_type": "execute_result",
          "data": {
            "text/plain": [
              "(32581, 12)"
            ]
          },
          "metadata": {},
          "execution_count": 5
        }
      ]
    },
    {
      "cell_type": "code",
      "metadata": {
        "colab": {
          "base_uri": "https://localhost:8080/"
        },
        "id": "-avfYqAsK-3y",
        "outputId": "f77105c7-d824-491c-8b5f-779f000fe1b5"
      },
      "source": [
        "# Entendimento do tipo de dado de cada coluna\n",
        "df.info()"
      ],
      "execution_count": null,
      "outputs": [
        {
          "output_type": "stream",
          "name": "stdout",
          "text": [
            "<class 'pandas.core.frame.DataFrame'>\n",
            "RangeIndex: 32581 entries, 0 to 32580\n",
            "Data columns (total 12 columns):\n",
            " #   Column                      Non-Null Count  Dtype  \n",
            "---  ------                      --------------  -----  \n",
            " 0   person_age                  32581 non-null  int64  \n",
            " 1   person_income               32581 non-null  int64  \n",
            " 2   person_home_ownership       32581 non-null  object \n",
            " 3   person_emp_length           31686 non-null  float64\n",
            " 4   loan_intent                 32581 non-null  object \n",
            " 5   loan_grade                  32581 non-null  object \n",
            " 6   loan_amnt                   32581 non-null  int64  \n",
            " 7   loan_int_rate               29465 non-null  float64\n",
            " 8   loan_status                 32581 non-null  int64  \n",
            " 9   loan_percent_income         32581 non-null  float64\n",
            " 10  cb_person_default_on_file   32581 non-null  object \n",
            " 11  cb_person_cred_hist_length  32581 non-null  int64  \n",
            "dtypes: float64(3), int64(5), object(4)\n",
            "memory usage: 3.0+ MB\n"
          ]
        }
      ]
    },
    {
      "cell_type": "code",
      "metadata": {
        "colab": {
          "base_uri": "https://localhost:8080/"
        },
        "id": "tohw_Bdg97JW",
        "outputId": "09f2bbed-860d-4dc5-82e9-0c4f5be81bfc"
      },
      "source": [
        "# Identificação do percentual de valores nulos por coluna\n",
        "# Colunas importantes: person_emp_length TEMPO DE TRABALHO e loan_int_rate TAXA DE JUROS\n",
        "Nan_per = df.isnull().sum()/df.shape[0]*100\n",
        "Nan_per.round(2)"
      ],
      "execution_count": null,
      "outputs": [
        {
          "output_type": "execute_result",
          "data": {
            "text/plain": [
              "person_age                    0.00\n",
              "person_income                 0.00\n",
              "person_home_ownership         0.00\n",
              "person_emp_length             2.75\n",
              "loan_intent                   0.00\n",
              "loan_grade                    0.00\n",
              "loan_amnt                     0.00\n",
              "loan_int_rate                 9.56\n",
              "loan_status                   0.00\n",
              "loan_percent_income           0.00\n",
              "cb_person_default_on_file     0.00\n",
              "cb_person_cred_hist_length    0.00\n",
              "dtype: float64"
            ]
          },
          "metadata": {},
          "execution_count": 7
        }
      ]
    },
    {
      "cell_type": "markdown",
      "metadata": {
        "id": "S552JYEokO8O"
      },
      "source": [
        "```\n",
        "Dicionário de Dados\n",
        "0   person_age IDADE int64 QUANTITATIVA DISCRETA\n",
        "1   person_income RENDA int64 QUANTITATIVA CONTÍNUA \n",
        "2   person_home_ownership TIPO DE PROPRIEDADE DA CASA object QUALITATIVA NOMINAL\n",
        "3   person_emp_length TEMPO DE TRABALHO float64 QUANTITATIVA CONTÍNUA\n",
        "4   loan_intent MOTIVO DO EMPRÉSTIMO  object QUALITATIVA NOMINAL\n",
        "5   loan_grade GRAU DO EMPRÉSTIMO  object QUALITATIVA ORDINAL\n",
        "6   loan_amnt VALOR DO EMPRÉSTIMO int64  QUANTITATIVA DISCRETA*\n",
        "7   loan_int_rate TAXA DE JUROS float64 QUANTITATIVA CONTÍNUA\n",
        "8   loan_status STATUS DO EMPRÉSTIMO (0 is non default 1 is default) int64 QUALITATIVA NOMINAL\n",
        "9   loan_percent_income PERCENTUAL DO EMPRÉSTIMO RELATIVO A RENDA float64 QUANTITATIVA CONTÍNUA\n",
        "10  cb_person_default_on_file PADRÃO HISTÓRICO object QUALITATIVA NOMINAL\n",
        "11  cb_person_cred_hist_length SCORE DE CRÉDITO int64 QUANTITATIVA DISCRETA\n",
        "```"
      ]
    },
    {
      "cell_type": "markdown",
      "metadata": {
        "id": "szHEXe28oMch"
      },
      "source": [
        "# Análise das colunas"
      ]
    },
    {
      "cell_type": "markdown",
      "metadata": {
        "id": "tQO3JgsVKu_d"
      },
      "source": [
        "## Person_age IDADE\n",
        "\n",
        "\n",
        "---\n",
        "\n",
        "Excluídos 5 registros > 100\n",
        "\n",
        "\n",
        "---\n",
        "\n",
        "df -> df_v2\n",
        "\n",
        "\n",
        "\n",
        "---\n",
        "\n",
        "A idade média dos clientes é de 27.7 e a mediana é de 26."
      ]
    },
    {
      "cell_type": "code",
      "metadata": {
        "colab": {
          "base_uri": "https://localhost:8080/"
        },
        "id": "FG5s_pI8Kt-Q",
        "outputId": "1dca5e4e-d016-4492-c7bc-f77fae2c6314"
      },
      "source": [
        "df.person_age.nunique()"
      ],
      "execution_count": null,
      "outputs": [
        {
          "output_type": "execute_result",
          "data": {
            "text/plain": [
              "58"
            ]
          },
          "metadata": {},
          "execution_count": 9
        }
      ]
    },
    {
      "cell_type": "code",
      "metadata": {
        "colab": {
          "base_uri": "https://localhost:8080/"
        },
        "id": "XfrQFQHqK98n",
        "outputId": "cf1ba31d-7e58-46da-a6f7-8fb27fce3393"
      },
      "source": [
        "df.person_age.unique()"
      ],
      "execution_count": null,
      "outputs": [
        {
          "output_type": "execute_result",
          "data": {
            "text/plain": [
              "array([ 22,  21,  25,  23,  24,  26, 144, 123,  20,  32,  34,  29,  33,\n",
              "        28,  35,  31,  27,  30,  36,  40,  50,  45,  37,  39,  44,  43,\n",
              "        41,  46,  38,  47,  42,  48,  49,  58,  65,  51,  53,  66,  61,\n",
              "        54,  57,  59,  62,  60,  55,  52,  64,  70,  78,  69,  56,  73,\n",
              "        63,  94,  80,  84,  76,  67])"
            ]
          },
          "metadata": {},
          "execution_count": 10
        }
      ]
    },
    {
      "cell_type": "code",
      "metadata": {
        "colab": {
          "base_uri": "https://localhost:8080/"
        },
        "id": "kRKBYttUMSkT",
        "outputId": "03a7b877-8565-4021-9a84-99dec360f1a0"
      },
      "source": [
        "df['person_age'].min()"
      ],
      "execution_count": null,
      "outputs": [
        {
          "output_type": "execute_result",
          "data": {
            "text/plain": [
              "20"
            ]
          },
          "metadata": {},
          "execution_count": 11
        }
      ]
    },
    {
      "cell_type": "code",
      "metadata": {
        "colab": {
          "base_uri": "https://localhost:8080/"
        },
        "id": "w1fN_u6bL4dP",
        "outputId": "2eaaca8a-f6d1-468d-a301-732470f487aa"
      },
      "source": [
        "df[df['person_age'] > 100].shape # São 5 registros de clientes com idade acima de 100. Serão desconsiderados."
      ],
      "execution_count": null,
      "outputs": [
        {
          "output_type": "execute_result",
          "data": {
            "text/plain": [
              "(5, 12)"
            ]
          },
          "metadata": {},
          "execution_count": 12
        }
      ]
    },
    {
      "cell_type": "code",
      "metadata": {
        "colab": {
          "base_uri": "https://localhost:8080/",
          "height": 222
        },
        "id": "ErXM8tcu8GN9",
        "outputId": "83b3ddd6-798d-42af-9699-03fb2babe00a"
      },
      "source": [
        "df[df['person_age'] > 100]"
      ],
      "execution_count": null,
      "outputs": [
        {
          "output_type": "execute_result",
          "data": {
            "text/html": [
              "<div>\n",
              "<style scoped>\n",
              "    .dataframe tbody tr th:only-of-type {\n",
              "        vertical-align: middle;\n",
              "    }\n",
              "\n",
              "    .dataframe tbody tr th {\n",
              "        vertical-align: top;\n",
              "    }\n",
              "\n",
              "    .dataframe thead th {\n",
              "        text-align: right;\n",
              "    }\n",
              "</style>\n",
              "<table border=\"1\" class=\"dataframe\">\n",
              "  <thead>\n",
              "    <tr style=\"text-align: right;\">\n",
              "      <th></th>\n",
              "      <th>person_age</th>\n",
              "      <th>person_income</th>\n",
              "      <th>person_home_ownership</th>\n",
              "      <th>person_emp_length</th>\n",
              "      <th>loan_intent</th>\n",
              "      <th>loan_grade</th>\n",
              "      <th>loan_amnt</th>\n",
              "      <th>loan_int_rate</th>\n",
              "      <th>loan_status</th>\n",
              "      <th>loan_percent_income</th>\n",
              "      <th>cb_person_default_on_file</th>\n",
              "      <th>cb_person_cred_hist_length</th>\n",
              "    </tr>\n",
              "  </thead>\n",
              "  <tbody>\n",
              "    <tr>\n",
              "      <th>81</th>\n",
              "      <td>144</td>\n",
              "      <td>250000</td>\n",
              "      <td>RENT</td>\n",
              "      <td>4.0</td>\n",
              "      <td>VENTURE</td>\n",
              "      <td>C</td>\n",
              "      <td>4800</td>\n",
              "      <td>13.57</td>\n",
              "      <td>0</td>\n",
              "      <td>0.02</td>\n",
              "      <td>N</td>\n",
              "      <td>3</td>\n",
              "    </tr>\n",
              "    <tr>\n",
              "      <th>183</th>\n",
              "      <td>144</td>\n",
              "      <td>200000</td>\n",
              "      <td>MORTGAGE</td>\n",
              "      <td>4.0</td>\n",
              "      <td>EDUCATION</td>\n",
              "      <td>B</td>\n",
              "      <td>6000</td>\n",
              "      <td>11.86</td>\n",
              "      <td>0</td>\n",
              "      <td>0.03</td>\n",
              "      <td>N</td>\n",
              "      <td>2</td>\n",
              "    </tr>\n",
              "    <tr>\n",
              "      <th>575</th>\n",
              "      <td>123</td>\n",
              "      <td>80004</td>\n",
              "      <td>RENT</td>\n",
              "      <td>2.0</td>\n",
              "      <td>EDUCATION</td>\n",
              "      <td>B</td>\n",
              "      <td>20400</td>\n",
              "      <td>10.25</td>\n",
              "      <td>0</td>\n",
              "      <td>0.25</td>\n",
              "      <td>N</td>\n",
              "      <td>3</td>\n",
              "    </tr>\n",
              "    <tr>\n",
              "      <th>747</th>\n",
              "      <td>123</td>\n",
              "      <td>78000</td>\n",
              "      <td>RENT</td>\n",
              "      <td>7.0</td>\n",
              "      <td>VENTURE</td>\n",
              "      <td>B</td>\n",
              "      <td>20000</td>\n",
              "      <td>NaN</td>\n",
              "      <td>0</td>\n",
              "      <td>0.26</td>\n",
              "      <td>N</td>\n",
              "      <td>4</td>\n",
              "    </tr>\n",
              "    <tr>\n",
              "      <th>32297</th>\n",
              "      <td>144</td>\n",
              "      <td>6000000</td>\n",
              "      <td>MORTGAGE</td>\n",
              "      <td>12.0</td>\n",
              "      <td>PERSONAL</td>\n",
              "      <td>C</td>\n",
              "      <td>5000</td>\n",
              "      <td>12.73</td>\n",
              "      <td>0</td>\n",
              "      <td>0.00</td>\n",
              "      <td>N</td>\n",
              "      <td>25</td>\n",
              "    </tr>\n",
              "  </tbody>\n",
              "</table>\n",
              "</div>"
            ],
            "text/plain": [
              "       person_age  ...  cb_person_cred_hist_length\n",
              "81            144  ...                           3\n",
              "183           144  ...                           2\n",
              "575           123  ...                           3\n",
              "747           123  ...                           4\n",
              "32297         144  ...                          25\n",
              "\n",
              "[5 rows x 12 columns]"
            ]
          },
          "metadata": {},
          "execution_count": 13
        }
      ]
    },
    {
      "cell_type": "code",
      "metadata": {
        "id": "v8jggrSarlhD"
      },
      "source": [
        "df_v2 = df[df['person_age']<= 100]"
      ],
      "execution_count": null,
      "outputs": []
    },
    {
      "cell_type": "code",
      "metadata": {
        "colab": {
          "base_uri": "https://localhost:8080/"
        },
        "id": "TzzzvWrMDUcT",
        "outputId": "288ee129-56b5-4374-e98b-adc5e37f960c"
      },
      "source": [
        "df_v2.shape"
      ],
      "execution_count": null,
      "outputs": [
        {
          "output_type": "execute_result",
          "data": {
            "text/plain": [
              "(32576, 12)"
            ]
          },
          "metadata": {},
          "execution_count": 15
        }
      ]
    },
    {
      "cell_type": "code",
      "metadata": {
        "colab": {
          "base_uri": "https://localhost:8080/"
        },
        "id": "lqeFm8zV6dZC",
        "outputId": "5c1ea8a2-f9c9-43e3-fa03-1fd8297fe8b7"
      },
      "source": [
        "df_v2['person_age'].describe()"
      ],
      "execution_count": null,
      "outputs": [
        {
          "output_type": "execute_result",
          "data": {
            "text/plain": [
              "count    32576.000000\n",
              "mean        27.718044\n",
              "std          6.204990\n",
              "min         20.000000\n",
              "25%         23.000000\n",
              "50%         26.000000\n",
              "75%         30.000000\n",
              "max         94.000000\n",
              "Name: person_age, dtype: float64"
            ]
          },
          "metadata": {},
          "execution_count": 16
        }
      ]
    },
    {
      "cell_type": "code",
      "metadata": {
        "colab": {
          "base_uri": "https://localhost:8080/",
          "height": 282
        },
        "id": "x8plUrbq6N8N",
        "outputId": "8fa862b7-d785-4ffe-aa14-0254b46ea591"
      },
      "source": [
        "df_v2['person_age'].hist()"
      ],
      "execution_count": null,
      "outputs": [
        {
          "output_type": "execute_result",
          "data": {
            "text/plain": [
              "<matplotlib.axes._subplots.AxesSubplot at 0x7fa4d844c5d0>"
            ]
          },
          "metadata": {},
          "execution_count": 17
        },
        {
          "output_type": "display_data",
          "data": {
            "image/png": "[encoded data removed]",
            "text/plain": [
              "<Figure size 432x288 with 1 Axes>"
            ]
          },
          "metadata": {
            "needs_background": "light"
          }
        }
      ]
    },
    {
      "cell_type": "markdown",
      "metadata": {
        "id": "Wrsg2VD6MkFS"
      },
      "source": [
        "## Person_income RENDA\n",
        "\n",
        "\n",
        "---\n",
        "\n",
        "\n",
        "Coluna apresenta 1481 outliers, mas, em regra, serão mantidos na base de dados. Afinal, não é uma premissa do modelo ser incapaz de avaliar clientes com alta renda.\n",
        "\n",
        "\n",
        "---\n",
        "\n",
        "\n",
        "Especialmente o ID 32297, que apresenta o valor máximo do atributo (R$ 6.000.000), será excluído devido à idade 144, não pela renda.\n",
        "\n",
        "\n",
        "---\n",
        "\n",
        "A renda média dos clientes é de 65,882.14 e a mediana 55,000"
      ]
    },
    {
      "cell_type": "code",
      "metadata": {
        "colab": {
          "base_uri": "https://localhost:8080/"
        },
        "id": "eCC9oxkHMok5",
        "outputId": "0535c1ac-4903-4038-c4a1-d11f31ac7c2e"
      },
      "source": [
        "df_v2['person_income'].nunique()"
      ],
      "execution_count": null,
      "outputs": [
        {
          "output_type": "execute_result",
          "data": {
            "text/plain": [
              "4294"
            ]
          },
          "metadata": {},
          "execution_count": 18
        }
      ]
    },
    {
      "cell_type": "code",
      "metadata": {
        "colab": {
          "base_uri": "https://localhost:8080/"
        },
        "id": "wmqhPMWYMpUG",
        "outputId": "5a0e899d-2cd5-4ae0-b355-372110d7c894"
      },
      "source": [
        "df_v2['person_income'].unique()"
      ],
      "execution_count": null,
      "outputs": [
        {
          "output_type": "execute_result",
          "data": {
            "text/plain": [
              "array([  59000,    9600,   65500, ...,  720000, 1900000,    4888])"
            ]
          },
          "metadata": {},
          "execution_count": 19
        }
      ]
    },
    {
      "cell_type": "code",
      "metadata": {
        "id": "ZS-DqkVOMpWu",
        "colab": {
          "base_uri": "https://localhost:8080/"
        },
        "outputId": "24fd1233-cd4b-4cf5-a28d-e919e471ed39"
      },
      "source": [
        "df_v2['person_income'].describe().round(2)"
      ],
      "execution_count": null,
      "outputs": [
        {
          "output_type": "execute_result",
          "data": {
            "text/plain": [
              "count      32576.00\n",
              "mean       65882.14\n",
              "std        52534.99\n",
              "min         4000.00\n",
              "25%        38500.00\n",
              "50%        55000.00\n",
              "75%        79200.00\n",
              "max      2039784.00\n",
              "Name: person_income, dtype: float64"
            ]
          },
          "metadata": {},
          "execution_count": 20
        }
      ]
    },
    {
      "cell_type": "code",
      "metadata": {
        "colab": {
          "base_uri": "https://localhost:8080/"
        },
        "id": "y-0yB9f7QLyn",
        "outputId": "4ed6398b-ab30-42ba-bcb9-bfba980b1851"
      },
      "source": [
        "identify_outlier(df_v2['person_income'])"
      ],
      "execution_count": null,
      "outputs": [
        {
          "output_type": "execute_result",
          "data": {
            "text/plain": [
              "15        500000\n",
              "20        162500\n",
              "33        306000\n",
              "34        300000\n",
              "42        300000\n",
              "          ...   \n",
              "32544     780000\n",
              "32546    1900000\n",
              "32551     780000\n",
              "32562     160000\n",
              "32579     150000\n",
              "Name: person_income, Length: 1481, dtype: int64"
            ]
          },
          "metadata": {},
          "execution_count": 21
        }
      ]
    },
    {
      "cell_type": "code",
      "metadata": {
        "colab": {
          "base_uri": "https://localhost:8080/",
          "height": 297
        },
        "id": "Tyjzrt7nRCwv",
        "outputId": "887ef966-6ad3-4b4d-ea38-86cfcade1aec"
      },
      "source": [
        "sns.boxplot(x='person_income', data=df_v2, fliersize=5)"
      ],
      "execution_count": null,
      "outputs": [
        {
          "output_type": "execute_result",
          "data": {
            "text/plain": [
              "<matplotlib.axes._subplots.AxesSubplot at 0x7fa4d8338ed0>"
            ]
          },
          "metadata": {},
          "execution_count": 22
        },
        {
          "output_type": "display_data",
          "data": {
            "image/png": "[encoded data removed]",
            "text/plain": [
              "<Figure size 432x288 with 1 Axes>"
            ]
          },
          "metadata": {
            "needs_background": "light"
          }
        }
      ]
    },
    {
      "cell_type": "code",
      "metadata": {
        "colab": {
          "base_uri": "https://localhost:8080/",
          "height": 98
        },
        "id": "FbXeUl71RC7Z",
        "outputId": "01bb676c-d19a-4df8-81bf-2a7caa518e35"
      },
      "source": [
        "df_v2.loc[df['person_income'] == df_v2['person_income'].max()]\n",
        "#Registro já será desconsiderado devido à idade."
      ],
      "execution_count": null,
      "outputs": [
        {
          "output_type": "execute_result",
          "data": {
            "text/html": [
              "<div>\n",
              "<style scoped>\n",
              "    .dataframe tbody tr th:only-of-type {\n",
              "        vertical-align: middle;\n",
              "    }\n",
              "\n",
              "    .dataframe tbody tr th {\n",
              "        vertical-align: top;\n",
              "    }\n",
              "\n",
              "    .dataframe thead th {\n",
              "        text-align: right;\n",
              "    }\n",
              "</style>\n",
              "<table border=\"1\" class=\"dataframe\">\n",
              "  <thead>\n",
              "    <tr style=\"text-align: right;\">\n",
              "      <th></th>\n",
              "      <th>person_age</th>\n",
              "      <th>person_income</th>\n",
              "      <th>person_home_ownership</th>\n",
              "      <th>person_emp_length</th>\n",
              "      <th>loan_intent</th>\n",
              "      <th>loan_grade</th>\n",
              "      <th>loan_amnt</th>\n",
              "      <th>loan_int_rate</th>\n",
              "      <th>loan_status</th>\n",
              "      <th>loan_percent_income</th>\n",
              "      <th>cb_person_default_on_file</th>\n",
              "      <th>cb_person_cred_hist_length</th>\n",
              "    </tr>\n",
              "  </thead>\n",
              "  <tbody>\n",
              "    <tr>\n",
              "      <th>30049</th>\n",
              "      <td>42</td>\n",
              "      <td>2039784</td>\n",
              "      <td>RENT</td>\n",
              "      <td>0.0</td>\n",
              "      <td>VENTURE</td>\n",
              "      <td>C</td>\n",
              "      <td>8450</td>\n",
              "      <td>12.29</td>\n",
              "      <td>0</td>\n",
              "      <td>0.0</td>\n",
              "      <td>Y</td>\n",
              "      <td>15</td>\n",
              "    </tr>\n",
              "  </tbody>\n",
              "</table>\n",
              "</div>"
            ],
            "text/plain": [
              "       person_age  ...  cb_person_cred_hist_length\n",
              "30049          42  ...                          15\n",
              "\n",
              "[1 rows x 12 columns]"
            ]
          },
          "metadata": {},
          "execution_count": 23
        }
      ]
    },
    {
      "cell_type": "markdown",
      "metadata": {
        "id": "ZbTj5mOYRqX6"
      },
      "source": [
        "## Person_home_ownership TIPO DE PROPRIEDADE DA CASA\n",
        "\n",
        "\n",
        "---\n",
        "\n",
        "A maioria dos clientes mora em casa alugada (50.47) ou financiada (41.26)"
      ]
    },
    {
      "cell_type": "code",
      "metadata": {
        "colab": {
          "base_uri": "https://localhost:8080/"
        },
        "id": "Q4Bk0eg4Rzd6",
        "outputId": "13a1cfdb-896a-4f87-e97c-599a249b6fa2"
      },
      "source": [
        "df_v2['person_home_ownership'].nunique()"
      ],
      "execution_count": null,
      "outputs": [
        {
          "output_type": "execute_result",
          "data": {
            "text/plain": [
              "4"
            ]
          },
          "metadata": {},
          "execution_count": 24
        }
      ]
    },
    {
      "cell_type": "code",
      "metadata": {
        "colab": {
          "base_uri": "https://localhost:8080/"
        },
        "id": "m8R0SL_IRzjT",
        "outputId": "91358114-2599-4d4b-944c-2a9f9e5dcd2a"
      },
      "source": [
        "df_v2['person_home_ownership'].unique()"
      ],
      "execution_count": null,
      "outputs": [
        {
          "output_type": "execute_result",
          "data": {
            "text/plain": [
              "array(['RENT', 'OWN', 'MORTGAGE', 'OTHER'], dtype=object)"
            ]
          },
          "metadata": {},
          "execution_count": 25
        }
      ]
    },
    {
      "cell_type": "code",
      "metadata": {
        "id": "AGljhDxJ_27J"
      },
      "source": [
        "df_v2_gb_ownership = df_v2.groupby('person_home_ownership')"
      ],
      "execution_count": null,
      "outputs": []
    },
    {
      "cell_type": "code",
      "metadata": {
        "colab": {
          "base_uri": "https://localhost:8080/"
        },
        "id": "iJFkKIPU_Ly-",
        "outputId": "f6ab3f1d-6831-4591-c391-e4d6b8f306a4"
      },
      "source": [
        "df_v2_gb_ownership.size().sort_values(ascending=False)"
      ],
      "execution_count": null,
      "outputs": [
        {
          "output_type": "execute_result",
          "data": {
            "text/plain": [
              "person_home_ownership\n",
              "RENT        16443\n",
              "MORTGAGE    13442\n",
              "OWN          2584\n",
              "OTHER         107\n",
              "dtype: int64"
            ]
          },
          "metadata": {},
          "execution_count": 27
        }
      ]
    },
    {
      "cell_type": "code",
      "metadata": {
        "id": "BKaeepZ2AZn5"
      },
      "source": [
        "sum_df_v2_gb_ownership = df_v2_gb_ownership.size().sum()"
      ],
      "execution_count": null,
      "outputs": []
    },
    {
      "cell_type": "code",
      "metadata": {
        "colab": {
          "base_uri": "https://localhost:8080/"
        },
        "id": "880bkO9eBBZl",
        "outputId": "12d33b9c-50b8-4381-b43b-1138f2cbdbf9"
      },
      "source": [
        "100 * 16443 / sum_df_v2_gb_ownership"
      ],
      "execution_count": null,
      "outputs": [
        {
          "output_type": "execute_result",
          "data": {
            "text/plain": [
              "50.47581041257367"
            ]
          },
          "metadata": {},
          "execution_count": 29
        }
      ]
    },
    {
      "cell_type": "code",
      "metadata": {
        "colab": {
          "base_uri": "https://localhost:8080/"
        },
        "id": "v7XkRoT8BPHX",
        "outputId": "8b0e4495-5585-4365-d047-951082c55d26"
      },
      "source": [
        "100 * 13442 / sum_df_v2_gb_ownership"
      ],
      "execution_count": null,
      "outputs": [
        {
          "output_type": "execute_result",
          "data": {
            "text/plain": [
              "41.2635068762279"
            ]
          },
          "metadata": {},
          "execution_count": 30
        }
      ]
    },
    {
      "cell_type": "markdown",
      "metadata": {
        "id": "8PWTWY2YBtHU"
      },
      "source": [
        "## Person_emp_length TEMPO DE TRABALHO\n",
        "\n",
        "\n",
        "---\n",
        "\n",
        "Apresenta dados faltantes\n",
        "\n",
        "\n",
        "---\n",
        "\n",
        "Apresenta 2 registros de pessoas que supostamente tem tempo de serviço de 123 anos. Serão retiradas da base de dados.\n",
        "\n",
        "---\n",
        "\n",
        "df_v2 => df_v3"
      ]
    },
    {
      "cell_type": "code",
      "metadata": {
        "colab": {
          "base_uri": "https://localhost:8080/"
        },
        "id": "wxZtWua5BzJy",
        "outputId": "5a37780a-2766-4ad3-814c-b4f67cf5679f"
      },
      "source": [
        "df_v2['person_emp_length'].nunique()"
      ],
      "execution_count": null,
      "outputs": [
        {
          "output_type": "execute_result",
          "data": {
            "text/plain": [
              "36"
            ]
          },
          "metadata": {},
          "execution_count": 31
        }
      ]
    },
    {
      "cell_type": "code",
      "metadata": {
        "colab": {
          "base_uri": "https://localhost:8080/"
        },
        "id": "Thf-PcZRBzQ5",
        "outputId": "62059a68-5a52-4163-e84c-e02845e5561a"
      },
      "source": [
        "df_v2['person_emp_length'].unique()"
      ],
      "execution_count": null,
      "outputs": [
        {
          "output_type": "execute_result",
          "data": {
            "text/plain": [
              "array([123.,   5.,   1.,   4.,   8.,   2.,   6.,   7.,   0.,   9.,   3.,\n",
              "        10.,  nan,  11.,  18.,  12.,  17.,  14.,  16.,  13.,  19.,  15.,\n",
              "        20.,  22.,  21.,  24.,  23.,  26.,  25.,  27.,  28.,  31.,  41.,\n",
              "        34.,  29.,  38.,  30.])"
            ]
          },
          "metadata": {},
          "execution_count": 32
        }
      ]
    },
    {
      "cell_type": "code",
      "metadata": {
        "colab": {
          "base_uri": "https://localhost:8080/"
        },
        "id": "Bx3n9CZICAv7",
        "outputId": "e399f103-920a-41bc-da40-49f047de8f0c"
      },
      "source": [
        "df_v2['person_emp_length'].describe()"
      ],
      "execution_count": null,
      "outputs": [
        {
          "output_type": "execute_result",
          "data": {
            "text/plain": [
              "count    31681.000000\n",
              "mean         4.789527\n",
              "std          4.142706\n",
              "min          0.000000\n",
              "25%          2.000000\n",
              "50%          4.000000\n",
              "75%          7.000000\n",
              "max        123.000000\n",
              "Name: person_emp_length, dtype: float64"
            ]
          },
          "metadata": {},
          "execution_count": 33
        }
      ]
    },
    {
      "cell_type": "code",
      "metadata": {
        "colab": {
          "base_uri": "https://localhost:8080/"
        },
        "id": "KA6iWH9tCUgN",
        "outputId": "9b106bc7-b735-4244-db67-4ab8da730ae9"
      },
      "source": [
        "df_v2['person_emp_length'].isnull().sum()"
      ],
      "execution_count": null,
      "outputs": [
        {
          "output_type": "execute_result",
          "data": {
            "text/plain": [
              "895"
            ]
          },
          "metadata": {},
          "execution_count": 34
        }
      ]
    },
    {
      "cell_type": "code",
      "metadata": {
        "colab": {
          "base_uri": "https://localhost:8080/",
          "height": 282
        },
        "id": "yLbc-M1rCeLh",
        "outputId": "d08ea642-d056-4df1-edb6-22fa5d032cb2"
      },
      "source": [
        "df_v2['person_emp_length'].hist()"
      ],
      "execution_count": null,
      "outputs": [
        {
          "output_type": "execute_result",
          "data": {
            "text/plain": [
              "<matplotlib.axes._subplots.AxesSubplot at 0x7fa4d7e29790>"
            ]
          },
          "metadata": {},
          "execution_count": 35
        },
        {
          "output_type": "display_data",
          "data": {
            "image/png": "[encoded data removed]",
            "text/plain": [
              "<Figure size 432x288 with 1 Axes>"
            ]
          },
          "metadata": {
            "needs_background": "light"
          }
        }
      ]
    },
    {
      "cell_type": "code",
      "metadata": {
        "colab": {
          "base_uri": "https://localhost:8080/"
        },
        "id": "opgiQA04Z72m",
        "outputId": "a201d63d-bd91-4d59-a59b-5b27913c2f57"
      },
      "source": [
        "df_v2.shape"
      ],
      "execution_count": null,
      "outputs": [
        {
          "output_type": "execute_result",
          "data": {
            "text/plain": [
              "(32576, 12)"
            ]
          },
          "metadata": {},
          "execution_count": 36
        }
      ]
    },
    {
      "cell_type": "code",
      "metadata": {
        "id": "1BnyIHmJCigQ"
      },
      "source": [
        "df_3teste = df_v2.loc[df_v2['person_emp_length'] >= 50]"
      ],
      "execution_count": null,
      "outputs": []
    },
    {
      "cell_type": "code",
      "metadata": {
        "colab": {
          "base_uri": "https://localhost:8080/"
        },
        "id": "CSkHtBAraGt_",
        "outputId": "5de99745-e393-4e08-eacd-a1dbe7bf3a30"
      },
      "source": [
        "df_3teste.shape"
      ],
      "execution_count": null,
      "outputs": [
        {
          "output_type": "execute_result",
          "data": {
            "text/plain": [
              "(2, 12)"
            ]
          },
          "metadata": {},
          "execution_count": 38
        }
      ]
    },
    {
      "cell_type": "code",
      "metadata": {
        "id": "zHzrgZoOC_0W"
      },
      "source": [
        "df_v3_perda = df_v2.loc[df_v2['person_emp_length'] < 50]"
      ],
      "execution_count": null,
      "outputs": []
    },
    {
      "cell_type": "code",
      "metadata": {
        "colab": {
          "base_uri": "https://localhost:8080/"
        },
        "id": "1MKBAr-yDKiG",
        "outputId": "214f50a9-fb7d-41ae-b231-95e491362958"
      },
      "source": [
        "len(df_v3_perda)"
      ],
      "execution_count": null,
      "outputs": [
        {
          "output_type": "execute_result",
          "data": {
            "text/plain": [
              "31679"
            ]
          },
          "metadata": {},
          "execution_count": 40
        }
      ]
    },
    {
      "cell_type": "markdown",
      "metadata": {
        "id": "cSzz32j5a1Gx"
      },
      "source": [
        "### Usando o df_v2, identifico que há 2 registros com tempo de trabalho acima de 50 anos, exatamente 123 anos de trabalho. Eles serão excluídos do dataset. Contudo, ao atribuir apenas os registros com tempo de serviço <= 50 anos, o dataset passa a ter -879 registros.\n",
        "## Isso ocorre porque quando se filtra um campo por número, os na não são levados para o filtro.\n",
        "## Utilizarei o drop para fazer a exclusão correta."
      ]
    },
    {
      "cell_type": "code",
      "metadata": {
        "colab": {
          "base_uri": "https://localhost:8080/",
          "height": 130
        },
        "id": "NT5EpPD1bm8g",
        "outputId": "ab62a811-4450-499d-f9a6-f5e660b9fd30"
      },
      "source": [
        "df_v2.loc[df_v2['person_emp_length'] == 123]"
      ],
      "execution_count": null,
      "outputs": [
        {
          "output_type": "execute_result",
          "data": {
            "text/html": [
              "<div>\n",
              "<style scoped>\n",
              "    .dataframe tbody tr th:only-of-type {\n",
              "        vertical-align: middle;\n",
              "    }\n",
              "\n",
              "    .dataframe tbody tr th {\n",
              "        vertical-align: top;\n",
              "    }\n",
              "\n",
              "    .dataframe thead th {\n",
              "        text-align: right;\n",
              "    }\n",
              "</style>\n",
              "<table border=\"1\" class=\"dataframe\">\n",
              "  <thead>\n",
              "    <tr style=\"text-align: right;\">\n",
              "      <th></th>\n",
              "      <th>person_age</th>\n",
              "      <th>person_income</th>\n",
              "      <th>person_home_ownership</th>\n",
              "      <th>person_emp_length</th>\n",
              "      <th>loan_intent</th>\n",
              "      <th>loan_grade</th>\n",
              "      <th>loan_amnt</th>\n",
              "      <th>loan_int_rate</th>\n",
              "      <th>loan_status</th>\n",
              "      <th>loan_percent_income</th>\n",
              "      <th>cb_person_default_on_file</th>\n",
              "      <th>cb_person_cred_hist_length</th>\n",
              "    </tr>\n",
              "  </thead>\n",
              "  <tbody>\n",
              "    <tr>\n",
              "      <th>0</th>\n",
              "      <td>22</td>\n",
              "      <td>59000</td>\n",
              "      <td>RENT</td>\n",
              "      <td>123.0</td>\n",
              "      <td>PERSONAL</td>\n",
              "      <td>D</td>\n",
              "      <td>35000</td>\n",
              "      <td>16.02</td>\n",
              "      <td>1</td>\n",
              "      <td>0.59</td>\n",
              "      <td>Y</td>\n",
              "      <td>3</td>\n",
              "    </tr>\n",
              "    <tr>\n",
              "      <th>210</th>\n",
              "      <td>21</td>\n",
              "      <td>192000</td>\n",
              "      <td>MORTGAGE</td>\n",
              "      <td>123.0</td>\n",
              "      <td>VENTURE</td>\n",
              "      <td>A</td>\n",
              "      <td>20000</td>\n",
              "      <td>6.54</td>\n",
              "      <td>0</td>\n",
              "      <td>0.10</td>\n",
              "      <td>N</td>\n",
              "      <td>4</td>\n",
              "    </tr>\n",
              "  </tbody>\n",
              "</table>\n",
              "</div>"
            ],
            "text/plain": [
              "     person_age  ...  cb_person_cred_hist_length\n",
              "0            22  ...                           3\n",
              "210          21  ...                           4\n",
              "\n",
              "[2 rows x 12 columns]"
            ]
          },
          "metadata": {},
          "execution_count": 41
        }
      ]
    },
    {
      "cell_type": "code",
      "metadata": {
        "id": "5Qa_r_RteQ2Y"
      },
      "source": [
        "df_v3 = df_v2.drop(index=[0,210])"
      ],
      "execution_count": null,
      "outputs": []
    },
    {
      "cell_type": "code",
      "metadata": {
        "colab": {
          "base_uri": "https://localhost:8080/"
        },
        "id": "_R2zypi6esC9",
        "outputId": "d6f2a79d-593d-4533-d644-5f3fa572778b"
      },
      "source": [
        "df_v3.shape"
      ],
      "execution_count": null,
      "outputs": [
        {
          "output_type": "execute_result",
          "data": {
            "text/plain": [
              "(32574, 12)"
            ]
          },
          "metadata": {},
          "execution_count": 43
        }
      ]
    },
    {
      "cell_type": "code",
      "metadata": {
        "colab": {
          "base_uri": "https://localhost:8080/"
        },
        "id": "T0Lpwo7We8FM",
        "outputId": "e741d85a-9414-4f5b-b935-b850e208ed22"
      },
      "source": [
        "df_v3['person_emp_length'].describe()"
      ],
      "execution_count": null,
      "outputs": [
        {
          "output_type": "execute_result",
          "data": {
            "text/plain": [
              "count    31679.000000\n",
              "mean         4.782064\n",
              "std          4.034948\n",
              "min          0.000000\n",
              "25%          2.000000\n",
              "50%          4.000000\n",
              "75%          7.000000\n",
              "max         41.000000\n",
              "Name: person_emp_length, dtype: float64"
            ]
          },
          "metadata": {},
          "execution_count": 44
        }
      ]
    },
    {
      "cell_type": "markdown",
      "metadata": {
        "id": "nNQMbt5cfXFB"
      },
      "source": [
        "### Tratando os NA da coluna TEMPO DE TRABALHO\n",
        "\n",
        "\n",
        "---\n",
        "\n",
        "Considerando que os NA representam 2,75% da coluna (pouco representativo), será atribuída a estes registros a mediana do tempo de serviço dos demais registros."
      ]
    },
    {
      "cell_type": "code",
      "metadata": {
        "colab": {
          "base_uri": "https://localhost:8080/"
        },
        "id": "KO3z073WcZc1",
        "outputId": "61bb15e1-a3d9-4f8a-d001-68304d49a13e"
      },
      "source": [
        "df_v3['person_emp_length'].describe()"
      ],
      "execution_count": null,
      "outputs": [
        {
          "output_type": "execute_result",
          "data": {
            "text/plain": [
              "count    32574.000000\n",
              "mean         4.760576\n",
              "std          3.981181\n",
              "min          0.000000\n",
              "25%          2.000000\n",
              "50%          4.000000\n",
              "75%          7.000000\n",
              "max         41.000000\n",
              "Name: person_emp_length, dtype: float64"
            ]
          },
          "metadata": {},
          "execution_count": 101
        }
      ]
    },
    {
      "cell_type": "code",
      "metadata": {
        "colab": {
          "base_uri": "https://localhost:8080/"
        },
        "id": "G0iMGbABe8IY",
        "outputId": "33ba5c97-84b0-40b6-e0ac-f24102e637ab"
      },
      "source": [
        "Nan_per = df_v3.isnull().sum()/df_v3.shape[0]*100\n",
        "Nan_per['person_emp_length'].round(2)"
      ],
      "execution_count": null,
      "outputs": [
        {
          "output_type": "execute_result",
          "data": {
            "text/plain": [
              "2.75"
            ]
          },
          "metadata": {},
          "execution_count": 45
        }
      ]
    },
    {
      "cell_type": "code",
      "metadata": {
        "id": "FIBVENH5f3os"
      },
      "source": [
        "df_v3['person_emp_length'].fillna(value=df_v3['person_emp_length'].median(), inplace=True)"
      ],
      "execution_count": null,
      "outputs": []
    },
    {
      "cell_type": "code",
      "metadata": {
        "colab": {
          "base_uri": "https://localhost:8080/"
        },
        "id": "KaTGZR6ygo7F",
        "outputId": "4e25691b-ee97-4812-98f5-96052c6a1ec4"
      },
      "source": [
        "Nan_per = df_v3.isnull().sum()/df_v3.shape[0]*100\n",
        "Nan_per['person_emp_length'].round(2)"
      ],
      "execution_count": null,
      "outputs": [
        {
          "output_type": "execute_result",
          "data": {
            "text/plain": [
              "0.0"
            ]
          },
          "metadata": {},
          "execution_count": 47
        }
      ]
    },
    {
      "cell_type": "markdown",
      "metadata": {
        "id": "R0FT96NRRGxb"
      },
      "source": [
        "## loan_intent MOTIVO DO EMPRÉSTIMO\n",
        "~20% dos empréstimos relacionados na base de dados tem a finalidade de financiar gastos com educação.\n",
        "\n",
        "---\n",
        "\n",
        "A base de dados conta com menos empréstimos para reforma/melhoria de casa (HOMEIMPROVEMENT). Os clientes que tomam empréstimo com este motivo solicitam valores ligeiramente maiores do que para os demais motivos.\n",
        "\n",
        "```\n",
        "MOTIVO                         %      Idade Média/Mediana  Valor do empréstimo Médio/Mediano\n",
        "EDUCAÇÃO                     19.80       26.55|24\t          9481.53|8000\n",
        "SAÚDE                        18.64       28.00|26\t          9259.58|8000\n",
        "INVESTIMENTO/RISCO           17.55       27.53|26\t          9580.97|8000\n",
        "PESSOAL                      16.94       28.19|26\t          9569.99|8000\n",
        "CONSOLIDAÇÃO DE DÉBITOS      16.00       27.61|26\t\t      9594.89|8000\n",
        "REFORMA/MELHORIA DE CASA     11.07       29.07|27\t         10360.52|9000\n",
        "```"
      ]
    },
    {
      "cell_type": "code",
      "metadata": {
        "colab": {
          "base_uri": "https://localhost:8080/"
        },
        "id": "bdWbaPTGRG8F",
        "outputId": "96cf55f4-1238-4c47-a93e-5e25e55f7040"
      },
      "source": [
        "df_v3['loan_intent'].nunique()"
      ],
      "execution_count": null,
      "outputs": [
        {
          "output_type": "execute_result",
          "data": {
            "text/plain": [
              "6"
            ]
          },
          "metadata": {},
          "execution_count": 48
        }
      ]
    },
    {
      "cell_type": "code",
      "metadata": {
        "colab": {
          "base_uri": "https://localhost:8080/"
        },
        "id": "GbG60S_6guoJ",
        "outputId": "2bc1958f-f2a4-4a98-bc89-0bbb54ec588e"
      },
      "source": [
        "df_v3['loan_intent'].unique()"
      ],
      "execution_count": null,
      "outputs": [
        {
          "output_type": "execute_result",
          "data": {
            "text/plain": [
              "array(['EDUCATION', 'MEDICAL', 'VENTURE', 'PERSONAL', 'HOMEIMPROVEMENT',\n",
              "       'DEBTCONSOLIDATION'], dtype=object)"
            ]
          },
          "metadata": {},
          "execution_count": 49
        }
      ]
    },
    {
      "cell_type": "code",
      "metadata": {
        "id": "3X2SLPUwgyLj"
      },
      "source": [
        "df_v3_gb_intent = df_v3.groupby(\"loan_intent\")[['person_age', 'loan_amnt']]"
      ],
      "execution_count": null,
      "outputs": []
    },
    {
      "cell_type": "code",
      "metadata": {
        "colab": {
          "base_uri": "https://localhost:8080/"
        },
        "id": "eBndJYeEf6xL",
        "outputId": "239a1236-62fb-4f92-da80-6d12d74d9353"
      },
      "source": [
        "df_v3_gb_intent_percent = df_v3_gb_intent.count().sort_values(by='loan_amnt', ascending=False)\n",
        "df_v3_gb_intent_percent['%'] = df_v3_gb_intent_percent['person_age'] / df_v3_gb_intent_percent['person_age'].sum()\n",
        "(100*df_v3_gb_intent_percent['%'].sort_values(ascending=False)).round(2)"
      ],
      "execution_count": null,
      "outputs": [
        {
          "output_type": "execute_result",
          "data": {
            "text/plain": [
              "loan_intent\n",
              "EDUCATION            19.80\n",
              "MEDICAL              18.64\n",
              "VENTURE              17.55\n",
              "PERSONAL             16.94\n",
              "DEBTCONSOLIDATION    16.00\n",
              "HOMEIMPROVEMENT      11.07\n",
              "Name: %, dtype: float64"
            ]
          },
          "metadata": {},
          "execution_count": 109
        }
      ]
    },
    {
      "cell_type": "code",
      "metadata": {
        "colab": {
          "base_uri": "https://localhost:8080/",
          "height": 263
        },
        "id": "haCdr3WLiEiX",
        "outputId": "5c74e3b3-e76c-4517-db55-7338c9328e2f"
      },
      "source": [
        "df_v3_gb_intent.count().sort_values(by='loan_amnt', ascending=False)"
      ],
      "execution_count": null,
      "outputs": [
        {
          "output_type": "execute_result",
          "data": {
            "text/html": [
              "<div>\n",
              "<style scoped>\n",
              "    .dataframe tbody tr th:only-of-type {\n",
              "        vertical-align: middle;\n",
              "    }\n",
              "\n",
              "    .dataframe tbody tr th {\n",
              "        vertical-align: top;\n",
              "    }\n",
              "\n",
              "    .dataframe thead th {\n",
              "        text-align: right;\n",
              "    }\n",
              "</style>\n",
              "<table border=\"1\" class=\"dataframe\">\n",
              "  <thead>\n",
              "    <tr style=\"text-align: right;\">\n",
              "      <th></th>\n",
              "      <th>person_age</th>\n",
              "      <th>loan_amnt</th>\n",
              "    </tr>\n",
              "    <tr>\n",
              "      <th>loan_intent</th>\n",
              "      <th></th>\n",
              "      <th></th>\n",
              "    </tr>\n",
              "  </thead>\n",
              "  <tbody>\n",
              "    <tr>\n",
              "      <th>EDUCATION</th>\n",
              "      <td>6451</td>\n",
              "      <td>6451</td>\n",
              "    </tr>\n",
              "    <tr>\n",
              "      <th>MEDICAL</th>\n",
              "      <td>6071</td>\n",
              "      <td>6071</td>\n",
              "    </tr>\n",
              "    <tr>\n",
              "      <th>VENTURE</th>\n",
              "      <td>5716</td>\n",
              "      <td>5716</td>\n",
              "    </tr>\n",
              "    <tr>\n",
              "      <th>PERSONAL</th>\n",
              "      <td>5519</td>\n",
              "      <td>5519</td>\n",
              "    </tr>\n",
              "    <tr>\n",
              "      <th>DEBTCONSOLIDATION</th>\n",
              "      <td>5212</td>\n",
              "      <td>5212</td>\n",
              "    </tr>\n",
              "    <tr>\n",
              "      <th>HOMEIMPROVEMENT</th>\n",
              "      <td>3605</td>\n",
              "      <td>3605</td>\n",
              "    </tr>\n",
              "  </tbody>\n",
              "</table>\n",
              "</div>"
            ],
            "text/plain": [
              "                   person_age  loan_amnt\n",
              "loan_intent                             \n",
              "EDUCATION                6451       6451\n",
              "MEDICAL                  6071       6071\n",
              "VENTURE                  5716       5716\n",
              "PERSONAL                 5519       5519\n",
              "DEBTCONSOLIDATION        5212       5212\n",
              "HOMEIMPROVEMENT          3605       3605"
            ]
          },
          "metadata": {},
          "execution_count": 51
        }
      ]
    },
    {
      "cell_type": "code",
      "metadata": {
        "colab": {
          "base_uri": "https://localhost:8080/",
          "height": 263
        },
        "id": "z4j9FiRynrlS",
        "outputId": "278af846-73b8-4b5d-d340-9ceaee927590"
      },
      "source": [
        "df_v3_gb_intent.median().sort_values(by='loan_amnt', ascending=False)"
      ],
      "execution_count": null,
      "outputs": [
        {
          "output_type": "execute_result",
          "data": {
            "text/html": [
              "<div>\n",
              "<style scoped>\n",
              "    .dataframe tbody tr th:only-of-type {\n",
              "        vertical-align: middle;\n",
              "    }\n",
              "\n",
              "    .dataframe tbody tr th {\n",
              "        vertical-align: top;\n",
              "    }\n",
              "\n",
              "    .dataframe thead th {\n",
              "        text-align: right;\n",
              "    }\n",
              "</style>\n",
              "<table border=\"1\" class=\"dataframe\">\n",
              "  <thead>\n",
              "    <tr style=\"text-align: right;\">\n",
              "      <th></th>\n",
              "      <th>person_age</th>\n",
              "      <th>loan_amnt</th>\n",
              "    </tr>\n",
              "    <tr>\n",
              "      <th>loan_intent</th>\n",
              "      <th></th>\n",
              "      <th></th>\n",
              "    </tr>\n",
              "  </thead>\n",
              "  <tbody>\n",
              "    <tr>\n",
              "      <th>HOMEIMPROVEMENT</th>\n",
              "      <td>27</td>\n",
              "      <td>9000</td>\n",
              "    </tr>\n",
              "    <tr>\n",
              "      <th>DEBTCONSOLIDATION</th>\n",
              "      <td>26</td>\n",
              "      <td>8000</td>\n",
              "    </tr>\n",
              "    <tr>\n",
              "      <th>EDUCATION</th>\n",
              "      <td>24</td>\n",
              "      <td>8000</td>\n",
              "    </tr>\n",
              "    <tr>\n",
              "      <th>MEDICAL</th>\n",
              "      <td>26</td>\n",
              "      <td>8000</td>\n",
              "    </tr>\n",
              "    <tr>\n",
              "      <th>PERSONAL</th>\n",
              "      <td>26</td>\n",
              "      <td>8000</td>\n",
              "    </tr>\n",
              "    <tr>\n",
              "      <th>VENTURE</th>\n",
              "      <td>26</td>\n",
              "      <td>8000</td>\n",
              "    </tr>\n",
              "  </tbody>\n",
              "</table>\n",
              "</div>"
            ],
            "text/plain": [
              "                   person_age  loan_amnt\n",
              "loan_intent                             \n",
              "HOMEIMPROVEMENT            27       9000\n",
              "DEBTCONSOLIDATION          26       8000\n",
              "EDUCATION                  24       8000\n",
              "MEDICAL                    26       8000\n",
              "PERSONAL                   26       8000\n",
              "VENTURE                    26       8000"
            ]
          },
          "metadata": {},
          "execution_count": 110
        }
      ]
    },
    {
      "cell_type": "code",
      "metadata": {
        "colab": {
          "base_uri": "https://localhost:8080/",
          "height": 263
        },
        "id": "nq4TmtAFhE3I",
        "outputId": "2e067566-4732-4d92-c491-78ff61a6438b"
      },
      "source": [
        "df_v3_gb_intent.sum().sort_values(by='loan_amnt', ascending=False).round(2)"
      ],
      "execution_count": null,
      "outputs": [
        {
          "output_type": "execute_result",
          "data": {
            "text/html": [
              "<div>\n",
              "<style scoped>\n",
              "    .dataframe tbody tr th:only-of-type {\n",
              "        vertical-align: middle;\n",
              "    }\n",
              "\n",
              "    .dataframe tbody tr th {\n",
              "        vertical-align: top;\n",
              "    }\n",
              "\n",
              "    .dataframe thead th {\n",
              "        text-align: right;\n",
              "    }\n",
              "</style>\n",
              "<table border=\"1\" class=\"dataframe\">\n",
              "  <thead>\n",
              "    <tr style=\"text-align: right;\">\n",
              "      <th></th>\n",
              "      <th>person_age</th>\n",
              "      <th>loan_amnt</th>\n",
              "    </tr>\n",
              "    <tr>\n",
              "      <th>loan_intent</th>\n",
              "      <th></th>\n",
              "      <th></th>\n",
              "    </tr>\n",
              "  </thead>\n",
              "  <tbody>\n",
              "    <tr>\n",
              "      <th>EDUCATION</th>\n",
              "      <td>171306</td>\n",
              "      <td>61165325</td>\n",
              "    </tr>\n",
              "    <tr>\n",
              "      <th>MEDICAL</th>\n",
              "      <td>169976</td>\n",
              "      <td>56214925</td>\n",
              "    </tr>\n",
              "    <tr>\n",
              "      <th>VENTURE</th>\n",
              "      <td>157376</td>\n",
              "      <td>54764825</td>\n",
              "    </tr>\n",
              "    <tr>\n",
              "      <th>PERSONAL</th>\n",
              "      <td>155573</td>\n",
              "      <td>52816800</td>\n",
              "    </tr>\n",
              "    <tr>\n",
              "      <th>DEBTCONSOLIDATION</th>\n",
              "      <td>143884</td>\n",
              "      <td>50008550</td>\n",
              "    </tr>\n",
              "    <tr>\n",
              "      <th>HOMEIMPROVEMENT</th>\n",
              "      <td>104785</td>\n",
              "      <td>37349675</td>\n",
              "    </tr>\n",
              "  </tbody>\n",
              "</table>\n",
              "</div>"
            ],
            "text/plain": [
              "                   person_age  loan_amnt\n",
              "loan_intent                             \n",
              "EDUCATION              171306   61165325\n",
              "MEDICAL                169976   56214925\n",
              "VENTURE                157376   54764825\n",
              "PERSONAL               155573   52816800\n",
              "DEBTCONSOLIDATION      143884   50008550\n",
              "HOMEIMPROVEMENT        104785   37349675"
            ]
          },
          "metadata": {},
          "execution_count": 52
        }
      ]
    },
    {
      "cell_type": "code",
      "metadata": {
        "colab": {
          "base_uri": "https://localhost:8080/",
          "height": 263
        },
        "id": "_kwFTe7KhSdl",
        "outputId": "1034fc19-f390-4d8e-e507-10eeb5fce0cf"
      },
      "source": [
        "(df_v3_gb_intent.sum() / df_v3_gb_intent.count()).sort_values(by='loan_amnt', ascending=False).round(2)"
      ],
      "execution_count": null,
      "outputs": [
        {
          "output_type": "execute_result",
          "data": {
            "text/html": [
              "<div>\n",
              "<style scoped>\n",
              "    .dataframe tbody tr th:only-of-type {\n",
              "        vertical-align: middle;\n",
              "    }\n",
              "\n",
              "    .dataframe tbody tr th {\n",
              "        vertical-align: top;\n",
              "    }\n",
              "\n",
              "    .dataframe thead th {\n",
              "        text-align: right;\n",
              "    }\n",
              "</style>\n",
              "<table border=\"1\" class=\"dataframe\">\n",
              "  <thead>\n",
              "    <tr style=\"text-align: right;\">\n",
              "      <th></th>\n",
              "      <th>person_age</th>\n",
              "      <th>loan_amnt</th>\n",
              "    </tr>\n",
              "    <tr>\n",
              "      <th>loan_intent</th>\n",
              "      <th></th>\n",
              "      <th></th>\n",
              "    </tr>\n",
              "  </thead>\n",
              "  <tbody>\n",
              "    <tr>\n",
              "      <th>HOMEIMPROVEMENT</th>\n",
              "      <td>29.07</td>\n",
              "      <td>10360.52</td>\n",
              "    </tr>\n",
              "    <tr>\n",
              "      <th>DEBTCONSOLIDATION</th>\n",
              "      <td>27.61</td>\n",
              "      <td>9594.89</td>\n",
              "    </tr>\n",
              "    <tr>\n",
              "      <th>VENTURE</th>\n",
              "      <td>27.53</td>\n",
              "      <td>9580.97</td>\n",
              "    </tr>\n",
              "    <tr>\n",
              "      <th>PERSONAL</th>\n",
              "      <td>28.19</td>\n",
              "      <td>9569.99</td>\n",
              "    </tr>\n",
              "    <tr>\n",
              "      <th>EDUCATION</th>\n",
              "      <td>26.55</td>\n",
              "      <td>9481.53</td>\n",
              "    </tr>\n",
              "    <tr>\n",
              "      <th>MEDICAL</th>\n",
              "      <td>28.00</td>\n",
              "      <td>9259.58</td>\n",
              "    </tr>\n",
              "  </tbody>\n",
              "</table>\n",
              "</div>"
            ],
            "text/plain": [
              "                   person_age  loan_amnt\n",
              "loan_intent                             \n",
              "HOMEIMPROVEMENT         29.07   10360.52\n",
              "DEBTCONSOLIDATION       27.61    9594.89\n",
              "VENTURE                 27.53    9580.97\n",
              "PERSONAL                28.19    9569.99\n",
              "EDUCATION               26.55    9481.53\n",
              "MEDICAL                 28.00    9259.58"
            ]
          },
          "metadata": {},
          "execution_count": 53
        }
      ]
    },
    {
      "cell_type": "markdown",
      "metadata": {
        "id": "nmEB7BDrhTUc"
      },
      "source": [
        "## loan_grade GRAU DO EMPRÉSTIMO\n",
        "\n",
        "\n",
        "---\n",
        "\n",
        "85% dos empréstimos registrados na base de dados concentram-se nos graus A, B e C\n",
        "\n",
        "\n",
        "---\n",
        "\n",
        "O grau C apresenta maior amplitude de idade e renda das pessoas\n",
        "\n",
        "\n",
        "---\n",
        "\n",
        "Os graus B, C e D apresentam menores rendas medianas"
      ]
    },
    {
      "cell_type": "code",
      "metadata": {
        "colab": {
          "base_uri": "https://localhost:8080/"
        },
        "id": "XCNLQXwM5AEo",
        "outputId": "5cc08ab8-3fe3-45af-b52a-bd208406f58c"
      },
      "source": [
        "df_v3.loan_grade.nunique()"
      ],
      "execution_count": null,
      "outputs": [
        {
          "output_type": "execute_result",
          "data": {
            "text/plain": [
              "7"
            ]
          },
          "metadata": {},
          "execution_count": 54
        }
      ]
    },
    {
      "cell_type": "code",
      "metadata": {
        "colab": {
          "base_uri": "https://localhost:8080/"
        },
        "id": "HL5OOgiU5E2G",
        "outputId": "1ab1e436-9e3c-4dcd-c244-2a4157212822"
      },
      "source": [
        "df_v3.loan_grade.unique()"
      ],
      "execution_count": null,
      "outputs": [
        {
          "output_type": "execute_result",
          "data": {
            "text/plain": [
              "array(['B', 'C', 'A', 'D', 'E', 'F', 'G'], dtype=object)"
            ]
          },
          "metadata": {},
          "execution_count": 55
        }
      ]
    },
    {
      "cell_type": "code",
      "metadata": {
        "id": "sCN2LhKhy8xM"
      },
      "source": [
        "df_v3_loan_grade_percent = df_v3.loan_grade.value_counts()"
      ],
      "execution_count": null,
      "outputs": []
    },
    {
      "cell_type": "code",
      "metadata": {
        "colab": {
          "base_uri": "https://localhost:8080/"
        },
        "id": "c8y9EmeOzBuF",
        "outputId": "097a71c1-c4b1-4e37-f5d1-4a6e4d136aa2"
      },
      "source": [
        "100 * (df_v3_loan_grade_percent / df_v3.loan_grade.count()).round(2)"
      ],
      "execution_count": null,
      "outputs": [
        {
          "output_type": "execute_result",
          "data": {
            "text/plain": [
              "A    33.0\n",
              "B    32.0\n",
              "C    20.0\n",
              "D    11.0\n",
              "E     3.0\n",
              "F     1.0\n",
              "G     0.0\n",
              "Name: loan_grade, dtype: float64"
            ]
          },
          "metadata": {},
          "execution_count": 139
        }
      ]
    },
    {
      "cell_type": "code",
      "metadata": {
        "colab": {
          "base_uri": "https://localhost:8080/"
        },
        "id": "aF3icCZmxGDR",
        "outputId": "4e135efa-ab50-4d1c-e4a4-b848d32bab3f"
      },
      "source": [
        "df_v3.loan_grade.value_counts()"
      ],
      "execution_count": null,
      "outputs": [
        {
          "output_type": "execute_result",
          "data": {
            "text/plain": [
              "A    10776\n",
              "B    10448\n",
              "C     6456\n",
              "D     3625\n",
              "E      964\n",
              "F      241\n",
              "G       64\n",
              "Name: loan_grade, dtype: int64"
            ]
          },
          "metadata": {},
          "execution_count": 128
        }
      ]
    },
    {
      "cell_type": "code",
      "metadata": {
        "id": "E3zS7QX05E4s"
      },
      "source": [
        "df_v3_gb_grade = df_v3.groupby('loan_grade')[['person_age', 'loan_amnt', 'person_income']]"
      ],
      "execution_count": null,
      "outputs": []
    },
    {
      "cell_type": "code",
      "metadata": {
        "colab": {
          "base_uri": "https://localhost:8080/",
          "height": 294
        },
        "id": "CF_3mjgBw_mi",
        "outputId": "ca31a550-b116-4edc-cb5b-299e01f2e55a"
      },
      "source": [
        "df_v3_gb_grade.median().round()"
      ],
      "execution_count": null,
      "outputs": [
        {
          "output_type": "execute_result",
          "data": {
            "text/html": [
              "<div>\n",
              "<style scoped>\n",
              "    .dataframe tbody tr th:only-of-type {\n",
              "        vertical-align: middle;\n",
              "    }\n",
              "\n",
              "    .dataframe tbody tr th {\n",
              "        vertical-align: top;\n",
              "    }\n",
              "\n",
              "    .dataframe thead th {\n",
              "        text-align: right;\n",
              "    }\n",
              "</style>\n",
              "<table border=\"1\" class=\"dataframe\">\n",
              "  <thead>\n",
              "    <tr style=\"text-align: right;\">\n",
              "      <th></th>\n",
              "      <th>person_age</th>\n",
              "      <th>loan_amnt</th>\n",
              "      <th>person_income</th>\n",
              "    </tr>\n",
              "    <tr>\n",
              "      <th>loan_grade</th>\n",
              "      <th></th>\n",
              "      <th></th>\n",
              "      <th></th>\n",
              "    </tr>\n",
              "  </thead>\n",
              "  <tbody>\n",
              "    <tr>\n",
              "      <th>A</th>\n",
              "      <td>26.0</td>\n",
              "      <td>7500.0</td>\n",
              "      <td>57600.0</td>\n",
              "    </tr>\n",
              "    <tr>\n",
              "      <th>B</th>\n",
              "      <td>26.0</td>\n",
              "      <td>8400.0</td>\n",
              "      <td>55000.0</td>\n",
              "    </tr>\n",
              "    <tr>\n",
              "      <th>C</th>\n",
              "      <td>26.0</td>\n",
              "      <td>8000.0</td>\n",
              "      <td>53000.0</td>\n",
              "    </tr>\n",
              "    <tr>\n",
              "      <th>D</th>\n",
              "      <td>26.0</td>\n",
              "      <td>9000.0</td>\n",
              "      <td>53800.0</td>\n",
              "    </tr>\n",
              "    <tr>\n",
              "      <th>E</th>\n",
              "      <td>26.0</td>\n",
              "      <td>12000.0</td>\n",
              "      <td>59328.0</td>\n",
              "    </tr>\n",
              "    <tr>\n",
              "      <th>F</th>\n",
              "      <td>26.0</td>\n",
              "      <td>15000.0</td>\n",
              "      <td>65000.0</td>\n",
              "    </tr>\n",
              "    <tr>\n",
              "      <th>G</th>\n",
              "      <td>28.0</td>\n",
              "      <td>19375.0</td>\n",
              "      <td>66900.0</td>\n",
              "    </tr>\n",
              "  </tbody>\n",
              "</table>\n",
              "</div>"
            ],
            "text/plain": [
              "            person_age  loan_amnt  person_income\n",
              "loan_grade                                      \n",
              "A                 26.0     7500.0        57600.0\n",
              "B                 26.0     8400.0        55000.0\n",
              "C                 26.0     8000.0        53000.0\n",
              "D                 26.0     9000.0        53800.0\n",
              "E                 26.0    12000.0        59328.0\n",
              "F                 26.0    15000.0        65000.0\n",
              "G                 28.0    19375.0        66900.0"
            ]
          },
          "metadata": {},
          "execution_count": 129
        }
      ]
    },
    {
      "cell_type": "code",
      "metadata": {
        "colab": {
          "base_uri": "https://localhost:8080/",
          "height": 294
        },
        "id": "UKVF8RAbxirx",
        "outputId": "3b38e152-1853-40d7-c2b2-9e6848ef8780"
      },
      "source": [
        "df_v3_gb_grade.min().round()"
      ],
      "execution_count": null,
      "outputs": [
        {
          "output_type": "execute_result",
          "data": {
            "text/html": [
              "<div>\n",
              "<style scoped>\n",
              "    .dataframe tbody tr th:only-of-type {\n",
              "        vertical-align: middle;\n",
              "    }\n",
              "\n",
              "    .dataframe tbody tr th {\n",
              "        vertical-align: top;\n",
              "    }\n",
              "\n",
              "    .dataframe thead th {\n",
              "        text-align: right;\n",
              "    }\n",
              "</style>\n",
              "<table border=\"1\" class=\"dataframe\">\n",
              "  <thead>\n",
              "    <tr style=\"text-align: right;\">\n",
              "      <th></th>\n",
              "      <th>person_age</th>\n",
              "      <th>loan_amnt</th>\n",
              "      <th>person_income</th>\n",
              "    </tr>\n",
              "    <tr>\n",
              "      <th>loan_grade</th>\n",
              "      <th></th>\n",
              "      <th></th>\n",
              "      <th></th>\n",
              "    </tr>\n",
              "  </thead>\n",
              "  <tbody>\n",
              "    <tr>\n",
              "      <th>A</th>\n",
              "      <td>20</td>\n",
              "      <td>500</td>\n",
              "      <td>5500</td>\n",
              "    </tr>\n",
              "    <tr>\n",
              "      <th>B</th>\n",
              "      <td>20</td>\n",
              "      <td>500</td>\n",
              "      <td>4080</td>\n",
              "    </tr>\n",
              "    <tr>\n",
              "      <th>C</th>\n",
              "      <td>20</td>\n",
              "      <td>500</td>\n",
              "      <td>4000</td>\n",
              "    </tr>\n",
              "    <tr>\n",
              "      <th>D</th>\n",
              "      <td>20</td>\n",
              "      <td>1000</td>\n",
              "      <td>4800</td>\n",
              "    </tr>\n",
              "    <tr>\n",
              "      <th>E</th>\n",
              "      <td>21</td>\n",
              "      <td>1000</td>\n",
              "      <td>4200</td>\n",
              "    </tr>\n",
              "    <tr>\n",
              "      <th>F</th>\n",
              "      <td>21</td>\n",
              "      <td>1200</td>\n",
              "      <td>14400</td>\n",
              "    </tr>\n",
              "    <tr>\n",
              "      <th>G</th>\n",
              "      <td>22</td>\n",
              "      <td>1600</td>\n",
              "      <td>19200</td>\n",
              "    </tr>\n",
              "  </tbody>\n",
              "</table>\n",
              "</div>"
            ],
            "text/plain": [
              "            person_age  loan_amnt  person_income\n",
              "loan_grade                                      \n",
              "A                   20        500           5500\n",
              "B                   20        500           4080\n",
              "C                   20        500           4000\n",
              "D                   20       1000           4800\n",
              "E                   21       1000           4200\n",
              "F                   21       1200          14400\n",
              "G                   22       1600          19200"
            ]
          },
          "metadata": {},
          "execution_count": 130
        }
      ]
    },
    {
      "cell_type": "code",
      "metadata": {
        "colab": {
          "base_uri": "https://localhost:8080/",
          "height": 294
        },
        "id": "voAyUFzGxoUl",
        "outputId": "bf981883-fe9a-43b2-f595-9b88575b4aba"
      },
      "source": [
        "df_v3_gb_grade.max().round()"
      ],
      "execution_count": null,
      "outputs": [
        {
          "output_type": "execute_result",
          "data": {
            "text/html": [
              "<div>\n",
              "<style scoped>\n",
              "    .dataframe tbody tr th:only-of-type {\n",
              "        vertical-align: middle;\n",
              "    }\n",
              "\n",
              "    .dataframe tbody tr th {\n",
              "        vertical-align: top;\n",
              "    }\n",
              "\n",
              "    .dataframe thead th {\n",
              "        text-align: right;\n",
              "    }\n",
              "</style>\n",
              "<table border=\"1\" class=\"dataframe\">\n",
              "  <thead>\n",
              "    <tr style=\"text-align: right;\">\n",
              "      <th></th>\n",
              "      <th>person_age</th>\n",
              "      <th>loan_amnt</th>\n",
              "      <th>person_income</th>\n",
              "    </tr>\n",
              "    <tr>\n",
              "      <th>loan_grade</th>\n",
              "      <th></th>\n",
              "      <th></th>\n",
              "      <th></th>\n",
              "    </tr>\n",
              "  </thead>\n",
              "  <tbody>\n",
              "    <tr>\n",
              "      <th>A</th>\n",
              "      <td>84</td>\n",
              "      <td>35000</td>\n",
              "      <td>1900000</td>\n",
              "    </tr>\n",
              "    <tr>\n",
              "      <th>B</th>\n",
              "      <td>80</td>\n",
              "      <td>35000</td>\n",
              "      <td>948000</td>\n",
              "    </tr>\n",
              "    <tr>\n",
              "      <th>C</th>\n",
              "      <td>94</td>\n",
              "      <td>35000</td>\n",
              "      <td>2039784</td>\n",
              "    </tr>\n",
              "    <tr>\n",
              "      <th>D</th>\n",
              "      <td>70</td>\n",
              "      <td>35000</td>\n",
              "      <td>703800</td>\n",
              "    </tr>\n",
              "    <tr>\n",
              "      <th>E</th>\n",
              "      <td>66</td>\n",
              "      <td>35000</td>\n",
              "      <td>648000</td>\n",
              "    </tr>\n",
              "    <tr>\n",
              "      <th>F</th>\n",
              "      <td>51</td>\n",
              "      <td>35000</td>\n",
              "      <td>499800</td>\n",
              "    </tr>\n",
              "    <tr>\n",
              "      <th>G</th>\n",
              "      <td>50</td>\n",
              "      <td>35000</td>\n",
              "      <td>288000</td>\n",
              "    </tr>\n",
              "  </tbody>\n",
              "</table>\n",
              "</div>"
            ],
            "text/plain": [
              "            person_age  loan_amnt  person_income\n",
              "loan_grade                                      \n",
              "A                   84      35000        1900000\n",
              "B                   80      35000         948000\n",
              "C                   94      35000        2039784\n",
              "D                   70      35000         703800\n",
              "E                   66      35000         648000\n",
              "F                   51      35000         499800\n",
              "G                   50      35000         288000"
            ]
          },
          "metadata": {},
          "execution_count": 131
        }
      ]
    },
    {
      "cell_type": "code",
      "metadata": {
        "colab": {
          "base_uri": "https://localhost:8080/",
          "height": 294
        },
        "id": "3EiDJxhTxzTz",
        "outputId": "af51b2e8-52b4-493f-c156-aecb8c25c220"
      },
      "source": [
        "df_v3_gb_grade.max().round() - df_v3_gb_grade.min().round()"
      ],
      "execution_count": null,
      "outputs": [
        {
          "output_type": "execute_result",
          "data": {
            "text/html": [
              "<div>\n",
              "<style scoped>\n",
              "    .dataframe tbody tr th:only-of-type {\n",
              "        vertical-align: middle;\n",
              "    }\n",
              "\n",
              "    .dataframe tbody tr th {\n",
              "        vertical-align: top;\n",
              "    }\n",
              "\n",
              "    .dataframe thead th {\n",
              "        text-align: right;\n",
              "    }\n",
              "</style>\n",
              "<table border=\"1\" class=\"dataframe\">\n",
              "  <thead>\n",
              "    <tr style=\"text-align: right;\">\n",
              "      <th></th>\n",
              "      <th>person_age</th>\n",
              "      <th>loan_amnt</th>\n",
              "      <th>person_income</th>\n",
              "    </tr>\n",
              "    <tr>\n",
              "      <th>loan_grade</th>\n",
              "      <th></th>\n",
              "      <th></th>\n",
              "      <th></th>\n",
              "    </tr>\n",
              "  </thead>\n",
              "  <tbody>\n",
              "    <tr>\n",
              "      <th>A</th>\n",
              "      <td>64</td>\n",
              "      <td>34500</td>\n",
              "      <td>1894500</td>\n",
              "    </tr>\n",
              "    <tr>\n",
              "      <th>B</th>\n",
              "      <td>60</td>\n",
              "      <td>34500</td>\n",
              "      <td>943920</td>\n",
              "    </tr>\n",
              "    <tr>\n",
              "      <th>C</th>\n",
              "      <td>74</td>\n",
              "      <td>34500</td>\n",
              "      <td>2035784</td>\n",
              "    </tr>\n",
              "    <tr>\n",
              "      <th>D</th>\n",
              "      <td>50</td>\n",
              "      <td>34000</td>\n",
              "      <td>699000</td>\n",
              "    </tr>\n",
              "    <tr>\n",
              "      <th>E</th>\n",
              "      <td>45</td>\n",
              "      <td>34000</td>\n",
              "      <td>643800</td>\n",
              "    </tr>\n",
              "    <tr>\n",
              "      <th>F</th>\n",
              "      <td>30</td>\n",
              "      <td>33800</td>\n",
              "      <td>485400</td>\n",
              "    </tr>\n",
              "    <tr>\n",
              "      <th>G</th>\n",
              "      <td>28</td>\n",
              "      <td>33400</td>\n",
              "      <td>268800</td>\n",
              "    </tr>\n",
              "  </tbody>\n",
              "</table>\n",
              "</div>"
            ],
            "text/plain": [
              "            person_age  loan_amnt  person_income\n",
              "loan_grade                                      \n",
              "A                   64      34500        1894500\n",
              "B                   60      34500         943920\n",
              "C                   74      34500        2035784\n",
              "D                   50      34000         699000\n",
              "E                   45      34000         643800\n",
              "F                   30      33800         485400\n",
              "G                   28      33400         268800"
            ]
          },
          "metadata": {},
          "execution_count": 132
        }
      ]
    },
    {
      "cell_type": "code",
      "metadata": {
        "id": "KaQHR3JsyLNr"
      },
      "source": [
        "df_v3_gb_grade_person_income = df_v3.groupby('loan_grade')['person_income']"
      ],
      "execution_count": null,
      "outputs": []
    },
    {
      "cell_type": "code",
      "metadata": {
        "colab": {
          "base_uri": "https://localhost:8080/",
          "height": 297
        },
        "id": "AVvvddfMyPYs",
        "outputId": "9e03b80a-1aeb-49fb-b11b-b0639e2d2673"
      },
      "source": [
        "df_v3_gb_grade_person_income.median().plot()"
      ],
      "execution_count": null,
      "outputs": [
        {
          "output_type": "execute_result",
          "data": {
            "text/plain": [
              "<matplotlib.axes._subplots.AxesSubplot at 0x7fa4d2f61150>"
            ]
          },
          "metadata": {},
          "execution_count": 135
        },
        {
          "output_type": "display_data",
          "data": {
            "image/png": "[encoded data removed]",
            "text/plain": [
              "<Figure size 432x288 with 1 Axes>"
            ]
          },
          "metadata": {
            "needs_background": "light"
          }
        }
      ]
    },
    {
      "cell_type": "code",
      "metadata": {
        "colab": {
          "base_uri": "https://localhost:8080/",
          "height": 294
        },
        "id": "5jEf6Ujzox9N",
        "outputId": "5dcb0bf6-ac48-4cb5-e426-b15a883cbb21"
      },
      "source": [
        "100 * (df_v3_gb_grade.sum() / df_v3_gb_grade.count()).round(2)"
      ],
      "execution_count": null,
      "outputs": [
        {
          "output_type": "execute_result",
          "data": {
            "text/html": [
              "<div>\n",
              "<style scoped>\n",
              "    .dataframe tbody tr th:only-of-type {\n",
              "        vertical-align: middle;\n",
              "    }\n",
              "\n",
              "    .dataframe tbody tr th {\n",
              "        vertical-align: top;\n",
              "    }\n",
              "\n",
              "    .dataframe thead th {\n",
              "        text-align: right;\n",
              "    }\n",
              "</style>\n",
              "<table border=\"1\" class=\"dataframe\">\n",
              "  <thead>\n",
              "    <tr style=\"text-align: right;\">\n",
              "      <th></th>\n",
              "      <th>person_age</th>\n",
              "      <th>loan_amnt</th>\n",
              "      <th>person_income</th>\n",
              "    </tr>\n",
              "    <tr>\n",
              "      <th>loan_grade</th>\n",
              "      <th></th>\n",
              "      <th></th>\n",
              "      <th></th>\n",
              "    </tr>\n",
              "  </thead>\n",
              "  <tbody>\n",
              "    <tr>\n",
              "      <th>A</th>\n",
              "      <td>2766.0</td>\n",
              "      <td>853821.0</td>\n",
              "      <td>6655657.0</td>\n",
              "    </tr>\n",
              "    <tr>\n",
              "      <th>B</th>\n",
              "      <td>2766.0</td>\n",
              "      <td>999391.0</td>\n",
              "      <td>6633963.0</td>\n",
              "    </tr>\n",
              "    <tr>\n",
              "      <th>C</th>\n",
              "      <td>2776.0</td>\n",
              "      <td>921520.0</td>\n",
              "      <td>6397396.0</td>\n",
              "    </tr>\n",
              "    <tr>\n",
              "      <th>D</th>\n",
              "      <td>2788.0</td>\n",
              "      <td>1084258.0</td>\n",
              "      <td>6366497.0</td>\n",
              "    </tr>\n",
              "    <tr>\n",
              "      <th>E</th>\n",
              "      <td>2787.0</td>\n",
              "      <td>1291585.0</td>\n",
              "      <td>7087311.0</td>\n",
              "    </tr>\n",
              "    <tr>\n",
              "      <th>F</th>\n",
              "      <td>2835.0</td>\n",
              "      <td>1471732.0</td>\n",
              "      <td>7700873.0</td>\n",
              "    </tr>\n",
              "    <tr>\n",
              "      <th>G</th>\n",
              "      <td>2844.0</td>\n",
              "      <td>1719570.0</td>\n",
              "      <td>7677330.0</td>\n",
              "    </tr>\n",
              "  </tbody>\n",
              "</table>\n",
              "</div>"
            ],
            "text/plain": [
              "            person_age  loan_amnt  person_income\n",
              "loan_grade                                      \n",
              "A               2766.0   853821.0      6655657.0\n",
              "B               2766.0   999391.0      6633963.0\n",
              "C               2776.0   921520.0      6397396.0\n",
              "D               2788.0  1084258.0      6366497.0\n",
              "E               2787.0  1291585.0      7087311.0\n",
              "F               2835.0  1471732.0      7700873.0\n",
              "G               2844.0  1719570.0      7677330.0"
            ]
          },
          "metadata": {},
          "execution_count": 122
        }
      ]
    },
    {
      "cell_type": "code",
      "metadata": {
        "id": "kRUEpkEuyrcZ"
      },
      "source": [
        ""
      ],
      "execution_count": null,
      "outputs": []
    },
    {
      "cell_type": "markdown",
      "metadata": {
        "id": "M2e0Qh2k5oVI"
      },
      "source": [
        "## loan_amnt VALOR DO EMPRÉSTIMO\n",
        "\n",
        "\n",
        "---\n",
        "\n",
        "Base de dados conta com empréstimos entre 500 e 35.000 dólares"
      ]
    },
    {
      "cell_type": "code",
      "metadata": {
        "colab": {
          "base_uri": "https://localhost:8080/"
        },
        "id": "6V6t7d1Q5szr",
        "outputId": "a86821bc-428a-4516-a59a-e0ca78ba9c1f"
      },
      "source": [
        "df_v3.loan_amnt.nunique()"
      ],
      "execution_count": null,
      "outputs": [
        {
          "output_type": "execute_result",
          "data": {
            "text/plain": [
              "753"
            ]
          },
          "metadata": {},
          "execution_count": 58
        }
      ]
    },
    {
      "cell_type": "code",
      "metadata": {
        "colab": {
          "base_uri": "https://localhost:8080/"
        },
        "id": "z-MmtMzG5s2x",
        "outputId": "b532d252-e184-48d7-b1f0-9bf0207d9620"
      },
      "source": [
        "df_v3.loan_amnt.describe()"
      ],
      "execution_count": null,
      "outputs": [
        {
          "output_type": "execute_result",
          "data": {
            "text/plain": [
              "count    32574.000000\n",
              "mean      9588.018051\n",
              "std       6320.249598\n",
              "min        500.000000\n",
              "25%       5000.000000\n",
              "50%       8000.000000\n",
              "75%      12200.000000\n",
              "max      35000.000000\n",
              "Name: loan_amnt, dtype: float64"
            ]
          },
          "metadata": {},
          "execution_count": 59
        }
      ]
    },
    {
      "cell_type": "code",
      "metadata": {
        "id": "czwRIE0_tv_K"
      },
      "source": [
        "df_v3_gb_amnt = df_v3.groupby('loan_intent')['loan_amnt']"
      ],
      "execution_count": null,
      "outputs": []
    },
    {
      "cell_type": "code",
      "metadata": {
        "colab": {
          "base_uri": "https://localhost:8080/"
        },
        "id": "bRWR7lkyuOG5",
        "outputId": "d174f5f9-e505-4a26-bea7-2e70595b2919"
      },
      "source": [
        "df_v3_gb_amnt.mean()"
      ],
      "execution_count": null,
      "outputs": [
        {
          "output_type": "execute_result",
          "data": {
            "text/plain": [
              "loan_intent\n",
              "DEBTCONSOLIDATION     9594.886800\n",
              "EDUCATION             9481.526120\n",
              "HOMEIMPROVEMENT      10360.520111\n",
              "MEDICAL               9259.582441\n",
              "PERSONAL              9569.994564\n",
              "VENTURE               9580.970084\n",
              "Name: loan_amnt, dtype: float64"
            ]
          },
          "metadata": {},
          "execution_count": 118
        }
      ]
    },
    {
      "cell_type": "markdown",
      "metadata": {
        "id": "6ViyIFDu598G"
      },
      "source": [
        "## loan_int_rate TAXA DE JUROS \n",
        "\n",
        "\n",
        "---\n",
        "\n",
        "A Taxa de juros varia conforme o Grau do empréstimo com taxa mínima de 5.42 e máxima de 23.22, sem variações significativas devido ao motivo do empréstimo."
      ]
    },
    {
      "cell_type": "code",
      "metadata": {
        "colab": {
          "base_uri": "https://localhost:8080/"
        },
        "id": "SHsYZAME5-Dl",
        "outputId": "6f16a10e-b311-473f-ae33-d619bfa2fb98"
      },
      "source": [
        "df_v3.loan_int_rate.nunique()"
      ],
      "execution_count": null,
      "outputs": [
        {
          "output_type": "execute_result",
          "data": {
            "text/plain": [
              "348"
            ]
          },
          "metadata": {},
          "execution_count": 60
        }
      ]
    },
    {
      "cell_type": "code",
      "metadata": {
        "colab": {
          "base_uri": "https://localhost:8080/"
        },
        "id": "k9pSXV6B5-G2",
        "outputId": "a0366ec8-8b8f-4513-d0f2-1fe613a4c70d"
      },
      "source": [
        "df_v3.loan_int_rate.describe()"
      ],
      "execution_count": null,
      "outputs": [
        {
          "output_type": "execute_result",
          "data": {
            "text/plain": [
              "count    29459.000000\n",
              "mean        11.011529\n",
              "std          3.240497\n",
              "min          5.420000\n",
              "25%          7.900000\n",
              "50%         10.990000\n",
              "75%         13.470000\n",
              "max         23.220000\n",
              "Name: loan_int_rate, dtype: float64"
            ]
          },
          "metadata": {},
          "execution_count": 61
        }
      ]
    },
    {
      "cell_type": "code",
      "metadata": {
        "colab": {
          "base_uri": "https://localhost:8080/"
        },
        "id": "-Niqsb_L6a_4",
        "outputId": "d5c3341b-ec8d-4ec7-db38-fbcbe1fef160"
      },
      "source": [
        "df_v3_gb_rate = df_v3.groupby(by=['loan_intent', 'loan_grade'])['loan_int_rate', 'loan_amnt']"
      ],
      "execution_count": null,
      "outputs": [
        {
          "output_type": "stream",
          "name": "stderr",
          "text": [
            "/usr/local/lib/python3.7/dist-packages/ipykernel_launcher.py:1: FutureWarning: Indexing with multiple keys (implicitly converted to a tuple of keys) will be deprecated, use a list instead.\n",
            "  \"\"\"Entry point for launching an IPython kernel.\n"
          ]
        }
      ]
    },
    {
      "cell_type": "code",
      "metadata": {
        "colab": {
          "base_uri": "https://localhost:8080/",
          "height": 1000
        },
        "id": "0Xqb5EUgr80m",
        "outputId": "1a83124d-7f2f-4677-e0e7-b5c64639720e"
      },
      "source": [
        "df_v3_gb_rate.min().round(2)"
      ],
      "execution_count": null,
      "outputs": [
        {
          "output_type": "execute_result",
          "data": {
            "text/html": [
              "<div>\n",
              "<style scoped>\n",
              "    .dataframe tbody tr th:only-of-type {\n",
              "        vertical-align: middle;\n",
              "    }\n",
              "\n",
              "    .dataframe tbody tr th {\n",
              "        vertical-align: top;\n",
              "    }\n",
              "\n",
              "    .dataframe thead th {\n",
              "        text-align: right;\n",
              "    }\n",
              "</style>\n",
              "<table border=\"1\" class=\"dataframe\">\n",
              "  <thead>\n",
              "    <tr style=\"text-align: right;\">\n",
              "      <th></th>\n",
              "      <th></th>\n",
              "      <th>loan_int_rate</th>\n",
              "      <th>loan_amnt</th>\n",
              "    </tr>\n",
              "    <tr>\n",
              "      <th>loan_intent</th>\n",
              "      <th>loan_grade</th>\n",
              "      <th></th>\n",
              "      <th></th>\n",
              "    </tr>\n",
              "  </thead>\n",
              "  <tbody>\n",
              "    <tr>\n",
              "      <th rowspan=\"7\" valign=\"top\">DEBTCONSOLIDATION</th>\n",
              "      <th>A</th>\n",
              "      <td>5.42</td>\n",
              "      <td>500</td>\n",
              "    </tr>\n",
              "    <tr>\n",
              "      <th>B</th>\n",
              "      <td>6.00</td>\n",
              "      <td>1000</td>\n",
              "    </tr>\n",
              "    <tr>\n",
              "      <th>C</th>\n",
              "      <td>6.00</td>\n",
              "      <td>750</td>\n",
              "    </tr>\n",
              "    <tr>\n",
              "      <th>D</th>\n",
              "      <td>6.00</td>\n",
              "      <td>1000</td>\n",
              "    </tr>\n",
              "    <tr>\n",
              "      <th>E</th>\n",
              "      <td>13.75</td>\n",
              "      <td>1000</td>\n",
              "    </tr>\n",
              "    <tr>\n",
              "      <th>F</th>\n",
              "      <td>15.83</td>\n",
              "      <td>2500</td>\n",
              "    </tr>\n",
              "    <tr>\n",
              "      <th>G</th>\n",
              "      <td>18.84</td>\n",
              "      <td>5000</td>\n",
              "    </tr>\n",
              "    <tr>\n",
              "      <th rowspan=\"7\" valign=\"top\">EDUCATION</th>\n",
              "      <th>A</th>\n",
              "      <td>5.42</td>\n",
              "      <td>1000</td>\n",
              "    </tr>\n",
              "    <tr>\n",
              "      <th>B</th>\n",
              "      <td>6.00</td>\n",
              "      <td>1000</td>\n",
              "    </tr>\n",
              "    <tr>\n",
              "      <th>C</th>\n",
              "      <td>10.28</td>\n",
              "      <td>700</td>\n",
              "    </tr>\n",
              "    <tr>\n",
              "      <th>D</th>\n",
              "      <td>11.86</td>\n",
              "      <td>1000</td>\n",
              "    </tr>\n",
              "    <tr>\n",
              "      <th>E</th>\n",
              "      <td>13.75</td>\n",
              "      <td>1500</td>\n",
              "    </tr>\n",
              "    <tr>\n",
              "      <th>F</th>\n",
              "      <td>15.01</td>\n",
              "      <td>2125</td>\n",
              "    </tr>\n",
              "    <tr>\n",
              "      <th>G</th>\n",
              "      <td>18.84</td>\n",
              "      <td>5000</td>\n",
              "    </tr>\n",
              "    <tr>\n",
              "      <th rowspan=\"7\" valign=\"top\">HOMEIMPROVEMENT</th>\n",
              "      <th>A</th>\n",
              "      <td>5.42</td>\n",
              "      <td>1000</td>\n",
              "    </tr>\n",
              "    <tr>\n",
              "      <th>B</th>\n",
              "      <td>8.70</td>\n",
              "      <td>500</td>\n",
              "    </tr>\n",
              "    <tr>\n",
              "      <th>C</th>\n",
              "      <td>10.28</td>\n",
              "      <td>1000</td>\n",
              "    </tr>\n",
              "    <tr>\n",
              "      <th>D</th>\n",
              "      <td>11.86</td>\n",
              "      <td>1000</td>\n",
              "    </tr>\n",
              "    <tr>\n",
              "      <th>E</th>\n",
              "      <td>13.93</td>\n",
              "      <td>1000</td>\n",
              "    </tr>\n",
              "    <tr>\n",
              "      <th>F</th>\n",
              "      <td>15.76</td>\n",
              "      <td>2000</td>\n",
              "    </tr>\n",
              "    <tr>\n",
              "      <th>G</th>\n",
              "      <td>17.34</td>\n",
              "      <td>12500</td>\n",
              "    </tr>\n",
              "    <tr>\n",
              "      <th rowspan=\"7\" valign=\"top\">MEDICAL</th>\n",
              "      <th>A</th>\n",
              "      <td>5.42</td>\n",
              "      <td>900</td>\n",
              "    </tr>\n",
              "    <tr>\n",
              "      <th>B</th>\n",
              "      <td>6.00</td>\n",
              "      <td>950</td>\n",
              "    </tr>\n",
              "    <tr>\n",
              "      <th>C</th>\n",
              "      <td>6.00</td>\n",
              "      <td>500</td>\n",
              "    </tr>\n",
              "    <tr>\n",
              "      <th>D</th>\n",
              "      <td>11.86</td>\n",
              "      <td>1000</td>\n",
              "    </tr>\n",
              "    <tr>\n",
              "      <th>E</th>\n",
              "      <td>6.00</td>\n",
              "      <td>1000</td>\n",
              "    </tr>\n",
              "    <tr>\n",
              "      <th>F</th>\n",
              "      <td>15.01</td>\n",
              "      <td>1200</td>\n",
              "    </tr>\n",
              "    <tr>\n",
              "      <th>G</th>\n",
              "      <td>18.84</td>\n",
              "      <td>2000</td>\n",
              "    </tr>\n",
              "    <tr>\n",
              "      <th rowspan=\"7\" valign=\"top\">PERSONAL</th>\n",
              "      <th>A</th>\n",
              "      <td>5.42</td>\n",
              "      <td>1000</td>\n",
              "    </tr>\n",
              "    <tr>\n",
              "      <th>B</th>\n",
              "      <td>6.00</td>\n",
              "      <td>500</td>\n",
              "    </tr>\n",
              "    <tr>\n",
              "      <th>C</th>\n",
              "      <td>10.28</td>\n",
              "      <td>1000</td>\n",
              "    </tr>\n",
              "    <tr>\n",
              "      <th>D</th>\n",
              "      <td>6.00</td>\n",
              "      <td>1000</td>\n",
              "    </tr>\n",
              "    <tr>\n",
              "      <th>E</th>\n",
              "      <td>13.75</td>\n",
              "      <td>1000</td>\n",
              "    </tr>\n",
              "    <tr>\n",
              "      <th>F</th>\n",
              "      <td>17.58</td>\n",
              "      <td>2000</td>\n",
              "    </tr>\n",
              "    <tr>\n",
              "      <th>G</th>\n",
              "      <td>18.84</td>\n",
              "      <td>5000</td>\n",
              "    </tr>\n",
              "    <tr>\n",
              "      <th rowspan=\"7\" valign=\"top\">VENTURE</th>\n",
              "      <th>A</th>\n",
              "      <td>5.42</td>\n",
              "      <td>800</td>\n",
              "    </tr>\n",
              "    <tr>\n",
              "      <th>B</th>\n",
              "      <td>8.70</td>\n",
              "      <td>1000</td>\n",
              "    </tr>\n",
              "    <tr>\n",
              "      <th>C</th>\n",
              "      <td>10.28</td>\n",
              "      <td>1000</td>\n",
              "    </tr>\n",
              "    <tr>\n",
              "      <th>D</th>\n",
              "      <td>12.17</td>\n",
              "      <td>1000</td>\n",
              "    </tr>\n",
              "    <tr>\n",
              "      <th>E</th>\n",
              "      <td>13.43</td>\n",
              "      <td>1000</td>\n",
              "    </tr>\n",
              "    <tr>\n",
              "      <th>F</th>\n",
              "      <td>15.33</td>\n",
              "      <td>1400</td>\n",
              "    </tr>\n",
              "    <tr>\n",
              "      <th>G</th>\n",
              "      <td>19.16</td>\n",
              "      <td>1600</td>\n",
              "    </tr>\n",
              "  </tbody>\n",
              "</table>\n",
              "</div>"
            ],
            "text/plain": [
              "                              loan_int_rate  loan_amnt\n",
              "loan_intent       loan_grade                          \n",
              "DEBTCONSOLIDATION A                    5.42        500\n",
              "                  B                    6.00       1000\n",
              "                  C                    6.00        750\n",
              "                  D                    6.00       1000\n",
              "                  E                   13.75       1000\n",
              "                  F                   15.83       2500\n",
              "                  G                   18.84       5000\n",
              "EDUCATION         A                    5.42       1000\n",
              "                  B                    6.00       1000\n",
              "                  C                   10.28        700\n",
              "                  D                   11.86       1000\n",
              "                  E                   13.75       1500\n",
              "                  F                   15.01       2125\n",
              "                  G                   18.84       5000\n",
              "HOMEIMPROVEMENT   A                    5.42       1000\n",
              "                  B                    8.70        500\n",
              "                  C                   10.28       1000\n",
              "                  D                   11.86       1000\n",
              "                  E                   13.93       1000\n",
              "                  F                   15.76       2000\n",
              "                  G                   17.34      12500\n",
              "MEDICAL           A                    5.42        900\n",
              "                  B                    6.00        950\n",
              "                  C                    6.00        500\n",
              "                  D                   11.86       1000\n",
              "                  E                    6.00       1000\n",
              "                  F                   15.01       1200\n",
              "                  G                   18.84       2000\n",
              "PERSONAL          A                    5.42       1000\n",
              "                  B                    6.00        500\n",
              "                  C                   10.28       1000\n",
              "                  D                    6.00       1000\n",
              "                  E                   13.75       1000\n",
              "                  F                   17.58       2000\n",
              "                  G                   18.84       5000\n",
              "VENTURE           A                    5.42        800\n",
              "                  B                    8.70       1000\n",
              "                  C                   10.28       1000\n",
              "                  D                   12.17       1000\n",
              "                  E                   13.43       1000\n",
              "                  F                   15.33       1400\n",
              "                  G                   19.16       1600"
            ]
          },
          "metadata": {},
          "execution_count": 114
        }
      ]
    },
    {
      "cell_type": "code",
      "metadata": {
        "colab": {
          "base_uri": "https://localhost:8080/",
          "height": 1000
        },
        "id": "XAvqR8QCr_hP",
        "outputId": "d07b3e1e-c3ee-4883-f608-748be67ac7be"
      },
      "source": [
        "df_v3_gb_rate.max().round(2)"
      ],
      "execution_count": null,
      "outputs": [
        {
          "output_type": "execute_result",
          "data": {
            "text/html": [
              "<div>\n",
              "<style scoped>\n",
              "    .dataframe tbody tr th:only-of-type {\n",
              "        vertical-align: middle;\n",
              "    }\n",
              "\n",
              "    .dataframe tbody tr th {\n",
              "        vertical-align: top;\n",
              "    }\n",
              "\n",
              "    .dataframe thead th {\n",
              "        text-align: right;\n",
              "    }\n",
              "</style>\n",
              "<table border=\"1\" class=\"dataframe\">\n",
              "  <thead>\n",
              "    <tr style=\"text-align: right;\">\n",
              "      <th></th>\n",
              "      <th></th>\n",
              "      <th>loan_int_rate</th>\n",
              "      <th>loan_amnt</th>\n",
              "    </tr>\n",
              "    <tr>\n",
              "      <th>loan_intent</th>\n",
              "      <th>loan_grade</th>\n",
              "      <th></th>\n",
              "      <th></th>\n",
              "    </tr>\n",
              "  </thead>\n",
              "  <tbody>\n",
              "    <tr>\n",
              "      <th rowspan=\"7\" valign=\"top\">DEBTCONSOLIDATION</th>\n",
              "      <th>A</th>\n",
              "      <td>9.63</td>\n",
              "      <td>35000</td>\n",
              "    </tr>\n",
              "    <tr>\n",
              "      <th>B</th>\n",
              "      <td>12.69</td>\n",
              "      <td>35000</td>\n",
              "    </tr>\n",
              "    <tr>\n",
              "      <th>C</th>\n",
              "      <td>16.11</td>\n",
              "      <td>35000</td>\n",
              "    </tr>\n",
              "    <tr>\n",
              "      <th>D</th>\n",
              "      <td>18.25</td>\n",
              "      <td>35000</td>\n",
              "    </tr>\n",
              "    <tr>\n",
              "      <th>E</th>\n",
              "      <td>20.30</td>\n",
              "      <td>35000</td>\n",
              "    </tr>\n",
              "    <tr>\n",
              "      <th>F</th>\n",
              "      <td>21.36</td>\n",
              "      <td>30000</td>\n",
              "    </tr>\n",
              "    <tr>\n",
              "      <th>G</th>\n",
              "      <td>22.11</td>\n",
              "      <td>35000</td>\n",
              "    </tr>\n",
              "    <tr>\n",
              "      <th rowspan=\"7\" valign=\"top\">EDUCATION</th>\n",
              "      <th>A</th>\n",
              "      <td>9.63</td>\n",
              "      <td>35000</td>\n",
              "    </tr>\n",
              "    <tr>\n",
              "      <th>B</th>\n",
              "      <td>12.69</td>\n",
              "      <td>35000</td>\n",
              "    </tr>\n",
              "    <tr>\n",
              "      <th>C</th>\n",
              "      <td>15.96</td>\n",
              "      <td>35000</td>\n",
              "    </tr>\n",
              "    <tr>\n",
              "      <th>D</th>\n",
              "      <td>18.25</td>\n",
              "      <td>35000</td>\n",
              "    </tr>\n",
              "    <tr>\n",
              "      <th>E</th>\n",
              "      <td>20.20</td>\n",
              "      <td>35000</td>\n",
              "    </tr>\n",
              "    <tr>\n",
              "      <th>F</th>\n",
              "      <td>21.74</td>\n",
              "      <td>25000</td>\n",
              "    </tr>\n",
              "    <tr>\n",
              "      <th>G</th>\n",
              "      <td>21.21</td>\n",
              "      <td>25000</td>\n",
              "    </tr>\n",
              "    <tr>\n",
              "      <th rowspan=\"7\" valign=\"top\">HOMEIMPROVEMENT</th>\n",
              "      <th>A</th>\n",
              "      <td>9.63</td>\n",
              "      <td>35000</td>\n",
              "    </tr>\n",
              "    <tr>\n",
              "      <th>B</th>\n",
              "      <td>12.69</td>\n",
              "      <td>35000</td>\n",
              "    </tr>\n",
              "    <tr>\n",
              "      <th>C</th>\n",
              "      <td>15.96</td>\n",
              "      <td>35000</td>\n",
              "    </tr>\n",
              "    <tr>\n",
              "      <th>D</th>\n",
              "      <td>18.25</td>\n",
              "      <td>35000</td>\n",
              "    </tr>\n",
              "    <tr>\n",
              "      <th>E</th>\n",
              "      <td>20.30</td>\n",
              "      <td>35000</td>\n",
              "    </tr>\n",
              "    <tr>\n",
              "      <th>F</th>\n",
              "      <td>20.25</td>\n",
              "      <td>35000</td>\n",
              "    </tr>\n",
              "    <tr>\n",
              "      <th>G</th>\n",
              "      <td>23.22</td>\n",
              "      <td>25000</td>\n",
              "    </tr>\n",
              "    <tr>\n",
              "      <th rowspan=\"7\" valign=\"top\">MEDICAL</th>\n",
              "      <th>A</th>\n",
              "      <td>9.63</td>\n",
              "      <td>35000</td>\n",
              "    </tr>\n",
              "    <tr>\n",
              "      <th>B</th>\n",
              "      <td>12.69</td>\n",
              "      <td>35000</td>\n",
              "    </tr>\n",
              "    <tr>\n",
              "      <th>C</th>\n",
              "      <td>16.11</td>\n",
              "      <td>35000</td>\n",
              "    </tr>\n",
              "    <tr>\n",
              "      <th>D</th>\n",
              "      <td>18.25</td>\n",
              "      <td>35000</td>\n",
              "    </tr>\n",
              "    <tr>\n",
              "      <th>E</th>\n",
              "      <td>20.69</td>\n",
              "      <td>35000</td>\n",
              "    </tr>\n",
              "    <tr>\n",
              "      <th>F</th>\n",
              "      <td>21.74</td>\n",
              "      <td>35000</td>\n",
              "    </tr>\n",
              "    <tr>\n",
              "      <th>G</th>\n",
              "      <td>21.64</td>\n",
              "      <td>25000</td>\n",
              "    </tr>\n",
              "    <tr>\n",
              "      <th rowspan=\"7\" valign=\"top\">PERSONAL</th>\n",
              "      <th>A</th>\n",
              "      <td>9.63</td>\n",
              "      <td>35000</td>\n",
              "    </tr>\n",
              "    <tr>\n",
              "      <th>B</th>\n",
              "      <td>12.69</td>\n",
              "      <td>35000</td>\n",
              "    </tr>\n",
              "    <tr>\n",
              "      <th>C</th>\n",
              "      <td>15.96</td>\n",
              "      <td>35000</td>\n",
              "    </tr>\n",
              "    <tr>\n",
              "      <th>D</th>\n",
              "      <td>18.49</td>\n",
              "      <td>35000</td>\n",
              "    </tr>\n",
              "    <tr>\n",
              "      <th>E</th>\n",
              "      <td>19.91</td>\n",
              "      <td>35000</td>\n",
              "    </tr>\n",
              "    <tr>\n",
              "      <th>F</th>\n",
              "      <td>21.74</td>\n",
              "      <td>25000</td>\n",
              "    </tr>\n",
              "    <tr>\n",
              "      <th>G</th>\n",
              "      <td>20.86</td>\n",
              "      <td>25000</td>\n",
              "    </tr>\n",
              "    <tr>\n",
              "      <th rowspan=\"7\" valign=\"top\">VENTURE</th>\n",
              "      <th>A</th>\n",
              "      <td>9.63</td>\n",
              "      <td>35000</td>\n",
              "    </tr>\n",
              "    <tr>\n",
              "      <th>B</th>\n",
              "      <td>12.69</td>\n",
              "      <td>35000</td>\n",
              "    </tr>\n",
              "    <tr>\n",
              "      <th>C</th>\n",
              "      <td>16.11</td>\n",
              "      <td>35000</td>\n",
              "    </tr>\n",
              "    <tr>\n",
              "      <th>D</th>\n",
              "      <td>18.25</td>\n",
              "      <td>35000</td>\n",
              "    </tr>\n",
              "    <tr>\n",
              "      <th>E</th>\n",
              "      <td>19.42</td>\n",
              "      <td>35000</td>\n",
              "    </tr>\n",
              "    <tr>\n",
              "      <th>F</th>\n",
              "      <td>22.06</td>\n",
              "      <td>30000</td>\n",
              "    </tr>\n",
              "    <tr>\n",
              "      <th>G</th>\n",
              "      <td>22.48</td>\n",
              "      <td>20500</td>\n",
              "    </tr>\n",
              "  </tbody>\n",
              "</table>\n",
              "</div>"
            ],
            "text/plain": [
              "                              loan_int_rate  loan_amnt\n",
              "loan_intent       loan_grade                          \n",
              "DEBTCONSOLIDATION A                    9.63      35000\n",
              "                  B                   12.69      35000\n",
              "                  C                   16.11      35000\n",
              "                  D                   18.25      35000\n",
              "                  E                   20.30      35000\n",
              "                  F                   21.36      30000\n",
              "                  G                   22.11      35000\n",
              "EDUCATION         A                    9.63      35000\n",
              "                  B                   12.69      35000\n",
              "                  C                   15.96      35000\n",
              "                  D                   18.25      35000\n",
              "                  E                   20.20      35000\n",
              "                  F                   21.74      25000\n",
              "                  G                   21.21      25000\n",
              "HOMEIMPROVEMENT   A                    9.63      35000\n",
              "                  B                   12.69      35000\n",
              "                  C                   15.96      35000\n",
              "                  D                   18.25      35000\n",
              "                  E                   20.30      35000\n",
              "                  F                   20.25      35000\n",
              "                  G                   23.22      25000\n",
              "MEDICAL           A                    9.63      35000\n",
              "                  B                   12.69      35000\n",
              "                  C                   16.11      35000\n",
              "                  D                   18.25      35000\n",
              "                  E                   20.69      35000\n",
              "                  F                   21.74      35000\n",
              "                  G                   21.64      25000\n",
              "PERSONAL          A                    9.63      35000\n",
              "                  B                   12.69      35000\n",
              "                  C                   15.96      35000\n",
              "                  D                   18.49      35000\n",
              "                  E                   19.91      35000\n",
              "                  F                   21.74      25000\n",
              "                  G                   20.86      25000\n",
              "VENTURE           A                    9.63      35000\n",
              "                  B                   12.69      35000\n",
              "                  C                   16.11      35000\n",
              "                  D                   18.25      35000\n",
              "                  E                   19.42      35000\n",
              "                  F                   22.06      30000\n",
              "                  G                   22.48      20500"
            ]
          },
          "metadata": {},
          "execution_count": 115
        }
      ]
    },
    {
      "cell_type": "code",
      "metadata": {
        "colab": {
          "base_uri": "https://localhost:8080/",
          "height": 1000
        },
        "id": "S4yn6WQQJ2OW",
        "outputId": "62b5fe62-eacf-4e0f-b175-8bd1965d5493"
      },
      "source": [
        "(df_v3_gb_rate.sum() / df_v3_gb_rate.count()).round(2)"
      ],
      "execution_count": null,
      "outputs": [
        {
          "output_type": "execute_result",
          "data": {
            "text/html": [
              "<div>\n",
              "<style scoped>\n",
              "    .dataframe tbody tr th:only-of-type {\n",
              "        vertical-align: middle;\n",
              "    }\n",
              "\n",
              "    .dataframe tbody tr th {\n",
              "        vertical-align: top;\n",
              "    }\n",
              "\n",
              "    .dataframe thead th {\n",
              "        text-align: right;\n",
              "    }\n",
              "</style>\n",
              "<table border=\"1\" class=\"dataframe\">\n",
              "  <thead>\n",
              "    <tr style=\"text-align: right;\">\n",
              "      <th></th>\n",
              "      <th></th>\n",
              "      <th>loan_int_rate</th>\n",
              "      <th>loan_amnt</th>\n",
              "    </tr>\n",
              "    <tr>\n",
              "      <th>loan_intent</th>\n",
              "      <th>loan_grade</th>\n",
              "      <th></th>\n",
              "      <th></th>\n",
              "    </tr>\n",
              "  </thead>\n",
              "  <tbody>\n",
              "    <tr>\n",
              "      <th rowspan=\"7\" valign=\"top\">DEBTCONSOLIDATION</th>\n",
              "      <th>A</th>\n",
              "      <td>7.33</td>\n",
              "      <td>8544.07</td>\n",
              "    </tr>\n",
              "    <tr>\n",
              "      <th>B</th>\n",
              "      <td>10.99</td>\n",
              "      <td>10143.69</td>\n",
              "    </tr>\n",
              "    <tr>\n",
              "      <th>C</th>\n",
              "      <td>13.46</td>\n",
              "      <td>9150.22</td>\n",
              "    </tr>\n",
              "    <tr>\n",
              "      <th>D</th>\n",
              "      <td>15.39</td>\n",
              "      <td>10717.62</td>\n",
              "    </tr>\n",
              "    <tr>\n",
              "      <th>E</th>\n",
              "      <td>17.01</td>\n",
              "      <td>12576.04</td>\n",
              "    </tr>\n",
              "    <tr>\n",
              "      <th>F</th>\n",
              "      <td>18.57</td>\n",
              "      <td>14670.35</td>\n",
              "    </tr>\n",
              "    <tr>\n",
              "      <th>G</th>\n",
              "      <td>20.33</td>\n",
              "      <td>19115.00</td>\n",
              "    </tr>\n",
              "    <tr>\n",
              "      <th rowspan=\"7\" valign=\"top\">EDUCATION</th>\n",
              "      <th>A</th>\n",
              "      <td>7.37</td>\n",
              "      <td>8496.81</td>\n",
              "    </tr>\n",
              "    <tr>\n",
              "      <th>B</th>\n",
              "      <td>11.00</td>\n",
              "      <td>10025.64</td>\n",
              "    </tr>\n",
              "    <tr>\n",
              "      <th>C</th>\n",
              "      <td>13.43</td>\n",
              "      <td>8897.09</td>\n",
              "    </tr>\n",
              "    <tr>\n",
              "      <th>D</th>\n",
              "      <td>15.31</td>\n",
              "      <td>10886.72</td>\n",
              "    </tr>\n",
              "    <tr>\n",
              "      <th>E</th>\n",
              "      <td>17.02</td>\n",
              "      <td>12765.14</td>\n",
              "    </tr>\n",
              "    <tr>\n",
              "      <th>F</th>\n",
              "      <td>18.40</td>\n",
              "      <td>14332.07</td>\n",
              "    </tr>\n",
              "    <tr>\n",
              "      <th>G</th>\n",
              "      <td>20.08</td>\n",
              "      <td>18166.67</td>\n",
              "    </tr>\n",
              "    <tr>\n",
              "      <th rowspan=\"7\" valign=\"top\">HOMEIMPROVEMENT</th>\n",
              "      <th>A</th>\n",
              "      <td>7.26</td>\n",
              "      <td>8886.55</td>\n",
              "    </tr>\n",
              "    <tr>\n",
              "      <th>B</th>\n",
              "      <td>10.99</td>\n",
              "      <td>10837.58</td>\n",
              "    </tr>\n",
              "    <tr>\n",
              "      <th>C</th>\n",
              "      <td>13.44</td>\n",
              "      <td>10035.50</td>\n",
              "    </tr>\n",
              "    <tr>\n",
              "      <th>D</th>\n",
              "      <td>15.27</td>\n",
              "      <td>11388.71</td>\n",
              "    </tr>\n",
              "    <tr>\n",
              "      <th>E</th>\n",
              "      <td>17.24</td>\n",
              "      <td>14144.93</td>\n",
              "    </tr>\n",
              "    <tr>\n",
              "      <th>F</th>\n",
              "      <td>18.21</td>\n",
              "      <td>16875.78</td>\n",
              "    </tr>\n",
              "    <tr>\n",
              "      <th>G</th>\n",
              "      <td>20.17</td>\n",
              "      <td>21763.89</td>\n",
              "    </tr>\n",
              "    <tr>\n",
              "      <th rowspan=\"7\" valign=\"top\">MEDICAL</th>\n",
              "      <th>A</th>\n",
              "      <td>7.34</td>\n",
              "      <td>8301.01</td>\n",
              "    </tr>\n",
              "    <tr>\n",
              "      <th>B</th>\n",
              "      <td>10.99</td>\n",
              "      <td>9474.12</td>\n",
              "    </tr>\n",
              "    <tr>\n",
              "      <th>C</th>\n",
              "      <td>13.47</td>\n",
              "      <td>8927.59</td>\n",
              "    </tr>\n",
              "    <tr>\n",
              "      <th>D</th>\n",
              "      <td>15.41</td>\n",
              "      <td>10630.97</td>\n",
              "    </tr>\n",
              "    <tr>\n",
              "      <th>E</th>\n",
              "      <td>17.08</td>\n",
              "      <td>12925.90</td>\n",
              "    </tr>\n",
              "    <tr>\n",
              "      <th>F</th>\n",
              "      <td>18.56</td>\n",
              "      <td>14355.77</td>\n",
              "    </tr>\n",
              "    <tr>\n",
              "      <th>G</th>\n",
              "      <td>20.29</td>\n",
              "      <td>15250.00</td>\n",
              "    </tr>\n",
              "    <tr>\n",
              "      <th rowspan=\"7\" valign=\"top\">PERSONAL</th>\n",
              "      <th>A</th>\n",
              "      <td>7.33</td>\n",
              "      <td>8601.71</td>\n",
              "    </tr>\n",
              "    <tr>\n",
              "      <th>B</th>\n",
              "      <td>11.00</td>\n",
              "      <td>9753.52</td>\n",
              "    </tr>\n",
              "    <tr>\n",
              "      <th>C</th>\n",
              "      <td>13.48</td>\n",
              "      <td>9500.74</td>\n",
              "    </tr>\n",
              "    <tr>\n",
              "      <th>D</th>\n",
              "      <td>15.37</td>\n",
              "      <td>10846.96</td>\n",
              "    </tr>\n",
              "    <tr>\n",
              "      <th>E</th>\n",
              "      <td>16.99</td>\n",
              "      <td>12553.74</td>\n",
              "    </tr>\n",
              "    <tr>\n",
              "      <th>F</th>\n",
              "      <td>19.25</td>\n",
              "      <td>14752.50</td>\n",
              "    </tr>\n",
              "    <tr>\n",
              "      <th>G</th>\n",
              "      <td>19.89</td>\n",
              "      <td>19535.00</td>\n",
              "    </tr>\n",
              "    <tr>\n",
              "      <th rowspan=\"7\" valign=\"top\">VENTURE</th>\n",
              "      <th>A</th>\n",
              "      <td>7.31</td>\n",
              "      <td>8556.77</td>\n",
              "    </tr>\n",
              "    <tr>\n",
              "      <th>B</th>\n",
              "      <td>11.01</td>\n",
              "      <td>10117.45</td>\n",
              "    </tr>\n",
              "    <tr>\n",
              "      <th>C</th>\n",
              "      <td>13.50</td>\n",
              "      <td>9199.09</td>\n",
              "    </tr>\n",
              "    <tr>\n",
              "      <th>D</th>\n",
              "      <td>15.40</td>\n",
              "      <td>10698.75</td>\n",
              "    </tr>\n",
              "    <tr>\n",
              "      <th>E</th>\n",
              "      <td>16.78</td>\n",
              "      <td>12649.58</td>\n",
              "    </tr>\n",
              "    <tr>\n",
              "      <th>F</th>\n",
              "      <td>18.78</td>\n",
              "      <td>13886.18</td>\n",
              "    </tr>\n",
              "    <tr>\n",
              "      <th>G</th>\n",
              "      <td>20.66</td>\n",
              "      <td>12260.71</td>\n",
              "    </tr>\n",
              "  </tbody>\n",
              "</table>\n",
              "</div>"
            ],
            "text/plain": [
              "                              loan_int_rate  loan_amnt\n",
              "loan_intent       loan_grade                          \n",
              "DEBTCONSOLIDATION A                    7.33    8544.07\n",
              "                  B                   10.99   10143.69\n",
              "                  C                   13.46    9150.22\n",
              "                  D                   15.39   10717.62\n",
              "                  E                   17.01   12576.04\n",
              "                  F                   18.57   14670.35\n",
              "                  G                   20.33   19115.00\n",
              "EDUCATION         A                    7.37    8496.81\n",
              "                  B                   11.00   10025.64\n",
              "                  C                   13.43    8897.09\n",
              "                  D                   15.31   10886.72\n",
              "                  E                   17.02   12765.14\n",
              "                  F                   18.40   14332.07\n",
              "                  G                   20.08   18166.67\n",
              "HOMEIMPROVEMENT   A                    7.26    8886.55\n",
              "                  B                   10.99   10837.58\n",
              "                  C                   13.44   10035.50\n",
              "                  D                   15.27   11388.71\n",
              "                  E                   17.24   14144.93\n",
              "                  F                   18.21   16875.78\n",
              "                  G                   20.17   21763.89\n",
              "MEDICAL           A                    7.34    8301.01\n",
              "                  B                   10.99    9474.12\n",
              "                  C                   13.47    8927.59\n",
              "                  D                   15.41   10630.97\n",
              "                  E                   17.08   12925.90\n",
              "                  F                   18.56   14355.77\n",
              "                  G                   20.29   15250.00\n",
              "PERSONAL          A                    7.33    8601.71\n",
              "                  B                   11.00    9753.52\n",
              "                  C                   13.48    9500.74\n",
              "                  D                   15.37   10846.96\n",
              "                  E                   16.99   12553.74\n",
              "                  F                   19.25   14752.50\n",
              "                  G                   19.89   19535.00\n",
              "VENTURE           A                    7.31    8556.77\n",
              "                  B                   11.01   10117.45\n",
              "                  C                   13.50    9199.09\n",
              "                  D                   15.40   10698.75\n",
              "                  E                   16.78   12649.58\n",
              "                  F                   18.78   13886.18\n",
              "                  G                   20.66   12260.71"
            ]
          },
          "metadata": {},
          "execution_count": 112
        }
      ]
    },
    {
      "cell_type": "markdown",
      "metadata": {
        "id": "Gni3EJ48MFdA"
      },
      "source": [
        "## loan_percent_income PERCENTUAL DO EMPRÉSTIMO RELATIVO A RENDA\n",
        "\n",
        "\n",
        "---\n",
        "\n",
        "CONFIRMADO. Teste para confirmar que o % de empréstimo sobre a renda pode ser calculado pela divisão entre as colunas loan_amnt / person_income"
      ]
    },
    {
      "cell_type": "code",
      "metadata": {
        "id": "1ITsCD1RMP6f",
        "colab": {
          "base_uri": "https://localhost:8080/"
        },
        "outputId": "96d19501-26ca-40ca-ac44-872c3cde53b5"
      },
      "source": [
        "df_v3.loan_percent_income.nunique()"
      ],
      "execution_count": null,
      "outputs": [
        {
          "output_type": "execute_result",
          "data": {
            "text/plain": [
              "77"
            ]
          },
          "metadata": {},
          "execution_count": 64
        }
      ]
    },
    {
      "cell_type": "code",
      "metadata": {
        "id": "rr9eCVT-MP9I",
        "colab": {
          "base_uri": "https://localhost:8080/"
        },
        "outputId": "658264a4-7e1f-454f-b866-2d94261b46a6"
      },
      "source": [
        "df_v3.loan_percent_income.describe().round(9)"
      ],
      "execution_count": null,
      "outputs": [
        {
          "output_type": "execute_result",
          "data": {
            "text/plain": [
              "count    32574.000000\n",
              "mean         0.170202\n",
              "std          0.106755\n",
              "min          0.000000\n",
              "25%          0.090000\n",
              "50%          0.150000\n",
              "75%          0.230000\n",
              "max          0.830000\n",
              "Name: loan_percent_income, dtype: float64"
            ]
          },
          "metadata": {},
          "execution_count": 65
        }
      ]
    },
    {
      "cell_type": "code",
      "metadata": {
        "id": "QcGJSk7rMQBM"
      },
      "source": [
        "df_test_percent = df_v3.loc[df_v3['loan_percent_income'] == 0.0,['loan_amnt', 'person_income', 'loan_percent_income']]"
      ],
      "execution_count": null,
      "outputs": []
    },
    {
      "cell_type": "code",
      "metadata": {
        "id": "HWu41P2HTQVX"
      },
      "source": [
        "df_test_percent_min = df_v3.loc[df_v3['loan_percent_income'] == 0.0,['loan_amnt', 'person_income', 'loan_percent_income']]"
      ],
      "execution_count": null,
      "outputs": []
    },
    {
      "cell_type": "code",
      "metadata": {
        "id": "8yXK5WRJTXsM"
      },
      "source": [
        "df_test_percent_max = df_v3.loc[df_v3['loan_percent_income'] > 0.7,['loan_amnt', 'person_income', 'loan_percent_income']]"
      ],
      "execution_count": null,
      "outputs": []
    },
    {
      "cell_type": "code",
      "metadata": {
        "id": "wmxpRH-0TdG7"
      },
      "source": [
        "df_test_percent_concat = pd.concat([df_test_percent_min, df_test_percent_max])"
      ],
      "execution_count": null,
      "outputs": []
    },
    {
      "cell_type": "code",
      "metadata": {
        "id": "AYDOK3bMN7n-",
        "colab": {
          "base_uri": "https://localhost:8080/",
          "height": 570
        },
        "outputId": "614aa513-dc50-48ac-aaa6-5183a2c0a4b1"
      },
      "source": [
        "df_test_percent_concat"
      ],
      "execution_count": null,
      "outputs": [
        {
          "output_type": "execute_result",
          "data": {
            "text/html": [
              "<div>\n",
              "<style scoped>\n",
              "    .dataframe tbody tr th:only-of-type {\n",
              "        vertical-align: middle;\n",
              "    }\n",
              "\n",
              "    .dataframe tbody tr th {\n",
              "        vertical-align: top;\n",
              "    }\n",
              "\n",
              "    .dataframe thead th {\n",
              "        text-align: right;\n",
              "    }\n",
              "</style>\n",
              "<table border=\"1\" class=\"dataframe\">\n",
              "  <thead>\n",
              "    <tr style=\"text-align: right;\">\n",
              "      <th></th>\n",
              "      <th>loan_amnt</th>\n",
              "      <th>person_income</th>\n",
              "      <th>loan_percent_income</th>\n",
              "    </tr>\n",
              "  </thead>\n",
              "  <tbody>\n",
              "    <tr>\n",
              "      <th>17834</th>\n",
              "      <td>2000</td>\n",
              "      <td>948000</td>\n",
              "      <td>0.00</td>\n",
              "    </tr>\n",
              "    <tr>\n",
              "      <th>18917</th>\n",
              "      <td>1800</td>\n",
              "      <td>510000</td>\n",
              "      <td>0.00</td>\n",
              "    </tr>\n",
              "    <tr>\n",
              "      <th>27877</th>\n",
              "      <td>2500</td>\n",
              "      <td>522000</td>\n",
              "      <td>0.00</td>\n",
              "    </tr>\n",
              "    <tr>\n",
              "      <th>30049</th>\n",
              "      <td>8450</td>\n",
              "      <td>2039784</td>\n",
              "      <td>0.00</td>\n",
              "    </tr>\n",
              "    <tr>\n",
              "      <th>31916</th>\n",
              "      <td>1000</td>\n",
              "      <td>780000</td>\n",
              "      <td>0.00</td>\n",
              "    </tr>\n",
              "    <tr>\n",
              "      <th>31922</th>\n",
              "      <td>6600</td>\n",
              "      <td>1362000</td>\n",
              "      <td>0.00</td>\n",
              "    </tr>\n",
              "    <tr>\n",
              "      <th>31924</th>\n",
              "      <td>6400</td>\n",
              "      <td>1440000</td>\n",
              "      <td>0.00</td>\n",
              "    </tr>\n",
              "    <tr>\n",
              "      <th>32546</th>\n",
              "      <td>1500</td>\n",
              "      <td>1900000</td>\n",
              "      <td>0.00</td>\n",
              "    </tr>\n",
              "    <tr>\n",
              "      <th>460</th>\n",
              "      <td>13000</td>\n",
              "      <td>18000</td>\n",
              "      <td>0.72</td>\n",
              "    </tr>\n",
              "    <tr>\n",
              "      <th>571</th>\n",
              "      <td>15000</td>\n",
              "      <td>19500</td>\n",
              "      <td>0.77</td>\n",
              "    </tr>\n",
              "    <tr>\n",
              "      <th>577</th>\n",
              "      <td>20050</td>\n",
              "      <td>26000</td>\n",
              "      <td>0.77</td>\n",
              "    </tr>\n",
              "    <tr>\n",
              "      <th>640</th>\n",
              "      <td>16600</td>\n",
              "      <td>20000</td>\n",
              "      <td>0.83</td>\n",
              "    </tr>\n",
              "    <tr>\n",
              "      <th>2452</th>\n",
              "      <td>22750</td>\n",
              "      <td>32004</td>\n",
              "      <td>0.71</td>\n",
              "    </tr>\n",
              "    <tr>\n",
              "      <th>10007</th>\n",
              "      <td>9250</td>\n",
              "      <td>13000</td>\n",
              "      <td>0.71</td>\n",
              "    </tr>\n",
              "    <tr>\n",
              "      <th>18203</th>\n",
              "      <td>24250</td>\n",
              "      <td>32004</td>\n",
              "      <td>0.76</td>\n",
              "    </tr>\n",
              "    <tr>\n",
              "      <th>23727</th>\n",
              "      <td>9325</td>\n",
              "      <td>12000</td>\n",
              "      <td>0.78</td>\n",
              "    </tr>\n",
              "    <tr>\n",
              "      <th>27878</th>\n",
              "      <td>7200</td>\n",
              "      <td>10080</td>\n",
              "      <td>0.71</td>\n",
              "    </tr>\n",
              "  </tbody>\n",
              "</table>\n",
              "</div>"
            ],
            "text/plain": [
              "       loan_amnt  person_income  loan_percent_income\n",
              "17834       2000         948000                 0.00\n",
              "18917       1800         510000                 0.00\n",
              "27877       2500         522000                 0.00\n",
              "30049       8450        2039784                 0.00\n",
              "31916       1000         780000                 0.00\n",
              "31922       6600        1362000                 0.00\n",
              "31924       6400        1440000                 0.00\n",
              "32546       1500        1900000                 0.00\n",
              "460        13000          18000                 0.72\n",
              "571        15000          19500                 0.77\n",
              "577        20050          26000                 0.77\n",
              "640        16600          20000                 0.83\n",
              "2452       22750          32004                 0.71\n",
              "10007       9250          13000                 0.71\n",
              "18203      24250          32004                 0.76\n",
              "23727       9325          12000                 0.78\n",
              "27878       7200          10080                 0.71"
            ]
          },
          "metadata": {},
          "execution_count": 70
        }
      ]
    },
    {
      "cell_type": "code",
      "metadata": {
        "id": "WbUNo1B2Pz3r"
      },
      "source": [
        "df_test_percent_concat['test_column'] = (df_test_percent_concat['loan_amnt'] / df_test_percent_concat['person_income']).round(2)"
      ],
      "execution_count": null,
      "outputs": []
    },
    {
      "cell_type": "code",
      "metadata": {
        "id": "yrPCHOBKP89U",
        "colab": {
          "base_uri": "https://localhost:8080/",
          "height": 570
        },
        "outputId": "a2c07fc4-dbcd-471f-923e-3d853925b8df"
      },
      "source": [
        "df_test_percent_concat"
      ],
      "execution_count": null,
      "outputs": [
        {
          "output_type": "execute_result",
          "data": {
            "text/html": [
              "<div>\n",
              "<style scoped>\n",
              "    .dataframe tbody tr th:only-of-type {\n",
              "        vertical-align: middle;\n",
              "    }\n",
              "\n",
              "    .dataframe tbody tr th {\n",
              "        vertical-align: top;\n",
              "    }\n",
              "\n",
              "    .dataframe thead th {\n",
              "        text-align: right;\n",
              "    }\n",
              "</style>\n",
              "<table border=\"1\" class=\"dataframe\">\n",
              "  <thead>\n",
              "    <tr style=\"text-align: right;\">\n",
              "      <th></th>\n",
              "      <th>loan_amnt</th>\n",
              "      <th>person_income</th>\n",
              "      <th>loan_percent_income</th>\n",
              "      <th>test_column</th>\n",
              "    </tr>\n",
              "  </thead>\n",
              "  <tbody>\n",
              "    <tr>\n",
              "      <th>17834</th>\n",
              "      <td>2000</td>\n",
              "      <td>948000</td>\n",
              "      <td>0.00</td>\n",
              "      <td>0.00</td>\n",
              "    </tr>\n",
              "    <tr>\n",
              "      <th>18917</th>\n",
              "      <td>1800</td>\n",
              "      <td>510000</td>\n",
              "      <td>0.00</td>\n",
              "      <td>0.00</td>\n",
              "    </tr>\n",
              "    <tr>\n",
              "      <th>27877</th>\n",
              "      <td>2500</td>\n",
              "      <td>522000</td>\n",
              "      <td>0.00</td>\n",
              "      <td>0.00</td>\n",
              "    </tr>\n",
              "    <tr>\n",
              "      <th>30049</th>\n",
              "      <td>8450</td>\n",
              "      <td>2039784</td>\n",
              "      <td>0.00</td>\n",
              "      <td>0.00</td>\n",
              "    </tr>\n",
              "    <tr>\n",
              "      <th>31916</th>\n",
              "      <td>1000</td>\n",
              "      <td>780000</td>\n",
              "      <td>0.00</td>\n",
              "      <td>0.00</td>\n",
              "    </tr>\n",
              "    <tr>\n",
              "      <th>31922</th>\n",
              "      <td>6600</td>\n",
              "      <td>1362000</td>\n",
              "      <td>0.00</td>\n",
              "      <td>0.00</td>\n",
              "    </tr>\n",
              "    <tr>\n",
              "      <th>31924</th>\n",
              "      <td>6400</td>\n",
              "      <td>1440000</td>\n",
              "      <td>0.00</td>\n",
              "      <td>0.00</td>\n",
              "    </tr>\n",
              "    <tr>\n",
              "      <th>32546</th>\n",
              "      <td>1500</td>\n",
              "      <td>1900000</td>\n",
              "      <td>0.00</td>\n",
              "      <td>0.00</td>\n",
              "    </tr>\n",
              "    <tr>\n",
              "      <th>460</th>\n",
              "      <td>13000</td>\n",
              "      <td>18000</td>\n",
              "      <td>0.72</td>\n",
              "      <td>0.72</td>\n",
              "    </tr>\n",
              "    <tr>\n",
              "      <th>571</th>\n",
              "      <td>15000</td>\n",
              "      <td>19500</td>\n",
              "      <td>0.77</td>\n",
              "      <td>0.77</td>\n",
              "    </tr>\n",
              "    <tr>\n",
              "      <th>577</th>\n",
              "      <td>20050</td>\n",
              "      <td>26000</td>\n",
              "      <td>0.77</td>\n",
              "      <td>0.77</td>\n",
              "    </tr>\n",
              "    <tr>\n",
              "      <th>640</th>\n",
              "      <td>16600</td>\n",
              "      <td>20000</td>\n",
              "      <td>0.83</td>\n",
              "      <td>0.83</td>\n",
              "    </tr>\n",
              "    <tr>\n",
              "      <th>2452</th>\n",
              "      <td>22750</td>\n",
              "      <td>32004</td>\n",
              "      <td>0.71</td>\n",
              "      <td>0.71</td>\n",
              "    </tr>\n",
              "    <tr>\n",
              "      <th>10007</th>\n",
              "      <td>9250</td>\n",
              "      <td>13000</td>\n",
              "      <td>0.71</td>\n",
              "      <td>0.71</td>\n",
              "    </tr>\n",
              "    <tr>\n",
              "      <th>18203</th>\n",
              "      <td>24250</td>\n",
              "      <td>32004</td>\n",
              "      <td>0.76</td>\n",
              "      <td>0.76</td>\n",
              "    </tr>\n",
              "    <tr>\n",
              "      <th>23727</th>\n",
              "      <td>9325</td>\n",
              "      <td>12000</td>\n",
              "      <td>0.78</td>\n",
              "      <td>0.78</td>\n",
              "    </tr>\n",
              "    <tr>\n",
              "      <th>27878</th>\n",
              "      <td>7200</td>\n",
              "      <td>10080</td>\n",
              "      <td>0.71</td>\n",
              "      <td>0.71</td>\n",
              "    </tr>\n",
              "  </tbody>\n",
              "</table>\n",
              "</div>"
            ],
            "text/plain": [
              "       loan_amnt  person_income  loan_percent_income  test_column\n",
              "17834       2000         948000                 0.00         0.00\n",
              "18917       1800         510000                 0.00         0.00\n",
              "27877       2500         522000                 0.00         0.00\n",
              "30049       8450        2039784                 0.00         0.00\n",
              "31916       1000         780000                 0.00         0.00\n",
              "31922       6600        1362000                 0.00         0.00\n",
              "31924       6400        1440000                 0.00         0.00\n",
              "32546       1500        1900000                 0.00         0.00\n",
              "460        13000          18000                 0.72         0.72\n",
              "571        15000          19500                 0.77         0.77\n",
              "577        20050          26000                 0.77         0.77\n",
              "640        16600          20000                 0.83         0.83\n",
              "2452       22750          32004                 0.71         0.71\n",
              "10007       9250          13000                 0.71         0.71\n",
              "18203      24250          32004                 0.76         0.76\n",
              "23727       9325          12000                 0.78         0.78\n",
              "27878       7200          10080                 0.71         0.71"
            ]
          },
          "metadata": {},
          "execution_count": 72
        }
      ]
    },
    {
      "cell_type": "markdown",
      "metadata": {
        "id": "LOWyNsGKKh2u"
      },
      "source": [
        "## loan_status STATUS DO EMPRÉSTIMO\n",
        "\n",
        "\n",
        "---\n",
        "\n",
        "(0 is non default 1 is default)"
      ]
    },
    {
      "cell_type": "code",
      "metadata": {
        "id": "7fd16EcqKqr0",
        "colab": {
          "base_uri": "https://localhost:8080/"
        },
        "outputId": "6831057c-65bd-445f-b5de-bde88a8eaffd"
      },
      "source": [
        "df_v3.loan_status.nunique()"
      ],
      "execution_count": null,
      "outputs": [
        {
          "output_type": "execute_result",
          "data": {
            "text/plain": [
              "2"
            ]
          },
          "metadata": {},
          "execution_count": 73
        }
      ]
    },
    {
      "cell_type": "code",
      "metadata": {
        "id": "p3WcPAgvKqum",
        "colab": {
          "base_uri": "https://localhost:8080/"
        },
        "outputId": "3770919a-af71-4412-d68b-d491a20cbeaa"
      },
      "source": [
        "df_v3.loan_status.unique()"
      ],
      "execution_count": null,
      "outputs": [
        {
          "output_type": "execute_result",
          "data": {
            "text/plain": [
              "array([0, 1])"
            ]
          },
          "metadata": {},
          "execution_count": 74
        }
      ]
    },
    {
      "cell_type": "code",
      "metadata": {
        "id": "A_FFfQNBKqzC",
        "colab": {
          "base_uri": "https://localhost:8080/"
        },
        "outputId": "7e32e030-86c1-4114-e38b-80183918fc6f"
      },
      "source": [
        "df_v3.loan_status.value_counts()"
      ],
      "execution_count": null,
      "outputs": [
        {
          "output_type": "execute_result",
          "data": {
            "text/plain": [
              "0    25467\n",
              "1     7107\n",
              "Name: loan_status, dtype: int64"
            ]
          },
          "metadata": {},
          "execution_count": 75
        }
      ]
    },
    {
      "cell_type": "code",
      "metadata": {
        "id": "cLhirMNo3l0K"
      },
      "source": [
        "df_v3_gb_loan_status_grade = df_v3.groupby(by=['loan_grade', 'loan_status'])['person_age']"
      ],
      "execution_count": null,
      "outputs": []
    },
    {
      "cell_type": "code",
      "metadata": {
        "colab": {
          "base_uri": "https://localhost:8080/"
        },
        "id": "8OqvDhha4CcP",
        "outputId": "3fad98f4-a32d-4651-9327-96679e45be79"
      },
      "source": [
        "100 * (df_v3_gb_loan_status_grade.count() / linhas).round(5)"
      ],
      "execution_count": null,
      "outputs": [
        {
          "output_type": "execute_result",
          "data": {
            "text/plain": [
              "loan_grade  loan_status\n",
              "A           0              33.099\n",
              "            1               3.660\n",
              "B           0              29.838\n",
              "            1               5.802\n",
              "C           0              17.455\n",
              "            1               4.568\n",
              "D           0               5.066\n",
              "            1               7.300\n",
              "E           0               1.170\n",
              "            1               2.118\n",
              "F           0               0.242\n",
              "            1               0.580\n",
              "G           0               0.003\n",
              "            1               0.215\n",
              "Name: person_age, dtype: float64"
            ]
          },
          "metadata": {},
          "execution_count": 175
        }
      ]
    },
    {
      "cell_type": "code",
      "metadata": {
        "id": "BWRja9VG8KdC"
      },
      "source": [
        ""
      ],
      "execution_count": null,
      "outputs": []
    },
    {
      "cell_type": "code",
      "metadata": {
        "id": "1ytwtQf17lg1"
      },
      "source": [
        "df_v3_gb_loan_status_tax = df_v3.groupby('loan_grade')['loan_int_rate']"
      ],
      "execution_count": null,
      "outputs": []
    },
    {
      "cell_type": "code",
      "metadata": {
        "colab": {
          "base_uri": "https://localhost:8080/"
        },
        "id": "PIH4_FCw7vhV",
        "outputId": "b0860cde-b96b-4d84-a76e-1432b4096b46"
      },
      "source": [
        "df_v3_gb_loan_status_tax.count()"
      ],
      "execution_count": null,
      "outputs": [
        {
          "output_type": "execute_result",
          "data": {
            "text/plain": [
              "loan_grade\n",
              "A    9773\n",
              "B    9393\n",
              "C    5826\n",
              "D    3313\n",
              "E     881\n",
              "F     214\n",
              "G      59\n",
              "Name: loan_int_rate, dtype: int64"
            ]
          },
          "metadata": {},
          "execution_count": 180
        }
      ]
    },
    {
      "cell_type": "markdown",
      "metadata": {
        "id": "4Uf3sjk2UxKZ"
      },
      "source": [
        "## cb_person_cred_hist_length SCORE DE CRÉDITO"
      ]
    },
    {
      "cell_type": "code",
      "metadata": {
        "id": "k_Etx32tUxBE",
        "colab": {
          "base_uri": "https://localhost:8080/"
        },
        "outputId": "2d6f729c-2c9c-4ad1-f95a-20e3ac7cf14e"
      },
      "source": [
        "df_v3['cb_person_cred_hist_length'].nunique()"
      ],
      "execution_count": null,
      "outputs": [
        {
          "output_type": "execute_result",
          "data": {
            "text/plain": [
              "29"
            ]
          },
          "metadata": {},
          "execution_count": 76
        }
      ]
    },
    {
      "cell_type": "code",
      "metadata": {
        "id": "p9Oa9ZsQVCuT",
        "colab": {
          "base_uri": "https://localhost:8080/"
        },
        "outputId": "22c56dad-9d6f-4b22-c879-e89a33a34874"
      },
      "source": [
        "df_v3['cb_person_cred_hist_length'].unique()"
      ],
      "execution_count": null,
      "outputs": [
        {
          "output_type": "execute_result",
          "data": {
            "text/plain": [
              "array([ 2,  3,  4,  8,  7,  6,  9, 10,  5, 11, 16, 15, 12, 13, 17, 14, 28,\n",
              "       27, 22, 19, 29, 23, 26, 20, 21, 30, 25, 24, 18])"
            ]
          },
          "metadata": {},
          "execution_count": 77
        }
      ]
    },
    {
      "cell_type": "code",
      "metadata": {
        "id": "cwzbryRfVCwy",
        "colab": {
          "base_uri": "https://localhost:8080/"
        },
        "outputId": "839f7c59-f722-4e7a-8de3-8598edaf3e0f"
      },
      "source": [
        "df_v3['cb_person_cred_hist_length'].value_counts()"
      ],
      "execution_count": null,
      "outputs": [
        {
          "output_type": "execute_result",
          "data": {
            "text/plain": [
              "2     5964\n",
              "3     5940\n",
              "4     5923\n",
              "8     1902\n",
              "7     1901\n",
              "9     1895\n",
              "5     1881\n",
              "6     1857\n",
              "10    1850\n",
              "14     492\n",
              "12     485\n",
              "11     463\n",
              "16     451\n",
              "13     443\n",
              "15     437\n",
              "17     407\n",
              "20      31\n",
              "24      30\n",
              "28      27\n",
              "30      22\n",
              "23      22\n",
              "22      22\n",
              "27      22\n",
              "19      21\n",
              "21      20\n",
              "18      19\n",
              "25      17\n",
              "26      16\n",
              "29      14\n",
              "Name: cb_person_cred_hist_length, dtype: int64"
            ]
          },
          "metadata": {},
          "execution_count": 78
        }
      ]
    },
    {
      "cell_type": "markdown",
      "metadata": {
        "id": "jmr9Pgs9iPH1"
      },
      "source": [
        "# Separar df sem dados faltantes e apenas com dados faltantes e retirar duplicatas\n",
        "\n",
        "\n",
        "---\n",
        "\n",
        "df_3 -> df_4\n",
        "\n",
        "\n",
        "---\n",
        "\n",
        "df_3 -> df_Faltantes"
      ]
    },
    {
      "cell_type": "code",
      "metadata": {
        "colab": {
          "base_uri": "https://localhost:8080/"
        },
        "id": "Q3YuucVajp2-",
        "outputId": "8faf431a-d0e6-4a0a-ff69-bd860f5d51a6"
      },
      "source": [
        "df_v3.shape "
      ],
      "execution_count": null,
      "outputs": [
        {
          "output_type": "execute_result",
          "data": {
            "text/plain": [
              "(32574, 12)"
            ]
          },
          "metadata": {},
          "execution_count": 79
        }
      ]
    },
    {
      "cell_type": "code",
      "metadata": {
        "colab": {
          "base_uri": "https://localhost:8080/"
        },
        "id": "L6udj0wsktB-",
        "outputId": "fff4291e-58b4-4493-b6ca-36738aace069"
      },
      "source": [
        "df_v3.info()"
      ],
      "execution_count": null,
      "outputs": [
        {
          "output_type": "stream",
          "name": "stdout",
          "text": [
            "<class 'pandas.core.frame.DataFrame'>\n",
            "Int64Index: 32574 entries, 1 to 32580\n",
            "Data columns (total 12 columns):\n",
            " #   Column                      Non-Null Count  Dtype  \n",
            "---  ------                      --------------  -----  \n",
            " 0   person_age                  32574 non-null  int64  \n",
            " 1   person_income               32574 non-null  int64  \n",
            " 2   person_home_ownership       32574 non-null  object \n",
            " 3   person_emp_length           32574 non-null  float64\n",
            " 4   loan_intent                 32574 non-null  object \n",
            " 5   loan_grade                  32574 non-null  object \n",
            " 6   loan_amnt                   32574 non-null  int64  \n",
            " 7   loan_int_rate               29459 non-null  float64\n",
            " 8   loan_status                 32574 non-null  int64  \n",
            " 9   loan_percent_income         32574 non-null  float64\n",
            " 10  cb_person_default_on_file   32574 non-null  object \n",
            " 11  cb_person_cred_hist_length  32574 non-null  int64  \n",
            "dtypes: float64(3), int64(5), object(4)\n",
            "memory usage: 3.2+ MB\n"
          ]
        }
      ]
    },
    {
      "cell_type": "code",
      "metadata": {
        "id": "RIlCqfEpii6b"
      },
      "source": [
        "df_v4 = df_v3.drop_duplicates()"
      ],
      "execution_count": null,
      "outputs": []
    },
    {
      "cell_type": "code",
      "metadata": {
        "colab": {
          "base_uri": "https://localhost:8080/"
        },
        "id": "sUbTD-rFj7aS",
        "outputId": "2c065cc8-9035-4238-bd77-b340855fcaff"
      },
      "source": [
        "df_v4.shape # 165 duplicatas"
      ],
      "execution_count": null,
      "outputs": [
        {
          "output_type": "execute_result",
          "data": {
            "text/plain": [
              "(32409, 12)"
            ]
          },
          "metadata": {},
          "execution_count": 82
        }
      ]
    },
    {
      "cell_type": "code",
      "metadata": {
        "colab": {
          "base_uri": "https://localhost:8080/"
        },
        "id": "LJetEXkck2IV",
        "outputId": "d5fb284d-99dd-4775-8a60-9f9884085803"
      },
      "source": [
        "df_v4.info()"
      ],
      "execution_count": null,
      "outputs": [
        {
          "output_type": "stream",
          "name": "stdout",
          "text": [
            "<class 'pandas.core.frame.DataFrame'>\n",
            "Int64Index: 32409 entries, 1 to 32580\n",
            "Data columns (total 12 columns):\n",
            " #   Column                      Non-Null Count  Dtype  \n",
            "---  ------                      --------------  -----  \n",
            " 0   person_age                  32409 non-null  int64  \n",
            " 1   person_income               32409 non-null  int64  \n",
            " 2   person_home_ownership       32409 non-null  object \n",
            " 3   person_emp_length           32409 non-null  float64\n",
            " 4   loan_intent                 32409 non-null  object \n",
            " 5   loan_grade                  32409 non-null  object \n",
            " 6   loan_amnt                   32409 non-null  int64  \n",
            " 7   loan_int_rate               29315 non-null  float64\n",
            " 8   loan_status                 32409 non-null  int64  \n",
            " 9   loan_percent_income         32409 non-null  float64\n",
            " 10  cb_person_default_on_file   32409 non-null  object \n",
            " 11  cb_person_cred_hist_length  32409 non-null  int64  \n",
            "dtypes: float64(3), int64(5), object(4)\n",
            "memory usage: 3.2+ MB\n"
          ]
        }
      ]
    },
    {
      "cell_type": "code",
      "metadata": {
        "colab": {
          "base_uri": "https://localhost:8080/"
        },
        "id": "uYjtsXAdkGil",
        "outputId": "f6162ad1-7d78-4a9f-dbd4-b1e5a89c0693"
      },
      "source": [
        "df_v4.dropna(how='any', inplace=True)"
      ],
      "execution_count": null,
      "outputs": [
        {
          "output_type": "stream",
          "name": "stderr",
          "text": [
            "/usr/local/lib/python3.7/dist-packages/ipykernel_launcher.py:1: SettingWithCopyWarning: \n",
            "A value is trying to be set on a copy of a slice from a DataFrame\n",
            "\n",
            "See the caveats in the documentation: https://pandas.pydata.org/pandas-docs/stable/user_guide/indexing.html#returning-a-view-versus-a-copy\n",
            "  \"\"\"Entry point for launching an IPython kernel.\n"
          ]
        }
      ]
    },
    {
      "cell_type": "code",
      "metadata": {
        "colab": {
          "base_uri": "https://localhost:8080/"
        },
        "id": "AJm3l1gJkd2T",
        "outputId": "3e9c4724-181e-4c7c-cc02-b6d7e08a2fa6"
      },
      "source": [
        "linhas, colunas = df_v4.shape\n",
        "df_v4.shape # 3.094 valores faltantes (taxa de juros)"
      ],
      "execution_count": null,
      "outputs": [
        {
          "output_type": "execute_result",
          "data": {
            "text/plain": [
              "(29315, 12)"
            ]
          },
          "metadata": {},
          "execution_count": 85
        }
      ]
    },
    {
      "cell_type": "markdown",
      "metadata": {
        "id": "NPGcSoJzUSQ5"
      },
      "source": [
        "## cb_person_default_on_file PADRÃO HISTÓRICO"
      ]
    },
    {
      "cell_type": "code",
      "metadata": {
        "id": "OHkK1henUSkW",
        "colab": {
          "base_uri": "https://localhost:8080/"
        },
        "outputId": "712436cb-70c8-438e-a4e7-50e67cd82458"
      },
      "source": [
        "df_v3['cb_person_default_on_file'].nunique()"
      ],
      "execution_count": null,
      "outputs": [
        {
          "output_type": "execute_result",
          "data": {
            "text/plain": [
              "2"
            ]
          },
          "metadata": {},
          "execution_count": 86
        }
      ]
    },
    {
      "cell_type": "code",
      "metadata": {
        "id": "FgZMTfxyUSrQ",
        "colab": {
          "base_uri": "https://localhost:8080/"
        },
        "outputId": "e12d34b0-5e85-4ebe-f9e1-cdb32545891b"
      },
      "source": [
        "df_v3['cb_person_default_on_file'].unique()"
      ],
      "execution_count": null,
      "outputs": [
        {
          "output_type": "execute_result",
          "data": {
            "text/plain": [
              "array(['N', 'Y'], dtype=object)"
            ]
          },
          "metadata": {},
          "execution_count": 87
        }
      ]
    },
    {
      "cell_type": "code",
      "metadata": {
        "id": "b69g9TSvUs6d",
        "colab": {
          "base_uri": "https://localhost:8080/"
        },
        "outputId": "1eb8bbe6-b1d5-479b-d92a-5d96a7025d25"
      },
      "source": [
        "df_v3['cb_person_default_on_file'].value_counts()"
      ],
      "execution_count": null,
      "outputs": [
        {
          "output_type": "execute_result",
          "data": {
            "text/plain": [
              "N    26830\n",
              "Y     5744\n",
              "Name: cb_person_default_on_file, dtype: int64"
            ]
          },
          "metadata": {},
          "execution_count": 88
        }
      ]
    },
    {
      "cell_type": "markdown",
      "metadata": {
        "id": "a4uZtTT-bZkN"
      },
      "source": [
        "# Analisando os dados faltantes em busca de um padrão. Há predominância de dados faltantes em algum subgrupo do dataset? (_em andamento_)\n",
        "\n",
        "---\n",
        "\n",
        "person_home_ownership   \n",
        "loan_intent   \n",
        "loan_grade   \n",
        "loan_status   \n",
        "cb_person_default_on_file   \n",
        "cb_person_cred_hist_length   \n",
        "\n",
        "\n",
        "---\n",
        "\n",
        "Verificar se há relação entre: Status empréstimo e taxa de juros NAN / loan_grade e taxa de juros NAN / cb_person_default_on_file e taxa de juros NAN\n",
        "\n",
        "Os valores nulos da taxa de juros apresentam concentração nas seguintes features:\n",
        "\n"
      ]
    },
    {
      "cell_type": "code",
      "metadata": {
        "id": "jrGh557T9qIa"
      },
      "source": [
        "df_v3['loan_int_rate_nan'] = df_v3['loan_int_rate'].isnull()"
      ],
      "execution_count": null,
      "outputs": []
    },
    {
      "cell_type": "code",
      "metadata": {
        "colab": {
          "base_uri": "https://localhost:8080/",
          "height": 434
        },
        "id": "19sXHcf8BXLw",
        "outputId": "971103f2-09e0-4c8a-ab5c-c6aa64a2afc5"
      },
      "source": [
        "df_v3.loc[df_v3['loan_int_rate_nan'] == 1]"
      ],
      "execution_count": null,
      "outputs": [
        {
          "output_type": "execute_result",
          "data": {
            "text/html": [
              "<div>\n",
              "<style scoped>\n",
              "    .dataframe tbody tr th:only-of-type {\n",
              "        vertical-align: middle;\n",
              "    }\n",
              "\n",
              "    .dataframe tbody tr th {\n",
              "        vertical-align: top;\n",
              "    }\n",
              "\n",
              "    .dataframe thead th {\n",
              "        text-align: right;\n",
              "    }\n",
              "</style>\n",
              "<table border=\"1\" class=\"dataframe\">\n",
              "  <thead>\n",
              "    <tr style=\"text-align: right;\">\n",
              "      <th></th>\n",
              "      <th>person_age</th>\n",
              "      <th>person_income</th>\n",
              "      <th>person_home_ownership</th>\n",
              "      <th>person_emp_length</th>\n",
              "      <th>loan_intent</th>\n",
              "      <th>loan_grade</th>\n",
              "      <th>loan_amnt</th>\n",
              "      <th>loan_int_rate</th>\n",
              "      <th>loan_status</th>\n",
              "      <th>loan_percent_income</th>\n",
              "      <th>cb_person_default_on_file</th>\n",
              "      <th>cb_person_cred_hist_length</th>\n",
              "      <th>loan_int_rate_nan</th>\n",
              "    </tr>\n",
              "  </thead>\n",
              "  <tbody>\n",
              "    <tr>\n",
              "      <th>39</th>\n",
              "      <td>23</td>\n",
              "      <td>71500</td>\n",
              "      <td>RENT</td>\n",
              "      <td>3.0</td>\n",
              "      <td>DEBTCONSOLIDATION</td>\n",
              "      <td>D</td>\n",
              "      <td>30000</td>\n",
              "      <td>NaN</td>\n",
              "      <td>1</td>\n",
              "      <td>0.42</td>\n",
              "      <td>N</td>\n",
              "      <td>4</td>\n",
              "      <td>True</td>\n",
              "    </tr>\n",
              "    <tr>\n",
              "      <th>50</th>\n",
              "      <td>24</td>\n",
              "      <td>78000</td>\n",
              "      <td>RENT</td>\n",
              "      <td>4.0</td>\n",
              "      <td>DEBTCONSOLIDATION</td>\n",
              "      <td>D</td>\n",
              "      <td>30000</td>\n",
              "      <td>NaN</td>\n",
              "      <td>1</td>\n",
              "      <td>0.38</td>\n",
              "      <td>Y</td>\n",
              "      <td>4</td>\n",
              "      <td>True</td>\n",
              "    </tr>\n",
              "    <tr>\n",
              "      <th>57</th>\n",
              "      <td>23</td>\n",
              "      <td>277000</td>\n",
              "      <td>OWN</td>\n",
              "      <td>3.0</td>\n",
              "      <td>PERSONAL</td>\n",
              "      <td>A</td>\n",
              "      <td>35000</td>\n",
              "      <td>NaN</td>\n",
              "      <td>0</td>\n",
              "      <td>0.13</td>\n",
              "      <td>N</td>\n",
              "      <td>4</td>\n",
              "      <td>True</td>\n",
              "    </tr>\n",
              "    <tr>\n",
              "      <th>59</th>\n",
              "      <td>24</td>\n",
              "      <td>12000</td>\n",
              "      <td>OWN</td>\n",
              "      <td>2.0</td>\n",
              "      <td>VENTURE</td>\n",
              "      <td>E</td>\n",
              "      <td>1750</td>\n",
              "      <td>NaN</td>\n",
              "      <td>0</td>\n",
              "      <td>0.15</td>\n",
              "      <td>Y</td>\n",
              "      <td>3</td>\n",
              "      <td>True</td>\n",
              "    </tr>\n",
              "    <tr>\n",
              "      <th>62</th>\n",
              "      <td>26</td>\n",
              "      <td>263000</td>\n",
              "      <td>MORTGAGE</td>\n",
              "      <td>0.0</td>\n",
              "      <td>EDUCATION</td>\n",
              "      <td>B</td>\n",
              "      <td>10000</td>\n",
              "      <td>NaN</td>\n",
              "      <td>1</td>\n",
              "      <td>0.04</td>\n",
              "      <td>N</td>\n",
              "      <td>4</td>\n",
              "      <td>True</td>\n",
              "    </tr>\n",
              "    <tr>\n",
              "      <th>...</th>\n",
              "      <td>...</td>\n",
              "      <td>...</td>\n",
              "      <td>...</td>\n",
              "      <td>...</td>\n",
              "      <td>...</td>\n",
              "      <td>...</td>\n",
              "      <td>...</td>\n",
              "      <td>...</td>\n",
              "      <td>...</td>\n",
              "      <td>...</td>\n",
              "      <td>...</td>\n",
              "      <td>...</td>\n",
              "      <td>...</td>\n",
              "    </tr>\n",
              "    <tr>\n",
              "      <th>32547</th>\n",
              "      <td>53</td>\n",
              "      <td>4888</td>\n",
              "      <td>OWN</td>\n",
              "      <td>0.0</td>\n",
              "      <td>VENTURE</td>\n",
              "      <td>C</td>\n",
              "      <td>1400</td>\n",
              "      <td>NaN</td>\n",
              "      <td>1</td>\n",
              "      <td>0.29</td>\n",
              "      <td>Y</td>\n",
              "      <td>28</td>\n",
              "      <td>True</td>\n",
              "    </tr>\n",
              "    <tr>\n",
              "      <th>32552</th>\n",
              "      <td>65</td>\n",
              "      <td>45900</td>\n",
              "      <td>RENT</td>\n",
              "      <td>2.0</td>\n",
              "      <td>EDUCATION</td>\n",
              "      <td>C</td>\n",
              "      <td>10000</td>\n",
              "      <td>NaN</td>\n",
              "      <td>0</td>\n",
              "      <td>0.22</td>\n",
              "      <td>Y</td>\n",
              "      <td>19</td>\n",
              "      <td>True</td>\n",
              "    </tr>\n",
              "    <tr>\n",
              "      <th>32553</th>\n",
              "      <td>54</td>\n",
              "      <td>20000</td>\n",
              "      <td>RENT</td>\n",
              "      <td>2.0</td>\n",
              "      <td>MEDICAL</td>\n",
              "      <td>C</td>\n",
              "      <td>5000</td>\n",
              "      <td>NaN</td>\n",
              "      <td>0</td>\n",
              "      <td>0.25</td>\n",
              "      <td>N</td>\n",
              "      <td>28</td>\n",
              "      <td>True</td>\n",
              "    </tr>\n",
              "    <tr>\n",
              "      <th>32569</th>\n",
              "      <td>51</td>\n",
              "      <td>60000</td>\n",
              "      <td>MORTGAGE</td>\n",
              "      <td>1.0</td>\n",
              "      <td>PERSONAL</td>\n",
              "      <td>A</td>\n",
              "      <td>7500</td>\n",
              "      <td>NaN</td>\n",
              "      <td>0</td>\n",
              "      <td>0.13</td>\n",
              "      <td>N</td>\n",
              "      <td>23</td>\n",
              "      <td>True</td>\n",
              "    </tr>\n",
              "    <tr>\n",
              "      <th>32570</th>\n",
              "      <td>58</td>\n",
              "      <td>72000</td>\n",
              "      <td>RENT</td>\n",
              "      <td>5.0</td>\n",
              "      <td>HOMEIMPROVEMENT</td>\n",
              "      <td>B</td>\n",
              "      <td>4500</td>\n",
              "      <td>NaN</td>\n",
              "      <td>0</td>\n",
              "      <td>0.06</td>\n",
              "      <td>N</td>\n",
              "      <td>23</td>\n",
              "      <td>True</td>\n",
              "    </tr>\n",
              "  </tbody>\n",
              "</table>\n",
              "<p>3115 rows × 13 columns</p>\n",
              "</div>"
            ],
            "text/plain": [
              "       person_age  person_income  ... cb_person_cred_hist_length  loan_int_rate_nan\n",
              "39             23          71500  ...                          4               True\n",
              "50             24          78000  ...                          4               True\n",
              "57             23         277000  ...                          4               True\n",
              "59             24          12000  ...                          3               True\n",
              "62             26         263000  ...                          4               True\n",
              "...           ...            ...  ...                        ...                ...\n",
              "32547          53           4888  ...                         28               True\n",
              "32552          65          45900  ...                         19               True\n",
              "32553          54          20000  ...                         28               True\n",
              "32569          51          60000  ...                         23               True\n",
              "32570          58          72000  ...                         23               True\n",
              "\n",
              "[3115 rows x 13 columns]"
            ]
          },
          "metadata": {},
          "execution_count": 220
        }
      ]
    },
    {
      "cell_type": "code",
      "metadata": {
        "id": "W0VBw0ga9qNm"
      },
      "source": [
        "df_v3_gb_status_emp_int_rate_null = df_v3.groupby('loan_status')['loan_int_rate_nan']"
      ],
      "execution_count": null,
      "outputs": []
    },
    {
      "cell_type": "code",
      "metadata": {
        "colab": {
          "base_uri": "https://localhost:8080/"
        },
        "id": "Rw7G6pW-BS-2",
        "outputId": "7a0900c3-8ad1-4a88-d561-22ee0ba1c5dd"
      },
      "source": [
        "100*(df_v3_gb_status_emp_int_rate_null.sum() / linhas).round(2)"
      ],
      "execution_count": null,
      "outputs": [
        {
          "output_type": "execute_result",
          "data": {
            "text/plain": [
              "loan_status\n",
              "0    8.0\n",
              "1    2.0\n",
              "Name: loan_int_rate_nan, dtype: float64"
            ]
          },
          "metadata": {},
          "execution_count": 228
        }
      ]
    },
    {
      "cell_type": "code",
      "metadata": {
        "id": "WeT6BOVZChxu"
      },
      "source": [
        "df_v3_gb_grade_int_rate_null = df_v3.groupby('loan_grade')['loan_int_rate_nan']"
      ],
      "execution_count": null,
      "outputs": []
    },
    {
      "cell_type": "code",
      "metadata": {
        "colab": {
          "base_uri": "https://localhost:8080/"
        },
        "id": "1VfJfDJKChuj",
        "outputId": "9adfb3dc-cfc2-4079-953a-abcfd341f99a"
      },
      "source": [
        "100*(df_v3_gb_grade_int_rate_null.sum() / linhas).round(2)"
      ],
      "execution_count": null,
      "outputs": [
        {
          "output_type": "execute_result",
          "data": {
            "text/plain": [
              "loan_grade\n",
              "A    3.0\n",
              "B    4.0\n",
              "C    2.0\n",
              "D    1.0\n",
              "E    0.0\n",
              "F    0.0\n",
              "G    0.0\n",
              "Name: loan_int_rate_nan, dtype: float64"
            ]
          },
          "metadata": {},
          "execution_count": 227
        }
      ]
    },
    {
      "cell_type": "code",
      "metadata": {
        "id": "iXlwhWOzChrU"
      },
      "source": [
        "df_v3_gb_cb_default_int_rate_null = df_v3.groupby('cb_person_default_on_file')['loan_int_rate_nan']"
      ],
      "execution_count": null,
      "outputs": []
    },
    {
      "cell_type": "code",
      "metadata": {
        "colab": {
          "base_uri": "https://localhost:8080/"
        },
        "id": "MwIaRdAZChk_",
        "outputId": "ff6bdd86-e81d-4c01-9062-c47bae315505"
      },
      "source": [
        "100*(df_v3_gb_cb_default_int_rate_null.sum() / linhas).round(2)"
      ],
      "execution_count": null,
      "outputs": [
        {
          "output_type": "execute_result",
          "data": {
            "text/plain": [
              "cb_person_default_on_file\n",
              "N    9.0\n",
              "Y    2.0\n",
              "Name: loan_int_rate_nan, dtype: float64"
            ]
          },
          "metadata": {},
          "execution_count": 230
        }
      ]
    },
    {
      "cell_type": "code",
      "metadata": {
        "id": "MHQlg84kHEra"
      },
      "source": [
        "df_v3_gb_motivo_int_rate_null = df_v3.groupby('loan_intent')['loan_int_rate_nan']"
      ],
      "execution_count": null,
      "outputs": []
    },
    {
      "cell_type": "code",
      "metadata": {
        "colab": {
          "base_uri": "https://localhost:8080/"
        },
        "id": "1RU5QS9HHO93",
        "outputId": "42a7b794-4b56-4aa7-a15f-d8f544001295"
      },
      "source": [
        "100*(df_v3_gb_motivo_int_rate_null.sum() / linhas).round(2)"
      ],
      "execution_count": null,
      "outputs": [
        {
          "output_type": "execute_result",
          "data": {
            "text/plain": [
              "loan_intent\n",
              "DEBTCONSOLIDATION    2.0\n",
              "EDUCATION            2.0\n",
              "HOMEIMPROVEMENT      1.0\n",
              "MEDICAL              2.0\n",
              "PERSONAL             2.0\n",
              "VENTURE              2.0\n",
              "Name: loan_int_rate_nan, dtype: float64"
            ]
          },
          "metadata": {},
          "execution_count": 232
        }
      ]
    },
    {
      "cell_type": "code",
      "metadata": {
        "colab": {
          "base_uri": "https://localhost:8080/"
        },
        "id": "T8Gjzd6Egl6h",
        "outputId": "d2099852-8028-4ec4-b1a8-40d8b0b1f5eb"
      },
      "source": [
        "linhasFaltantes, colsFaltantes = df_vFaltantes.shape\n",
        "df_vFaltantes.shape"
      ],
      "execution_count": null,
      "outputs": [
        {
          "output_type": "execute_result",
          "data": {
            "text/plain": [
              "(3115, 9)"
            ]
          },
          "metadata": {},
          "execution_count": 147
        }
      ]
    },
    {
      "cell_type": "markdown",
      "metadata": {
        "id": "xpUijXholvDB"
      },
      "source": [
        "# Análise dos Outliers (restantes). Já retirados os registros com IDADE > 100 e TEMPO DE EMPREGO > 100\n",
        "\n",
        "\n",
        "---\n",
        "\n",
        "df_v4: person_income RENDA e loan_amnt VALOR DO EMPRÉSTIMO"
      ]
    },
    {
      "cell_type": "code",
      "metadata": {
        "colab": {
          "base_uri": "https://localhost:8080/",
          "height": 621
        },
        "id": "2tt4PbK8w5J7",
        "outputId": "6920237c-9e53-48ba-eff9-5321f2581cb3"
      },
      "source": [
        "# Geral\n",
        "plt.figure(figsize=(15,10))\n",
        "df_v4.boxplot(column=['person_age', 'person_income', 'person_emp_length', 'loan_amnt', 'loan_int_rate', 'loan_percent_income', 'cb_person_cred_hist_length'])"
      ],
      "execution_count": null,
      "outputs": [
        {
          "output_type": "execute_result",
          "data": {
            "text/plain": [
              "<matplotlib.axes._subplots.AxesSubplot at 0x7fa4d11b5550>"
            ]
          },
          "metadata": {},
          "execution_count": 182
        },
        {
          "output_type": "display_data",
          "data": {
            "image/png": "[encoded data removed]",
            "text/plain": [
              "<Figure size 1080x720 with 1 Axes>"
            ]
          },
          "metadata": {
            "needs_background": "light"
          }
        }
      ]
    },
    {
      "cell_type": "code",
      "metadata": {
        "colab": {
          "base_uri": "https://localhost:8080/",
          "height": 610
        },
        "id": "DRujmynBy0Ny",
        "outputId": "cb432624-3df1-4613-f5d1-94a0427515b7"
      },
      "source": [
        "# Sem coluna person_income\n",
        "plt.figure(figsize=(15,10))\n",
        "df_v4.boxplot(column=['person_age', 'person_emp_length', 'loan_amnt', 'loan_int_rate', 'loan_percent_income', 'cb_person_cred_hist_length'])"
      ],
      "execution_count": null,
      "outputs": [
        {
          "output_type": "execute_result",
          "data": {
            "text/plain": [
              "<matplotlib.axes._subplots.AxesSubplot at 0x7fa4d1004550>"
            ]
          },
          "metadata": {},
          "execution_count": 183
        },
        {
          "output_type": "display_data",
          "data": {
            "image/png": "[encoded data removed]",
            "text/plain": [
              "<Figure size 1080x720 with 1 Axes>"
            ]
          },
          "metadata": {
            "needs_background": "light"
          }
        }
      ]
    },
    {
      "cell_type": "code",
      "metadata": {
        "colab": {
          "base_uri": "https://localhost:8080/",
          "height": 610
        },
        "id": "W6mChDKz9As9",
        "outputId": "779aeeb7-0897-466f-c1fb-9b1ad1feeed9"
      },
      "source": [
        "# Sem colunas person_income e loan_amnt\n",
        "plt.figure(figsize=(15,10))\n",
        "df_v4.boxplot(column=['person_age', 'person_emp_length', 'loan_int_rate', 'loan_percent_income', 'cb_person_cred_hist_length'])"
      ],
      "execution_count": null,
      "outputs": [
        {
          "output_type": "execute_result",
          "data": {
            "text/plain": [
              "<matplotlib.axes._subplots.AxesSubplot at 0x7fa4d0e2dd50>"
            ]
          },
          "metadata": {},
          "execution_count": 184
        },
        {
          "output_type": "display_data",
          "data": {
            "image/png": "[encoded data removed]",
            "text/plain": [
              "<Figure size 1080x720 with 1 Axes>"
            ]
          },
          "metadata": {
            "needs_background": "light"
          }
        }
      ]
    },
    {
      "cell_type": "code",
      "metadata": {
        "colab": {
          "base_uri": "https://localhost:8080/",
          "height": 622
        },
        "id": "4V-Y-hY6ooWr",
        "outputId": "c9f78a80-8a2f-4b20-92f9-b2d1a9d3f40f"
      },
      "source": [
        "# Gráfico de Dispersão plt\n",
        "plt.figure(figsize=(15,10))\n",
        "plt.scatter(x=df_v4['person_income'], y=df_v4['cb_person_cred_hist_length'])"
      ],
      "execution_count": null,
      "outputs": [
        {
          "output_type": "execute_result",
          "data": {
            "text/plain": [
              "<matplotlib.collections.PathCollection at 0x7fa4d7d3f110>"
            ]
          },
          "metadata": {},
          "execution_count": 185
        },
        {
          "output_type": "display_data",
          "data": {
            "image/png": "[encoded data removed]",
            "text/plain": [
              "<Figure size 1080x720 with 1 Axes>"
            ]
          },
          "metadata": {
            "needs_background": "light"
          }
        }
      ]
    }
  ]
}