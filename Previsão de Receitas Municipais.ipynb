{
  "nbformat": 4,
  "nbformat_minor": 0,
  "metadata": {
    "colab": {
      "name": "Ler Receitas TCEPE API.ipynb",
      "provenance": [],
      "collapsed_sections": [],
      "authorship_tag": "ABX9TyPJLxXZoBw3YkD4WUfV4M6S",
      "include_colab_link": true
    },
    "kernelspec": {
      "name": "python3",
      "display_name": "Python 3"
    },
    "language_info": {
      "name": "python"
    }
  },
  "cells": [
    {
      "cell_type": "markdown",
      "metadata": {
        "id": "view-in-github",
        "colab_type": "text"
      },
      "source": [
        "<a href=\"https://colab.research.google.com/github/leon-maia/Portfolio-Voyager/blob/main/Previs%C3%A3o%20de%20Receitas%20Municipais.ipynb\" target=\"_parent\"><img src=\"https://colab.research.google.com/assets/colab-badge.svg\" alt=\"Open In Colab\"/></a>"
      ]
    },
    {
      "cell_type": "code",
      "execution_count": 1,
      "metadata": {
        "id": "N_soyttwUcR5"
      },
      "outputs": [],
      "source": [
        "import pandas as pd # data processing\n",
        "import numpy as np\n",
        "import json\n",
        "\n",
        "import requests\n",
        "from requests.adapters import HTTPAdapter\n",
        "from requests.packages.urllib3.util.retry import Retry"
      ]
    },
    {
      "cell_type": "code",
      "source": [
        "#Para não ter dificuldade com requisições no site do TCE-PE\n",
        "\n",
        "session = requests.Session()\n",
        "retry = Retry(connect=3, backoff_factor=0.5)\n",
        "adapter = HTTPAdapter(max_retries=retry)\n",
        "session.mount('http://', adapter)\n",
        "session.mount('https://', adapter)"
      ],
      "metadata": {
        "id": "76QKgGQlV-zM"
      },
      "execution_count": 2,
      "outputs": []
    },
    {
      "cell_type": "code",
      "source": [
        "exercicios = ['2012', '2013', '2014', '2015', '2016', '2017', '2018', '2019', '2020', '2021', '2022']\n",
        "dicionario = {}\n",
        "base_dados = []\n",
        "base_dados_temp = []\n",
        "for i, ano in enumerate(exercicios):\n",
        "  url = 'https://sistemas.tce.pe.gov.br:443/DadosAbertos/ReceitasMunicipais!json?ANOREFERENCIA=%s&ID_UNIDADE_GESTORA=319' % (ano)\n",
        "  resposta = session.get(url, stream=True)\n",
        "  if i == 0:\n",
        "    dicionario = json.loads(resposta.text)\n",
        "    base_dados = pd.DataFrame.from_dict(data=dicionario['resposta']['conteudo'])\n",
        "    print('Ano {} concluído.'.format(ano))\n",
        "    print(f'Ano {ano}: {base_dados.shape[0]} linhas carregadas.')\n",
        "  else:\n",
        "    dicionario = json.loads(resposta.text)\n",
        "    base_dados_temp = pd.DataFrame.from_dict(data=dicionario['resposta']['conteudo'])\n",
        "    print('Ano {} concluído.'.format(ano))\n",
        "    print('\\n')\n",
        "    print(f'Ano {ano}: {base_dados_temp.shape[0]} linhas carregadas.')\n",
        "    base_dados = pd.concat([base_dados, base_dados_temp])\n",
        "    print(f'Total: {base_dados.shape[0]} linhas carregadas.')\n",
        "    "
      ],
      "metadata": {
        "id": "CZxbMqeOGa-y",
        "colab": {
          "base_uri": "https://localhost:8080/"
        },
        "outputId": "0bc439b3-5de9-4454-c5fd-e8dc6d61e93c"
      },
      "execution_count": 3,
      "outputs": [
        {
          "output_type": "stream",
          "name": "stdout",
          "text": [
            "Ano 2012 concluído.\n",
            "Ano 2012: 890 linhas carregadas.\n",
            "Ano 2013 concluído.\n",
            "\n",
            "\n",
            "Ano 2013: 934 linhas carregadas.\n",
            "Total: 1824 linhas carregadas.\n",
            "Ano 2014 concluído.\n",
            "\n",
            "\n",
            "Ano 2014: 972 linhas carregadas.\n",
            "Total: 2796 linhas carregadas.\n",
            "Ano 2015 concluído.\n",
            "\n",
            "\n",
            "Ano 2015: 1248 linhas carregadas.\n",
            "Total: 4044 linhas carregadas.\n",
            "Ano 2016 concluído.\n",
            "\n",
            "\n",
            "Ano 2016: 1376 linhas carregadas.\n",
            "Total: 5420 linhas carregadas.\n",
            "Ano 2017 concluído.\n",
            "\n",
            "\n",
            "Ano 2017: 1305 linhas carregadas.\n",
            "Total: 6725 linhas carregadas.\n",
            "Ano 2018 concluído.\n",
            "\n",
            "\n",
            "Ano 2018: 1347 linhas carregadas.\n",
            "Total: 8072 linhas carregadas.\n",
            "Ano 2019 concluído.\n",
            "\n",
            "\n",
            "Ano 2019: 1428 linhas carregadas.\n",
            "Total: 9500 linhas carregadas.\n",
            "Ano 2020 concluído.\n",
            "\n",
            "\n",
            "Ano 2020: 1892 linhas carregadas.\n",
            "Total: 11392 linhas carregadas.\n",
            "Ano 2021 concluído.\n",
            "\n",
            "\n",
            "Ano 2021: 1900 linhas carregadas.\n",
            "Total: 13292 linhas carregadas.\n",
            "Ano 2022 concluído.\n",
            "\n",
            "\n",
            "Ano 2022: 453 linhas carregadas.\n",
            "Total: 13745 linhas carregadas.\n"
          ]
        }
      ]
    },
    {
      "cell_type": "code",
      "source": [
        "base_dados.shape"
      ],
      "metadata": {
        "colab": {
          "base_uri": "https://localhost:8080/"
        },
        "id": "DEFGVYGtcOak",
        "outputId": "59e77b83-30c2-4711-88fa-0ed4e86e186e"
      },
      "execution_count": 4,
      "outputs": [
        {
          "output_type": "execute_result",
          "data": {
            "text/plain": [
              "(13745, 12)"
            ]
          },
          "metadata": {},
          "execution_count": 4
        }
      ]
    },
    {
      "cell_type": "code",
      "source": [
        "base_dados.columns"
      ],
      "metadata": {
        "colab": {
          "base_uri": "https://localhost:8080/"
        },
        "id": "E_v9DjADHhCm",
        "outputId": "00447f03-f1ae-42ea-c4ec-2a107cda6ed4"
      },
      "execution_count": 5,
      "outputs": [
        {
          "output_type": "execute_result",
          "data": {
            "text/plain": [
              "Index(['ID_UNIDADE_GESTORA', 'NUMERORECEITAORCAMENTARIAUG', 'DESCRICAO',\n",
              "       'CATEGORIARECEITA', 'ANOREFERENCIA', 'MESREFERENCIA', 'VALORLANCAMENTO',\n",
              "       'ESFERA', 'ORIGEMRECEITA', 'DEDUCAORECEITA', 'ESPECIERECEITA',\n",
              "       'DESCRICAOFONTE'],\n",
              "      dtype='object')"
            ]
          },
          "metadata": {},
          "execution_count": 5
        }
      ]
    },
    {
      "cell_type": "code",
      "source": [
        "base_dados = base_dados.reset_index()"
      ],
      "metadata": {
        "id": "yH80iiuuHIHB"
      },
      "execution_count": 6,
      "outputs": []
    },
    {
      "cell_type": "code",
      "source": [
        "base_dados = base_dados.drop(labels='index', axis=1)"
      ],
      "metadata": {
        "id": "bRh4A9cCHTw6"
      },
      "execution_count": 7,
      "outputs": []
    },
    {
      "cell_type": "code",
      "source": [
        "base_dados['COMPETENCIA'] = pd.to_datetime({'year': base_dados['ANOREFERENCIA'], 'month': base_dados['MESREFERENCIA'], 'day': 1}, format=\"%m/%Y\")"
      ],
      "metadata": {
        "id": "ia9YSr6AHYk2"
      },
      "execution_count": 8,
      "outputs": []
    },
    {
      "cell_type": "code",
      "source": [
        "base_dados.info()"
      ],
      "metadata": {
        "colab": {
          "base_uri": "https://localhost:8080/"
        },
        "id": "bXeYAdUoHYoQ",
        "outputId": "836ae1ce-9910-4d49-e175-8a84ef265abc"
      },
      "execution_count": 9,
      "outputs": [
        {
          "output_type": "stream",
          "name": "stdout",
          "text": [
            "<class 'pandas.core.frame.DataFrame'>\n",
            "RangeIndex: 13745 entries, 0 to 13744\n",
            "Data columns (total 13 columns):\n",
            " #   Column                       Non-Null Count  Dtype         \n",
            "---  ------                       --------------  -----         \n",
            " 0   ID_UNIDADE_GESTORA           13745 non-null  object        \n",
            " 1   NUMERORECEITAORCAMENTARIAUG  13743 non-null  object        \n",
            " 2   DESCRICAO                    13743 non-null  object        \n",
            " 3   CATEGORIARECEITA             13745 non-null  object        \n",
            " 4   ANOREFERENCIA                13745 non-null  object        \n",
            " 5   MESREFERENCIA                13745 non-null  object        \n",
            " 6   VALORLANCAMENTO              13745 non-null  object        \n",
            " 7   ESFERA                       13745 non-null  object        \n",
            " 8   ORIGEMRECEITA                13743 non-null  object        \n",
            " 9   DEDUCAORECEITA               13745 non-null  object        \n",
            " 10  ESPECIERECEITA               12339 non-null  object        \n",
            " 11  DESCRICAOFONTE               11921 non-null  object        \n",
            " 12  COMPETENCIA                  13745 non-null  datetime64[ns]\n",
            "dtypes: datetime64[ns](1), object(12)\n",
            "memory usage: 1.4+ MB\n"
          ]
        }
      ]
    },
    {
      "cell_type": "code",
      "source": [
        "base_dados.head()"
      ],
      "metadata": {
        "colab": {
          "base_uri": "https://localhost:8080/",
          "height": 635
        },
        "id": "NQR8b4UELCRB",
        "outputId": "b6c9b9c9-c5c8-4b25-fd4c-9615a68acb1d"
      },
      "execution_count": 10,
      "outputs": [
        {
          "output_type": "execute_result",
          "data": {
            "text/plain": [
              "  ID_UNIDADE_GESTORA NUMERORECEITAORCAMENTARIAUG  \\\n",
              "0                319                   917220101   \n",
              "1                319                   917220101   \n",
              "2                319                   917220101   \n",
              "3                319                   917220102   \n",
              "4                319                   917220104   \n",
              "\n",
              "                                           DESCRICAO     CATEGORIARECEITA  \\\n",
              "0             Dedução de Cota-Parte do ICMS - FUNDEB  Dedução de Receitas   \n",
              "1             Dedução de Cota-Parte do ICMS - FUNDEB  Dedução de Receitas   \n",
              "2             Dedução de Cota-Parte do ICMS - FUNDEB  Dedução de Receitas   \n",
              "3             Dedução de Cota-Parte do IPVA - FUNDEB  Dedução de Receitas   \n",
              "4  Dedução de Cota-Parte do IPI sobre Exportação ...  Dedução de Receitas   \n",
              "\n",
              "  ANOREFERENCIA MESREFERENCIA VALORLANCAMENTO ESFERA      ORIGEMRECEITA  \\\n",
              "0          2012             2     -3655348.80      M  Alienação de Bens   \n",
              "1          2012             4     -2974700.38      M  Alienação de Bens   \n",
              "2          2012             5     -4365097.58      M  Alienação de Bens   \n",
              "3          2012             8        -3891.64      M  Alienação de Bens   \n",
              "4          2012             9        -7644.57      M  Alienação de Bens   \n",
              "\n",
              "  DEDUCAORECEITA ESPECIERECEITA DESCRICAOFONTE COMPETENCIA  \n",
              "0              9            NaN            NaN  2012-02-01  \n",
              "1              9            NaN            NaN  2012-04-01  \n",
              "2              9            NaN            NaN  2012-05-01  \n",
              "3              9            NaN            NaN  2012-08-01  \n",
              "4              9            NaN            NaN  2012-09-01  "
            ],
            "text/html": [
              "\n",
              "  <div id=\"df-aa69c94b-a976-457e-9812-2972a863c05d\">\n",
              "    <div class=\"colab-df-container\">\n",
              "      <div>\n",
              "<style scoped>\n",
              "    .dataframe tbody tr th:only-of-type {\n",
              "        vertical-align: middle;\n",
              "    }\n",
              "\n",
              "    .dataframe tbody tr th {\n",
              "        vertical-align: top;\n",
              "    }\n",
              "\n",
              "    .dataframe thead th {\n",
              "        text-align: right;\n",
              "    }\n",
              "</style>\n",
              "<table border=\"1\" class=\"dataframe\">\n",
              "  <thead>\n",
              "    <tr style=\"text-align: right;\">\n",
              "      <th></th>\n",
              "      <th>ID_UNIDADE_GESTORA</th>\n",
              "      <th>NUMERORECEITAORCAMENTARIAUG</th>\n",
              "      <th>DESCRICAO</th>\n",
              "      <th>CATEGORIARECEITA</th>\n",
              "      <th>ANOREFERENCIA</th>\n",
              "      <th>MESREFERENCIA</th>\n",
              "      <th>VALORLANCAMENTO</th>\n",
              "      <th>ESFERA</th>\n",
              "      <th>ORIGEMRECEITA</th>\n",
              "      <th>DEDUCAORECEITA</th>\n",
              "      <th>ESPECIERECEITA</th>\n",
              "      <th>DESCRICAOFONTE</th>\n",
              "      <th>COMPETENCIA</th>\n",
              "    </tr>\n",
              "  </thead>\n",
              "  <tbody>\n",
              "    <tr>\n",
              "      <th>0</th>\n",
              "      <td>319</td>\n",
              "      <td>917220101</td>\n",
              "      <td>Dedução de Cota-Parte do ICMS - FUNDEB</td>\n",
              "      <td>Dedução de Receitas</td>\n",
              "      <td>2012</td>\n",
              "      <td>2</td>\n",
              "      <td>-3655348.80</td>\n",
              "      <td>M</td>\n",
              "      <td>Alienação de Bens</td>\n",
              "      <td>9</td>\n",
              "      <td>NaN</td>\n",
              "      <td>NaN</td>\n",
              "      <td>2012-02-01</td>\n",
              "    </tr>\n",
              "    <tr>\n",
              "      <th>1</th>\n",
              "      <td>319</td>\n",
              "      <td>917220101</td>\n",
              "      <td>Dedução de Cota-Parte do ICMS - FUNDEB</td>\n",
              "      <td>Dedução de Receitas</td>\n",
              "      <td>2012</td>\n",
              "      <td>4</td>\n",
              "      <td>-2974700.38</td>\n",
              "      <td>M</td>\n",
              "      <td>Alienação de Bens</td>\n",
              "      <td>9</td>\n",
              "      <td>NaN</td>\n",
              "      <td>NaN</td>\n",
              "      <td>2012-04-01</td>\n",
              "    </tr>\n",
              "    <tr>\n",
              "      <th>2</th>\n",
              "      <td>319</td>\n",
              "      <td>917220101</td>\n",
              "      <td>Dedução de Cota-Parte do ICMS - FUNDEB</td>\n",
              "      <td>Dedução de Receitas</td>\n",
              "      <td>2012</td>\n",
              "      <td>5</td>\n",
              "      <td>-4365097.58</td>\n",
              "      <td>M</td>\n",
              "      <td>Alienação de Bens</td>\n",
              "      <td>9</td>\n",
              "      <td>NaN</td>\n",
              "      <td>NaN</td>\n",
              "      <td>2012-05-01</td>\n",
              "    </tr>\n",
              "    <tr>\n",
              "      <th>3</th>\n",
              "      <td>319</td>\n",
              "      <td>917220102</td>\n",
              "      <td>Dedução de Cota-Parte do IPVA - FUNDEB</td>\n",
              "      <td>Dedução de Receitas</td>\n",
              "      <td>2012</td>\n",
              "      <td>8</td>\n",
              "      <td>-3891.64</td>\n",
              "      <td>M</td>\n",
              "      <td>Alienação de Bens</td>\n",
              "      <td>9</td>\n",
              "      <td>NaN</td>\n",
              "      <td>NaN</td>\n",
              "      <td>2012-08-01</td>\n",
              "    </tr>\n",
              "    <tr>\n",
              "      <th>4</th>\n",
              "      <td>319</td>\n",
              "      <td>917220104</td>\n",
              "      <td>Dedução de Cota-Parte do IPI sobre Exportação ...</td>\n",
              "      <td>Dedução de Receitas</td>\n",
              "      <td>2012</td>\n",
              "      <td>9</td>\n",
              "      <td>-7644.57</td>\n",
              "      <td>M</td>\n",
              "      <td>Alienação de Bens</td>\n",
              "      <td>9</td>\n",
              "      <td>NaN</td>\n",
              "      <td>NaN</td>\n",
              "      <td>2012-09-01</td>\n",
              "    </tr>\n",
              "  </tbody>\n",
              "</table>\n",
              "</div>\n",
              "      <button class=\"colab-df-convert\" onclick=\"convertToInteractive('df-aa69c94b-a976-457e-9812-2972a863c05d')\"\n",
              "              title=\"Convert this dataframe to an interactive table.\"\n",
              "              style=\"display:none;\">\n",
              "        \n",
              "  <svg xmlns=\"http://www.w3.org/2000/svg\" height=\"24px\"viewBox=\"0 0 24 24\"\n",
              "       width=\"24px\">\n",
              "    <path d=\"M0 0h24v24H0V0z\" fill=\"none\"/>\n",
              "    <path d=\"M18.56 5.44l.94 2.06.94-2.06 2.06-.94-2.06-.94-.94-2.06-.94 2.06-2.06.94zm-11 1L8.5 8.5l.94-2.06 2.06-.94-2.06-.94L8.5 2.5l-.94 2.06-2.06.94zm10 10l.94 2.06.94-2.06 2.06-.94-2.06-.94-.94-2.06-.94 2.06-2.06.94z\"/><path d=\"M17.41 7.96l-1.37-1.37c-.4-.4-.92-.59-1.43-.59-.52 0-1.04.2-1.43.59L10.3 9.45l-7.72 7.72c-.78.78-.78 2.05 0 2.83L4 21.41c.39.39.9.59 1.41.59.51 0 1.02-.2 1.41-.59l7.78-7.78 2.81-2.81c.8-.78.8-2.07 0-2.86zM5.41 20L4 18.59l7.72-7.72 1.47 1.35L5.41 20z\"/>\n",
              "  </svg>\n",
              "      </button>\n",
              "      \n",
              "  <style>\n",
              "    .colab-df-container {\n",
              "      display:flex;\n",
              "      flex-wrap:wrap;\n",
              "      gap: 12px;\n",
              "    }\n",
              "\n",
              "    .colab-df-convert {\n",
              "      background-color: #E8F0FE;\n",
              "      border: none;\n",
              "      border-radius: 50%;\n",
              "      cursor: pointer;\n",
              "      display: none;\n",
              "      fill: #1967D2;\n",
              "      height: 32px;\n",
              "      padding: 0 0 0 0;\n",
              "      width: 32px;\n",
              "    }\n",
              "\n",
              "    .colab-df-convert:hover {\n",
              "      background-color: #E2EBFA;\n",
              "      box-shadow: 0px 1px 2px rgba(60, 64, 67, 0.3), 0px 1px 3px 1px rgba(60, 64, 67, 0.15);\n",
              "      fill: #174EA6;\n",
              "    }\n",
              "\n",
              "    [theme=dark] .colab-df-convert {\n",
              "      background-color: #3B4455;\n",
              "      fill: #D2E3FC;\n",
              "    }\n",
              "\n",
              "    [theme=dark] .colab-df-convert:hover {\n",
              "      background-color: #434B5C;\n",
              "      box-shadow: 0px 1px 3px 1px rgba(0, 0, 0, 0.15);\n",
              "      filter: drop-shadow(0px 1px 2px rgba(0, 0, 0, 0.3));\n",
              "      fill: #FFFFFF;\n",
              "    }\n",
              "  </style>\n",
              "\n",
              "      <script>\n",
              "        const buttonEl =\n",
              "          document.querySelector('#df-aa69c94b-a976-457e-9812-2972a863c05d button.colab-df-convert');\n",
              "        buttonEl.style.display =\n",
              "          google.colab.kernel.accessAllowed ? 'block' : 'none';\n",
              "\n",
              "        async function convertToInteractive(key) {\n",
              "          const element = document.querySelector('#df-aa69c94b-a976-457e-9812-2972a863c05d');\n",
              "          const dataTable =\n",
              "            await google.colab.kernel.invokeFunction('convertToInteractive',\n",
              "                                                     [key], {});\n",
              "          if (!dataTable) return;\n",
              "\n",
              "          const docLinkHtml = 'Like what you see? Visit the ' +\n",
              "            '<a target=\"_blank\" href=https://colab.research.google.com/notebooks/data_table.ipynb>data table notebook</a>'\n",
              "            + ' to learn more about interactive tables.';\n",
              "          element.innerHTML = '';\n",
              "          dataTable['output_type'] = 'display_data';\n",
              "          await google.colab.output.renderOutput(dataTable, element);\n",
              "          const docLink = document.createElement('div');\n",
              "          docLink.innerHTML = docLinkHtml;\n",
              "          element.appendChild(docLink);\n",
              "        }\n",
              "      </script>\n",
              "    </div>\n",
              "  </div>\n",
              "  "
            ]
          },
          "metadata": {},
          "execution_count": 10
        }
      ]
    },
    {
      "cell_type": "code",
      "source": [
        "# Lista de Receitas e Códigos\n",
        "receitas_cod = base_dados[['NUMERORECEITAORCAMENTARIAUG', 'DESCRICAO']].drop_duplicates()\n",
        "receitas_cod.to_csv('receitas_cod.csv', sep=';', index=False)"
      ],
      "metadata": {
        "id": "d9BA1DNFQcfI"
      },
      "execution_count": 11,
      "outputs": []
    },
    {
      "cell_type": "code",
      "source": [
        "base_dados.loc[base_dados['NUMERORECEITAORCAMENTARIAUG'].isnull()]"
      ],
      "metadata": {
        "colab": {
          "base_uri": "https://localhost:8080/",
          "height": 176
        },
        "id": "7UD6vHnmpu5U",
        "outputId": "12542469-f053-4a29-aeb4-831e73027ff3"
      },
      "execution_count": 12,
      "outputs": [
        {
          "output_type": "execute_result",
          "data": {
            "text/plain": [
              "     ID_UNIDADE_GESTORA NUMERORECEITAORCAMENTARIAUG DESCRICAO  \\\n",
              "2819                319                         NaN       NaN   \n",
              "3423                319                         NaN       NaN   \n",
              "\n",
              "        CATEGORIARECEITA ANOREFERENCIA MESREFERENCIA VALORLANCAMENTO ESFERA  \\\n",
              "2819  Receitas Correntes          2015            11       100000.00      M   \n",
              "3423  Receitas Correntes          2015            11       653831.00      M   \n",
              "\n",
              "     ORIGEMRECEITA DEDUCAORECEITA ESPECIERECEITA DESCRICAOFONTE COMPETENCIA  \n",
              "2819           NaN              0            NaN  Outras Fontes  2015-11-01  \n",
              "3423           NaN              0            NaN  Outras Fontes  2015-11-01  "
            ],
            "text/html": [
              "\n",
              "  <div id=\"df-e576a58c-56bb-4548-963a-bdcac35517f0\">\n",
              "    <div class=\"colab-df-container\">\n",
              "      <div>\n",
              "<style scoped>\n",
              "    .dataframe tbody tr th:only-of-type {\n",
              "        vertical-align: middle;\n",
              "    }\n",
              "\n",
              "    .dataframe tbody tr th {\n",
              "        vertical-align: top;\n",
              "    }\n",
              "\n",
              "    .dataframe thead th {\n",
              "        text-align: right;\n",
              "    }\n",
              "</style>\n",
              "<table border=\"1\" class=\"dataframe\">\n",
              "  <thead>\n",
              "    <tr style=\"text-align: right;\">\n",
              "      <th></th>\n",
              "      <th>ID_UNIDADE_GESTORA</th>\n",
              "      <th>NUMERORECEITAORCAMENTARIAUG</th>\n",
              "      <th>DESCRICAO</th>\n",
              "      <th>CATEGORIARECEITA</th>\n",
              "      <th>ANOREFERENCIA</th>\n",
              "      <th>MESREFERENCIA</th>\n",
              "      <th>VALORLANCAMENTO</th>\n",
              "      <th>ESFERA</th>\n",
              "      <th>ORIGEMRECEITA</th>\n",
              "      <th>DEDUCAORECEITA</th>\n",
              "      <th>ESPECIERECEITA</th>\n",
              "      <th>DESCRICAOFONTE</th>\n",
              "      <th>COMPETENCIA</th>\n",
              "    </tr>\n",
              "  </thead>\n",
              "  <tbody>\n",
              "    <tr>\n",
              "      <th>2819</th>\n",
              "      <td>319</td>\n",
              "      <td>NaN</td>\n",
              "      <td>NaN</td>\n",
              "      <td>Receitas Correntes</td>\n",
              "      <td>2015</td>\n",
              "      <td>11</td>\n",
              "      <td>100000.00</td>\n",
              "      <td>M</td>\n",
              "      <td>NaN</td>\n",
              "      <td>0</td>\n",
              "      <td>NaN</td>\n",
              "      <td>Outras Fontes</td>\n",
              "      <td>2015-11-01</td>\n",
              "    </tr>\n",
              "    <tr>\n",
              "      <th>3423</th>\n",
              "      <td>319</td>\n",
              "      <td>NaN</td>\n",
              "      <td>NaN</td>\n",
              "      <td>Receitas Correntes</td>\n",
              "      <td>2015</td>\n",
              "      <td>11</td>\n",
              "      <td>653831.00</td>\n",
              "      <td>M</td>\n",
              "      <td>NaN</td>\n",
              "      <td>0</td>\n",
              "      <td>NaN</td>\n",
              "      <td>Outras Fontes</td>\n",
              "      <td>2015-11-01</td>\n",
              "    </tr>\n",
              "  </tbody>\n",
              "</table>\n",
              "</div>\n",
              "      <button class=\"colab-df-convert\" onclick=\"convertToInteractive('df-e576a58c-56bb-4548-963a-bdcac35517f0')\"\n",
              "              title=\"Convert this dataframe to an interactive table.\"\n",
              "              style=\"display:none;\">\n",
              "        \n",
              "  <svg xmlns=\"http://www.w3.org/2000/svg\" height=\"24px\"viewBox=\"0 0 24 24\"\n",
              "       width=\"24px\">\n",
              "    <path d=\"M0 0h24v24H0V0z\" fill=\"none\"/>\n",
              "    <path d=\"M18.56 5.44l.94 2.06.94-2.06 2.06-.94-2.06-.94-.94-2.06-.94 2.06-2.06.94zm-11 1L8.5 8.5l.94-2.06 2.06-.94-2.06-.94L8.5 2.5l-.94 2.06-2.06.94zm10 10l.94 2.06.94-2.06 2.06-.94-2.06-.94-.94-2.06-.94 2.06-2.06.94z\"/><path d=\"M17.41 7.96l-1.37-1.37c-.4-.4-.92-.59-1.43-.59-.52 0-1.04.2-1.43.59L10.3 9.45l-7.72 7.72c-.78.78-.78 2.05 0 2.83L4 21.41c.39.39.9.59 1.41.59.51 0 1.02-.2 1.41-.59l7.78-7.78 2.81-2.81c.8-.78.8-2.07 0-2.86zM5.41 20L4 18.59l7.72-7.72 1.47 1.35L5.41 20z\"/>\n",
              "  </svg>\n",
              "      </button>\n",
              "      \n",
              "  <style>\n",
              "    .colab-df-container {\n",
              "      display:flex;\n",
              "      flex-wrap:wrap;\n",
              "      gap: 12px;\n",
              "    }\n",
              "\n",
              "    .colab-df-convert {\n",
              "      background-color: #E8F0FE;\n",
              "      border: none;\n",
              "      border-radius: 50%;\n",
              "      cursor: pointer;\n",
              "      display: none;\n",
              "      fill: #1967D2;\n",
              "      height: 32px;\n",
              "      padding: 0 0 0 0;\n",
              "      width: 32px;\n",
              "    }\n",
              "\n",
              "    .colab-df-convert:hover {\n",
              "      background-color: #E2EBFA;\n",
              "      box-shadow: 0px 1px 2px rgba(60, 64, 67, 0.3), 0px 1px 3px 1px rgba(60, 64, 67, 0.15);\n",
              "      fill: #174EA6;\n",
              "    }\n",
              "\n",
              "    [theme=dark] .colab-df-convert {\n",
              "      background-color: #3B4455;\n",
              "      fill: #D2E3FC;\n",
              "    }\n",
              "\n",
              "    [theme=dark] .colab-df-convert:hover {\n",
              "      background-color: #434B5C;\n",
              "      box-shadow: 0px 1px 3px 1px rgba(0, 0, 0, 0.15);\n",
              "      filter: drop-shadow(0px 1px 2px rgba(0, 0, 0, 0.3));\n",
              "      fill: #FFFFFF;\n",
              "    }\n",
              "  </style>\n",
              "\n",
              "      <script>\n",
              "        const buttonEl =\n",
              "          document.querySelector('#df-e576a58c-56bb-4548-963a-bdcac35517f0 button.colab-df-convert');\n",
              "        buttonEl.style.display =\n",
              "          google.colab.kernel.accessAllowed ? 'block' : 'none';\n",
              "\n",
              "        async function convertToInteractive(key) {\n",
              "          const element = document.querySelector('#df-e576a58c-56bb-4548-963a-bdcac35517f0');\n",
              "          const dataTable =\n",
              "            await google.colab.kernel.invokeFunction('convertToInteractive',\n",
              "                                                     [key], {});\n",
              "          if (!dataTable) return;\n",
              "\n",
              "          const docLinkHtml = 'Like what you see? Visit the ' +\n",
              "            '<a target=\"_blank\" href=https://colab.research.google.com/notebooks/data_table.ipynb>data table notebook</a>'\n",
              "            + ' to learn more about interactive tables.';\n",
              "          element.innerHTML = '';\n",
              "          dataTable['output_type'] = 'display_data';\n",
              "          await google.colab.output.renderOutput(dataTable, element);\n",
              "          const docLink = document.createElement('div');\n",
              "          docLink.innerHTML = docLinkHtml;\n",
              "          element.appendChild(docLink);\n",
              "        }\n",
              "      </script>\n",
              "    </div>\n",
              "  </div>\n",
              "  "
            ]
          },
          "metadata": {},
          "execution_count": 12
        }
      ]
    },
    {
      "cell_type": "code",
      "source": [
        "base_dados.drop([2819\t, 3423], inplace=True)"
      ],
      "metadata": {
        "id": "5aR70ZqkqE2q"
      },
      "execution_count": 13,
      "outputs": []
    },
    {
      "cell_type": "code",
      "source": [
        "base_dados.info()"
      ],
      "metadata": {
        "colab": {
          "base_uri": "https://localhost:8080/"
        },
        "id": "LEYg4uz-rFb7",
        "outputId": "438fc90f-dcbc-4a25-9f49-ea5509e73d0d"
      },
      "execution_count": 14,
      "outputs": [
        {
          "output_type": "stream",
          "name": "stdout",
          "text": [
            "<class 'pandas.core.frame.DataFrame'>\n",
            "Int64Index: 13743 entries, 0 to 13744\n",
            "Data columns (total 13 columns):\n",
            " #   Column                       Non-Null Count  Dtype         \n",
            "---  ------                       --------------  -----         \n",
            " 0   ID_UNIDADE_GESTORA           13743 non-null  object        \n",
            " 1   NUMERORECEITAORCAMENTARIAUG  13743 non-null  object        \n",
            " 2   DESCRICAO                    13743 non-null  object        \n",
            " 3   CATEGORIARECEITA             13743 non-null  object        \n",
            " 4   ANOREFERENCIA                13743 non-null  object        \n",
            " 5   MESREFERENCIA                13743 non-null  object        \n",
            " 6   VALORLANCAMENTO              13743 non-null  object        \n",
            " 7   ESFERA                       13743 non-null  object        \n",
            " 8   ORIGEMRECEITA                13743 non-null  object        \n",
            " 9   DEDUCAORECEITA               13743 non-null  object        \n",
            " 10  ESPECIERECEITA               12339 non-null  object        \n",
            " 11  DESCRICAOFONTE               11919 non-null  object        \n",
            " 12  COMPETENCIA                  13743 non-null  datetime64[ns]\n",
            "dtypes: datetime64[ns](1), object(12)\n",
            "memory usage: 1.5+ MB\n"
          ]
        }
      ]
    },
    {
      "cell_type": "code",
      "source": [
        "# Transformar numeros em valores flutuantes\n",
        "base_dados['VALORLANCAMENTO'] = base_dados['VALORLANCAMENTO'].astype(float)\n",
        "base_dados['NUMERORECEITAORCAMENTARIAUG'] = base_dados['NUMERORECEITAORCAMENTARIAUG'].astype(int)"
      ],
      "metadata": {
        "id": "xk0doCgqtIui"
      },
      "execution_count": 15,
      "outputs": []
    },
    {
      "cell_type": "code",
      "source": [
        "base_dados.info()"
      ],
      "metadata": {
        "colab": {
          "base_uri": "https://localhost:8080/"
        },
        "id": "xthOMRB3mnKj",
        "outputId": "dcc4cb50-a217-4742-b485-8406876a43cd"
      },
      "execution_count": 16,
      "outputs": [
        {
          "output_type": "stream",
          "name": "stdout",
          "text": [
            "<class 'pandas.core.frame.DataFrame'>\n",
            "Int64Index: 13743 entries, 0 to 13744\n",
            "Data columns (total 13 columns):\n",
            " #   Column                       Non-Null Count  Dtype         \n",
            "---  ------                       --------------  -----         \n",
            " 0   ID_UNIDADE_GESTORA           13743 non-null  object        \n",
            " 1   NUMERORECEITAORCAMENTARIAUG  13743 non-null  int64         \n",
            " 2   DESCRICAO                    13743 non-null  object        \n",
            " 3   CATEGORIARECEITA             13743 non-null  object        \n",
            " 4   ANOREFERENCIA                13743 non-null  object        \n",
            " 5   MESREFERENCIA                13743 non-null  object        \n",
            " 6   VALORLANCAMENTO              13743 non-null  float64       \n",
            " 7   ESFERA                       13743 non-null  object        \n",
            " 8   ORIGEMRECEITA                13743 non-null  object        \n",
            " 9   DEDUCAORECEITA               13743 non-null  object        \n",
            " 10  ESPECIERECEITA               12339 non-null  object        \n",
            " 11  DESCRICAOFONTE               11919 non-null  object        \n",
            " 12  COMPETENCIA                  13743 non-null  datetime64[ns]\n",
            "dtypes: datetime64[ns](1), float64(1), int64(1), object(10)\n",
            "memory usage: 1.5+ MB\n"
          ]
        }
      ]
    },
    {
      "cell_type": "code",
      "source": [
        "base_dados_gravar = base_dados[['COMPETENCIA', 'ANOREFERENCIA', 'ORIGEMRECEITA', 'DEDUCAORECEITA', 'NUMERORECEITAORCAMENTARIAUG', 'DESCRICAO', 'VALORLANCAMENTO']]"
      ],
      "metadata": {
        "id": "Iq_XtfhQmqyo"
      },
      "execution_count": 17,
      "outputs": []
    },
    {
      "cell_type": "code",
      "source": [
        "base_dados_gravar.head()"
      ],
      "metadata": {
        "colab": {
          "base_uri": "https://localhost:8080/",
          "height": 441
        },
        "id": "9RY8x7XcpKHI",
        "outputId": "40a77655-ac44-4e83-9848-38d0ddeca92e"
      },
      "execution_count": 18,
      "outputs": [
        {
          "output_type": "execute_result",
          "data": {
            "text/plain": [
              "  COMPETENCIA ANOREFERENCIA      ORIGEMRECEITA DEDUCAORECEITA  \\\n",
              "0  2012-02-01          2012  Alienação de Bens              9   \n",
              "1  2012-04-01          2012  Alienação de Bens              9   \n",
              "2  2012-05-01          2012  Alienação de Bens              9   \n",
              "3  2012-08-01          2012  Alienação de Bens              9   \n",
              "4  2012-09-01          2012  Alienação de Bens              9   \n",
              "\n",
              "   NUMERORECEITAORCAMENTARIAUG  \\\n",
              "0                    917220101   \n",
              "1                    917220101   \n",
              "2                    917220101   \n",
              "3                    917220102   \n",
              "4                    917220104   \n",
              "\n",
              "                                           DESCRICAO  VALORLANCAMENTO  \n",
              "0             Dedução de Cota-Parte do ICMS - FUNDEB      -3655348.80  \n",
              "1             Dedução de Cota-Parte do ICMS - FUNDEB      -2974700.38  \n",
              "2             Dedução de Cota-Parte do ICMS - FUNDEB      -4365097.58  \n",
              "3             Dedução de Cota-Parte do IPVA - FUNDEB         -3891.64  \n",
              "4  Dedução de Cota-Parte do IPI sobre Exportação ...         -7644.57  "
            ],
            "text/html": [
              "\n",
              "  <div id=\"df-22948be1-ea6c-4c7d-ae8c-966d4521a122\">\n",
              "    <div class=\"colab-df-container\">\n",
              "      <div>\n",
              "<style scoped>\n",
              "    .dataframe tbody tr th:only-of-type {\n",
              "        vertical-align: middle;\n",
              "    }\n",
              "\n",
              "    .dataframe tbody tr th {\n",
              "        vertical-align: top;\n",
              "    }\n",
              "\n",
              "    .dataframe thead th {\n",
              "        text-align: right;\n",
              "    }\n",
              "</style>\n",
              "<table border=\"1\" class=\"dataframe\">\n",
              "  <thead>\n",
              "    <tr style=\"text-align: right;\">\n",
              "      <th></th>\n",
              "      <th>COMPETENCIA</th>\n",
              "      <th>ANOREFERENCIA</th>\n",
              "      <th>ORIGEMRECEITA</th>\n",
              "      <th>DEDUCAORECEITA</th>\n",
              "      <th>NUMERORECEITAORCAMENTARIAUG</th>\n",
              "      <th>DESCRICAO</th>\n",
              "      <th>VALORLANCAMENTO</th>\n",
              "    </tr>\n",
              "  </thead>\n",
              "  <tbody>\n",
              "    <tr>\n",
              "      <th>0</th>\n",
              "      <td>2012-02-01</td>\n",
              "      <td>2012</td>\n",
              "      <td>Alienação de Bens</td>\n",
              "      <td>9</td>\n",
              "      <td>917220101</td>\n",
              "      <td>Dedução de Cota-Parte do ICMS - FUNDEB</td>\n",
              "      <td>-3655348.80</td>\n",
              "    </tr>\n",
              "    <tr>\n",
              "      <th>1</th>\n",
              "      <td>2012-04-01</td>\n",
              "      <td>2012</td>\n",
              "      <td>Alienação de Bens</td>\n",
              "      <td>9</td>\n",
              "      <td>917220101</td>\n",
              "      <td>Dedução de Cota-Parte do ICMS - FUNDEB</td>\n",
              "      <td>-2974700.38</td>\n",
              "    </tr>\n",
              "    <tr>\n",
              "      <th>2</th>\n",
              "      <td>2012-05-01</td>\n",
              "      <td>2012</td>\n",
              "      <td>Alienação de Bens</td>\n",
              "      <td>9</td>\n",
              "      <td>917220101</td>\n",
              "      <td>Dedução de Cota-Parte do ICMS - FUNDEB</td>\n",
              "      <td>-4365097.58</td>\n",
              "    </tr>\n",
              "    <tr>\n",
              "      <th>3</th>\n",
              "      <td>2012-08-01</td>\n",
              "      <td>2012</td>\n",
              "      <td>Alienação de Bens</td>\n",
              "      <td>9</td>\n",
              "      <td>917220102</td>\n",
              "      <td>Dedução de Cota-Parte do IPVA - FUNDEB</td>\n",
              "      <td>-3891.64</td>\n",
              "    </tr>\n",
              "    <tr>\n",
              "      <th>4</th>\n",
              "      <td>2012-09-01</td>\n",
              "      <td>2012</td>\n",
              "      <td>Alienação de Bens</td>\n",
              "      <td>9</td>\n",
              "      <td>917220104</td>\n",
              "      <td>Dedução de Cota-Parte do IPI sobre Exportação ...</td>\n",
              "      <td>-7644.57</td>\n",
              "    </tr>\n",
              "  </tbody>\n",
              "</table>\n",
              "</div>\n",
              "      <button class=\"colab-df-convert\" onclick=\"convertToInteractive('df-22948be1-ea6c-4c7d-ae8c-966d4521a122')\"\n",
              "              title=\"Convert this dataframe to an interactive table.\"\n",
              "              style=\"display:none;\">\n",
              "        \n",
              "  <svg xmlns=\"http://www.w3.org/2000/svg\" height=\"24px\"viewBox=\"0 0 24 24\"\n",
              "       width=\"24px\">\n",
              "    <path d=\"M0 0h24v24H0V0z\" fill=\"none\"/>\n",
              "    <path d=\"M18.56 5.44l.94 2.06.94-2.06 2.06-.94-2.06-.94-.94-2.06-.94 2.06-2.06.94zm-11 1L8.5 8.5l.94-2.06 2.06-.94-2.06-.94L8.5 2.5l-.94 2.06-2.06.94zm10 10l.94 2.06.94-2.06 2.06-.94-2.06-.94-.94-2.06-.94 2.06-2.06.94z\"/><path d=\"M17.41 7.96l-1.37-1.37c-.4-.4-.92-.59-1.43-.59-.52 0-1.04.2-1.43.59L10.3 9.45l-7.72 7.72c-.78.78-.78 2.05 0 2.83L4 21.41c.39.39.9.59 1.41.59.51 0 1.02-.2 1.41-.59l7.78-7.78 2.81-2.81c.8-.78.8-2.07 0-2.86zM5.41 20L4 18.59l7.72-7.72 1.47 1.35L5.41 20z\"/>\n",
              "  </svg>\n",
              "      </button>\n",
              "      \n",
              "  <style>\n",
              "    .colab-df-container {\n",
              "      display:flex;\n",
              "      flex-wrap:wrap;\n",
              "      gap: 12px;\n",
              "    }\n",
              "\n",
              "    .colab-df-convert {\n",
              "      background-color: #E8F0FE;\n",
              "      border: none;\n",
              "      border-radius: 50%;\n",
              "      cursor: pointer;\n",
              "      display: none;\n",
              "      fill: #1967D2;\n",
              "      height: 32px;\n",
              "      padding: 0 0 0 0;\n",
              "      width: 32px;\n",
              "    }\n",
              "\n",
              "    .colab-df-convert:hover {\n",
              "      background-color: #E2EBFA;\n",
              "      box-shadow: 0px 1px 2px rgba(60, 64, 67, 0.3), 0px 1px 3px 1px rgba(60, 64, 67, 0.15);\n",
              "      fill: #174EA6;\n",
              "    }\n",
              "\n",
              "    [theme=dark] .colab-df-convert {\n",
              "      background-color: #3B4455;\n",
              "      fill: #D2E3FC;\n",
              "    }\n",
              "\n",
              "    [theme=dark] .colab-df-convert:hover {\n",
              "      background-color: #434B5C;\n",
              "      box-shadow: 0px 1px 3px 1px rgba(0, 0, 0, 0.15);\n",
              "      filter: drop-shadow(0px 1px 2px rgba(0, 0, 0, 0.3));\n",
              "      fill: #FFFFFF;\n",
              "    }\n",
              "  </style>\n",
              "\n",
              "      <script>\n",
              "        const buttonEl =\n",
              "          document.querySelector('#df-22948be1-ea6c-4c7d-ae8c-966d4521a122 button.colab-df-convert');\n",
              "        buttonEl.style.display =\n",
              "          google.colab.kernel.accessAllowed ? 'block' : 'none';\n",
              "\n",
              "        async function convertToInteractive(key) {\n",
              "          const element = document.querySelector('#df-22948be1-ea6c-4c7d-ae8c-966d4521a122');\n",
              "          const dataTable =\n",
              "            await google.colab.kernel.invokeFunction('convertToInteractive',\n",
              "                                                     [key], {});\n",
              "          if (!dataTable) return;\n",
              "\n",
              "          const docLinkHtml = 'Like what you see? Visit the ' +\n",
              "            '<a target=\"_blank\" href=https://colab.research.google.com/notebooks/data_table.ipynb>data table notebook</a>'\n",
              "            + ' to learn more about interactive tables.';\n",
              "          element.innerHTML = '';\n",
              "          dataTable['output_type'] = 'display_data';\n",
              "          await google.colab.output.renderOutput(dataTable, element);\n",
              "          const docLink = document.createElement('div');\n",
              "          docLink.innerHTML = docLinkHtml;\n",
              "          element.appendChild(docLink);\n",
              "        }\n",
              "      </script>\n",
              "    </div>\n",
              "  </div>\n",
              "  "
            ]
          },
          "metadata": {},
          "execution_count": 18
        }
      ]
    },
    {
      "cell_type": "code",
      "source": [
        "base_dados_gravar.info()"
      ],
      "metadata": {
        "colab": {
          "base_uri": "https://localhost:8080/"
        },
        "id": "D1x7UhIIpOwA",
        "outputId": "21b5269c-71f4-43aa-f107-4fa2633715b8"
      },
      "execution_count": 19,
      "outputs": [
        {
          "output_type": "stream",
          "name": "stdout",
          "text": [
            "<class 'pandas.core.frame.DataFrame'>\n",
            "Int64Index: 13743 entries, 0 to 13744\n",
            "Data columns (total 7 columns):\n",
            " #   Column                       Non-Null Count  Dtype         \n",
            "---  ------                       --------------  -----         \n",
            " 0   COMPETENCIA                  13743 non-null  datetime64[ns]\n",
            " 1   ANOREFERENCIA                13743 non-null  object        \n",
            " 2   ORIGEMRECEITA                13743 non-null  object        \n",
            " 3   DEDUCAORECEITA               13743 non-null  object        \n",
            " 4   NUMERORECEITAORCAMENTARIAUG  13743 non-null  int64         \n",
            " 5   DESCRICAO                    13743 non-null  object        \n",
            " 6   VALORLANCAMENTO              13743 non-null  float64       \n",
            "dtypes: datetime64[ns](1), float64(1), int64(1), object(4)\n",
            "memory usage: 858.9+ KB\n"
          ]
        }
      ]
    },
    {
      "cell_type": "code",
      "source": [
        "# Transformar data em texto para armazenamento no banco de dados - hipótese de explicação do erro.\n",
        "base_dados_gravar['COMPETENCIA'] = base_dados_gravar['COMPETENCIA'].astype(str)"
      ],
      "metadata": {
        "colab": {
          "base_uri": "https://localhost:8080/"
        },
        "id": "nRWOFutG1yov",
        "outputId": "8bdd46c3-a87b-4f72-909d-51c8b1fd1f6c"
      },
      "execution_count": 20,
      "outputs": [
        {
          "output_type": "stream",
          "name": "stderr",
          "text": [
            "/usr/local/lib/python3.7/dist-packages/ipykernel_launcher.py:2: SettingWithCopyWarning: \n",
            "A value is trying to be set on a copy of a slice from a DataFrame.\n",
            "Try using .loc[row_indexer,col_indexer] = value instead\n",
            "\n",
            "See the caveats in the documentation: https://pandas.pydata.org/pandas-docs/stable/user_guide/indexing.html#returning-a-view-versus-a-copy\n",
            "  \n"
          ]
        }
      ]
    },
    {
      "cell_type": "markdown",
      "source": [
        "Gravar em um Banco de Dados"
      ],
      "metadata": {
        "id": "-Gt_LmN0upxw"
      }
    },
    {
      "cell_type": "code",
      "source": [
        "# Importar biblioteca\n",
        "import sqlite3\n",
        "\n",
        "# Criar conexão\n",
        "con = sqlite3.connect('baseTransferencias.db')\n",
        "\n",
        "# Criar cursor\n",
        "cur = con.cursor()"
      ],
      "metadata": {
        "id": "nZOt6jBGP3zs"
      },
      "execution_count": 46,
      "outputs": []
    },
    {
      "cell_type": "code",
      "source": [
        "#Inserir DE-PARA receitas no banco de dados\n",
        "receitas_tratadas = pd.read_csv('/content/receitas_tratadas.csv', sep=';', encoding='ISO-8859–1')"
      ],
      "metadata": {
        "id": "-SwL7l9w4CM8"
      },
      "execution_count": 47,
      "outputs": []
    },
    {
      "cell_type": "code",
      "source": [
        "receitas_tratadas.head()"
      ],
      "metadata": {
        "colab": {
          "base_uri": "https://localhost:8080/",
          "height": 302
        },
        "id": "P1cN24zW4CQy",
        "outputId": "c011799a-e333-4149-a47d-12aedf936133"
      },
      "execution_count": 48,
      "outputs": [
        {
          "output_type": "execute_result",
          "data": {
            "text/plain": [
              "   NUMERORECEITAORCAMENTARIAUG  \\\n",
              "0                    917220101   \n",
              "1                    917220102   \n",
              "2                    917220104   \n",
              "3                    917230000   \n",
              "4                    917213600   \n",
              "\n",
              "                                           DESCRICAO  \\\n",
              "0             Deducao de Cota-Parte do ICMS - FUNDEB   \n",
              "1             Deducao de Cota-Parte do IPVA - FUNDEB   \n",
              "2  Deducao de Cota-Parte do IPI sobre Exportacao ...   \n",
              "3           Deducao de Transferencias dos Municipios   \n",
              "4  Deducao de Transferencia Financeira do ICMS De...   \n",
              "\n",
              "              CLASSIFICACAO_SEREC     DETALHAMENTO  \n",
              "0                            ICMS   DEDUCAO FUNDEB  \n",
              "1                            IPVA   DEDUCAO FUNDEB  \n",
              "2                  IPI ExportaCAo   DEDUCAO FUNDEB  \n",
              "3           OUTRAS TRANSFERENCIAS  OUTRAS DEDUCOES  \n",
              "4  ICMS DesoneraCAo L.C. Nº 87.96   DEDUCAO FUNDEB  "
            ],
            "text/html": [
              "\n",
              "  <div id=\"df-fc3500a4-8bb4-4798-af4f-52d639411d01\">\n",
              "    <div class=\"colab-df-container\">\n",
              "      <div>\n",
              "<style scoped>\n",
              "    .dataframe tbody tr th:only-of-type {\n",
              "        vertical-align: middle;\n",
              "    }\n",
              "\n",
              "    .dataframe tbody tr th {\n",
              "        vertical-align: top;\n",
              "    }\n",
              "\n",
              "    .dataframe thead th {\n",
              "        text-align: right;\n",
              "    }\n",
              "</style>\n",
              "<table border=\"1\" class=\"dataframe\">\n",
              "  <thead>\n",
              "    <tr style=\"text-align: right;\">\n",
              "      <th></th>\n",
              "      <th>NUMERORECEITAORCAMENTARIAUG</th>\n",
              "      <th>DESCRICAO</th>\n",
              "      <th>CLASSIFICACAO_SEREC</th>\n",
              "      <th>DETALHAMENTO</th>\n",
              "    </tr>\n",
              "  </thead>\n",
              "  <tbody>\n",
              "    <tr>\n",
              "      <th>0</th>\n",
              "      <td>917220101</td>\n",
              "      <td>Deducao de Cota-Parte do ICMS - FUNDEB</td>\n",
              "      <td>ICMS</td>\n",
              "      <td>DEDUCAO FUNDEB</td>\n",
              "    </tr>\n",
              "    <tr>\n",
              "      <th>1</th>\n",
              "      <td>917220102</td>\n",
              "      <td>Deducao de Cota-Parte do IPVA - FUNDEB</td>\n",
              "      <td>IPVA</td>\n",
              "      <td>DEDUCAO FUNDEB</td>\n",
              "    </tr>\n",
              "    <tr>\n",
              "      <th>2</th>\n",
              "      <td>917220104</td>\n",
              "      <td>Deducao de Cota-Parte do IPI sobre Exportacao ...</td>\n",
              "      <td>IPI ExportaCAo</td>\n",
              "      <td>DEDUCAO FUNDEB</td>\n",
              "    </tr>\n",
              "    <tr>\n",
              "      <th>3</th>\n",
              "      <td>917230000</td>\n",
              "      <td>Deducao de Transferencias dos Municipios</td>\n",
              "      <td>OUTRAS TRANSFERENCIAS</td>\n",
              "      <td>OUTRAS DEDUCOES</td>\n",
              "    </tr>\n",
              "    <tr>\n",
              "      <th>4</th>\n",
              "      <td>917213600</td>\n",
              "      <td>Deducao de Transferencia Financeira do ICMS De...</td>\n",
              "      <td>ICMS DesoneraCAo L.C. Nº 87.96</td>\n",
              "      <td>DEDUCAO FUNDEB</td>\n",
              "    </tr>\n",
              "  </tbody>\n",
              "</table>\n",
              "</div>\n",
              "      <button class=\"colab-df-convert\" onclick=\"convertToInteractive('df-fc3500a4-8bb4-4798-af4f-52d639411d01')\"\n",
              "              title=\"Convert this dataframe to an interactive table.\"\n",
              "              style=\"display:none;\">\n",
              "        \n",
              "  <svg xmlns=\"http://www.w3.org/2000/svg\" height=\"24px\"viewBox=\"0 0 24 24\"\n",
              "       width=\"24px\">\n",
              "    <path d=\"M0 0h24v24H0V0z\" fill=\"none\"/>\n",
              "    <path d=\"M18.56 5.44l.94 2.06.94-2.06 2.06-.94-2.06-.94-.94-2.06-.94 2.06-2.06.94zm-11 1L8.5 8.5l.94-2.06 2.06-.94-2.06-.94L8.5 2.5l-.94 2.06-2.06.94zm10 10l.94 2.06.94-2.06 2.06-.94-2.06-.94-.94-2.06-.94 2.06-2.06.94z\"/><path d=\"M17.41 7.96l-1.37-1.37c-.4-.4-.92-.59-1.43-.59-.52 0-1.04.2-1.43.59L10.3 9.45l-7.72 7.72c-.78.78-.78 2.05 0 2.83L4 21.41c.39.39.9.59 1.41.59.51 0 1.02-.2 1.41-.59l7.78-7.78 2.81-2.81c.8-.78.8-2.07 0-2.86zM5.41 20L4 18.59l7.72-7.72 1.47 1.35L5.41 20z\"/>\n",
              "  </svg>\n",
              "      </button>\n",
              "      \n",
              "  <style>\n",
              "    .colab-df-container {\n",
              "      display:flex;\n",
              "      flex-wrap:wrap;\n",
              "      gap: 12px;\n",
              "    }\n",
              "\n",
              "    .colab-df-convert {\n",
              "      background-color: #E8F0FE;\n",
              "      border: none;\n",
              "      border-radius: 50%;\n",
              "      cursor: pointer;\n",
              "      display: none;\n",
              "      fill: #1967D2;\n",
              "      height: 32px;\n",
              "      padding: 0 0 0 0;\n",
              "      width: 32px;\n",
              "    }\n",
              "\n",
              "    .colab-df-convert:hover {\n",
              "      background-color: #E2EBFA;\n",
              "      box-shadow: 0px 1px 2px rgba(60, 64, 67, 0.3), 0px 1px 3px 1px rgba(60, 64, 67, 0.15);\n",
              "      fill: #174EA6;\n",
              "    }\n",
              "\n",
              "    [theme=dark] .colab-df-convert {\n",
              "      background-color: #3B4455;\n",
              "      fill: #D2E3FC;\n",
              "    }\n",
              "\n",
              "    [theme=dark] .colab-df-convert:hover {\n",
              "      background-color: #434B5C;\n",
              "      box-shadow: 0px 1px 3px 1px rgba(0, 0, 0, 0.15);\n",
              "      filter: drop-shadow(0px 1px 2px rgba(0, 0, 0, 0.3));\n",
              "      fill: #FFFFFF;\n",
              "    }\n",
              "  </style>\n",
              "\n",
              "      <script>\n",
              "        const buttonEl =\n",
              "          document.querySelector('#df-fc3500a4-8bb4-4798-af4f-52d639411d01 button.colab-df-convert');\n",
              "        buttonEl.style.display =\n",
              "          google.colab.kernel.accessAllowed ? 'block' : 'none';\n",
              "\n",
              "        async function convertToInteractive(key) {\n",
              "          const element = document.querySelector('#df-fc3500a4-8bb4-4798-af4f-52d639411d01');\n",
              "          const dataTable =\n",
              "            await google.colab.kernel.invokeFunction('convertToInteractive',\n",
              "                                                     [key], {});\n",
              "          if (!dataTable) return;\n",
              "\n",
              "          const docLinkHtml = 'Like what you see? Visit the ' +\n",
              "            '<a target=\"_blank\" href=https://colab.research.google.com/notebooks/data_table.ipynb>data table notebook</a>'\n",
              "            + ' to learn more about interactive tables.';\n",
              "          element.innerHTML = '';\n",
              "          dataTable['output_type'] = 'display_data';\n",
              "          await google.colab.output.renderOutput(dataTable, element);\n",
              "          const docLink = document.createElement('div');\n",
              "          docLink.innerHTML = docLinkHtml;\n",
              "          element.appendChild(docLink);\n",
              "        }\n",
              "      </script>\n",
              "    </div>\n",
              "  </div>\n",
              "  "
            ]
          },
          "metadata": {},
          "execution_count": 48
        }
      ]
    },
    {
      "cell_type": "code",
      "source": [
        "#Criar tabela auxiliar\n",
        "cur.execute('''CREATE TABLE receitasDePara\n",
        "               (numeroReceitaOrcamentariaUG_2 text,\n",
        "               classificacaoSerec text,\n",
        "               detalhamento text\n",
        "               )\n",
        "               ''')"
      ],
      "metadata": {
        "colab": {
          "base_uri": "https://localhost:8080/"
        },
        "id": "4o9f9x8I_ohC",
        "outputId": "bfb6a7dd-6729-423a-f4bc-4118ba14d132"
      },
      "execution_count": 49,
      "outputs": [
        {
          "output_type": "execute_result",
          "data": {
            "text/plain": [
              "<sqlite3.Cursor at 0x7f4f349e3c70>"
            ]
          },
          "metadata": {},
          "execution_count": 49
        }
      ]
    },
    {
      "cell_type": "code",
      "source": [
        "#Inserir dados na tabela\n",
        "receitas_tratadas_normalizadas = receitas_tratadas[['NUMERORECEITAORCAMENTARIAUG',\t\n",
        "                                                    'CLASSIFICACAO_SEREC', \n",
        "                                                    'DETALHAMENTO']]\n",
        "receitas_tratadas_lista = receitas_tratadas_normalizadas.values.tolist()\n",
        "\n",
        "try:\n",
        "  cur.executemany(\"INSERT INTO receitasDePara (numeroReceitaOrcamentariaUG_2, classificacaoSerec, detalhamento) VALUES (?, ?, ?)\", receitas_tratadas_lista)\n",
        "  con.commit()\n",
        "  print(\"Dados inseridos com sucesso.\")\n",
        "except Exception as e:\n",
        "  print(str(e))\n",
        "  print(\"Falha na inserção de dados.\")\n",
        "finally:\n",
        "  pass"
      ],
      "metadata": {
        "colab": {
          "base_uri": "https://localhost:8080/"
        },
        "id": "l4zDrY76BQ-S",
        "outputId": "0d1c271c-8b7b-47ff-d5f5-dd4527fb4b79"
      },
      "execution_count": 50,
      "outputs": [
        {
          "output_type": "stream",
          "name": "stdout",
          "text": [
            "Dados inseridos com sucesso.\n"
          ]
        }
      ]
    },
    {
      "cell_type": "code",
      "source": [
        "#Criar tabela principal\n",
        "cur.execute('''CREATE TABLE transferencias\n",
        "               (data text,\n",
        "               ano text,\n",
        "               origemReceita text, \n",
        "               deducaoReceita text,\n",
        "               numeroReceitaOrcamentariaUG text,\n",
        "               descricao text,\n",
        "               valor real,\n",
        "               FOREIGN KEY (numeroReceitaOrcamentariaUG) REFERENCES receitaDePara(numeroReceitaOrcamentariaUG_2))\n",
        "               ''')"
      ],
      "metadata": {
        "colab": {
          "base_uri": "https://localhost:8080/"
        },
        "id": "D_Fm4J8ys8-c",
        "outputId": "3c34b4f4-fee2-40b9-ea68-66676fd09671"
      },
      "execution_count": 51,
      "outputs": [
        {
          "output_type": "execute_result",
          "data": {
            "text/plain": [
              "<sqlite3.Cursor at 0x7f4f349e3c70>"
            ]
          },
          "metadata": {},
          "execution_count": 51
        }
      ]
    },
    {
      "cell_type": "code",
      "source": [
        "#Inserir dados na tabela\n",
        "base_dados_lista = base_dados_gravar.values.tolist()\n",
        "\n",
        "try:\n",
        "  cur.executemany(\"INSERT INTO transferencias (data, ano, origemReceita, deducaoReceita, numeroReceitaOrcamentariaUG, descricao, valor) VALUES (?, ?, ?, ?, ?, ?, ?)\", base_dados_lista)\n",
        "  con.commit()\n",
        "  print(\"Dados inseridos com sucesso.\")\n",
        "except Exception as e:\n",
        "  print(str(e))\n",
        "  print(\"Falha na inserção de dados.\")\n",
        "finally:\n",
        "  pass"
      ],
      "metadata": {
        "colab": {
          "base_uri": "https://localhost:8080/"
        },
        "id": "wNX7gw4g0GzH",
        "outputId": "8366e47d-4462-49f4-e6ea-ea3434585787"
      },
      "execution_count": 52,
      "outputs": [
        {
          "output_type": "stream",
          "name": "stdout",
          "text": [
            "Dados inseridos com sucesso.\n"
          ]
        }
      ]
    },
    {
      "cell_type": "code",
      "source": [
        "# Gerar tabela temporária?\n",
        "# Ler os dados e salvar em listas e então tratá-los?\n",
        "\n",
        "# Consulta base de dados\n",
        "base_dados = cur.execute(\"SELECT * FROM transferencias as T LEFT JOIN receitasDePara as R ON T.numeroReceitaOrcamentariaUG = R. numeroReceitaOrcamentariaUG_2 where R.classificacaoSerec = FPM\" )\n",
        "base_dados = cur.fetchall()"
      ],
      "metadata": {
        "id": "s9vjmi-o0Day"
      },
      "execution_count": null,
      "outputs": []
    },
    {
      "cell_type": "code",
      "source": [
        "# Após decidir como organizar os dados, tratá-los.\n",
        "from pandas.core.frame import DataFrame\n",
        "base_dados = DataFrame(base_dados)\n",
        "base_dados.columns = ['Data', 'Ano', 'OrigemReceita', 'DeducaoReceita', 'CodReceita', 'DescricaoReceita', 'Valor']\n",
        "base_dados['Data'] = pd.to_datetime(base_dados['Data'])\n",
        "base_dados['Valor'] = base_dados['Valor'].astype(float)"
      ],
      "metadata": {
        "id": "4p50P99d4X2n"
      },
      "execution_count": null,
      "outputs": []
    },
    {
      "cell_type": "code",
      "source": [
        "base_dados.head()"
      ],
      "metadata": {
        "colab": {
          "base_uri": "https://localhost:8080/",
          "height": 250
        },
        "id": "yK13atey5RKG",
        "outputId": "2f4daaa4-e4f7-4234-a18c-c65e65bbe224"
      },
      "execution_count": null,
      "outputs": [
        {
          "output_type": "execute_result",
          "data": {
            "text/plain": [
              "        Data   Ano      OrigemReceita DeducaoReceita CodReceita  \\\n",
              "0 2012-02-01  2012  Alienação de Bens              9  917220101   \n",
              "1 2012-04-01  2012  Alienação de Bens              9  917220101   \n",
              "2 2012-05-01  2012  Alienação de Bens              9  917220101   \n",
              "3 2012-08-01  2012  Alienação de Bens              9  917220102   \n",
              "4 2012-09-01  2012  Alienação de Bens              9  917220104   \n",
              "\n",
              "                                    DescricaoReceita       Valor  \n",
              "0             Dedução de Cota-Parte do ICMS - FUNDEB -3655348.80  \n",
              "1             Dedução de Cota-Parte do ICMS - FUNDEB -2974700.38  \n",
              "2             Dedução de Cota-Parte do ICMS - FUNDEB -4365097.58  \n",
              "3             Dedução de Cota-Parte do IPVA - FUNDEB    -3891.64  \n",
              "4  Dedução de Cota-Parte do IPI sobre Exportação ...    -7644.57  "
            ],
            "text/html": [
              "\n",
              "  <div id=\"df-42bf8d8e-8d08-49d1-b38a-263b0d383140\">\n",
              "    <div class=\"colab-df-container\">\n",
              "      <div>\n",
              "<style scoped>\n",
              "    .dataframe tbody tr th:only-of-type {\n",
              "        vertical-align: middle;\n",
              "    }\n",
              "\n",
              "    .dataframe tbody tr th {\n",
              "        vertical-align: top;\n",
              "    }\n",
              "\n",
              "    .dataframe thead th {\n",
              "        text-align: right;\n",
              "    }\n",
              "</style>\n",
              "<table border=\"1\" class=\"dataframe\">\n",
              "  <thead>\n",
              "    <tr style=\"text-align: right;\">\n",
              "      <th></th>\n",
              "      <th>Data</th>\n",
              "      <th>Ano</th>\n",
              "      <th>OrigemReceita</th>\n",
              "      <th>DeducaoReceita</th>\n",
              "      <th>CodReceita</th>\n",
              "      <th>DescricaoReceita</th>\n",
              "      <th>Valor</th>\n",
              "    </tr>\n",
              "  </thead>\n",
              "  <tbody>\n",
              "    <tr>\n",
              "      <th>0</th>\n",
              "      <td>2012-02-01</td>\n",
              "      <td>2012</td>\n",
              "      <td>Alienação de Bens</td>\n",
              "      <td>9</td>\n",
              "      <td>917220101</td>\n",
              "      <td>Dedução de Cota-Parte do ICMS - FUNDEB</td>\n",
              "      <td>-3655348.80</td>\n",
              "    </tr>\n",
              "    <tr>\n",
              "      <th>1</th>\n",
              "      <td>2012-04-01</td>\n",
              "      <td>2012</td>\n",
              "      <td>Alienação de Bens</td>\n",
              "      <td>9</td>\n",
              "      <td>917220101</td>\n",
              "      <td>Dedução de Cota-Parte do ICMS - FUNDEB</td>\n",
              "      <td>-2974700.38</td>\n",
              "    </tr>\n",
              "    <tr>\n",
              "      <th>2</th>\n",
              "      <td>2012-05-01</td>\n",
              "      <td>2012</td>\n",
              "      <td>Alienação de Bens</td>\n",
              "      <td>9</td>\n",
              "      <td>917220101</td>\n",
              "      <td>Dedução de Cota-Parte do ICMS - FUNDEB</td>\n",
              "      <td>-4365097.58</td>\n",
              "    </tr>\n",
              "    <tr>\n",
              "      <th>3</th>\n",
              "      <td>2012-08-01</td>\n",
              "      <td>2012</td>\n",
              "      <td>Alienação de Bens</td>\n",
              "      <td>9</td>\n",
              "      <td>917220102</td>\n",
              "      <td>Dedução de Cota-Parte do IPVA - FUNDEB</td>\n",
              "      <td>-3891.64</td>\n",
              "    </tr>\n",
              "    <tr>\n",
              "      <th>4</th>\n",
              "      <td>2012-09-01</td>\n",
              "      <td>2012</td>\n",
              "      <td>Alienação de Bens</td>\n",
              "      <td>9</td>\n",
              "      <td>917220104</td>\n",
              "      <td>Dedução de Cota-Parte do IPI sobre Exportação ...</td>\n",
              "      <td>-7644.57</td>\n",
              "    </tr>\n",
              "  </tbody>\n",
              "</table>\n",
              "</div>\n",
              "      <button class=\"colab-df-convert\" onclick=\"convertToInteractive('df-42bf8d8e-8d08-49d1-b38a-263b0d383140')\"\n",
              "              title=\"Convert this dataframe to an interactive table.\"\n",
              "              style=\"display:none;\">\n",
              "        \n",
              "  <svg xmlns=\"http://www.w3.org/2000/svg\" height=\"24px\"viewBox=\"0 0 24 24\"\n",
              "       width=\"24px\">\n",
              "    <path d=\"M0 0h24v24H0V0z\" fill=\"none\"/>\n",
              "    <path d=\"M18.56 5.44l.94 2.06.94-2.06 2.06-.94-2.06-.94-.94-2.06-.94 2.06-2.06.94zm-11 1L8.5 8.5l.94-2.06 2.06-.94-2.06-.94L8.5 2.5l-.94 2.06-2.06.94zm10 10l.94 2.06.94-2.06 2.06-.94-2.06-.94-.94-2.06-.94 2.06-2.06.94z\"/><path d=\"M17.41 7.96l-1.37-1.37c-.4-.4-.92-.59-1.43-.59-.52 0-1.04.2-1.43.59L10.3 9.45l-7.72 7.72c-.78.78-.78 2.05 0 2.83L4 21.41c.39.39.9.59 1.41.59.51 0 1.02-.2 1.41-.59l7.78-7.78 2.81-2.81c.8-.78.8-2.07 0-2.86zM5.41 20L4 18.59l7.72-7.72 1.47 1.35L5.41 20z\"/>\n",
              "  </svg>\n",
              "      </button>\n",
              "      \n",
              "  <style>\n",
              "    .colab-df-container {\n",
              "      display:flex;\n",
              "      flex-wrap:wrap;\n",
              "      gap: 12px;\n",
              "    }\n",
              "\n",
              "    .colab-df-convert {\n",
              "      background-color: #E8F0FE;\n",
              "      border: none;\n",
              "      border-radius: 50%;\n",
              "      cursor: pointer;\n",
              "      display: none;\n",
              "      fill: #1967D2;\n",
              "      height: 32px;\n",
              "      padding: 0 0 0 0;\n",
              "      width: 32px;\n",
              "    }\n",
              "\n",
              "    .colab-df-convert:hover {\n",
              "      background-color: #E2EBFA;\n",
              "      box-shadow: 0px 1px 2px rgba(60, 64, 67, 0.3), 0px 1px 3px 1px rgba(60, 64, 67, 0.15);\n",
              "      fill: #174EA6;\n",
              "    }\n",
              "\n",
              "    [theme=dark] .colab-df-convert {\n",
              "      background-color: #3B4455;\n",
              "      fill: #D2E3FC;\n",
              "    }\n",
              "\n",
              "    [theme=dark] .colab-df-convert:hover {\n",
              "      background-color: #434B5C;\n",
              "      box-shadow: 0px 1px 3px 1px rgba(0, 0, 0, 0.15);\n",
              "      filter: drop-shadow(0px 1px 2px rgba(0, 0, 0, 0.3));\n",
              "      fill: #FFFFFF;\n",
              "    }\n",
              "  </style>\n",
              "\n",
              "      <script>\n",
              "        const buttonEl =\n",
              "          document.querySelector('#df-42bf8d8e-8d08-49d1-b38a-263b0d383140 button.colab-df-convert');\n",
              "        buttonEl.style.display =\n",
              "          google.colab.kernel.accessAllowed ? 'block' : 'none';\n",
              "\n",
              "        async function convertToInteractive(key) {\n",
              "          const element = document.querySelector('#df-42bf8d8e-8d08-49d1-b38a-263b0d383140');\n",
              "          const dataTable =\n",
              "            await google.colab.kernel.invokeFunction('convertToInteractive',\n",
              "                                                     [key], {});\n",
              "          if (!dataTable) return;\n",
              "\n",
              "          const docLinkHtml = 'Like what you see? Visit the ' +\n",
              "            '<a target=\"_blank\" href=https://colab.research.google.com/notebooks/data_table.ipynb>data table notebook</a>'\n",
              "            + ' to learn more about interactive tables.';\n",
              "          element.innerHTML = '';\n",
              "          dataTable['output_type'] = 'display_data';\n",
              "          await google.colab.output.renderOutput(dataTable, element);\n",
              "          const docLink = document.createElement('div');\n",
              "          docLink.innerHTML = docLinkHtml;\n",
              "          element.appendChild(docLink);\n",
              "        }\n",
              "      </script>\n",
              "    </div>\n",
              "  </div>\n",
              "  "
            ]
          },
          "metadata": {},
          "execution_count": 44
        }
      ]
    },
    {
      "cell_type": "code",
      "source": [
        "base_dados.info()"
      ],
      "metadata": {
        "colab": {
          "base_uri": "https://localhost:8080/"
        },
        "id": "rxykyoOh5WLd",
        "outputId": "283428a8-a671-4b84-afd1-97d72dfb8bdf"
      },
      "execution_count": null,
      "outputs": [
        {
          "output_type": "stream",
          "name": "stdout",
          "text": [
            "<class 'pandas.core.frame.DataFrame'>\n",
            "RangeIndex: 13743 entries, 0 to 13742\n",
            "Data columns (total 7 columns):\n",
            " #   Column            Non-Null Count  Dtype         \n",
            "---  ------            --------------  -----         \n",
            " 0   Data              13743 non-null  datetime64[ns]\n",
            " 1   Ano               13743 non-null  object        \n",
            " 2   OrigemReceita     13743 non-null  object        \n",
            " 3   DeducaoReceita    13743 non-null  object        \n",
            " 4   CodReceita        13743 non-null  object        \n",
            " 5   DescricaoReceita  13743 non-null  object        \n",
            " 6   Valor             13743 non-null  float64       \n",
            "dtypes: datetime64[ns](1), float64(1), object(5)\n",
            "memory usage: 751.7+ KB\n"
          ]
        }
      ]
    },
    {
      "cell_type": "code",
      "source": [
        "# Filtrar receitas de interesse\n",
        "# Confirmar valor com arrecadação Município\n",
        "# Consolidar por ano\n",
        "# Aplicar modelos > função?"
      ],
      "metadata": {
        "id": "oIB5lNOLSRgL"
      },
      "execution_count": null,
      "outputs": []
    }
  ]
}